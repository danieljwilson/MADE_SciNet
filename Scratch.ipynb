{
 "cells": [
  {
   "cell_type": "markdown",
   "metadata": {
    "toc": "true"
   },
   "source": [
    "# Table of Contents\n",
    " <p><div class=\"lev1 toc-item\"><a href=\"#IMPORTS\" data-toc-modified-id=\"IMPORTS-1\"><span class=\"toc-item-num\">1&nbsp;&nbsp;</span>IMPORTS</a></div><div class=\"lev1 toc-item\"><a href=\"#Get-fixation-distributions\" data-toc-modified-id=\"Get-fixation-distributions-2\"><span class=\"toc-item-num\">2&nbsp;&nbsp;</span>Get fixation distributions</a></div><div class=\"lev1 toc-item\"><a href=\"#Switching-Tools\" data-toc-modified-id=\"Switching-Tools-3\"><span class=\"toc-item-num\">3&nbsp;&nbsp;</span>Switching Tools</a></div><div class=\"lev1 toc-item\"><a href=\"#Fitting\" data-toc-modified-id=\"Fitting-4\"><span class=\"toc-item-num\">4&nbsp;&nbsp;</span>Fitting</a></div>"
   ]
  },
  {
   "cell_type": "markdown",
   "metadata": {},
   "source": [
    "# IMPORTS"
   ]
  },
  {
   "cell_type": "code",
   "execution_count": 1,
   "metadata": {
    "ExecuteTime": {
     "end_time": "2017-11-23T07:31:17.268505Z",
     "start_time": "2017-11-23T07:31:16.365517Z"
    },
    "collapsed": false
   },
   "outputs": [
    {
     "name": "stderr",
     "output_type": "stream",
     "text": [
      "/scinet/gpc/Applications/anaconda3/4.2.0_hub/lib/python3.5/site-packages/matplotlib/font_manager.py:273: UserWarning: Matplotlib is building the font cache using fc-list. This may take a moment.\n",
      "  warnings.warn('Matplotlib is building the font cache using fc-list. This may take a moment.')\n",
      "/scinet/gpc/Applications/anaconda3/4.2.0_hub/lib/python3.5/site-packages/matplotlib/font_manager.py:273: UserWarning: Matplotlib is building the font cache using fc-list. This may take a moment.\n",
      "  warnings.warn('Matplotlib is building the font cache using fc-list. This may take a moment.')\n"
     ]
    }
   ],
   "source": [
    "import numpy as np\n",
    "import pandas as pd\n",
    "import matplotlib.pyplot as plt\n",
    "import time\n",
    "import itertools\n",
    "import os\n",
    "import glob\n",
    "import sys\n",
    "# display matplotlib graphs \n",
    "%matplotlib inline"
   ]
  },
  {
   "cell_type": "code",
   "execution_count": 3,
   "metadata": {
    "collapsed": false
   },
   "outputs": [
    {
     "data": {
      "text/plain": [
       "'3.5.2 |Anaconda custom (64-bit)| (default, Jul  2 2016, 17:53:06) \\n[GCC 4.4.7 20120313 (Red Hat 4.4.7-1)]'"
      ]
     },
     "execution_count": 3,
     "metadata": {},
     "output_type": "execute_result"
    }
   ],
   "source": [
    "sys.version"
   ]
  },
  {
   "cell_type": "code",
   "execution_count": 2,
   "metadata": {
    "ExecuteTime": {
     "end_time": "2017-11-16T13:48:46.482286Z",
     "start_time": "2017-11-16T13:48:46.475818Z"
    },
    "collapsed": true
   },
   "outputs": [],
   "source": [
    "# Add path where custom modules are saved\n",
    "sys.path.append('/Users/djw/Dropbox/PROGRAMMING/_NEURO/2017_MADE/aDDM_DJW/functions')\n",
    "import utils_addm                         # for importing custom module"
   ]
  },
  {
   "cell_type": "code",
   "execution_count": 3,
   "metadata": {
    "ExecuteTime": {
     "end_time": "2017-11-16T13:48:47.327574Z",
     "start_time": "2017-11-16T13:48:47.324201Z"
    },
    "collapsed": true
   },
   "outputs": [],
   "source": [
    "expdata_file_name = \"data/made_v2/expdata.csv\"\n",
    "fixations_file_name = \"data/made_v2/fixations.csv\""
   ]
  },
  {
   "cell_type": "code",
   "execution_count": 5,
   "metadata": {
    "ExecuteTime": {
     "end_time": "2017-11-23T07:30:56.363162Z",
     "start_time": "2017-11-23T07:30:56.354932Z"
    },
    "collapsed": true
   },
   "outputs": [],
   "source": [
    "import glob\n",
    "face_list = glob.glob('/Users/djw/Dropbox/PHD/CENDRI/Project/Code/LabSharedFolder/MADE01/CODE/v3_FractionalWeights/images/morphs/face/*.jpg')\n",
    "house_list = glob.glob('/Users/djw/Dropbox/PHD/CENDRI/Project/Code/LabSharedFolder/MADE01/CODE/v3_FractionalWeights/images/morphs/house/*.jpg')\n",
    "\n",
    "# create values to match to stimuli\n",
    "values = np.arange(-1.,1.01,0.02)\n",
    "\n",
    "# Get rid of extra digits\n",
    "for i in range(len(values)):\n",
    "    values[i] = round(values[i], 2)\n",
    "\n",
    "# Create Data Frames\n",
    "house_df = pd.DataFrame(\n",
    "    {'value': values,\n",
    "     'exemplar': house_list\n",
    "    })\n",
    "\n",
    "face_df = pd.DataFrame(\n",
    "    {'value': values,\n",
    "     'exemplar': face_list\n",
    "    })"
   ]
  },
  {
   "cell_type": "code",
   "execution_count": 16,
   "metadata": {
    "ExecuteTime": {
     "end_time": "2017-11-23T08:02:59.923101Z",
     "start_time": "2017-11-23T08:02:59.917237Z"
    },
    "collapsed": false
   },
   "outputs": [
    {
     "data": {
      "text/plain": [
       "'/Users/djw/Dropbox/PHD/CENDRI/Project/Code/LabSharedFolder/MADE01/CODE/v3_FractionalWeights/images/morphs/face/faceMorph000.jpg'"
      ]
     },
     "execution_count": 16,
     "metadata": {},
     "output_type": "execute_result"
    }
   ],
   "source": [
    "face_df.exemplar[0]"
   ]
  },
  {
   "cell_type": "code",
   "execution_count": 7,
   "metadata": {
    "ExecuteTime": {
     "end_time": "2017-11-23T07:31:53.728215Z",
     "start_time": "2017-11-23T07:31:53.715125Z"
    },
    "collapsed": true
   },
   "outputs": [],
   "source": [
    "# create values to match to stimuli\n",
    "values = np.arange(-1.,1.01,0.02)\n",
    "\n",
    "# Get rid of extra digits\n",
    "for i in range(len(values)):\n",
    "    values[i] = round(values[i], 2)\n",
    "\n",
    "# Create Data Frames\n",
    "house_df = pd.DataFrame(\n",
    "    {'value': values,\n",
    "     'exemplar': house_list\n",
    "    })\n",
    "\n",
    "face_df = pd.DataFrame(\n",
    "    {'value': values,\n",
    "     'exemplar': face_list\n",
    "    })\n"
   ]
  },
  {
   "cell_type": "markdown",
   "metadata": {},
   "source": [
    "# Get fixation distributions"
   ]
  },
  {
   "cell_type": "markdown",
   "metadata": {},
   "source": [
    "# Switching Tools"
   ]
  },
  {
   "cell_type": "markdown",
   "metadata": {
    "collapsed": true
   },
   "source": [
    "# Fitting"
   ]
  },
  {
   "cell_type": "code",
   "execution_count": 4,
   "metadata": {
    "ExecuteTime": {
     "end_time": "2017-11-16T13:48:51.929140Z",
     "start_time": "2017-11-16T13:48:51.921638Z"
    },
    "collapsed": true
   },
   "outputs": [],
   "source": [
    "path = \"/Users/djw/Dropbox/PROGRAMMING/_NEURO/2017_MADE/aDDM_DJW/outputs/2017-11-16/\" # path to saved sim shelve file\n",
    "\n",
    "def join_all_sims(path):\n",
    "    \"\"\"\n",
    "    \"\"\"\n",
    "    \n",
    "    all_files = glob.glob(os.path.join(path, \"*.csv\"))                        # advisable to use os.path.join as this makes concatenation OS independent\n",
    "\n",
    "    dfs = {}  # create dict to hold dataframes\n",
    "    x = 0\n",
    "\n",
    "    for f in all_files:\n",
    "        dfs[x] = pd.read_csv(f)\n",
    "        dfs[x] = dfs[x].drop(dfs[x].columns[[0]], axis=1)  # get rid of unnamed column\n",
    "        x+=1\n",
    "    return dfs"
   ]
  },
  {
   "cell_type": "code",
   "execution_count": 5,
   "metadata": {
    "ExecuteTime": {
     "end_time": "2017-11-16T13:49:46.141416Z",
     "start_time": "2017-11-16T13:48:52.818757Z"
    },
    "collapsed": true
   },
   "outputs": [],
   "source": [
    "dfs = join_all_sims(path)"
   ]
  },
  {
   "cell_type": "code",
   "execution_count": 8,
   "metadata": {
    "ExecuteTime": {
     "end_time": "2017-11-16T13:57:09.728609Z",
     "start_time": "2017-11-16T13:56:02.880747Z"
    },
    "collapsed": true,
    "scrolled": true
   },
   "outputs": [],
   "source": [
    "# Get left and right values from data\n",
    "df = pd.DataFrame.from_csv(expdata_file_name, header=0, sep=\",\", index_col=None)\n",
    "\n",
    "item_left_val = np.unique(df.item_left_val)\n",
    "item_right_val = np.unique(df.item_right_val)\n",
    "\n",
    "values = list(itertools.product(item_left_val, item_right_val))\n",
    "values_list = np.around(values,decimals=2)   # currently produces 81 combos\n",
    "\n",
    "nonDec = 0.8\n",
    "\n",
    "# Function to calculate rt Distribution for simulated parameter combos\n",
    "rt_dist = rtDistFunc(nonDec, values_list, dfs)\n",
    "\n",
    "# Save RT Dist (pickle or shelve)\n",
    "\n",
    "# Figure out how to shelve correctly (maybe just can't interrupt?)\n",
    "# See if can extract params\n",
    "# Fit 1/2 trials\n",
    "# Test Fit"
   ]
  },
  {
   "cell_type": "code",
   "execution_count": 11,
   "metadata": {
    "ExecuteTime": {
     "end_time": "2017-11-16T14:28:00.272897Z",
     "start_time": "2017-11-16T14:28:00.268957Z"
    },
    "collapsed": true
   },
   "outputs": [],
   "source": [
    "x = rt_dist['0.0514285714286_0.278571428571_0.325']['1.63_0.42'][:,0]\n",
    "y_accept = rt_dist['0.0514285714286_0.278571428571_0.325']['1.63_0.42'][:,1]\n",
    "y_reject = rt_dist['0.01_0.05_0.1']['1.63_0.42'][:,2]"
   ]
  },
  {
   "cell_type": "code",
   "execution_count": 18,
   "metadata": {
    "ExecuteTime": {
     "end_time": "2017-11-16T15:55:26.560803Z",
     "start_time": "2017-11-16T15:55:26.554492Z"
    },
    "collapsed": false
   },
   "outputs": [
    {
     "data": {
      "text/plain": [
       "9320"
      ]
     },
     "execution_count": 18,
     "metadata": {},
     "output_type": "execute_result"
    }
   ],
   "source": [
    "sys.getsizeof(dfs)"
   ]
  },
  {
   "cell_type": "code",
   "execution_count": 17,
   "metadata": {
    "ExecuteTime": {
     "end_time": "2017-11-16T15:54:55.617696Z",
     "start_time": "2017-11-16T15:54:55.613102Z"
    },
    "collapsed": false
   },
   "outputs": [
    {
     "data": {
      "text/plain": [
       "9320"
      ]
     },
     "execution_count": 17,
     "metadata": {},
     "output_type": "execute_result"
    }
   ],
   "source": [
    "sys.getsizeof(rt_dist)"
   ]
  },
  {
   "cell_type": "code",
   "execution_count": null,
   "metadata": {
    "ExecuteTime": {
     "end_time": "2017-11-16T14:28:25.961641Z",
     "start_time": "2017-11-16T14:28:00.730Z"
    },
    "collapsed": true
   },
   "outputs": [],
   "source": [
    "plt.plot(x,y_accept)\n"
   ]
  },
  {
   "cell_type": "code",
   "execution_count": 7,
   "metadata": {
    "ExecuteTime": {
     "end_time": "2017-11-16T13:55:54.825957Z",
     "start_time": "2017-11-16T13:55:54.779281Z"
    },
    "collapsed": true
   },
   "outputs": [],
   "source": [
    "def rtDistFunc(nonDec, values_list, dfs):\n",
    "    \n",
    "    # Create upper level dict to hold param combos\n",
    "    rt_dist = {}\n",
    "    \n",
    "    # Create bins for RT distribution\n",
    "    # ?? Add in NDT or not??\n",
    "    bins = np.arange(nonDec,10.1,.1)             # start, stop, step (used for hist)\n",
    "    binz = np.delete(bins,-1)                    # delete the last value so bin number = count number\n",
    "    \n",
    "    # Make list of all value combos (or supply as argument)\n",
    "    values_list_keys = []\n",
    "    for i in range(len(values_list)):\n",
    "        values_list_keys.append(str(values_list[i,0]) + '_' + str(values_list[i,1]))\n",
    "    \n",
    "    for d in dfs:\n",
    "\n",
    "        # Name for outer dict based on the valWeight and upperBound with an integer (as STRING) leading\n",
    "        param_combos = str(dfs[d].scaling[0]) + '_' + str(dfs[d].upper_boundary[0]) + '_' + str(dfs[d].theta[0])\n",
    "        # Create nested dict to hold values\n",
    "        rt_dist[param_combos] = {}\n",
    "                \n",
    "        # create subsets of RT for each value combo\n",
    "        for i in range(len(values_list)):\n",
    "            data = dfs[d][(dfs[d].val_face == values_list[i,0]) & (dfs[d].val_house == values_list[i,1])]\n",
    "            data0 = data[data.resp == -1]             # select reject responses\n",
    "            data1 = data[data.resp == 1]              # select accept responses\n",
    "\n",
    "            # Create RT distrib (counts/bin)\n",
    "            count0, bins = np.histogram(data0.rt, bins)  # unpack the reject counts in each bin\n",
    "            count1, bins = np.histogram(data1.rt, bins)  # unpack the accept counts in each bin\n",
    "\n",
    "            length = float(sum(count0) + sum(count1)) # number of non NaN values\n",
    "\n",
    "            # initialize array to hold Distribs\n",
    "            distrib = np.ndarray((len(count0), 3))\n",
    "            distrib[:,0] = binz                       # bin values from START of bin\n",
    "            distrib[:,1] = count0 /length              # reject\n",
    "            distrib[:,2] = count1 /length              # accept\n",
    "\n",
    "                        # select the rows with given drift  # remove all columns except rt and resp\n",
    "            value_key = values_list_keys[i]\n",
    "            rt_dist[param_combos][value_key] = distrib\n",
    "    \n",
    "    return rt_dist\n",
    "            "
   ]
  },
  {
   "cell_type": "code",
   "execution_count": 106,
   "metadata": {
    "ExecuteTime": {
     "end_time": "2017-11-16T06:20:38.932405Z",
     "start_time": "2017-11-16T06:20:38.893812Z"
    },
    "collapsed": true
   },
   "outputs": [],
   "source": [
    "dfsActualParticipant = pd.read_csv('/Users/djw/Dropbox/PROGRAMMING/PythonLearning/DDM/examples/cleaned_oneImage_Mult.csv')\n",
    "\n",
    "dfsActualParticipant.drop(dfsActualParticipant.columns[[3]], axis=1, inplace=True)\n",
    "dfsActualParticipant.rename(columns={\"summedVal\": 'value',\n",
    "                                     'acceptReject': 'resp'}, inplace=True)\n",
    "\n",
    "dfsActualParticipant.loc[dfsActualParticipant['resp'] == 0, 'resp'] = -1.\n"
   ]
  },
  {
   "cell_type": "code",
   "execution_count": 107,
   "metadata": {
    "ExecuteTime": {
     "end_time": "2017-11-16T06:20:41.167790Z",
     "start_time": "2017-11-16T06:20:41.156615Z"
    },
    "collapsed": true
   },
   "outputs": [],
   "source": [
    "dfsActualParticipant.drop(dfsActualParticipant.columns[4:], axis=1, inplace=True)"
   ]
  },
  {
   "cell_type": "code",
   "execution_count": 108,
   "metadata": {
    "ExecuteTime": {
     "end_time": "2017-11-16T06:20:54.084461Z",
     "start_time": "2017-11-16T06:20:54.067456Z"
    },
    "collapsed": false
   },
   "outputs": [
    {
     "data": {
      "text/html": [
       "<div>\n",
       "<style>\n",
       "    .dataframe thead tr:only-child th {\n",
       "        text-align: right;\n",
       "    }\n",
       "\n",
       "    .dataframe thead th {\n",
       "        text-align: left;\n",
       "    }\n",
       "\n",
       "    .dataframe tbody tr th {\n",
       "        vertical-align: top;\n",
       "    }\n",
       "</style>\n",
       "<table border=\"1\" class=\"dataframe\">\n",
       "  <thead>\n",
       "    <tr style=\"text-align: right;\">\n",
       "      <th></th>\n",
       "      <th>subj_idx</th>\n",
       "      <th>value</th>\n",
       "      <th>rt</th>\n",
       "      <th>resp</th>\n",
       "    </tr>\n",
       "  </thead>\n",
       "  <tbody>\n",
       "    <tr>\n",
       "      <th>0</th>\n",
       "      <td>1</td>\n",
       "      <td>3.04</td>\n",
       "      <td>8.883308</td>\n",
       "      <td>1.0</td>\n",
       "    </tr>\n",
       "    <tr>\n",
       "      <th>1</th>\n",
       "      <td>1</td>\n",
       "      <td>-0.14</td>\n",
       "      <td>4.550172</td>\n",
       "      <td>1.0</td>\n",
       "    </tr>\n",
       "    <tr>\n",
       "      <th>2</th>\n",
       "      <td>1</td>\n",
       "      <td>0.28</td>\n",
       "      <td>3.716686</td>\n",
       "      <td>1.0</td>\n",
       "    </tr>\n",
       "    <tr>\n",
       "      <th>3</th>\n",
       "      <td>1</td>\n",
       "      <td>-0.52</td>\n",
       "      <td>4.516826</td>\n",
       "      <td>-1.0</td>\n",
       "    </tr>\n",
       "    <tr>\n",
       "      <th>4</th>\n",
       "      <td>1</td>\n",
       "      <td>0.04</td>\n",
       "      <td>2.966837</td>\n",
       "      <td>1.0</td>\n",
       "    </tr>\n",
       "  </tbody>\n",
       "</table>\n",
       "</div>"
      ],
      "text/plain": [
       "   subj_idx  value        rt  resp\n",
       "0         1   3.04  8.883308   1.0\n",
       "1         1  -0.14  4.550172   1.0\n",
       "2         1   0.28  3.716686   1.0\n",
       "3         1  -0.52  4.516826  -1.0\n",
       "4         1   0.04  2.966837   1.0"
      ]
     },
     "execution_count": 108,
     "metadata": {},
     "output_type": "execute_result"
    }
   ],
   "source": [
    "dfsActualParticipant.head()"
   ]
  },
  {
   "cell_type": "code",
   "execution_count": 110,
   "metadata": {
    "ExecuteTime": {
     "end_time": "2017-11-16T06:21:50.501998Z",
     "start_time": "2017-11-16T06:21:50.484110Z"
    },
    "collapsed": true,
    "scrolled": true
   },
   "outputs": [],
   "source": [
    "participants = pd.read_csv(expdata_file_name)"
   ]
  },
  {
   "cell_type": "code",
   "execution_count": 111,
   "metadata": {
    "ExecuteTime": {
     "end_time": "2017-11-16T06:21:57.502015Z",
     "start_time": "2017-11-16T06:21:57.486999Z"
    },
    "collapsed": false
   },
   "outputs": [
    {
     "data": {
      "text/html": [
       "<div>\n",
       "<style>\n",
       "    .dataframe thead tr:only-child th {\n",
       "        text-align: right;\n",
       "    }\n",
       "\n",
       "    .dataframe thead th {\n",
       "        text-align: left;\n",
       "    }\n",
       "\n",
       "    .dataframe tbody tr th {\n",
       "        vertical-align: top;\n",
       "    }\n",
       "</style>\n",
       "<table border=\"1\" class=\"dataframe\">\n",
       "  <thead>\n",
       "    <tr style=\"text-align: right;\">\n",
       "      <th></th>\n",
       "      <th>parcode</th>\n",
       "      <th>trial</th>\n",
       "      <th>rt</th>\n",
       "      <th>choice</th>\n",
       "      <th>item_left</th>\n",
       "      <th>item_right</th>\n",
       "      <th>item_left_val</th>\n",
       "      <th>item_right_val</th>\n",
       "    </tr>\n",
       "  </thead>\n",
       "  <tbody>\n",
       "    <tr>\n",
       "      <th>0</th>\n",
       "      <td>1</td>\n",
       "      <td>1</td>\n",
       "      <td>8883.308377</td>\n",
       "      <td>1</td>\n",
       "      <td>1.32</td>\n",
       "      <td>1.72</td>\n",
       "      <td>1.63</td>\n",
       "      <td>1.69</td>\n",
       "    </tr>\n",
       "    <tr>\n",
       "      <th>1</th>\n",
       "      <td>1</td>\n",
       "      <td>2</td>\n",
       "      <td>4550.171639</td>\n",
       "      <td>1</td>\n",
       "      <td>0.38</td>\n",
       "      <td>-0.52</td>\n",
       "      <td>0.41</td>\n",
       "      <td>-0.39</td>\n",
       "    </tr>\n",
       "    <tr>\n",
       "      <th>2</th>\n",
       "      <td>1</td>\n",
       "      <td>3</td>\n",
       "      <td>3716.686491</td>\n",
       "      <td>1</td>\n",
       "      <td>0.96</td>\n",
       "      <td>-0.68</td>\n",
       "      <td>0.89</td>\n",
       "      <td>-0.66</td>\n",
       "    </tr>\n",
       "    <tr>\n",
       "      <th>3</th>\n",
       "      <td>1</td>\n",
       "      <td>4</td>\n",
       "      <td>4516.825782</td>\n",
       "      <td>-1</td>\n",
       "      <td>-0.94</td>\n",
       "      <td>0.42</td>\n",
       "      <td>-0.89</td>\n",
       "      <td>0.42</td>\n",
       "    </tr>\n",
       "    <tr>\n",
       "      <th>4</th>\n",
       "      <td>1</td>\n",
       "      <td>5</td>\n",
       "      <td>2966.836687</td>\n",
       "      <td>1</td>\n",
       "      <td>-0.24</td>\n",
       "      <td>0.28</td>\n",
       "      <td>-0.37</td>\n",
       "      <td>0.42</td>\n",
       "    </tr>\n",
       "  </tbody>\n",
       "</table>\n",
       "</div>"
      ],
      "text/plain": [
       "   parcode  trial           rt  choice  item_left  item_right  item_left_val  \\\n",
       "0        1      1  8883.308377       1       1.32        1.72           1.63   \n",
       "1        1      2  4550.171639       1       0.38       -0.52           0.41   \n",
       "2        1      3  3716.686491       1       0.96       -0.68           0.89   \n",
       "3        1      4  4516.825782      -1      -0.94        0.42          -0.89   \n",
       "4        1      5  2966.836687       1      -0.24        0.28          -0.37   \n",
       "\n",
       "   item_right_val  \n",
       "0            1.69  \n",
       "1           -0.39  \n",
       "2           -0.66  \n",
       "3            0.42  \n",
       "4            0.42  "
      ]
     },
     "execution_count": 111,
     "metadata": {},
     "output_type": "execute_result"
    }
   ],
   "source": [
    "participants.head()\n",
    "# Divide RT by 1000\n",
    "# rename item left val and right val to face and house\n"
   ]
  },
  {
   "cell_type": "code",
   "execution_count": null,
   "metadata": {
    "collapsed": true
   },
   "outputs": [],
   "source": [
    "# Value to replace zero values...\n",
    "epsilon = np.finfo(float).eps\n",
    "\n",
    "# TURN INTO FUNCTION\n",
    "for key in np.sort(rtDist.keys()):                                   # go through all keys of rtDist (which are the paramCombos)\n",
    "    rtDistList = []    # create list to store data\n",
    "\n",
    "    valWeight = float(key.split('_')[0])                             # splitting and choosing first element (weight)\n",
    "    for x in range(len(dfsActualParticipant)):\n",
    "        driftVal = round((dfsActualParticipant.value[x] * valWeight), 8)    # calculating driftVal based on value and weight\n",
    "        \n",
    "        row = int((dfsActualParticipant.rt[x]-nonDec)/.1)                # increment by 1 for every increase in .1 seconds (taking into account ndt)\n",
    "        if (dfsActualParticipant.resp[x] == -1):                     # if reject\n",
    "            rtDistList.append(rtDist[key][driftVal][row,1])\n",
    "            #dfsSimParticipant[s][key][x] = rtDist[key][driftVal][row,1]\n",
    "\n",
    "        else:                                                        # if accept\n",
    "            rtDistList.append(rtDist[key][driftVal][row,2])\n",
    "            #dfsSimParticipant[s][key][x] = rtDist[key][driftVal][row,2]\n",
    "\n",
    "    dfsActualParticipant[key] = rtDistList                           # Create column from list\n",
    "    dfsActualParticipant = dfsActualParticipant.replace(to_replace=0, value=epsilon)     # Remove values of 0 and replace with Epsilon\n",
    "\n",
    "#dfsSimParticipant[s] = np.log(dfsSimParticipant[s].iloc[:,4:]) * -1  # Convert to natural log and Remove unnecessary columns\n",
    "dfsActualParticipant = np.log(dfsActualParticipant.iloc[:,4:]) * -1  # Convert to natural log and Remove unnecessary columns"
   ]
  },
  {
   "cell_type": "code",
   "execution_count": null,
   "metadata": {
    "collapsed": true
   },
   "outputs": [],
   "source": [
    "subject = {}\n",
    "\n",
    "for x in range(len(dfsSimParticipant)):\n",
    "    subject[x] = pd.DataFrame(dfsSimParticipant[x].sum(axis=0))\n",
    "    \n",
    "    weight = []\n",
    "    boundary = []\n",
    "    \n",
    "    for m in range(len(subject[x].index)):\n",
    "        weight.append(float(subject[x].index[m].split('_')[0]))      # create list of weight values\n",
    "        boundary.append(float(subject[x].index[m].split('_')[1]))    # create list of boundary values\n",
    "\n",
    "    subject[x]['weight'] = weight                                       # create column with weight values\n",
    "    subject[x]['boundary'] = boundary                                   # create column with boundary values\n",
    "\n",
    "subject[0].head()"
   ]
  }
 ],
 "metadata": {
  "anaconda-cloud": {},
  "kernelspec": {
   "display_name": "Python [conda root]",
   "language": "python",
   "name": "conda-root-py"
  },
  "language_info": {
   "codemirror_mode": {
    "name": "ipython",
    "version": 3
   },
   "file_extension": ".py",
   "mimetype": "text/x-python",
   "name": "python",
   "nbconvert_exporter": "python",
   "pygments_lexer": "ipython3",
   "version": "3.5.2"
  },
  "toc": {
   "colors": {
    "hover_highlight": "#DAA520",
    "navigate_num": "#000000",
    "navigate_text": "#333333",
    "running_highlight": "#FF0000",
    "selected_highlight": "#FFD700",
    "sidebar_border": "#EEEEEE",
    "wrapper_background": "#FFFFFF"
   },
   "moveMenuLeft": true,
   "nav_menu": {
    "height": "48px",
    "width": "252px"
   },
   "navigate_menu": true,
   "number_sections": true,
   "sideBar": true,
   "threshold": 4,
   "toc_cell": true,
   "toc_section_display": "block",
   "toc_window_display": true,
   "widenNotebook": false
  },
  "varInspector": {
   "cols": {
    "lenName": 16,
    "lenType": 16,
    "lenVar": 40
   },
   "kernels_config": {
    "python": {
     "delete_cmd_postfix": "",
     "delete_cmd_prefix": "del ",
     "library": "var_list.py",
     "varRefreshCmd": "print(var_dic_list())"
    },
    "r": {
     "delete_cmd_postfix": ") ",
     "delete_cmd_prefix": "rm(",
     "library": "var_list.r",
     "varRefreshCmd": "cat(var_dic_list()) "
    }
   },
   "types_to_exclude": [
    "module",
    "function",
    "builtin_function_or_method",
    "instance",
    "_Feature"
   ],
   "window_display": false
  }
 },
 "nbformat": 4,
 "nbformat_minor": 1
}
