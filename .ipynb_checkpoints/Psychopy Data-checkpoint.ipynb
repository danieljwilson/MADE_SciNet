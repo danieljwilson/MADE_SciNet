{
 "cells": [
  {
   "cell_type": "code",
   "execution_count": 1,
   "metadata": {
    "collapsed": true
   },
   "outputs": [],
   "source": [
    "from psychopy.misc import fromFile\n",
    "\n",
    "import numpy as np\n",
    "import pandas as pd"
   ]
  },
  {
   "cell_type": "markdown",
   "metadata": {},
   "source": [
    "# Import Data Files\n",
    "\n",
    "---\n",
    "Find more efficient way"
   ]
  },
  {
   "cell_type": "code",
   "execution_count": 2,
   "metadata": {
    "collapsed": true
   },
   "outputs": [],
   "source": [
    "datFile_116 = fromFile('/Users/djw/Dropbox/PHD/CENDRI/Project/Code/LabSharedFolder/MADE01/CODE/v4_Episodic_Fractional/data/_full_data_files/116_test02_TestSegment_2017_Nov_22_1350.psydat')\n",
    "datFile_117 = fromFile('/Users/djw/Dropbox/PHD/CENDRI/Project/Code/LabSharedFolder/MADE01/CODE/v4_Episodic_Fractional/data/_full_data_files/117_test02_TestSegment_2017_Nov_22_1403.psydat')\n",
    "datFile_118 = fromFile('/Users/djw/Dropbox/PHD/CENDRI/Project/Code/LabSharedFolder/MADE01/CODE/v4_Episodic_Fractional/data/_full_data_files/118_test02_TestSegment_2017_Nov_22_1405.psydat')\n",
    "datFile_119 = fromFile('/Users/djw/Dropbox/PHD/CENDRI/Project/Code/LabSharedFolder/MADE01/CODE/v4_Episodic_Fractional/data/_full_data_files/119_test02_TestSegment_2017_Nov_22_1412.psydat')\n",
    "#datFile_120 = fromFile('/Users/djw/Dropbox/PHD/CENDRI/Project/Code/LabSharedFolder/MADE01/CODE/v4_Episodic_Fractional/data/_full_data_files/120_test02_TestSegment_2017_Nov_22_1546.psydat')\n",
    "datFile_121 = fromFile('/Users/djw/Dropbox/PHD/CENDRI/Project/Code/LabSharedFolder/MADE01/CODE/v4_Episodic_Fractional/data/_full_data_files/121_test02_TestSegment_2017_Nov_22_1601.psydat')\n",
    "datFile_122 = fromFile('/Users/djw/Dropbox/PHD/CENDRI/Project/Code/LabSharedFolder/MADE01/CODE/v4_Episodic_Fractional/data/_full_data_files/122_test02_TestSegment_2017_Nov_22_1605.psydat')\n",
    "datFile_123 = fromFile('/Users/djw/Dropbox/PHD/CENDRI/Project/Code/LabSharedFolder/MADE01/CODE/v4_Episodic_Fractional/data/_full_data_files/123_test02_TestSegment_2017_Nov_22_1630.psydat')"
   ]
  },
  {
   "cell_type": "code",
   "execution_count": 3,
   "metadata": {
    "collapsed": true
   },
   "outputs": [],
   "source": [
    "datFiles = {'1': datFile_116, '2': datFile_117, '3': datFile_118, '4': datFile_119,\n",
    "            '5': datFile_121, '6': datFile_122, '7': datFile_123}"
   ]
  },
  {
   "cell_type": "code",
   "execution_count": 22,
   "metadata": {
    "collapsed": true
   },
   "outputs": [
    {
     "data": {
      "text/plain": [
       "['__class__',\n",
       " '__del__',\n",
       " '__delattr__',\n",
       " '__dict__',\n",
       " '__doc__',\n",
       " '__format__',\n",
       " '__getattribute__',\n",
       " '__hash__',\n",
       " '__init__',\n",
       " '__module__',\n",
       " '__new__',\n",
       " '__reduce__',\n",
       " '__reduce_ex__',\n",
       " '__repr__',\n",
       " '__setattr__',\n",
       " '__sizeof__',\n",
       " '__str__',\n",
       " '__subclasshook__',\n",
       " '__weakref__',\n",
       " '_getAllParamNames',\n",
       " '_getExtraInfo',\n",
       " '_getLoopInfo',\n",
       " '_paramNamesSoFar',\n",
       " 'abort',\n",
       " 'addData',\n",
       " 'addLoop',\n",
       " 'autoLog',\n",
       " 'dataFileName',\n",
       " 'dataNames',\n",
       " 'entries',\n",
       " 'extraInfo',\n",
       " 'loopEnded',\n",
       " 'loops',\n",
       " 'loopsUnfinished',\n",
       " 'name',\n",
       " 'nextEntry',\n",
       " 'originPath',\n",
       " 'runtimeInfo',\n",
       " 'saveAsPickle',\n",
       " 'saveAsWideText',\n",
       " 'savePickle',\n",
       " 'saveWideText',\n",
       " 'thisEntry',\n",
       " 'version']"
      ]
     },
     "execution_count": 22,
     "metadata": {},
     "output_type": "execute_result"
    }
   ],
   "source": [
    "dir(datFile)"
   ]
  },
  {
   "cell_type": "code",
   "execution_count": 96,
   "metadata": {
    "collapsed": true
   },
   "outputs": [
    {
     "data": {
      "text/plain": [
       "{'actFaceVal': 0.5,\n",
       " 'correct': 1,\n",
       " 'date': u'2017_Nov_22_1630',\n",
       " 'earnings': 3.0,\n",
       " 'exitKeys_9.keys': ['0', 'period', '5', '0', 'return'],\n",
       " 'exitKeys_9.rt': [32.848591981670324,\n",
       "  34.098394318440114,\n",
       "  34.98189012600051,\n",
       "  35.48177191294235,\n",
       "  39.21538455898917],\n",
       " 'expName': 'test02_TestSegment',\n",
       " 'face_learn_loop.thisIndex': 0,\n",
       " 'face_learn_loop.thisN': 0,\n",
       " 'face_learn_loop.thisRepN': 0,\n",
       " 'face_learn_loop.thisTrialN': 0,\n",
       " 'frameRate': 59.999538147157125,\n",
       " 'guessFaceVal': '0.50',\n",
       " 'image': 'images/exemplars/faces/CFD-WM-208-068-N.jpg',\n",
       " 'key_resp_3.keys': ['f'],\n",
       " 'key_resp_3.rt': [6.5503365864824445],\n",
       " 'learn_faces.thisIndex': 0,\n",
       " 'learn_faces.thisN': 0,\n",
       " 'learn_faces.thisRepN': 0,\n",
       " 'learn_faces.thisTrialN': 0,\n",
       " 'left_image_val': -0.5,\n",
       " 'min_correct': 7,\n",
       " u'participant': u'123',\n",
       " 'right_image_val': -1.0,\n",
       " 'round': 1,\n",
       " 'selected_image': -0.5,\n",
       " u'session': u'20171122',\n",
       " 'total_correct': 1,\n",
       " 'trial': 0}"
      ]
     },
     "execution_count": 96,
     "metadata": {},
     "output_type": "execute_result"
    }
   ],
   "source": [
    "datFile.entries[0]"
   ]
  },
  {
   "cell_type": "markdown",
   "metadata": {
    "heading_collapsed": true
   },
   "source": [
    "# LEARNING TRIALS"
   ]
  },
  {
   "cell_type": "code",
   "execution_count": 90,
   "metadata": {
    "collapsed": true,
    "hidden": true
   },
   "outputs": [],
   "source": [
    "trial = np.array([])\n",
    "round_num = np.array([])\n",
    "left_image_val = np.array([])\n",
    "right_image_val = np.array([])\n",
    "selected_image_val = np.array([])\n",
    "rt = np.array([])\n",
    "correct = np.array([])\n",
    "total_correct = np.array([])\n",
    "min_correct = np.array([])\n",
    "earnings = np.array([])\n",
    "participant = np.array([])"
   ]
  },
  {
   "cell_type": "code",
   "execution_count": 91,
   "metadata": {
    "hidden": true
   },
   "outputs": [
    {
     "ename": "KeyError",
     "evalue": "'key_resp_4.rt'",
     "output_type": "error",
     "traceback": [
      "\u001b[0;31m---------------------------------------------------------------------------\u001b[0m",
      "\u001b[0;31mKeyError\u001b[0m                                  Traceback (most recent call last)",
      "\u001b[0;32m<ipython-input-91-5def3f3ee4b3>\u001b[0m in \u001b[0;36m<module>\u001b[0;34m()\u001b[0m\n\u001b[1;32m      6\u001b[0m         \u001b[0mright_image_val\u001b[0m \u001b[0;34m=\u001b[0m \u001b[0mnp\u001b[0m\u001b[0;34m.\u001b[0m\u001b[0mappend\u001b[0m\u001b[0;34m(\u001b[0m\u001b[0mright_image_val\u001b[0m\u001b[0;34m,\u001b[0m\u001b[0mdatFile\u001b[0m\u001b[0;34m.\u001b[0m\u001b[0mentries\u001b[0m\u001b[0;34m[\u001b[0m\u001b[0mi\u001b[0m\u001b[0;34m]\u001b[0m\u001b[0;34m[\u001b[0m\u001b[0;34m'right_image_val'\u001b[0m\u001b[0;34m]\u001b[0m\u001b[0;34m)\u001b[0m\u001b[0;34m\u001b[0m\u001b[0m\n\u001b[1;32m      7\u001b[0m         \u001b[0mselected_image_val\u001b[0m \u001b[0;34m=\u001b[0m \u001b[0mnp\u001b[0m\u001b[0;34m.\u001b[0m\u001b[0mappend\u001b[0m\u001b[0;34m(\u001b[0m\u001b[0mselected_image_val\u001b[0m\u001b[0;34m,\u001b[0m\u001b[0mdatFile\u001b[0m\u001b[0;34m.\u001b[0m\u001b[0mentries\u001b[0m\u001b[0;34m[\u001b[0m\u001b[0mi\u001b[0m\u001b[0;34m]\u001b[0m\u001b[0;34m[\u001b[0m\u001b[0;34m'selected_image'\u001b[0m\u001b[0;34m]\u001b[0m\u001b[0;34m)\u001b[0m\u001b[0;34m\u001b[0m\u001b[0m\n\u001b[0;32m----> 8\u001b[0;31m         \u001b[0mrt\u001b[0m \u001b[0;34m=\u001b[0m \u001b[0mnp\u001b[0m\u001b[0;34m.\u001b[0m\u001b[0mappend\u001b[0m\u001b[0;34m(\u001b[0m\u001b[0mrt\u001b[0m\u001b[0;34m,\u001b[0m\u001b[0mdatFile\u001b[0m\u001b[0;34m.\u001b[0m\u001b[0mentries\u001b[0m\u001b[0;34m[\u001b[0m\u001b[0mi\u001b[0m\u001b[0;34m]\u001b[0m\u001b[0;34m[\u001b[0m\u001b[0;34m'key_resp_4.rt'\u001b[0m\u001b[0;34m]\u001b[0m\u001b[0;34m[\u001b[0m\u001b[0;36m0\u001b[0m\u001b[0;34m]\u001b[0m\u001b[0;34m)\u001b[0m \u001b[0;31m# this is a list so taking the first element\u001b[0m\u001b[0;34m\u001b[0m\u001b[0m\n\u001b[0m\u001b[1;32m      9\u001b[0m         \u001b[0mcorrect\u001b[0m \u001b[0;34m=\u001b[0m \u001b[0mnp\u001b[0m\u001b[0;34m.\u001b[0m\u001b[0mappend\u001b[0m\u001b[0;34m(\u001b[0m\u001b[0mcorrect\u001b[0m\u001b[0;34m,\u001b[0m\u001b[0mdatFile\u001b[0m\u001b[0;34m.\u001b[0m\u001b[0mentries\u001b[0m\u001b[0;34m[\u001b[0m\u001b[0mi\u001b[0m\u001b[0;34m]\u001b[0m\u001b[0;34m[\u001b[0m\u001b[0;34m'correct'\u001b[0m\u001b[0;34m]\u001b[0m\u001b[0;34m)\u001b[0m\u001b[0;34m\u001b[0m\u001b[0m\n\u001b[1;32m     10\u001b[0m         \u001b[0mtotal_correct\u001b[0m \u001b[0;34m=\u001b[0m \u001b[0mnp\u001b[0m\u001b[0;34m.\u001b[0m\u001b[0mappend\u001b[0m\u001b[0;34m(\u001b[0m\u001b[0mtotal_correct\u001b[0m\u001b[0;34m,\u001b[0m \u001b[0mdatFile\u001b[0m\u001b[0;34m.\u001b[0m\u001b[0mentries\u001b[0m\u001b[0;34m[\u001b[0m\u001b[0mi\u001b[0m\u001b[0;34m]\u001b[0m\u001b[0;34m[\u001b[0m\u001b[0;34m'total_correct'\u001b[0m\u001b[0;34m]\u001b[0m\u001b[0;34m)\u001b[0m\u001b[0;34m\u001b[0m\u001b[0m\n",
      "\u001b[0;31mKeyError\u001b[0m: 'key_resp_4.rt'"
     ]
    }
   ],
   "source": [
    "# LEARNING TRIALS\n",
    "for i in range(len(datFile.entries)):\n",
    "    if datFile.entries[i].has_key('trial') == True:\n",
    "        # FACE BINARY\n",
    "        \n",
    "        # FACE EXACT\n",
    "        \n",
    "        # HOUSE BINARY\n",
    "        \n",
    "        # HOUSE EXACT\n",
    "        trial = np.append(trial,datFile.entries[i]['trial'])\n",
    "        round_num = np.append(round_num,datFile.entries[i]['trial'])\n",
    "        left_image_val = np.append(left_image_val,datFile.entries[i]['left_image_val'])\n",
    "        right_image_val = np.append(right_image_val,datFile.entries[i]['right_image_val'])\n",
    "        selected_image_val = np.append(selected_image_val,datFile.entries[i]['selected_image'])\n",
    "        rt = np.append(rt,datFile.entries[i]['key_resp_4.rt'][0]) # this is a list so taking the first element\n",
    "        correct = np.append(correct,datFile.entries[i]['correct'])\n",
    "        total_correct = np.append(total_correct, datFile.entries[i]['total_correct'])\n",
    "        min_correct = np.append(min_correct,datFile.entries[i]['min_correct'])\n",
    "        earnings = np.append(earnings,datFile.entries[i]['earnings'])\n",
    "        participant = np.append(participant,datFile.entries[i]['participant'])\n",
    "        "
   ]
  },
  {
   "cell_type": "markdown",
   "metadata": {},
   "source": [
    "# TRIALS"
   ]
  },
  {
   "cell_type": "code",
   "execution_count": 165,
   "metadata": {},
   "outputs": [
    {
     "data": {
      "text/plain": [
       "{'Trial': 100,\n",
       " 'correct': 1,\n",
       " 'date': u'2017_Nov_22_1630',\n",
       " 'earnings': 229.0,\n",
       " 'expName': 'test02_TestSegment',\n",
       " 'faceVal': 0.5,\n",
       " 'frameRate': 59.999538147157125,\n",
       " 'houseVal': -0.25,\n",
       " 'imageList': [1, 0, 1],\n",
       " 'mult1House': 1,\n",
       " 'mult2Face': 1,\n",
       " 'numberEntry_4.keys': ['space', 'space', 'f'],\n",
       " 'numberEntry_4.rt': [0.9669095074459619,\n",
       "  1.850038762888289,\n",
       "  3.2502330355091544],\n",
       " u'participant': u'123',\n",
       " u'session': u'20171122',\n",
       " 'summedVal': 0.25,\n",
       " 'trial_blocks.thisIndex': 0,\n",
       " 'trial_blocks.thisN': 2,\n",
       " 'trial_blocks.thisRepN': 2,\n",
       " 'trial_blocks.thisTrialN': 0,\n",
       " 'trials_2.thisIndex': 0,\n",
       " 'trials_2.thisN': 99,\n",
       " 'trials_2.thisRepN': 99,\n",
       " 'trials_2.thisTrialN': 0}"
      ]
     },
     "execution_count": 165,
     "metadata": {},
     "output_type": "execute_result"
    }
   ],
   "source": [
    "datFile.entries[402]"
   ]
  },
  {
   "cell_type": "code",
   "execution_count": 9,
   "metadata": {},
   "outputs": [],
   "source": [
    "trial = np.array([])\n",
    "round_num = np.array([])\n",
    "\n",
    "face_val = np.array([])\n",
    "house_val = np.array([])\n",
    "face_mult = np.array([])\n",
    "house_mult = np.array([])\n",
    "summed_val = np.array([])\n",
    "\n",
    "image_list = []\n",
    "first_image = np.array([])\n",
    "last_image = np.array([])\n",
    "key_entry_list = []\n",
    "num_fixations = np.array([])\n",
    "rt_list = []\n",
    "rt = np.array([])\n",
    "\n",
    "correct = np.array([])\n",
    "earnings = np.array([])\n",
    "participant = np.array([])\n",
    "trial = np.array([])\n",
    "\n",
    "dfs = {}\n",
    "\n",
    "for item in datFiles:\n",
    "    datFile = datFiles[str(item)]\n",
    "    \n",
    "    for i in range(len(datFile.entries)):\n",
    "        if datFile.entries[i].has_key('numberEntry_4.keys') == True:\n",
    "            trial = np.append(trial, datFile.entries[i]['Trial'])\n",
    "            round_num = np.append(round_num, datFile.entries[i]['trial_blocks.thisN'])\n",
    "\n",
    "            face_val = np.append(face_val, datFile.entries[i]['faceVal'])\n",
    "            house_val = np.append(house_val, datFile.entries[i]['houseVal'])\n",
    "            face_mult = np.append(face_mult, datFile.entries[i]['mult2Face'])\n",
    "            house_mult = np.append(house_mult, datFile.entries[i]['mult1House'])\n",
    "            summed_val = np.append(summed_val, datFile.entries[i]['summedVal'])\n",
    "\n",
    "            image_list = image_list + [datFile.entries[i]['imageList']]  # LIST of LISTS\n",
    "            first_image = np.append(first_image, datFile.entries[i]['imageList'][0])\n",
    "            last_image = np.append(last_image, datFile.entries[i]['imageList'][-1])\n",
    "            key_entry_list = key_entry_list + [datFile.entries[i]['numberEntry_4.keys']]  # LIST of LISTS\n",
    "            num_fixations = np.append(num_fixations, len(datFile.entries[i]['numberEntry_4.keys']))\n",
    "            rt_list = rt_list + [datFile.entries[i]['numberEntry_4.rt']]   # LIST of LISTS\n",
    "            rt = np.append(rt, datFile.entries[i]['numberEntry_4.rt'][-1])    # this is a list so taking the last element\n",
    "\n",
    "            correct = np.append(correct, datFile.entries[i]['correct'])\n",
    "            earnings = np.append(earnings,datFile.entries[i]['earnings'])\n",
    "            participant = np.append(participant,datFile.entries[i]['participant'])\n",
    "            \n",
    "d = {'trial': trial, 'round_num': round_num, 'face_val': face_val, 'house_val': house_val,\n",
    "         'image_list': image_list, 'first_image': first_image, 'last_image': last_image,\n",
    "         'key_entry_list': key_entry_list, 'num_fixations': num_fixations, 'rt_list': rt_list, 'rt': rt,\n",
    "         'correct': correct, 'earnings': earnings, 'participant': participant,\n",
    "     'face_mult' = face_mult, 'house_mult' = house_mult, 'summed_val' = summed_val} \n",
    "df = pd.DataFrame(data = d)\n"
   ]
  },
  {
   "cell_type": "code",
   "execution_count": 11,
   "metadata": {
    "scrolled": false
   },
   "outputs": [],
   "source": [
    "df.to_csv('/Users/djw/Dropbox/PROGRAMMING/_NEURO/2017_MADE/Analysis/Data/v4_extra.csv')"
   ]
  },
  {
   "cell_type": "code",
   "execution_count": null,
   "metadata": {
    "collapsed": true
   },
   "outputs": [],
   "source": []
  }
 ],
 "metadata": {
  "anaconda-cloud": {},
  "kernelspec": {
   "display_name": "Python [conda root]",
   "language": "python",
   "name": "conda-root-py"
  },
  "language_info": {
   "codemirror_mode": {
    "name": "ipython",
    "version": 2
   },
   "file_extension": ".py",
   "mimetype": "text/x-python",
   "name": "python",
   "nbconvert_exporter": "python",
   "pygments_lexer": "ipython2",
   "version": "2.7.12"
  }
 },
 "nbformat": 4,
 "nbformat_minor": 2
}
