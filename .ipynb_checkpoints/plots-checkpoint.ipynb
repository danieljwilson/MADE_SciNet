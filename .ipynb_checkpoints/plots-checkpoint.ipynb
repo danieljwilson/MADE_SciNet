{
 "cells": [
  {
   "cell_type": "markdown",
   "metadata": {},
   "source": [
    "# Import Libraries and Data"
   ]
  },
  {
   "cell_type": "markdown",
   "metadata": {},
   "source": [
    "## Libraries"
   ]
  },
  {
   "cell_type": "code",
   "execution_count": 1,
   "metadata": {
    "collapsed": false
   },
   "outputs": [
    {
     "data": {
      "text/html": [
       "<script>requirejs.config({paths: { 'plotly': ['https://cdn.plot.ly/plotly-latest.min']},});if(!window.Plotly) {{require(['plotly'],function(plotly) {window.Plotly=plotly;});}}</script>"
      ],
      "text/vnd.plotly.v1+html": [
       "<script>requirejs.config({paths: { 'plotly': ['https://cdn.plot.ly/plotly-latest.min']},});if(!window.Plotly) {{require(['plotly'],function(plotly) {window.Plotly=plotly;});}}</script>"
      ]
     },
     "metadata": {},
     "output_type": "display_data"
    }
   ],
   "source": [
    "import numpy as np\n",
    "import pandas as pd\n",
    "import sys\n",
    "import importlib\n",
    "\n",
    "import made_plotting as mplot\n",
    "import utils_addm_02 as utils_addm        # for importing custom module\n",
    "# Add path where custom modules are saved\n",
    "# sys.path.append('/Users/djw/Dropbox/PROGRAMMING/_NEURO/2017_MADE/aDDM_DJW/functions')\n",
    "# import utils_addm                         # for importing custom module"
   ]
  },
  {
   "cell_type": "code",
   "execution_count": 2,
   "metadata": {
    "collapsed": false
   },
   "outputs": [
    {
     "data": {
      "text/html": [
       "<script>requirejs.config({paths: { 'plotly': ['https://cdn.plot.ly/plotly-latest.min']},});if(!window.Plotly) {{require(['plotly'],function(plotly) {window.Plotly=plotly;});}}</script>"
      ],
      "text/vnd.plotly.v1+html": [
       "<script>requirejs.config({paths: { 'plotly': ['https://cdn.plot.ly/plotly-latest.min']},});if(!window.Plotly) {{require(['plotly'],function(plotly) {window.Plotly=plotly;});}}</script>"
      ]
     },
     "metadata": {},
     "output_type": "display_data"
    },
    {
     "data": {
      "text/plain": [
       "<module 'made_plotting' from '/bg01/homescinet/c/chutcher/wilsodj/MADE/made_plotting.py'>"
      ]
     },
     "execution_count": 2,
     "metadata": {},
     "output_type": "execute_result"
    }
   ],
   "source": [
    "# for reloading edited modules\n",
    "importlib.reload(mplot)"
   ]
  },
  {
   "cell_type": "markdown",
   "metadata": {},
   "source": [
    "## Data"
   ]
  },
  {
   "cell_type": "markdown",
   "metadata": {},
   "source": [
    "### 2018-04-16 (base)"
   ]
  },
  {
   "cell_type": "code",
   "execution_count": 7,
   "metadata": {
    "collapsed": true
   },
   "outputs": [],
   "source": [
    "# specify date of folder to access correct files\n",
    "# date = '2017-11-30'\n",
    "date = '2018-04-16'"
   ]
  },
  {
   "cell_type": "code",
   "execution_count": 8,
   "metadata": {
    "collapsed": false
   },
   "outputs": [],
   "source": [
    "# load files for plotting\n",
    "path_to_file = \"outputs/\"+ date +\"/test/sim_subjects.pickle\"\n",
    "subjects = utils_addm.pickle_read(path_to_file)\n",
    "\n",
    "path_to_file = \"outputs/\"+ date +\"/test/test_data.pickle\"\n",
    "test_expdata = utils_addm.pickle_read(path_to_file)\n",
    "\n",
    "path_to_file = \"outputs/\"+ date +\"/test/subj_params_df.pickle\"\n",
    "subj_params_df = utils_addm.pickle_read(path_to_file)"
   ]
  },
  {
   "cell_type": "markdown",
   "metadata": {},
   "source": [
    "### 2018-04-20 (synth dist)"
   ]
  },
  {
   "cell_type": "code",
   "execution_count": 3,
   "metadata": {
    "collapsed": true
   },
   "outputs": [],
   "source": [
    "# specify date of folder to access correct files\n",
    "# date = '2017-11-30'\n",
    "date = '2018-04-20'\n",
    "# Path to scratch folder\n",
    "outputs = '/scratch/c/chutcher/wilsodj/MADE/outputs/'\n",
    "\n",
    "subject = 0"
   ]
  },
  {
   "cell_type": "code",
   "execution_count": null,
   "metadata": {
    "collapsed": true
   },
   "outputs": [],
   "source": [
    "# load files for plotting\n",
    "path_to_file = outputs + date +\"/\"+ str(subject) +\"/test/sim_subjects.pickle\"\n",
    "subjects = utils_addm.pickle_read(path_to_file)\n",
    "\n",
    "path_to_file = outputs + date +\"/\"+ str(subject) +\"/test/test_data.pickle\"\n",
    "test_expdata = utils_addm.pickle_read(path_to_file)\n",
    "\n",
    "path_to_file = outputs + date +\"/\"+ str(subject) +\"/test/subj_params_df.pickle\"\n",
    "subj_params_df = utils_addm.pickle_read(path_to_file)"
   ]
  },
  {
   "cell_type": "markdown",
   "metadata": {},
   "source": [
    "## Format"
   ]
  },
  {
   "cell_type": "code",
   "execution_count": 9,
   "metadata": {
    "collapsed": true
   },
   "outputs": [
    {
     "name": "stderr",
     "output_type": "stream",
     "text": [
      "/bg01/homescinet/c/chutcher/wilsodj/MADE/made_plotting.py:501: SettingWithCopyWarning:\n",
      "\n",
      "\n",
      "A value is trying to be set on a copy of a slice from a DataFrame\n",
      "\n",
      "See the caveats in the documentation: http://pandas.pydata.org/pandas-docs/stable/indexing.html#indexing-view-versus-copy\n",
      "\n",
      "/bg01/homescinet/c/chutcher/wilsodj/MADE/made_plotting.py:502: SettingWithCopyWarning:\n",
      "\n",
      "\n",
      "A value is trying to be set on a copy of a slice from a DataFrame\n",
      "\n",
      "See the caveats in the documentation: http://pandas.pydata.org/pandas-docs/stable/indexing.html#indexing-view-versus-copy\n",
      "\n",
      "/bg01/homescinet/c/chutcher/wilsodj/MADE/made_plotting.py:503: SettingWithCopyWarning:\n",
      "\n",
      "\n",
      "A value is trying to be set on a copy of a slice from a DataFrame\n",
      "\n",
      "See the caveats in the documentation: http://pandas.pydata.org/pandas-docs/stable/indexing.html#indexing-view-versus-copy\n",
      "\n"
     ]
    }
   ],
   "source": [
    "# Format Data\n",
    "subject_data = mplot.format_for_plotting(subjects, test_expdata, subj_params_df)"
   ]
  },
  {
   "cell_type": "code",
   "execution_count": 10,
   "metadata": {
    "collapsed": true
   },
   "outputs": [
    {
     "data": {
      "text/html": [
       "<div>\n",
       "<style>\n",
       "    .dataframe thead tr:only-child th {\n",
       "        text-align: right;\n",
       "    }\n",
       "\n",
       "    .dataframe thead th {\n",
       "        text-align: left;\n",
       "    }\n",
       "\n",
       "    .dataframe tbody tr th {\n",
       "        vertical-align: top;\n",
       "    }\n",
       "</style>\n",
       "<table border=\"1\" class=\"dataframe\">\n",
       "  <thead>\n",
       "    <tr style=\"text-align: right;\">\n",
       "      <th></th>\n",
       "      <th></th>\n",
       "      <th>test_rt_mean</th>\n",
       "      <th>test_rt_median</th>\n",
       "      <th>test_rt_std</th>\n",
       "      <th>test_rt_sem</th>\n",
       "      <th>test_choice_mean</th>\n",
       "      <th>test_choice_std</th>\n",
       "      <th>test_choice_sem</th>\n",
       "      <th>test_summed_val_mean</th>\n",
       "      <th>sim_rt_mean</th>\n",
       "      <th>sim_rt_median</th>\n",
       "      <th>sim_rt_std</th>\n",
       "      <th>sim_rt_sem</th>\n",
       "      <th>sim_choice_mean</th>\n",
       "      <th>sim_choice_std</th>\n",
       "      <th>sim_choice_sem</th>\n",
       "      <th>sim_summed_val_mean</th>\n",
       "    </tr>\n",
       "    <tr>\n",
       "      <th>subject</th>\n",
       "      <th>quantile</th>\n",
       "      <th></th>\n",
       "      <th></th>\n",
       "      <th></th>\n",
       "      <th></th>\n",
       "      <th></th>\n",
       "      <th></th>\n",
       "      <th></th>\n",
       "      <th></th>\n",
       "      <th></th>\n",
       "      <th></th>\n",
       "      <th></th>\n",
       "      <th></th>\n",
       "      <th></th>\n",
       "      <th></th>\n",
       "      <th></th>\n",
       "      <th></th>\n",
       "    </tr>\n",
       "  </thead>\n",
       "  <tbody>\n",
       "    <tr>\n",
       "      <th rowspan=\"7\" valign=\"top\">0</th>\n",
       "      <th>1</th>\n",
       "      <td>3.001564</td>\n",
       "      <td>2.983502</td>\n",
       "      <td>1.307594</td>\n",
       "      <td>0.266912</td>\n",
       "      <td>0.041667</td>\n",
       "      <td>0.204124</td>\n",
       "      <td>0.041667</td>\n",
       "      <td>-1.733333</td>\n",
       "      <td>3.519759</td>\n",
       "      <td>2.9780</td>\n",
       "      <td>1.894333</td>\n",
       "      <td>0.012319</td>\n",
       "      <td>0.125481</td>\n",
       "      <td>0.331271</td>\n",
       "      <td>0.002154</td>\n",
       "      <td>-1.735755</td>\n",
       "    </tr>\n",
       "    <tr>\n",
       "      <th>2</th>\n",
       "      <td>3.702287</td>\n",
       "      <td>2.875240</td>\n",
       "      <td>2.250337</td>\n",
       "      <td>0.562584</td>\n",
       "      <td>0.125000</td>\n",
       "      <td>0.341565</td>\n",
       "      <td>0.085391</td>\n",
       "      <td>-0.756250</td>\n",
       "      <td>3.916853</td>\n",
       "      <td>3.3460</td>\n",
       "      <td>2.115957</td>\n",
       "      <td>0.017014</td>\n",
       "      <td>0.290250</td>\n",
       "      <td>0.453892</td>\n",
       "      <td>0.003650</td>\n",
       "      <td>-0.756347</td>\n",
       "    </tr>\n",
       "    <tr>\n",
       "      <th>3</th>\n",
       "      <td>3.472419</td>\n",
       "      <td>3.016838</td>\n",
       "      <td>1.515076</td>\n",
       "      <td>0.309264</td>\n",
       "      <td>0.333333</td>\n",
       "      <td>0.481543</td>\n",
       "      <td>0.098295</td>\n",
       "      <td>-0.302917</td>\n",
       "      <td>4.043903</td>\n",
       "      <td>3.4425</td>\n",
       "      <td>2.197365</td>\n",
       "      <td>0.014529</td>\n",
       "      <td>0.400673</td>\n",
       "      <td>0.490046</td>\n",
       "      <td>0.003240</td>\n",
       "      <td>-0.303246</td>\n",
       "    </tr>\n",
       "    <tr>\n",
       "      <th>4</th>\n",
       "      <td>3.123475</td>\n",
       "      <td>2.933615</td>\n",
       "      <td>0.750156</td>\n",
       "      <td>0.167740</td>\n",
       "      <td>0.650000</td>\n",
       "      <td>0.489360</td>\n",
       "      <td>0.109424</td>\n",
       "      <td>0.049500</td>\n",
       "      <td>4.065203</td>\n",
       "      <td>3.4560</td>\n",
       "      <td>2.212914</td>\n",
       "      <td>0.015997</td>\n",
       "      <td>0.504181</td>\n",
       "      <td>0.499996</td>\n",
       "      <td>0.003614</td>\n",
       "      <td>0.049506</td>\n",
       "    </tr>\n",
       "    <tr>\n",
       "      <th>5</th>\n",
       "      <td>2.810985</td>\n",
       "      <td>2.591859</td>\n",
       "      <td>0.995077</td>\n",
       "      <td>0.222506</td>\n",
       "      <td>0.900000</td>\n",
       "      <td>0.307794</td>\n",
       "      <td>0.068825</td>\n",
       "      <td>0.306000</td>\n",
       "      <td>4.035732</td>\n",
       "      <td>3.4560</td>\n",
       "      <td>2.171247</td>\n",
       "      <td>0.015712</td>\n",
       "      <td>0.584992</td>\n",
       "      <td>0.492736</td>\n",
       "      <td>0.003566</td>\n",
       "      <td>0.306149</td>\n",
       "    </tr>\n",
       "    <tr>\n",
       "      <th>6</th>\n",
       "      <td>2.838229</td>\n",
       "      <td>2.200212</td>\n",
       "      <td>1.733865</td>\n",
       "      <td>0.378360</td>\n",
       "      <td>0.809524</td>\n",
       "      <td>0.402374</td>\n",
       "      <td>0.087805</td>\n",
       "      <td>0.772381</td>\n",
       "      <td>3.955712</td>\n",
       "      <td>3.3780</td>\n",
       "      <td>2.142866</td>\n",
       "      <td>0.015072</td>\n",
       "      <td>0.693168</td>\n",
       "      <td>0.461191</td>\n",
       "      <td>0.003244</td>\n",
       "      <td>0.773297</td>\n",
       "    </tr>\n",
       "    <tr>\n",
       "      <th>7</th>\n",
       "      <td>3.008205</td>\n",
       "      <td>2.350089</td>\n",
       "      <td>1.814375</td>\n",
       "      <td>0.395929</td>\n",
       "      <td>0.952381</td>\n",
       "      <td>0.218218</td>\n",
       "      <td>0.047619</td>\n",
       "      <td>1.949524</td>\n",
       "      <td>3.355106</td>\n",
       "      <td>2.8320</td>\n",
       "      <td>1.800866</td>\n",
       "      <td>0.012511</td>\n",
       "      <td>0.884170</td>\n",
       "      <td>0.320029</td>\n",
       "      <td>0.002223</td>\n",
       "      <td>1.955666</td>\n",
       "    </tr>\n",
       "    <tr>\n",
       "      <th rowspan=\"7\" valign=\"top\">1</th>\n",
       "      <th>1</th>\n",
       "      <td>3.579330</td>\n",
       "      <td>3.225197</td>\n",
       "      <td>1.632378</td>\n",
       "      <td>0.408094</td>\n",
       "      <td>0.000000</td>\n",
       "      <td>0.000000</td>\n",
       "      <td>0.000000</td>\n",
       "      <td>-1.698125</td>\n",
       "      <td>4.655694</td>\n",
       "      <td>4.1310</td>\n",
       "      <td>2.289818</td>\n",
       "      <td>0.018960</td>\n",
       "      <td>0.125540</td>\n",
       "      <td>0.331341</td>\n",
       "      <td>0.002744</td>\n",
       "      <td>-1.709433</td>\n",
       "    </tr>\n",
       "    <tr>\n",
       "      <th>2</th>\n",
       "      <td>4.737000</td>\n",
       "      <td>4.266863</td>\n",
       "      <td>2.216332</td>\n",
       "      <td>0.508461</td>\n",
       "      <td>0.105263</td>\n",
       "      <td>0.315302</td>\n",
       "      <td>0.072335</td>\n",
       "      <td>-0.768421</td>\n",
       "      <td>5.010382</td>\n",
       "      <td>4.5380</td>\n",
       "      <td>2.396966</td>\n",
       "      <td>0.018784</td>\n",
       "      <td>0.303304</td>\n",
       "      <td>0.459699</td>\n",
       "      <td>0.003602</td>\n",
       "      <td>-0.769523</td>\n",
       "    </tr>\n",
       "    <tr>\n",
       "      <th>3</th>\n",
       "      <td>4.934197</td>\n",
       "      <td>4.483355</td>\n",
       "      <td>2.357157</td>\n",
       "      <td>0.491501</td>\n",
       "      <td>0.130435</td>\n",
       "      <td>0.344350</td>\n",
       "      <td>0.071802</td>\n",
       "      <td>-0.348696</td>\n",
       "      <td>5.141352</td>\n",
       "      <td>4.6760</td>\n",
       "      <td>2.406217</td>\n",
       "      <td>0.017438</td>\n",
       "      <td>0.417940</td>\n",
       "      <td>0.493233</td>\n",
       "      <td>0.003574</td>\n",
       "      <td>-0.349321</td>\n",
       "    </tr>\n",
       "    <tr>\n",
       "      <th>4</th>\n",
       "      <td>4.939064</td>\n",
       "      <td>4.500093</td>\n",
       "      <td>2.346724</td>\n",
       "      <td>0.553128</td>\n",
       "      <td>0.611111</td>\n",
       "      <td>0.501631</td>\n",
       "      <td>0.118236</td>\n",
       "      <td>0.045556</td>\n",
       "      <td>5.091395</td>\n",
       "      <td>4.6090</td>\n",
       "      <td>2.416752</td>\n",
       "      <td>0.019638</td>\n",
       "      <td>0.519776</td>\n",
       "      <td>0.499625</td>\n",
       "      <td>0.004060</td>\n",
       "      <td>0.045618</td>\n",
       "    </tr>\n",
       "    <tr>\n",
       "      <th>5</th>\n",
       "      <td>5.701553</td>\n",
       "      <td>4.991859</td>\n",
       "      <td>2.144159</td>\n",
       "      <td>0.618965</td>\n",
       "      <td>0.750000</td>\n",
       "      <td>0.452267</td>\n",
       "      <td>0.130558</td>\n",
       "      <td>0.291667</td>\n",
       "      <td>5.096478</td>\n",
       "      <td>4.6490</td>\n",
       "      <td>2.398853</td>\n",
       "      <td>0.023992</td>\n",
       "      <td>0.606482</td>\n",
       "      <td>0.488554</td>\n",
       "      <td>0.004886</td>\n",
       "      <td>0.291368</td>\n",
       "    </tr>\n",
       "    <tr>\n",
       "      <th>6</th>\n",
       "      <td>4.290933</td>\n",
       "      <td>3.666699</td>\n",
       "      <td>1.939681</td>\n",
       "      <td>0.373292</td>\n",
       "      <td>0.851852</td>\n",
       "      <td>0.362014</td>\n",
       "      <td>0.069670</td>\n",
       "      <td>0.781481</td>\n",
       "      <td>4.935314</td>\n",
       "      <td>4.4490</td>\n",
       "      <td>2.381271</td>\n",
       "      <td>0.015678</td>\n",
       "      <td>0.729030</td>\n",
       "      <td>0.444470</td>\n",
       "      <td>0.002926</td>\n",
       "      <td>0.783991</td>\n",
       "    </tr>\n",
       "    <tr>\n",
       "      <th>7</th>\n",
       "      <td>2.884621</td>\n",
       "      <td>2.766864</td>\n",
       "      <td>0.982762</td>\n",
       "      <td>0.253748</td>\n",
       "      <td>1.000000</td>\n",
       "      <td>0.000000</td>\n",
       "      <td>0.000000</td>\n",
       "      <td>1.770667</td>\n",
       "      <td>4.612162</td>\n",
       "      <td>4.0910</td>\n",
       "      <td>2.261953</td>\n",
       "      <td>0.019324</td>\n",
       "      <td>0.882417</td>\n",
       "      <td>0.322125</td>\n",
       "      <td>0.002752</td>\n",
       "      <td>1.777299</td>\n",
       "    </tr>\n",
       "    <tr>\n",
       "      <th rowspan=\"7\" valign=\"top\">2</th>\n",
       "      <th>1</th>\n",
       "      <td>1.638579</td>\n",
       "      <td>1.600187</td>\n",
       "      <td>0.392263</td>\n",
       "      <td>0.108794</td>\n",
       "      <td>0.076923</td>\n",
       "      <td>0.277350</td>\n",
       "      <td>0.076923</td>\n",
       "      <td>-1.686923</td>\n",
       "      <td>2.151149</td>\n",
       "      <td>1.8150</td>\n",
       "      <td>1.088109</td>\n",
       "      <td>0.009544</td>\n",
       "      <td>0.158628</td>\n",
       "      <td>0.365343</td>\n",
       "      <td>0.003204</td>\n",
       "      <td>-1.686961</td>\n",
       "    </tr>\n",
       "    <tr>\n",
       "      <th>2</th>\n",
       "      <td>1.985904</td>\n",
       "      <td>1.700236</td>\n",
       "      <td>1.164093</td>\n",
       "      <td>0.254026</td>\n",
       "      <td>0.095238</td>\n",
       "      <td>0.300793</td>\n",
       "      <td>0.065638</td>\n",
       "      <td>-0.812381</td>\n",
       "      <td>2.443592</td>\n",
       "      <td>2.0630</td>\n",
       "      <td>1.302854</td>\n",
       "      <td>0.008992</td>\n",
       "      <td>0.297923</td>\n",
       "      <td>0.457356</td>\n",
       "      <td>0.003157</td>\n",
       "      <td>-0.812421</td>\n",
       "    </tr>\n",
       "    <tr>\n",
       "      <th>3</th>\n",
       "      <td>2.241470</td>\n",
       "      <td>1.733386</td>\n",
       "      <td>1.634961</td>\n",
       "      <td>0.340913</td>\n",
       "      <td>0.304348</td>\n",
       "      <td>0.470472</td>\n",
       "      <td>0.098100</td>\n",
       "      <td>-0.275652</td>\n",
       "      <td>2.577038</td>\n",
       "      <td>2.1540</td>\n",
       "      <td>1.406605</td>\n",
       "      <td>0.009280</td>\n",
       "      <td>0.429094</td>\n",
       "      <td>0.494958</td>\n",
       "      <td>0.003265</td>\n",
       "      <td>-0.275662</td>\n",
       "    </tr>\n",
       "    <tr>\n",
       "      <th>4</th>\n",
       "      <td>2.171843</td>\n",
       "      <td>1.975196</td>\n",
       "      <td>1.238181</td>\n",
       "      <td>0.226060</td>\n",
       "      <td>0.533333</td>\n",
       "      <td>0.507416</td>\n",
       "      <td>0.092641</td>\n",
       "      <td>0.028000</td>\n",
       "      <td>2.422362</td>\n",
       "      <td>2.0105</td>\n",
       "      <td>1.329679</td>\n",
       "      <td>0.007679</td>\n",
       "      <td>0.527948</td>\n",
       "      <td>0.499227</td>\n",
       "      <td>0.002883</td>\n",
       "      <td>0.028003</td>\n",
       "    </tr>\n",
       "    <tr>\n",
       "      <th>5</th>\n",
       "      <td>1.778234</td>\n",
       "      <td>1.466851</td>\n",
       "      <td>1.067080</td>\n",
       "      <td>0.244805</td>\n",
       "      <td>0.736842</td>\n",
       "      <td>0.452414</td>\n",
       "      <td>0.103791</td>\n",
       "      <td>0.271053</td>\n",
       "      <td>2.578857</td>\n",
       "      <td>2.1360</td>\n",
       "      <td>1.438799</td>\n",
       "      <td>0.010446</td>\n",
       "      <td>0.590291</td>\n",
       "      <td>0.491793</td>\n",
       "      <td>0.003570</td>\n",
       "      <td>0.271063</td>\n",
       "    </tr>\n",
       "    <tr>\n",
       "      <th>6</th>\n",
       "      <td>1.622118</td>\n",
       "      <td>1.291785</td>\n",
       "      <td>0.786656</td>\n",
       "      <td>0.167716</td>\n",
       "      <td>0.909091</td>\n",
       "      <td>0.294245</td>\n",
       "      <td>0.062733</td>\n",
       "      <td>0.781364</td>\n",
       "      <td>2.436390</td>\n",
       "      <td>2.0450</td>\n",
       "      <td>1.318875</td>\n",
       "      <td>0.008895</td>\n",
       "      <td>0.730374</td>\n",
       "      <td>0.443776</td>\n",
       "      <td>0.002993</td>\n",
       "      <td>0.781395</td>\n",
       "    </tr>\n",
       "    <tr>\n",
       "      <th>7</th>\n",
       "      <td>1.264460</td>\n",
       "      <td>1.150190</td>\n",
       "      <td>0.246631</td>\n",
       "      <td>0.053819</td>\n",
       "      <td>1.000000</td>\n",
       "      <td>0.000000</td>\n",
       "      <td>0.000000</td>\n",
       "      <td>1.539524</td>\n",
       "      <td>2.172663</td>\n",
       "      <td>1.8710</td>\n",
       "      <td>1.039481</td>\n",
       "      <td>0.007174</td>\n",
       "      <td>0.876215</td>\n",
       "      <td>0.329345</td>\n",
       "      <td>0.002273</td>\n",
       "      <td>1.539574</td>\n",
       "    </tr>\n",
       "    <tr>\n",
       "      <th rowspan=\"7\" valign=\"top\">3</th>\n",
       "      <th>1</th>\n",
       "      <td>1.624291</td>\n",
       "      <td>1.483389</td>\n",
       "      <td>0.493143</td>\n",
       "      <td>0.110270</td>\n",
       "      <td>0.100000</td>\n",
       "      <td>0.307794</td>\n",
       "      <td>0.068825</td>\n",
       "      <td>-1.650500</td>\n",
       "      <td>2.646678</td>\n",
       "      <td>2.1920</td>\n",
       "      <td>1.483644</td>\n",
       "      <td>0.010499</td>\n",
       "      <td>0.444138</td>\n",
       "      <td>0.496882</td>\n",
       "      <td>0.003516</td>\n",
       "      <td>-1.650661</td>\n",
       "    </tr>\n",
       "    <tr>\n",
       "      <th>2</th>\n",
       "      <td>2.317676</td>\n",
       "      <td>2.108571</td>\n",
       "      <td>1.361065</td>\n",
       "      <td>0.320806</td>\n",
       "      <td>0.277778</td>\n",
       "      <td>0.460889</td>\n",
       "      <td>0.108632</td>\n",
       "      <td>-0.821667</td>\n",
       "      <td>2.633918</td>\n",
       "      <td>2.2060</td>\n",
       "      <td>1.453491</td>\n",
       "      <td>0.010848</td>\n",
       "      <td>0.472957</td>\n",
       "      <td>0.499282</td>\n",
       "      <td>0.003726</td>\n",
       "      <td>-0.821724</td>\n",
       "    </tr>\n",
       "    <tr>\n",
       "      <th>3</th>\n",
       "      <td>2.431576</td>\n",
       "      <td>2.125114</td>\n",
       "      <td>1.159463</td>\n",
       "      <td>0.273288</td>\n",
       "      <td>0.277778</td>\n",
       "      <td>0.460889</td>\n",
       "      <td>0.108632</td>\n",
       "      <td>-0.332222</td>\n",
       "      <td>2.649322</td>\n",
       "      <td>2.2170</td>\n",
       "      <td>1.465277</td>\n",
       "      <td>0.010935</td>\n",
       "      <td>0.484990</td>\n",
       "      <td>0.499789</td>\n",
       "      <td>0.003730</td>\n",
       "      <td>-0.332236</td>\n",
       "    </tr>\n",
       "    <tr>\n",
       "      <th>4</th>\n",
       "      <td>2.379950</td>\n",
       "      <td>1.966774</td>\n",
       "      <td>1.190796</td>\n",
       "      <td>0.221125</td>\n",
       "      <td>0.724138</td>\n",
       "      <td>0.454859</td>\n",
       "      <td>0.084465</td>\n",
       "      <td>0.031379</td>\n",
       "      <td>2.651859</td>\n",
       "      <td>2.2200</td>\n",
       "      <td>1.471313</td>\n",
       "      <td>0.008649</td>\n",
       "      <td>0.507015</td>\n",
       "      <td>0.499959</td>\n",
       "      <td>0.002939</td>\n",
       "      <td>0.031364</td>\n",
       "    </tr>\n",
       "    <tr>\n",
       "      <th>5</th>\n",
       "      <td>2.438965</td>\n",
       "      <td>2.083471</td>\n",
       "      <td>1.670171</td>\n",
       "      <td>0.431236</td>\n",
       "      <td>0.933333</td>\n",
       "      <td>0.258199</td>\n",
       "      <td>0.066667</td>\n",
       "      <td>0.314000</td>\n",
       "      <td>2.637593</td>\n",
       "      <td>2.2045</td>\n",
       "      <td>1.460876</td>\n",
       "      <td>0.011939</td>\n",
       "      <td>0.502538</td>\n",
       "      <td>0.500010</td>\n",
       "      <td>0.004086</td>\n",
       "      <td>0.314001</td>\n",
       "    </tr>\n",
       "    <tr>\n",
       "      <th>6</th>\n",
       "      <td>2.132049</td>\n",
       "      <td>1.708467</td>\n",
       "      <td>1.024262</td>\n",
       "      <td>0.209077</td>\n",
       "      <td>0.916667</td>\n",
       "      <td>0.282330</td>\n",
       "      <td>0.057630</td>\n",
       "      <td>0.788750</td>\n",
       "      <td>2.650810</td>\n",
       "      <td>2.2160</td>\n",
       "      <td>1.473012</td>\n",
       "      <td>0.009517</td>\n",
       "      <td>0.528155</td>\n",
       "      <td>0.499217</td>\n",
       "      <td>0.003225</td>\n",
       "      <td>0.788763</td>\n",
       "    </tr>\n",
       "    <tr>\n",
       "      <th>7</th>\n",
       "      <td>2.195745</td>\n",
       "      <td>1.750031</td>\n",
       "      <td>1.557043</td>\n",
       "      <td>0.324666</td>\n",
       "      <td>0.956522</td>\n",
       "      <td>0.208514</td>\n",
       "      <td>0.043478</td>\n",
       "      <td>1.599130</td>\n",
       "      <td>2.638909</td>\n",
       "      <td>2.1985</td>\n",
       "      <td>1.457653</td>\n",
       "      <td>0.009618</td>\n",
       "      <td>0.547153</td>\n",
       "      <td>0.497783</td>\n",
       "      <td>0.003285</td>\n",
       "      <td>1.599122</td>\n",
       "    </tr>\n",
       "    <tr>\n",
       "      <th rowspan=\"2\" valign=\"top\">4</th>\n",
       "      <th>1</th>\n",
       "      <td>2.781545</td>\n",
       "      <td>2.250193</td>\n",
       "      <td>1.606493</td>\n",
       "      <td>0.321299</td>\n",
       "      <td>0.000000</td>\n",
       "      <td>0.000000</td>\n",
       "      <td>0.000000</td>\n",
       "      <td>-1.800000</td>\n",
       "      <td>2.606110</td>\n",
       "      <td>2.2080</td>\n",
       "      <td>1.330778</td>\n",
       "      <td>0.008423</td>\n",
       "      <td>0.027001</td>\n",
       "      <td>0.162090</td>\n",
       "      <td>0.001026</td>\n",
       "      <td>-1.800942</td>\n",
       "    </tr>\n",
       "    <tr>\n",
       "      <th>2</th>\n",
       "      <td>2.837450</td>\n",
       "      <td>2.316895</td>\n",
       "      <td>1.905417</td>\n",
       "      <td>0.462132</td>\n",
       "      <td>0.176471</td>\n",
       "      <td>0.392953</td>\n",
       "      <td>0.095305</td>\n",
       "      <td>-0.794706</td>\n",
       "      <td>3.556563</td>\n",
       "      <td>2.9965</td>\n",
       "      <td>1.953797</td>\n",
       "      <td>0.015101</td>\n",
       "      <td>0.136918</td>\n",
       "      <td>0.343771</td>\n",
       "      <td>0.002657</td>\n",
       "      <td>-0.795156</td>\n",
       "    </tr>\n",
       "    <tr>\n",
       "      <th>...</th>\n",
       "      <th>...</th>\n",
       "      <td>...</td>\n",
       "      <td>...</td>\n",
       "      <td>...</td>\n",
       "      <td>...</td>\n",
       "      <td>...</td>\n",
       "      <td>...</td>\n",
       "      <td>...</td>\n",
       "      <td>...</td>\n",
       "      <td>...</td>\n",
       "      <td>...</td>\n",
       "      <td>...</td>\n",
       "      <td>...</td>\n",
       "      <td>...</td>\n",
       "      <td>...</td>\n",
       "      <td>...</td>\n",
       "      <td>...</td>\n",
       "    </tr>\n",
       "    <tr>\n",
       "      <th rowspan=\"2\" valign=\"top\">18</th>\n",
       "      <th>6</th>\n",
       "      <td>4.792930</td>\n",
       "      <td>4.095856</td>\n",
       "      <td>2.038164</td>\n",
       "      <td>0.509541</td>\n",
       "      <td>0.750000</td>\n",
       "      <td>0.447214</td>\n",
       "      <td>0.111803</td>\n",
       "      <td>0.812500</td>\n",
       "      <td>5.333529</td>\n",
       "      <td>4.9310</td>\n",
       "      <td>2.298914</td>\n",
       "      <td>0.019840</td>\n",
       "      <td>0.919640</td>\n",
       "      <td>0.271861</td>\n",
       "      <td>0.002346</td>\n",
       "      <td>0.813466</td>\n",
       "    </tr>\n",
       "    <tr>\n",
       "      <th>7</th>\n",
       "      <td>4.728540</td>\n",
       "      <td>4.351996</td>\n",
       "      <td>2.235295</td>\n",
       "      <td>0.706862</td>\n",
       "      <td>0.900000</td>\n",
       "      <td>0.316228</td>\n",
       "      <td>0.100000</td>\n",
       "      <td>1.830000</td>\n",
       "      <td>4.057813</td>\n",
       "      <td>3.5340</td>\n",
       "      <td>1.913263</td>\n",
       "      <td>0.019391</td>\n",
       "      <td>0.991577</td>\n",
       "      <td>0.091395</td>\n",
       "      <td>0.000926</td>\n",
       "      <td>1.840307</td>\n",
       "    </tr>\n",
       "    <tr>\n",
       "      <th rowspan=\"7\" valign=\"top\">19</th>\n",
       "      <th>1</th>\n",
       "      <td>2.653202</td>\n",
       "      <td>1.883516</td>\n",
       "      <td>1.888685</td>\n",
       "      <td>0.363478</td>\n",
       "      <td>0.074074</td>\n",
       "      <td>0.266880</td>\n",
       "      <td>0.051361</td>\n",
       "      <td>-1.612963</td>\n",
       "      <td>2.093995</td>\n",
       "      <td>1.8050</td>\n",
       "      <td>0.997891</td>\n",
       "      <td>0.006074</td>\n",
       "      <td>0.093836</td>\n",
       "      <td>0.291605</td>\n",
       "      <td>0.001775</td>\n",
       "      <td>-1.613062</td>\n",
       "    </tr>\n",
       "    <tr>\n",
       "      <th>2</th>\n",
       "      <td>2.835358</td>\n",
       "      <td>2.416835</td>\n",
       "      <td>1.780613</td>\n",
       "      <td>0.419694</td>\n",
       "      <td>0.055556</td>\n",
       "      <td>0.235702</td>\n",
       "      <td>0.055556</td>\n",
       "      <td>-0.832778</td>\n",
       "      <td>2.380450</td>\n",
       "      <td>2.0250</td>\n",
       "      <td>1.237651</td>\n",
       "      <td>0.009228</td>\n",
       "      <td>0.216545</td>\n",
       "      <td>0.411902</td>\n",
       "      <td>0.003071</td>\n",
       "      <td>-0.832808</td>\n",
       "    </tr>\n",
       "    <tr>\n",
       "      <th>3</th>\n",
       "      <td>3.160117</td>\n",
       "      <td>1.966812</td>\n",
       "      <td>2.144510</td>\n",
       "      <td>0.553710</td>\n",
       "      <td>0.133333</td>\n",
       "      <td>0.351866</td>\n",
       "      <td>0.090851</td>\n",
       "      <td>-0.298000</td>\n",
       "      <td>2.567407</td>\n",
       "      <td>2.1510</td>\n",
       "      <td>1.411207</td>\n",
       "      <td>0.011527</td>\n",
       "      <td>0.373098</td>\n",
       "      <td>0.483644</td>\n",
       "      <td>0.003951</td>\n",
       "      <td>-0.298018</td>\n",
       "    </tr>\n",
       "    <tr>\n",
       "      <th>4</th>\n",
       "      <td>2.749146</td>\n",
       "      <td>2.308499</td>\n",
       "      <td>1.585945</td>\n",
       "      <td>0.271987</td>\n",
       "      <td>0.735294</td>\n",
       "      <td>0.447811</td>\n",
       "      <td>0.076799</td>\n",
       "      <td>0.027353</td>\n",
       "      <td>2.560593</td>\n",
       "      <td>2.1300</td>\n",
       "      <td>1.409230</td>\n",
       "      <td>0.007648</td>\n",
       "      <td>0.510779</td>\n",
       "      <td>0.499891</td>\n",
       "      <td>0.002713</td>\n",
       "      <td>0.027346</td>\n",
       "    </tr>\n",
       "    <tr>\n",
       "      <th>5</th>\n",
       "      <td>2.463897</td>\n",
       "      <td>1.700190</td>\n",
       "      <td>1.706571</td>\n",
       "      <td>0.413904</td>\n",
       "      <td>0.764706</td>\n",
       "      <td>0.437237</td>\n",
       "      <td>0.106046</td>\n",
       "      <td>0.284118</td>\n",
       "      <td>2.580895</td>\n",
       "      <td>2.1530</td>\n",
       "      <td>1.427224</td>\n",
       "      <td>0.010951</td>\n",
       "      <td>0.608573</td>\n",
       "      <td>0.488084</td>\n",
       "      <td>0.003745</td>\n",
       "      <td>0.284122</td>\n",
       "    </tr>\n",
       "    <tr>\n",
       "      <th>6</th>\n",
       "      <td>1.803745</td>\n",
       "      <td>1.550185</td>\n",
       "      <td>0.848899</td>\n",
       "      <td>0.177008</td>\n",
       "      <td>1.000000</td>\n",
       "      <td>0.000000</td>\n",
       "      <td>0.000000</td>\n",
       "      <td>0.751304</td>\n",
       "      <td>2.390554</td>\n",
       "      <td>1.9955</td>\n",
       "      <td>1.275323</td>\n",
       "      <td>0.008411</td>\n",
       "      <td>0.767986</td>\n",
       "      <td>0.422127</td>\n",
       "      <td>0.002784</td>\n",
       "      <td>0.751321</td>\n",
       "    </tr>\n",
       "    <tr>\n",
       "      <th>7</th>\n",
       "      <td>2.092854</td>\n",
       "      <td>1.708503</td>\n",
       "      <td>1.158186</td>\n",
       "      <td>0.289546</td>\n",
       "      <td>0.937500</td>\n",
       "      <td>0.250000</td>\n",
       "      <td>0.062500</td>\n",
       "      <td>1.423125</td>\n",
       "      <td>2.164957</td>\n",
       "      <td>1.8715</td>\n",
       "      <td>1.056322</td>\n",
       "      <td>0.008351</td>\n",
       "      <td>0.882985</td>\n",
       "      <td>0.321448</td>\n",
       "      <td>0.002541</td>\n",
       "      <td>1.423122</td>\n",
       "    </tr>\n",
       "    <tr>\n",
       "      <th rowspan=\"7\" valign=\"top\">20</th>\n",
       "      <th>1</th>\n",
       "      <td>2.228803</td>\n",
       "      <td>2.000060</td>\n",
       "      <td>1.013551</td>\n",
       "      <td>0.238896</td>\n",
       "      <td>0.055556</td>\n",
       "      <td>0.235702</td>\n",
       "      <td>0.055556</td>\n",
       "      <td>-1.683889</td>\n",
       "      <td>3.117713</td>\n",
       "      <td>2.6210</td>\n",
       "      <td>1.703180</td>\n",
       "      <td>0.012750</td>\n",
       "      <td>0.095051</td>\n",
       "      <td>0.293294</td>\n",
       "      <td>0.002196</td>\n",
       "      <td>-1.688219</td>\n",
       "    </tr>\n",
       "    <tr>\n",
       "      <th>2</th>\n",
       "      <td>2.784164</td>\n",
       "      <td>2.533315</td>\n",
       "      <td>1.259392</td>\n",
       "      <td>0.262601</td>\n",
       "      <td>0.043478</td>\n",
       "      <td>0.208514</td>\n",
       "      <td>0.043478</td>\n",
       "      <td>-0.780435</td>\n",
       "      <td>3.602958</td>\n",
       "      <td>3.0320</td>\n",
       "      <td>2.035144</td>\n",
       "      <td>0.013564</td>\n",
       "      <td>0.252854</td>\n",
       "      <td>0.434658</td>\n",
       "      <td>0.002897</td>\n",
       "      <td>-0.780887</td>\n",
       "    </tr>\n",
       "    <tr>\n",
       "      <th>3</th>\n",
       "      <td>2.653716</td>\n",
       "      <td>2.433456</td>\n",
       "      <td>1.304488</td>\n",
       "      <td>0.272005</td>\n",
       "      <td>0.565217</td>\n",
       "      <td>0.506870</td>\n",
       "      <td>0.105690</td>\n",
       "      <td>-0.299565</td>\n",
       "      <td>3.926506</td>\n",
       "      <td>3.3440</td>\n",
       "      <td>2.149844</td>\n",
       "      <td>0.014448</td>\n",
       "      <td>0.359440</td>\n",
       "      <td>0.479847</td>\n",
       "      <td>0.003225</td>\n",
       "      <td>-0.299795</td>\n",
       "    </tr>\n",
       "    <tr>\n",
       "      <th>4</th>\n",
       "      <td>2.532182</td>\n",
       "      <td>2.366643</td>\n",
       "      <td>0.788231</td>\n",
       "      <td>0.151695</td>\n",
       "      <td>0.629630</td>\n",
       "      <td>0.492103</td>\n",
       "      <td>0.094705</td>\n",
       "      <td>0.044074</td>\n",
       "      <td>3.786700</td>\n",
       "      <td>3.1960</td>\n",
       "      <td>2.136416</td>\n",
       "      <td>0.013225</td>\n",
       "      <td>0.542302</td>\n",
       "      <td>0.498217</td>\n",
       "      <td>0.003084</td>\n",
       "      <td>0.044263</td>\n",
       "    </tr>\n",
       "    <tr>\n",
       "      <th>5</th>\n",
       "      <td>2.858446</td>\n",
       "      <td>2.175144</td>\n",
       "      <td>1.679096</td>\n",
       "      <td>0.357984</td>\n",
       "      <td>0.954545</td>\n",
       "      <td>0.213201</td>\n",
       "      <td>0.045455</td>\n",
       "      <td>0.302727</td>\n",
       "      <td>3.959630</td>\n",
       "      <td>3.3940</td>\n",
       "      <td>2.151857</td>\n",
       "      <td>0.014777</td>\n",
       "      <td>0.609403</td>\n",
       "      <td>0.487896</td>\n",
       "      <td>0.003350</td>\n",
       "      <td>0.302745</td>\n",
       "    </tr>\n",
       "    <tr>\n",
       "      <th>6</th>\n",
       "      <td>2.591219</td>\n",
       "      <td>2.233453</td>\n",
       "      <td>1.808473</td>\n",
       "      <td>0.466946</td>\n",
       "      <td>0.933333</td>\n",
       "      <td>0.258199</td>\n",
       "      <td>0.066667</td>\n",
       "      <td>0.760000</td>\n",
       "      <td>3.620176</td>\n",
       "      <td>3.0290</td>\n",
       "      <td>1.989532</td>\n",
       "      <td>0.016427</td>\n",
       "      <td>0.693346</td>\n",
       "      <td>0.461120</td>\n",
       "      <td>0.003807</td>\n",
       "      <td>0.760421</td>\n",
       "    </tr>\n",
       "    <tr>\n",
       "      <th>7</th>\n",
       "      <td>1.805131</td>\n",
       "      <td>1.616734</td>\n",
       "      <td>0.602819</td>\n",
       "      <td>0.134794</td>\n",
       "      <td>1.000000</td>\n",
       "      <td>0.000000</td>\n",
       "      <td>0.000000</td>\n",
       "      <td>1.713500</td>\n",
       "      <td>3.120035</td>\n",
       "      <td>2.6240</td>\n",
       "      <td>1.678189</td>\n",
       "      <td>0.011914</td>\n",
       "      <td>0.924752</td>\n",
       "      <td>0.263798</td>\n",
       "      <td>0.001873</td>\n",
       "      <td>1.717292</td>\n",
       "    </tr>\n",
       "    <tr>\n",
       "      <th rowspan=\"7\" valign=\"top\">21</th>\n",
       "      <th>1</th>\n",
       "      <td>3.171696</td>\n",
       "      <td>2.902363</td>\n",
       "      <td>1.394447</td>\n",
       "      <td>0.311808</td>\n",
       "      <td>0.100000</td>\n",
       "      <td>0.307794</td>\n",
       "      <td>0.068825</td>\n",
       "      <td>-1.658500</td>\n",
       "      <td>2.652958</td>\n",
       "      <td>2.2130</td>\n",
       "      <td>1.475066</td>\n",
       "      <td>0.010441</td>\n",
       "      <td>0.449722</td>\n",
       "      <td>0.497478</td>\n",
       "      <td>0.003521</td>\n",
       "      <td>-1.658587</td>\n",
       "    </tr>\n",
       "    <tr>\n",
       "      <th>2</th>\n",
       "      <td>2.842411</td>\n",
       "      <td>2.369237</td>\n",
       "      <td>1.812247</td>\n",
       "      <td>0.415758</td>\n",
       "      <td>0.105263</td>\n",
       "      <td>0.315302</td>\n",
       "      <td>0.072335</td>\n",
       "      <td>-0.737895</td>\n",
       "      <td>2.650058</td>\n",
       "      <td>2.2060</td>\n",
       "      <td>1.476872</td>\n",
       "      <td>0.010723</td>\n",
       "      <td>0.486873</td>\n",
       "      <td>0.499841</td>\n",
       "      <td>0.003629</td>\n",
       "      <td>-0.737886</td>\n",
       "    </tr>\n",
       "    <tr>\n",
       "      <th>3</th>\n",
       "      <td>3.361844</td>\n",
       "      <td>2.636036</td>\n",
       "      <td>2.170637</td>\n",
       "      <td>0.485369</td>\n",
       "      <td>0.650000</td>\n",
       "      <td>0.489360</td>\n",
       "      <td>0.109424</td>\n",
       "      <td>-0.326500</td>\n",
       "      <td>2.654154</td>\n",
       "      <td>2.2285</td>\n",
       "      <td>1.467440</td>\n",
       "      <td>0.010386</td>\n",
       "      <td>0.489330</td>\n",
       "      <td>0.499899</td>\n",
       "      <td>0.003538</td>\n",
       "      <td>-0.326479</td>\n",
       "    </tr>\n",
       "    <tr>\n",
       "      <th>4</th>\n",
       "      <td>2.794557</td>\n",
       "      <td>2.419154</td>\n",
       "      <td>1.623700</td>\n",
       "      <td>0.306851</td>\n",
       "      <td>0.535714</td>\n",
       "      <td>0.507875</td>\n",
       "      <td>0.095979</td>\n",
       "      <td>0.029643</td>\n",
       "      <td>2.658078</td>\n",
       "      <td>2.2250</td>\n",
       "      <td>1.473998</td>\n",
       "      <td>0.008817</td>\n",
       "      <td>0.502022</td>\n",
       "      <td>0.500005</td>\n",
       "      <td>0.002991</td>\n",
       "      <td>0.029650</td>\n",
       "    </tr>\n",
       "    <tr>\n",
       "      <th>5</th>\n",
       "      <td>2.400199</td>\n",
       "      <td>1.743638</td>\n",
       "      <td>1.868345</td>\n",
       "      <td>0.499336</td>\n",
       "      <td>0.785714</td>\n",
       "      <td>0.425815</td>\n",
       "      <td>0.113804</td>\n",
       "      <td>0.291429</td>\n",
       "      <td>2.646367</td>\n",
       "      <td>2.2310</td>\n",
       "      <td>1.460470</td>\n",
       "      <td>0.012356</td>\n",
       "      <td>0.510235</td>\n",
       "      <td>0.499913</td>\n",
       "      <td>0.004229</td>\n",
       "      <td>0.291423</td>\n",
       "    </tr>\n",
       "    <tr>\n",
       "      <th>6</th>\n",
       "      <td>2.568327</td>\n",
       "      <td>1.977287</td>\n",
       "      <td>1.626370</td>\n",
       "      <td>0.406593</td>\n",
       "      <td>0.687500</td>\n",
       "      <td>0.478714</td>\n",
       "      <td>0.119678</td>\n",
       "      <td>0.796875</td>\n",
       "      <td>2.662338</td>\n",
       "      <td>2.2220</td>\n",
       "      <td>1.480824</td>\n",
       "      <td>0.011720</td>\n",
       "      <td>0.524648</td>\n",
       "      <td>0.499408</td>\n",
       "      <td>0.003952</td>\n",
       "      <td>0.796909</td>\n",
       "    </tr>\n",
       "    <tr>\n",
       "      <th>7</th>\n",
       "      <td>2.657540</td>\n",
       "      <td>1.943793</td>\n",
       "      <td>2.156657</td>\n",
       "      <td>0.407570</td>\n",
       "      <td>0.857143</td>\n",
       "      <td>0.356348</td>\n",
       "      <td>0.067344</td>\n",
       "      <td>1.893929</td>\n",
       "      <td>2.653865</td>\n",
       "      <td>2.2150</td>\n",
       "      <td>1.472113</td>\n",
       "      <td>0.008805</td>\n",
       "      <td>0.554840</td>\n",
       "      <td>0.496992</td>\n",
       "      <td>0.002973</td>\n",
       "      <td>1.893607</td>\n",
       "    </tr>\n",
       "    <tr>\n",
       "      <th rowspan=\"7\" valign=\"top\">22</th>\n",
       "      <th>1</th>\n",
       "      <td>2.216818</td>\n",
       "      <td>2.050134</td>\n",
       "      <td>0.919521</td>\n",
       "      <td>0.191733</td>\n",
       "      <td>0.000000</td>\n",
       "      <td>0.000000</td>\n",
       "      <td>0.000000</td>\n",
       "      <td>-1.621739</td>\n",
       "      <td>2.370029</td>\n",
       "      <td>2.0080</td>\n",
       "      <td>1.231364</td>\n",
       "      <td>0.008122</td>\n",
       "      <td>0.190629</td>\n",
       "      <td>0.392806</td>\n",
       "      <td>0.002591</td>\n",
       "      <td>-1.621924</td>\n",
       "    </tr>\n",
       "    <tr>\n",
       "      <th>2</th>\n",
       "      <td>3.108485</td>\n",
       "      <td>2.650166</td>\n",
       "      <td>2.099694</td>\n",
       "      <td>0.561167</td>\n",
       "      <td>0.142857</td>\n",
       "      <td>0.363137</td>\n",
       "      <td>0.097052</td>\n",
       "      <td>-0.765000</td>\n",
       "      <td>2.563201</td>\n",
       "      <td>2.1460</td>\n",
       "      <td>1.408276</td>\n",
       "      <td>0.011911</td>\n",
       "      <td>0.330186</td>\n",
       "      <td>0.470297</td>\n",
       "      <td>0.003978</td>\n",
       "      <td>-0.765010</td>\n",
       "    </tr>\n",
       "    <tr>\n",
       "      <th>3</th>\n",
       "      <td>3.016054</td>\n",
       "      <td>2.558509</td>\n",
       "      <td>1.616186</td>\n",
       "      <td>0.344572</td>\n",
       "      <td>0.227273</td>\n",
       "      <td>0.428932</td>\n",
       "      <td>0.091449</td>\n",
       "      <td>-0.327727</td>\n",
       "      <td>2.625692</td>\n",
       "      <td>2.1820</td>\n",
       "      <td>1.461318</td>\n",
       "      <td>0.009861</td>\n",
       "      <td>0.419198</td>\n",
       "      <td>0.493439</td>\n",
       "      <td>0.003330</td>\n",
       "      <td>-0.327760</td>\n",
       "    </tr>\n",
       "    <tr>\n",
       "      <th>4</th>\n",
       "      <td>3.386781</td>\n",
       "      <td>3.083493</td>\n",
       "      <td>1.508304</td>\n",
       "      <td>0.301661</td>\n",
       "      <td>0.720000</td>\n",
       "      <td>0.458258</td>\n",
       "      <td>0.091652</td>\n",
       "      <td>0.036400</td>\n",
       "      <td>2.634711</td>\n",
       "      <td>2.2025</td>\n",
       "      <td>1.452124</td>\n",
       "      <td>0.009192</td>\n",
       "      <td>0.494190</td>\n",
       "      <td>0.499976</td>\n",
       "      <td>0.003165</td>\n",
       "      <td>0.036403</td>\n",
       "    </tr>\n",
       "    <tr>\n",
       "      <th>5</th>\n",
       "      <td>2.916114</td>\n",
       "      <td>2.883594</td>\n",
       "      <td>0.973096</td>\n",
       "      <td>0.198632</td>\n",
       "      <td>0.708333</td>\n",
       "      <td>0.464306</td>\n",
       "      <td>0.094776</td>\n",
       "      <td>0.302500</td>\n",
       "      <td>2.640697</td>\n",
       "      <td>2.2140</td>\n",
       "      <td>1.449736</td>\n",
       "      <td>0.009364</td>\n",
       "      <td>0.570946</td>\n",
       "      <td>0.494951</td>\n",
       "      <td>0.003197</td>\n",
       "      <td>0.302509</td>\n",
       "    </tr>\n",
       "    <tr>\n",
       "      <th>6</th>\n",
       "      <td>2.415822</td>\n",
       "      <td>2.183364</td>\n",
       "      <td>1.552368</td>\n",
       "      <td>0.376505</td>\n",
       "      <td>1.000000</td>\n",
       "      <td>0.000000</td>\n",
       "      <td>0.000000</td>\n",
       "      <td>0.715294</td>\n",
       "      <td>2.587765</td>\n",
       "      <td>2.1690</td>\n",
       "      <td>1.421874</td>\n",
       "      <td>0.010913</td>\n",
       "      <td>0.668238</td>\n",
       "      <td>0.470860</td>\n",
       "      <td>0.003614</td>\n",
       "      <td>0.715292</td>\n",
       "    </tr>\n",
       "    <tr>\n",
       "      <th>7</th>\n",
       "      <td>2.133435</td>\n",
       "      <td>1.700036</td>\n",
       "      <td>1.041597</td>\n",
       "      <td>0.208319</td>\n",
       "      <td>0.960000</td>\n",
       "      <td>0.200000</td>\n",
       "      <td>0.040000</td>\n",
       "      <td>1.567600</td>\n",
       "      <td>2.388421</td>\n",
       "      <td>2.0150</td>\n",
       "      <td>1.247406</td>\n",
       "      <td>0.007890</td>\n",
       "      <td>0.806441</td>\n",
       "      <td>0.395095</td>\n",
       "      <td>0.002499</td>\n",
       "      <td>1.567595</td>\n",
       "    </tr>\n",
       "  </tbody>\n",
       "</table>\n",
       "<p>161 rows × 16 columns</p>\n",
       "</div>"
      ],
      "text/plain": [
       "                  test_rt_mean  test_rt_median  test_rt_std  test_rt_sem  \\\n",
       "subject quantile                                                           \n",
       "0       1             3.001564        2.983502     1.307594     0.266912   \n",
       "        2             3.702287        2.875240     2.250337     0.562584   \n",
       "        3             3.472419        3.016838     1.515076     0.309264   \n",
       "        4             3.123475        2.933615     0.750156     0.167740   \n",
       "        5             2.810985        2.591859     0.995077     0.222506   \n",
       "        6             2.838229        2.200212     1.733865     0.378360   \n",
       "        7             3.008205        2.350089     1.814375     0.395929   \n",
       "1       1             3.579330        3.225197     1.632378     0.408094   \n",
       "        2             4.737000        4.266863     2.216332     0.508461   \n",
       "        3             4.934197        4.483355     2.357157     0.491501   \n",
       "        4             4.939064        4.500093     2.346724     0.553128   \n",
       "        5             5.701553        4.991859     2.144159     0.618965   \n",
       "        6             4.290933        3.666699     1.939681     0.373292   \n",
       "        7             2.884621        2.766864     0.982762     0.253748   \n",
       "2       1             1.638579        1.600187     0.392263     0.108794   \n",
       "        2             1.985904        1.700236     1.164093     0.254026   \n",
       "        3             2.241470        1.733386     1.634961     0.340913   \n",
       "        4             2.171843        1.975196     1.238181     0.226060   \n",
       "        5             1.778234        1.466851     1.067080     0.244805   \n",
       "        6             1.622118        1.291785     0.786656     0.167716   \n",
       "        7             1.264460        1.150190     0.246631     0.053819   \n",
       "3       1             1.624291        1.483389     0.493143     0.110270   \n",
       "        2             2.317676        2.108571     1.361065     0.320806   \n",
       "        3             2.431576        2.125114     1.159463     0.273288   \n",
       "        4             2.379950        1.966774     1.190796     0.221125   \n",
       "        5             2.438965        2.083471     1.670171     0.431236   \n",
       "        6             2.132049        1.708467     1.024262     0.209077   \n",
       "        7             2.195745        1.750031     1.557043     0.324666   \n",
       "4       1             2.781545        2.250193     1.606493     0.321299   \n",
       "        2             2.837450        2.316895     1.905417     0.462132   \n",
       "...                        ...             ...          ...          ...   \n",
       "18      6             4.792930        4.095856     2.038164     0.509541   \n",
       "        7             4.728540        4.351996     2.235295     0.706862   \n",
       "19      1             2.653202        1.883516     1.888685     0.363478   \n",
       "        2             2.835358        2.416835     1.780613     0.419694   \n",
       "        3             3.160117        1.966812     2.144510     0.553710   \n",
       "        4             2.749146        2.308499     1.585945     0.271987   \n",
       "        5             2.463897        1.700190     1.706571     0.413904   \n",
       "        6             1.803745        1.550185     0.848899     0.177008   \n",
       "        7             2.092854        1.708503     1.158186     0.289546   \n",
       "20      1             2.228803        2.000060     1.013551     0.238896   \n",
       "        2             2.784164        2.533315     1.259392     0.262601   \n",
       "        3             2.653716        2.433456     1.304488     0.272005   \n",
       "        4             2.532182        2.366643     0.788231     0.151695   \n",
       "        5             2.858446        2.175144     1.679096     0.357984   \n",
       "        6             2.591219        2.233453     1.808473     0.466946   \n",
       "        7             1.805131        1.616734     0.602819     0.134794   \n",
       "21      1             3.171696        2.902363     1.394447     0.311808   \n",
       "        2             2.842411        2.369237     1.812247     0.415758   \n",
       "        3             3.361844        2.636036     2.170637     0.485369   \n",
       "        4             2.794557        2.419154     1.623700     0.306851   \n",
       "        5             2.400199        1.743638     1.868345     0.499336   \n",
       "        6             2.568327        1.977287     1.626370     0.406593   \n",
       "        7             2.657540        1.943793     2.156657     0.407570   \n",
       "22      1             2.216818        2.050134     0.919521     0.191733   \n",
       "        2             3.108485        2.650166     2.099694     0.561167   \n",
       "        3             3.016054        2.558509     1.616186     0.344572   \n",
       "        4             3.386781        3.083493     1.508304     0.301661   \n",
       "        5             2.916114        2.883594     0.973096     0.198632   \n",
       "        6             2.415822        2.183364     1.552368     0.376505   \n",
       "        7             2.133435        1.700036     1.041597     0.208319   \n",
       "\n",
       "                  test_choice_mean  test_choice_std  test_choice_sem  \\\n",
       "subject quantile                                                       \n",
       "0       1                 0.041667         0.204124         0.041667   \n",
       "        2                 0.125000         0.341565         0.085391   \n",
       "        3                 0.333333         0.481543         0.098295   \n",
       "        4                 0.650000         0.489360         0.109424   \n",
       "        5                 0.900000         0.307794         0.068825   \n",
       "        6                 0.809524         0.402374         0.087805   \n",
       "        7                 0.952381         0.218218         0.047619   \n",
       "1       1                 0.000000         0.000000         0.000000   \n",
       "        2                 0.105263         0.315302         0.072335   \n",
       "        3                 0.130435         0.344350         0.071802   \n",
       "        4                 0.611111         0.501631         0.118236   \n",
       "        5                 0.750000         0.452267         0.130558   \n",
       "        6                 0.851852         0.362014         0.069670   \n",
       "        7                 1.000000         0.000000         0.000000   \n",
       "2       1                 0.076923         0.277350         0.076923   \n",
       "        2                 0.095238         0.300793         0.065638   \n",
       "        3                 0.304348         0.470472         0.098100   \n",
       "        4                 0.533333         0.507416         0.092641   \n",
       "        5                 0.736842         0.452414         0.103791   \n",
       "        6                 0.909091         0.294245         0.062733   \n",
       "        7                 1.000000         0.000000         0.000000   \n",
       "3       1                 0.100000         0.307794         0.068825   \n",
       "        2                 0.277778         0.460889         0.108632   \n",
       "        3                 0.277778         0.460889         0.108632   \n",
       "        4                 0.724138         0.454859         0.084465   \n",
       "        5                 0.933333         0.258199         0.066667   \n",
       "        6                 0.916667         0.282330         0.057630   \n",
       "        7                 0.956522         0.208514         0.043478   \n",
       "4       1                 0.000000         0.000000         0.000000   \n",
       "        2                 0.176471         0.392953         0.095305   \n",
       "...                            ...              ...              ...   \n",
       "18      6                 0.750000         0.447214         0.111803   \n",
       "        7                 0.900000         0.316228         0.100000   \n",
       "19      1                 0.074074         0.266880         0.051361   \n",
       "        2                 0.055556         0.235702         0.055556   \n",
       "        3                 0.133333         0.351866         0.090851   \n",
       "        4                 0.735294         0.447811         0.076799   \n",
       "        5                 0.764706         0.437237         0.106046   \n",
       "        6                 1.000000         0.000000         0.000000   \n",
       "        7                 0.937500         0.250000         0.062500   \n",
       "20      1                 0.055556         0.235702         0.055556   \n",
       "        2                 0.043478         0.208514         0.043478   \n",
       "        3                 0.565217         0.506870         0.105690   \n",
       "        4                 0.629630         0.492103         0.094705   \n",
       "        5                 0.954545         0.213201         0.045455   \n",
       "        6                 0.933333         0.258199         0.066667   \n",
       "        7                 1.000000         0.000000         0.000000   \n",
       "21      1                 0.100000         0.307794         0.068825   \n",
       "        2                 0.105263         0.315302         0.072335   \n",
       "        3                 0.650000         0.489360         0.109424   \n",
       "        4                 0.535714         0.507875         0.095979   \n",
       "        5                 0.785714         0.425815         0.113804   \n",
       "        6                 0.687500         0.478714         0.119678   \n",
       "        7                 0.857143         0.356348         0.067344   \n",
       "22      1                 0.000000         0.000000         0.000000   \n",
       "        2                 0.142857         0.363137         0.097052   \n",
       "        3                 0.227273         0.428932         0.091449   \n",
       "        4                 0.720000         0.458258         0.091652   \n",
       "        5                 0.708333         0.464306         0.094776   \n",
       "        6                 1.000000         0.000000         0.000000   \n",
       "        7                 0.960000         0.200000         0.040000   \n",
       "\n",
       "                  test_summed_val_mean  sim_rt_mean  sim_rt_median  \\\n",
       "subject quantile                                                     \n",
       "0       1                    -1.733333     3.519759         2.9780   \n",
       "        2                    -0.756250     3.916853         3.3460   \n",
       "        3                    -0.302917     4.043903         3.4425   \n",
       "        4                     0.049500     4.065203         3.4560   \n",
       "        5                     0.306000     4.035732         3.4560   \n",
       "        6                     0.772381     3.955712         3.3780   \n",
       "        7                     1.949524     3.355106         2.8320   \n",
       "1       1                    -1.698125     4.655694         4.1310   \n",
       "        2                    -0.768421     5.010382         4.5380   \n",
       "        3                    -0.348696     5.141352         4.6760   \n",
       "        4                     0.045556     5.091395         4.6090   \n",
       "        5                     0.291667     5.096478         4.6490   \n",
       "        6                     0.781481     4.935314         4.4490   \n",
       "        7                     1.770667     4.612162         4.0910   \n",
       "2       1                    -1.686923     2.151149         1.8150   \n",
       "        2                    -0.812381     2.443592         2.0630   \n",
       "        3                    -0.275652     2.577038         2.1540   \n",
       "        4                     0.028000     2.422362         2.0105   \n",
       "        5                     0.271053     2.578857         2.1360   \n",
       "        6                     0.781364     2.436390         2.0450   \n",
       "        7                     1.539524     2.172663         1.8710   \n",
       "3       1                    -1.650500     2.646678         2.1920   \n",
       "        2                    -0.821667     2.633918         2.2060   \n",
       "        3                    -0.332222     2.649322         2.2170   \n",
       "        4                     0.031379     2.651859         2.2200   \n",
       "        5                     0.314000     2.637593         2.2045   \n",
       "        6                     0.788750     2.650810         2.2160   \n",
       "        7                     1.599130     2.638909         2.1985   \n",
       "4       1                    -1.800000     2.606110         2.2080   \n",
       "        2                    -0.794706     3.556563         2.9965   \n",
       "...                                ...          ...            ...   \n",
       "18      6                     0.812500     5.333529         4.9310   \n",
       "        7                     1.830000     4.057813         3.5340   \n",
       "19      1                    -1.612963     2.093995         1.8050   \n",
       "        2                    -0.832778     2.380450         2.0250   \n",
       "        3                    -0.298000     2.567407         2.1510   \n",
       "        4                     0.027353     2.560593         2.1300   \n",
       "        5                     0.284118     2.580895         2.1530   \n",
       "        6                     0.751304     2.390554         1.9955   \n",
       "        7                     1.423125     2.164957         1.8715   \n",
       "20      1                    -1.683889     3.117713         2.6210   \n",
       "        2                    -0.780435     3.602958         3.0320   \n",
       "        3                    -0.299565     3.926506         3.3440   \n",
       "        4                     0.044074     3.786700         3.1960   \n",
       "        5                     0.302727     3.959630         3.3940   \n",
       "        6                     0.760000     3.620176         3.0290   \n",
       "        7                     1.713500     3.120035         2.6240   \n",
       "21      1                    -1.658500     2.652958         2.2130   \n",
       "        2                    -0.737895     2.650058         2.2060   \n",
       "        3                    -0.326500     2.654154         2.2285   \n",
       "        4                     0.029643     2.658078         2.2250   \n",
       "        5                     0.291429     2.646367         2.2310   \n",
       "        6                     0.796875     2.662338         2.2220   \n",
       "        7                     1.893929     2.653865         2.2150   \n",
       "22      1                    -1.621739     2.370029         2.0080   \n",
       "        2                    -0.765000     2.563201         2.1460   \n",
       "        3                    -0.327727     2.625692         2.1820   \n",
       "        4                     0.036400     2.634711         2.2025   \n",
       "        5                     0.302500     2.640697         2.2140   \n",
       "        6                     0.715294     2.587765         2.1690   \n",
       "        7                     1.567600     2.388421         2.0150   \n",
       "\n",
       "                  sim_rt_std  sim_rt_sem  sim_choice_mean  sim_choice_std  \\\n",
       "subject quantile                                                            \n",
       "0       1           1.894333    0.012319         0.125481        0.331271   \n",
       "        2           2.115957    0.017014         0.290250        0.453892   \n",
       "        3           2.197365    0.014529         0.400673        0.490046   \n",
       "        4           2.212914    0.015997         0.504181        0.499996   \n",
       "        5           2.171247    0.015712         0.584992        0.492736   \n",
       "        6           2.142866    0.015072         0.693168        0.461191   \n",
       "        7           1.800866    0.012511         0.884170        0.320029   \n",
       "1       1           2.289818    0.018960         0.125540        0.331341   \n",
       "        2           2.396966    0.018784         0.303304        0.459699   \n",
       "        3           2.406217    0.017438         0.417940        0.493233   \n",
       "        4           2.416752    0.019638         0.519776        0.499625   \n",
       "        5           2.398853    0.023992         0.606482        0.488554   \n",
       "        6           2.381271    0.015678         0.729030        0.444470   \n",
       "        7           2.261953    0.019324         0.882417        0.322125   \n",
       "2       1           1.088109    0.009544         0.158628        0.365343   \n",
       "        2           1.302854    0.008992         0.297923        0.457356   \n",
       "        3           1.406605    0.009280         0.429094        0.494958   \n",
       "        4           1.329679    0.007679         0.527948        0.499227   \n",
       "        5           1.438799    0.010446         0.590291        0.491793   \n",
       "        6           1.318875    0.008895         0.730374        0.443776   \n",
       "        7           1.039481    0.007174         0.876215        0.329345   \n",
       "3       1           1.483644    0.010499         0.444138        0.496882   \n",
       "        2           1.453491    0.010848         0.472957        0.499282   \n",
       "        3           1.465277    0.010935         0.484990        0.499789   \n",
       "        4           1.471313    0.008649         0.507015        0.499959   \n",
       "        5           1.460876    0.011939         0.502538        0.500010   \n",
       "        6           1.473012    0.009517         0.528155        0.499217   \n",
       "        7           1.457653    0.009618         0.547153        0.497783   \n",
       "4       1           1.330778    0.008423         0.027001        0.162090   \n",
       "        2           1.953797    0.015101         0.136918        0.343771   \n",
       "...                      ...         ...              ...             ...   \n",
       "18      6           2.298914    0.019840         0.919640        0.271861   \n",
       "        7           1.913263    0.019391         0.991577        0.091395   \n",
       "19      1           0.997891    0.006074         0.093836        0.291605   \n",
       "        2           1.237651    0.009228         0.216545        0.411902   \n",
       "        3           1.411207    0.011527         0.373098        0.483644   \n",
       "        4           1.409230    0.007648         0.510779        0.499891   \n",
       "        5           1.427224    0.010951         0.608573        0.488084   \n",
       "        6           1.275323    0.008411         0.767986        0.422127   \n",
       "        7           1.056322    0.008351         0.882985        0.321448   \n",
       "20      1           1.703180    0.012750         0.095051        0.293294   \n",
       "        2           2.035144    0.013564         0.252854        0.434658   \n",
       "        3           2.149844    0.014448         0.359440        0.479847   \n",
       "        4           2.136416    0.013225         0.542302        0.498217   \n",
       "        5           2.151857    0.014777         0.609403        0.487896   \n",
       "        6           1.989532    0.016427         0.693346        0.461120   \n",
       "        7           1.678189    0.011914         0.924752        0.263798   \n",
       "21      1           1.475066    0.010441         0.449722        0.497478   \n",
       "        2           1.476872    0.010723         0.486873        0.499841   \n",
       "        3           1.467440    0.010386         0.489330        0.499899   \n",
       "        4           1.473998    0.008817         0.502022        0.500005   \n",
       "        5           1.460470    0.012356         0.510235        0.499913   \n",
       "        6           1.480824    0.011720         0.524648        0.499408   \n",
       "        7           1.472113    0.008805         0.554840        0.496992   \n",
       "22      1           1.231364    0.008122         0.190629        0.392806   \n",
       "        2           1.408276    0.011911         0.330186        0.470297   \n",
       "        3           1.461318    0.009861         0.419198        0.493439   \n",
       "        4           1.452124    0.009192         0.494190        0.499976   \n",
       "        5           1.449736    0.009364         0.570946        0.494951   \n",
       "        6           1.421874    0.010913         0.668238        0.470860   \n",
       "        7           1.247406    0.007890         0.806441        0.395095   \n",
       "\n",
       "                  sim_choice_sem  sim_summed_val_mean  \n",
       "subject quantile                                       \n",
       "0       1               0.002154            -1.735755  \n",
       "        2               0.003650            -0.756347  \n",
       "        3               0.003240            -0.303246  \n",
       "        4               0.003614             0.049506  \n",
       "        5               0.003566             0.306149  \n",
       "        6               0.003244             0.773297  \n",
       "        7               0.002223             1.955666  \n",
       "1       1               0.002744            -1.709433  \n",
       "        2               0.003602            -0.769523  \n",
       "        3               0.003574            -0.349321  \n",
       "        4               0.004060             0.045618  \n",
       "        5               0.004886             0.291368  \n",
       "        6               0.002926             0.783991  \n",
       "        7               0.002752             1.777299  \n",
       "2       1               0.003204            -1.686961  \n",
       "        2               0.003157            -0.812421  \n",
       "        3               0.003265            -0.275662  \n",
       "        4               0.002883             0.028003  \n",
       "        5               0.003570             0.271063  \n",
       "        6               0.002993             0.781395  \n",
       "        7               0.002273             1.539574  \n",
       "3       1               0.003516            -1.650661  \n",
       "        2               0.003726            -0.821724  \n",
       "        3               0.003730            -0.332236  \n",
       "        4               0.002939             0.031364  \n",
       "        5               0.004086             0.314001  \n",
       "        6               0.003225             0.788763  \n",
       "        7               0.003285             1.599122  \n",
       "4       1               0.001026            -1.800942  \n",
       "        2               0.002657            -0.795156  \n",
       "...                          ...                  ...  \n",
       "18      6               0.002346             0.813466  \n",
       "        7               0.000926             1.840307  \n",
       "19      1               0.001775            -1.613062  \n",
       "        2               0.003071            -0.832808  \n",
       "        3               0.003951            -0.298018  \n",
       "        4               0.002713             0.027346  \n",
       "        5               0.003745             0.284122  \n",
       "        6               0.002784             0.751321  \n",
       "        7               0.002541             1.423122  \n",
       "20      1               0.002196            -1.688219  \n",
       "        2               0.002897            -0.780887  \n",
       "        3               0.003225            -0.299795  \n",
       "        4               0.003084             0.044263  \n",
       "        5               0.003350             0.302745  \n",
       "        6               0.003807             0.760421  \n",
       "        7               0.001873             1.717292  \n",
       "21      1               0.003521            -1.658587  \n",
       "        2               0.003629            -0.737886  \n",
       "        3               0.003538            -0.326479  \n",
       "        4               0.002991             0.029650  \n",
       "        5               0.004229             0.291423  \n",
       "        6               0.003952             0.796909  \n",
       "        7               0.002973             1.893607  \n",
       "22      1               0.002591            -1.621924  \n",
       "        2               0.003978            -0.765010  \n",
       "        3               0.003330            -0.327760  \n",
       "        4               0.003165             0.036403  \n",
       "        5               0.003197             0.302509  \n",
       "        6               0.003614             0.715292  \n",
       "        7               0.002499             1.567595  \n",
       "\n",
       "[161 rows x 16 columns]"
      ]
     },
     "execution_count": 10,
     "metadata": {},
     "output_type": "execute_result"
    }
   ],
   "source": [
    "subject_data"
   ]
  },
  {
   "cell_type": "markdown",
   "metadata": {},
   "source": [
    "# Plot Single Individuals"
   ]
  },
  {
   "cell_type": "markdown",
   "metadata": {},
   "source": [
    "**Enter subject number to check fit**\n",
    "\n",
    "---\n",
    "- subject #s = 0-22\n",
    "- decent fits: 7-10, 14\n",
    "---\n",
    "Can also use `plotly_rt()` or `plotly_choice()` to get single plots"
   ]
  },
  {
   "cell_type": "code",
   "execution_count": 11,
   "metadata": {
    "collapsed": false,
    "scrolled": false
   },
   "outputs": [
    {
     "data": {
      "application/vnd.plotly.v1+json": {
       "data": [
        {
         "error_y": {
          "array": [
           0.3186301028894171,
           0.33573353920319327,
           0.5125059552199829,
           0.2558821801821235,
           0.31212419771003,
           0.3220052859472622,
           0.060707629484974435
          ],
          "color": "rgb(0,170,80)",
          "type": "data",
          "visible": true
         },
         "line": {
          "color": "rgb(0,100,80)"
         },
         "mode": "lines+markers",
         "name": "Test Data",
         "type": "scatter",
         "x": [
          -1.8164285714285715,
          -0.763181818181818,
          -0.3170588235294118,
          0.023181818181818147,
          0.324,
          0.8175000000000001,
          1.630434782608696
         ],
         "y": [
          2.088870704373611,
          2.7569758453887934,
          3.795318903062519,
          2.4751631152890194,
          2.5676745259319445,
          2.361632085216116,
          1.311077429497938
         ]
        },
        {
         "error_y": {
          "array": [
           0.006638690049726952,
           0.009335800318280867,
           0.011259643453361477,
           0.01008119999315805,
           0.010277654373819823,
           0.010921653610622556,
           0.0076428789830461355
          ],
          "color": "rgb(0,100,246)",
          "type": "data",
          "visible": true
         },
         "line": {
          "color": "rgb(0,176,246)"
         },
         "mode": "lines+markers",
         "name": "Sim Data",
         "type": "scatter",
         "x": [
          -1.8164285714285715,
          -0.763181818181818,
          -0.3170588235294118,
          0.023181818181818147,
          0.324,
          0.8175000000000001,
          1.630434782608696
         ],
         "y": [
          2.2194706911948536,
          2.553076993083358,
          2.6356237775421367,
          2.672185105898419,
          2.6321892960849116,
          2.5431422136019766,
          2.2870348442665835
         ]
        },
        {
         "error_y": {
          "array": [
           0,
           0.04545454545454545,
           0.11947115300935236,
           0.1049727762162956,
           0.08191780219091252,
           0,
           0
          ],
          "color": "rgb(0,170,80)",
          "type": "data",
          "visible": true
         },
         "line": {
          "color": "rgb(0,100,80)"
         },
         "mode": "lines+markers",
         "name": "Test Data",
         "type": "scatter",
         "x": [
          -1.8164285714285715,
          -0.763181818181818,
          -0.3170588235294118,
          0.023181818181818147,
          0.324,
          0.8175000000000001,
          1.630434782608696
         ],
         "xaxis": "x2",
         "y": [
          0,
          0.045454545454545456,
          0.35294117647058826,
          0.6363636363636364,
          0.85,
          1,
          1
         ],
         "yaxis": "y2"
        },
        {
         "error_y": {
          "array": [
           0.0020143847301955066,
           0.00308311622131265,
           0.0037667796010044815,
           0.003373643329009244,
           0.0034808898565479155,
           0.0035647975341321055,
           0.0023389253171389045
          ],
          "color": "rgb(0,100,246)",
          "type": "data",
          "visible": true
         },
         "line": {
          "color": "rgb(0,176,246)"
         },
         "mode": "lines+markers",
         "name": "Sim Data",
         "type": "scatter",
         "x": [
          -1.8164285714285715,
          -0.763181818181818,
          -0.3170588235294118,
          0.023181818181818147,
          0.324,
          0.8175000000000001,
          1.630434782608696
         ],
         "xaxis": "x2",
         "y": [
          0.13066619039114127,
          0.297233345467783,
          0.4042064333686815,
          0.511455249373719,
          0.5894162411134475,
          0.7165738597259589,
          0.8524882547416043
         ],
         "yaxis": "y2"
        }
       ],
       "layout": {
        "annotations": [
         {
          "showarrow": false,
          "text": "PARAMETERS: v: 0.041, a: 0.135, θ: 1.0",
          "x": 0.01,
          "xref": "paper",
          "y": 1.12,
          "yref": "paper"
         },
         {
          "showarrow": false,
          "text": "MLE: 627.04",
          "x": 0.01,
          "xref": "paper",
          "y": 1.08,
          "yref": "paper"
         },
         {
          "font": {
           "family": "Arial, sans-serif",
           "size": 22
          },
          "showarrow": false,
          "text": "SUBJECT: 17",
          "x": 0.01,
          "xref": "paper",
          "y": 1.2,
          "yref": "paper"
         }
        ],
        "paper_bgcolor": "rgb(255,255,255)",
        "plot_bgcolor": "rgb(229,229,229)",
        "xaxis": {
         "domain": [
          0,
          0.45
         ],
         "gridcolor": "rgb(255,255,255)",
         "range": [
          -2,
          2
         ],
         "showgrid": true,
         "showline": false,
         "showticklabels": true,
         "tickcolor": "rgb(127,127,127)",
         "ticks": "outside",
         "title": "Net Value ($)",
         "zeroline": false
        },
        "xaxis2": {
         "domain": [
          0.55,
          1
         ],
         "gridcolor": "rgb(255,255,255)",
         "range": [
          -2,
          2
         ],
         "showgrid": true,
         "showline": false,
         "showticklabels": true,
         "tickcolor": "rgb(127,127,127)",
         "ticks": "outside",
         "title": "Net Value ($)",
         "zeroline": false
        },
        "yaxis1": {
         "anchor": "x1",
         "gridcolor": "rgb(255,255,255)",
         "range": [
          0
         ],
         "showgrid": true,
         "showline": false,
         "showticklabels": true,
         "tickcolor": "rgb(127,127,127)",
         "ticks": "outside",
         "title": "RT (s)",
         "zeroline": false
        },
        "yaxis2": {
         "anchor": "x2",
         "gridcolor": "rgb(255,255,255)",
         "range": [
          0
         ],
         "showgrid": true,
         "showline": false,
         "showticklabels": true,
         "tickcolor": "rgb(127,127,127)",
         "ticks": "outside",
         "title": "p (accept)",
         "zeroline": false
        }
       }
      },
      "text/html": [
       "<div id=\"2600f3d9-78bf-494c-8ffa-7c8c1930cdef\" style=\"height: 525px; width: 100%;\" class=\"plotly-graph-div\"></div><script type=\"text/javascript\">require([\"plotly\"], function(Plotly) { window.PLOTLYENV=window.PLOTLYENV || {};window.PLOTLYENV.BASE_URL=\"https://plot.ly\";Plotly.newPlot(\"2600f3d9-78bf-494c-8ffa-7c8c1930cdef\", [{\"type\": \"scatter\", \"x\": [-1.8164285714285715, -0.763181818181818, -0.3170588235294118, 0.023181818181818147, 0.324, 0.8175000000000001, 1.630434782608696], \"y\": [2.088870704373611, 2.7569758453887934, 3.795318903062519, 2.4751631152890194, 2.5676745259319445, 2.361632085216116, 1.311077429497938], \"error_y\": {\"type\": \"data\", \"array\": [0.3186301028894171, 0.33573353920319327, 0.5125059552199829, 0.2558821801821235, 0.31212419771003, 0.3220052859472622, 0.060707629484974435], \"color\": \"rgb(0,170,80)\", \"visible\": true}, \"line\": {\"color\": \"rgb(0,100,80)\"}, \"mode\": \"lines+markers\", \"name\": \"Test Data\"}, {\"type\": \"scatter\", \"x\": [-1.8164285714285715, -0.763181818181818, -0.3170588235294118, 0.023181818181818147, 0.324, 0.8175000000000001, 1.630434782608696], \"y\": [2.2194706911948536, 2.553076993083358, 2.6356237775421367, 2.672185105898419, 2.6321892960849116, 2.5431422136019766, 2.2870348442665835], \"error_y\": {\"type\": \"data\", \"array\": [0.006638690049726952, 0.009335800318280867, 0.011259643453361477, 0.01008119999315805, 0.010277654373819823, 0.010921653610622556, 0.0076428789830461355], \"color\": \"rgb(0,100,246)\", \"visible\": true}, \"line\": {\"color\": \"rgb(0,176,246)\"}, \"mode\": \"lines+markers\", \"name\": \"Sim Data\"}, {\"type\": \"scatter\", \"x\": [-1.8164285714285715, -0.763181818181818, -0.3170588235294118, 0.023181818181818147, 0.324, 0.8175000000000001, 1.630434782608696], \"y\": [0.0, 0.045454545454545456, 0.35294117647058826, 0.6363636363636364, 0.85, 1.0, 1.0], \"error_y\": {\"type\": \"data\", \"array\": [0.0, 0.04545454545454545, 0.11947115300935236, 0.1049727762162956, 0.08191780219091252, 0.0, 0.0], \"color\": \"rgb(0,170,80)\", \"visible\": true}, \"line\": {\"color\": \"rgb(0,100,80)\"}, \"mode\": \"lines+markers\", \"name\": \"Test Data\", \"xaxis\": \"x2\", \"yaxis\": \"y2\"}, {\"type\": \"scatter\", \"x\": [-1.8164285714285715, -0.763181818181818, -0.3170588235294118, 0.023181818181818147, 0.324, 0.8175000000000001, 1.630434782608696], \"y\": [0.13066619039114127, 0.297233345467783, 0.4042064333686815, 0.511455249373719, 0.5894162411134475, 0.7165738597259589, 0.8524882547416043], \"error_y\": {\"type\": \"data\", \"array\": [0.0020143847301955066, 0.00308311622131265, 0.0037667796010044815, 0.003373643329009244, 0.0034808898565479155, 0.0035647975341321055, 0.0023389253171389045], \"color\": \"rgb(0,100,246)\", \"visible\": true}, \"line\": {\"color\": \"rgb(0,176,246)\"}, \"mode\": \"lines+markers\", \"name\": \"Sim Data\", \"xaxis\": \"x2\", \"yaxis\": \"y2\"}], {\"paper_bgcolor\": \"rgb(255,255,255)\", \"plot_bgcolor\": \"rgb(229,229,229)\", \"xaxis\": {\"gridcolor\": \"rgb(255,255,255)\", \"range\": [-2, 2], \"domain\": [0, 0.45], \"showgrid\": true, \"showline\": false, \"showticklabels\": true, \"tickcolor\": \"rgb(127,127,127)\", \"ticks\": \"outside\", \"title\": \"Net Value ($)\", \"zeroline\": false}, \"xaxis2\": {\"gridcolor\": \"rgb(255,255,255)\", \"range\": [-2, 2], \"domain\": [0.55, 1], \"showgrid\": true, \"showline\": false, \"showticklabels\": true, \"tickcolor\": \"rgb(127,127,127)\", \"ticks\": \"outside\", \"title\": \"Net Value ($)\", \"zeroline\": false}, \"yaxis1\": {\"gridcolor\": \"rgb(255,255,255)\", \"range\": [0], \"showgrid\": true, \"showline\": false, \"showticklabels\": true, \"tickcolor\": \"rgb(127,127,127)\", \"ticks\": \"outside\", \"title\": \"RT (s)\", \"anchor\": \"x1\", \"zeroline\": false}, \"yaxis2\": {\"gridcolor\": \"rgb(255,255,255)\", \"range\": [0], \"showgrid\": true, \"showline\": false, \"showticklabels\": true, \"tickcolor\": \"rgb(127,127,127)\", \"ticks\": \"outside\", \"title\": \"p (accept)\", \"anchor\": \"x2\", \"zeroline\": false}, \"annotations\": [{\"x\": 0.01, \"y\": 1.12, \"showarrow\": false, \"text\": \"PARAMETERS: v: 0.041, a: 0.135, \\u03b8: 1.0\", \"xref\": \"paper\", \"yref\": \"paper\"}, {\"x\": 0.01, \"y\": 1.08, \"showarrow\": false, \"text\": \"MLE: 627.04\", \"xref\": \"paper\", \"yref\": \"paper\"}, {\"x\": 0.01, \"y\": 1.2, \"showarrow\": false, \"text\": \"SUBJECT: 17\", \"font\": {\"family\": \"Arial, sans-serif\", \"size\": 22}, \"xref\": \"paper\", \"yref\": \"paper\"}]}, {\"showLink\": true, \"linkText\": \"Export to plot.ly\"})});</script>"
      ],
      "text/vnd.plotly.v1+html": [
       "<div id=\"2600f3d9-78bf-494c-8ffa-7c8c1930cdef\" style=\"height: 525px; width: 100%;\" class=\"plotly-graph-div\"></div><script type=\"text/javascript\">require([\"plotly\"], function(Plotly) { window.PLOTLYENV=window.PLOTLYENV || {};window.PLOTLYENV.BASE_URL=\"https://plot.ly\";Plotly.newPlot(\"2600f3d9-78bf-494c-8ffa-7c8c1930cdef\", [{\"type\": \"scatter\", \"x\": [-1.8164285714285715, -0.763181818181818, -0.3170588235294118, 0.023181818181818147, 0.324, 0.8175000000000001, 1.630434782608696], \"y\": [2.088870704373611, 2.7569758453887934, 3.795318903062519, 2.4751631152890194, 2.5676745259319445, 2.361632085216116, 1.311077429497938], \"error_y\": {\"type\": \"data\", \"array\": [0.3186301028894171, 0.33573353920319327, 0.5125059552199829, 0.2558821801821235, 0.31212419771003, 0.3220052859472622, 0.060707629484974435], \"color\": \"rgb(0,170,80)\", \"visible\": true}, \"line\": {\"color\": \"rgb(0,100,80)\"}, \"mode\": \"lines+markers\", \"name\": \"Test Data\"}, {\"type\": \"scatter\", \"x\": [-1.8164285714285715, -0.763181818181818, -0.3170588235294118, 0.023181818181818147, 0.324, 0.8175000000000001, 1.630434782608696], \"y\": [2.2194706911948536, 2.553076993083358, 2.6356237775421367, 2.672185105898419, 2.6321892960849116, 2.5431422136019766, 2.2870348442665835], \"error_y\": {\"type\": \"data\", \"array\": [0.006638690049726952, 0.009335800318280867, 0.011259643453361477, 0.01008119999315805, 0.010277654373819823, 0.010921653610622556, 0.0076428789830461355], \"color\": \"rgb(0,100,246)\", \"visible\": true}, \"line\": {\"color\": \"rgb(0,176,246)\"}, \"mode\": \"lines+markers\", \"name\": \"Sim Data\"}, {\"type\": \"scatter\", \"x\": [-1.8164285714285715, -0.763181818181818, -0.3170588235294118, 0.023181818181818147, 0.324, 0.8175000000000001, 1.630434782608696], \"y\": [0.0, 0.045454545454545456, 0.35294117647058826, 0.6363636363636364, 0.85, 1.0, 1.0], \"error_y\": {\"type\": \"data\", \"array\": [0.0, 0.04545454545454545, 0.11947115300935236, 0.1049727762162956, 0.08191780219091252, 0.0, 0.0], \"color\": \"rgb(0,170,80)\", \"visible\": true}, \"line\": {\"color\": \"rgb(0,100,80)\"}, \"mode\": \"lines+markers\", \"name\": \"Test Data\", \"xaxis\": \"x2\", \"yaxis\": \"y2\"}, {\"type\": \"scatter\", \"x\": [-1.8164285714285715, -0.763181818181818, -0.3170588235294118, 0.023181818181818147, 0.324, 0.8175000000000001, 1.630434782608696], \"y\": [0.13066619039114127, 0.297233345467783, 0.4042064333686815, 0.511455249373719, 0.5894162411134475, 0.7165738597259589, 0.8524882547416043], \"error_y\": {\"type\": \"data\", \"array\": [0.0020143847301955066, 0.00308311622131265, 0.0037667796010044815, 0.003373643329009244, 0.0034808898565479155, 0.0035647975341321055, 0.0023389253171389045], \"color\": \"rgb(0,100,246)\", \"visible\": true}, \"line\": {\"color\": \"rgb(0,176,246)\"}, \"mode\": \"lines+markers\", \"name\": \"Sim Data\", \"xaxis\": \"x2\", \"yaxis\": \"y2\"}], {\"paper_bgcolor\": \"rgb(255,255,255)\", \"plot_bgcolor\": \"rgb(229,229,229)\", \"xaxis\": {\"gridcolor\": \"rgb(255,255,255)\", \"range\": [-2, 2], \"domain\": [0, 0.45], \"showgrid\": true, \"showline\": false, \"showticklabels\": true, \"tickcolor\": \"rgb(127,127,127)\", \"ticks\": \"outside\", \"title\": \"Net Value ($)\", \"zeroline\": false}, \"xaxis2\": {\"gridcolor\": \"rgb(255,255,255)\", \"range\": [-2, 2], \"domain\": [0.55, 1], \"showgrid\": true, \"showline\": false, \"showticklabels\": true, \"tickcolor\": \"rgb(127,127,127)\", \"ticks\": \"outside\", \"title\": \"Net Value ($)\", \"zeroline\": false}, \"yaxis1\": {\"gridcolor\": \"rgb(255,255,255)\", \"range\": [0], \"showgrid\": true, \"showline\": false, \"showticklabels\": true, \"tickcolor\": \"rgb(127,127,127)\", \"ticks\": \"outside\", \"title\": \"RT (s)\", \"anchor\": \"x1\", \"zeroline\": false}, \"yaxis2\": {\"gridcolor\": \"rgb(255,255,255)\", \"range\": [0], \"showgrid\": true, \"showline\": false, \"showticklabels\": true, \"tickcolor\": \"rgb(127,127,127)\", \"ticks\": \"outside\", \"title\": \"p (accept)\", \"anchor\": \"x2\", \"zeroline\": false}, \"annotations\": [{\"x\": 0.01, \"y\": 1.12, \"showarrow\": false, \"text\": \"PARAMETERS: v: 0.041, a: 0.135, \\u03b8: 1.0\", \"xref\": \"paper\", \"yref\": \"paper\"}, {\"x\": 0.01, \"y\": 1.08, \"showarrow\": false, \"text\": \"MLE: 627.04\", \"xref\": \"paper\", \"yref\": \"paper\"}, {\"x\": 0.01, \"y\": 1.2, \"showarrow\": false, \"text\": \"SUBJECT: 17\", \"font\": {\"family\": \"Arial, sans-serif\", \"size\": 22}, \"xref\": \"paper\", \"yref\": \"paper\"}]}, {\"showLink\": true, \"linkText\": \"Export to plot.ly\"})});</script>"
      ]
     },
     "metadata": {},
     "output_type": "display_data"
    }
   ],
   "source": [
    "mplot.plotly_combined(17, subject_data, test_expdata, subj_params_df)"
   ]
  },
  {
   "cell_type": "markdown",
   "metadata": {
    "heading_collapsed": true
   },
   "source": [
    "# Plot All Individuals"
   ]
  },
  {
   "cell_type": "code",
   "execution_count": 12,
   "metadata": {
    "collapsed": false,
    "hidden": true,
    "scrolled": false
   },
   "outputs": [
    {
     "data": {
      "application/vnd.plotly.v1+json": {
       "data": [
        {
         "error_y": {
          "array": [
           0.26691156466118776,
           0.5625841894881555,
           0.3092635890278254,
           0.16773999036033826,
           0.22250602510869272,
           0.3783604602105652,
           0.3959290719366735
          ],
          "color": "rgb(0,170,80)",
          "type": "data",
          "visible": true
         },
         "line": {
          "color": "rgb(0,100,80)"
         },
         "mode": "lines+markers",
         "name": "Test Data",
         "type": "scatter",
         "x": [
          -1.7333333333333336,
          -0.7562499999999999,
          -0.3029166666666668,
          0.04949999999999995,
          0.30600000000000005,
          0.7723809523809525,
          1.9495238095238094
         ],
         "y": [
          3.0015640740833374,
          3.702286981255382,
          3.472419469435408,
          3.123474994549179,
          2.8109845845370725,
          2.8382288735062646,
          3.0082048231450322
         ]
        },
        {
         "error_y": {
          "array": [
           0.012319315165993267,
           0.01701444711811559,
           0.01452884834284829,
           0.015997015767729075,
           0.015712237220698276,
           0.015072305466927897,
           0.01251084399840629
          ],
          "color": "rgb(0,100,246)",
          "type": "data",
          "visible": true
         },
         "line": {
          "color": "rgb(0,176,246)"
         },
         "mode": "lines+markers",
         "name": "Sim Data",
         "type": "scatter",
         "x": [
          -1.7333333333333336,
          -0.7562499999999999,
          -0.3029166666666668,
          0.04949999999999995,
          0.30600000000000005,
          0.7723809523809525,
          1.9495238095238094
         ],
         "y": [
          3.519758891943357,
          3.9168532910901432,
          4.043902902859117,
          4.065202863712374,
          4.035731828655215,
          3.9557122149112187,
          3.35510603281854
         ]
        },
        {
         "error_y": {
          "array": [
           0.04166666666666667,
           0.08539125638299665,
           0.0982946374365981,
           0.10942433098048308,
           0.06882472016116851,
           0.0878051853075513,
           0.047619047619047616
          ],
          "color": "rgb(0,170,80)",
          "type": "data",
          "visible": true
         },
         "line": {
          "color": "rgb(0,100,80)"
         },
         "mode": "lines+markers",
         "name": "Test Data",
         "type": "scatter",
         "x": [
          -1.7333333333333336,
          -0.7562499999999999,
          -0.3029166666666668,
          0.04949999999999995,
          0.30600000000000005,
          0.7723809523809525,
          1.9495238095238094
         ],
         "xaxis": "x2",
         "y": [
          0.041666666666666664,
          0.125,
          0.3333333333333333,
          0.65,
          0.9,
          0.8095238095238095,
          0.9523809523809523
         ],
         "yaxis": "y2"
        },
        {
         "error_y": {
          "array": [
           0.0021543350385709423,
           0.0036497546183609617,
           0.0032401524257497467,
           0.0036144364213086286,
           0.0035656886941252625,
           0.003243881842020784,
           0.002223280245883325
          ],
          "color": "rgb(0,100,246)",
          "type": "data",
          "visible": true
         },
         "line": {
          "color": "rgb(0,176,246)"
         },
         "mode": "lines+markers",
         "name": "Sim Data",
         "type": "scatter",
         "x": [
          -1.7333333333333336,
          -0.7562499999999999,
          -0.3029166666666668,
          0.04949999999999995,
          0.30600000000000005,
          0.7723809523809525,
          1.9495238095238094
         ],
         "xaxis": "x2",
         "y": [
          0.1254810742228801,
          0.29024957972326393,
          0.40067325347556176,
          0.504180602006689,
          0.5849916212819438,
          0.6931677633206352,
          0.8841698841698842
         ],
         "yaxis": "y2"
        }
       ],
       "layout": {
        "annotations": [
         {
          "showarrow": false,
          "text": "PARAMETERS: v: 0.041, a: 0.192, θ: 0.46",
          "x": 0.01,
          "xref": "paper",
          "y": 1.12,
          "yref": "paper"
         },
         {
          "showarrow": false,
          "text": "MLE: 690.78",
          "x": 0.01,
          "xref": "paper",
          "y": 1.08,
          "yref": "paper"
         },
         {
          "font": {
           "family": "Arial, sans-serif",
           "size": 22
          },
          "showarrow": false,
          "text": "SUBJECT: 0",
          "x": 0.01,
          "xref": "paper",
          "y": 1.2,
          "yref": "paper"
         }
        ],
        "paper_bgcolor": "rgb(255,255,255)",
        "plot_bgcolor": "rgb(229,229,229)",
        "xaxis": {
         "domain": [
          0,
          0.45
         ],
         "gridcolor": "rgb(255,255,255)",
         "range": [
          -2,
          2
         ],
         "showgrid": true,
         "showline": false,
         "showticklabels": true,
         "tickcolor": "rgb(127,127,127)",
         "ticks": "outside",
         "title": "Net Value ($)",
         "zeroline": false
        },
        "xaxis2": {
         "domain": [
          0.55,
          1
         ],
         "gridcolor": "rgb(255,255,255)",
         "range": [
          -2,
          2
         ],
         "showgrid": true,
         "showline": false,
         "showticklabels": true,
         "tickcolor": "rgb(127,127,127)",
         "ticks": "outside",
         "title": "Net Value ($)",
         "zeroline": false
        },
        "yaxis1": {
         "anchor": "x1",
         "gridcolor": "rgb(255,255,255)",
         "range": [
          0
         ],
         "showgrid": true,
         "showline": false,
         "showticklabels": true,
         "tickcolor": "rgb(127,127,127)",
         "ticks": "outside",
         "title": "RT (s)",
         "zeroline": false
        },
        "yaxis2": {
         "anchor": "x2",
         "gridcolor": "rgb(255,255,255)",
         "range": [
          0
         ],
         "showgrid": true,
         "showline": false,
         "showticklabels": true,
         "tickcolor": "rgb(127,127,127)",
         "ticks": "outside",
         "title": "p (accept)",
         "zeroline": false
        }
       }
      },
      "text/html": [
       "<div id=\"bc9f7ced-5ab4-4b61-804c-063d8643ccfe\" style=\"height: 525px; width: 100%;\" class=\"plotly-graph-div\"></div><script type=\"text/javascript\">require([\"plotly\"], function(Plotly) { window.PLOTLYENV=window.PLOTLYENV || {};window.PLOTLYENV.BASE_URL=\"https://plot.ly\";Plotly.newPlot(\"bc9f7ced-5ab4-4b61-804c-063d8643ccfe\", [{\"type\": \"scatter\", \"x\": [-1.7333333333333336, -0.7562499999999999, -0.3029166666666668, 0.04949999999999995, 0.30600000000000005, 0.7723809523809525, 1.9495238095238094], \"y\": [3.0015640740833374, 3.702286981255382, 3.472419469435408, 3.123474994549179, 2.8109845845370725, 2.8382288735062646, 3.0082048231450322], \"error_y\": {\"type\": \"data\", \"array\": [0.26691156466118776, 0.5625841894881555, 0.3092635890278254, 0.16773999036033826, 0.22250602510869272, 0.3783604602105652, 0.3959290719366735], \"color\": \"rgb(0,170,80)\", \"visible\": true}, \"line\": {\"color\": \"rgb(0,100,80)\"}, \"mode\": \"lines+markers\", \"name\": \"Test Data\"}, {\"type\": \"scatter\", \"x\": [-1.7333333333333336, -0.7562499999999999, -0.3029166666666668, 0.04949999999999995, 0.30600000000000005, 0.7723809523809525, 1.9495238095238094], \"y\": [3.519758891943357, 3.9168532910901432, 4.043902902859117, 4.065202863712374, 4.035731828655215, 3.9557122149112187, 3.35510603281854], \"error_y\": {\"type\": \"data\", \"array\": [0.012319315165993267, 0.01701444711811559, 0.01452884834284829, 0.015997015767729075, 0.015712237220698276, 0.015072305466927897, 0.01251084399840629], \"color\": \"rgb(0,100,246)\", \"visible\": true}, \"line\": {\"color\": \"rgb(0,176,246)\"}, \"mode\": \"lines+markers\", \"name\": \"Sim Data\"}, {\"type\": \"scatter\", \"x\": [-1.7333333333333336, -0.7562499999999999, -0.3029166666666668, 0.04949999999999995, 0.30600000000000005, 0.7723809523809525, 1.9495238095238094], \"y\": [0.041666666666666664, 0.125, 0.3333333333333333, 0.65, 0.9, 0.8095238095238095, 0.9523809523809523], \"error_y\": {\"type\": \"data\", \"array\": [0.04166666666666667, 0.08539125638299665, 0.0982946374365981, 0.10942433098048308, 0.06882472016116851, 0.0878051853075513, 0.047619047619047616], \"color\": \"rgb(0,170,80)\", \"visible\": true}, \"line\": {\"color\": \"rgb(0,100,80)\"}, \"mode\": \"lines+markers\", \"name\": \"Test Data\", \"xaxis\": \"x2\", \"yaxis\": \"y2\"}, {\"type\": \"scatter\", \"x\": [-1.7333333333333336, -0.7562499999999999, -0.3029166666666668, 0.04949999999999995, 0.30600000000000005, 0.7723809523809525, 1.9495238095238094], \"y\": [0.1254810742228801, 0.29024957972326393, 0.40067325347556176, 0.504180602006689, 0.5849916212819438, 0.6931677633206352, 0.8841698841698842], \"error_y\": {\"type\": \"data\", \"array\": [0.0021543350385709423, 0.0036497546183609617, 0.0032401524257497467, 0.0036144364213086286, 0.0035656886941252625, 0.003243881842020784, 0.002223280245883325], \"color\": \"rgb(0,100,246)\", \"visible\": true}, \"line\": {\"color\": \"rgb(0,176,246)\"}, \"mode\": \"lines+markers\", \"name\": \"Sim Data\", \"xaxis\": \"x2\", \"yaxis\": \"y2\"}], {\"paper_bgcolor\": \"rgb(255,255,255)\", \"plot_bgcolor\": \"rgb(229,229,229)\", \"xaxis\": {\"gridcolor\": \"rgb(255,255,255)\", \"range\": [-2, 2], \"domain\": [0, 0.45], \"showgrid\": true, \"showline\": false, \"showticklabels\": true, \"tickcolor\": \"rgb(127,127,127)\", \"ticks\": \"outside\", \"title\": \"Net Value ($)\", \"zeroline\": false}, \"xaxis2\": {\"gridcolor\": \"rgb(255,255,255)\", \"range\": [-2, 2], \"domain\": [0.55, 1], \"showgrid\": true, \"showline\": false, \"showticklabels\": true, \"tickcolor\": \"rgb(127,127,127)\", \"ticks\": \"outside\", \"title\": \"Net Value ($)\", \"zeroline\": false}, \"yaxis1\": {\"gridcolor\": \"rgb(255,255,255)\", \"range\": [0], \"showgrid\": true, \"showline\": false, \"showticklabels\": true, \"tickcolor\": \"rgb(127,127,127)\", \"ticks\": \"outside\", \"title\": \"RT (s)\", \"anchor\": \"x1\", \"zeroline\": false}, \"yaxis2\": {\"gridcolor\": \"rgb(255,255,255)\", \"range\": [0], \"showgrid\": true, \"showline\": false, \"showticklabels\": true, \"tickcolor\": \"rgb(127,127,127)\", \"ticks\": \"outside\", \"title\": \"p (accept)\", \"anchor\": \"x2\", \"zeroline\": false}, \"annotations\": [{\"x\": 0.01, \"y\": 1.12, \"showarrow\": false, \"text\": \"PARAMETERS: v: 0.041, a: 0.192, \\u03b8: 0.46\", \"xref\": \"paper\", \"yref\": \"paper\"}, {\"x\": 0.01, \"y\": 1.08, \"showarrow\": false, \"text\": \"MLE: 690.78\", \"xref\": \"paper\", \"yref\": \"paper\"}, {\"x\": 0.01, \"y\": 1.2, \"showarrow\": false, \"text\": \"SUBJECT: 0\", \"font\": {\"family\": \"Arial, sans-serif\", \"size\": 22}, \"xref\": \"paper\", \"yref\": \"paper\"}]}, {\"showLink\": true, \"linkText\": \"Export to plot.ly\"})});</script>"
      ],
      "text/vnd.plotly.v1+html": [
       "<div id=\"bc9f7ced-5ab4-4b61-804c-063d8643ccfe\" style=\"height: 525px; width: 100%;\" class=\"plotly-graph-div\"></div><script type=\"text/javascript\">require([\"plotly\"], function(Plotly) { window.PLOTLYENV=window.PLOTLYENV || {};window.PLOTLYENV.BASE_URL=\"https://plot.ly\";Plotly.newPlot(\"bc9f7ced-5ab4-4b61-804c-063d8643ccfe\", [{\"type\": \"scatter\", \"x\": [-1.7333333333333336, -0.7562499999999999, -0.3029166666666668, 0.04949999999999995, 0.30600000000000005, 0.7723809523809525, 1.9495238095238094], \"y\": [3.0015640740833374, 3.702286981255382, 3.472419469435408, 3.123474994549179, 2.8109845845370725, 2.8382288735062646, 3.0082048231450322], \"error_y\": {\"type\": \"data\", \"array\": [0.26691156466118776, 0.5625841894881555, 0.3092635890278254, 0.16773999036033826, 0.22250602510869272, 0.3783604602105652, 0.3959290719366735], \"color\": \"rgb(0,170,80)\", \"visible\": true}, \"line\": {\"color\": \"rgb(0,100,80)\"}, \"mode\": \"lines+markers\", \"name\": \"Test Data\"}, {\"type\": \"scatter\", \"x\": [-1.7333333333333336, -0.7562499999999999, -0.3029166666666668, 0.04949999999999995, 0.30600000000000005, 0.7723809523809525, 1.9495238095238094], \"y\": [3.519758891943357, 3.9168532910901432, 4.043902902859117, 4.065202863712374, 4.035731828655215, 3.9557122149112187, 3.35510603281854], \"error_y\": {\"type\": \"data\", \"array\": [0.012319315165993267, 0.01701444711811559, 0.01452884834284829, 0.015997015767729075, 0.015712237220698276, 0.015072305466927897, 0.01251084399840629], \"color\": \"rgb(0,100,246)\", \"visible\": true}, \"line\": {\"color\": \"rgb(0,176,246)\"}, \"mode\": \"lines+markers\", \"name\": \"Sim Data\"}, {\"type\": \"scatter\", \"x\": [-1.7333333333333336, -0.7562499999999999, -0.3029166666666668, 0.04949999999999995, 0.30600000000000005, 0.7723809523809525, 1.9495238095238094], \"y\": [0.041666666666666664, 0.125, 0.3333333333333333, 0.65, 0.9, 0.8095238095238095, 0.9523809523809523], \"error_y\": {\"type\": \"data\", \"array\": [0.04166666666666667, 0.08539125638299665, 0.0982946374365981, 0.10942433098048308, 0.06882472016116851, 0.0878051853075513, 0.047619047619047616], \"color\": \"rgb(0,170,80)\", \"visible\": true}, \"line\": {\"color\": \"rgb(0,100,80)\"}, \"mode\": \"lines+markers\", \"name\": \"Test Data\", \"xaxis\": \"x2\", \"yaxis\": \"y2\"}, {\"type\": \"scatter\", \"x\": [-1.7333333333333336, -0.7562499999999999, -0.3029166666666668, 0.04949999999999995, 0.30600000000000005, 0.7723809523809525, 1.9495238095238094], \"y\": [0.1254810742228801, 0.29024957972326393, 0.40067325347556176, 0.504180602006689, 0.5849916212819438, 0.6931677633206352, 0.8841698841698842], \"error_y\": {\"type\": \"data\", \"array\": [0.0021543350385709423, 0.0036497546183609617, 0.0032401524257497467, 0.0036144364213086286, 0.0035656886941252625, 0.003243881842020784, 0.002223280245883325], \"color\": \"rgb(0,100,246)\", \"visible\": true}, \"line\": {\"color\": \"rgb(0,176,246)\"}, \"mode\": \"lines+markers\", \"name\": \"Sim Data\", \"xaxis\": \"x2\", \"yaxis\": \"y2\"}], {\"paper_bgcolor\": \"rgb(255,255,255)\", \"plot_bgcolor\": \"rgb(229,229,229)\", \"xaxis\": {\"gridcolor\": \"rgb(255,255,255)\", \"range\": [-2, 2], \"domain\": [0, 0.45], \"showgrid\": true, \"showline\": false, \"showticklabels\": true, \"tickcolor\": \"rgb(127,127,127)\", \"ticks\": \"outside\", \"title\": \"Net Value ($)\", \"zeroline\": false}, \"xaxis2\": {\"gridcolor\": \"rgb(255,255,255)\", \"range\": [-2, 2], \"domain\": [0.55, 1], \"showgrid\": true, \"showline\": false, \"showticklabels\": true, \"tickcolor\": \"rgb(127,127,127)\", \"ticks\": \"outside\", \"title\": \"Net Value ($)\", \"zeroline\": false}, \"yaxis1\": {\"gridcolor\": \"rgb(255,255,255)\", \"range\": [0], \"showgrid\": true, \"showline\": false, \"showticklabels\": true, \"tickcolor\": \"rgb(127,127,127)\", \"ticks\": \"outside\", \"title\": \"RT (s)\", \"anchor\": \"x1\", \"zeroline\": false}, \"yaxis2\": {\"gridcolor\": \"rgb(255,255,255)\", \"range\": [0], \"showgrid\": true, \"showline\": false, \"showticklabels\": true, \"tickcolor\": \"rgb(127,127,127)\", \"ticks\": \"outside\", \"title\": \"p (accept)\", \"anchor\": \"x2\", \"zeroline\": false}, \"annotations\": [{\"x\": 0.01, \"y\": 1.12, \"showarrow\": false, \"text\": \"PARAMETERS: v: 0.041, a: 0.192, \\u03b8: 0.46\", \"xref\": \"paper\", \"yref\": \"paper\"}, {\"x\": 0.01, \"y\": 1.08, \"showarrow\": false, \"text\": \"MLE: 690.78\", \"xref\": \"paper\", \"yref\": \"paper\"}, {\"x\": 0.01, \"y\": 1.2, \"showarrow\": false, \"text\": \"SUBJECT: 0\", \"font\": {\"family\": \"Arial, sans-serif\", \"size\": 22}, \"xref\": \"paper\", \"yref\": \"paper\"}]}, {\"showLink\": true, \"linkText\": \"Export to plot.ly\"})});</script>"
      ]
     },
     "metadata": {},
     "output_type": "display_data"
    },
    {
     "data": {
      "application/vnd.plotly.v1+json": {
       "data": [
        {
         "error_y": {
          "array": [
           0.4080944006773091,
           0.5084614914940523,
           0.49150129399063086,
           0.5531281982759294,
           0.6189654615809154,
           0.373291714372552,
           0.2537480456638595
          ],
          "color": "rgb(0,170,80)",
          "type": "data",
          "visible": true
         },
         "line": {
          "color": "rgb(0,100,80)"
         },
         "mode": "lines+markers",
         "name": "Test Data",
         "type": "scatter",
         "x": [
          -1.698125,
          -0.768421052631579,
          -0.34869565217391296,
          0.045555555555555495,
          0.2916666666666667,
          0.7814814814814816,
          1.7706666666666668
         ],
         "y": [
          3.579329921616591,
          4.736999820868828,
          4.934196604947236,
          4.939064011094161,
          5.70155291512492,
          4.290933009638037,
          2.884620733535849
         ]
        },
        {
         "error_y": {
          "array": [
           0.018960411817485312,
           0.018783707349115053,
           0.017437725369578386,
           0.019638007981198514,
           0.02399212764017829,
           0.01567813642338677,
           0.019324463893439524
          ],
          "color": "rgb(0,100,246)",
          "type": "data",
          "visible": true
         },
         "line": {
          "color": "rgb(0,176,246)"
         },
         "mode": "lines+markers",
         "name": "Sim Data",
         "type": "scatter",
         "x": [
          -1.698125,
          -0.768421052631579,
          -0.34869565217391296,
          0.045555555555555495,
          0.2916666666666667,
          0.7814814814814816,
          1.7706666666666668
         ],
         "y": [
          4.655694000685652,
          5.010381785802045,
          5.141351557166122,
          5.091395113898993,
          5.096478243473045,
          4.935313667692585,
          4.612161813006347
         ]
        },
        {
         "error_y": {
          "array": [
           0,
           0.07233518641434492,
           0.07180198468215396,
           0.11823563735376173,
           0.1305582419667734,
           0.0696696254167378,
           0
          ],
          "color": "rgb(0,170,80)",
          "type": "data",
          "visible": true
         },
         "line": {
          "color": "rgb(0,100,80)"
         },
         "mode": "lines+markers",
         "name": "Test Data",
         "type": "scatter",
         "x": [
          -1.698125,
          -0.768421052631579,
          -0.34869565217391296,
          0.045555555555555495,
          0.2916666666666667,
          0.7814814814814816,
          1.7706666666666668
         ],
         "xaxis": "x2",
         "y": [
          0,
          0.10526315789473684,
          0.13043478260869565,
          0.6111111111111112,
          0.75,
          0.8518518518518519,
          1
         ],
         "yaxis": "y2"
        },
        {
         "error_y": {
          "array": [
           0.002743611516649801,
           0.003602412642101795,
           0.003574435041170909,
           0.0040598478539687856,
           0.004886277707182327,
           0.0029263629058654678,
           0.0027519996272216177
          ],
          "color": "rgb(0,100,246)",
          "type": "data",
          "visible": true
         },
         "line": {
          "color": "rgb(0,176,246)"
         },
         "mode": "lines+markers",
         "name": "Sim Data",
         "type": "scatter",
         "x": [
          -1.698125,
          -0.768421052631579,
          -0.34869565217391296,
          0.045555555555555495,
          0.2916666666666667,
          0.7814814814814816,
          1.7706666666666668
         ],
         "xaxis": "x2",
         "y": [
          0.12553993829276655,
          0.3033038565463031,
          0.4179402342313954,
          0.5197755034664906,
          0.606481944583375,
          0.7290303004031384,
          0.8824173417998686
         ],
         "yaxis": "y2"
        }
       ],
       "layout": {
        "annotations": [
         {
          "showarrow": false,
          "text": "PARAMETERS: v: 0.041, a: 0.249, θ: 0.1",
          "x": 0.01,
          "xref": "paper",
          "y": 1.12,
          "yref": "paper"
         },
         {
          "showarrow": false,
          "text": "MLE: 640.11",
          "x": 0.01,
          "xref": "paper",
          "y": 1.08,
          "yref": "paper"
         },
         {
          "font": {
           "family": "Arial, sans-serif",
           "size": 22
          },
          "showarrow": false,
          "text": "SUBJECT: 1",
          "x": 0.01,
          "xref": "paper",
          "y": 1.2,
          "yref": "paper"
         }
        ],
        "paper_bgcolor": "rgb(255,255,255)",
        "plot_bgcolor": "rgb(229,229,229)",
        "xaxis": {
         "domain": [
          0,
          0.45
         ],
         "gridcolor": "rgb(255,255,255)",
         "range": [
          -2,
          2
         ],
         "showgrid": true,
         "showline": false,
         "showticklabels": true,
         "tickcolor": "rgb(127,127,127)",
         "ticks": "outside",
         "title": "Net Value ($)",
         "zeroline": false
        },
        "xaxis2": {
         "domain": [
          0.55,
          1
         ],
         "gridcolor": "rgb(255,255,255)",
         "range": [
          -2,
          2
         ],
         "showgrid": true,
         "showline": false,
         "showticklabels": true,
         "tickcolor": "rgb(127,127,127)",
         "ticks": "outside",
         "title": "Net Value ($)",
         "zeroline": false
        },
        "yaxis1": {
         "anchor": "x1",
         "gridcolor": "rgb(255,255,255)",
         "range": [
          0
         ],
         "showgrid": true,
         "showline": false,
         "showticklabels": true,
         "tickcolor": "rgb(127,127,127)",
         "ticks": "outside",
         "title": "RT (s)",
         "zeroline": false
        },
        "yaxis2": {
         "anchor": "x2",
         "gridcolor": "rgb(255,255,255)",
         "range": [
          0
         ],
         "showgrid": true,
         "showline": false,
         "showticklabels": true,
         "tickcolor": "rgb(127,127,127)",
         "ticks": "outside",
         "title": "p (accept)",
         "zeroline": false
        }
       }
      },
      "text/html": [
       "<div id=\"a95f628f-92c3-43bb-97b5-0e650fef39e7\" style=\"height: 525px; width: 100%;\" class=\"plotly-graph-div\"></div><script type=\"text/javascript\">require([\"plotly\"], function(Plotly) { window.PLOTLYENV=window.PLOTLYENV || {};window.PLOTLYENV.BASE_URL=\"https://plot.ly\";Plotly.newPlot(\"a95f628f-92c3-43bb-97b5-0e650fef39e7\", [{\"type\": \"scatter\", \"x\": [-1.698125, -0.768421052631579, -0.34869565217391296, 0.045555555555555495, 0.2916666666666667, 0.7814814814814816, 1.7706666666666668], \"y\": [3.579329921616591, 4.736999820868828, 4.934196604947236, 4.939064011094161, 5.70155291512492, 4.290933009638037, 2.884620733535849], \"error_y\": {\"type\": \"data\", \"array\": [0.4080944006773091, 0.5084614914940523, 0.49150129399063086, 0.5531281982759294, 0.6189654615809154, 0.373291714372552, 0.2537480456638595], \"color\": \"rgb(0,170,80)\", \"visible\": true}, \"line\": {\"color\": \"rgb(0,100,80)\"}, \"mode\": \"lines+markers\", \"name\": \"Test Data\"}, {\"type\": \"scatter\", \"x\": [-1.698125, -0.768421052631579, -0.34869565217391296, 0.045555555555555495, 0.2916666666666667, 0.7814814814814816, 1.7706666666666668], \"y\": [4.655694000685652, 5.010381785802045, 5.141351557166122, 5.091395113898993, 5.096478243473045, 4.935313667692585, 4.612161813006347], \"error_y\": {\"type\": \"data\", \"array\": [0.018960411817485312, 0.018783707349115053, 0.017437725369578386, 0.019638007981198514, 0.02399212764017829, 0.01567813642338677, 0.019324463893439524], \"color\": \"rgb(0,100,246)\", \"visible\": true}, \"line\": {\"color\": \"rgb(0,176,246)\"}, \"mode\": \"lines+markers\", \"name\": \"Sim Data\"}, {\"type\": \"scatter\", \"x\": [-1.698125, -0.768421052631579, -0.34869565217391296, 0.045555555555555495, 0.2916666666666667, 0.7814814814814816, 1.7706666666666668], \"y\": [0.0, 0.10526315789473684, 0.13043478260869565, 0.6111111111111112, 0.75, 0.8518518518518519, 1.0], \"error_y\": {\"type\": \"data\", \"array\": [0.0, 0.07233518641434492, 0.07180198468215396, 0.11823563735376173, 0.1305582419667734, 0.0696696254167378, 0.0], \"color\": \"rgb(0,170,80)\", \"visible\": true}, \"line\": {\"color\": \"rgb(0,100,80)\"}, \"mode\": \"lines+markers\", \"name\": \"Test Data\", \"xaxis\": \"x2\", \"yaxis\": \"y2\"}, {\"type\": \"scatter\", \"x\": [-1.698125, -0.768421052631579, -0.34869565217391296, 0.045555555555555495, 0.2916666666666667, 0.7814814814814816, 1.7706666666666668], \"y\": [0.12553993829276655, 0.3033038565463031, 0.4179402342313954, 0.5197755034664906, 0.606481944583375, 0.7290303004031384, 0.8824173417998686], \"error_y\": {\"type\": \"data\", \"array\": [0.002743611516649801, 0.003602412642101795, 0.003574435041170909, 0.0040598478539687856, 0.004886277707182327, 0.0029263629058654678, 0.0027519996272216177], \"color\": \"rgb(0,100,246)\", \"visible\": true}, \"line\": {\"color\": \"rgb(0,176,246)\"}, \"mode\": \"lines+markers\", \"name\": \"Sim Data\", \"xaxis\": \"x2\", \"yaxis\": \"y2\"}], {\"paper_bgcolor\": \"rgb(255,255,255)\", \"plot_bgcolor\": \"rgb(229,229,229)\", \"xaxis\": {\"gridcolor\": \"rgb(255,255,255)\", \"range\": [-2, 2], \"domain\": [0, 0.45], \"showgrid\": true, \"showline\": false, \"showticklabels\": true, \"tickcolor\": \"rgb(127,127,127)\", \"ticks\": \"outside\", \"title\": \"Net Value ($)\", \"zeroline\": false}, \"xaxis2\": {\"gridcolor\": \"rgb(255,255,255)\", \"range\": [-2, 2], \"domain\": [0.55, 1], \"showgrid\": true, \"showline\": false, \"showticklabels\": true, \"tickcolor\": \"rgb(127,127,127)\", \"ticks\": \"outside\", \"title\": \"Net Value ($)\", \"zeroline\": false}, \"yaxis1\": {\"gridcolor\": \"rgb(255,255,255)\", \"range\": [0], \"showgrid\": true, \"showline\": false, \"showticklabels\": true, \"tickcolor\": \"rgb(127,127,127)\", \"ticks\": \"outside\", \"title\": \"RT (s)\", \"anchor\": \"x1\", \"zeroline\": false}, \"yaxis2\": {\"gridcolor\": \"rgb(255,255,255)\", \"range\": [0], \"showgrid\": true, \"showline\": false, \"showticklabels\": true, \"tickcolor\": \"rgb(127,127,127)\", \"ticks\": \"outside\", \"title\": \"p (accept)\", \"anchor\": \"x2\", \"zeroline\": false}, \"annotations\": [{\"x\": 0.01, \"y\": 1.12, \"showarrow\": false, \"text\": \"PARAMETERS: v: 0.041, a: 0.249, \\u03b8: 0.1\", \"xref\": \"paper\", \"yref\": \"paper\"}, {\"x\": 0.01, \"y\": 1.08, \"showarrow\": false, \"text\": \"MLE: 640.11\", \"xref\": \"paper\", \"yref\": \"paper\"}, {\"x\": 0.01, \"y\": 1.2, \"showarrow\": false, \"text\": \"SUBJECT: 1\", \"font\": {\"family\": \"Arial, sans-serif\", \"size\": 22}, \"xref\": \"paper\", \"yref\": \"paper\"}]}, {\"showLink\": true, \"linkText\": \"Export to plot.ly\"})});</script>"
      ],
      "text/vnd.plotly.v1+html": [
       "<div id=\"a95f628f-92c3-43bb-97b5-0e650fef39e7\" style=\"height: 525px; width: 100%;\" class=\"plotly-graph-div\"></div><script type=\"text/javascript\">require([\"plotly\"], function(Plotly) { window.PLOTLYENV=window.PLOTLYENV || {};window.PLOTLYENV.BASE_URL=\"https://plot.ly\";Plotly.newPlot(\"a95f628f-92c3-43bb-97b5-0e650fef39e7\", [{\"type\": \"scatter\", \"x\": [-1.698125, -0.768421052631579, -0.34869565217391296, 0.045555555555555495, 0.2916666666666667, 0.7814814814814816, 1.7706666666666668], \"y\": [3.579329921616591, 4.736999820868828, 4.934196604947236, 4.939064011094161, 5.70155291512492, 4.290933009638037, 2.884620733535849], \"error_y\": {\"type\": \"data\", \"array\": [0.4080944006773091, 0.5084614914940523, 0.49150129399063086, 0.5531281982759294, 0.6189654615809154, 0.373291714372552, 0.2537480456638595], \"color\": \"rgb(0,170,80)\", \"visible\": true}, \"line\": {\"color\": \"rgb(0,100,80)\"}, \"mode\": \"lines+markers\", \"name\": \"Test Data\"}, {\"type\": \"scatter\", \"x\": [-1.698125, -0.768421052631579, -0.34869565217391296, 0.045555555555555495, 0.2916666666666667, 0.7814814814814816, 1.7706666666666668], \"y\": [4.655694000685652, 5.010381785802045, 5.141351557166122, 5.091395113898993, 5.096478243473045, 4.935313667692585, 4.612161813006347], \"error_y\": {\"type\": \"data\", \"array\": [0.018960411817485312, 0.018783707349115053, 0.017437725369578386, 0.019638007981198514, 0.02399212764017829, 0.01567813642338677, 0.019324463893439524], \"color\": \"rgb(0,100,246)\", \"visible\": true}, \"line\": {\"color\": \"rgb(0,176,246)\"}, \"mode\": \"lines+markers\", \"name\": \"Sim Data\"}, {\"type\": \"scatter\", \"x\": [-1.698125, -0.768421052631579, -0.34869565217391296, 0.045555555555555495, 0.2916666666666667, 0.7814814814814816, 1.7706666666666668], \"y\": [0.0, 0.10526315789473684, 0.13043478260869565, 0.6111111111111112, 0.75, 0.8518518518518519, 1.0], \"error_y\": {\"type\": \"data\", \"array\": [0.0, 0.07233518641434492, 0.07180198468215396, 0.11823563735376173, 0.1305582419667734, 0.0696696254167378, 0.0], \"color\": \"rgb(0,170,80)\", \"visible\": true}, \"line\": {\"color\": \"rgb(0,100,80)\"}, \"mode\": \"lines+markers\", \"name\": \"Test Data\", \"xaxis\": \"x2\", \"yaxis\": \"y2\"}, {\"type\": \"scatter\", \"x\": [-1.698125, -0.768421052631579, -0.34869565217391296, 0.045555555555555495, 0.2916666666666667, 0.7814814814814816, 1.7706666666666668], \"y\": [0.12553993829276655, 0.3033038565463031, 0.4179402342313954, 0.5197755034664906, 0.606481944583375, 0.7290303004031384, 0.8824173417998686], \"error_y\": {\"type\": \"data\", \"array\": [0.002743611516649801, 0.003602412642101795, 0.003574435041170909, 0.0040598478539687856, 0.004886277707182327, 0.0029263629058654678, 0.0027519996272216177], \"color\": \"rgb(0,100,246)\", \"visible\": true}, \"line\": {\"color\": \"rgb(0,176,246)\"}, \"mode\": \"lines+markers\", \"name\": \"Sim Data\", \"xaxis\": \"x2\", \"yaxis\": \"y2\"}], {\"paper_bgcolor\": \"rgb(255,255,255)\", \"plot_bgcolor\": \"rgb(229,229,229)\", \"xaxis\": {\"gridcolor\": \"rgb(255,255,255)\", \"range\": [-2, 2], \"domain\": [0, 0.45], \"showgrid\": true, \"showline\": false, \"showticklabels\": true, \"tickcolor\": \"rgb(127,127,127)\", \"ticks\": \"outside\", \"title\": \"Net Value ($)\", \"zeroline\": false}, \"xaxis2\": {\"gridcolor\": \"rgb(255,255,255)\", \"range\": [-2, 2], \"domain\": [0.55, 1], \"showgrid\": true, \"showline\": false, \"showticklabels\": true, \"tickcolor\": \"rgb(127,127,127)\", \"ticks\": \"outside\", \"title\": \"Net Value ($)\", \"zeroline\": false}, \"yaxis1\": {\"gridcolor\": \"rgb(255,255,255)\", \"range\": [0], \"showgrid\": true, \"showline\": false, \"showticklabels\": true, \"tickcolor\": \"rgb(127,127,127)\", \"ticks\": \"outside\", \"title\": \"RT (s)\", \"anchor\": \"x1\", \"zeroline\": false}, \"yaxis2\": {\"gridcolor\": \"rgb(255,255,255)\", \"range\": [0], \"showgrid\": true, \"showline\": false, \"showticklabels\": true, \"tickcolor\": \"rgb(127,127,127)\", \"ticks\": \"outside\", \"title\": \"p (accept)\", \"anchor\": \"x2\", \"zeroline\": false}, \"annotations\": [{\"x\": 0.01, \"y\": 1.12, \"showarrow\": false, \"text\": \"PARAMETERS: v: 0.041, a: 0.249, \\u03b8: 0.1\", \"xref\": \"paper\", \"yref\": \"paper\"}, {\"x\": 0.01, \"y\": 1.08, \"showarrow\": false, \"text\": \"MLE: 640.11\", \"xref\": \"paper\", \"yref\": \"paper\"}, {\"x\": 0.01, \"y\": 1.2, \"showarrow\": false, \"text\": \"SUBJECT: 1\", \"font\": {\"family\": \"Arial, sans-serif\", \"size\": 22}, \"xref\": \"paper\", \"yref\": \"paper\"}]}, {\"showLink\": true, \"linkText\": \"Export to plot.ly\"})});</script>"
      ]
     },
     "metadata": {},
     "output_type": "display_data"
    },
    {
     "data": {
      "application/vnd.plotly.v1+json": {
       "data": [
        {
         "error_y": {
          "array": [
           0.10879429279426972,
           0.25402595724407784,
           0.3409129329043157,
           0.2260598981907746,
           0.24480488295898126,
           0.16771570062318283,
           0.05381930759782264
          ],
          "color": "rgb(0,170,80)",
          "type": "data",
          "visible": true
         },
         "line": {
          "color": "rgb(0,100,80)"
         },
         "mode": "lines+markers",
         "name": "Test Data",
         "type": "scatter",
         "x": [
          -1.686923076923077,
          -0.8123809523809523,
          -0.2756521739130436,
          0.02799999999999996,
          0.27105263157894727,
          0.7813636363636364,
          1.5395238095238095
         ],
         "y": [
          1.638579470857692,
          1.9859039087147852,
          2.2414704256630302,
          2.171842512818209,
          1.7782342430743348,
          1.6221177481771023,
          1.2644601382947134
         ]
        },
        {
         "error_y": {
          "array": [
           0.009543711618054602,
           0.008992257156873634,
           0.009280128614174113,
           0.007678952866785657,
           0.010445842717911154,
           0.008894683131763986,
           0.007173785060298337
          ],
          "color": "rgb(0,100,246)",
          "type": "data",
          "visible": true
         },
         "line": {
          "color": "rgb(0,176,246)"
         },
         "mode": "lines+markers",
         "name": "Sim Data",
         "type": "scatter",
         "x": [
          -1.686923076923077,
          -0.8123809523809523,
          -0.2756521739130436,
          0.02799999999999996,
          0.27105263157894727,
          0.7813636363636364,
          1.5395238095238095
         ],
         "y": [
          2.151148549888456,
          2.443592082698158,
          2.577037955950209,
          2.4223616595517727,
          2.578856630824368,
          2.4363898389884575,
          2.172662840541055
         ]
        },
        {
         "error_y": {
          "array": [
           0.07692307692307691,
           0.06563832739090582,
           0.09810018692482893,
           0.09264111117062016,
           0.10379087338771255,
           0.06273323266748675,
           0
          ],
          "color": "rgb(0,170,80)",
          "type": "data",
          "visible": true
         },
         "line": {
          "color": "rgb(0,100,80)"
         },
         "mode": "lines+markers",
         "name": "Test Data",
         "type": "scatter",
         "x": [
          -1.686923076923077,
          -0.8123809523809523,
          -0.2756521739130436,
          0.02799999999999996,
          0.27105263157894727,
          0.7813636363636364,
          1.5395238095238095
         ],
         "xaxis": "x2",
         "y": [
          0.07692307692307693,
          0.09523809523809523,
          0.30434782608695654,
          0.5333333333333333,
          0.7368421052631579,
          0.9090909090909091,
          1
         ],
         "yaxis": "y2"
        },
        {
         "error_y": {
          "array": [
           0.0032043889574778625,
           0.003156660185006981,
           0.003265499622459425,
           0.0028830550928182585,
           0.003570472793635688,
           0.0029928873157478763,
           0.0022729094816550085
          ],
          "color": "rgb(0,100,246)",
          "type": "data",
          "visible": true
         },
         "line": {
          "color": "rgb(0,176,246)"
         },
         "mode": "lines+markers",
         "name": "Sim Data",
         "type": "scatter",
         "x": [
          -1.686923076923077,
          -0.8123809523809523,
          -0.2756521739130436,
          0.02799999999999996,
          0.27105263157894727,
          0.7813636363636364,
          1.5395238095238095
         ],
         "xaxis": "x2",
         "y": [
          0.15862758673744135,
          0.2979230182926829,
          0.42909375816139983,
          0.5279482390608324,
          0.5902909550917141,
          0.7303738742836351,
          0.8762145170508668
         ],
         "yaxis": "y2"
        }
       ],
       "layout": {
        "annotations": [
         {
          "showarrow": false,
          "text": "PARAMETERS: v: 0.077, a: 0.135, θ: 0.28",
          "x": 0.01,
          "xref": "paper",
          "y": 1.12,
          "yref": "paper"
         },
         {
          "showarrow": false,
          "text": "MLE: 585.37",
          "x": 0.01,
          "xref": "paper",
          "y": 1.08,
          "yref": "paper"
         },
         {
          "font": {
           "family": "Arial, sans-serif",
           "size": 22
          },
          "showarrow": false,
          "text": "SUBJECT: 2",
          "x": 0.01,
          "xref": "paper",
          "y": 1.2,
          "yref": "paper"
         }
        ],
        "paper_bgcolor": "rgb(255,255,255)",
        "plot_bgcolor": "rgb(229,229,229)",
        "xaxis": {
         "domain": [
          0,
          0.45
         ],
         "gridcolor": "rgb(255,255,255)",
         "range": [
          -2,
          2
         ],
         "showgrid": true,
         "showline": false,
         "showticklabels": true,
         "tickcolor": "rgb(127,127,127)",
         "ticks": "outside",
         "title": "Net Value ($)",
         "zeroline": false
        },
        "xaxis2": {
         "domain": [
          0.55,
          1
         ],
         "gridcolor": "rgb(255,255,255)",
         "range": [
          -2,
          2
         ],
         "showgrid": true,
         "showline": false,
         "showticklabels": true,
         "tickcolor": "rgb(127,127,127)",
         "ticks": "outside",
         "title": "Net Value ($)",
         "zeroline": false
        },
        "yaxis1": {
         "anchor": "x1",
         "gridcolor": "rgb(255,255,255)",
         "range": [
          0
         ],
         "showgrid": true,
         "showline": false,
         "showticklabels": true,
         "tickcolor": "rgb(127,127,127)",
         "ticks": "outside",
         "title": "RT (s)",
         "zeroline": false
        },
        "yaxis2": {
         "anchor": "x2",
         "gridcolor": "rgb(255,255,255)",
         "range": [
          0
         ],
         "showgrid": true,
         "showline": false,
         "showticklabels": true,
         "tickcolor": "rgb(127,127,127)",
         "ticks": "outside",
         "title": "p (accept)",
         "zeroline": false
        }
       }
      },
      "text/html": [
       "<div id=\"9cb4776b-9d3e-452f-bafb-46823aae1927\" style=\"height: 525px; width: 100%;\" class=\"plotly-graph-div\"></div><script type=\"text/javascript\">require([\"plotly\"], function(Plotly) { window.PLOTLYENV=window.PLOTLYENV || {};window.PLOTLYENV.BASE_URL=\"https://plot.ly\";Plotly.newPlot(\"9cb4776b-9d3e-452f-bafb-46823aae1927\", [{\"type\": \"scatter\", \"x\": [-1.686923076923077, -0.8123809523809523, -0.2756521739130436, 0.02799999999999996, 0.27105263157894727, 0.7813636363636364, 1.5395238095238095], \"y\": [1.638579470857692, 1.9859039087147852, 2.2414704256630302, 2.171842512818209, 1.7782342430743348, 1.6221177481771023, 1.2644601382947134], \"error_y\": {\"type\": \"data\", \"array\": [0.10879429279426972, 0.25402595724407784, 0.3409129329043157, 0.2260598981907746, 0.24480488295898126, 0.16771570062318283, 0.05381930759782264], \"color\": \"rgb(0,170,80)\", \"visible\": true}, \"line\": {\"color\": \"rgb(0,100,80)\"}, \"mode\": \"lines+markers\", \"name\": \"Test Data\"}, {\"type\": \"scatter\", \"x\": [-1.686923076923077, -0.8123809523809523, -0.2756521739130436, 0.02799999999999996, 0.27105263157894727, 0.7813636363636364, 1.5395238095238095], \"y\": [2.151148549888456, 2.443592082698158, 2.577037955950209, 2.4223616595517727, 2.578856630824368, 2.4363898389884575, 2.172662840541055], \"error_y\": {\"type\": \"data\", \"array\": [0.009543711618054602, 0.008992257156873634, 0.009280128614174113, 0.007678952866785657, 0.010445842717911154, 0.008894683131763986, 0.007173785060298337], \"color\": \"rgb(0,100,246)\", \"visible\": true}, \"line\": {\"color\": \"rgb(0,176,246)\"}, \"mode\": \"lines+markers\", \"name\": \"Sim Data\"}, {\"type\": \"scatter\", \"x\": [-1.686923076923077, -0.8123809523809523, -0.2756521739130436, 0.02799999999999996, 0.27105263157894727, 0.7813636363636364, 1.5395238095238095], \"y\": [0.07692307692307693, 0.09523809523809523, 0.30434782608695654, 0.5333333333333333, 0.7368421052631579, 0.9090909090909091, 1.0], \"error_y\": {\"type\": \"data\", \"array\": [0.07692307692307691, 0.06563832739090582, 0.09810018692482893, 0.09264111117062016, 0.10379087338771255, 0.06273323266748675, 0.0], \"color\": \"rgb(0,170,80)\", \"visible\": true}, \"line\": {\"color\": \"rgb(0,100,80)\"}, \"mode\": \"lines+markers\", \"name\": \"Test Data\", \"xaxis\": \"x2\", \"yaxis\": \"y2\"}, {\"type\": \"scatter\", \"x\": [-1.686923076923077, -0.8123809523809523, -0.2756521739130436, 0.02799999999999996, 0.27105263157894727, 0.7813636363636364, 1.5395238095238095], \"y\": [0.15862758673744135, 0.2979230182926829, 0.42909375816139983, 0.5279482390608324, 0.5902909550917141, 0.7303738742836351, 0.8762145170508668], \"error_y\": {\"type\": \"data\", \"array\": [0.0032043889574778625, 0.003156660185006981, 0.003265499622459425, 0.0028830550928182585, 0.003570472793635688, 0.0029928873157478763, 0.0022729094816550085], \"color\": \"rgb(0,100,246)\", \"visible\": true}, \"line\": {\"color\": \"rgb(0,176,246)\"}, \"mode\": \"lines+markers\", \"name\": \"Sim Data\", \"xaxis\": \"x2\", \"yaxis\": \"y2\"}], {\"paper_bgcolor\": \"rgb(255,255,255)\", \"plot_bgcolor\": \"rgb(229,229,229)\", \"xaxis\": {\"gridcolor\": \"rgb(255,255,255)\", \"range\": [-2, 2], \"domain\": [0, 0.45], \"showgrid\": true, \"showline\": false, \"showticklabels\": true, \"tickcolor\": \"rgb(127,127,127)\", \"ticks\": \"outside\", \"title\": \"Net Value ($)\", \"zeroline\": false}, \"xaxis2\": {\"gridcolor\": \"rgb(255,255,255)\", \"range\": [-2, 2], \"domain\": [0.55, 1], \"showgrid\": true, \"showline\": false, \"showticklabels\": true, \"tickcolor\": \"rgb(127,127,127)\", \"ticks\": \"outside\", \"title\": \"Net Value ($)\", \"zeroline\": false}, \"yaxis1\": {\"gridcolor\": \"rgb(255,255,255)\", \"range\": [0], \"showgrid\": true, \"showline\": false, \"showticklabels\": true, \"tickcolor\": \"rgb(127,127,127)\", \"ticks\": \"outside\", \"title\": \"RT (s)\", \"anchor\": \"x1\", \"zeroline\": false}, \"yaxis2\": {\"gridcolor\": \"rgb(255,255,255)\", \"range\": [0], \"showgrid\": true, \"showline\": false, \"showticklabels\": true, \"tickcolor\": \"rgb(127,127,127)\", \"ticks\": \"outside\", \"title\": \"p (accept)\", \"anchor\": \"x2\", \"zeroline\": false}, \"annotations\": [{\"x\": 0.01, \"y\": 1.12, \"showarrow\": false, \"text\": \"PARAMETERS: v: 0.077, a: 0.135, \\u03b8: 0.28\", \"xref\": \"paper\", \"yref\": \"paper\"}, {\"x\": 0.01, \"y\": 1.08, \"showarrow\": false, \"text\": \"MLE: 585.37\", \"xref\": \"paper\", \"yref\": \"paper\"}, {\"x\": 0.01, \"y\": 1.2, \"showarrow\": false, \"text\": \"SUBJECT: 2\", \"font\": {\"family\": \"Arial, sans-serif\", \"size\": 22}, \"xref\": \"paper\", \"yref\": \"paper\"}]}, {\"showLink\": true, \"linkText\": \"Export to plot.ly\"})});</script>"
      ],
      "text/vnd.plotly.v1+html": [
       "<div id=\"9cb4776b-9d3e-452f-bafb-46823aae1927\" style=\"height: 525px; width: 100%;\" class=\"plotly-graph-div\"></div><script type=\"text/javascript\">require([\"plotly\"], function(Plotly) { window.PLOTLYENV=window.PLOTLYENV || {};window.PLOTLYENV.BASE_URL=\"https://plot.ly\";Plotly.newPlot(\"9cb4776b-9d3e-452f-bafb-46823aae1927\", [{\"type\": \"scatter\", \"x\": [-1.686923076923077, -0.8123809523809523, -0.2756521739130436, 0.02799999999999996, 0.27105263157894727, 0.7813636363636364, 1.5395238095238095], \"y\": [1.638579470857692, 1.9859039087147852, 2.2414704256630302, 2.171842512818209, 1.7782342430743348, 1.6221177481771023, 1.2644601382947134], \"error_y\": {\"type\": \"data\", \"array\": [0.10879429279426972, 0.25402595724407784, 0.3409129329043157, 0.2260598981907746, 0.24480488295898126, 0.16771570062318283, 0.05381930759782264], \"color\": \"rgb(0,170,80)\", \"visible\": true}, \"line\": {\"color\": \"rgb(0,100,80)\"}, \"mode\": \"lines+markers\", \"name\": \"Test Data\"}, {\"type\": \"scatter\", \"x\": [-1.686923076923077, -0.8123809523809523, -0.2756521739130436, 0.02799999999999996, 0.27105263157894727, 0.7813636363636364, 1.5395238095238095], \"y\": [2.151148549888456, 2.443592082698158, 2.577037955950209, 2.4223616595517727, 2.578856630824368, 2.4363898389884575, 2.172662840541055], \"error_y\": {\"type\": \"data\", \"array\": [0.009543711618054602, 0.008992257156873634, 0.009280128614174113, 0.007678952866785657, 0.010445842717911154, 0.008894683131763986, 0.007173785060298337], \"color\": \"rgb(0,100,246)\", \"visible\": true}, \"line\": {\"color\": \"rgb(0,176,246)\"}, \"mode\": \"lines+markers\", \"name\": \"Sim Data\"}, {\"type\": \"scatter\", \"x\": [-1.686923076923077, -0.8123809523809523, -0.2756521739130436, 0.02799999999999996, 0.27105263157894727, 0.7813636363636364, 1.5395238095238095], \"y\": [0.07692307692307693, 0.09523809523809523, 0.30434782608695654, 0.5333333333333333, 0.7368421052631579, 0.9090909090909091, 1.0], \"error_y\": {\"type\": \"data\", \"array\": [0.07692307692307691, 0.06563832739090582, 0.09810018692482893, 0.09264111117062016, 0.10379087338771255, 0.06273323266748675, 0.0], \"color\": \"rgb(0,170,80)\", \"visible\": true}, \"line\": {\"color\": \"rgb(0,100,80)\"}, \"mode\": \"lines+markers\", \"name\": \"Test Data\", \"xaxis\": \"x2\", \"yaxis\": \"y2\"}, {\"type\": \"scatter\", \"x\": [-1.686923076923077, -0.8123809523809523, -0.2756521739130436, 0.02799999999999996, 0.27105263157894727, 0.7813636363636364, 1.5395238095238095], \"y\": [0.15862758673744135, 0.2979230182926829, 0.42909375816139983, 0.5279482390608324, 0.5902909550917141, 0.7303738742836351, 0.8762145170508668], \"error_y\": {\"type\": \"data\", \"array\": [0.0032043889574778625, 0.003156660185006981, 0.003265499622459425, 0.0028830550928182585, 0.003570472793635688, 0.0029928873157478763, 0.0022729094816550085], \"color\": \"rgb(0,100,246)\", \"visible\": true}, \"line\": {\"color\": \"rgb(0,176,246)\"}, \"mode\": \"lines+markers\", \"name\": \"Sim Data\", \"xaxis\": \"x2\", \"yaxis\": \"y2\"}], {\"paper_bgcolor\": \"rgb(255,255,255)\", \"plot_bgcolor\": \"rgb(229,229,229)\", \"xaxis\": {\"gridcolor\": \"rgb(255,255,255)\", \"range\": [-2, 2], \"domain\": [0, 0.45], \"showgrid\": true, \"showline\": false, \"showticklabels\": true, \"tickcolor\": \"rgb(127,127,127)\", \"ticks\": \"outside\", \"title\": \"Net Value ($)\", \"zeroline\": false}, \"xaxis2\": {\"gridcolor\": \"rgb(255,255,255)\", \"range\": [-2, 2], \"domain\": [0.55, 1], \"showgrid\": true, \"showline\": false, \"showticklabels\": true, \"tickcolor\": \"rgb(127,127,127)\", \"ticks\": \"outside\", \"title\": \"Net Value ($)\", \"zeroline\": false}, \"yaxis1\": {\"gridcolor\": \"rgb(255,255,255)\", \"range\": [0], \"showgrid\": true, \"showline\": false, \"showticklabels\": true, \"tickcolor\": \"rgb(127,127,127)\", \"ticks\": \"outside\", \"title\": \"RT (s)\", \"anchor\": \"x1\", \"zeroline\": false}, \"yaxis2\": {\"gridcolor\": \"rgb(255,255,255)\", \"range\": [0], \"showgrid\": true, \"showline\": false, \"showticklabels\": true, \"tickcolor\": \"rgb(127,127,127)\", \"ticks\": \"outside\", \"title\": \"p (accept)\", \"anchor\": \"x2\", \"zeroline\": false}, \"annotations\": [{\"x\": 0.01, \"y\": 1.12, \"showarrow\": false, \"text\": \"PARAMETERS: v: 0.077, a: 0.135, \\u03b8: 0.28\", \"xref\": \"paper\", \"yref\": \"paper\"}, {\"x\": 0.01, \"y\": 1.08, \"showarrow\": false, \"text\": \"MLE: 585.37\", \"xref\": \"paper\", \"yref\": \"paper\"}, {\"x\": 0.01, \"y\": 1.2, \"showarrow\": false, \"text\": \"SUBJECT: 2\", \"font\": {\"family\": \"Arial, sans-serif\", \"size\": 22}, \"xref\": \"paper\", \"yref\": \"paper\"}]}, {\"showLink\": true, \"linkText\": \"Export to plot.ly\"})});</script>"
      ]
     },
     "metadata": {},
     "output_type": "display_data"
    },
    {
     "data": {
      "application/vnd.plotly.v1+json": {
       "data": [
        {
         "error_y": {
          "array": [
           0.1102701021747477,
           0.32080609297211565,
           0.273288008346219,
           0.22112527698932793,
           0.4312362408282256,
           0.20907660220046495,
           0.32466589321716044
          ],
          "color": "rgb(0,170,80)",
          "type": "data",
          "visible": true
         },
         "line": {
          "color": "rgb(0,100,80)"
         },
         "mode": "lines+markers",
         "name": "Test Data",
         "type": "scatter",
         "x": [
          -1.6504999999999999,
          -0.8216666666666667,
          -0.3322222222222222,
          0.031379310344827556,
          0.31399999999999995,
          0.7887500000000003,
          1.5991304347826085
         ],
         "y": [
          1.6242911497538437,
          2.3176755745274327,
          2.431576300043768,
          2.3799502586921806,
          2.4389645597664638,
          2.132048700916736,
          2.195744744593115
         ]
        },
        {
         "error_y": {
          "array": [
           0.010499086565831792,
           0.0108478573061327,
           0.010935203769859273,
           0.008648797670363204,
           0.011939153923675063,
           0.009516779830653537,
           0.009618170743158998
          ],
          "color": "rgb(0,100,246)",
          "type": "data",
          "visible": true
         },
         "line": {
          "color": "rgb(0,176,246)"
         },
         "mode": "lines+markers",
         "name": "Sim Data",
         "type": "scatter",
         "x": [
          -1.6504999999999999,
          -0.8216666666666667,
          -0.3322222222222222,
          0.031379310344827556,
          0.31399999999999995,
          0.7887500000000003,
          1.5991304347826085
         ],
         "y": [
          2.646678201211864,
          2.6339177853283555,
          2.6493223057644117,
          2.651859053213541,
          2.637593441090026,
          2.6508097841966887,
          2.638908873214897
         ]
        },
        {
         "error_y": {
          "array": [
           0.06882472016116853,
           0.10863248456597818,
           0.10863248456597818,
           0.08446516354424752,
           0.06666666666666665,
           0.05763033956734372,
           0.043478260869565216
          ],
          "color": "rgb(0,170,80)",
          "type": "data",
          "visible": true
         },
         "line": {
          "color": "rgb(0,100,80)"
         },
         "mode": "lines+markers",
         "name": "Test Data",
         "type": "scatter",
         "x": [
          -1.6504999999999999,
          -0.8216666666666667,
          -0.3322222222222222,
          0.031379310344827556,
          0.31399999999999995,
          0.7887500000000003,
          1.5991304347826085
         ],
         "xaxis": "x2",
         "y": [
          0.1,
          0.2777777777777778,
          0.2777777777777778,
          0.7241379310344828,
          0.9333333333333333,
          0.9166666666666666,
          0.9565217391304348
         ],
         "yaxis": "y2"
        },
        {
         "error_y": {
          "array": [
           0.003516213328765244,
           0.00372629678349352,
           0.0037298693458861602,
           0.0029389046952179544,
           0.004086382387922547,
           0.003225323221213523,
           0.0032845663633582853
          ],
          "color": "rgb(0,100,246)",
          "type": "data",
          "visible": true
         },
         "line": {
          "color": "rgb(0,176,246)"
         },
         "mode": "lines+markers",
         "name": "Sim Data",
         "type": "scatter",
         "x": [
          -1.6504999999999999,
          -0.8216666666666667,
          -0.3322222222222222,
          0.031379310344827556,
          0.31399999999999995,
          0.7887500000000003,
          1.5991304347826085
         ],
         "xaxis": "x2",
         "y": [
          0.44413841454254094,
          0.4729571659332702,
          0.484990253411306,
          0.5070145127850726,
          0.5025380710659898,
          0.5281546103435322,
          0.5471525600835946
         ],
         "yaxis": "y2"
        }
       ],
       "layout": {
        "annotations": [
         {
          "showarrow": false,
          "text": "PARAMETERS: v: 0.005, a: 0.135, θ: 1.0",
          "x": 0.01,
          "xref": "paper",
          "y": 1.12,
          "yref": "paper"
         },
         {
          "showarrow": false,
          "text": "MLE: 628.96",
          "x": 0.01,
          "xref": "paper",
          "y": 1.08,
          "yref": "paper"
         },
         {
          "font": {
           "family": "Arial, sans-serif",
           "size": 22
          },
          "showarrow": false,
          "text": "SUBJECT: 3",
          "x": 0.01,
          "xref": "paper",
          "y": 1.2,
          "yref": "paper"
         }
        ],
        "paper_bgcolor": "rgb(255,255,255)",
        "plot_bgcolor": "rgb(229,229,229)",
        "xaxis": {
         "domain": [
          0,
          0.45
         ],
         "gridcolor": "rgb(255,255,255)",
         "range": [
          -2,
          2
         ],
         "showgrid": true,
         "showline": false,
         "showticklabels": true,
         "tickcolor": "rgb(127,127,127)",
         "ticks": "outside",
         "title": "Net Value ($)",
         "zeroline": false
        },
        "xaxis2": {
         "domain": [
          0.55,
          1
         ],
         "gridcolor": "rgb(255,255,255)",
         "range": [
          -2,
          2
         ],
         "showgrid": true,
         "showline": false,
         "showticklabels": true,
         "tickcolor": "rgb(127,127,127)",
         "ticks": "outside",
         "title": "Net Value ($)",
         "zeroline": false
        },
        "yaxis1": {
         "anchor": "x1",
         "gridcolor": "rgb(255,255,255)",
         "range": [
          0
         ],
         "showgrid": true,
         "showline": false,
         "showticklabels": true,
         "tickcolor": "rgb(127,127,127)",
         "ticks": "outside",
         "title": "RT (s)",
         "zeroline": false
        },
        "yaxis2": {
         "anchor": "x2",
         "gridcolor": "rgb(255,255,255)",
         "range": [
          0
         ],
         "showgrid": true,
         "showline": false,
         "showticklabels": true,
         "tickcolor": "rgb(127,127,127)",
         "ticks": "outside",
         "title": "p (accept)",
         "zeroline": false
        }
       }
      },
      "text/html": [
       "<div id=\"5939c5dd-f1e6-4768-b8c5-fcccd711f012\" style=\"height: 525px; width: 100%;\" class=\"plotly-graph-div\"></div><script type=\"text/javascript\">require([\"plotly\"], function(Plotly) { window.PLOTLYENV=window.PLOTLYENV || {};window.PLOTLYENV.BASE_URL=\"https://plot.ly\";Plotly.newPlot(\"5939c5dd-f1e6-4768-b8c5-fcccd711f012\", [{\"type\": \"scatter\", \"x\": [-1.6504999999999999, -0.8216666666666667, -0.3322222222222222, 0.031379310344827556, 0.31399999999999995, 0.7887500000000003, 1.5991304347826085], \"y\": [1.6242911497538437, 2.3176755745274327, 2.431576300043768, 2.3799502586921806, 2.4389645597664638, 2.132048700916736, 2.195744744593115], \"error_y\": {\"type\": \"data\", \"array\": [0.1102701021747477, 0.32080609297211565, 0.273288008346219, 0.22112527698932793, 0.4312362408282256, 0.20907660220046495, 0.32466589321716044], \"color\": \"rgb(0,170,80)\", \"visible\": true}, \"line\": {\"color\": \"rgb(0,100,80)\"}, \"mode\": \"lines+markers\", \"name\": \"Test Data\"}, {\"type\": \"scatter\", \"x\": [-1.6504999999999999, -0.8216666666666667, -0.3322222222222222, 0.031379310344827556, 0.31399999999999995, 0.7887500000000003, 1.5991304347826085], \"y\": [2.646678201211864, 2.6339177853283555, 2.6493223057644117, 2.651859053213541, 2.637593441090026, 2.6508097841966887, 2.638908873214897], \"error_y\": {\"type\": \"data\", \"array\": [0.010499086565831792, 0.0108478573061327, 0.010935203769859273, 0.008648797670363204, 0.011939153923675063, 0.009516779830653537, 0.009618170743158998], \"color\": \"rgb(0,100,246)\", \"visible\": true}, \"line\": {\"color\": \"rgb(0,176,246)\"}, \"mode\": \"lines+markers\", \"name\": \"Sim Data\"}, {\"type\": \"scatter\", \"x\": [-1.6504999999999999, -0.8216666666666667, -0.3322222222222222, 0.031379310344827556, 0.31399999999999995, 0.7887500000000003, 1.5991304347826085], \"y\": [0.1, 0.2777777777777778, 0.2777777777777778, 0.7241379310344828, 0.9333333333333333, 0.9166666666666666, 0.9565217391304348], \"error_y\": {\"type\": \"data\", \"array\": [0.06882472016116853, 0.10863248456597818, 0.10863248456597818, 0.08446516354424752, 0.06666666666666665, 0.05763033956734372, 0.043478260869565216], \"color\": \"rgb(0,170,80)\", \"visible\": true}, \"line\": {\"color\": \"rgb(0,100,80)\"}, \"mode\": \"lines+markers\", \"name\": \"Test Data\", \"xaxis\": \"x2\", \"yaxis\": \"y2\"}, {\"type\": \"scatter\", \"x\": [-1.6504999999999999, -0.8216666666666667, -0.3322222222222222, 0.031379310344827556, 0.31399999999999995, 0.7887500000000003, 1.5991304347826085], \"y\": [0.44413841454254094, 0.4729571659332702, 0.484990253411306, 0.5070145127850726, 0.5025380710659898, 0.5281546103435322, 0.5471525600835946], \"error_y\": {\"type\": \"data\", \"array\": [0.003516213328765244, 0.00372629678349352, 0.0037298693458861602, 0.0029389046952179544, 0.004086382387922547, 0.003225323221213523, 0.0032845663633582853], \"color\": \"rgb(0,100,246)\", \"visible\": true}, \"line\": {\"color\": \"rgb(0,176,246)\"}, \"mode\": \"lines+markers\", \"name\": \"Sim Data\", \"xaxis\": \"x2\", \"yaxis\": \"y2\"}], {\"paper_bgcolor\": \"rgb(255,255,255)\", \"plot_bgcolor\": \"rgb(229,229,229)\", \"xaxis\": {\"gridcolor\": \"rgb(255,255,255)\", \"range\": [-2, 2], \"domain\": [0, 0.45], \"showgrid\": true, \"showline\": false, \"showticklabels\": true, \"tickcolor\": \"rgb(127,127,127)\", \"ticks\": \"outside\", \"title\": \"Net Value ($)\", \"zeroline\": false}, \"xaxis2\": {\"gridcolor\": \"rgb(255,255,255)\", \"range\": [-2, 2], \"domain\": [0.55, 1], \"showgrid\": true, \"showline\": false, \"showticklabels\": true, \"tickcolor\": \"rgb(127,127,127)\", \"ticks\": \"outside\", \"title\": \"Net Value ($)\", \"zeroline\": false}, \"yaxis1\": {\"gridcolor\": \"rgb(255,255,255)\", \"range\": [0], \"showgrid\": true, \"showline\": false, \"showticklabels\": true, \"tickcolor\": \"rgb(127,127,127)\", \"ticks\": \"outside\", \"title\": \"RT (s)\", \"anchor\": \"x1\", \"zeroline\": false}, \"yaxis2\": {\"gridcolor\": \"rgb(255,255,255)\", \"range\": [0], \"showgrid\": true, \"showline\": false, \"showticklabels\": true, \"tickcolor\": \"rgb(127,127,127)\", \"ticks\": \"outside\", \"title\": \"p (accept)\", \"anchor\": \"x2\", \"zeroline\": false}, \"annotations\": [{\"x\": 0.01, \"y\": 1.12, \"showarrow\": false, \"text\": \"PARAMETERS: v: 0.005, a: 0.135, \\u03b8: 1.0\", \"xref\": \"paper\", \"yref\": \"paper\"}, {\"x\": 0.01, \"y\": 1.08, \"showarrow\": false, \"text\": \"MLE: 628.96\", \"xref\": \"paper\", \"yref\": \"paper\"}, {\"x\": 0.01, \"y\": 1.2, \"showarrow\": false, \"text\": \"SUBJECT: 3\", \"font\": {\"family\": \"Arial, sans-serif\", \"size\": 22}, \"xref\": \"paper\", \"yref\": \"paper\"}]}, {\"showLink\": true, \"linkText\": \"Export to plot.ly\"})});</script>"
      ],
      "text/vnd.plotly.v1+html": [
       "<div id=\"5939c5dd-f1e6-4768-b8c5-fcccd711f012\" style=\"height: 525px; width: 100%;\" class=\"plotly-graph-div\"></div><script type=\"text/javascript\">require([\"plotly\"], function(Plotly) { window.PLOTLYENV=window.PLOTLYENV || {};window.PLOTLYENV.BASE_URL=\"https://plot.ly\";Plotly.newPlot(\"5939c5dd-f1e6-4768-b8c5-fcccd711f012\", [{\"type\": \"scatter\", \"x\": [-1.6504999999999999, -0.8216666666666667, -0.3322222222222222, 0.031379310344827556, 0.31399999999999995, 0.7887500000000003, 1.5991304347826085], \"y\": [1.6242911497538437, 2.3176755745274327, 2.431576300043768, 2.3799502586921806, 2.4389645597664638, 2.132048700916736, 2.195744744593115], \"error_y\": {\"type\": \"data\", \"array\": [0.1102701021747477, 0.32080609297211565, 0.273288008346219, 0.22112527698932793, 0.4312362408282256, 0.20907660220046495, 0.32466589321716044], \"color\": \"rgb(0,170,80)\", \"visible\": true}, \"line\": {\"color\": \"rgb(0,100,80)\"}, \"mode\": \"lines+markers\", \"name\": \"Test Data\"}, {\"type\": \"scatter\", \"x\": [-1.6504999999999999, -0.8216666666666667, -0.3322222222222222, 0.031379310344827556, 0.31399999999999995, 0.7887500000000003, 1.5991304347826085], \"y\": [2.646678201211864, 2.6339177853283555, 2.6493223057644117, 2.651859053213541, 2.637593441090026, 2.6508097841966887, 2.638908873214897], \"error_y\": {\"type\": \"data\", \"array\": [0.010499086565831792, 0.0108478573061327, 0.010935203769859273, 0.008648797670363204, 0.011939153923675063, 0.009516779830653537, 0.009618170743158998], \"color\": \"rgb(0,100,246)\", \"visible\": true}, \"line\": {\"color\": \"rgb(0,176,246)\"}, \"mode\": \"lines+markers\", \"name\": \"Sim Data\"}, {\"type\": \"scatter\", \"x\": [-1.6504999999999999, -0.8216666666666667, -0.3322222222222222, 0.031379310344827556, 0.31399999999999995, 0.7887500000000003, 1.5991304347826085], \"y\": [0.1, 0.2777777777777778, 0.2777777777777778, 0.7241379310344828, 0.9333333333333333, 0.9166666666666666, 0.9565217391304348], \"error_y\": {\"type\": \"data\", \"array\": [0.06882472016116853, 0.10863248456597818, 0.10863248456597818, 0.08446516354424752, 0.06666666666666665, 0.05763033956734372, 0.043478260869565216], \"color\": \"rgb(0,170,80)\", \"visible\": true}, \"line\": {\"color\": \"rgb(0,100,80)\"}, \"mode\": \"lines+markers\", \"name\": \"Test Data\", \"xaxis\": \"x2\", \"yaxis\": \"y2\"}, {\"type\": \"scatter\", \"x\": [-1.6504999999999999, -0.8216666666666667, -0.3322222222222222, 0.031379310344827556, 0.31399999999999995, 0.7887500000000003, 1.5991304347826085], \"y\": [0.44413841454254094, 0.4729571659332702, 0.484990253411306, 0.5070145127850726, 0.5025380710659898, 0.5281546103435322, 0.5471525600835946], \"error_y\": {\"type\": \"data\", \"array\": [0.003516213328765244, 0.00372629678349352, 0.0037298693458861602, 0.0029389046952179544, 0.004086382387922547, 0.003225323221213523, 0.0032845663633582853], \"color\": \"rgb(0,100,246)\", \"visible\": true}, \"line\": {\"color\": \"rgb(0,176,246)\"}, \"mode\": \"lines+markers\", \"name\": \"Sim Data\", \"xaxis\": \"x2\", \"yaxis\": \"y2\"}], {\"paper_bgcolor\": \"rgb(255,255,255)\", \"plot_bgcolor\": \"rgb(229,229,229)\", \"xaxis\": {\"gridcolor\": \"rgb(255,255,255)\", \"range\": [-2, 2], \"domain\": [0, 0.45], \"showgrid\": true, \"showline\": false, \"showticklabels\": true, \"tickcolor\": \"rgb(127,127,127)\", \"ticks\": \"outside\", \"title\": \"Net Value ($)\", \"zeroline\": false}, \"xaxis2\": {\"gridcolor\": \"rgb(255,255,255)\", \"range\": [-2, 2], \"domain\": [0.55, 1], \"showgrid\": true, \"showline\": false, \"showticklabels\": true, \"tickcolor\": \"rgb(127,127,127)\", \"ticks\": \"outside\", \"title\": \"Net Value ($)\", \"zeroline\": false}, \"yaxis1\": {\"gridcolor\": \"rgb(255,255,255)\", \"range\": [0], \"showgrid\": true, \"showline\": false, \"showticklabels\": true, \"tickcolor\": \"rgb(127,127,127)\", \"ticks\": \"outside\", \"title\": \"RT (s)\", \"anchor\": \"x1\", \"zeroline\": false}, \"yaxis2\": {\"gridcolor\": \"rgb(255,255,255)\", \"range\": [0], \"showgrid\": true, \"showline\": false, \"showticklabels\": true, \"tickcolor\": \"rgb(127,127,127)\", \"ticks\": \"outside\", \"title\": \"p (accept)\", \"anchor\": \"x2\", \"zeroline\": false}, \"annotations\": [{\"x\": 0.01, \"y\": 1.12, \"showarrow\": false, \"text\": \"PARAMETERS: v: 0.005, a: 0.135, \\u03b8: 1.0\", \"xref\": \"paper\", \"yref\": \"paper\"}, {\"x\": 0.01, \"y\": 1.08, \"showarrow\": false, \"text\": \"MLE: 628.96\", \"xref\": \"paper\", \"yref\": \"paper\"}, {\"x\": 0.01, \"y\": 1.2, \"showarrow\": false, \"text\": \"SUBJECT: 3\", \"font\": {\"family\": \"Arial, sans-serif\", \"size\": 22}, \"xref\": \"paper\", \"yref\": \"paper\"}]}, {\"showLink\": true, \"linkText\": \"Export to plot.ly\"})});</script>"
      ]
     },
     "metadata": {},
     "output_type": "display_data"
    },
    {
     "data": {
      "application/vnd.plotly.v1+json": {
       "data": [
        {
         "error_y": {
          "array": [
           0.32129862347532606,
           0.4621315558721299,
           0.19224839363799817,
           0.3279100582633189,
           0.4583042004716843,
           0.4294987771298358,
           0.29206220534775756
          ],
          "color": "rgb(0,170,80)",
          "type": "data",
          "visible": true
         },
         "line": {
          "color": "rgb(0,100,80)"
         },
         "mode": "lines+markers",
         "name": "Test Data",
         "type": "scatter",
         "x": [
          -1.8000000000000003,
          -0.794705882352941,
          -0.30916666666666665,
          0.02689655172413791,
          0.36647058823529405,
          0.7600000000000001,
          1.8549999999999998
         ],
         "y": [
          2.7815451622314686,
          2.837450211625068,
          3.147442831504614,
          3.4559793460096695,
          3.6884238950389556,
          3.405157981194673,
          3.008541587551078
         ]
        },
        {
         "error_y": {
          "array": [
           0.008422982217537624,
           0.015100858691437537,
           0.014107533300952043,
           0.013244792285847512,
           0.01666132295007757,
           0.014885605711651272,
           0.008797346892724388
          ],
          "color": "rgb(0,100,246)",
          "type": "data",
          "visible": true
         },
         "line": {
          "color": "rgb(0,176,246)"
         },
         "mode": "lines+markers",
         "name": "Sim Data",
         "type": "scatter",
         "x": [
          -1.8000000000000003,
          -0.794705882352941,
          -0.30916666666666665,
          0.02689655172413791,
          0.36647058823529405,
          0.7600000000000001,
          1.8549999999999998
         ],
         "y": [
          2.606109566541147,
          3.5565632019115814,
          3.964531515519349,
          4.0617152033488315,
          3.9574927040722954,
          3.5449611360239217,
          2.497148155563336
         ]
        },
        {
         "error_y": {
          "array": [
           0,
           0.09530501027070383,
           0.09829463743659811,
           0.09169709590633639,
           0,
           0.058823529411764705,
           0
          ],
          "color": "rgb(0,170,80)",
          "type": "data",
          "visible": true
         },
         "line": {
          "color": "rgb(0,100,80)"
         },
         "mode": "lines+markers",
         "name": "Test Data",
         "type": "scatter",
         "x": [
          -1.8000000000000003,
          -0.794705882352941,
          -0.30916666666666665,
          0.02689655172413791,
          0.36647058823529405,
          0.7600000000000001,
          1.8549999999999998
         ],
         "xaxis": "x2",
         "y": [
          0,
          0.17647058823529413,
          0.3333333333333333,
          0.6206896551724138,
          1,
          0.9411764705882353,
          1
         ],
         "yaxis": "y2"
        },
        {
         "error_y": {
          "array": [
           0.001025924630158613,
           0.0026569963927406993,
           0.0030436216113215358,
           0.003003664831954308,
           0.003568440219634945,
           0.002705266770322104,
           0.000987356581021253
          ],
          "color": "rgb(0,100,246)",
          "type": "data",
          "visible": true
         },
         "line": {
          "color": "rgb(0,176,246)"
         },
         "mode": "lines+markers",
         "name": "Sim Data",
         "type": "scatter",
         "x": [
          -1.8000000000000003,
          -0.794705882352941,
          -0.30916666666666665,
          0.02689655172413791,
          0.36647058823529405,
          0.7600000000000001,
          1.8549999999999998
         ],
         "xaxis": "x2",
         "y": [
          0.027001041583206473,
          0.13691756272401434,
          0.30943298075255765,
          0.49944065533542636,
          0.7035838573783503,
          0.857219730941704,
          0.980129135592372
         ],
         "yaxis": "y2"
        }
       ],
       "layout": {
        "annotations": [
         {
          "showarrow": false,
          "text": "PARAMETERS: v: 0.077, a: 0.192, θ: 0.64",
          "x": 0.01,
          "xref": "paper",
          "y": 1.12,
          "yref": "paper"
         },
         {
          "showarrow": false,
          "text": "MLE: 643.36",
          "x": 0.01,
          "xref": "paper",
          "y": 1.08,
          "yref": "paper"
         },
         {
          "font": {
           "family": "Arial, sans-serif",
           "size": 22
          },
          "showarrow": false,
          "text": "SUBJECT: 4",
          "x": 0.01,
          "xref": "paper",
          "y": 1.2,
          "yref": "paper"
         }
        ],
        "paper_bgcolor": "rgb(255,255,255)",
        "plot_bgcolor": "rgb(229,229,229)",
        "xaxis": {
         "domain": [
          0,
          0.45
         ],
         "gridcolor": "rgb(255,255,255)",
         "range": [
          -2,
          2
         ],
         "showgrid": true,
         "showline": false,
         "showticklabels": true,
         "tickcolor": "rgb(127,127,127)",
         "ticks": "outside",
         "title": "Net Value ($)",
         "zeroline": false
        },
        "xaxis2": {
         "domain": [
          0.55,
          1
         ],
         "gridcolor": "rgb(255,255,255)",
         "range": [
          -2,
          2
         ],
         "showgrid": true,
         "showline": false,
         "showticklabels": true,
         "tickcolor": "rgb(127,127,127)",
         "ticks": "outside",
         "title": "Net Value ($)",
         "zeroline": false
        },
        "yaxis1": {
         "anchor": "x1",
         "gridcolor": "rgb(255,255,255)",
         "range": [
          0
         ],
         "showgrid": true,
         "showline": false,
         "showticklabels": true,
         "tickcolor": "rgb(127,127,127)",
         "ticks": "outside",
         "title": "RT (s)",
         "zeroline": false
        },
        "yaxis2": {
         "anchor": "x2",
         "gridcolor": "rgb(255,255,255)",
         "range": [
          0
         ],
         "showgrid": true,
         "showline": false,
         "showticklabels": true,
         "tickcolor": "rgb(127,127,127)",
         "ticks": "outside",
         "title": "p (accept)",
         "zeroline": false
        }
       }
      },
      "text/html": [
       "<div id=\"f55b8502-84dd-42ea-8b1f-5f373c8570f8\" style=\"height: 525px; width: 100%;\" class=\"plotly-graph-div\"></div><script type=\"text/javascript\">require([\"plotly\"], function(Plotly) { window.PLOTLYENV=window.PLOTLYENV || {};window.PLOTLYENV.BASE_URL=\"https://plot.ly\";Plotly.newPlot(\"f55b8502-84dd-42ea-8b1f-5f373c8570f8\", [{\"type\": \"scatter\", \"x\": [-1.8000000000000003, -0.794705882352941, -0.30916666666666665, 0.02689655172413791, 0.36647058823529405, 0.7600000000000001, 1.8549999999999998], \"y\": [2.7815451622314686, 2.837450211625068, 3.147442831504614, 3.4559793460096695, 3.6884238950389556, 3.405157981194673, 3.008541587551078], \"error_y\": {\"type\": \"data\", \"array\": [0.32129862347532606, 0.4621315558721299, 0.19224839363799817, 0.3279100582633189, 0.4583042004716843, 0.4294987771298358, 0.29206220534775756], \"color\": \"rgb(0,170,80)\", \"visible\": true}, \"line\": {\"color\": \"rgb(0,100,80)\"}, \"mode\": \"lines+markers\", \"name\": \"Test Data\"}, {\"type\": \"scatter\", \"x\": [-1.8000000000000003, -0.794705882352941, -0.30916666666666665, 0.02689655172413791, 0.36647058823529405, 0.7600000000000001, 1.8549999999999998], \"y\": [2.606109566541147, 3.5565632019115814, 3.964531515519349, 4.0617152033488315, 3.9574927040722954, 3.5449611360239217, 2.497148155563336], \"error_y\": {\"type\": \"data\", \"array\": [0.008422982217537624, 0.015100858691437537, 0.014107533300952043, 0.013244792285847512, 0.01666132295007757, 0.014885605711651272, 0.008797346892724388], \"color\": \"rgb(0,100,246)\", \"visible\": true}, \"line\": {\"color\": \"rgb(0,176,246)\"}, \"mode\": \"lines+markers\", \"name\": \"Sim Data\"}, {\"type\": \"scatter\", \"x\": [-1.8000000000000003, -0.794705882352941, -0.30916666666666665, 0.02689655172413791, 0.36647058823529405, 0.7600000000000001, 1.8549999999999998], \"y\": [0.0, 0.17647058823529413, 0.3333333333333333, 0.6206896551724138, 1.0, 0.9411764705882353, 1.0], \"error_y\": {\"type\": \"data\", \"array\": [0.0, 0.09530501027070383, 0.09829463743659811, 0.09169709590633639, 0.0, 0.058823529411764705, 0.0], \"color\": \"rgb(0,170,80)\", \"visible\": true}, \"line\": {\"color\": \"rgb(0,100,80)\"}, \"mode\": \"lines+markers\", \"name\": \"Test Data\", \"xaxis\": \"x2\", \"yaxis\": \"y2\"}, {\"type\": \"scatter\", \"x\": [-1.8000000000000003, -0.794705882352941, -0.30916666666666665, 0.02689655172413791, 0.36647058823529405, 0.7600000000000001, 1.8549999999999998], \"y\": [0.027001041583206473, 0.13691756272401434, 0.30943298075255765, 0.49944065533542636, 0.7035838573783503, 0.857219730941704, 0.980129135592372], \"error_y\": {\"type\": \"data\", \"array\": [0.001025924630158613, 0.0026569963927406993, 0.0030436216113215358, 0.003003664831954308, 0.003568440219634945, 0.002705266770322104, 0.000987356581021253], \"color\": \"rgb(0,100,246)\", \"visible\": true}, \"line\": {\"color\": \"rgb(0,176,246)\"}, \"mode\": \"lines+markers\", \"name\": \"Sim Data\", \"xaxis\": \"x2\", \"yaxis\": \"y2\"}], {\"paper_bgcolor\": \"rgb(255,255,255)\", \"plot_bgcolor\": \"rgb(229,229,229)\", \"xaxis\": {\"gridcolor\": \"rgb(255,255,255)\", \"range\": [-2, 2], \"domain\": [0, 0.45], \"showgrid\": true, \"showline\": false, \"showticklabels\": true, \"tickcolor\": \"rgb(127,127,127)\", \"ticks\": \"outside\", \"title\": \"Net Value ($)\", \"zeroline\": false}, \"xaxis2\": {\"gridcolor\": \"rgb(255,255,255)\", \"range\": [-2, 2], \"domain\": [0.55, 1], \"showgrid\": true, \"showline\": false, \"showticklabels\": true, \"tickcolor\": \"rgb(127,127,127)\", \"ticks\": \"outside\", \"title\": \"Net Value ($)\", \"zeroline\": false}, \"yaxis1\": {\"gridcolor\": \"rgb(255,255,255)\", \"range\": [0], \"showgrid\": true, \"showline\": false, \"showticklabels\": true, \"tickcolor\": \"rgb(127,127,127)\", \"ticks\": \"outside\", \"title\": \"RT (s)\", \"anchor\": \"x1\", \"zeroline\": false}, \"yaxis2\": {\"gridcolor\": \"rgb(255,255,255)\", \"range\": [0], \"showgrid\": true, \"showline\": false, \"showticklabels\": true, \"tickcolor\": \"rgb(127,127,127)\", \"ticks\": \"outside\", \"title\": \"p (accept)\", \"anchor\": \"x2\", \"zeroline\": false}, \"annotations\": [{\"x\": 0.01, \"y\": 1.12, \"showarrow\": false, \"text\": \"PARAMETERS: v: 0.077, a: 0.192, \\u03b8: 0.64\", \"xref\": \"paper\", \"yref\": \"paper\"}, {\"x\": 0.01, \"y\": 1.08, \"showarrow\": false, \"text\": \"MLE: 643.36\", \"xref\": \"paper\", \"yref\": \"paper\"}, {\"x\": 0.01, \"y\": 1.2, \"showarrow\": false, \"text\": \"SUBJECT: 4\", \"font\": {\"family\": \"Arial, sans-serif\", \"size\": 22}, \"xref\": \"paper\", \"yref\": \"paper\"}]}, {\"showLink\": true, \"linkText\": \"Export to plot.ly\"})});</script>"
      ],
      "text/vnd.plotly.v1+html": [
       "<div id=\"f55b8502-84dd-42ea-8b1f-5f373c8570f8\" style=\"height: 525px; width: 100%;\" class=\"plotly-graph-div\"></div><script type=\"text/javascript\">require([\"plotly\"], function(Plotly) { window.PLOTLYENV=window.PLOTLYENV || {};window.PLOTLYENV.BASE_URL=\"https://plot.ly\";Plotly.newPlot(\"f55b8502-84dd-42ea-8b1f-5f373c8570f8\", [{\"type\": \"scatter\", \"x\": [-1.8000000000000003, -0.794705882352941, -0.30916666666666665, 0.02689655172413791, 0.36647058823529405, 0.7600000000000001, 1.8549999999999998], \"y\": [2.7815451622314686, 2.837450211625068, 3.147442831504614, 3.4559793460096695, 3.6884238950389556, 3.405157981194673, 3.008541587551078], \"error_y\": {\"type\": \"data\", \"array\": [0.32129862347532606, 0.4621315558721299, 0.19224839363799817, 0.3279100582633189, 0.4583042004716843, 0.4294987771298358, 0.29206220534775756], \"color\": \"rgb(0,170,80)\", \"visible\": true}, \"line\": {\"color\": \"rgb(0,100,80)\"}, \"mode\": \"lines+markers\", \"name\": \"Test Data\"}, {\"type\": \"scatter\", \"x\": [-1.8000000000000003, -0.794705882352941, -0.30916666666666665, 0.02689655172413791, 0.36647058823529405, 0.7600000000000001, 1.8549999999999998], \"y\": [2.606109566541147, 3.5565632019115814, 3.964531515519349, 4.0617152033488315, 3.9574927040722954, 3.5449611360239217, 2.497148155563336], \"error_y\": {\"type\": \"data\", \"array\": [0.008422982217537624, 0.015100858691437537, 0.014107533300952043, 0.013244792285847512, 0.01666132295007757, 0.014885605711651272, 0.008797346892724388], \"color\": \"rgb(0,100,246)\", \"visible\": true}, \"line\": {\"color\": \"rgb(0,176,246)\"}, \"mode\": \"lines+markers\", \"name\": \"Sim Data\"}, {\"type\": \"scatter\", \"x\": [-1.8000000000000003, -0.794705882352941, -0.30916666666666665, 0.02689655172413791, 0.36647058823529405, 0.7600000000000001, 1.8549999999999998], \"y\": [0.0, 0.17647058823529413, 0.3333333333333333, 0.6206896551724138, 1.0, 0.9411764705882353, 1.0], \"error_y\": {\"type\": \"data\", \"array\": [0.0, 0.09530501027070383, 0.09829463743659811, 0.09169709590633639, 0.0, 0.058823529411764705, 0.0], \"color\": \"rgb(0,170,80)\", \"visible\": true}, \"line\": {\"color\": \"rgb(0,100,80)\"}, \"mode\": \"lines+markers\", \"name\": \"Test Data\", \"xaxis\": \"x2\", \"yaxis\": \"y2\"}, {\"type\": \"scatter\", \"x\": [-1.8000000000000003, -0.794705882352941, -0.30916666666666665, 0.02689655172413791, 0.36647058823529405, 0.7600000000000001, 1.8549999999999998], \"y\": [0.027001041583206473, 0.13691756272401434, 0.30943298075255765, 0.49944065533542636, 0.7035838573783503, 0.857219730941704, 0.980129135592372], \"error_y\": {\"type\": \"data\", \"array\": [0.001025924630158613, 0.0026569963927406993, 0.0030436216113215358, 0.003003664831954308, 0.003568440219634945, 0.002705266770322104, 0.000987356581021253], \"color\": \"rgb(0,100,246)\", \"visible\": true}, \"line\": {\"color\": \"rgb(0,176,246)\"}, \"mode\": \"lines+markers\", \"name\": \"Sim Data\", \"xaxis\": \"x2\", \"yaxis\": \"y2\"}], {\"paper_bgcolor\": \"rgb(255,255,255)\", \"plot_bgcolor\": \"rgb(229,229,229)\", \"xaxis\": {\"gridcolor\": \"rgb(255,255,255)\", \"range\": [-2, 2], \"domain\": [0, 0.45], \"showgrid\": true, \"showline\": false, \"showticklabels\": true, \"tickcolor\": \"rgb(127,127,127)\", \"ticks\": \"outside\", \"title\": \"Net Value ($)\", \"zeroline\": false}, \"xaxis2\": {\"gridcolor\": \"rgb(255,255,255)\", \"range\": [-2, 2], \"domain\": [0.55, 1], \"showgrid\": true, \"showline\": false, \"showticklabels\": true, \"tickcolor\": \"rgb(127,127,127)\", \"ticks\": \"outside\", \"title\": \"Net Value ($)\", \"zeroline\": false}, \"yaxis1\": {\"gridcolor\": \"rgb(255,255,255)\", \"range\": [0], \"showgrid\": true, \"showline\": false, \"showticklabels\": true, \"tickcolor\": \"rgb(127,127,127)\", \"ticks\": \"outside\", \"title\": \"RT (s)\", \"anchor\": \"x1\", \"zeroline\": false}, \"yaxis2\": {\"gridcolor\": \"rgb(255,255,255)\", \"range\": [0], \"showgrid\": true, \"showline\": false, \"showticklabels\": true, \"tickcolor\": \"rgb(127,127,127)\", \"ticks\": \"outside\", \"title\": \"p (accept)\", \"anchor\": \"x2\", \"zeroline\": false}, \"annotations\": [{\"x\": 0.01, \"y\": 1.12, \"showarrow\": false, \"text\": \"PARAMETERS: v: 0.077, a: 0.192, \\u03b8: 0.64\", \"xref\": \"paper\", \"yref\": \"paper\"}, {\"x\": 0.01, \"y\": 1.08, \"showarrow\": false, \"text\": \"MLE: 643.36\", \"xref\": \"paper\", \"yref\": \"paper\"}, {\"x\": 0.01, \"y\": 1.2, \"showarrow\": false, \"text\": \"SUBJECT: 4\", \"font\": {\"family\": \"Arial, sans-serif\", \"size\": 22}, \"xref\": \"paper\", \"yref\": \"paper\"}]}, {\"showLink\": true, \"linkText\": \"Export to plot.ly\"})});</script>"
      ]
     },
     "metadata": {},
     "output_type": "display_data"
    },
    {
     "data": {
      "application/vnd.plotly.v1+json": {
       "data": [
        {
         "error_y": {
          "array": [
           0.43652290284311895,
           0.4588543594408193,
           0.6510247468906654,
           0.4874124659011055,
           0.5617907614621263,
           0.5107022575949373,
           0.36889572077866983
          ],
          "color": "rgb(0,170,80)",
          "type": "data",
          "visible": true
         },
         "line": {
          "color": "rgb(0,100,80)"
         },
         "mode": "lines+markers",
         "name": "Test Data",
         "type": "scatter",
         "x": [
          -1.4966666666666668,
          -0.783846153846154,
          -0.30333333333333334,
          0.03388888888888884,
          0.2921052631578947,
          0.8042105263157895,
          1.7595652173913043
         ],
         "y": [
          3.423899667376167,
          3.401024153188212,
          4.407860365049903,
          3.541552219000348,
          5.122741953856109,
          3.9032685718492233,
          3.2135488630439952
         ]
        },
        {
         "error_y": {
          "array": [
           0.015595152026265246,
           0.018943533119792782,
           0.01843472495279137,
           0.016544848577970592,
           0.01616910139794768,
           0.0160243236384526,
           0.013306884874374708
          ],
          "color": "rgb(0,100,246)",
          "type": "data",
          "visible": true
         },
         "line": {
          "color": "rgb(0,176,246)"
         },
         "mode": "lines+markers",
         "name": "Sim Data",
         "type": "scatter",
         "x": [
          -1.4966666666666668,
          -0.783846153846154,
          -0.30333333333333334,
          0.03388888888888884,
          0.2921052631578947,
          0.8042105263157895,
          1.7595652173913043
         ],
         "y": [
          3.8233322479291654,
          3.9579260175578392,
          4.05883656123728,
          3.9768279756733267,
          4.008545349222095,
          3.9564837811271327,
          3.7050170366086936
         ]
        },
        {
         "error_y": {
          "array": [
           0.05555555555555556,
           0.13323467750529824,
           0.06666666666666665,
           0.1086324845659782,
           0.1176877882894626,
           0.0723351864143449,
           0.08081046758996394
          ],
          "color": "rgb(0,170,80)",
          "type": "data",
          "visible": true
         },
         "line": {
          "color": "rgb(0,100,80)"
         },
         "mode": "lines+markers",
         "name": "Test Data",
         "type": "scatter",
         "x": [
          -1.4966666666666668,
          -0.783846153846154,
          -0.30333333333333334,
          0.03388888888888884,
          0.2921052631578947,
          0.8042105263157895,
          1.7595652173913043
         ],
         "xaxis": "x2",
         "y": [
          0.05555555555555555,
          0.3076923076923077,
          0.06666666666666667,
          0.7222222222222222,
          0.47368421052631576,
          0.8947368421052632,
          0.8260869565217391
         ],
         "yaxis": "y2"
        },
        {
         "error_y": {
          "array": [
           0.0031611928823397336,
           0.004305334980625112,
           0.004150079360300274,
           0.0038030229028798933,
           0.003684460540806939,
           0.003511168170457907,
           0.002662676534790063
          ],
          "color": "rgb(0,100,246)",
          "type": "data",
          "visible": true
         },
         "line": {
          "color": "rgb(0,176,246)"
         },
         "mode": "lines+markers",
         "name": "Sim Data",
         "type": "scatter",
         "x": [
          -1.4966666666666668,
          -0.783846153846154,
          -0.30333333333333334,
          0.03388888888888884,
          0.2921052631578947,
          0.8042105263157895,
          1.7595652173913043
         ],
         "xaxis": "x2",
         "y": [
          0.22599257355041416,
          0.36671987230646447,
          0.4471227532395151,
          0.4823631624674196,
          0.5628379123910405,
          0.6557448667540411,
          0.8010319825630532
         ],
         "yaxis": "y2"
        }
       ],
       "layout": {
        "annotations": [
         {
          "showarrow": false,
          "text": "PARAMETERS: v: 0.041, a: 0.192, θ: 0.1",
          "x": 0.01,
          "xref": "paper",
          "y": 1.12,
          "yref": "paper"
         },
         {
          "showarrow": false,
          "text": "MLE: 755.53",
          "x": 0.01,
          "xref": "paper",
          "y": 1.08,
          "yref": "paper"
         },
         {
          "font": {
           "family": "Arial, sans-serif",
           "size": 22
          },
          "showarrow": false,
          "text": "SUBJECT: 5",
          "x": 0.01,
          "xref": "paper",
          "y": 1.2,
          "yref": "paper"
         }
        ],
        "paper_bgcolor": "rgb(255,255,255)",
        "plot_bgcolor": "rgb(229,229,229)",
        "xaxis": {
         "domain": [
          0,
          0.45
         ],
         "gridcolor": "rgb(255,255,255)",
         "range": [
          -2,
          2
         ],
         "showgrid": true,
         "showline": false,
         "showticklabels": true,
         "tickcolor": "rgb(127,127,127)",
         "ticks": "outside",
         "title": "Net Value ($)",
         "zeroline": false
        },
        "xaxis2": {
         "domain": [
          0.55,
          1
         ],
         "gridcolor": "rgb(255,255,255)",
         "range": [
          -2,
          2
         ],
         "showgrid": true,
         "showline": false,
         "showticklabels": true,
         "tickcolor": "rgb(127,127,127)",
         "ticks": "outside",
         "title": "Net Value ($)",
         "zeroline": false
        },
        "yaxis1": {
         "anchor": "x1",
         "gridcolor": "rgb(255,255,255)",
         "range": [
          0
         ],
         "showgrid": true,
         "showline": false,
         "showticklabels": true,
         "tickcolor": "rgb(127,127,127)",
         "ticks": "outside",
         "title": "RT (s)",
         "zeroline": false
        },
        "yaxis2": {
         "anchor": "x2",
         "gridcolor": "rgb(255,255,255)",
         "range": [
          0
         ],
         "showgrid": true,
         "showline": false,
         "showticklabels": true,
         "tickcolor": "rgb(127,127,127)",
         "ticks": "outside",
         "title": "p (accept)",
         "zeroline": false
        }
       }
      },
      "text/html": [
       "<div id=\"d8f35103-21f3-4682-bccd-49497cb3761d\" style=\"height: 525px; width: 100%;\" class=\"plotly-graph-div\"></div><script type=\"text/javascript\">require([\"plotly\"], function(Plotly) { window.PLOTLYENV=window.PLOTLYENV || {};window.PLOTLYENV.BASE_URL=\"https://plot.ly\";Plotly.newPlot(\"d8f35103-21f3-4682-bccd-49497cb3761d\", [{\"type\": \"scatter\", \"x\": [-1.4966666666666668, -0.783846153846154, -0.30333333333333334, 0.03388888888888884, 0.2921052631578947, 0.8042105263157895, 1.7595652173913043], \"y\": [3.423899667376167, 3.401024153188212, 4.407860365049903, 3.541552219000348, 5.122741953856109, 3.9032685718492233, 3.2135488630439952], \"error_y\": {\"type\": \"data\", \"array\": [0.43652290284311895, 0.4588543594408193, 0.6510247468906654, 0.4874124659011055, 0.5617907614621263, 0.5107022575949373, 0.36889572077866983], \"color\": \"rgb(0,170,80)\", \"visible\": true}, \"line\": {\"color\": \"rgb(0,100,80)\"}, \"mode\": \"lines+markers\", \"name\": \"Test Data\"}, {\"type\": \"scatter\", \"x\": [-1.4966666666666668, -0.783846153846154, -0.30333333333333334, 0.03388888888888884, 0.2921052631578947, 0.8042105263157895, 1.7595652173913043], \"y\": [3.8233322479291654, 3.9579260175578392, 4.05883656123728, 3.9768279756733267, 4.008545349222095, 3.9564837811271327, 3.7050170366086936], \"error_y\": {\"type\": \"data\", \"array\": [0.015595152026265246, 0.018943533119792782, 0.01843472495279137, 0.016544848577970592, 0.01616910139794768, 0.0160243236384526, 0.013306884874374708], \"color\": \"rgb(0,100,246)\", \"visible\": true}, \"line\": {\"color\": \"rgb(0,176,246)\"}, \"mode\": \"lines+markers\", \"name\": \"Sim Data\"}, {\"type\": \"scatter\", \"x\": [-1.4966666666666668, -0.783846153846154, -0.30333333333333334, 0.03388888888888884, 0.2921052631578947, 0.8042105263157895, 1.7595652173913043], \"y\": [0.05555555555555555, 0.3076923076923077, 0.06666666666666667, 0.7222222222222222, 0.47368421052631576, 0.8947368421052632, 0.8260869565217391], \"error_y\": {\"type\": \"data\", \"array\": [0.05555555555555556, 0.13323467750529824, 0.06666666666666665, 0.1086324845659782, 0.1176877882894626, 0.0723351864143449, 0.08081046758996394], \"color\": \"rgb(0,170,80)\", \"visible\": true}, \"line\": {\"color\": \"rgb(0,100,80)\"}, \"mode\": \"lines+markers\", \"name\": \"Test Data\", \"xaxis\": \"x2\", \"yaxis\": \"y2\"}, {\"type\": \"scatter\", \"x\": [-1.4966666666666668, -0.783846153846154, -0.30333333333333334, 0.03388888888888884, 0.2921052631578947, 0.8042105263157895, 1.7595652173913043], \"y\": [0.22599257355041416, 0.36671987230646447, 0.4471227532395151, 0.4823631624674196, 0.5628379123910405, 0.6557448667540411, 0.8010319825630532], \"error_y\": {\"type\": \"data\", \"array\": [0.0031611928823397336, 0.004305334980625112, 0.004150079360300274, 0.0038030229028798933, 0.003684460540806939, 0.003511168170457907, 0.002662676534790063], \"color\": \"rgb(0,100,246)\", \"visible\": true}, \"line\": {\"color\": \"rgb(0,176,246)\"}, \"mode\": \"lines+markers\", \"name\": \"Sim Data\", \"xaxis\": \"x2\", \"yaxis\": \"y2\"}], {\"paper_bgcolor\": \"rgb(255,255,255)\", \"plot_bgcolor\": \"rgb(229,229,229)\", \"xaxis\": {\"gridcolor\": \"rgb(255,255,255)\", \"range\": [-2, 2], \"domain\": [0, 0.45], \"showgrid\": true, \"showline\": false, \"showticklabels\": true, \"tickcolor\": \"rgb(127,127,127)\", \"ticks\": \"outside\", \"title\": \"Net Value ($)\", \"zeroline\": false}, \"xaxis2\": {\"gridcolor\": \"rgb(255,255,255)\", \"range\": [-2, 2], \"domain\": [0.55, 1], \"showgrid\": true, \"showline\": false, \"showticklabels\": true, \"tickcolor\": \"rgb(127,127,127)\", \"ticks\": \"outside\", \"title\": \"Net Value ($)\", \"zeroline\": false}, \"yaxis1\": {\"gridcolor\": \"rgb(255,255,255)\", \"range\": [0], \"showgrid\": true, \"showline\": false, \"showticklabels\": true, \"tickcolor\": \"rgb(127,127,127)\", \"ticks\": \"outside\", \"title\": \"RT (s)\", \"anchor\": \"x1\", \"zeroline\": false}, \"yaxis2\": {\"gridcolor\": \"rgb(255,255,255)\", \"range\": [0], \"showgrid\": true, \"showline\": false, \"showticklabels\": true, \"tickcolor\": \"rgb(127,127,127)\", \"ticks\": \"outside\", \"title\": \"p (accept)\", \"anchor\": \"x2\", \"zeroline\": false}, \"annotations\": [{\"x\": 0.01, \"y\": 1.12, \"showarrow\": false, \"text\": \"PARAMETERS: v: 0.041, a: 0.192, \\u03b8: 0.1\", \"xref\": \"paper\", \"yref\": \"paper\"}, {\"x\": 0.01, \"y\": 1.08, \"showarrow\": false, \"text\": \"MLE: 755.53\", \"xref\": \"paper\", \"yref\": \"paper\"}, {\"x\": 0.01, \"y\": 1.2, \"showarrow\": false, \"text\": \"SUBJECT: 5\", \"font\": {\"family\": \"Arial, sans-serif\", \"size\": 22}, \"xref\": \"paper\", \"yref\": \"paper\"}]}, {\"showLink\": true, \"linkText\": \"Export to plot.ly\"})});</script>"
      ],
      "text/vnd.plotly.v1+html": [
       "<div id=\"d8f35103-21f3-4682-bccd-49497cb3761d\" style=\"height: 525px; width: 100%;\" class=\"plotly-graph-div\"></div><script type=\"text/javascript\">require([\"plotly\"], function(Plotly) { window.PLOTLYENV=window.PLOTLYENV || {};window.PLOTLYENV.BASE_URL=\"https://plot.ly\";Plotly.newPlot(\"d8f35103-21f3-4682-bccd-49497cb3761d\", [{\"type\": \"scatter\", \"x\": [-1.4966666666666668, -0.783846153846154, -0.30333333333333334, 0.03388888888888884, 0.2921052631578947, 0.8042105263157895, 1.7595652173913043], \"y\": [3.423899667376167, 3.401024153188212, 4.407860365049903, 3.541552219000348, 5.122741953856109, 3.9032685718492233, 3.2135488630439952], \"error_y\": {\"type\": \"data\", \"array\": [0.43652290284311895, 0.4588543594408193, 0.6510247468906654, 0.4874124659011055, 0.5617907614621263, 0.5107022575949373, 0.36889572077866983], \"color\": \"rgb(0,170,80)\", \"visible\": true}, \"line\": {\"color\": \"rgb(0,100,80)\"}, \"mode\": \"lines+markers\", \"name\": \"Test Data\"}, {\"type\": \"scatter\", \"x\": [-1.4966666666666668, -0.783846153846154, -0.30333333333333334, 0.03388888888888884, 0.2921052631578947, 0.8042105263157895, 1.7595652173913043], \"y\": [3.8233322479291654, 3.9579260175578392, 4.05883656123728, 3.9768279756733267, 4.008545349222095, 3.9564837811271327, 3.7050170366086936], \"error_y\": {\"type\": \"data\", \"array\": [0.015595152026265246, 0.018943533119792782, 0.01843472495279137, 0.016544848577970592, 0.01616910139794768, 0.0160243236384526, 0.013306884874374708], \"color\": \"rgb(0,100,246)\", \"visible\": true}, \"line\": {\"color\": \"rgb(0,176,246)\"}, \"mode\": \"lines+markers\", \"name\": \"Sim Data\"}, {\"type\": \"scatter\", \"x\": [-1.4966666666666668, -0.783846153846154, -0.30333333333333334, 0.03388888888888884, 0.2921052631578947, 0.8042105263157895, 1.7595652173913043], \"y\": [0.05555555555555555, 0.3076923076923077, 0.06666666666666667, 0.7222222222222222, 0.47368421052631576, 0.8947368421052632, 0.8260869565217391], \"error_y\": {\"type\": \"data\", \"array\": [0.05555555555555556, 0.13323467750529824, 0.06666666666666665, 0.1086324845659782, 0.1176877882894626, 0.0723351864143449, 0.08081046758996394], \"color\": \"rgb(0,170,80)\", \"visible\": true}, \"line\": {\"color\": \"rgb(0,100,80)\"}, \"mode\": \"lines+markers\", \"name\": \"Test Data\", \"xaxis\": \"x2\", \"yaxis\": \"y2\"}, {\"type\": \"scatter\", \"x\": [-1.4966666666666668, -0.783846153846154, -0.30333333333333334, 0.03388888888888884, 0.2921052631578947, 0.8042105263157895, 1.7595652173913043], \"y\": [0.22599257355041416, 0.36671987230646447, 0.4471227532395151, 0.4823631624674196, 0.5628379123910405, 0.6557448667540411, 0.8010319825630532], \"error_y\": {\"type\": \"data\", \"array\": [0.0031611928823397336, 0.004305334980625112, 0.004150079360300274, 0.0038030229028798933, 0.003684460540806939, 0.003511168170457907, 0.002662676534790063], \"color\": \"rgb(0,100,246)\", \"visible\": true}, \"line\": {\"color\": \"rgb(0,176,246)\"}, \"mode\": \"lines+markers\", \"name\": \"Sim Data\", \"xaxis\": \"x2\", \"yaxis\": \"y2\"}], {\"paper_bgcolor\": \"rgb(255,255,255)\", \"plot_bgcolor\": \"rgb(229,229,229)\", \"xaxis\": {\"gridcolor\": \"rgb(255,255,255)\", \"range\": [-2, 2], \"domain\": [0, 0.45], \"showgrid\": true, \"showline\": false, \"showticklabels\": true, \"tickcolor\": \"rgb(127,127,127)\", \"ticks\": \"outside\", \"title\": \"Net Value ($)\", \"zeroline\": false}, \"xaxis2\": {\"gridcolor\": \"rgb(255,255,255)\", \"range\": [-2, 2], \"domain\": [0.55, 1], \"showgrid\": true, \"showline\": false, \"showticklabels\": true, \"tickcolor\": \"rgb(127,127,127)\", \"ticks\": \"outside\", \"title\": \"Net Value ($)\", \"zeroline\": false}, \"yaxis1\": {\"gridcolor\": \"rgb(255,255,255)\", \"range\": [0], \"showgrid\": true, \"showline\": false, \"showticklabels\": true, \"tickcolor\": \"rgb(127,127,127)\", \"ticks\": \"outside\", \"title\": \"RT (s)\", \"anchor\": \"x1\", \"zeroline\": false}, \"yaxis2\": {\"gridcolor\": \"rgb(255,255,255)\", \"range\": [0], \"showgrid\": true, \"showline\": false, \"showticklabels\": true, \"tickcolor\": \"rgb(127,127,127)\", \"ticks\": \"outside\", \"title\": \"p (accept)\", \"anchor\": \"x2\", \"zeroline\": false}, \"annotations\": [{\"x\": 0.01, \"y\": 1.12, \"showarrow\": false, \"text\": \"PARAMETERS: v: 0.041, a: 0.192, \\u03b8: 0.1\", \"xref\": \"paper\", \"yref\": \"paper\"}, {\"x\": 0.01, \"y\": 1.08, \"showarrow\": false, \"text\": \"MLE: 755.53\", \"xref\": \"paper\", \"yref\": \"paper\"}, {\"x\": 0.01, \"y\": 1.2, \"showarrow\": false, \"text\": \"SUBJECT: 5\", \"font\": {\"family\": \"Arial, sans-serif\", \"size\": 22}, \"xref\": \"paper\", \"yref\": \"paper\"}]}, {\"showLink\": true, \"linkText\": \"Export to plot.ly\"})});</script>"
      ]
     },
     "metadata": {},
     "output_type": "display_data"
    },
    {
     "data": {
      "application/vnd.plotly.v1+json": {
       "data": [
        {
         "error_y": {
          "array": [
           0.45266461126802543,
           0.5820686014296277,
           0.2925565576390161,
           0.38239940827710045,
           0.37396278789496307,
           0.3540266022245862,
           0.29760271919607933
          ],
          "color": "rgb(0,170,80)",
          "type": "data",
          "visible": true
         },
         "line": {
          "color": "rgb(0,100,80)"
         },
         "mode": "lines+markers",
         "name": "Test Data",
         "type": "scatter",
         "x": [
          -1.5533333333333337,
          -0.8073333333333333,
          -0.2930434782608696,
          0.018999999999999972,
          0.2958333333333334,
          0.7423809523809526,
          1.5522222222222217
         ],
         "y": [
          3.4658348341654346,
          4.5258351827066985,
          4.0977258159384835,
          4.511248517947024,
          3.7386210568985607,
          3.5870816074018967,
          3.2126224060278523
         ]
        },
        {
         "error_y": {
          "array": [
           0.018950667068827812,
           0.020945589105360516,
           0.017488963659674384,
           0.018929484369638486,
           0.017136004314700894,
           0.017775370867648212,
           0.014068278521251965
          ],
          "color": "rgb(0,100,246)",
          "type": "data",
          "visible": true
         },
         "line": {
          "color": "rgb(0,176,246)"
         },
         "mode": "lines+markers",
         "name": "Sim Data",
         "type": "scatter",
         "x": [
          -1.5533333333333337,
          -0.8073333333333333,
          -0.2930434782608696,
          0.018999999999999972,
          0.2958333333333334,
          0.7423809523809526,
          1.5522222222222217
         ],
         "y": [
          4.5495755918543415,
          5.045498449612402,
          5.121240385622931,
          5.162357946979788,
          5.146891569898943,
          5.034661196695715,
          4.506219583266815
         ]
        },
        {
         "error_y": {
          "array": [
           0,
           0.06666666666666665,
           0.0981001869248289,
           0.11413288653790231,
           0.0902893898143269,
           0.06563832739090582,
           0.037037037037037035
          ],
          "color": "rgb(0,170,80)",
          "type": "data",
          "visible": true
         },
         "line": {
          "color": "rgb(0,100,80)"
         },
         "mode": "lines+markers",
         "name": "Test Data",
         "type": "scatter",
         "x": [
          -1.5533333333333337,
          -0.8073333333333333,
          -0.2930434782608696,
          0.018999999999999972,
          0.2958333333333334,
          0.7423809523809526,
          1.5522222222222217
         ],
         "xaxis": "x2",
         "y": [
          0,
          0.06666666666666667,
          0.30434782608695654,
          0.55,
          0.75,
          0.9047619047619048,
          0.9629629629629629
         ],
         "yaxis": "y2"
        },
        {
         "error_y": {
          "array": [
           0.002477042901812282,
           0.0037715604075908874,
           0.0035374470761842533,
           0.0038873852211457264,
           0.003479037865911705,
           0.003294017622492835,
           0.0019117340090988597
          ],
          "color": "rgb(0,100,246)",
          "type": "data",
          "visible": true
         },
         "line": {
          "color": "rgb(0,176,246)"
         },
         "mode": "lines+markers",
         "name": "Sim Data",
         "type": "scatter",
         "x": [
          -1.5533333333333337,
          -0.8073333333333333,
          -0.2930434782608696,
          0.018999999999999972,
          0.2958333333333334,
          0.7423809523809526,
          1.5522222222222217
         ],
         "xaxis": "x2",
         "y": [
          0.09412103331654315,
          0.24209302325581394,
          0.3942680498794928,
          0.5183997094782714,
          0.5960890765595939,
          0.7358227282875642,
          0.8980520517323967
         ],
         "yaxis": "y2"
        }
       ],
       "layout": {
        "annotations": [
         {
          "showarrow": false,
          "text": "PARAMETERS: v: 0.041, a: 0.249, θ: 0.46",
          "x": 0.01,
          "xref": "paper",
          "y": 1.12,
          "yref": "paper"
         },
         {
          "showarrow": false,
          "text": "MLE: 687.54",
          "x": 0.01,
          "xref": "paper",
          "y": 1.08,
          "yref": "paper"
         },
         {
          "font": {
           "family": "Arial, sans-serif",
           "size": 22
          },
          "showarrow": false,
          "text": "SUBJECT: 6",
          "x": 0.01,
          "xref": "paper",
          "y": 1.2,
          "yref": "paper"
         }
        ],
        "paper_bgcolor": "rgb(255,255,255)",
        "plot_bgcolor": "rgb(229,229,229)",
        "xaxis": {
         "domain": [
          0,
          0.45
         ],
         "gridcolor": "rgb(255,255,255)",
         "range": [
          -2,
          2
         ],
         "showgrid": true,
         "showline": false,
         "showticklabels": true,
         "tickcolor": "rgb(127,127,127)",
         "ticks": "outside",
         "title": "Net Value ($)",
         "zeroline": false
        },
        "xaxis2": {
         "domain": [
          0.55,
          1
         ],
         "gridcolor": "rgb(255,255,255)",
         "range": [
          -2,
          2
         ],
         "showgrid": true,
         "showline": false,
         "showticklabels": true,
         "tickcolor": "rgb(127,127,127)",
         "ticks": "outside",
         "title": "Net Value ($)",
         "zeroline": false
        },
        "yaxis1": {
         "anchor": "x1",
         "gridcolor": "rgb(255,255,255)",
         "range": [
          0
         ],
         "showgrid": true,
         "showline": false,
         "showticklabels": true,
         "tickcolor": "rgb(127,127,127)",
         "ticks": "outside",
         "title": "RT (s)",
         "zeroline": false
        },
        "yaxis2": {
         "anchor": "x2",
         "gridcolor": "rgb(255,255,255)",
         "range": [
          0
         ],
         "showgrid": true,
         "showline": false,
         "showticklabels": true,
         "tickcolor": "rgb(127,127,127)",
         "ticks": "outside",
         "title": "p (accept)",
         "zeroline": false
        }
       }
      },
      "text/html": [
       "<div id=\"c2e94cd8-f1a9-4613-b80d-1ac13ff025e7\" style=\"height: 525px; width: 100%;\" class=\"plotly-graph-div\"></div><script type=\"text/javascript\">require([\"plotly\"], function(Plotly) { window.PLOTLYENV=window.PLOTLYENV || {};window.PLOTLYENV.BASE_URL=\"https://plot.ly\";Plotly.newPlot(\"c2e94cd8-f1a9-4613-b80d-1ac13ff025e7\", [{\"type\": \"scatter\", \"x\": [-1.5533333333333337, -0.8073333333333333, -0.2930434782608696, 0.018999999999999972, 0.2958333333333334, 0.7423809523809526, 1.5522222222222217], \"y\": [3.4658348341654346, 4.5258351827066985, 4.0977258159384835, 4.511248517947024, 3.7386210568985607, 3.5870816074018967, 3.2126224060278523], \"error_y\": {\"type\": \"data\", \"array\": [0.45266461126802543, 0.5820686014296277, 0.2925565576390161, 0.38239940827710045, 0.37396278789496307, 0.3540266022245862, 0.29760271919607933], \"color\": \"rgb(0,170,80)\", \"visible\": true}, \"line\": {\"color\": \"rgb(0,100,80)\"}, \"mode\": \"lines+markers\", \"name\": \"Test Data\"}, {\"type\": \"scatter\", \"x\": [-1.5533333333333337, -0.8073333333333333, -0.2930434782608696, 0.018999999999999972, 0.2958333333333334, 0.7423809523809526, 1.5522222222222217], \"y\": [4.5495755918543415, 5.045498449612402, 5.121240385622931, 5.162357946979788, 5.146891569898943, 5.034661196695715, 4.506219583266815], \"error_y\": {\"type\": \"data\", \"array\": [0.018950667068827812, 0.020945589105360516, 0.017488963659674384, 0.018929484369638486, 0.017136004314700894, 0.017775370867648212, 0.014068278521251965], \"color\": \"rgb(0,100,246)\", \"visible\": true}, \"line\": {\"color\": \"rgb(0,176,246)\"}, \"mode\": \"lines+markers\", \"name\": \"Sim Data\"}, {\"type\": \"scatter\", \"x\": [-1.5533333333333337, -0.8073333333333333, -0.2930434782608696, 0.018999999999999972, 0.2958333333333334, 0.7423809523809526, 1.5522222222222217], \"y\": [0.0, 0.06666666666666667, 0.30434782608695654, 0.55, 0.75, 0.9047619047619048, 0.9629629629629629], \"error_y\": {\"type\": \"data\", \"array\": [0.0, 0.06666666666666665, 0.0981001869248289, 0.11413288653790231, 0.0902893898143269, 0.06563832739090582, 0.037037037037037035], \"color\": \"rgb(0,170,80)\", \"visible\": true}, \"line\": {\"color\": \"rgb(0,100,80)\"}, \"mode\": \"lines+markers\", \"name\": \"Test Data\", \"xaxis\": \"x2\", \"yaxis\": \"y2\"}, {\"type\": \"scatter\", \"x\": [-1.5533333333333337, -0.8073333333333333, -0.2930434782608696, 0.018999999999999972, 0.2958333333333334, 0.7423809523809526, 1.5522222222222217], \"y\": [0.09412103331654315, 0.24209302325581394, 0.3942680498794928, 0.5183997094782714, 0.5960890765595939, 0.7358227282875642, 0.8980520517323967], \"error_y\": {\"type\": \"data\", \"array\": [0.002477042901812282, 0.0037715604075908874, 0.0035374470761842533, 0.0038873852211457264, 0.003479037865911705, 0.003294017622492835, 0.0019117340090988597], \"color\": \"rgb(0,100,246)\", \"visible\": true}, \"line\": {\"color\": \"rgb(0,176,246)\"}, \"mode\": \"lines+markers\", \"name\": \"Sim Data\", \"xaxis\": \"x2\", \"yaxis\": \"y2\"}], {\"paper_bgcolor\": \"rgb(255,255,255)\", \"plot_bgcolor\": \"rgb(229,229,229)\", \"xaxis\": {\"gridcolor\": \"rgb(255,255,255)\", \"range\": [-2, 2], \"domain\": [0, 0.45], \"showgrid\": true, \"showline\": false, \"showticklabels\": true, \"tickcolor\": \"rgb(127,127,127)\", \"ticks\": \"outside\", \"title\": \"Net Value ($)\", \"zeroline\": false}, \"xaxis2\": {\"gridcolor\": \"rgb(255,255,255)\", \"range\": [-2, 2], \"domain\": [0.55, 1], \"showgrid\": true, \"showline\": false, \"showticklabels\": true, \"tickcolor\": \"rgb(127,127,127)\", \"ticks\": \"outside\", \"title\": \"Net Value ($)\", \"zeroline\": false}, \"yaxis1\": {\"gridcolor\": \"rgb(255,255,255)\", \"range\": [0], \"showgrid\": true, \"showline\": false, \"showticklabels\": true, \"tickcolor\": \"rgb(127,127,127)\", \"ticks\": \"outside\", \"title\": \"RT (s)\", \"anchor\": \"x1\", \"zeroline\": false}, \"yaxis2\": {\"gridcolor\": \"rgb(255,255,255)\", \"range\": [0], \"showgrid\": true, \"showline\": false, \"showticklabels\": true, \"tickcolor\": \"rgb(127,127,127)\", \"ticks\": \"outside\", \"title\": \"p (accept)\", \"anchor\": \"x2\", \"zeroline\": false}, \"annotations\": [{\"x\": 0.01, \"y\": 1.12, \"showarrow\": false, \"text\": \"PARAMETERS: v: 0.041, a: 0.249, \\u03b8: 0.46\", \"xref\": \"paper\", \"yref\": \"paper\"}, {\"x\": 0.01, \"y\": 1.08, \"showarrow\": false, \"text\": \"MLE: 687.54\", \"xref\": \"paper\", \"yref\": \"paper\"}, {\"x\": 0.01, \"y\": 1.2, \"showarrow\": false, \"text\": \"SUBJECT: 6\", \"font\": {\"family\": \"Arial, sans-serif\", \"size\": 22}, \"xref\": \"paper\", \"yref\": \"paper\"}]}, {\"showLink\": true, \"linkText\": \"Export to plot.ly\"})});</script>"
      ],
      "text/vnd.plotly.v1+html": [
       "<div id=\"c2e94cd8-f1a9-4613-b80d-1ac13ff025e7\" style=\"height: 525px; width: 100%;\" class=\"plotly-graph-div\"></div><script type=\"text/javascript\">require([\"plotly\"], function(Plotly) { window.PLOTLYENV=window.PLOTLYENV || {};window.PLOTLYENV.BASE_URL=\"https://plot.ly\";Plotly.newPlot(\"c2e94cd8-f1a9-4613-b80d-1ac13ff025e7\", [{\"type\": \"scatter\", \"x\": [-1.5533333333333337, -0.8073333333333333, -0.2930434782608696, 0.018999999999999972, 0.2958333333333334, 0.7423809523809526, 1.5522222222222217], \"y\": [3.4658348341654346, 4.5258351827066985, 4.0977258159384835, 4.511248517947024, 3.7386210568985607, 3.5870816074018967, 3.2126224060278523], \"error_y\": {\"type\": \"data\", \"array\": [0.45266461126802543, 0.5820686014296277, 0.2925565576390161, 0.38239940827710045, 0.37396278789496307, 0.3540266022245862, 0.29760271919607933], \"color\": \"rgb(0,170,80)\", \"visible\": true}, \"line\": {\"color\": \"rgb(0,100,80)\"}, \"mode\": \"lines+markers\", \"name\": \"Test Data\"}, {\"type\": \"scatter\", \"x\": [-1.5533333333333337, -0.8073333333333333, -0.2930434782608696, 0.018999999999999972, 0.2958333333333334, 0.7423809523809526, 1.5522222222222217], \"y\": [4.5495755918543415, 5.045498449612402, 5.121240385622931, 5.162357946979788, 5.146891569898943, 5.034661196695715, 4.506219583266815], \"error_y\": {\"type\": \"data\", \"array\": [0.018950667068827812, 0.020945589105360516, 0.017488963659674384, 0.018929484369638486, 0.017136004314700894, 0.017775370867648212, 0.014068278521251965], \"color\": \"rgb(0,100,246)\", \"visible\": true}, \"line\": {\"color\": \"rgb(0,176,246)\"}, \"mode\": \"lines+markers\", \"name\": \"Sim Data\"}, {\"type\": \"scatter\", \"x\": [-1.5533333333333337, -0.8073333333333333, -0.2930434782608696, 0.018999999999999972, 0.2958333333333334, 0.7423809523809526, 1.5522222222222217], \"y\": [0.0, 0.06666666666666667, 0.30434782608695654, 0.55, 0.75, 0.9047619047619048, 0.9629629629629629], \"error_y\": {\"type\": \"data\", \"array\": [0.0, 0.06666666666666665, 0.0981001869248289, 0.11413288653790231, 0.0902893898143269, 0.06563832739090582, 0.037037037037037035], \"color\": \"rgb(0,170,80)\", \"visible\": true}, \"line\": {\"color\": \"rgb(0,100,80)\"}, \"mode\": \"lines+markers\", \"name\": \"Test Data\", \"xaxis\": \"x2\", \"yaxis\": \"y2\"}, {\"type\": \"scatter\", \"x\": [-1.5533333333333337, -0.8073333333333333, -0.2930434782608696, 0.018999999999999972, 0.2958333333333334, 0.7423809523809526, 1.5522222222222217], \"y\": [0.09412103331654315, 0.24209302325581394, 0.3942680498794928, 0.5183997094782714, 0.5960890765595939, 0.7358227282875642, 0.8980520517323967], \"error_y\": {\"type\": \"data\", \"array\": [0.002477042901812282, 0.0037715604075908874, 0.0035374470761842533, 0.0038873852211457264, 0.003479037865911705, 0.003294017622492835, 0.0019117340090988597], \"color\": \"rgb(0,100,246)\", \"visible\": true}, \"line\": {\"color\": \"rgb(0,176,246)\"}, \"mode\": \"lines+markers\", \"name\": \"Sim Data\", \"xaxis\": \"x2\", \"yaxis\": \"y2\"}], {\"paper_bgcolor\": \"rgb(255,255,255)\", \"plot_bgcolor\": \"rgb(229,229,229)\", \"xaxis\": {\"gridcolor\": \"rgb(255,255,255)\", \"range\": [-2, 2], \"domain\": [0, 0.45], \"showgrid\": true, \"showline\": false, \"showticklabels\": true, \"tickcolor\": \"rgb(127,127,127)\", \"ticks\": \"outside\", \"title\": \"Net Value ($)\", \"zeroline\": false}, \"xaxis2\": {\"gridcolor\": \"rgb(255,255,255)\", \"range\": [-2, 2], \"domain\": [0.55, 1], \"showgrid\": true, \"showline\": false, \"showticklabels\": true, \"tickcolor\": \"rgb(127,127,127)\", \"ticks\": \"outside\", \"title\": \"Net Value ($)\", \"zeroline\": false}, \"yaxis1\": {\"gridcolor\": \"rgb(255,255,255)\", \"range\": [0], \"showgrid\": true, \"showline\": false, \"showticklabels\": true, \"tickcolor\": \"rgb(127,127,127)\", \"ticks\": \"outside\", \"title\": \"RT (s)\", \"anchor\": \"x1\", \"zeroline\": false}, \"yaxis2\": {\"gridcolor\": \"rgb(255,255,255)\", \"range\": [0], \"showgrid\": true, \"showline\": false, \"showticklabels\": true, \"tickcolor\": \"rgb(127,127,127)\", \"ticks\": \"outside\", \"title\": \"p (accept)\", \"anchor\": \"x2\", \"zeroline\": false}, \"annotations\": [{\"x\": 0.01, \"y\": 1.12, \"showarrow\": false, \"text\": \"PARAMETERS: v: 0.041, a: 0.249, \\u03b8: 0.46\", \"xref\": \"paper\", \"yref\": \"paper\"}, {\"x\": 0.01, \"y\": 1.08, \"showarrow\": false, \"text\": \"MLE: 687.54\", \"xref\": \"paper\", \"yref\": \"paper\"}, {\"x\": 0.01, \"y\": 1.2, \"showarrow\": false, \"text\": \"SUBJECT: 6\", \"font\": {\"family\": \"Arial, sans-serif\", \"size\": 22}, \"xref\": \"paper\", \"yref\": \"paper\"}]}, {\"showLink\": true, \"linkText\": \"Export to plot.ly\"})});</script>"
      ]
     },
     "metadata": {},
     "output_type": "display_data"
    },
    {
     "data": {
      "application/vnd.plotly.v1+json": {
       "data": [
        {
         "error_y": {
          "array": [
           0.21285109200996552,
           0.37714213911916256,
           0.2695708175541002,
           0.2886556556927408,
           0.5229150251484915,
           0.28322585932055555,
           0.37203030071021026
          ],
          "color": "rgb(0,170,80)",
          "type": "data",
          "visible": true
         },
         "line": {
          "color": "rgb(0,100,80)"
         },
         "mode": "lines+markers",
         "name": "Test Data",
         "type": "scatter",
         "x": [
          -1.5631578947368423,
          -0.8114285714285714,
          -0.3247826086956522,
          0.0283333333333333,
          0.30428571428571427,
          0.754,
          1.8863636363636358
         ],
         "y": [
          2.3779431322494173,
          2.821205532013014,
          2.9857144204576356,
          3.3635180042749804,
          3.790879182359278,
          2.77466733810943,
          2.865143027417533
         ]
        },
        {
         "error_y": {
          "array": [
           0.01332752418617944,
           0.01455713156867076,
           0.014709062411180295,
           0.013076011544563268,
           0.019015959466482903,
           0.015005093494285655,
           0.011053458533783433
          ],
          "color": "rgb(0,100,246)",
          "type": "data",
          "visible": true
         },
         "line": {
          "color": "rgb(0,176,246)"
         },
         "mode": "lines+markers",
         "name": "Sim Data",
         "type": "scatter",
         "x": [
          -1.5631578947368423,
          -0.8114285714285714,
          -0.3247826086956522,
          0.0283333333333333,
          0.30428571428571427,
          0.754,
          1.8863636363636358
         ],
         "y": [
          3.321246896478243,
          3.8297212192377255,
          4.022708705153874,
          4.076126042469677,
          4.060147056634672,
          3.864946630949946,
          3.056262685884254
         ]
        },
        {
         "error_y": {
          "array": [
           0,
           0,
           0.060073850409370216,
           0.08211756827352527,
           0.11380392954509881,
           0.04999999999999999,
           0.04545454545454545
          ],
          "color": "rgb(0,170,80)",
          "type": "data",
          "visible": true
         },
         "line": {
          "color": "rgb(0,100,80)"
         },
         "mode": "lines+markers",
         "name": "Test Data",
         "type": "scatter",
         "x": [
          -1.5631578947368423,
          -0.8114285714285714,
          -0.3247826086956522,
          0.0283333333333333,
          0.30428571428571427,
          0.754,
          1.8863636363636358
         ],
         "xaxis": "x2",
         "y": [
          0,
          0,
          0.08695652173913043,
          0.26666666666666666,
          0.7857142857142857,
          0.95,
          0.9545454545454546
         ],
         "yaxis": "y2"
        },
        {
         "error_y": {
          "array": [
           0.0022317777474656205,
           0.0028867675560466867,
           0.003262820770091812,
           0.0029579176980494954,
           0.004188420040547087,
           0.0030316805831861835,
           0.0016948636347244844
          ],
          "color": "rgb(0,100,246)",
          "type": "data",
          "visible": true
         },
         "line": {
          "color": "rgb(0,176,246)"
         },
         "mode": "lines+markers",
         "name": "Sim Data",
         "type": "scatter",
         "x": [
          -1.5631578947368423,
          -0.8114285714285714,
          -0.3247826086956522,
          0.0283333333333333,
          0.30428571428571427,
          0.754,
          1.8863636363636358
         ],
         "xaxis": "x2",
         "y": [
          0.10437423410943578,
          0.21772102353344097,
          0.3727918411946822,
          0.5179409909594225,
          0.6195579370395178,
          0.7675664537399547,
          0.9326927476549989
         ],
         "yaxis": "y2"
        }
       ],
       "layout": {
        "annotations": [
         {
          "showarrow": false,
          "text": "PARAMETERS: v: 0.041, a: 0.192, θ: 1.0",
          "x": 0.01,
          "xref": "paper",
          "y": 1.12,
          "yref": "paper"
         },
         {
          "showarrow": false,
          "text": "MLE: 627.45",
          "x": 0.01,
          "xref": "paper",
          "y": 1.08,
          "yref": "paper"
         },
         {
          "font": {
           "family": "Arial, sans-serif",
           "size": 22
          },
          "showarrow": false,
          "text": "SUBJECT: 7",
          "x": 0.01,
          "xref": "paper",
          "y": 1.2,
          "yref": "paper"
         }
        ],
        "paper_bgcolor": "rgb(255,255,255)",
        "plot_bgcolor": "rgb(229,229,229)",
        "xaxis": {
         "domain": [
          0,
          0.45
         ],
         "gridcolor": "rgb(255,255,255)",
         "range": [
          -2,
          2
         ],
         "showgrid": true,
         "showline": false,
         "showticklabels": true,
         "tickcolor": "rgb(127,127,127)",
         "ticks": "outside",
         "title": "Net Value ($)",
         "zeroline": false
        },
        "xaxis2": {
         "domain": [
          0.55,
          1
         ],
         "gridcolor": "rgb(255,255,255)",
         "range": [
          -2,
          2
         ],
         "showgrid": true,
         "showline": false,
         "showticklabels": true,
         "tickcolor": "rgb(127,127,127)",
         "ticks": "outside",
         "title": "Net Value ($)",
         "zeroline": false
        },
        "yaxis1": {
         "anchor": "x1",
         "gridcolor": "rgb(255,255,255)",
         "range": [
          0
         ],
         "showgrid": true,
         "showline": false,
         "showticklabels": true,
         "tickcolor": "rgb(127,127,127)",
         "ticks": "outside",
         "title": "RT (s)",
         "zeroline": false
        },
        "yaxis2": {
         "anchor": "x2",
         "gridcolor": "rgb(255,255,255)",
         "range": [
          0
         ],
         "showgrid": true,
         "showline": false,
         "showticklabels": true,
         "tickcolor": "rgb(127,127,127)",
         "ticks": "outside",
         "title": "p (accept)",
         "zeroline": false
        }
       }
      },
      "text/html": [
       "<div id=\"f966099d-2a41-4a21-8168-49f887e5435e\" style=\"height: 525px; width: 100%;\" class=\"plotly-graph-div\"></div><script type=\"text/javascript\">require([\"plotly\"], function(Plotly) { window.PLOTLYENV=window.PLOTLYENV || {};window.PLOTLYENV.BASE_URL=\"https://plot.ly\";Plotly.newPlot(\"f966099d-2a41-4a21-8168-49f887e5435e\", [{\"type\": \"scatter\", \"x\": [-1.5631578947368423, -0.8114285714285714, -0.3247826086956522, 0.0283333333333333, 0.30428571428571427, 0.754, 1.8863636363636358], \"y\": [2.3779431322494173, 2.821205532013014, 2.9857144204576356, 3.3635180042749804, 3.790879182359278, 2.77466733810943, 2.865143027417533], \"error_y\": {\"type\": \"data\", \"array\": [0.21285109200996552, 0.37714213911916256, 0.2695708175541002, 0.2886556556927408, 0.5229150251484915, 0.28322585932055555, 0.37203030071021026], \"color\": \"rgb(0,170,80)\", \"visible\": true}, \"line\": {\"color\": \"rgb(0,100,80)\"}, \"mode\": \"lines+markers\", \"name\": \"Test Data\"}, {\"type\": \"scatter\", \"x\": [-1.5631578947368423, -0.8114285714285714, -0.3247826086956522, 0.0283333333333333, 0.30428571428571427, 0.754, 1.8863636363636358], \"y\": [3.321246896478243, 3.8297212192377255, 4.022708705153874, 4.076126042469677, 4.060147056634672, 3.864946630949946, 3.056262685884254], \"error_y\": {\"type\": \"data\", \"array\": [0.01332752418617944, 0.01455713156867076, 0.014709062411180295, 0.013076011544563268, 0.019015959466482903, 0.015005093494285655, 0.011053458533783433], \"color\": \"rgb(0,100,246)\", \"visible\": true}, \"line\": {\"color\": \"rgb(0,176,246)\"}, \"mode\": \"lines+markers\", \"name\": \"Sim Data\"}, {\"type\": \"scatter\", \"x\": [-1.5631578947368423, -0.8114285714285714, -0.3247826086956522, 0.0283333333333333, 0.30428571428571427, 0.754, 1.8863636363636358], \"y\": [0.0, 0.0, 0.08695652173913043, 0.26666666666666666, 0.7857142857142857, 0.95, 0.9545454545454546], \"error_y\": {\"type\": \"data\", \"array\": [0.0, 0.0, 0.060073850409370216, 0.08211756827352527, 0.11380392954509881, 0.04999999999999999, 0.04545454545454545], \"color\": \"rgb(0,170,80)\", \"visible\": true}, \"line\": {\"color\": \"rgb(0,100,80)\"}, \"mode\": \"lines+markers\", \"name\": \"Test Data\", \"xaxis\": \"x2\", \"yaxis\": \"y2\"}, {\"type\": \"scatter\", \"x\": [-1.5631578947368423, -0.8114285714285714, -0.3247826086956522, 0.0283333333333333, 0.30428571428571427, 0.754, 1.8863636363636358], \"y\": [0.10437423410943578, 0.21772102353344097, 0.3727918411946822, 0.5179409909594225, 0.6195579370395178, 0.7675664537399547, 0.9326927476549989], \"error_y\": {\"type\": \"data\", \"array\": [0.0022317777474656205, 0.0028867675560466867, 0.003262820770091812, 0.0029579176980494954, 0.004188420040547087, 0.0030316805831861835, 0.0016948636347244844], \"color\": \"rgb(0,100,246)\", \"visible\": true}, \"line\": {\"color\": \"rgb(0,176,246)\"}, \"mode\": \"lines+markers\", \"name\": \"Sim Data\", \"xaxis\": \"x2\", \"yaxis\": \"y2\"}], {\"paper_bgcolor\": \"rgb(255,255,255)\", \"plot_bgcolor\": \"rgb(229,229,229)\", \"xaxis\": {\"gridcolor\": \"rgb(255,255,255)\", \"range\": [-2, 2], \"domain\": [0, 0.45], \"showgrid\": true, \"showline\": false, \"showticklabels\": true, \"tickcolor\": \"rgb(127,127,127)\", \"ticks\": \"outside\", \"title\": \"Net Value ($)\", \"zeroline\": false}, \"xaxis2\": {\"gridcolor\": \"rgb(255,255,255)\", \"range\": [-2, 2], \"domain\": [0.55, 1], \"showgrid\": true, \"showline\": false, \"showticklabels\": true, \"tickcolor\": \"rgb(127,127,127)\", \"ticks\": \"outside\", \"title\": \"Net Value ($)\", \"zeroline\": false}, \"yaxis1\": {\"gridcolor\": \"rgb(255,255,255)\", \"range\": [0], \"showgrid\": true, \"showline\": false, \"showticklabels\": true, \"tickcolor\": \"rgb(127,127,127)\", \"ticks\": \"outside\", \"title\": \"RT (s)\", \"anchor\": \"x1\", \"zeroline\": false}, \"yaxis2\": {\"gridcolor\": \"rgb(255,255,255)\", \"range\": [0], \"showgrid\": true, \"showline\": false, \"showticklabels\": true, \"tickcolor\": \"rgb(127,127,127)\", \"ticks\": \"outside\", \"title\": \"p (accept)\", \"anchor\": \"x2\", \"zeroline\": false}, \"annotations\": [{\"x\": 0.01, \"y\": 1.12, \"showarrow\": false, \"text\": \"PARAMETERS: v: 0.041, a: 0.192, \\u03b8: 1.0\", \"xref\": \"paper\", \"yref\": \"paper\"}, {\"x\": 0.01, \"y\": 1.08, \"showarrow\": false, \"text\": \"MLE: 627.45\", \"xref\": \"paper\", \"yref\": \"paper\"}, {\"x\": 0.01, \"y\": 1.2, \"showarrow\": false, \"text\": \"SUBJECT: 7\", \"font\": {\"family\": \"Arial, sans-serif\", \"size\": 22}, \"xref\": \"paper\", \"yref\": \"paper\"}]}, {\"showLink\": true, \"linkText\": \"Export to plot.ly\"})});</script>"
      ],
      "text/vnd.plotly.v1+html": [
       "<div id=\"f966099d-2a41-4a21-8168-49f887e5435e\" style=\"height: 525px; width: 100%;\" class=\"plotly-graph-div\"></div><script type=\"text/javascript\">require([\"plotly\"], function(Plotly) { window.PLOTLYENV=window.PLOTLYENV || {};window.PLOTLYENV.BASE_URL=\"https://plot.ly\";Plotly.newPlot(\"f966099d-2a41-4a21-8168-49f887e5435e\", [{\"type\": \"scatter\", \"x\": [-1.5631578947368423, -0.8114285714285714, -0.3247826086956522, 0.0283333333333333, 0.30428571428571427, 0.754, 1.8863636363636358], \"y\": [2.3779431322494173, 2.821205532013014, 2.9857144204576356, 3.3635180042749804, 3.790879182359278, 2.77466733810943, 2.865143027417533], \"error_y\": {\"type\": \"data\", \"array\": [0.21285109200996552, 0.37714213911916256, 0.2695708175541002, 0.2886556556927408, 0.5229150251484915, 0.28322585932055555, 0.37203030071021026], \"color\": \"rgb(0,170,80)\", \"visible\": true}, \"line\": {\"color\": \"rgb(0,100,80)\"}, \"mode\": \"lines+markers\", \"name\": \"Test Data\"}, {\"type\": \"scatter\", \"x\": [-1.5631578947368423, -0.8114285714285714, -0.3247826086956522, 0.0283333333333333, 0.30428571428571427, 0.754, 1.8863636363636358], \"y\": [3.321246896478243, 3.8297212192377255, 4.022708705153874, 4.076126042469677, 4.060147056634672, 3.864946630949946, 3.056262685884254], \"error_y\": {\"type\": \"data\", \"array\": [0.01332752418617944, 0.01455713156867076, 0.014709062411180295, 0.013076011544563268, 0.019015959466482903, 0.015005093494285655, 0.011053458533783433], \"color\": \"rgb(0,100,246)\", \"visible\": true}, \"line\": {\"color\": \"rgb(0,176,246)\"}, \"mode\": \"lines+markers\", \"name\": \"Sim Data\"}, {\"type\": \"scatter\", \"x\": [-1.5631578947368423, -0.8114285714285714, -0.3247826086956522, 0.0283333333333333, 0.30428571428571427, 0.754, 1.8863636363636358], \"y\": [0.0, 0.0, 0.08695652173913043, 0.26666666666666666, 0.7857142857142857, 0.95, 0.9545454545454546], \"error_y\": {\"type\": \"data\", \"array\": [0.0, 0.0, 0.060073850409370216, 0.08211756827352527, 0.11380392954509881, 0.04999999999999999, 0.04545454545454545], \"color\": \"rgb(0,170,80)\", \"visible\": true}, \"line\": {\"color\": \"rgb(0,100,80)\"}, \"mode\": \"lines+markers\", \"name\": \"Test Data\", \"xaxis\": \"x2\", \"yaxis\": \"y2\"}, {\"type\": \"scatter\", \"x\": [-1.5631578947368423, -0.8114285714285714, -0.3247826086956522, 0.0283333333333333, 0.30428571428571427, 0.754, 1.8863636363636358], \"y\": [0.10437423410943578, 0.21772102353344097, 0.3727918411946822, 0.5179409909594225, 0.6195579370395178, 0.7675664537399547, 0.9326927476549989], \"error_y\": {\"type\": \"data\", \"array\": [0.0022317777474656205, 0.0028867675560466867, 0.003262820770091812, 0.0029579176980494954, 0.004188420040547087, 0.0030316805831861835, 0.0016948636347244844], \"color\": \"rgb(0,100,246)\", \"visible\": true}, \"line\": {\"color\": \"rgb(0,176,246)\"}, \"mode\": \"lines+markers\", \"name\": \"Sim Data\", \"xaxis\": \"x2\", \"yaxis\": \"y2\"}], {\"paper_bgcolor\": \"rgb(255,255,255)\", \"plot_bgcolor\": \"rgb(229,229,229)\", \"xaxis\": {\"gridcolor\": \"rgb(255,255,255)\", \"range\": [-2, 2], \"domain\": [0, 0.45], \"showgrid\": true, \"showline\": false, \"showticklabels\": true, \"tickcolor\": \"rgb(127,127,127)\", \"ticks\": \"outside\", \"title\": \"Net Value ($)\", \"zeroline\": false}, \"xaxis2\": {\"gridcolor\": \"rgb(255,255,255)\", \"range\": [-2, 2], \"domain\": [0.55, 1], \"showgrid\": true, \"showline\": false, \"showticklabels\": true, \"tickcolor\": \"rgb(127,127,127)\", \"ticks\": \"outside\", \"title\": \"Net Value ($)\", \"zeroline\": false}, \"yaxis1\": {\"gridcolor\": \"rgb(255,255,255)\", \"range\": [0], \"showgrid\": true, \"showline\": false, \"showticklabels\": true, \"tickcolor\": \"rgb(127,127,127)\", \"ticks\": \"outside\", \"title\": \"RT (s)\", \"anchor\": \"x1\", \"zeroline\": false}, \"yaxis2\": {\"gridcolor\": \"rgb(255,255,255)\", \"range\": [0], \"showgrid\": true, \"showline\": false, \"showticklabels\": true, \"tickcolor\": \"rgb(127,127,127)\", \"ticks\": \"outside\", \"title\": \"p (accept)\", \"anchor\": \"x2\", \"zeroline\": false}, \"annotations\": [{\"x\": 0.01, \"y\": 1.12, \"showarrow\": false, \"text\": \"PARAMETERS: v: 0.041, a: 0.192, \\u03b8: 1.0\", \"xref\": \"paper\", \"yref\": \"paper\"}, {\"x\": 0.01, \"y\": 1.08, \"showarrow\": false, \"text\": \"MLE: 627.45\", \"xref\": \"paper\", \"yref\": \"paper\"}, {\"x\": 0.01, \"y\": 1.2, \"showarrow\": false, \"text\": \"SUBJECT: 7\", \"font\": {\"family\": \"Arial, sans-serif\", \"size\": 22}, \"xref\": \"paper\", \"yref\": \"paper\"}]}, {\"showLink\": true, \"linkText\": \"Export to plot.ly\"})});</script>"
      ]
     },
     "metadata": {},
     "output_type": "display_data"
    },
    {
     "data": {
      "application/vnd.plotly.v1+json": {
       "data": [
        {
         "error_y": {
          "array": [
           0.27050941425998043,
           0.28770960590492894,
           0.18240159910635725,
           0.23948529280393824,
           0.270817086073925,
           0.32586465298263884,
           0.10178122567525187
          ],
          "color": "rgb(0,170,80)",
          "type": "data",
          "visible": true
         },
         "line": {
          "color": "rgb(0,100,80)"
         },
         "mode": "lines+markers",
         "name": "Test Data",
         "type": "scatter",
         "x": [
          -1.7345,
          -0.8091666666666667,
          -0.286,
          0.025161290322580618,
          0.3271428571428571,
          0.7461111111111111,
          1.5722222222222217
         ],
         "y": [
          2.5601258025313673,
          3.0063551905454915,
          2.7211679010491934,
          3.1543780296791915,
          2.6131890266302187,
          2.5056769166332944,
          2.170454257731629
         ]
        },
        {
         "error_y": {
          "array": [
           0.013989951938279302,
           0.014017054982184375,
           0.01846267059091639,
           0.012642960156781416,
           0.019093446466590783,
           0.016276104358954244,
           0.012445566129079622
          ],
          "color": "rgb(0,100,246)",
          "type": "data",
          "visible": true
         },
         "line": {
          "color": "rgb(0,176,246)"
         },
         "mode": "lines+markers",
         "name": "Sim Data",
         "type": "scatter",
         "x": [
          -1.7345,
          -0.8091666666666667,
          -0.286,
          0.025161290322580618,
          0.3271428571428571,
          0.7461111111111111,
          1.5722222222222217
         ],
         "y": [
          3.5775286049357593,
          3.910404457498261,
          4.066320643806878,
          4.026752253316706,
          4.047245342312037,
          3.958732231309755,
          3.7144624270888618
         ]
        },
        {
         "error_y": {
          "array": [
           0,
           0.05763033956734372,
           0.06666666666666665,
           0.09123958466923195,
           0.11380392954509881,
           0.0762215933966706,
           0.037037037037037035
          ],
          "color": "rgb(0,170,80)",
          "type": "data",
          "visible": true
         },
         "line": {
          "color": "rgb(0,100,80)"
         },
         "mode": "lines+markers",
         "name": "Test Data",
         "type": "scatter",
         "x": [
          -1.7345,
          -0.8091666666666667,
          -0.286,
          0.025161290322580618,
          0.3271428571428571,
          0.7461111111111111,
          1.5722222222222217
         ],
         "xaxis": "x2",
         "y": [
          0,
          0.08333333333333333,
          0.06666666666666667,
          0.5161290322580645,
          0.7857142857142857,
          0.8888888888888888,
          0.9629629629629629
         ],
         "yaxis": "y2"
        },
        {
         "error_y": {
          "array": [
           0.0025957576900850917,
           0.0030727928239259335,
           0.0041643884247203776,
           0.0029048264701143148,
           0.00424168725256346,
           0.0035326904488098805,
           0.0024102678162975337
          ],
          "color": "rgb(0,100,246)",
          "type": "data",
          "visible": true
         },
         "line": {
          "color": "rgb(0,176,246)"
         },
         "mode": "lines+markers",
         "name": "Sim Data",
         "type": "scatter",
         "x": [
          -1.7345,
          -0.8091666666666667,
          -0.286,
          0.025161290322580618,
          0.3271428571428571,
          0.7461111111111111,
          1.5722222222222217
         ],
         "xaxis": "x2",
         "y": [
          0.15668978176626555,
          0.32277988942639946,
          0.4531140657802659,
          0.4929953077000979,
          0.5977553310886644,
          0.6825826517682295,
          0.8108476630558291
         ],
         "yaxis": "y2"
        }
       ],
       "layout": {
        "annotations": [
         {
          "showarrow": false,
          "text": "PARAMETERS: v: 0.041, a: 0.192, θ: 0.28",
          "x": 0.01,
          "xref": "paper",
          "y": 1.12,
          "yref": "paper"
         },
         {
          "showarrow": false,
          "text": "MLE: 663.04",
          "x": 0.01,
          "xref": "paper",
          "y": 1.08,
          "yref": "paper"
         },
         {
          "font": {
           "family": "Arial, sans-serif",
           "size": 22
          },
          "showarrow": false,
          "text": "SUBJECT: 8",
          "x": 0.01,
          "xref": "paper",
          "y": 1.2,
          "yref": "paper"
         }
        ],
        "paper_bgcolor": "rgb(255,255,255)",
        "plot_bgcolor": "rgb(229,229,229)",
        "xaxis": {
         "domain": [
          0,
          0.45
         ],
         "gridcolor": "rgb(255,255,255)",
         "range": [
          -2,
          2
         ],
         "showgrid": true,
         "showline": false,
         "showticklabels": true,
         "tickcolor": "rgb(127,127,127)",
         "ticks": "outside",
         "title": "Net Value ($)",
         "zeroline": false
        },
        "xaxis2": {
         "domain": [
          0.55,
          1
         ],
         "gridcolor": "rgb(255,255,255)",
         "range": [
          -2,
          2
         ],
         "showgrid": true,
         "showline": false,
         "showticklabels": true,
         "tickcolor": "rgb(127,127,127)",
         "ticks": "outside",
         "title": "Net Value ($)",
         "zeroline": false
        },
        "yaxis1": {
         "anchor": "x1",
         "gridcolor": "rgb(255,255,255)",
         "range": [
          0
         ],
         "showgrid": true,
         "showline": false,
         "showticklabels": true,
         "tickcolor": "rgb(127,127,127)",
         "ticks": "outside",
         "title": "RT (s)",
         "zeroline": false
        },
        "yaxis2": {
         "anchor": "x2",
         "gridcolor": "rgb(255,255,255)",
         "range": [
          0
         ],
         "showgrid": true,
         "showline": false,
         "showticklabels": true,
         "tickcolor": "rgb(127,127,127)",
         "ticks": "outside",
         "title": "p (accept)",
         "zeroline": false
        }
       }
      },
      "text/html": [
       "<div id=\"b407b9e0-fd1b-4f09-bb74-ef801ce1273b\" style=\"height: 525px; width: 100%;\" class=\"plotly-graph-div\"></div><script type=\"text/javascript\">require([\"plotly\"], function(Plotly) { window.PLOTLYENV=window.PLOTLYENV || {};window.PLOTLYENV.BASE_URL=\"https://plot.ly\";Plotly.newPlot(\"b407b9e0-fd1b-4f09-bb74-ef801ce1273b\", [{\"type\": \"scatter\", \"x\": [-1.7345, -0.8091666666666667, -0.286, 0.025161290322580618, 0.3271428571428571, 0.7461111111111111, 1.5722222222222217], \"y\": [2.5601258025313673, 3.0063551905454915, 2.7211679010491934, 3.1543780296791915, 2.6131890266302187, 2.5056769166332944, 2.170454257731629], \"error_y\": {\"type\": \"data\", \"array\": [0.27050941425998043, 0.28770960590492894, 0.18240159910635725, 0.23948529280393824, 0.270817086073925, 0.32586465298263884, 0.10178122567525187], \"color\": \"rgb(0,170,80)\", \"visible\": true}, \"line\": {\"color\": \"rgb(0,100,80)\"}, \"mode\": \"lines+markers\", \"name\": \"Test Data\"}, {\"type\": \"scatter\", \"x\": [-1.7345, -0.8091666666666667, -0.286, 0.025161290322580618, 0.3271428571428571, 0.7461111111111111, 1.5722222222222217], \"y\": [3.5775286049357593, 3.910404457498261, 4.066320643806878, 4.026752253316706, 4.047245342312037, 3.958732231309755, 3.7144624270888618], \"error_y\": {\"type\": \"data\", \"array\": [0.013989951938279302, 0.014017054982184375, 0.01846267059091639, 0.012642960156781416, 0.019093446466590783, 0.016276104358954244, 0.012445566129079622], \"color\": \"rgb(0,100,246)\", \"visible\": true}, \"line\": {\"color\": \"rgb(0,176,246)\"}, \"mode\": \"lines+markers\", \"name\": \"Sim Data\"}, {\"type\": \"scatter\", \"x\": [-1.7345, -0.8091666666666667, -0.286, 0.025161290322580618, 0.3271428571428571, 0.7461111111111111, 1.5722222222222217], \"y\": [0.0, 0.08333333333333333, 0.06666666666666667, 0.5161290322580645, 0.7857142857142857, 0.8888888888888888, 0.9629629629629629], \"error_y\": {\"type\": \"data\", \"array\": [0.0, 0.05763033956734372, 0.06666666666666665, 0.09123958466923195, 0.11380392954509881, 0.0762215933966706, 0.037037037037037035], \"color\": \"rgb(0,170,80)\", \"visible\": true}, \"line\": {\"color\": \"rgb(0,100,80)\"}, \"mode\": \"lines+markers\", \"name\": \"Test Data\", \"xaxis\": \"x2\", \"yaxis\": \"y2\"}, {\"type\": \"scatter\", \"x\": [-1.7345, -0.8091666666666667, -0.286, 0.025161290322580618, 0.3271428571428571, 0.7461111111111111, 1.5722222222222217], \"y\": [0.15668978176626555, 0.32277988942639946, 0.4531140657802659, 0.4929953077000979, 0.5977553310886644, 0.6825826517682295, 0.8108476630558291], \"error_y\": {\"type\": \"data\", \"array\": [0.0025957576900850917, 0.0030727928239259335, 0.0041643884247203776, 0.0029048264701143148, 0.00424168725256346, 0.0035326904488098805, 0.0024102678162975337], \"color\": \"rgb(0,100,246)\", \"visible\": true}, \"line\": {\"color\": \"rgb(0,176,246)\"}, \"mode\": \"lines+markers\", \"name\": \"Sim Data\", \"xaxis\": \"x2\", \"yaxis\": \"y2\"}], {\"paper_bgcolor\": \"rgb(255,255,255)\", \"plot_bgcolor\": \"rgb(229,229,229)\", \"xaxis\": {\"gridcolor\": \"rgb(255,255,255)\", \"range\": [-2, 2], \"domain\": [0, 0.45], \"showgrid\": true, \"showline\": false, \"showticklabels\": true, \"tickcolor\": \"rgb(127,127,127)\", \"ticks\": \"outside\", \"title\": \"Net Value ($)\", \"zeroline\": false}, \"xaxis2\": {\"gridcolor\": \"rgb(255,255,255)\", \"range\": [-2, 2], \"domain\": [0.55, 1], \"showgrid\": true, \"showline\": false, \"showticklabels\": true, \"tickcolor\": \"rgb(127,127,127)\", \"ticks\": \"outside\", \"title\": \"Net Value ($)\", \"zeroline\": false}, \"yaxis1\": {\"gridcolor\": \"rgb(255,255,255)\", \"range\": [0], \"showgrid\": true, \"showline\": false, \"showticklabels\": true, \"tickcolor\": \"rgb(127,127,127)\", \"ticks\": \"outside\", \"title\": \"RT (s)\", \"anchor\": \"x1\", \"zeroline\": false}, \"yaxis2\": {\"gridcolor\": \"rgb(255,255,255)\", \"range\": [0], \"showgrid\": true, \"showline\": false, \"showticklabels\": true, \"tickcolor\": \"rgb(127,127,127)\", \"ticks\": \"outside\", \"title\": \"p (accept)\", \"anchor\": \"x2\", \"zeroline\": false}, \"annotations\": [{\"x\": 0.01, \"y\": 1.12, \"showarrow\": false, \"text\": \"PARAMETERS: v: 0.041, a: 0.192, \\u03b8: 0.28\", \"xref\": \"paper\", \"yref\": \"paper\"}, {\"x\": 0.01, \"y\": 1.08, \"showarrow\": false, \"text\": \"MLE: 663.04\", \"xref\": \"paper\", \"yref\": \"paper\"}, {\"x\": 0.01, \"y\": 1.2, \"showarrow\": false, \"text\": \"SUBJECT: 8\", \"font\": {\"family\": \"Arial, sans-serif\", \"size\": 22}, \"xref\": \"paper\", \"yref\": \"paper\"}]}, {\"showLink\": true, \"linkText\": \"Export to plot.ly\"})});</script>"
      ],
      "text/vnd.plotly.v1+html": [
       "<div id=\"b407b9e0-fd1b-4f09-bb74-ef801ce1273b\" style=\"height: 525px; width: 100%;\" class=\"plotly-graph-div\"></div><script type=\"text/javascript\">require([\"plotly\"], function(Plotly) { window.PLOTLYENV=window.PLOTLYENV || {};window.PLOTLYENV.BASE_URL=\"https://plot.ly\";Plotly.newPlot(\"b407b9e0-fd1b-4f09-bb74-ef801ce1273b\", [{\"type\": \"scatter\", \"x\": [-1.7345, -0.8091666666666667, -0.286, 0.025161290322580618, 0.3271428571428571, 0.7461111111111111, 1.5722222222222217], \"y\": [2.5601258025313673, 3.0063551905454915, 2.7211679010491934, 3.1543780296791915, 2.6131890266302187, 2.5056769166332944, 2.170454257731629], \"error_y\": {\"type\": \"data\", \"array\": [0.27050941425998043, 0.28770960590492894, 0.18240159910635725, 0.23948529280393824, 0.270817086073925, 0.32586465298263884, 0.10178122567525187], \"color\": \"rgb(0,170,80)\", \"visible\": true}, \"line\": {\"color\": \"rgb(0,100,80)\"}, \"mode\": \"lines+markers\", \"name\": \"Test Data\"}, {\"type\": \"scatter\", \"x\": [-1.7345, -0.8091666666666667, -0.286, 0.025161290322580618, 0.3271428571428571, 0.7461111111111111, 1.5722222222222217], \"y\": [3.5775286049357593, 3.910404457498261, 4.066320643806878, 4.026752253316706, 4.047245342312037, 3.958732231309755, 3.7144624270888618], \"error_y\": {\"type\": \"data\", \"array\": [0.013989951938279302, 0.014017054982184375, 0.01846267059091639, 0.012642960156781416, 0.019093446466590783, 0.016276104358954244, 0.012445566129079622], \"color\": \"rgb(0,100,246)\", \"visible\": true}, \"line\": {\"color\": \"rgb(0,176,246)\"}, \"mode\": \"lines+markers\", \"name\": \"Sim Data\"}, {\"type\": \"scatter\", \"x\": [-1.7345, -0.8091666666666667, -0.286, 0.025161290322580618, 0.3271428571428571, 0.7461111111111111, 1.5722222222222217], \"y\": [0.0, 0.08333333333333333, 0.06666666666666667, 0.5161290322580645, 0.7857142857142857, 0.8888888888888888, 0.9629629629629629], \"error_y\": {\"type\": \"data\", \"array\": [0.0, 0.05763033956734372, 0.06666666666666665, 0.09123958466923195, 0.11380392954509881, 0.0762215933966706, 0.037037037037037035], \"color\": \"rgb(0,170,80)\", \"visible\": true}, \"line\": {\"color\": \"rgb(0,100,80)\"}, \"mode\": \"lines+markers\", \"name\": \"Test Data\", \"xaxis\": \"x2\", \"yaxis\": \"y2\"}, {\"type\": \"scatter\", \"x\": [-1.7345, -0.8091666666666667, -0.286, 0.025161290322580618, 0.3271428571428571, 0.7461111111111111, 1.5722222222222217], \"y\": [0.15668978176626555, 0.32277988942639946, 0.4531140657802659, 0.4929953077000979, 0.5977553310886644, 0.6825826517682295, 0.8108476630558291], \"error_y\": {\"type\": \"data\", \"array\": [0.0025957576900850917, 0.0030727928239259335, 0.0041643884247203776, 0.0029048264701143148, 0.00424168725256346, 0.0035326904488098805, 0.0024102678162975337], \"color\": \"rgb(0,100,246)\", \"visible\": true}, \"line\": {\"color\": \"rgb(0,176,246)\"}, \"mode\": \"lines+markers\", \"name\": \"Sim Data\", \"xaxis\": \"x2\", \"yaxis\": \"y2\"}], {\"paper_bgcolor\": \"rgb(255,255,255)\", \"plot_bgcolor\": \"rgb(229,229,229)\", \"xaxis\": {\"gridcolor\": \"rgb(255,255,255)\", \"range\": [-2, 2], \"domain\": [0, 0.45], \"showgrid\": true, \"showline\": false, \"showticklabels\": true, \"tickcolor\": \"rgb(127,127,127)\", \"ticks\": \"outside\", \"title\": \"Net Value ($)\", \"zeroline\": false}, \"xaxis2\": {\"gridcolor\": \"rgb(255,255,255)\", \"range\": [-2, 2], \"domain\": [0.55, 1], \"showgrid\": true, \"showline\": false, \"showticklabels\": true, \"tickcolor\": \"rgb(127,127,127)\", \"ticks\": \"outside\", \"title\": \"Net Value ($)\", \"zeroline\": false}, \"yaxis1\": {\"gridcolor\": \"rgb(255,255,255)\", \"range\": [0], \"showgrid\": true, \"showline\": false, \"showticklabels\": true, \"tickcolor\": \"rgb(127,127,127)\", \"ticks\": \"outside\", \"title\": \"RT (s)\", \"anchor\": \"x1\", \"zeroline\": false}, \"yaxis2\": {\"gridcolor\": \"rgb(255,255,255)\", \"range\": [0], \"showgrid\": true, \"showline\": false, \"showticklabels\": true, \"tickcolor\": \"rgb(127,127,127)\", \"ticks\": \"outside\", \"title\": \"p (accept)\", \"anchor\": \"x2\", \"zeroline\": false}, \"annotations\": [{\"x\": 0.01, \"y\": 1.12, \"showarrow\": false, \"text\": \"PARAMETERS: v: 0.041, a: 0.192, \\u03b8: 0.28\", \"xref\": \"paper\", \"yref\": \"paper\"}, {\"x\": 0.01, \"y\": 1.08, \"showarrow\": false, \"text\": \"MLE: 663.04\", \"xref\": \"paper\", \"yref\": \"paper\"}, {\"x\": 0.01, \"y\": 1.2, \"showarrow\": false, \"text\": \"SUBJECT: 8\", \"font\": {\"family\": \"Arial, sans-serif\", \"size\": 22}, \"xref\": \"paper\", \"yref\": \"paper\"}]}, {\"showLink\": true, \"linkText\": \"Export to plot.ly\"})});</script>"
      ]
     },
     "metadata": {},
     "output_type": "display_data"
    },
    {
     "data": {
      "application/vnd.plotly.v1+json": {
       "data": [
        {
         "error_y": {
          "array": [
           0.20399141919352085,
           0.2601934750729377,
           0.5465874954199383,
           0.27742531679976895,
           0.479598191779937,
           0.2319815272773067,
           0.2543544269306552
          ],
          "color": "rgb(0,170,80)",
          "type": "data",
          "visible": true
         },
         "line": {
          "color": "rgb(0,100,80)"
         },
         "mode": "lines+markers",
         "name": "Test Data",
         "type": "scatter",
         "x": [
          -1.6516666666666668,
          -0.7999999999999999,
          -0.3061111111111112,
          0.021999999999999974,
          0.3085714285714286,
          0.755,
          1.6012499999999996
         ],
         "y": [
          2.2320420636266745,
          3.1515045656874707,
          3.8372014102181606,
          3.679312936441177,
          3.66939570704874,
          3.2465464065336915,
          2.6207960178538383
         ]
        },
        {
         "error_y": {
          "array": [
           0.015000503583952749,
           0.01593340402470322,
           0.016715474607555382,
           0.012849238209166027,
           0.019235553815918474,
           0.014908224860794319,
           0.012947490910748888
          ],
          "color": "rgb(0,100,246)",
          "type": "data",
          "visible": true
         },
         "line": {
          "color": "rgb(0,176,246)"
         },
         "mode": "lines+markers",
         "name": "Sim Data",
         "type": "scatter",
         "x": [
          -1.6516666666666668,
          -0.7999999999999999,
          -0.3061111111111112,
          0.021999999999999974,
          0.3085714285714286,
          0.755,
          1.6012499999999996
         ],
         "y": [
          3.6331164403023384,
          3.941673819273811,
          4.078134575087315,
          3.9954870848708515,
          4.050878081577772,
          3.9480942529824308,
          3.6563374941422113
         ]
        },
        {
         "error_y": {
          "array": [
           0,
           0.0723351864143449,
           0.05555555555555556,
           0.0875376219064817,
           0.13725270326150324,
           0.10163945352271771,
           0.041666666666666664
          ],
          "color": "rgb(0,170,80)",
          "type": "data",
          "visible": true
         },
         "line": {
          "color": "rgb(0,100,80)"
         },
         "mode": "lines+markers",
         "name": "Test Data",
         "type": "scatter",
         "x": [
          -1.6516666666666668,
          -0.7999999999999999,
          -0.3061111111111112,
          0.021999999999999974,
          0.3085714285714286,
          0.755,
          1.6012499999999996
         ],
         "xaxis": "x2",
         "y": [
          0,
          0.10526315789473684,
          0.05555555555555555,
          0.3333333333333333,
          0.5714285714285714,
          0.6818181818181818,
          0.9583333333333334
         ],
         "yaxis": "y2"
        },
        {
         "error_y": {
          "array": [
           0.0028149019349785285,
           0.0034452881193321183,
           0.0037778241346949396,
           0.0029500945782351797,
           0.004268555267080403,
           0.0031656619682129262,
           0.0024536718533629313
          ],
          "color": "rgb(0,100,246)",
          "type": "data",
          "visible": true
         },
         "line": {
          "color": "rgb(0,176,246)"
         },
         "mode": "lines+markers",
         "name": "Sim Data",
         "type": "scatter",
         "x": [
          -1.6516666666666668,
          -0.7999999999999999,
          -0.3061111111111112,
          0.021999999999999974,
          0.3085714285714286,
          0.755,
          1.6012499999999996
         ],
         "xaxis": "x2",
         "y": [
          0.16747172813547764,
          0.3194103194103194,
          0.43055878928987196,
          0.49784167652997285,
          0.5782160466158673,
          0.6957489111910623,
          0.8296766497678183
         ],
         "yaxis": "y2"
        }
       ],
       "layout": {
        "annotations": [
         {
          "showarrow": false,
          "text": "PARAMETERS: v: 0.041, a: 0.192, θ: 0.28",
          "x": 0.01,
          "xref": "paper",
          "y": 1.12,
          "yref": "paper"
         },
         {
          "showarrow": false,
          "text": "MLE: 705.87",
          "x": 0.01,
          "xref": "paper",
          "y": 1.08,
          "yref": "paper"
         },
         {
          "font": {
           "family": "Arial, sans-serif",
           "size": 22
          },
          "showarrow": false,
          "text": "SUBJECT: 9",
          "x": 0.01,
          "xref": "paper",
          "y": 1.2,
          "yref": "paper"
         }
        ],
        "paper_bgcolor": "rgb(255,255,255)",
        "plot_bgcolor": "rgb(229,229,229)",
        "xaxis": {
         "domain": [
          0,
          0.45
         ],
         "gridcolor": "rgb(255,255,255)",
         "range": [
          -2,
          2
         ],
         "showgrid": true,
         "showline": false,
         "showticklabels": true,
         "tickcolor": "rgb(127,127,127)",
         "ticks": "outside",
         "title": "Net Value ($)",
         "zeroline": false
        },
        "xaxis2": {
         "domain": [
          0.55,
          1
         ],
         "gridcolor": "rgb(255,255,255)",
         "range": [
          -2,
          2
         ],
         "showgrid": true,
         "showline": false,
         "showticklabels": true,
         "tickcolor": "rgb(127,127,127)",
         "ticks": "outside",
         "title": "Net Value ($)",
         "zeroline": false
        },
        "yaxis1": {
         "anchor": "x1",
         "gridcolor": "rgb(255,255,255)",
         "range": [
          0
         ],
         "showgrid": true,
         "showline": false,
         "showticklabels": true,
         "tickcolor": "rgb(127,127,127)",
         "ticks": "outside",
         "title": "RT (s)",
         "zeroline": false
        },
        "yaxis2": {
         "anchor": "x2",
         "gridcolor": "rgb(255,255,255)",
         "range": [
          0
         ],
         "showgrid": true,
         "showline": false,
         "showticklabels": true,
         "tickcolor": "rgb(127,127,127)",
         "ticks": "outside",
         "title": "p (accept)",
         "zeroline": false
        }
       }
      },
      "text/html": [
       "<div id=\"d0f83b14-eb9d-4340-ac33-d0f7ac6587d2\" style=\"height: 525px; width: 100%;\" class=\"plotly-graph-div\"></div><script type=\"text/javascript\">require([\"plotly\"], function(Plotly) { window.PLOTLYENV=window.PLOTLYENV || {};window.PLOTLYENV.BASE_URL=\"https://plot.ly\";Plotly.newPlot(\"d0f83b14-eb9d-4340-ac33-d0f7ac6587d2\", [{\"type\": \"scatter\", \"x\": [-1.6516666666666668, -0.7999999999999999, -0.3061111111111112, 0.021999999999999974, 0.3085714285714286, 0.755, 1.6012499999999996], \"y\": [2.2320420636266745, 3.1515045656874707, 3.8372014102181606, 3.679312936441177, 3.66939570704874, 3.2465464065336915, 2.6207960178538383], \"error_y\": {\"type\": \"data\", \"array\": [0.20399141919352085, 0.2601934750729377, 0.5465874954199383, 0.27742531679976895, 0.479598191779937, 0.2319815272773067, 0.2543544269306552], \"color\": \"rgb(0,170,80)\", \"visible\": true}, \"line\": {\"color\": \"rgb(0,100,80)\"}, \"mode\": \"lines+markers\", \"name\": \"Test Data\"}, {\"type\": \"scatter\", \"x\": [-1.6516666666666668, -0.7999999999999999, -0.3061111111111112, 0.021999999999999974, 0.3085714285714286, 0.755, 1.6012499999999996], \"y\": [3.6331164403023384, 3.941673819273811, 4.078134575087315, 3.9954870848708515, 4.050878081577772, 3.9480942529824308, 3.6563374941422113], \"error_y\": {\"type\": \"data\", \"array\": [0.015000503583952749, 0.01593340402470322, 0.016715474607555382, 0.012849238209166027, 0.019235553815918474, 0.014908224860794319, 0.012947490910748888], \"color\": \"rgb(0,100,246)\", \"visible\": true}, \"line\": {\"color\": \"rgb(0,176,246)\"}, \"mode\": \"lines+markers\", \"name\": \"Sim Data\"}, {\"type\": \"scatter\", \"x\": [-1.6516666666666668, -0.7999999999999999, -0.3061111111111112, 0.021999999999999974, 0.3085714285714286, 0.755, 1.6012499999999996], \"y\": [0.0, 0.10526315789473684, 0.05555555555555555, 0.3333333333333333, 0.5714285714285714, 0.6818181818181818, 0.9583333333333334], \"error_y\": {\"type\": \"data\", \"array\": [0.0, 0.0723351864143449, 0.05555555555555556, 0.0875376219064817, 0.13725270326150324, 0.10163945352271771, 0.041666666666666664], \"color\": \"rgb(0,170,80)\", \"visible\": true}, \"line\": {\"color\": \"rgb(0,100,80)\"}, \"mode\": \"lines+markers\", \"name\": \"Test Data\", \"xaxis\": \"x2\", \"yaxis\": \"y2\"}, {\"type\": \"scatter\", \"x\": [-1.6516666666666668, -0.7999999999999999, -0.3061111111111112, 0.021999999999999974, 0.3085714285714286, 0.755, 1.6012499999999996], \"y\": [0.16747172813547764, 0.3194103194103194, 0.43055878928987196, 0.49784167652997285, 0.5782160466158673, 0.6957489111910623, 0.8296766497678183], \"error_y\": {\"type\": \"data\", \"array\": [0.0028149019349785285, 0.0034452881193321183, 0.0037778241346949396, 0.0029500945782351797, 0.004268555267080403, 0.0031656619682129262, 0.0024536718533629313], \"color\": \"rgb(0,100,246)\", \"visible\": true}, \"line\": {\"color\": \"rgb(0,176,246)\"}, \"mode\": \"lines+markers\", \"name\": \"Sim Data\", \"xaxis\": \"x2\", \"yaxis\": \"y2\"}], {\"paper_bgcolor\": \"rgb(255,255,255)\", \"plot_bgcolor\": \"rgb(229,229,229)\", \"xaxis\": {\"gridcolor\": \"rgb(255,255,255)\", \"range\": [-2, 2], \"domain\": [0, 0.45], \"showgrid\": true, \"showline\": false, \"showticklabels\": true, \"tickcolor\": \"rgb(127,127,127)\", \"ticks\": \"outside\", \"title\": \"Net Value ($)\", \"zeroline\": false}, \"xaxis2\": {\"gridcolor\": \"rgb(255,255,255)\", \"range\": [-2, 2], \"domain\": [0.55, 1], \"showgrid\": true, \"showline\": false, \"showticklabels\": true, \"tickcolor\": \"rgb(127,127,127)\", \"ticks\": \"outside\", \"title\": \"Net Value ($)\", \"zeroline\": false}, \"yaxis1\": {\"gridcolor\": \"rgb(255,255,255)\", \"range\": [0], \"showgrid\": true, \"showline\": false, \"showticklabels\": true, \"tickcolor\": \"rgb(127,127,127)\", \"ticks\": \"outside\", \"title\": \"RT (s)\", \"anchor\": \"x1\", \"zeroline\": false}, \"yaxis2\": {\"gridcolor\": \"rgb(255,255,255)\", \"range\": [0], \"showgrid\": true, \"showline\": false, \"showticklabels\": true, \"tickcolor\": \"rgb(127,127,127)\", \"ticks\": \"outside\", \"title\": \"p (accept)\", \"anchor\": \"x2\", \"zeroline\": false}, \"annotations\": [{\"x\": 0.01, \"y\": 1.12, \"showarrow\": false, \"text\": \"PARAMETERS: v: 0.041, a: 0.192, \\u03b8: 0.28\", \"xref\": \"paper\", \"yref\": \"paper\"}, {\"x\": 0.01, \"y\": 1.08, \"showarrow\": false, \"text\": \"MLE: 705.87\", \"xref\": \"paper\", \"yref\": \"paper\"}, {\"x\": 0.01, \"y\": 1.2, \"showarrow\": false, \"text\": \"SUBJECT: 9\", \"font\": {\"family\": \"Arial, sans-serif\", \"size\": 22}, \"xref\": \"paper\", \"yref\": \"paper\"}]}, {\"showLink\": true, \"linkText\": \"Export to plot.ly\"})});</script>"
      ],
      "text/vnd.plotly.v1+html": [
       "<div id=\"d0f83b14-eb9d-4340-ac33-d0f7ac6587d2\" style=\"height: 525px; width: 100%;\" class=\"plotly-graph-div\"></div><script type=\"text/javascript\">require([\"plotly\"], function(Plotly) { window.PLOTLYENV=window.PLOTLYENV || {};window.PLOTLYENV.BASE_URL=\"https://plot.ly\";Plotly.newPlot(\"d0f83b14-eb9d-4340-ac33-d0f7ac6587d2\", [{\"type\": \"scatter\", \"x\": [-1.6516666666666668, -0.7999999999999999, -0.3061111111111112, 0.021999999999999974, 0.3085714285714286, 0.755, 1.6012499999999996], \"y\": [2.2320420636266745, 3.1515045656874707, 3.8372014102181606, 3.679312936441177, 3.66939570704874, 3.2465464065336915, 2.6207960178538383], \"error_y\": {\"type\": \"data\", \"array\": [0.20399141919352085, 0.2601934750729377, 0.5465874954199383, 0.27742531679976895, 0.479598191779937, 0.2319815272773067, 0.2543544269306552], \"color\": \"rgb(0,170,80)\", \"visible\": true}, \"line\": {\"color\": \"rgb(0,100,80)\"}, \"mode\": \"lines+markers\", \"name\": \"Test Data\"}, {\"type\": \"scatter\", \"x\": [-1.6516666666666668, -0.7999999999999999, -0.3061111111111112, 0.021999999999999974, 0.3085714285714286, 0.755, 1.6012499999999996], \"y\": [3.6331164403023384, 3.941673819273811, 4.078134575087315, 3.9954870848708515, 4.050878081577772, 3.9480942529824308, 3.6563374941422113], \"error_y\": {\"type\": \"data\", \"array\": [0.015000503583952749, 0.01593340402470322, 0.016715474607555382, 0.012849238209166027, 0.019235553815918474, 0.014908224860794319, 0.012947490910748888], \"color\": \"rgb(0,100,246)\", \"visible\": true}, \"line\": {\"color\": \"rgb(0,176,246)\"}, \"mode\": \"lines+markers\", \"name\": \"Sim Data\"}, {\"type\": \"scatter\", \"x\": [-1.6516666666666668, -0.7999999999999999, -0.3061111111111112, 0.021999999999999974, 0.3085714285714286, 0.755, 1.6012499999999996], \"y\": [0.0, 0.10526315789473684, 0.05555555555555555, 0.3333333333333333, 0.5714285714285714, 0.6818181818181818, 0.9583333333333334], \"error_y\": {\"type\": \"data\", \"array\": [0.0, 0.0723351864143449, 0.05555555555555556, 0.0875376219064817, 0.13725270326150324, 0.10163945352271771, 0.041666666666666664], \"color\": \"rgb(0,170,80)\", \"visible\": true}, \"line\": {\"color\": \"rgb(0,100,80)\"}, \"mode\": \"lines+markers\", \"name\": \"Test Data\", \"xaxis\": \"x2\", \"yaxis\": \"y2\"}, {\"type\": \"scatter\", \"x\": [-1.6516666666666668, -0.7999999999999999, -0.3061111111111112, 0.021999999999999974, 0.3085714285714286, 0.755, 1.6012499999999996], \"y\": [0.16747172813547764, 0.3194103194103194, 0.43055878928987196, 0.49784167652997285, 0.5782160466158673, 0.6957489111910623, 0.8296766497678183], \"error_y\": {\"type\": \"data\", \"array\": [0.0028149019349785285, 0.0034452881193321183, 0.0037778241346949396, 0.0029500945782351797, 0.004268555267080403, 0.0031656619682129262, 0.0024536718533629313], \"color\": \"rgb(0,100,246)\", \"visible\": true}, \"line\": {\"color\": \"rgb(0,176,246)\"}, \"mode\": \"lines+markers\", \"name\": \"Sim Data\", \"xaxis\": \"x2\", \"yaxis\": \"y2\"}], {\"paper_bgcolor\": \"rgb(255,255,255)\", \"plot_bgcolor\": \"rgb(229,229,229)\", \"xaxis\": {\"gridcolor\": \"rgb(255,255,255)\", \"range\": [-2, 2], \"domain\": [0, 0.45], \"showgrid\": true, \"showline\": false, \"showticklabels\": true, \"tickcolor\": \"rgb(127,127,127)\", \"ticks\": \"outside\", \"title\": \"Net Value ($)\", \"zeroline\": false}, \"xaxis2\": {\"gridcolor\": \"rgb(255,255,255)\", \"range\": [-2, 2], \"domain\": [0.55, 1], \"showgrid\": true, \"showline\": false, \"showticklabels\": true, \"tickcolor\": \"rgb(127,127,127)\", \"ticks\": \"outside\", \"title\": \"Net Value ($)\", \"zeroline\": false}, \"yaxis1\": {\"gridcolor\": \"rgb(255,255,255)\", \"range\": [0], \"showgrid\": true, \"showline\": false, \"showticklabels\": true, \"tickcolor\": \"rgb(127,127,127)\", \"ticks\": \"outside\", \"title\": \"RT (s)\", \"anchor\": \"x1\", \"zeroline\": false}, \"yaxis2\": {\"gridcolor\": \"rgb(255,255,255)\", \"range\": [0], \"showgrid\": true, \"showline\": false, \"showticklabels\": true, \"tickcolor\": \"rgb(127,127,127)\", \"ticks\": \"outside\", \"title\": \"p (accept)\", \"anchor\": \"x2\", \"zeroline\": false}, \"annotations\": [{\"x\": 0.01, \"y\": 1.12, \"showarrow\": false, \"text\": \"PARAMETERS: v: 0.041, a: 0.192, \\u03b8: 0.28\", \"xref\": \"paper\", \"yref\": \"paper\"}, {\"x\": 0.01, \"y\": 1.08, \"showarrow\": false, \"text\": \"MLE: 705.87\", \"xref\": \"paper\", \"yref\": \"paper\"}, {\"x\": 0.01, \"y\": 1.2, \"showarrow\": false, \"text\": \"SUBJECT: 9\", \"font\": {\"family\": \"Arial, sans-serif\", \"size\": 22}, \"xref\": \"paper\", \"yref\": \"paper\"}]}, {\"showLink\": true, \"linkText\": \"Export to plot.ly\"})});</script>"
      ]
     },
     "metadata": {},
     "output_type": "display_data"
    },
    {
     "data": {
      "application/vnd.plotly.v1+json": {
       "data": [
        {
         "error_y": {
          "array": [
           0.07616604737317792,
           0.14438549468242168,
           0.14458000890355516,
           0.10787687796187027,
           0.07093739696586357,
           0.10126798438306985,
           0.16481247459750326
          ],
          "color": "rgb(0,170,80)",
          "type": "data",
          "visible": true
         },
         "line": {
          "color": "rgb(0,100,80)"
         },
         "mode": "lines+markers",
         "name": "Test Data",
         "type": "scatter",
         "x": [
          -1.7031249999999998,
          -0.7686956521739132,
          -0.3030434782608696,
          0.03931034482758616,
          0.30571428571428566,
          0.8077777777777778,
          1.543703703703704
         ],
         "y": [
          1.4046127560495743,
          1.5821645455308386,
          1.6670572126288032,
          1.6898470153256342,
          1.364798731411741,
          1.4487807321679107,
          1.5888184394258404
         ]
        },
        {
         "error_y": {
          "array": [
           0.004230748803513364,
           0.006528845624188225,
           0.009152976038021926,
           0.008616455410036795,
           0.011803162596634217,
           0.007214444086273315,
           0.0035110655506140668
          ],
          "color": "rgb(0,100,246)",
          "type": "data",
          "visible": true
         },
         "line": {
          "color": "rgb(0,176,246)"
         },
         "mode": "lines+markers",
         "name": "Sim Data",
         "type": "scatter",
         "x": [
          -1.7031249999999998,
          -0.7686956521739132,
          -0.3030434782608696,
          0.03931034482758616,
          0.30571428571428566,
          0.8077777777777778,
          1.543703703703704
         ],
         "y": [
          1.5483692499999948,
          2.1156106086956354,
          2.5462270531400915,
          2.6518952384240717,
          2.5450085048599282,
          2.0898504916939773,
          1.6117057037037006
         ]
        },
        {
         "error_y": {
          "array": [
           0,
           0.043478260869565216,
           0.07180198468215396,
           0.09443492370778726,
           0.12529400275814703,
           0.0762215933966706,
           0
          ],
          "color": "rgb(0,170,80)",
          "type": "data",
          "visible": true
         },
         "line": {
          "color": "rgb(0,100,80)"
         },
         "mode": "lines+markers",
         "name": "Test Data",
         "type": "scatter",
         "x": [
          -1.7031249999999998,
          -0.7686956521739132,
          -0.3030434782608696,
          0.03931034482758616,
          0.30571428571428566,
          0.8077777777777778,
          1.543703703703704
         ],
         "xaxis": "x2",
         "y": [
          0,
          0.043478260869565216,
          0.13043478260869565,
          0.4827586206896552,
          0.7142857142857143,
          0.8888888888888888,
          1
         ],
         "yaxis": "y2"
        },
        {
         "error_y": {
          "array": [
           0.0007768341590757457,
           0.001889119675171175,
           0.0029829336613219704,
           0.0029335675176136197,
           0.0038098065886396546,
           0.002013259825209609,
           0.000760144929286326
          ],
          "color": "rgb(0,100,246)",
          "type": "data",
          "visible": true
         },
         "line": {
          "color": "rgb(0,176,246)"
         },
         "mode": "lines+markers",
         "name": "Sim Data",
         "type": "scatter",
         "x": [
          -1.7031249999999998,
          -0.7686956521739132,
          -0.3030434782608696,
          0.03931034482758616,
          0.30571428571428566,
          0.8077777777777778,
          1.543703703703704
         ],
         "xaxis": "x2",
         "y": [
          0.00975,
          0.09021739130434783,
          0.2865474169821996,
          0.5278477953109354,
          0.7166237850200115,
          0.9207733762986833,
          0.9841481481481481
         ],
         "yaxis": "y2"
        }
       ],
       "layout": {
        "annotations": [
         {
          "showarrow": false,
          "text": "PARAMETERS: v: 0.113, a: 0.135, θ: 1.0",
          "x": 0.01,
          "xref": "paper",
          "y": 1.12,
          "yref": "paper"
         },
         {
          "showarrow": false,
          "text": "MLE: 598.15",
          "x": 0.01,
          "xref": "paper",
          "y": 1.08,
          "yref": "paper"
         },
         {
          "font": {
           "family": "Arial, sans-serif",
           "size": 22
          },
          "showarrow": false,
          "text": "SUBJECT: 10",
          "x": 0.01,
          "xref": "paper",
          "y": 1.2,
          "yref": "paper"
         }
        ],
        "paper_bgcolor": "rgb(255,255,255)",
        "plot_bgcolor": "rgb(229,229,229)",
        "xaxis": {
         "domain": [
          0,
          0.45
         ],
         "gridcolor": "rgb(255,255,255)",
         "range": [
          -2,
          2
         ],
         "showgrid": true,
         "showline": false,
         "showticklabels": true,
         "tickcolor": "rgb(127,127,127)",
         "ticks": "outside",
         "title": "Net Value ($)",
         "zeroline": false
        },
        "xaxis2": {
         "domain": [
          0.55,
          1
         ],
         "gridcolor": "rgb(255,255,255)",
         "range": [
          -2,
          2
         ],
         "showgrid": true,
         "showline": false,
         "showticklabels": true,
         "tickcolor": "rgb(127,127,127)",
         "ticks": "outside",
         "title": "Net Value ($)",
         "zeroline": false
        },
        "yaxis1": {
         "anchor": "x1",
         "gridcolor": "rgb(255,255,255)",
         "range": [
          0
         ],
         "showgrid": true,
         "showline": false,
         "showticklabels": true,
         "tickcolor": "rgb(127,127,127)",
         "ticks": "outside",
         "title": "RT (s)",
         "zeroline": false
        },
        "yaxis2": {
         "anchor": "x2",
         "gridcolor": "rgb(255,255,255)",
         "range": [
          0
         ],
         "showgrid": true,
         "showline": false,
         "showticklabels": true,
         "tickcolor": "rgb(127,127,127)",
         "ticks": "outside",
         "title": "p (accept)",
         "zeroline": false
        }
       }
      },
      "text/html": [
       "<div id=\"3567477d-8b31-4b10-91aa-b25000a0a436\" style=\"height: 525px; width: 100%;\" class=\"plotly-graph-div\"></div><script type=\"text/javascript\">require([\"plotly\"], function(Plotly) { window.PLOTLYENV=window.PLOTLYENV || {};window.PLOTLYENV.BASE_URL=\"https://plot.ly\";Plotly.newPlot(\"3567477d-8b31-4b10-91aa-b25000a0a436\", [{\"type\": \"scatter\", \"x\": [-1.7031249999999998, -0.7686956521739132, -0.3030434782608696, 0.03931034482758616, 0.30571428571428566, 0.8077777777777778, 1.543703703703704], \"y\": [1.4046127560495743, 1.5821645455308386, 1.6670572126288032, 1.6898470153256342, 1.364798731411741, 1.4487807321679107, 1.5888184394258404], \"error_y\": {\"type\": \"data\", \"array\": [0.07616604737317792, 0.14438549468242168, 0.14458000890355516, 0.10787687796187027, 0.07093739696586357, 0.10126798438306985, 0.16481247459750326], \"color\": \"rgb(0,170,80)\", \"visible\": true}, \"line\": {\"color\": \"rgb(0,100,80)\"}, \"mode\": \"lines+markers\", \"name\": \"Test Data\"}, {\"type\": \"scatter\", \"x\": [-1.7031249999999998, -0.7686956521739132, -0.3030434782608696, 0.03931034482758616, 0.30571428571428566, 0.8077777777777778, 1.543703703703704], \"y\": [1.5483692499999948, 2.1156106086956354, 2.5462270531400915, 2.6518952384240717, 2.5450085048599282, 2.0898504916939773, 1.6117057037037006], \"error_y\": {\"type\": \"data\", \"array\": [0.004230748803513364, 0.006528845624188225, 0.009152976038021926, 0.008616455410036795, 0.011803162596634217, 0.007214444086273315, 0.0035110655506140668], \"color\": \"rgb(0,100,246)\", \"visible\": true}, \"line\": {\"color\": \"rgb(0,176,246)\"}, \"mode\": \"lines+markers\", \"name\": \"Sim Data\"}, {\"type\": \"scatter\", \"x\": [-1.7031249999999998, -0.7686956521739132, -0.3030434782608696, 0.03931034482758616, 0.30571428571428566, 0.8077777777777778, 1.543703703703704], \"y\": [0.0, 0.043478260869565216, 0.13043478260869565, 0.4827586206896552, 0.7142857142857143, 0.8888888888888888, 1.0], \"error_y\": {\"type\": \"data\", \"array\": [0.0, 0.043478260869565216, 0.07180198468215396, 0.09443492370778726, 0.12529400275814703, 0.0762215933966706, 0.0], \"color\": \"rgb(0,170,80)\", \"visible\": true}, \"line\": {\"color\": \"rgb(0,100,80)\"}, \"mode\": \"lines+markers\", \"name\": \"Test Data\", \"xaxis\": \"x2\", \"yaxis\": \"y2\"}, {\"type\": \"scatter\", \"x\": [-1.7031249999999998, -0.7686956521739132, -0.3030434782608696, 0.03931034482758616, 0.30571428571428566, 0.8077777777777778, 1.543703703703704], \"y\": [0.00975, 0.09021739130434783, 0.2865474169821996, 0.5278477953109354, 0.7166237850200115, 0.9207733762986833, 0.9841481481481481], \"error_y\": {\"type\": \"data\", \"array\": [0.0007768341590757457, 0.001889119675171175, 0.0029829336613219704, 0.0029335675176136197, 0.0038098065886396546, 0.002013259825209609, 0.000760144929286326], \"color\": \"rgb(0,100,246)\", \"visible\": true}, \"line\": {\"color\": \"rgb(0,176,246)\"}, \"mode\": \"lines+markers\", \"name\": \"Sim Data\", \"xaxis\": \"x2\", \"yaxis\": \"y2\"}], {\"paper_bgcolor\": \"rgb(255,255,255)\", \"plot_bgcolor\": \"rgb(229,229,229)\", \"xaxis\": {\"gridcolor\": \"rgb(255,255,255)\", \"range\": [-2, 2], \"domain\": [0, 0.45], \"showgrid\": true, \"showline\": false, \"showticklabels\": true, \"tickcolor\": \"rgb(127,127,127)\", \"ticks\": \"outside\", \"title\": \"Net Value ($)\", \"zeroline\": false}, \"xaxis2\": {\"gridcolor\": \"rgb(255,255,255)\", \"range\": [-2, 2], \"domain\": [0.55, 1], \"showgrid\": true, \"showline\": false, \"showticklabels\": true, \"tickcolor\": \"rgb(127,127,127)\", \"ticks\": \"outside\", \"title\": \"Net Value ($)\", \"zeroline\": false}, \"yaxis1\": {\"gridcolor\": \"rgb(255,255,255)\", \"range\": [0], \"showgrid\": true, \"showline\": false, \"showticklabels\": true, \"tickcolor\": \"rgb(127,127,127)\", \"ticks\": \"outside\", \"title\": \"RT (s)\", \"anchor\": \"x1\", \"zeroline\": false}, \"yaxis2\": {\"gridcolor\": \"rgb(255,255,255)\", \"range\": [0], \"showgrid\": true, \"showline\": false, \"showticklabels\": true, \"tickcolor\": \"rgb(127,127,127)\", \"ticks\": \"outside\", \"title\": \"p (accept)\", \"anchor\": \"x2\", \"zeroline\": false}, \"annotations\": [{\"x\": 0.01, \"y\": 1.12, \"showarrow\": false, \"text\": \"PARAMETERS: v: 0.113, a: 0.135, \\u03b8: 1.0\", \"xref\": \"paper\", \"yref\": \"paper\"}, {\"x\": 0.01, \"y\": 1.08, \"showarrow\": false, \"text\": \"MLE: 598.15\", \"xref\": \"paper\", \"yref\": \"paper\"}, {\"x\": 0.01, \"y\": 1.2, \"showarrow\": false, \"text\": \"SUBJECT: 10\", \"font\": {\"family\": \"Arial, sans-serif\", \"size\": 22}, \"xref\": \"paper\", \"yref\": \"paper\"}]}, {\"showLink\": true, \"linkText\": \"Export to plot.ly\"})});</script>"
      ],
      "text/vnd.plotly.v1+html": [
       "<div id=\"3567477d-8b31-4b10-91aa-b25000a0a436\" style=\"height: 525px; width: 100%;\" class=\"plotly-graph-div\"></div><script type=\"text/javascript\">require([\"plotly\"], function(Plotly) { window.PLOTLYENV=window.PLOTLYENV || {};window.PLOTLYENV.BASE_URL=\"https://plot.ly\";Plotly.newPlot(\"3567477d-8b31-4b10-91aa-b25000a0a436\", [{\"type\": \"scatter\", \"x\": [-1.7031249999999998, -0.7686956521739132, -0.3030434782608696, 0.03931034482758616, 0.30571428571428566, 0.8077777777777778, 1.543703703703704], \"y\": [1.4046127560495743, 1.5821645455308386, 1.6670572126288032, 1.6898470153256342, 1.364798731411741, 1.4487807321679107, 1.5888184394258404], \"error_y\": {\"type\": \"data\", \"array\": [0.07616604737317792, 0.14438549468242168, 0.14458000890355516, 0.10787687796187027, 0.07093739696586357, 0.10126798438306985, 0.16481247459750326], \"color\": \"rgb(0,170,80)\", \"visible\": true}, \"line\": {\"color\": \"rgb(0,100,80)\"}, \"mode\": \"lines+markers\", \"name\": \"Test Data\"}, {\"type\": \"scatter\", \"x\": [-1.7031249999999998, -0.7686956521739132, -0.3030434782608696, 0.03931034482758616, 0.30571428571428566, 0.8077777777777778, 1.543703703703704], \"y\": [1.5483692499999948, 2.1156106086956354, 2.5462270531400915, 2.6518952384240717, 2.5450085048599282, 2.0898504916939773, 1.6117057037037006], \"error_y\": {\"type\": \"data\", \"array\": [0.004230748803513364, 0.006528845624188225, 0.009152976038021926, 0.008616455410036795, 0.011803162596634217, 0.007214444086273315, 0.0035110655506140668], \"color\": \"rgb(0,100,246)\", \"visible\": true}, \"line\": {\"color\": \"rgb(0,176,246)\"}, \"mode\": \"lines+markers\", \"name\": \"Sim Data\"}, {\"type\": \"scatter\", \"x\": [-1.7031249999999998, -0.7686956521739132, -0.3030434782608696, 0.03931034482758616, 0.30571428571428566, 0.8077777777777778, 1.543703703703704], \"y\": [0.0, 0.043478260869565216, 0.13043478260869565, 0.4827586206896552, 0.7142857142857143, 0.8888888888888888, 1.0], \"error_y\": {\"type\": \"data\", \"array\": [0.0, 0.043478260869565216, 0.07180198468215396, 0.09443492370778726, 0.12529400275814703, 0.0762215933966706, 0.0], \"color\": \"rgb(0,170,80)\", \"visible\": true}, \"line\": {\"color\": \"rgb(0,100,80)\"}, \"mode\": \"lines+markers\", \"name\": \"Test Data\", \"xaxis\": \"x2\", \"yaxis\": \"y2\"}, {\"type\": \"scatter\", \"x\": [-1.7031249999999998, -0.7686956521739132, -0.3030434782608696, 0.03931034482758616, 0.30571428571428566, 0.8077777777777778, 1.543703703703704], \"y\": [0.00975, 0.09021739130434783, 0.2865474169821996, 0.5278477953109354, 0.7166237850200115, 0.9207733762986833, 0.9841481481481481], \"error_y\": {\"type\": \"data\", \"array\": [0.0007768341590757457, 0.001889119675171175, 0.0029829336613219704, 0.0029335675176136197, 0.0038098065886396546, 0.002013259825209609, 0.000760144929286326], \"color\": \"rgb(0,100,246)\", \"visible\": true}, \"line\": {\"color\": \"rgb(0,176,246)\"}, \"mode\": \"lines+markers\", \"name\": \"Sim Data\", \"xaxis\": \"x2\", \"yaxis\": \"y2\"}], {\"paper_bgcolor\": \"rgb(255,255,255)\", \"plot_bgcolor\": \"rgb(229,229,229)\", \"xaxis\": {\"gridcolor\": \"rgb(255,255,255)\", \"range\": [-2, 2], \"domain\": [0, 0.45], \"showgrid\": true, \"showline\": false, \"showticklabels\": true, \"tickcolor\": \"rgb(127,127,127)\", \"ticks\": \"outside\", \"title\": \"Net Value ($)\", \"zeroline\": false}, \"xaxis2\": {\"gridcolor\": \"rgb(255,255,255)\", \"range\": [-2, 2], \"domain\": [0.55, 1], \"showgrid\": true, \"showline\": false, \"showticklabels\": true, \"tickcolor\": \"rgb(127,127,127)\", \"ticks\": \"outside\", \"title\": \"Net Value ($)\", \"zeroline\": false}, \"yaxis1\": {\"gridcolor\": \"rgb(255,255,255)\", \"range\": [0], \"showgrid\": true, \"showline\": false, \"showticklabels\": true, \"tickcolor\": \"rgb(127,127,127)\", \"ticks\": \"outside\", \"title\": \"RT (s)\", \"anchor\": \"x1\", \"zeroline\": false}, \"yaxis2\": {\"gridcolor\": \"rgb(255,255,255)\", \"range\": [0], \"showgrid\": true, \"showline\": false, \"showticklabels\": true, \"tickcolor\": \"rgb(127,127,127)\", \"ticks\": \"outside\", \"title\": \"p (accept)\", \"anchor\": \"x2\", \"zeroline\": false}, \"annotations\": [{\"x\": 0.01, \"y\": 1.12, \"showarrow\": false, \"text\": \"PARAMETERS: v: 0.113, a: 0.135, \\u03b8: 1.0\", \"xref\": \"paper\", \"yref\": \"paper\"}, {\"x\": 0.01, \"y\": 1.08, \"showarrow\": false, \"text\": \"MLE: 598.15\", \"xref\": \"paper\", \"yref\": \"paper\"}, {\"x\": 0.01, \"y\": 1.2, \"showarrow\": false, \"text\": \"SUBJECT: 10\", \"font\": {\"family\": \"Arial, sans-serif\", \"size\": 22}, \"xref\": \"paper\", \"yref\": \"paper\"}]}, {\"showLink\": true, \"linkText\": \"Export to plot.ly\"})});</script>"
      ]
     },
     "metadata": {},
     "output_type": "display_data"
    },
    {
     "data": {
      "application/vnd.plotly.v1+json": {
       "data": [
        {
         "error_y": {
          "array": [
           0.16542461317500906,
           0.14250108799010788,
           0.26415835088107037,
           0.21216393868880468,
           0.19879899545356386,
           0.5476666366092845,
           0.3157779737433651
          ],
          "color": "rgb(0,170,80)",
          "type": "data",
          "visible": true
         },
         "line": {
          "color": "rgb(0,100,80)"
         },
         "mode": "lines+markers",
         "name": "Test Data",
         "type": "scatter",
         "x": [
          -1.597931034482759,
          -0.8205,
          -0.33473684210526317,
          0.024615384615384595,
          0.325,
          0.7692857142857144,
          1.6470588235294117
         ],
         "y": [
          1.7674789144306298,
          1.8286884014582026,
          2.3832794208245005,
          2.3723446789976705,
          1.9930844648079074,
          1.8234070319220872,
          1.733123961601556
         ]
        },
        {
         "error_y": {
          "array": [
           0.005766559030445711,
           0.0090292232092672,
           0.010365709863876443,
           0.0087211585253158,
           0.009233188581613235,
           0.011059464978887813,
           0.007670121053196621
          ],
          "color": "rgb(0,100,246)",
          "type": "data",
          "visible": true
         },
         "line": {
          "color": "rgb(0,176,246)"
         },
         "mode": "lines+markers",
         "name": "Sim Data",
         "type": "scatter",
         "x": [
          -1.597931034482759,
          -0.8205,
          -0.33473684210526317,
          0.024615384615384595,
          0.325,
          0.7692857142857144,
          1.6470588235294117
         ],
         "y": [
          2.069426650113792,
          2.4431858836476463,
          2.5879369863013966,
          2.543918777427059,
          2.5994350600600593,
          2.4896695018226027,
          2.094765135023818
         ]
        },
        {
         "error_y": {
          "array": [
           0.034482758620689655,
           0.08191780219091253,
           0.085947008518708,
           0.10000000000000002,
           0.04166666666666667,
           0.07142857142857144,
           0
          ],
          "color": "rgb(0,170,80)",
          "type": "data",
          "visible": true
         },
         "line": {
          "color": "rgb(0,100,80)"
         },
         "mode": "lines+markers",
         "name": "Test Data",
         "type": "scatter",
         "x": [
          -1.597931034482759,
          -0.8205,
          -0.33473684210526317,
          0.024615384615384595,
          0.325,
          0.7692857142857144,
          1.6470588235294117
         ],
         "xaxis": "x2",
         "y": [
          0.034482758620689655,
          0.15,
          0.15789473684210525,
          0.5,
          0.9583333333333334,
          0.9285714285714286,
          1
         ],
         "yaxis": "y2"
        },
        {
         "error_y": {
          "array": [
           0.0016419966065225938,
           0.003061043223624373,
           0.0034745886940503803,
           0.0031003285061862117,
           0.003151405678693946,
           0.00389554177746842,
           0.0023452076156832793
          ],
          "color": "rgb(0,100,246)",
          "type": "data",
          "visible": true
         },
         "line": {
          "color": "rgb(0,176,246)"
         },
         "mode": "lines+markers",
         "name": "Sim Data",
         "type": "scatter",
         "x": [
          -1.597931034482759,
          -0.8205,
          -0.33473684210526317,
          0.024615384615384595,
          0.325,
          0.7692857142857144,
          1.6470588235294117
         ],
         "xaxis": "x2",
         "y": [
          0.08548865438995792,
          0.24961232554649593,
          0.35553213909378295,
          0.5175533143429055,
          0.6090674007340674,
          0.6941605317704238,
          0.8956286403482968
         ],
         "yaxis": "y2"
        }
       ],
       "layout": {
        "annotations": [
         {
          "showarrow": false,
          "text": "PARAMETERS: v: 0.077, a: 0.135, θ: 0.46",
          "x": 0.01,
          "xref": "paper",
          "y": 1.12,
          "yref": "paper"
         },
         {
          "showarrow": false,
          "text": "MLE: 717.49",
          "x": 0.01,
          "xref": "paper",
          "y": 1.08,
          "yref": "paper"
         },
         {
          "font": {
           "family": "Arial, sans-serif",
           "size": 22
          },
          "showarrow": false,
          "text": "SUBJECT: 11",
          "x": 0.01,
          "xref": "paper",
          "y": 1.2,
          "yref": "paper"
         }
        ],
        "paper_bgcolor": "rgb(255,255,255)",
        "plot_bgcolor": "rgb(229,229,229)",
        "xaxis": {
         "domain": [
          0,
          0.45
         ],
         "gridcolor": "rgb(255,255,255)",
         "range": [
          -2,
          2
         ],
         "showgrid": true,
         "showline": false,
         "showticklabels": true,
         "tickcolor": "rgb(127,127,127)",
         "ticks": "outside",
         "title": "Net Value ($)",
         "zeroline": false
        },
        "xaxis2": {
         "domain": [
          0.55,
          1
         ],
         "gridcolor": "rgb(255,255,255)",
         "range": [
          -2,
          2
         ],
         "showgrid": true,
         "showline": false,
         "showticklabels": true,
         "tickcolor": "rgb(127,127,127)",
         "ticks": "outside",
         "title": "Net Value ($)",
         "zeroline": false
        },
        "yaxis1": {
         "anchor": "x1",
         "gridcolor": "rgb(255,255,255)",
         "range": [
          0
         ],
         "showgrid": true,
         "showline": false,
         "showticklabels": true,
         "tickcolor": "rgb(127,127,127)",
         "ticks": "outside",
         "title": "RT (s)",
         "zeroline": false
        },
        "yaxis2": {
         "anchor": "x2",
         "gridcolor": "rgb(255,255,255)",
         "range": [
          0
         ],
         "showgrid": true,
         "showline": false,
         "showticklabels": true,
         "tickcolor": "rgb(127,127,127)",
         "ticks": "outside",
         "title": "p (accept)",
         "zeroline": false
        }
       }
      },
      "text/html": [
       "<div id=\"85ae5fdc-b2fa-4f88-9adf-cfcba7d7601e\" style=\"height: 525px; width: 100%;\" class=\"plotly-graph-div\"></div><script type=\"text/javascript\">require([\"plotly\"], function(Plotly) { window.PLOTLYENV=window.PLOTLYENV || {};window.PLOTLYENV.BASE_URL=\"https://plot.ly\";Plotly.newPlot(\"85ae5fdc-b2fa-4f88-9adf-cfcba7d7601e\", [{\"type\": \"scatter\", \"x\": [-1.597931034482759, -0.8205, -0.33473684210526317, 0.024615384615384595, 0.325, 0.7692857142857144, 1.6470588235294117], \"y\": [1.7674789144306298, 1.8286884014582026, 2.3832794208245005, 2.3723446789976705, 1.9930844648079074, 1.8234070319220872, 1.733123961601556], \"error_y\": {\"type\": \"data\", \"array\": [0.16542461317500906, 0.14250108799010788, 0.26415835088107037, 0.21216393868880468, 0.19879899545356386, 0.5476666366092845, 0.3157779737433651], \"color\": \"rgb(0,170,80)\", \"visible\": true}, \"line\": {\"color\": \"rgb(0,100,80)\"}, \"mode\": \"lines+markers\", \"name\": \"Test Data\"}, {\"type\": \"scatter\", \"x\": [-1.597931034482759, -0.8205, -0.33473684210526317, 0.024615384615384595, 0.325, 0.7692857142857144, 1.6470588235294117], \"y\": [2.069426650113792, 2.4431858836476463, 2.5879369863013966, 2.543918777427059, 2.5994350600600593, 2.4896695018226027, 2.094765135023818], \"error_y\": {\"type\": \"data\", \"array\": [0.005766559030445711, 0.0090292232092672, 0.010365709863876443, 0.0087211585253158, 0.009233188581613235, 0.011059464978887813, 0.007670121053196621], \"color\": \"rgb(0,100,246)\", \"visible\": true}, \"line\": {\"color\": \"rgb(0,176,246)\"}, \"mode\": \"lines+markers\", \"name\": \"Sim Data\"}, {\"type\": \"scatter\", \"x\": [-1.597931034482759, -0.8205, -0.33473684210526317, 0.024615384615384595, 0.325, 0.7692857142857144, 1.6470588235294117], \"y\": [0.034482758620689655, 0.15, 0.15789473684210525, 0.5, 0.9583333333333334, 0.9285714285714286, 1.0], \"error_y\": {\"type\": \"data\", \"array\": [0.034482758620689655, 0.08191780219091253, 0.085947008518708, 0.10000000000000002, 0.04166666666666667, 0.07142857142857144, 0.0], \"color\": \"rgb(0,170,80)\", \"visible\": true}, \"line\": {\"color\": \"rgb(0,100,80)\"}, \"mode\": \"lines+markers\", \"name\": \"Test Data\", \"xaxis\": \"x2\", \"yaxis\": \"y2\"}, {\"type\": \"scatter\", \"x\": [-1.597931034482759, -0.8205, -0.33473684210526317, 0.024615384615384595, 0.325, 0.7692857142857144, 1.6470588235294117], \"y\": [0.08548865438995792, 0.24961232554649593, 0.35553213909378295, 0.5175533143429055, 0.6090674007340674, 0.6941605317704238, 0.8956286403482968], \"error_y\": {\"type\": \"data\", \"array\": [0.0016419966065225938, 0.003061043223624373, 0.0034745886940503803, 0.0031003285061862117, 0.003151405678693946, 0.00389554177746842, 0.0023452076156832793], \"color\": \"rgb(0,100,246)\", \"visible\": true}, \"line\": {\"color\": \"rgb(0,176,246)\"}, \"mode\": \"lines+markers\", \"name\": \"Sim Data\", \"xaxis\": \"x2\", \"yaxis\": \"y2\"}], {\"paper_bgcolor\": \"rgb(255,255,255)\", \"plot_bgcolor\": \"rgb(229,229,229)\", \"xaxis\": {\"gridcolor\": \"rgb(255,255,255)\", \"range\": [-2, 2], \"domain\": [0, 0.45], \"showgrid\": true, \"showline\": false, \"showticklabels\": true, \"tickcolor\": \"rgb(127,127,127)\", \"ticks\": \"outside\", \"title\": \"Net Value ($)\", \"zeroline\": false}, \"xaxis2\": {\"gridcolor\": \"rgb(255,255,255)\", \"range\": [-2, 2], \"domain\": [0.55, 1], \"showgrid\": true, \"showline\": false, \"showticklabels\": true, \"tickcolor\": \"rgb(127,127,127)\", \"ticks\": \"outside\", \"title\": \"Net Value ($)\", \"zeroline\": false}, \"yaxis1\": {\"gridcolor\": \"rgb(255,255,255)\", \"range\": [0], \"showgrid\": true, \"showline\": false, \"showticklabels\": true, \"tickcolor\": \"rgb(127,127,127)\", \"ticks\": \"outside\", \"title\": \"RT (s)\", \"anchor\": \"x1\", \"zeroline\": false}, \"yaxis2\": {\"gridcolor\": \"rgb(255,255,255)\", \"range\": [0], \"showgrid\": true, \"showline\": false, \"showticklabels\": true, \"tickcolor\": \"rgb(127,127,127)\", \"ticks\": \"outside\", \"title\": \"p (accept)\", \"anchor\": \"x2\", \"zeroline\": false}, \"annotations\": [{\"x\": 0.01, \"y\": 1.12, \"showarrow\": false, \"text\": \"PARAMETERS: v: 0.077, a: 0.135, \\u03b8: 0.46\", \"xref\": \"paper\", \"yref\": \"paper\"}, {\"x\": 0.01, \"y\": 1.08, \"showarrow\": false, \"text\": \"MLE: 717.49\", \"xref\": \"paper\", \"yref\": \"paper\"}, {\"x\": 0.01, \"y\": 1.2, \"showarrow\": false, \"text\": \"SUBJECT: 11\", \"font\": {\"family\": \"Arial, sans-serif\", \"size\": 22}, \"xref\": \"paper\", \"yref\": \"paper\"}]}, {\"showLink\": true, \"linkText\": \"Export to plot.ly\"})});</script>"
      ],
      "text/vnd.plotly.v1+html": [
       "<div id=\"85ae5fdc-b2fa-4f88-9adf-cfcba7d7601e\" style=\"height: 525px; width: 100%;\" class=\"plotly-graph-div\"></div><script type=\"text/javascript\">require([\"plotly\"], function(Plotly) { window.PLOTLYENV=window.PLOTLYENV || {};window.PLOTLYENV.BASE_URL=\"https://plot.ly\";Plotly.newPlot(\"85ae5fdc-b2fa-4f88-9adf-cfcba7d7601e\", [{\"type\": \"scatter\", \"x\": [-1.597931034482759, -0.8205, -0.33473684210526317, 0.024615384615384595, 0.325, 0.7692857142857144, 1.6470588235294117], \"y\": [1.7674789144306298, 1.8286884014582026, 2.3832794208245005, 2.3723446789976705, 1.9930844648079074, 1.8234070319220872, 1.733123961601556], \"error_y\": {\"type\": \"data\", \"array\": [0.16542461317500906, 0.14250108799010788, 0.26415835088107037, 0.21216393868880468, 0.19879899545356386, 0.5476666366092845, 0.3157779737433651], \"color\": \"rgb(0,170,80)\", \"visible\": true}, \"line\": {\"color\": \"rgb(0,100,80)\"}, \"mode\": \"lines+markers\", \"name\": \"Test Data\"}, {\"type\": \"scatter\", \"x\": [-1.597931034482759, -0.8205, -0.33473684210526317, 0.024615384615384595, 0.325, 0.7692857142857144, 1.6470588235294117], \"y\": [2.069426650113792, 2.4431858836476463, 2.5879369863013966, 2.543918777427059, 2.5994350600600593, 2.4896695018226027, 2.094765135023818], \"error_y\": {\"type\": \"data\", \"array\": [0.005766559030445711, 0.0090292232092672, 0.010365709863876443, 0.0087211585253158, 0.009233188581613235, 0.011059464978887813, 0.007670121053196621], \"color\": \"rgb(0,100,246)\", \"visible\": true}, \"line\": {\"color\": \"rgb(0,176,246)\"}, \"mode\": \"lines+markers\", \"name\": \"Sim Data\"}, {\"type\": \"scatter\", \"x\": [-1.597931034482759, -0.8205, -0.33473684210526317, 0.024615384615384595, 0.325, 0.7692857142857144, 1.6470588235294117], \"y\": [0.034482758620689655, 0.15, 0.15789473684210525, 0.5, 0.9583333333333334, 0.9285714285714286, 1.0], \"error_y\": {\"type\": \"data\", \"array\": [0.034482758620689655, 0.08191780219091253, 0.085947008518708, 0.10000000000000002, 0.04166666666666667, 0.07142857142857144, 0.0], \"color\": \"rgb(0,170,80)\", \"visible\": true}, \"line\": {\"color\": \"rgb(0,100,80)\"}, \"mode\": \"lines+markers\", \"name\": \"Test Data\", \"xaxis\": \"x2\", \"yaxis\": \"y2\"}, {\"type\": \"scatter\", \"x\": [-1.597931034482759, -0.8205, -0.33473684210526317, 0.024615384615384595, 0.325, 0.7692857142857144, 1.6470588235294117], \"y\": [0.08548865438995792, 0.24961232554649593, 0.35553213909378295, 0.5175533143429055, 0.6090674007340674, 0.6941605317704238, 0.8956286403482968], \"error_y\": {\"type\": \"data\", \"array\": [0.0016419966065225938, 0.003061043223624373, 0.0034745886940503803, 0.0031003285061862117, 0.003151405678693946, 0.00389554177746842, 0.0023452076156832793], \"color\": \"rgb(0,100,246)\", \"visible\": true}, \"line\": {\"color\": \"rgb(0,176,246)\"}, \"mode\": \"lines+markers\", \"name\": \"Sim Data\", \"xaxis\": \"x2\", \"yaxis\": \"y2\"}], {\"paper_bgcolor\": \"rgb(255,255,255)\", \"plot_bgcolor\": \"rgb(229,229,229)\", \"xaxis\": {\"gridcolor\": \"rgb(255,255,255)\", \"range\": [-2, 2], \"domain\": [0, 0.45], \"showgrid\": true, \"showline\": false, \"showticklabels\": true, \"tickcolor\": \"rgb(127,127,127)\", \"ticks\": \"outside\", \"title\": \"Net Value ($)\", \"zeroline\": false}, \"xaxis2\": {\"gridcolor\": \"rgb(255,255,255)\", \"range\": [-2, 2], \"domain\": [0.55, 1], \"showgrid\": true, \"showline\": false, \"showticklabels\": true, \"tickcolor\": \"rgb(127,127,127)\", \"ticks\": \"outside\", \"title\": \"Net Value ($)\", \"zeroline\": false}, \"yaxis1\": {\"gridcolor\": \"rgb(255,255,255)\", \"range\": [0], \"showgrid\": true, \"showline\": false, \"showticklabels\": true, \"tickcolor\": \"rgb(127,127,127)\", \"ticks\": \"outside\", \"title\": \"RT (s)\", \"anchor\": \"x1\", \"zeroline\": false}, \"yaxis2\": {\"gridcolor\": \"rgb(255,255,255)\", \"range\": [0], \"showgrid\": true, \"showline\": false, \"showticklabels\": true, \"tickcolor\": \"rgb(127,127,127)\", \"ticks\": \"outside\", \"title\": \"p (accept)\", \"anchor\": \"x2\", \"zeroline\": false}, \"annotations\": [{\"x\": 0.01, \"y\": 1.12, \"showarrow\": false, \"text\": \"PARAMETERS: v: 0.077, a: 0.135, \\u03b8: 0.46\", \"xref\": \"paper\", \"yref\": \"paper\"}, {\"x\": 0.01, \"y\": 1.08, \"showarrow\": false, \"text\": \"MLE: 717.49\", \"xref\": \"paper\", \"yref\": \"paper\"}, {\"x\": 0.01, \"y\": 1.2, \"showarrow\": false, \"text\": \"SUBJECT: 11\", \"font\": {\"family\": \"Arial, sans-serif\", \"size\": 22}, \"xref\": \"paper\", \"yref\": \"paper\"}]}, {\"showLink\": true, \"linkText\": \"Export to plot.ly\"})});</script>"
      ]
     },
     "metadata": {},
     "output_type": "display_data"
    },
    {
     "data": {
      "application/vnd.plotly.v1+json": {
       "data": [
        {
         "error_y": {
          "array": [
           0.10609880159574052,
           0.1488715426815066,
           0.25316036154916904,
           0.22382898810538016,
           0.1427101860349365,
           0.11909295856362125,
           0.15002263903662438
          ],
          "color": "rgb(0,170,80)",
          "type": "data",
          "visible": true
         },
         "line": {
          "color": "rgb(0,100,80)"
         },
         "mode": "lines+markers",
         "name": "Test Data",
         "type": "scatter",
         "x": [
          -1.9057142857142857,
          -0.7792857142857142,
          -0.32714285714285724,
          0.03241379310344826,
          0.3111111111111111,
          0.8163157894736842,
          1.6485714285714284
         ],
         "y": [
          1.4269307483648717,
          1.3549157306697457,
          2.125731202156333,
          2.0357956772866848,
          1.6631095707739905,
          1.3957581082833805,
          1.5227779725454245
         ]
        },
        {
         "error_y": {
          "array": [
           0.0039034593132975266,
           0.008385272227920959,
           0.007571336548319229,
           0.0072169379782604775,
           0.009235815330965815,
           0.00742859150636651,
           0.0058744717643284495
          ],
          "color": "rgb(0,100,246)",
          "type": "data",
          "visible": true
         },
         "line": {
          "color": "rgb(0,176,246)"
         },
         "mode": "lines+markers",
         "name": "Sim Data",
         "type": "scatter",
         "x": [
          -1.9057142857142857,
          -0.7792857142857142,
          -0.32714285714285724,
          0.03241379310344826,
          0.3111111111111111,
          0.8163157894736842,
          1.6485714285714284
         ],
         "y": [
          1.6758631785714184,
          1.9305387583053446,
          2.3430523249580086,
          2.13111569506727,
          2.280544332647728,
          2.12846238879821,
          1.757115857142852
         ]
        },
        {
         "error_y": {
          "array": [
           0.04956347617776506,
           0.09705231721239392,
           0.08987898137227082,
           0.08742975048915688,
           0.05555555555555555,
           0.05263157894736841,
           0
          ],
          "color": "rgb(0,170,80)",
          "type": "data",
          "visible": true
         },
         "line": {
          "color": "rgb(0,100,80)"
         },
         "mode": "lines+markers",
         "name": "Test Data",
         "type": "scatter",
         "x": [
          -1.9057142857142857,
          -0.7792857142857142,
          -0.32714285714285724,
          0.03241379310344826,
          0.3111111111111111,
          0.8163157894736842,
          1.6485714285714284
         ],
         "xaxis": "x2",
         "y": [
          0.07142857142857142,
          0.14285714285714285,
          0.32142857142857145,
          0.6896551724137931,
          0.9444444444444444,
          0.9473684210526315,
          1
         ],
         "yaxis": "y2"
        },
        {
         "error_y": {
          "array": [
           0.0012261739805428935,
           0.00342974269483238,
           0.0027830665089023385,
           0.0029281434284994224,
           0.003511231539381376,
           0.0031287850200980355,
           0.0018219581691244248
          ],
          "color": "rgb(0,100,246)",
          "type": "data",
          "visible": true
         },
         "line": {
          "color": "rgb(0,176,246)"
         },
         "mode": "lines+markers",
         "name": "Sim Data",
         "type": "scatter",
         "x": [
          -1.9057142857142857,
          -0.7792857142857142,
          -0.32714285714285724,
          0.03241379310344826,
          0.3111111111111111,
          0.8163157894736842,
          1.6485714285714284
         ],
         "xaxis": "x2",
         "y": [
          0.04403571428571429,
          0.2078302493391441,
          0.3175238571785982,
          0.4619523973784063,
          0.6680193451553728,
          0.7530662736221508,
          0.9511428571428572
         ],
         "yaxis": "y2"
        }
       ],
       "layout": {
        "annotations": [
         {
          "showarrow": false,
          "text": "PARAMETERS: v: 0.149, a: 0.135, θ: 0.1",
          "x": 0.01,
          "xref": "paper",
          "y": 1.12,
          "yref": "paper"
         },
         {
          "showarrow": false,
          "text": "MLE: 623.61",
          "x": 0.01,
          "xref": "paper",
          "y": 1.08,
          "yref": "paper"
         },
         {
          "font": {
           "family": "Arial, sans-serif",
           "size": 22
          },
          "showarrow": false,
          "text": "SUBJECT: 12",
          "x": 0.01,
          "xref": "paper",
          "y": 1.2,
          "yref": "paper"
         }
        ],
        "paper_bgcolor": "rgb(255,255,255)",
        "plot_bgcolor": "rgb(229,229,229)",
        "xaxis": {
         "domain": [
          0,
          0.45
         ],
         "gridcolor": "rgb(255,255,255)",
         "range": [
          -2,
          2
         ],
         "showgrid": true,
         "showline": false,
         "showticklabels": true,
         "tickcolor": "rgb(127,127,127)",
         "ticks": "outside",
         "title": "Net Value ($)",
         "zeroline": false
        },
        "xaxis2": {
         "domain": [
          0.55,
          1
         ],
         "gridcolor": "rgb(255,255,255)",
         "range": [
          -2,
          2
         ],
         "showgrid": true,
         "showline": false,
         "showticklabels": true,
         "tickcolor": "rgb(127,127,127)",
         "ticks": "outside",
         "title": "Net Value ($)",
         "zeroline": false
        },
        "yaxis1": {
         "anchor": "x1",
         "gridcolor": "rgb(255,255,255)",
         "range": [
          0
         ],
         "showgrid": true,
         "showline": false,
         "showticklabels": true,
         "tickcolor": "rgb(127,127,127)",
         "ticks": "outside",
         "title": "RT (s)",
         "zeroline": false
        },
        "yaxis2": {
         "anchor": "x2",
         "gridcolor": "rgb(255,255,255)",
         "range": [
          0
         ],
         "showgrid": true,
         "showline": false,
         "showticklabels": true,
         "tickcolor": "rgb(127,127,127)",
         "ticks": "outside",
         "title": "p (accept)",
         "zeroline": false
        }
       }
      },
      "text/html": [
       "<div id=\"a597e4a4-f165-42c9-895c-6d26e409997f\" style=\"height: 525px; width: 100%;\" class=\"plotly-graph-div\"></div><script type=\"text/javascript\">require([\"plotly\"], function(Plotly) { window.PLOTLYENV=window.PLOTLYENV || {};window.PLOTLYENV.BASE_URL=\"https://plot.ly\";Plotly.newPlot(\"a597e4a4-f165-42c9-895c-6d26e409997f\", [{\"type\": \"scatter\", \"x\": [-1.9057142857142857, -0.7792857142857142, -0.32714285714285724, 0.03241379310344826, 0.3111111111111111, 0.8163157894736842, 1.6485714285714284], \"y\": [1.4269307483648717, 1.3549157306697457, 2.125731202156333, 2.0357956772866848, 1.6631095707739905, 1.3957581082833805, 1.5227779725454245], \"error_y\": {\"type\": \"data\", \"array\": [0.10609880159574052, 0.1488715426815066, 0.25316036154916904, 0.22382898810538016, 0.1427101860349365, 0.11909295856362125, 0.15002263903662438], \"color\": \"rgb(0,170,80)\", \"visible\": true}, \"line\": {\"color\": \"rgb(0,100,80)\"}, \"mode\": \"lines+markers\", \"name\": \"Test Data\"}, {\"type\": \"scatter\", \"x\": [-1.9057142857142857, -0.7792857142857142, -0.32714285714285724, 0.03241379310344826, 0.3111111111111111, 0.8163157894736842, 1.6485714285714284], \"y\": [1.6758631785714184, 1.9305387583053446, 2.3430523249580086, 2.13111569506727, 2.280544332647728, 2.12846238879821, 1.757115857142852], \"error_y\": {\"type\": \"data\", \"array\": [0.0039034593132975266, 0.008385272227920959, 0.007571336548319229, 0.0072169379782604775, 0.009235815330965815, 0.00742859150636651, 0.0058744717643284495], \"color\": \"rgb(0,100,246)\", \"visible\": true}, \"line\": {\"color\": \"rgb(0,176,246)\"}, \"mode\": \"lines+markers\", \"name\": \"Sim Data\"}, {\"type\": \"scatter\", \"x\": [-1.9057142857142857, -0.7792857142857142, -0.32714285714285724, 0.03241379310344826, 0.3111111111111111, 0.8163157894736842, 1.6485714285714284], \"y\": [0.07142857142857142, 0.14285714285714285, 0.32142857142857145, 0.6896551724137931, 0.9444444444444444, 0.9473684210526315, 1.0], \"error_y\": {\"type\": \"data\", \"array\": [0.04956347617776506, 0.09705231721239392, 0.08987898137227082, 0.08742975048915688, 0.05555555555555555, 0.05263157894736841, 0.0], \"color\": \"rgb(0,170,80)\", \"visible\": true}, \"line\": {\"color\": \"rgb(0,100,80)\"}, \"mode\": \"lines+markers\", \"name\": \"Test Data\", \"xaxis\": \"x2\", \"yaxis\": \"y2\"}, {\"type\": \"scatter\", \"x\": [-1.9057142857142857, -0.7792857142857142, -0.32714285714285724, 0.03241379310344826, 0.3111111111111111, 0.8163157894736842, 1.6485714285714284], \"y\": [0.04403571428571429, 0.2078302493391441, 0.3175238571785982, 0.4619523973784063, 0.6680193451553728, 0.7530662736221508, 0.9511428571428572], \"error_y\": {\"type\": \"data\", \"array\": [0.0012261739805428935, 0.00342974269483238, 0.0027830665089023385, 0.0029281434284994224, 0.003511231539381376, 0.0031287850200980355, 0.0018219581691244248], \"color\": \"rgb(0,100,246)\", \"visible\": true}, \"line\": {\"color\": \"rgb(0,176,246)\"}, \"mode\": \"lines+markers\", \"name\": \"Sim Data\", \"xaxis\": \"x2\", \"yaxis\": \"y2\"}], {\"paper_bgcolor\": \"rgb(255,255,255)\", \"plot_bgcolor\": \"rgb(229,229,229)\", \"xaxis\": {\"gridcolor\": \"rgb(255,255,255)\", \"range\": [-2, 2], \"domain\": [0, 0.45], \"showgrid\": true, \"showline\": false, \"showticklabels\": true, \"tickcolor\": \"rgb(127,127,127)\", \"ticks\": \"outside\", \"title\": \"Net Value ($)\", \"zeroline\": false}, \"xaxis2\": {\"gridcolor\": \"rgb(255,255,255)\", \"range\": [-2, 2], \"domain\": [0.55, 1], \"showgrid\": true, \"showline\": false, \"showticklabels\": true, \"tickcolor\": \"rgb(127,127,127)\", \"ticks\": \"outside\", \"title\": \"Net Value ($)\", \"zeroline\": false}, \"yaxis1\": {\"gridcolor\": \"rgb(255,255,255)\", \"range\": [0], \"showgrid\": true, \"showline\": false, \"showticklabels\": true, \"tickcolor\": \"rgb(127,127,127)\", \"ticks\": \"outside\", \"title\": \"RT (s)\", \"anchor\": \"x1\", \"zeroline\": false}, \"yaxis2\": {\"gridcolor\": \"rgb(255,255,255)\", \"range\": [0], \"showgrid\": true, \"showline\": false, \"showticklabels\": true, \"tickcolor\": \"rgb(127,127,127)\", \"ticks\": \"outside\", \"title\": \"p (accept)\", \"anchor\": \"x2\", \"zeroline\": false}, \"annotations\": [{\"x\": 0.01, \"y\": 1.12, \"showarrow\": false, \"text\": \"PARAMETERS: v: 0.149, a: 0.135, \\u03b8: 0.1\", \"xref\": \"paper\", \"yref\": \"paper\"}, {\"x\": 0.01, \"y\": 1.08, \"showarrow\": false, \"text\": \"MLE: 623.61\", \"xref\": \"paper\", \"yref\": \"paper\"}, {\"x\": 0.01, \"y\": 1.2, \"showarrow\": false, \"text\": \"SUBJECT: 12\", \"font\": {\"family\": \"Arial, sans-serif\", \"size\": 22}, \"xref\": \"paper\", \"yref\": \"paper\"}]}, {\"showLink\": true, \"linkText\": \"Export to plot.ly\"})});</script>"
      ],
      "text/vnd.plotly.v1+html": [
       "<div id=\"a597e4a4-f165-42c9-895c-6d26e409997f\" style=\"height: 525px; width: 100%;\" class=\"plotly-graph-div\"></div><script type=\"text/javascript\">require([\"plotly\"], function(Plotly) { window.PLOTLYENV=window.PLOTLYENV || {};window.PLOTLYENV.BASE_URL=\"https://plot.ly\";Plotly.newPlot(\"a597e4a4-f165-42c9-895c-6d26e409997f\", [{\"type\": \"scatter\", \"x\": [-1.9057142857142857, -0.7792857142857142, -0.32714285714285724, 0.03241379310344826, 0.3111111111111111, 0.8163157894736842, 1.6485714285714284], \"y\": [1.4269307483648717, 1.3549157306697457, 2.125731202156333, 2.0357956772866848, 1.6631095707739905, 1.3957581082833805, 1.5227779725454245], \"error_y\": {\"type\": \"data\", \"array\": [0.10609880159574052, 0.1488715426815066, 0.25316036154916904, 0.22382898810538016, 0.1427101860349365, 0.11909295856362125, 0.15002263903662438], \"color\": \"rgb(0,170,80)\", \"visible\": true}, \"line\": {\"color\": \"rgb(0,100,80)\"}, \"mode\": \"lines+markers\", \"name\": \"Test Data\"}, {\"type\": \"scatter\", \"x\": [-1.9057142857142857, -0.7792857142857142, -0.32714285714285724, 0.03241379310344826, 0.3111111111111111, 0.8163157894736842, 1.6485714285714284], \"y\": [1.6758631785714184, 1.9305387583053446, 2.3430523249580086, 2.13111569506727, 2.280544332647728, 2.12846238879821, 1.757115857142852], \"error_y\": {\"type\": \"data\", \"array\": [0.0039034593132975266, 0.008385272227920959, 0.007571336548319229, 0.0072169379782604775, 0.009235815330965815, 0.00742859150636651, 0.0058744717643284495], \"color\": \"rgb(0,100,246)\", \"visible\": true}, \"line\": {\"color\": \"rgb(0,176,246)\"}, \"mode\": \"lines+markers\", \"name\": \"Sim Data\"}, {\"type\": \"scatter\", \"x\": [-1.9057142857142857, -0.7792857142857142, -0.32714285714285724, 0.03241379310344826, 0.3111111111111111, 0.8163157894736842, 1.6485714285714284], \"y\": [0.07142857142857142, 0.14285714285714285, 0.32142857142857145, 0.6896551724137931, 0.9444444444444444, 0.9473684210526315, 1.0], \"error_y\": {\"type\": \"data\", \"array\": [0.04956347617776506, 0.09705231721239392, 0.08987898137227082, 0.08742975048915688, 0.05555555555555555, 0.05263157894736841, 0.0], \"color\": \"rgb(0,170,80)\", \"visible\": true}, \"line\": {\"color\": \"rgb(0,100,80)\"}, \"mode\": \"lines+markers\", \"name\": \"Test Data\", \"xaxis\": \"x2\", \"yaxis\": \"y2\"}, {\"type\": \"scatter\", \"x\": [-1.9057142857142857, -0.7792857142857142, -0.32714285714285724, 0.03241379310344826, 0.3111111111111111, 0.8163157894736842, 1.6485714285714284], \"y\": [0.04403571428571429, 0.2078302493391441, 0.3175238571785982, 0.4619523973784063, 0.6680193451553728, 0.7530662736221508, 0.9511428571428572], \"error_y\": {\"type\": \"data\", \"array\": [0.0012261739805428935, 0.00342974269483238, 0.0027830665089023385, 0.0029281434284994224, 0.003511231539381376, 0.0031287850200980355, 0.0018219581691244248], \"color\": \"rgb(0,100,246)\", \"visible\": true}, \"line\": {\"color\": \"rgb(0,176,246)\"}, \"mode\": \"lines+markers\", \"name\": \"Sim Data\", \"xaxis\": \"x2\", \"yaxis\": \"y2\"}], {\"paper_bgcolor\": \"rgb(255,255,255)\", \"plot_bgcolor\": \"rgb(229,229,229)\", \"xaxis\": {\"gridcolor\": \"rgb(255,255,255)\", \"range\": [-2, 2], \"domain\": [0, 0.45], \"showgrid\": true, \"showline\": false, \"showticklabels\": true, \"tickcolor\": \"rgb(127,127,127)\", \"ticks\": \"outside\", \"title\": \"Net Value ($)\", \"zeroline\": false}, \"xaxis2\": {\"gridcolor\": \"rgb(255,255,255)\", \"range\": [-2, 2], \"domain\": [0.55, 1], \"showgrid\": true, \"showline\": false, \"showticklabels\": true, \"tickcolor\": \"rgb(127,127,127)\", \"ticks\": \"outside\", \"title\": \"Net Value ($)\", \"zeroline\": false}, \"yaxis1\": {\"gridcolor\": \"rgb(255,255,255)\", \"range\": [0], \"showgrid\": true, \"showline\": false, \"showticklabels\": true, \"tickcolor\": \"rgb(127,127,127)\", \"ticks\": \"outside\", \"title\": \"RT (s)\", \"anchor\": \"x1\", \"zeroline\": false}, \"yaxis2\": {\"gridcolor\": \"rgb(255,255,255)\", \"range\": [0], \"showgrid\": true, \"showline\": false, \"showticklabels\": true, \"tickcolor\": \"rgb(127,127,127)\", \"ticks\": \"outside\", \"title\": \"p (accept)\", \"anchor\": \"x2\", \"zeroline\": false}, \"annotations\": [{\"x\": 0.01, \"y\": 1.12, \"showarrow\": false, \"text\": \"PARAMETERS: v: 0.149, a: 0.135, \\u03b8: 0.1\", \"xref\": \"paper\", \"yref\": \"paper\"}, {\"x\": 0.01, \"y\": 1.08, \"showarrow\": false, \"text\": \"MLE: 623.61\", \"xref\": \"paper\", \"yref\": \"paper\"}, {\"x\": 0.01, \"y\": 1.2, \"showarrow\": false, \"text\": \"SUBJECT: 12\", \"font\": {\"family\": \"Arial, sans-serif\", \"size\": 22}, \"xref\": \"paper\", \"yref\": \"paper\"}]}, {\"showLink\": true, \"linkText\": \"Export to plot.ly\"})});</script>"
      ]
     },
     "metadata": {},
     "output_type": "display_data"
    },
    {
     "data": {
      "application/vnd.plotly.v1+json": {
       "data": [
        {
         "error_y": {
          "array": [
           0.5229255577916007,
           0.3617012844609333,
           0.5102230924375099,
           0.32157018381381625,
           0.5974705875773418,
           0.4628035693556721,
           0.4056975441536435
          ],
          "color": "rgb(0,170,80)",
          "type": "data",
          "visible": true
         },
         "line": {
          "color": "rgb(0,100,80)"
         },
         "mode": "lines+markers",
         "name": "Test Data",
         "type": "scatter",
         "x": [
          -1.671764705882353,
          -0.8362499999999999,
          -0.34800000000000003,
          0.021818181818181775,
          0.26076923076923075,
          0.7109090909090908,
          1.6181249999999998
         ],
         "y": [
          4.923762330146822,
          4.66318481280905,
          6.524016877422886,
          4.5971211614074,
          5.280876333341719,
          4.638104213602756,
          4.002202647474404
         ]
        },
        {
         "error_y": {
          "array": [
           0.017216557177399734,
           0.020240733456811457,
           0.02185821408852859,
           0.017891936231294082,
           0.023484261044616116,
           0.024728112871026324,
           0.01800968899660518
          ],
          "color": "rgb(0,100,246)",
          "type": "data",
          "visible": true
         },
         "line": {
          "color": "rgb(0,176,246)"
         },
         "mode": "lines+markers",
         "name": "Sim Data",
         "type": "scatter",
         "x": [
          -1.671764705882353,
          -0.8362499999999999,
          -0.34800000000000003,
          0.021818181818181775,
          0.26076923076923075,
          0.7109090909090908,
          1.6181249999999998
         ],
         "y": [
          4.428223667672194,
          4.935405151208219,
          5.138369481147275,
          5.143969880513192,
          5.140239122350323,
          4.972952923634038,
          4.44043018108654
         ]
        },
        {
         "error_y": {
          "array": [
           0.058823529411764705,
           0,
           0.12598815766974242,
           0.10865714630312667,
           0.10415433852097386,
           0,
           0
          ],
          "color": "rgb(0,170,80)",
          "type": "data",
          "visible": true
         },
         "line": {
          "color": "rgb(0,100,80)"
         },
         "mode": "lines+markers",
         "name": "Test Data",
         "type": "scatter",
         "x": [
          -1.671764705882353,
          -0.8362499999999999,
          -0.34800000000000003,
          0.021818181818181775,
          0.26076923076923075,
          0.7109090909090908,
          1.6181249999999998
         ],
         "xaxis": "x2",
         "y": [
          0.058823529411764705,
          0,
          0.3333333333333333,
          0.5454545454545454,
          0.8461538461538461,
          1,
          1
         ],
         "yaxis": "y2"
        },
        {
         "error_y": {
          "array": [
           0.0021737467435873916,
           0.0035784327154645356,
           0.0043492418868566534,
           0.003709687256202845,
           0.004707818865566206,
           0.0044561127271235575,
           0.002384259806701718
          ],
          "color": "rgb(0,100,246)",
          "type": "data",
          "visible": true
         },
         "line": {
          "color": "rgb(0,176,246)"
         },
         "mode": "lines+markers",
         "name": "Sim Data",
         "type": "scatter",
         "x": [
          -1.671764705882353,
          -0.8362499999999999,
          -0.34800000000000003,
          0.021818181818181775,
          0.26076923076923075,
          0.7109090909090908,
          1.6181249999999998
         ],
         "xaxis": "x2",
         "y": [
          0.0818878833584716,
          0.22977861380408046,
          0.3765710602642604,
          0.5092781234513518,
          0.6078467831907772,
          0.7521567792097135,
          0.9065057008718981
         ],
         "yaxis": "y2"
        }
       ],
       "layout": {
        "annotations": [
         {
          "showarrow": false,
          "text": "PARAMETERS: v: 0.041, a: 0.249, θ: 0.46",
          "x": 0.01,
          "xref": "paper",
          "y": 1.12,
          "yref": "paper"
         },
         {
          "showarrow": false,
          "text": "MLE: 600.02",
          "x": 0.01,
          "xref": "paper",
          "y": 1.08,
          "yref": "paper"
         },
         {
          "font": {
           "family": "Arial, sans-serif",
           "size": 22
          },
          "showarrow": false,
          "text": "SUBJECT: 13",
          "x": 0.01,
          "xref": "paper",
          "y": 1.2,
          "yref": "paper"
         }
        ],
        "paper_bgcolor": "rgb(255,255,255)",
        "plot_bgcolor": "rgb(229,229,229)",
        "xaxis": {
         "domain": [
          0,
          0.45
         ],
         "gridcolor": "rgb(255,255,255)",
         "range": [
          -2,
          2
         ],
         "showgrid": true,
         "showline": false,
         "showticklabels": true,
         "tickcolor": "rgb(127,127,127)",
         "ticks": "outside",
         "title": "Net Value ($)",
         "zeroline": false
        },
        "xaxis2": {
         "domain": [
          0.55,
          1
         ],
         "gridcolor": "rgb(255,255,255)",
         "range": [
          -2,
          2
         ],
         "showgrid": true,
         "showline": false,
         "showticklabels": true,
         "tickcolor": "rgb(127,127,127)",
         "ticks": "outside",
         "title": "Net Value ($)",
         "zeroline": false
        },
        "yaxis1": {
         "anchor": "x1",
         "gridcolor": "rgb(255,255,255)",
         "range": [
          0
         ],
         "showgrid": true,
         "showline": false,
         "showticklabels": true,
         "tickcolor": "rgb(127,127,127)",
         "ticks": "outside",
         "title": "RT (s)",
         "zeroline": false
        },
        "yaxis2": {
         "anchor": "x2",
         "gridcolor": "rgb(255,255,255)",
         "range": [
          0
         ],
         "showgrid": true,
         "showline": false,
         "showticklabels": true,
         "tickcolor": "rgb(127,127,127)",
         "ticks": "outside",
         "title": "p (accept)",
         "zeroline": false
        }
       }
      },
      "text/html": [
       "<div id=\"6c9e761c-1ba3-4570-92c6-97a6a2b144b2\" style=\"height: 525px; width: 100%;\" class=\"plotly-graph-div\"></div><script type=\"text/javascript\">require([\"plotly\"], function(Plotly) { window.PLOTLYENV=window.PLOTLYENV || {};window.PLOTLYENV.BASE_URL=\"https://plot.ly\";Plotly.newPlot(\"6c9e761c-1ba3-4570-92c6-97a6a2b144b2\", [{\"type\": \"scatter\", \"x\": [-1.671764705882353, -0.8362499999999999, -0.34800000000000003, 0.021818181818181775, 0.26076923076923075, 0.7109090909090908, 1.6181249999999998], \"y\": [4.923762330146822, 4.66318481280905, 6.524016877422886, 4.5971211614074, 5.280876333341719, 4.638104213602756, 4.002202647474404], \"error_y\": {\"type\": \"data\", \"array\": [0.5229255577916007, 0.3617012844609333, 0.5102230924375099, 0.32157018381381625, 0.5974705875773418, 0.4628035693556721, 0.4056975441536435], \"color\": \"rgb(0,170,80)\", \"visible\": true}, \"line\": {\"color\": \"rgb(0,100,80)\"}, \"mode\": \"lines+markers\", \"name\": \"Test Data\"}, {\"type\": \"scatter\", \"x\": [-1.671764705882353, -0.8362499999999999, -0.34800000000000003, 0.021818181818181775, 0.26076923076923075, 0.7109090909090908, 1.6181249999999998], \"y\": [4.428223667672194, 4.935405151208219, 5.138369481147275, 5.143969880513192, 5.140239122350323, 4.972952923634038, 4.44043018108654], \"error_y\": {\"type\": \"data\", \"array\": [0.017216557177399734, 0.020240733456811457, 0.02185821408852859, 0.017891936231294082, 0.023484261044616116, 0.024728112871026324, 0.01800968899660518], \"color\": \"rgb(0,100,246)\", \"visible\": true}, \"line\": {\"color\": \"rgb(0,176,246)\"}, \"mode\": \"lines+markers\", \"name\": \"Sim Data\"}, {\"type\": \"scatter\", \"x\": [-1.671764705882353, -0.8362499999999999, -0.34800000000000003, 0.021818181818181775, 0.26076923076923075, 0.7109090909090908, 1.6181249999999998], \"y\": [0.058823529411764705, 0.0, 0.3333333333333333, 0.5454545454545454, 0.8461538461538461, 1.0, 1.0], \"error_y\": {\"type\": \"data\", \"array\": [0.058823529411764705, 0.0, 0.12598815766974242, 0.10865714630312667, 0.10415433852097386, 0.0, 0.0], \"color\": \"rgb(0,170,80)\", \"visible\": true}, \"line\": {\"color\": \"rgb(0,100,80)\"}, \"mode\": \"lines+markers\", \"name\": \"Test Data\", \"xaxis\": \"x2\", \"yaxis\": \"y2\"}, {\"type\": \"scatter\", \"x\": [-1.671764705882353, -0.8362499999999999, -0.34800000000000003, 0.021818181818181775, 0.26076923076923075, 0.7109090909090908, 1.6181249999999998], \"y\": [0.0818878833584716, 0.22977861380408046, 0.3765710602642604, 0.5092781234513518, 0.6078467831907772, 0.7521567792097135, 0.9065057008718981], \"error_y\": {\"type\": \"data\", \"array\": [0.0021737467435873916, 0.0035784327154645356, 0.0043492418868566534, 0.003709687256202845, 0.004707818865566206, 0.0044561127271235575, 0.002384259806701718], \"color\": \"rgb(0,100,246)\", \"visible\": true}, \"line\": {\"color\": \"rgb(0,176,246)\"}, \"mode\": \"lines+markers\", \"name\": \"Sim Data\", \"xaxis\": \"x2\", \"yaxis\": \"y2\"}], {\"paper_bgcolor\": \"rgb(255,255,255)\", \"plot_bgcolor\": \"rgb(229,229,229)\", \"xaxis\": {\"gridcolor\": \"rgb(255,255,255)\", \"range\": [-2, 2], \"domain\": [0, 0.45], \"showgrid\": true, \"showline\": false, \"showticklabels\": true, \"tickcolor\": \"rgb(127,127,127)\", \"ticks\": \"outside\", \"title\": \"Net Value ($)\", \"zeroline\": false}, \"xaxis2\": {\"gridcolor\": \"rgb(255,255,255)\", \"range\": [-2, 2], \"domain\": [0.55, 1], \"showgrid\": true, \"showline\": false, \"showticklabels\": true, \"tickcolor\": \"rgb(127,127,127)\", \"ticks\": \"outside\", \"title\": \"Net Value ($)\", \"zeroline\": false}, \"yaxis1\": {\"gridcolor\": \"rgb(255,255,255)\", \"range\": [0], \"showgrid\": true, \"showline\": false, \"showticklabels\": true, \"tickcolor\": \"rgb(127,127,127)\", \"ticks\": \"outside\", \"title\": \"RT (s)\", \"anchor\": \"x1\", \"zeroline\": false}, \"yaxis2\": {\"gridcolor\": \"rgb(255,255,255)\", \"range\": [0], \"showgrid\": true, \"showline\": false, \"showticklabels\": true, \"tickcolor\": \"rgb(127,127,127)\", \"ticks\": \"outside\", \"title\": \"p (accept)\", \"anchor\": \"x2\", \"zeroline\": false}, \"annotations\": [{\"x\": 0.01, \"y\": 1.12, \"showarrow\": false, \"text\": \"PARAMETERS: v: 0.041, a: 0.249, \\u03b8: 0.46\", \"xref\": \"paper\", \"yref\": \"paper\"}, {\"x\": 0.01, \"y\": 1.08, \"showarrow\": false, \"text\": \"MLE: 600.02\", \"xref\": \"paper\", \"yref\": \"paper\"}, {\"x\": 0.01, \"y\": 1.2, \"showarrow\": false, \"text\": \"SUBJECT: 13\", \"font\": {\"family\": \"Arial, sans-serif\", \"size\": 22}, \"xref\": \"paper\", \"yref\": \"paper\"}]}, {\"showLink\": true, \"linkText\": \"Export to plot.ly\"})});</script>"
      ],
      "text/vnd.plotly.v1+html": [
       "<div id=\"6c9e761c-1ba3-4570-92c6-97a6a2b144b2\" style=\"height: 525px; width: 100%;\" class=\"plotly-graph-div\"></div><script type=\"text/javascript\">require([\"plotly\"], function(Plotly) { window.PLOTLYENV=window.PLOTLYENV || {};window.PLOTLYENV.BASE_URL=\"https://plot.ly\";Plotly.newPlot(\"6c9e761c-1ba3-4570-92c6-97a6a2b144b2\", [{\"type\": \"scatter\", \"x\": [-1.671764705882353, -0.8362499999999999, -0.34800000000000003, 0.021818181818181775, 0.26076923076923075, 0.7109090909090908, 1.6181249999999998], \"y\": [4.923762330146822, 4.66318481280905, 6.524016877422886, 4.5971211614074, 5.280876333341719, 4.638104213602756, 4.002202647474404], \"error_y\": {\"type\": \"data\", \"array\": [0.5229255577916007, 0.3617012844609333, 0.5102230924375099, 0.32157018381381625, 0.5974705875773418, 0.4628035693556721, 0.4056975441536435], \"color\": \"rgb(0,170,80)\", \"visible\": true}, \"line\": {\"color\": \"rgb(0,100,80)\"}, \"mode\": \"lines+markers\", \"name\": \"Test Data\"}, {\"type\": \"scatter\", \"x\": [-1.671764705882353, -0.8362499999999999, -0.34800000000000003, 0.021818181818181775, 0.26076923076923075, 0.7109090909090908, 1.6181249999999998], \"y\": [4.428223667672194, 4.935405151208219, 5.138369481147275, 5.143969880513192, 5.140239122350323, 4.972952923634038, 4.44043018108654], \"error_y\": {\"type\": \"data\", \"array\": [0.017216557177399734, 0.020240733456811457, 0.02185821408852859, 0.017891936231294082, 0.023484261044616116, 0.024728112871026324, 0.01800968899660518], \"color\": \"rgb(0,100,246)\", \"visible\": true}, \"line\": {\"color\": \"rgb(0,176,246)\"}, \"mode\": \"lines+markers\", \"name\": \"Sim Data\"}, {\"type\": \"scatter\", \"x\": [-1.671764705882353, -0.8362499999999999, -0.34800000000000003, 0.021818181818181775, 0.26076923076923075, 0.7109090909090908, 1.6181249999999998], \"y\": [0.058823529411764705, 0.0, 0.3333333333333333, 0.5454545454545454, 0.8461538461538461, 1.0, 1.0], \"error_y\": {\"type\": \"data\", \"array\": [0.058823529411764705, 0.0, 0.12598815766974242, 0.10865714630312667, 0.10415433852097386, 0.0, 0.0], \"color\": \"rgb(0,170,80)\", \"visible\": true}, \"line\": {\"color\": \"rgb(0,100,80)\"}, \"mode\": \"lines+markers\", \"name\": \"Test Data\", \"xaxis\": \"x2\", \"yaxis\": \"y2\"}, {\"type\": \"scatter\", \"x\": [-1.671764705882353, -0.8362499999999999, -0.34800000000000003, 0.021818181818181775, 0.26076923076923075, 0.7109090909090908, 1.6181249999999998], \"y\": [0.0818878833584716, 0.22977861380408046, 0.3765710602642604, 0.5092781234513518, 0.6078467831907772, 0.7521567792097135, 0.9065057008718981], \"error_y\": {\"type\": \"data\", \"array\": [0.0021737467435873916, 0.0035784327154645356, 0.0043492418868566534, 0.003709687256202845, 0.004707818865566206, 0.0044561127271235575, 0.002384259806701718], \"color\": \"rgb(0,100,246)\", \"visible\": true}, \"line\": {\"color\": \"rgb(0,176,246)\"}, \"mode\": \"lines+markers\", \"name\": \"Sim Data\", \"xaxis\": \"x2\", \"yaxis\": \"y2\"}], {\"paper_bgcolor\": \"rgb(255,255,255)\", \"plot_bgcolor\": \"rgb(229,229,229)\", \"xaxis\": {\"gridcolor\": \"rgb(255,255,255)\", \"range\": [-2, 2], \"domain\": [0, 0.45], \"showgrid\": true, \"showline\": false, \"showticklabels\": true, \"tickcolor\": \"rgb(127,127,127)\", \"ticks\": \"outside\", \"title\": \"Net Value ($)\", \"zeroline\": false}, \"xaxis2\": {\"gridcolor\": \"rgb(255,255,255)\", \"range\": [-2, 2], \"domain\": [0.55, 1], \"showgrid\": true, \"showline\": false, \"showticklabels\": true, \"tickcolor\": \"rgb(127,127,127)\", \"ticks\": \"outside\", \"title\": \"Net Value ($)\", \"zeroline\": false}, \"yaxis1\": {\"gridcolor\": \"rgb(255,255,255)\", \"range\": [0], \"showgrid\": true, \"showline\": false, \"showticklabels\": true, \"tickcolor\": \"rgb(127,127,127)\", \"ticks\": \"outside\", \"title\": \"RT (s)\", \"anchor\": \"x1\", \"zeroline\": false}, \"yaxis2\": {\"gridcolor\": \"rgb(255,255,255)\", \"range\": [0], \"showgrid\": true, \"showline\": false, \"showticklabels\": true, \"tickcolor\": \"rgb(127,127,127)\", \"ticks\": \"outside\", \"title\": \"p (accept)\", \"anchor\": \"x2\", \"zeroline\": false}, \"annotations\": [{\"x\": 0.01, \"y\": 1.12, \"showarrow\": false, \"text\": \"PARAMETERS: v: 0.041, a: 0.249, \\u03b8: 0.46\", \"xref\": \"paper\", \"yref\": \"paper\"}, {\"x\": 0.01, \"y\": 1.08, \"showarrow\": false, \"text\": \"MLE: 600.02\", \"xref\": \"paper\", \"yref\": \"paper\"}, {\"x\": 0.01, \"y\": 1.2, \"showarrow\": false, \"text\": \"SUBJECT: 13\", \"font\": {\"family\": \"Arial, sans-serif\", \"size\": 22}, \"xref\": \"paper\", \"yref\": \"paper\"}]}, {\"showLink\": true, \"linkText\": \"Export to plot.ly\"})});</script>"
      ]
     },
     "metadata": {},
     "output_type": "display_data"
    },
    {
     "data": {
      "application/vnd.plotly.v1+json": {
       "data": [
        {
         "error_y": {
          "array": [
           0.35021592608518126,
           0.3766742051351146,
           0.5542082213227633,
           0.33901965010363483,
           0.5045817465963701,
           0.5152689778264671,
           0.28194392957871334
          ],
          "color": "rgb(0,170,80)",
          "type": "data",
          "visible": true
         },
         "line": {
          "color": "rgb(0,100,80)"
         },
         "mode": "lines+markers",
         "name": "Test Data",
         "type": "scatter",
         "x": [
          -1.5835294117647063,
          -0.8089473684210526,
          -0.2995,
          0.01899999999999998,
          0.31941176470588234,
          0.804375,
          1.5968
         ],
         "y": [
          3.4976711634799904,
          4.129546045803612,
          4.544472419338126,
          4.305603327703041,
          4.2611871013667795,
          4.102034559846287,
          3.235373271243879
         ]
        },
        {
         "error_y": {
          "array": [
           0.01892030256586749,
           0.018733893826003288,
           0.01872040273619269,
           0.01509919142278489,
           0.020381423891993322,
           0.020418334016960506,
           0.015172794730522356
          ],
          "color": "rgb(0,100,246)",
          "type": "data",
          "visible": true
         },
         "line": {
          "color": "rgb(0,176,246)"
         },
         "mode": "lines+markers",
         "name": "Sim Data",
         "type": "scatter",
         "x": [
          -1.5835294117647063,
          -0.8089473684210526,
          -0.2995,
          0.01899999999999998,
          0.31941176470588234,
          0.804375,
          1.5968
         ],
         "y": [
          4.752300912852169,
          5.046162733226232,
          5.126566461188598,
          5.051173182578245,
          5.120569398052717,
          5.014528312944094,
          4.737124461230848
         ]
        },
        {
         "error_y": {
          "array": [
           0.08054743492723031,
           0.0960916767552923,
           0.10513149660756937,
           0.0875376219064817,
           0.058823529411764705,
           0.10077822185373188,
           0
          ],
          "color": "rgb(0,170,80)",
          "type": "data",
          "visible": true
         },
         "line": {
          "color": "rgb(0,100,80)"
         },
         "mode": "lines+markers",
         "name": "Test Data",
         "type": "scatter",
         "x": [
          -1.5835294117647063,
          -0.8089473684210526,
          -0.2995,
          0.01899999999999998,
          0.31941176470588234,
          0.804375,
          1.5968
         ],
         "xaxis": "x2",
         "y": [
          0.11764705882352941,
          0.21052631578947367,
          0.3,
          0.6666666666666666,
          0.9411764705882353,
          0.8125,
          1
         ],
         "yaxis": "y2"
        },
        {
         "error_y": {
          "array": [
           0.003057399175627501,
           0.0036494139727426054,
           0.003830948552396916,
           0.0031548878008775213,
           0.004136271300413006,
           0.003879247420506028,
           0.002378303142933129
          ],
          "color": "rgb(0,100,246)",
          "type": "data",
          "visible": true
         },
         "line": {
          "color": "rgb(0,176,246)"
         },
         "mode": "lines+markers",
         "name": "Sim Data",
         "type": "scatter",
         "x": [
          -1.5835294117647063,
          -0.8089473684210526,
          -0.2995,
          0.01899999999999998,
          0.31941176470588234,
          0.804375,
          1.5968
         ],
         "xaxis": "x2",
         "y": [
          0.17186576475996584,
          0.3144075126652663,
          0.43078580405769346,
          0.5015924834779839,
          0.5963328832350224,
          0.7111566918174492,
          0.8502999333481449
         ],
         "yaxis": "y2"
        }
       ],
       "layout": {
        "annotations": [
         {
          "showarrow": false,
          "text": "PARAMETERS: v: 0.041, a: 0.249, θ: 0.1",
          "x": 0.01,
          "xref": "paper",
          "y": 1.12,
          "yref": "paper"
         },
         {
          "showarrow": false,
          "text": "MLE: 661.43",
          "x": 0.01,
          "xref": "paper",
          "y": 1.08,
          "yref": "paper"
         },
         {
          "font": {
           "family": "Arial, sans-serif",
           "size": 22
          },
          "showarrow": false,
          "text": "SUBJECT: 14",
          "x": 0.01,
          "xref": "paper",
          "y": 1.2,
          "yref": "paper"
         }
        ],
        "paper_bgcolor": "rgb(255,255,255)",
        "plot_bgcolor": "rgb(229,229,229)",
        "xaxis": {
         "domain": [
          0,
          0.45
         ],
         "gridcolor": "rgb(255,255,255)",
         "range": [
          -2,
          2
         ],
         "showgrid": true,
         "showline": false,
         "showticklabels": true,
         "tickcolor": "rgb(127,127,127)",
         "ticks": "outside",
         "title": "Net Value ($)",
         "zeroline": false
        },
        "xaxis2": {
         "domain": [
          0.55,
          1
         ],
         "gridcolor": "rgb(255,255,255)",
         "range": [
          -2,
          2
         ],
         "showgrid": true,
         "showline": false,
         "showticklabels": true,
         "tickcolor": "rgb(127,127,127)",
         "ticks": "outside",
         "title": "Net Value ($)",
         "zeroline": false
        },
        "yaxis1": {
         "anchor": "x1",
         "gridcolor": "rgb(255,255,255)",
         "range": [
          0
         ],
         "showgrid": true,
         "showline": false,
         "showticklabels": true,
         "tickcolor": "rgb(127,127,127)",
         "ticks": "outside",
         "title": "RT (s)",
         "zeroline": false
        },
        "yaxis2": {
         "anchor": "x2",
         "gridcolor": "rgb(255,255,255)",
         "range": [
          0
         ],
         "showgrid": true,
         "showline": false,
         "showticklabels": true,
         "tickcolor": "rgb(127,127,127)",
         "ticks": "outside",
         "title": "p (accept)",
         "zeroline": false
        }
       }
      },
      "text/html": [
       "<div id=\"cf845aeb-000f-474b-a110-96ef2d5c913a\" style=\"height: 525px; width: 100%;\" class=\"plotly-graph-div\"></div><script type=\"text/javascript\">require([\"plotly\"], function(Plotly) { window.PLOTLYENV=window.PLOTLYENV || {};window.PLOTLYENV.BASE_URL=\"https://plot.ly\";Plotly.newPlot(\"cf845aeb-000f-474b-a110-96ef2d5c913a\", [{\"type\": \"scatter\", \"x\": [-1.5835294117647063, -0.8089473684210526, -0.2995, 0.01899999999999998, 0.31941176470588234, 0.804375, 1.5968], \"y\": [3.4976711634799904, 4.129546045803612, 4.544472419338126, 4.305603327703041, 4.2611871013667795, 4.102034559846287, 3.235373271243879], \"error_y\": {\"type\": \"data\", \"array\": [0.35021592608518126, 0.3766742051351146, 0.5542082213227633, 0.33901965010363483, 0.5045817465963701, 0.5152689778264671, 0.28194392957871334], \"color\": \"rgb(0,170,80)\", \"visible\": true}, \"line\": {\"color\": \"rgb(0,100,80)\"}, \"mode\": \"lines+markers\", \"name\": \"Test Data\"}, {\"type\": \"scatter\", \"x\": [-1.5835294117647063, -0.8089473684210526, -0.2995, 0.01899999999999998, 0.31941176470588234, 0.804375, 1.5968], \"y\": [4.752300912852169, 5.046162733226232, 5.126566461188598, 5.051173182578245, 5.120569398052717, 5.014528312944094, 4.737124461230848], \"error_y\": {\"type\": \"data\", \"array\": [0.01892030256586749, 0.018733893826003288, 0.01872040273619269, 0.01509919142278489, 0.020381423891993322, 0.020418334016960506, 0.015172794730522356], \"color\": \"rgb(0,100,246)\", \"visible\": true}, \"line\": {\"color\": \"rgb(0,176,246)\"}, \"mode\": \"lines+markers\", \"name\": \"Sim Data\"}, {\"type\": \"scatter\", \"x\": [-1.5835294117647063, -0.8089473684210526, -0.2995, 0.01899999999999998, 0.31941176470588234, 0.804375, 1.5968], \"y\": [0.11764705882352941, 0.21052631578947367, 0.3, 0.6666666666666666, 0.9411764705882353, 0.8125, 1.0], \"error_y\": {\"type\": \"data\", \"array\": [0.08054743492723031, 0.0960916767552923, 0.10513149660756937, 0.0875376219064817, 0.058823529411764705, 0.10077822185373188, 0.0], \"color\": \"rgb(0,170,80)\", \"visible\": true}, \"line\": {\"color\": \"rgb(0,100,80)\"}, \"mode\": \"lines+markers\", \"name\": \"Test Data\", \"xaxis\": \"x2\", \"yaxis\": \"y2\"}, {\"type\": \"scatter\", \"x\": [-1.5835294117647063, -0.8089473684210526, -0.2995, 0.01899999999999998, 0.31941176470588234, 0.804375, 1.5968], \"y\": [0.17186576475996584, 0.3144075126652663, 0.43078580405769346, 0.5015924834779839, 0.5963328832350224, 0.7111566918174492, 0.8502999333481449], \"error_y\": {\"type\": \"data\", \"array\": [0.003057399175627501, 0.0036494139727426054, 0.003830948552396916, 0.0031548878008775213, 0.004136271300413006, 0.003879247420506028, 0.002378303142933129], \"color\": \"rgb(0,100,246)\", \"visible\": true}, \"line\": {\"color\": \"rgb(0,176,246)\"}, \"mode\": \"lines+markers\", \"name\": \"Sim Data\", \"xaxis\": \"x2\", \"yaxis\": \"y2\"}], {\"paper_bgcolor\": \"rgb(255,255,255)\", \"plot_bgcolor\": \"rgb(229,229,229)\", \"xaxis\": {\"gridcolor\": \"rgb(255,255,255)\", \"range\": [-2, 2], \"domain\": [0, 0.45], \"showgrid\": true, \"showline\": false, \"showticklabels\": true, \"tickcolor\": \"rgb(127,127,127)\", \"ticks\": \"outside\", \"title\": \"Net Value ($)\", \"zeroline\": false}, \"xaxis2\": {\"gridcolor\": \"rgb(255,255,255)\", \"range\": [-2, 2], \"domain\": [0.55, 1], \"showgrid\": true, \"showline\": false, \"showticklabels\": true, \"tickcolor\": \"rgb(127,127,127)\", \"ticks\": \"outside\", \"title\": \"Net Value ($)\", \"zeroline\": false}, \"yaxis1\": {\"gridcolor\": \"rgb(255,255,255)\", \"range\": [0], \"showgrid\": true, \"showline\": false, \"showticklabels\": true, \"tickcolor\": \"rgb(127,127,127)\", \"ticks\": \"outside\", \"title\": \"RT (s)\", \"anchor\": \"x1\", \"zeroline\": false}, \"yaxis2\": {\"gridcolor\": \"rgb(255,255,255)\", \"range\": [0], \"showgrid\": true, \"showline\": false, \"showticklabels\": true, \"tickcolor\": \"rgb(127,127,127)\", \"ticks\": \"outside\", \"title\": \"p (accept)\", \"anchor\": \"x2\", \"zeroline\": false}, \"annotations\": [{\"x\": 0.01, \"y\": 1.12, \"showarrow\": false, \"text\": \"PARAMETERS: v: 0.041, a: 0.249, \\u03b8: 0.1\", \"xref\": \"paper\", \"yref\": \"paper\"}, {\"x\": 0.01, \"y\": 1.08, \"showarrow\": false, \"text\": \"MLE: 661.43\", \"xref\": \"paper\", \"yref\": \"paper\"}, {\"x\": 0.01, \"y\": 1.2, \"showarrow\": false, \"text\": \"SUBJECT: 14\", \"font\": {\"family\": \"Arial, sans-serif\", \"size\": 22}, \"xref\": \"paper\", \"yref\": \"paper\"}]}, {\"showLink\": true, \"linkText\": \"Export to plot.ly\"})});</script>"
      ],
      "text/vnd.plotly.v1+html": [
       "<div id=\"cf845aeb-000f-474b-a110-96ef2d5c913a\" style=\"height: 525px; width: 100%;\" class=\"plotly-graph-div\"></div><script type=\"text/javascript\">require([\"plotly\"], function(Plotly) { window.PLOTLYENV=window.PLOTLYENV || {};window.PLOTLYENV.BASE_URL=\"https://plot.ly\";Plotly.newPlot(\"cf845aeb-000f-474b-a110-96ef2d5c913a\", [{\"type\": \"scatter\", \"x\": [-1.5835294117647063, -0.8089473684210526, -0.2995, 0.01899999999999998, 0.31941176470588234, 0.804375, 1.5968], \"y\": [3.4976711634799904, 4.129546045803612, 4.544472419338126, 4.305603327703041, 4.2611871013667795, 4.102034559846287, 3.235373271243879], \"error_y\": {\"type\": \"data\", \"array\": [0.35021592608518126, 0.3766742051351146, 0.5542082213227633, 0.33901965010363483, 0.5045817465963701, 0.5152689778264671, 0.28194392957871334], \"color\": \"rgb(0,170,80)\", \"visible\": true}, \"line\": {\"color\": \"rgb(0,100,80)\"}, \"mode\": \"lines+markers\", \"name\": \"Test Data\"}, {\"type\": \"scatter\", \"x\": [-1.5835294117647063, -0.8089473684210526, -0.2995, 0.01899999999999998, 0.31941176470588234, 0.804375, 1.5968], \"y\": [4.752300912852169, 5.046162733226232, 5.126566461188598, 5.051173182578245, 5.120569398052717, 5.014528312944094, 4.737124461230848], \"error_y\": {\"type\": \"data\", \"array\": [0.01892030256586749, 0.018733893826003288, 0.01872040273619269, 0.01509919142278489, 0.020381423891993322, 0.020418334016960506, 0.015172794730522356], \"color\": \"rgb(0,100,246)\", \"visible\": true}, \"line\": {\"color\": \"rgb(0,176,246)\"}, \"mode\": \"lines+markers\", \"name\": \"Sim Data\"}, {\"type\": \"scatter\", \"x\": [-1.5835294117647063, -0.8089473684210526, -0.2995, 0.01899999999999998, 0.31941176470588234, 0.804375, 1.5968], \"y\": [0.11764705882352941, 0.21052631578947367, 0.3, 0.6666666666666666, 0.9411764705882353, 0.8125, 1.0], \"error_y\": {\"type\": \"data\", \"array\": [0.08054743492723031, 0.0960916767552923, 0.10513149660756937, 0.0875376219064817, 0.058823529411764705, 0.10077822185373188, 0.0], \"color\": \"rgb(0,170,80)\", \"visible\": true}, \"line\": {\"color\": \"rgb(0,100,80)\"}, \"mode\": \"lines+markers\", \"name\": \"Test Data\", \"xaxis\": \"x2\", \"yaxis\": \"y2\"}, {\"type\": \"scatter\", \"x\": [-1.5835294117647063, -0.8089473684210526, -0.2995, 0.01899999999999998, 0.31941176470588234, 0.804375, 1.5968], \"y\": [0.17186576475996584, 0.3144075126652663, 0.43078580405769346, 0.5015924834779839, 0.5963328832350224, 0.7111566918174492, 0.8502999333481449], \"error_y\": {\"type\": \"data\", \"array\": [0.003057399175627501, 0.0036494139727426054, 0.003830948552396916, 0.0031548878008775213, 0.004136271300413006, 0.003879247420506028, 0.002378303142933129], \"color\": \"rgb(0,100,246)\", \"visible\": true}, \"line\": {\"color\": \"rgb(0,176,246)\"}, \"mode\": \"lines+markers\", \"name\": \"Sim Data\", \"xaxis\": \"x2\", \"yaxis\": \"y2\"}], {\"paper_bgcolor\": \"rgb(255,255,255)\", \"plot_bgcolor\": \"rgb(229,229,229)\", \"xaxis\": {\"gridcolor\": \"rgb(255,255,255)\", \"range\": [-2, 2], \"domain\": [0, 0.45], \"showgrid\": true, \"showline\": false, \"showticklabels\": true, \"tickcolor\": \"rgb(127,127,127)\", \"ticks\": \"outside\", \"title\": \"Net Value ($)\", \"zeroline\": false}, \"xaxis2\": {\"gridcolor\": \"rgb(255,255,255)\", \"range\": [-2, 2], \"domain\": [0.55, 1], \"showgrid\": true, \"showline\": false, \"showticklabels\": true, \"tickcolor\": \"rgb(127,127,127)\", \"ticks\": \"outside\", \"title\": \"Net Value ($)\", \"zeroline\": false}, \"yaxis1\": {\"gridcolor\": \"rgb(255,255,255)\", \"range\": [0], \"showgrid\": true, \"showline\": false, \"showticklabels\": true, \"tickcolor\": \"rgb(127,127,127)\", \"ticks\": \"outside\", \"title\": \"RT (s)\", \"anchor\": \"x1\", \"zeroline\": false}, \"yaxis2\": {\"gridcolor\": \"rgb(255,255,255)\", \"range\": [0], \"showgrid\": true, \"showline\": false, \"showticklabels\": true, \"tickcolor\": \"rgb(127,127,127)\", \"ticks\": \"outside\", \"title\": \"p (accept)\", \"anchor\": \"x2\", \"zeroline\": false}, \"annotations\": [{\"x\": 0.01, \"y\": 1.12, \"showarrow\": false, \"text\": \"PARAMETERS: v: 0.041, a: 0.249, \\u03b8: 0.1\", \"xref\": \"paper\", \"yref\": \"paper\"}, {\"x\": 0.01, \"y\": 1.08, \"showarrow\": false, \"text\": \"MLE: 661.43\", \"xref\": \"paper\", \"yref\": \"paper\"}, {\"x\": 0.01, \"y\": 1.2, \"showarrow\": false, \"text\": \"SUBJECT: 14\", \"font\": {\"family\": \"Arial, sans-serif\", \"size\": 22}, \"xref\": \"paper\", \"yref\": \"paper\"}]}, {\"showLink\": true, \"linkText\": \"Export to plot.ly\"})});</script>"
      ]
     },
     "metadata": {},
     "output_type": "display_data"
    },
    {
     "data": {
      "application/vnd.plotly.v1+json": {
       "data": [
        {
         "error_y": {
          "array": [
           0.3567010076126107,
           0.2103499017404514,
           0.23592121519616596,
           0.14616530230162392,
           0.1637560550610461,
           0.20646263968004017,
           0.15110877526032843
          ],
          "color": "rgb(0,170,80)",
          "type": "data",
          "visible": true
         },
         "line": {
          "color": "rgb(0,100,80)"
         },
         "mode": "lines+markers",
         "name": "Test Data",
         "type": "scatter",
         "x": [
          -1.9084615384615384,
          -0.7883333333333333,
          -0.28647058823529414,
          0.029210526315789458,
          0.3188888888888888,
          0.7157894736842105,
          1.679230769230769
         ],
         "y": [
          2.9552737949953354,
          2.3677408923168626,
          2.4658561379029003,
          2.5238267371215017,
          2.289951914292436,
          2.5536627034874226,
          2.1475658100937896
         ]
        },
        {
         "error_y": {
          "array": [
           0.014848317061976663,
           0.01587390454555107,
           0.017167148053491725,
           0.011646708106763938,
           0.016509478367933414,
           0.015691330602292674,
           0.011188990344113879
          ],
          "color": "rgb(0,100,246)",
          "type": "data",
          "visible": true
         },
         "line": {
          "color": "rgb(0,176,246)"
         },
         "mode": "lines+markers",
         "name": "Sim Data",
         "type": "scatter",
         "x": [
          -1.9084615384615384,
          -0.7883333333333333,
          -0.28647058823529414,
          0.029210526315789458,
          0.3188888888888888,
          0.7157894736842105,
          1.679230769230769
         ],
         "y": [
          3.153370565453153,
          3.883065423242474,
          4.042617821050033,
          4.089581544589492,
          4.051462918868677,
          3.9037020986645024,
          3.3184622703794475
         ]
        },
        {
         "error_y": {
          "array": [
           0,
           0.11823563735376173,
           0.11391127488845344,
           0.0793021898421983,
           0.0903876907577734,
           0.10956136839295434,
           0
          ],
          "color": "rgb(0,170,80)",
          "type": "data",
          "visible": true
         },
         "line": {
          "color": "rgb(0,100,80)"
         },
         "mode": "lines+markers",
         "name": "Test Data",
         "type": "scatter",
         "x": [
          -1.9084615384615384,
          -0.7883333333333333,
          -0.28647058823529414,
          0.029210526315789458,
          0.3188888888888888,
          0.7157894736842105,
          1.679230769230769
         ],
         "xaxis": "x2",
         "y": [
          0,
          0.3888888888888889,
          0.29411764705882354,
          0.631578947368421,
          0.8333333333333334,
          0.6842105263157895,
          1
         ],
         "yaxis": "y2"
        },
        {
         "error_y": {
          "array": [
           0.002271087415802252,
           0.0032394393978694,
           0.0038303574540189227,
           0.0026274574783025943,
           0.0037060723780011537,
           0.003233570970730528,
           0.0018488028951892622
          ],
          "color": "rgb(0,100,246)",
          "type": "data",
          "visible": true
         },
         "line": {
          "color": "rgb(0,176,246)"
         },
         "mode": "lines+markers",
         "name": "Sim Data",
         "type": "scatter",
         "x": [
          -1.9084615384615384,
          -0.7883333333333333,
          -0.28647058823529414,
          0.029210526315789458,
          0.3188888888888888,
          0.7157894736842105,
          1.679230769230769
         ],
         "xaxis": "x2",
         "y": [
          0.07172734314484895,
          0.24086083213773316,
          0.39080601429627804,
          0.5207457402080107,
          0.6162378767640397,
          0.7412373943853912,
          0.9024816497728068
         ],
         "yaxis": "y2"
        }
       ],
       "layout": {
        "annotations": [
         {
          "showarrow": false,
          "text": "PARAMETERS: v: 0.041, a: 0.192, θ: 0.82",
          "x": 0.01,
          "xref": "paper",
          "y": 1.12,
          "yref": "paper"
         },
         {
          "showarrow": false,
          "text": "MLE: 647.2",
          "x": 0.01,
          "xref": "paper",
          "y": 1.08,
          "yref": "paper"
         },
         {
          "font": {
           "family": "Arial, sans-serif",
           "size": 22
          },
          "showarrow": false,
          "text": "SUBJECT: 15",
          "x": 0.01,
          "xref": "paper",
          "y": 1.2,
          "yref": "paper"
         }
        ],
        "paper_bgcolor": "rgb(255,255,255)",
        "plot_bgcolor": "rgb(229,229,229)",
        "xaxis": {
         "domain": [
          0,
          0.45
         ],
         "gridcolor": "rgb(255,255,255)",
         "range": [
          -2,
          2
         ],
         "showgrid": true,
         "showline": false,
         "showticklabels": true,
         "tickcolor": "rgb(127,127,127)",
         "ticks": "outside",
         "title": "Net Value ($)",
         "zeroline": false
        },
        "xaxis2": {
         "domain": [
          0.55,
          1
         ],
         "gridcolor": "rgb(255,255,255)",
         "range": [
          -2,
          2
         ],
         "showgrid": true,
         "showline": false,
         "showticklabels": true,
         "tickcolor": "rgb(127,127,127)",
         "ticks": "outside",
         "title": "Net Value ($)",
         "zeroline": false
        },
        "yaxis1": {
         "anchor": "x1",
         "gridcolor": "rgb(255,255,255)",
         "range": [
          0
         ],
         "showgrid": true,
         "showline": false,
         "showticklabels": true,
         "tickcolor": "rgb(127,127,127)",
         "ticks": "outside",
         "title": "RT (s)",
         "zeroline": false
        },
        "yaxis2": {
         "anchor": "x2",
         "gridcolor": "rgb(255,255,255)",
         "range": [
          0
         ],
         "showgrid": true,
         "showline": false,
         "showticklabels": true,
         "tickcolor": "rgb(127,127,127)",
         "ticks": "outside",
         "title": "p (accept)",
         "zeroline": false
        }
       }
      },
      "text/html": [
       "<div id=\"2d0e42d7-c15d-43ff-8142-9c28a5cc2168\" style=\"height: 525px; width: 100%;\" class=\"plotly-graph-div\"></div><script type=\"text/javascript\">require([\"plotly\"], function(Plotly) { window.PLOTLYENV=window.PLOTLYENV || {};window.PLOTLYENV.BASE_URL=\"https://plot.ly\";Plotly.newPlot(\"2d0e42d7-c15d-43ff-8142-9c28a5cc2168\", [{\"type\": \"scatter\", \"x\": [-1.9084615384615384, -0.7883333333333333, -0.28647058823529414, 0.029210526315789458, 0.3188888888888888, 0.7157894736842105, 1.679230769230769], \"y\": [2.9552737949953354, 2.3677408923168626, 2.4658561379029003, 2.5238267371215017, 2.289951914292436, 2.5536627034874226, 2.1475658100937896], \"error_y\": {\"type\": \"data\", \"array\": [0.3567010076126107, 0.2103499017404514, 0.23592121519616596, 0.14616530230162392, 0.1637560550610461, 0.20646263968004017, 0.15110877526032843], \"color\": \"rgb(0,170,80)\", \"visible\": true}, \"line\": {\"color\": \"rgb(0,100,80)\"}, \"mode\": \"lines+markers\", \"name\": \"Test Data\"}, {\"type\": \"scatter\", \"x\": [-1.9084615384615384, -0.7883333333333333, -0.28647058823529414, 0.029210526315789458, 0.3188888888888888, 0.7157894736842105, 1.679230769230769], \"y\": [3.153370565453153, 3.883065423242474, 4.042617821050033, 4.089581544589492, 4.051462918868677, 3.9037020986645024, 3.3184622703794475], \"error_y\": {\"type\": \"data\", \"array\": [0.014848317061976663, 0.01587390454555107, 0.017167148053491725, 0.011646708106763938, 0.016509478367933414, 0.015691330602292674, 0.011188990344113879], \"color\": \"rgb(0,100,246)\", \"visible\": true}, \"line\": {\"color\": \"rgb(0,176,246)\"}, \"mode\": \"lines+markers\", \"name\": \"Sim Data\"}, {\"type\": \"scatter\", \"x\": [-1.9084615384615384, -0.7883333333333333, -0.28647058823529414, 0.029210526315789458, 0.3188888888888888, 0.7157894736842105, 1.679230769230769], \"y\": [0.0, 0.3888888888888889, 0.29411764705882354, 0.631578947368421, 0.8333333333333334, 0.6842105263157895, 1.0], \"error_y\": {\"type\": \"data\", \"array\": [0.0, 0.11823563735376173, 0.11391127488845344, 0.0793021898421983, 0.0903876907577734, 0.10956136839295434, 0.0], \"color\": \"rgb(0,170,80)\", \"visible\": true}, \"line\": {\"color\": \"rgb(0,100,80)\"}, \"mode\": \"lines+markers\", \"name\": \"Test Data\", \"xaxis\": \"x2\", \"yaxis\": \"y2\"}, {\"type\": \"scatter\", \"x\": [-1.9084615384615384, -0.7883333333333333, -0.28647058823529414, 0.029210526315789458, 0.3188888888888888, 0.7157894736842105, 1.679230769230769], \"y\": [0.07172734314484895, 0.24086083213773316, 0.39080601429627804, 0.5207457402080107, 0.6162378767640397, 0.7412373943853912, 0.9024816497728068], \"error_y\": {\"type\": \"data\", \"array\": [0.002271087415802252, 0.0032394393978694, 0.0038303574540189227, 0.0026274574783025943, 0.0037060723780011537, 0.003233570970730528, 0.0018488028951892622], \"color\": \"rgb(0,100,246)\", \"visible\": true}, \"line\": {\"color\": \"rgb(0,176,246)\"}, \"mode\": \"lines+markers\", \"name\": \"Sim Data\", \"xaxis\": \"x2\", \"yaxis\": \"y2\"}], {\"paper_bgcolor\": \"rgb(255,255,255)\", \"plot_bgcolor\": \"rgb(229,229,229)\", \"xaxis\": {\"gridcolor\": \"rgb(255,255,255)\", \"range\": [-2, 2], \"domain\": [0, 0.45], \"showgrid\": true, \"showline\": false, \"showticklabels\": true, \"tickcolor\": \"rgb(127,127,127)\", \"ticks\": \"outside\", \"title\": \"Net Value ($)\", \"zeroline\": false}, \"xaxis2\": {\"gridcolor\": \"rgb(255,255,255)\", \"range\": [-2, 2], \"domain\": [0.55, 1], \"showgrid\": true, \"showline\": false, \"showticklabels\": true, \"tickcolor\": \"rgb(127,127,127)\", \"ticks\": \"outside\", \"title\": \"Net Value ($)\", \"zeroline\": false}, \"yaxis1\": {\"gridcolor\": \"rgb(255,255,255)\", \"range\": [0], \"showgrid\": true, \"showline\": false, \"showticklabels\": true, \"tickcolor\": \"rgb(127,127,127)\", \"ticks\": \"outside\", \"title\": \"RT (s)\", \"anchor\": \"x1\", \"zeroline\": false}, \"yaxis2\": {\"gridcolor\": \"rgb(255,255,255)\", \"range\": [0], \"showgrid\": true, \"showline\": false, \"showticklabels\": true, \"tickcolor\": \"rgb(127,127,127)\", \"ticks\": \"outside\", \"title\": \"p (accept)\", \"anchor\": \"x2\", \"zeroline\": false}, \"annotations\": [{\"x\": 0.01, \"y\": 1.12, \"showarrow\": false, \"text\": \"PARAMETERS: v: 0.041, a: 0.192, \\u03b8: 0.82\", \"xref\": \"paper\", \"yref\": \"paper\"}, {\"x\": 0.01, \"y\": 1.08, \"showarrow\": false, \"text\": \"MLE: 647.2\", \"xref\": \"paper\", \"yref\": \"paper\"}, {\"x\": 0.01, \"y\": 1.2, \"showarrow\": false, \"text\": \"SUBJECT: 15\", \"font\": {\"family\": \"Arial, sans-serif\", \"size\": 22}, \"xref\": \"paper\", \"yref\": \"paper\"}]}, {\"showLink\": true, \"linkText\": \"Export to plot.ly\"})});</script>"
      ],
      "text/vnd.plotly.v1+html": [
       "<div id=\"2d0e42d7-c15d-43ff-8142-9c28a5cc2168\" style=\"height: 525px; width: 100%;\" class=\"plotly-graph-div\"></div><script type=\"text/javascript\">require([\"plotly\"], function(Plotly) { window.PLOTLYENV=window.PLOTLYENV || {};window.PLOTLYENV.BASE_URL=\"https://plot.ly\";Plotly.newPlot(\"2d0e42d7-c15d-43ff-8142-9c28a5cc2168\", [{\"type\": \"scatter\", \"x\": [-1.9084615384615384, -0.7883333333333333, -0.28647058823529414, 0.029210526315789458, 0.3188888888888888, 0.7157894736842105, 1.679230769230769], \"y\": [2.9552737949953354, 2.3677408923168626, 2.4658561379029003, 2.5238267371215017, 2.289951914292436, 2.5536627034874226, 2.1475658100937896], \"error_y\": {\"type\": \"data\", \"array\": [0.3567010076126107, 0.2103499017404514, 0.23592121519616596, 0.14616530230162392, 0.1637560550610461, 0.20646263968004017, 0.15110877526032843], \"color\": \"rgb(0,170,80)\", \"visible\": true}, \"line\": {\"color\": \"rgb(0,100,80)\"}, \"mode\": \"lines+markers\", \"name\": \"Test Data\"}, {\"type\": \"scatter\", \"x\": [-1.9084615384615384, -0.7883333333333333, -0.28647058823529414, 0.029210526315789458, 0.3188888888888888, 0.7157894736842105, 1.679230769230769], \"y\": [3.153370565453153, 3.883065423242474, 4.042617821050033, 4.089581544589492, 4.051462918868677, 3.9037020986645024, 3.3184622703794475], \"error_y\": {\"type\": \"data\", \"array\": [0.014848317061976663, 0.01587390454555107, 0.017167148053491725, 0.011646708106763938, 0.016509478367933414, 0.015691330602292674, 0.011188990344113879], \"color\": \"rgb(0,100,246)\", \"visible\": true}, \"line\": {\"color\": \"rgb(0,176,246)\"}, \"mode\": \"lines+markers\", \"name\": \"Sim Data\"}, {\"type\": \"scatter\", \"x\": [-1.9084615384615384, -0.7883333333333333, -0.28647058823529414, 0.029210526315789458, 0.3188888888888888, 0.7157894736842105, 1.679230769230769], \"y\": [0.0, 0.3888888888888889, 0.29411764705882354, 0.631578947368421, 0.8333333333333334, 0.6842105263157895, 1.0], \"error_y\": {\"type\": \"data\", \"array\": [0.0, 0.11823563735376173, 0.11391127488845344, 0.0793021898421983, 0.0903876907577734, 0.10956136839295434, 0.0], \"color\": \"rgb(0,170,80)\", \"visible\": true}, \"line\": {\"color\": \"rgb(0,100,80)\"}, \"mode\": \"lines+markers\", \"name\": \"Test Data\", \"xaxis\": \"x2\", \"yaxis\": \"y2\"}, {\"type\": \"scatter\", \"x\": [-1.9084615384615384, -0.7883333333333333, -0.28647058823529414, 0.029210526315789458, 0.3188888888888888, 0.7157894736842105, 1.679230769230769], \"y\": [0.07172734314484895, 0.24086083213773316, 0.39080601429627804, 0.5207457402080107, 0.6162378767640397, 0.7412373943853912, 0.9024816497728068], \"error_y\": {\"type\": \"data\", \"array\": [0.002271087415802252, 0.0032394393978694, 0.0038303574540189227, 0.0026274574783025943, 0.0037060723780011537, 0.003233570970730528, 0.0018488028951892622], \"color\": \"rgb(0,100,246)\", \"visible\": true}, \"line\": {\"color\": \"rgb(0,176,246)\"}, \"mode\": \"lines+markers\", \"name\": \"Sim Data\", \"xaxis\": \"x2\", \"yaxis\": \"y2\"}], {\"paper_bgcolor\": \"rgb(255,255,255)\", \"plot_bgcolor\": \"rgb(229,229,229)\", \"xaxis\": {\"gridcolor\": \"rgb(255,255,255)\", \"range\": [-2, 2], \"domain\": [0, 0.45], \"showgrid\": true, \"showline\": false, \"showticklabels\": true, \"tickcolor\": \"rgb(127,127,127)\", \"ticks\": \"outside\", \"title\": \"Net Value ($)\", \"zeroline\": false}, \"xaxis2\": {\"gridcolor\": \"rgb(255,255,255)\", \"range\": [-2, 2], \"domain\": [0.55, 1], \"showgrid\": true, \"showline\": false, \"showticklabels\": true, \"tickcolor\": \"rgb(127,127,127)\", \"ticks\": \"outside\", \"title\": \"Net Value ($)\", \"zeroline\": false}, \"yaxis1\": {\"gridcolor\": \"rgb(255,255,255)\", \"range\": [0], \"showgrid\": true, \"showline\": false, \"showticklabels\": true, \"tickcolor\": \"rgb(127,127,127)\", \"ticks\": \"outside\", \"title\": \"RT (s)\", \"anchor\": \"x1\", \"zeroline\": false}, \"yaxis2\": {\"gridcolor\": \"rgb(255,255,255)\", \"range\": [0], \"showgrid\": true, \"showline\": false, \"showticklabels\": true, \"tickcolor\": \"rgb(127,127,127)\", \"ticks\": \"outside\", \"title\": \"p (accept)\", \"anchor\": \"x2\", \"zeroline\": false}, \"annotations\": [{\"x\": 0.01, \"y\": 1.12, \"showarrow\": false, \"text\": \"PARAMETERS: v: 0.041, a: 0.192, \\u03b8: 0.82\", \"xref\": \"paper\", \"yref\": \"paper\"}, {\"x\": 0.01, \"y\": 1.08, \"showarrow\": false, \"text\": \"MLE: 647.2\", \"xref\": \"paper\", \"yref\": \"paper\"}, {\"x\": 0.01, \"y\": 1.2, \"showarrow\": false, \"text\": \"SUBJECT: 15\", \"font\": {\"family\": \"Arial, sans-serif\", \"size\": 22}, \"xref\": \"paper\", \"yref\": \"paper\"}]}, {\"showLink\": true, \"linkText\": \"Export to plot.ly\"})});</script>"
      ]
     },
     "metadata": {},
     "output_type": "display_data"
    },
    {
     "data": {
      "application/vnd.plotly.v1+json": {
       "data": [
        {
         "error_y": {
          "array": [
           0.5155993844089763,
           0.4371406107692443,
           0.42851767156685155,
           0.3827105295676191,
           0.573180326126223,
           0.4453286957032869,
           0.2816722892419483
          ],
          "color": "rgb(0,170,80)",
          "type": "data",
          "visible": true
         },
         "line": {
          "color": "rgb(0,100,80)"
         },
         "mode": "lines+markers",
         "name": "Test Data",
         "type": "scatter",
         "x": [
          -1.596538461538462,
          -0.79375,
          -0.26629629629629636,
          0.03636363636363631,
          0.3371428571428572,
          0.7925000000000001,
          1.5489473684210522
         ],
         "y": [
          3.9572576339246908,
          3.201245195330557,
          4.084760400667114,
          4.246452928061692,
          3.614466961847419,
          3.3151928501989447,
          2.693178288522177
         ]
        },
        {
         "error_y": {
          "array": [
           0.009973299498115458,
           0.016000944904960814,
           0.0136265052493326,
           0.014661729827518349,
           0.01846371726036755,
           0.01438170863796252,
           0.011628457098729613
          ],
          "color": "rgb(0,100,246)",
          "type": "data",
          "visible": true
         },
         "line": {
          "color": "rgb(0,176,246)"
         },
         "mode": "lines+markers",
         "name": "Sim Data",
         "type": "scatter",
         "x": [
          -1.596538461538462,
          -0.79375,
          -0.26629629629629636,
          0.03636363636363631,
          0.3371428571428572,
          0.7925000000000001,
          1.5489473684210522
         ],
         "y": [
          3.024067692426653,
          3.555393777097683,
          4.015756551271697,
          3.8725814687455973,
          3.9032468157583002,
          3.6483454554728194,
          2.918469704185851
         ]
        },
        {
         "error_y": {
          "array": [
           0.038461538461538464,
           0.0625,
           0.07618086585254095,
           0.10729033533674225,
           0.11380392954509881,
           0,
           0.05263157894736841
          ],
          "color": "rgb(0,170,80)",
          "type": "data",
          "visible": true
         },
         "line": {
          "color": "rgb(0,100,80)"
         },
         "mode": "lines+markers",
         "name": "Test Data",
         "type": "scatter",
         "x": [
          -1.596538461538462,
          -0.79375,
          -0.26629629629629636,
          0.03636363636363631,
          0.3371428571428572,
          0.7925000000000001,
          1.5489473684210522
         ],
         "xaxis": "x2",
         "y": [
          0.038461538461538464,
          0.0625,
          0.18518518518518517,
          0.5909090909090909,
          0.7857142857142857,
          1,
          0.9473684210526315
         ],
         "yaxis": "y2"
        },
        {
         "error_y": {
          "array": [
           0.001503046644943841,
           0.003160057102692859,
           0.003028662652043092,
           0.0034291310104813543,
           0.0039266487051061805,
           0.0028852814383192637,
           0.0017918349170469965
          ],
          "color": "rgb(0,100,246)",
          "type": "data",
          "visible": true
         },
         "line": {
          "color": "rgb(0,176,246)"
         },
         "mode": "lines+markers",
         "name": "Sim Data",
         "type": "scatter",
         "x": [
          -1.596538461538462,
          -0.79375,
          -0.26629629629629636,
          0.03636363636363631,
          0.3371428571428572,
          0.7925000000000001,
          1.5489473684210522
         ],
         "xaxis": "x2",
         "y": [
          0.062318784551745464,
          0.19440193828105076,
          0.38894677936011735,
          0.48047482217721044,
          0.7044579383886256,
          0.7946036927471183,
          0.9351219770333915
         ],
         "yaxis": "y2"
        }
       ],
       "layout": {
        "annotations": [
         {
          "showarrow": false,
          "text": "PARAMETERS: v: 0.077, a: 0.192, θ: 0.28",
          "x": 0.01,
          "xref": "paper",
          "y": 1.12,
          "yref": "paper"
         },
         {
          "showarrow": false,
          "text": "MLE: 643.03",
          "x": 0.01,
          "xref": "paper",
          "y": 1.08,
          "yref": "paper"
         },
         {
          "font": {
           "family": "Arial, sans-serif",
           "size": 22
          },
          "showarrow": false,
          "text": "SUBJECT: 16",
          "x": 0.01,
          "xref": "paper",
          "y": 1.2,
          "yref": "paper"
         }
        ],
        "paper_bgcolor": "rgb(255,255,255)",
        "plot_bgcolor": "rgb(229,229,229)",
        "xaxis": {
         "domain": [
          0,
          0.45
         ],
         "gridcolor": "rgb(255,255,255)",
         "range": [
          -2,
          2
         ],
         "showgrid": true,
         "showline": false,
         "showticklabels": true,
         "tickcolor": "rgb(127,127,127)",
         "ticks": "outside",
         "title": "Net Value ($)",
         "zeroline": false
        },
        "xaxis2": {
         "domain": [
          0.55,
          1
         ],
         "gridcolor": "rgb(255,255,255)",
         "range": [
          -2,
          2
         ],
         "showgrid": true,
         "showline": false,
         "showticklabels": true,
         "tickcolor": "rgb(127,127,127)",
         "ticks": "outside",
         "title": "Net Value ($)",
         "zeroline": false
        },
        "yaxis1": {
         "anchor": "x1",
         "gridcolor": "rgb(255,255,255)",
         "range": [
          0
         ],
         "showgrid": true,
         "showline": false,
         "showticklabels": true,
         "tickcolor": "rgb(127,127,127)",
         "ticks": "outside",
         "title": "RT (s)",
         "zeroline": false
        },
        "yaxis2": {
         "anchor": "x2",
         "gridcolor": "rgb(255,255,255)",
         "range": [
          0
         ],
         "showgrid": true,
         "showline": false,
         "showticklabels": true,
         "tickcolor": "rgb(127,127,127)",
         "ticks": "outside",
         "title": "p (accept)",
         "zeroline": false
        }
       }
      },
      "text/html": [
       "<div id=\"aee2c3c4-1a26-4d8f-9d39-084e049ca4f4\" style=\"height: 525px; width: 100%;\" class=\"plotly-graph-div\"></div><script type=\"text/javascript\">require([\"plotly\"], function(Plotly) { window.PLOTLYENV=window.PLOTLYENV || {};window.PLOTLYENV.BASE_URL=\"https://plot.ly\";Plotly.newPlot(\"aee2c3c4-1a26-4d8f-9d39-084e049ca4f4\", [{\"type\": \"scatter\", \"x\": [-1.596538461538462, -0.79375, -0.26629629629629636, 0.03636363636363631, 0.3371428571428572, 0.7925000000000001, 1.5489473684210522], \"y\": [3.9572576339246908, 3.201245195330557, 4.084760400667114, 4.246452928061692, 3.614466961847419, 3.3151928501989447, 2.693178288522177], \"error_y\": {\"type\": \"data\", \"array\": [0.5155993844089763, 0.4371406107692443, 0.42851767156685155, 0.3827105295676191, 0.573180326126223, 0.4453286957032869, 0.2816722892419483], \"color\": \"rgb(0,170,80)\", \"visible\": true}, \"line\": {\"color\": \"rgb(0,100,80)\"}, \"mode\": \"lines+markers\", \"name\": \"Test Data\"}, {\"type\": \"scatter\", \"x\": [-1.596538461538462, -0.79375, -0.26629629629629636, 0.03636363636363631, 0.3371428571428572, 0.7925000000000001, 1.5489473684210522], \"y\": [3.024067692426653, 3.555393777097683, 4.015756551271697, 3.8725814687455973, 3.9032468157583002, 3.6483454554728194, 2.918469704185851], \"error_y\": {\"type\": \"data\", \"array\": [0.009973299498115458, 0.016000944904960814, 0.0136265052493326, 0.014661729827518349, 0.01846371726036755, 0.01438170863796252, 0.011628457098729613], \"color\": \"rgb(0,100,246)\", \"visible\": true}, \"line\": {\"color\": \"rgb(0,176,246)\"}, \"mode\": \"lines+markers\", \"name\": \"Sim Data\"}, {\"type\": \"scatter\", \"x\": [-1.596538461538462, -0.79375, -0.26629629629629636, 0.03636363636363631, 0.3371428571428572, 0.7925000000000001, 1.5489473684210522], \"y\": [0.038461538461538464, 0.0625, 0.18518518518518517, 0.5909090909090909, 0.7857142857142857, 1.0, 0.9473684210526315], \"error_y\": {\"type\": \"data\", \"array\": [0.038461538461538464, 0.0625, 0.07618086585254095, 0.10729033533674225, 0.11380392954509881, 0.0, 0.05263157894736841], \"color\": \"rgb(0,170,80)\", \"visible\": true}, \"line\": {\"color\": \"rgb(0,100,80)\"}, \"mode\": \"lines+markers\", \"name\": \"Test Data\", \"xaxis\": \"x2\", \"yaxis\": \"y2\"}, {\"type\": \"scatter\", \"x\": [-1.596538461538462, -0.79375, -0.26629629629629636, 0.03636363636363631, 0.3371428571428572, 0.7925000000000001, 1.5489473684210522], \"y\": [0.062318784551745464, 0.19440193828105076, 0.38894677936011735, 0.48047482217721044, 0.7044579383886256, 0.7946036927471183, 0.9351219770333915], \"error_y\": {\"type\": \"data\", \"array\": [0.001503046644943841, 0.003160057102692859, 0.003028662652043092, 0.0034291310104813543, 0.0039266487051061805, 0.0028852814383192637, 0.0017918349170469965], \"color\": \"rgb(0,100,246)\", \"visible\": true}, \"line\": {\"color\": \"rgb(0,176,246)\"}, \"mode\": \"lines+markers\", \"name\": \"Sim Data\", \"xaxis\": \"x2\", \"yaxis\": \"y2\"}], {\"paper_bgcolor\": \"rgb(255,255,255)\", \"plot_bgcolor\": \"rgb(229,229,229)\", \"xaxis\": {\"gridcolor\": \"rgb(255,255,255)\", \"range\": [-2, 2], \"domain\": [0, 0.45], \"showgrid\": true, \"showline\": false, \"showticklabels\": true, \"tickcolor\": \"rgb(127,127,127)\", \"ticks\": \"outside\", \"title\": \"Net Value ($)\", \"zeroline\": false}, \"xaxis2\": {\"gridcolor\": \"rgb(255,255,255)\", \"range\": [-2, 2], \"domain\": [0.55, 1], \"showgrid\": true, \"showline\": false, \"showticklabels\": true, \"tickcolor\": \"rgb(127,127,127)\", \"ticks\": \"outside\", \"title\": \"Net Value ($)\", \"zeroline\": false}, \"yaxis1\": {\"gridcolor\": \"rgb(255,255,255)\", \"range\": [0], \"showgrid\": true, \"showline\": false, \"showticklabels\": true, \"tickcolor\": \"rgb(127,127,127)\", \"ticks\": \"outside\", \"title\": \"RT (s)\", \"anchor\": \"x1\", \"zeroline\": false}, \"yaxis2\": {\"gridcolor\": \"rgb(255,255,255)\", \"range\": [0], \"showgrid\": true, \"showline\": false, \"showticklabels\": true, \"tickcolor\": \"rgb(127,127,127)\", \"ticks\": \"outside\", \"title\": \"p (accept)\", \"anchor\": \"x2\", \"zeroline\": false}, \"annotations\": [{\"x\": 0.01, \"y\": 1.12, \"showarrow\": false, \"text\": \"PARAMETERS: v: 0.077, a: 0.192, \\u03b8: 0.28\", \"xref\": \"paper\", \"yref\": \"paper\"}, {\"x\": 0.01, \"y\": 1.08, \"showarrow\": false, \"text\": \"MLE: 643.03\", \"xref\": \"paper\", \"yref\": \"paper\"}, {\"x\": 0.01, \"y\": 1.2, \"showarrow\": false, \"text\": \"SUBJECT: 16\", \"font\": {\"family\": \"Arial, sans-serif\", \"size\": 22}, \"xref\": \"paper\", \"yref\": \"paper\"}]}, {\"showLink\": true, \"linkText\": \"Export to plot.ly\"})});</script>"
      ],
      "text/vnd.plotly.v1+html": [
       "<div id=\"aee2c3c4-1a26-4d8f-9d39-084e049ca4f4\" style=\"height: 525px; width: 100%;\" class=\"plotly-graph-div\"></div><script type=\"text/javascript\">require([\"plotly\"], function(Plotly) { window.PLOTLYENV=window.PLOTLYENV || {};window.PLOTLYENV.BASE_URL=\"https://plot.ly\";Plotly.newPlot(\"aee2c3c4-1a26-4d8f-9d39-084e049ca4f4\", [{\"type\": \"scatter\", \"x\": [-1.596538461538462, -0.79375, -0.26629629629629636, 0.03636363636363631, 0.3371428571428572, 0.7925000000000001, 1.5489473684210522], \"y\": [3.9572576339246908, 3.201245195330557, 4.084760400667114, 4.246452928061692, 3.614466961847419, 3.3151928501989447, 2.693178288522177], \"error_y\": {\"type\": \"data\", \"array\": [0.5155993844089763, 0.4371406107692443, 0.42851767156685155, 0.3827105295676191, 0.573180326126223, 0.4453286957032869, 0.2816722892419483], \"color\": \"rgb(0,170,80)\", \"visible\": true}, \"line\": {\"color\": \"rgb(0,100,80)\"}, \"mode\": \"lines+markers\", \"name\": \"Test Data\"}, {\"type\": \"scatter\", \"x\": [-1.596538461538462, -0.79375, -0.26629629629629636, 0.03636363636363631, 0.3371428571428572, 0.7925000000000001, 1.5489473684210522], \"y\": [3.024067692426653, 3.555393777097683, 4.015756551271697, 3.8725814687455973, 3.9032468157583002, 3.6483454554728194, 2.918469704185851], \"error_y\": {\"type\": \"data\", \"array\": [0.009973299498115458, 0.016000944904960814, 0.0136265052493326, 0.014661729827518349, 0.01846371726036755, 0.01438170863796252, 0.011628457098729613], \"color\": \"rgb(0,100,246)\", \"visible\": true}, \"line\": {\"color\": \"rgb(0,176,246)\"}, \"mode\": \"lines+markers\", \"name\": \"Sim Data\"}, {\"type\": \"scatter\", \"x\": [-1.596538461538462, -0.79375, -0.26629629629629636, 0.03636363636363631, 0.3371428571428572, 0.7925000000000001, 1.5489473684210522], \"y\": [0.038461538461538464, 0.0625, 0.18518518518518517, 0.5909090909090909, 0.7857142857142857, 1.0, 0.9473684210526315], \"error_y\": {\"type\": \"data\", \"array\": [0.038461538461538464, 0.0625, 0.07618086585254095, 0.10729033533674225, 0.11380392954509881, 0.0, 0.05263157894736841], \"color\": \"rgb(0,170,80)\", \"visible\": true}, \"line\": {\"color\": \"rgb(0,100,80)\"}, \"mode\": \"lines+markers\", \"name\": \"Test Data\", \"xaxis\": \"x2\", \"yaxis\": \"y2\"}, {\"type\": \"scatter\", \"x\": [-1.596538461538462, -0.79375, -0.26629629629629636, 0.03636363636363631, 0.3371428571428572, 0.7925000000000001, 1.5489473684210522], \"y\": [0.062318784551745464, 0.19440193828105076, 0.38894677936011735, 0.48047482217721044, 0.7044579383886256, 0.7946036927471183, 0.9351219770333915], \"error_y\": {\"type\": \"data\", \"array\": [0.001503046644943841, 0.003160057102692859, 0.003028662652043092, 0.0034291310104813543, 0.0039266487051061805, 0.0028852814383192637, 0.0017918349170469965], \"color\": \"rgb(0,100,246)\", \"visible\": true}, \"line\": {\"color\": \"rgb(0,176,246)\"}, \"mode\": \"lines+markers\", \"name\": \"Sim Data\", \"xaxis\": \"x2\", \"yaxis\": \"y2\"}], {\"paper_bgcolor\": \"rgb(255,255,255)\", \"plot_bgcolor\": \"rgb(229,229,229)\", \"xaxis\": {\"gridcolor\": \"rgb(255,255,255)\", \"range\": [-2, 2], \"domain\": [0, 0.45], \"showgrid\": true, \"showline\": false, \"showticklabels\": true, \"tickcolor\": \"rgb(127,127,127)\", \"ticks\": \"outside\", \"title\": \"Net Value ($)\", \"zeroline\": false}, \"xaxis2\": {\"gridcolor\": \"rgb(255,255,255)\", \"range\": [-2, 2], \"domain\": [0.55, 1], \"showgrid\": true, \"showline\": false, \"showticklabels\": true, \"tickcolor\": \"rgb(127,127,127)\", \"ticks\": \"outside\", \"title\": \"Net Value ($)\", \"zeroline\": false}, \"yaxis1\": {\"gridcolor\": \"rgb(255,255,255)\", \"range\": [0], \"showgrid\": true, \"showline\": false, \"showticklabels\": true, \"tickcolor\": \"rgb(127,127,127)\", \"ticks\": \"outside\", \"title\": \"RT (s)\", \"anchor\": \"x1\", \"zeroline\": false}, \"yaxis2\": {\"gridcolor\": \"rgb(255,255,255)\", \"range\": [0], \"showgrid\": true, \"showline\": false, \"showticklabels\": true, \"tickcolor\": \"rgb(127,127,127)\", \"ticks\": \"outside\", \"title\": \"p (accept)\", \"anchor\": \"x2\", \"zeroline\": false}, \"annotations\": [{\"x\": 0.01, \"y\": 1.12, \"showarrow\": false, \"text\": \"PARAMETERS: v: 0.077, a: 0.192, \\u03b8: 0.28\", \"xref\": \"paper\", \"yref\": \"paper\"}, {\"x\": 0.01, \"y\": 1.08, \"showarrow\": false, \"text\": \"MLE: 643.03\", \"xref\": \"paper\", \"yref\": \"paper\"}, {\"x\": 0.01, \"y\": 1.2, \"showarrow\": false, \"text\": \"SUBJECT: 16\", \"font\": {\"family\": \"Arial, sans-serif\", \"size\": 22}, \"xref\": \"paper\", \"yref\": \"paper\"}]}, {\"showLink\": true, \"linkText\": \"Export to plot.ly\"})});</script>"
      ]
     },
     "metadata": {},
     "output_type": "display_data"
    },
    {
     "data": {
      "application/vnd.plotly.v1+json": {
       "data": [
        {
         "error_y": {
          "array": [
           0.3186301028894171,
           0.33573353920319327,
           0.5125059552199829,
           0.2558821801821235,
           0.31212419771003,
           0.3220052859472622,
           0.060707629484974435
          ],
          "color": "rgb(0,170,80)",
          "type": "data",
          "visible": true
         },
         "line": {
          "color": "rgb(0,100,80)"
         },
         "mode": "lines+markers",
         "name": "Test Data",
         "type": "scatter",
         "x": [
          -1.8164285714285715,
          -0.763181818181818,
          -0.3170588235294118,
          0.023181818181818147,
          0.324,
          0.8175000000000001,
          1.630434782608696
         ],
         "y": [
          2.088870704373611,
          2.7569758453887934,
          3.795318903062519,
          2.4751631152890194,
          2.5676745259319445,
          2.361632085216116,
          1.311077429497938
         ]
        },
        {
         "error_y": {
          "array": [
           0.006638690049726952,
           0.009335800318280867,
           0.011259643453361477,
           0.01008119999315805,
           0.010277654373819823,
           0.010921653610622556,
           0.0076428789830461355
          ],
          "color": "rgb(0,100,246)",
          "type": "data",
          "visible": true
         },
         "line": {
          "color": "rgb(0,176,246)"
         },
         "mode": "lines+markers",
         "name": "Sim Data",
         "type": "scatter",
         "x": [
          -1.8164285714285715,
          -0.763181818181818,
          -0.3170588235294118,
          0.023181818181818147,
          0.324,
          0.8175000000000001,
          1.630434782608696
         ],
         "y": [
          2.2194706911948536,
          2.553076993083358,
          2.6356237775421367,
          2.672185105898419,
          2.6321892960849116,
          2.5431422136019766,
          2.2870348442665835
         ]
        },
        {
         "error_y": {
          "array": [
           0,
           0.04545454545454545,
           0.11947115300935236,
           0.1049727762162956,
           0.08191780219091252,
           0,
           0
          ],
          "color": "rgb(0,170,80)",
          "type": "data",
          "visible": true
         },
         "line": {
          "color": "rgb(0,100,80)"
         },
         "mode": "lines+markers",
         "name": "Test Data",
         "type": "scatter",
         "x": [
          -1.8164285714285715,
          -0.763181818181818,
          -0.3170588235294118,
          0.023181818181818147,
          0.324,
          0.8175000000000001,
          1.630434782608696
         ],
         "xaxis": "x2",
         "y": [
          0,
          0.045454545454545456,
          0.35294117647058826,
          0.6363636363636364,
          0.85,
          1,
          1
         ],
         "yaxis": "y2"
        },
        {
         "error_y": {
          "array": [
           0.0020143847301955066,
           0.00308311622131265,
           0.0037667796010044815,
           0.003373643329009244,
           0.0034808898565479155,
           0.0035647975341321055,
           0.0023389253171389045
          ],
          "color": "rgb(0,100,246)",
          "type": "data",
          "visible": true
         },
         "line": {
          "color": "rgb(0,176,246)"
         },
         "mode": "lines+markers",
         "name": "Sim Data",
         "type": "scatter",
         "x": [
          -1.8164285714285715,
          -0.763181818181818,
          -0.3170588235294118,
          0.023181818181818147,
          0.324,
          0.8175000000000001,
          1.630434782608696
         ],
         "xaxis": "x2",
         "y": [
          0.13066619039114127,
          0.297233345467783,
          0.4042064333686815,
          0.511455249373719,
          0.5894162411134475,
          0.7165738597259589,
          0.8524882547416043
         ],
         "yaxis": "y2"
        }
       ],
       "layout": {
        "annotations": [
         {
          "showarrow": false,
          "text": "PARAMETERS: v: 0.041, a: 0.135, θ: 1.0",
          "x": 0.01,
          "xref": "paper",
          "y": 1.12,
          "yref": "paper"
         },
         {
          "showarrow": false,
          "text": "MLE: 627.04",
          "x": 0.01,
          "xref": "paper",
          "y": 1.08,
          "yref": "paper"
         },
         {
          "font": {
           "family": "Arial, sans-serif",
           "size": 22
          },
          "showarrow": false,
          "text": "SUBJECT: 17",
          "x": 0.01,
          "xref": "paper",
          "y": 1.2,
          "yref": "paper"
         }
        ],
        "paper_bgcolor": "rgb(255,255,255)",
        "plot_bgcolor": "rgb(229,229,229)",
        "xaxis": {
         "domain": [
          0,
          0.45
         ],
         "gridcolor": "rgb(255,255,255)",
         "range": [
          -2,
          2
         ],
         "showgrid": true,
         "showline": false,
         "showticklabels": true,
         "tickcolor": "rgb(127,127,127)",
         "ticks": "outside",
         "title": "Net Value ($)",
         "zeroline": false
        },
        "xaxis2": {
         "domain": [
          0.55,
          1
         ],
         "gridcolor": "rgb(255,255,255)",
         "range": [
          -2,
          2
         ],
         "showgrid": true,
         "showline": false,
         "showticklabels": true,
         "tickcolor": "rgb(127,127,127)",
         "ticks": "outside",
         "title": "Net Value ($)",
         "zeroline": false
        },
        "yaxis1": {
         "anchor": "x1",
         "gridcolor": "rgb(255,255,255)",
         "range": [
          0
         ],
         "showgrid": true,
         "showline": false,
         "showticklabels": true,
         "tickcolor": "rgb(127,127,127)",
         "ticks": "outside",
         "title": "RT (s)",
         "zeroline": false
        },
        "yaxis2": {
         "anchor": "x2",
         "gridcolor": "rgb(255,255,255)",
         "range": [
          0
         ],
         "showgrid": true,
         "showline": false,
         "showticklabels": true,
         "tickcolor": "rgb(127,127,127)",
         "ticks": "outside",
         "title": "p (accept)",
         "zeroline": false
        }
       }
      },
      "text/html": [
       "<div id=\"486bdff5-5898-485c-b5d7-3246c67d6a49\" style=\"height: 525px; width: 100%;\" class=\"plotly-graph-div\"></div><script type=\"text/javascript\">require([\"plotly\"], function(Plotly) { window.PLOTLYENV=window.PLOTLYENV || {};window.PLOTLYENV.BASE_URL=\"https://plot.ly\";Plotly.newPlot(\"486bdff5-5898-485c-b5d7-3246c67d6a49\", [{\"type\": \"scatter\", \"x\": [-1.8164285714285715, -0.763181818181818, -0.3170588235294118, 0.023181818181818147, 0.324, 0.8175000000000001, 1.630434782608696], \"y\": [2.088870704373611, 2.7569758453887934, 3.795318903062519, 2.4751631152890194, 2.5676745259319445, 2.361632085216116, 1.311077429497938], \"error_y\": {\"type\": \"data\", \"array\": [0.3186301028894171, 0.33573353920319327, 0.5125059552199829, 0.2558821801821235, 0.31212419771003, 0.3220052859472622, 0.060707629484974435], \"color\": \"rgb(0,170,80)\", \"visible\": true}, \"line\": {\"color\": \"rgb(0,100,80)\"}, \"mode\": \"lines+markers\", \"name\": \"Test Data\"}, {\"type\": \"scatter\", \"x\": [-1.8164285714285715, -0.763181818181818, -0.3170588235294118, 0.023181818181818147, 0.324, 0.8175000000000001, 1.630434782608696], \"y\": [2.2194706911948536, 2.553076993083358, 2.6356237775421367, 2.672185105898419, 2.6321892960849116, 2.5431422136019766, 2.2870348442665835], \"error_y\": {\"type\": \"data\", \"array\": [0.006638690049726952, 0.009335800318280867, 0.011259643453361477, 0.01008119999315805, 0.010277654373819823, 0.010921653610622556, 0.0076428789830461355], \"color\": \"rgb(0,100,246)\", \"visible\": true}, \"line\": {\"color\": \"rgb(0,176,246)\"}, \"mode\": \"lines+markers\", \"name\": \"Sim Data\"}, {\"type\": \"scatter\", \"x\": [-1.8164285714285715, -0.763181818181818, -0.3170588235294118, 0.023181818181818147, 0.324, 0.8175000000000001, 1.630434782608696], \"y\": [0.0, 0.045454545454545456, 0.35294117647058826, 0.6363636363636364, 0.85, 1.0, 1.0], \"error_y\": {\"type\": \"data\", \"array\": [0.0, 0.04545454545454545, 0.11947115300935236, 0.1049727762162956, 0.08191780219091252, 0.0, 0.0], \"color\": \"rgb(0,170,80)\", \"visible\": true}, \"line\": {\"color\": \"rgb(0,100,80)\"}, \"mode\": \"lines+markers\", \"name\": \"Test Data\", \"xaxis\": \"x2\", \"yaxis\": \"y2\"}, {\"type\": \"scatter\", \"x\": [-1.8164285714285715, -0.763181818181818, -0.3170588235294118, 0.023181818181818147, 0.324, 0.8175000000000001, 1.630434782608696], \"y\": [0.13066619039114127, 0.297233345467783, 0.4042064333686815, 0.511455249373719, 0.5894162411134475, 0.7165738597259589, 0.8524882547416043], \"error_y\": {\"type\": \"data\", \"array\": [0.0020143847301955066, 0.00308311622131265, 0.0037667796010044815, 0.003373643329009244, 0.0034808898565479155, 0.0035647975341321055, 0.0023389253171389045], \"color\": \"rgb(0,100,246)\", \"visible\": true}, \"line\": {\"color\": \"rgb(0,176,246)\"}, \"mode\": \"lines+markers\", \"name\": \"Sim Data\", \"xaxis\": \"x2\", \"yaxis\": \"y2\"}], {\"paper_bgcolor\": \"rgb(255,255,255)\", \"plot_bgcolor\": \"rgb(229,229,229)\", \"xaxis\": {\"gridcolor\": \"rgb(255,255,255)\", \"range\": [-2, 2], \"domain\": [0, 0.45], \"showgrid\": true, \"showline\": false, \"showticklabels\": true, \"tickcolor\": \"rgb(127,127,127)\", \"ticks\": \"outside\", \"title\": \"Net Value ($)\", \"zeroline\": false}, \"xaxis2\": {\"gridcolor\": \"rgb(255,255,255)\", \"range\": [-2, 2], \"domain\": [0.55, 1], \"showgrid\": true, \"showline\": false, \"showticklabels\": true, \"tickcolor\": \"rgb(127,127,127)\", \"ticks\": \"outside\", \"title\": \"Net Value ($)\", \"zeroline\": false}, \"yaxis1\": {\"gridcolor\": \"rgb(255,255,255)\", \"range\": [0], \"showgrid\": true, \"showline\": false, \"showticklabels\": true, \"tickcolor\": \"rgb(127,127,127)\", \"ticks\": \"outside\", \"title\": \"RT (s)\", \"anchor\": \"x1\", \"zeroline\": false}, \"yaxis2\": {\"gridcolor\": \"rgb(255,255,255)\", \"range\": [0], \"showgrid\": true, \"showline\": false, \"showticklabels\": true, \"tickcolor\": \"rgb(127,127,127)\", \"ticks\": \"outside\", \"title\": \"p (accept)\", \"anchor\": \"x2\", \"zeroline\": false}, \"annotations\": [{\"x\": 0.01, \"y\": 1.12, \"showarrow\": false, \"text\": \"PARAMETERS: v: 0.041, a: 0.135, \\u03b8: 1.0\", \"xref\": \"paper\", \"yref\": \"paper\"}, {\"x\": 0.01, \"y\": 1.08, \"showarrow\": false, \"text\": \"MLE: 627.04\", \"xref\": \"paper\", \"yref\": \"paper\"}, {\"x\": 0.01, \"y\": 1.2, \"showarrow\": false, \"text\": \"SUBJECT: 17\", \"font\": {\"family\": \"Arial, sans-serif\", \"size\": 22}, \"xref\": \"paper\", \"yref\": \"paper\"}]}, {\"showLink\": true, \"linkText\": \"Export to plot.ly\"})});</script>"
      ],
      "text/vnd.plotly.v1+html": [
       "<div id=\"486bdff5-5898-485c-b5d7-3246c67d6a49\" style=\"height: 525px; width: 100%;\" class=\"plotly-graph-div\"></div><script type=\"text/javascript\">require([\"plotly\"], function(Plotly) { window.PLOTLYENV=window.PLOTLYENV || {};window.PLOTLYENV.BASE_URL=\"https://plot.ly\";Plotly.newPlot(\"486bdff5-5898-485c-b5d7-3246c67d6a49\", [{\"type\": \"scatter\", \"x\": [-1.8164285714285715, -0.763181818181818, -0.3170588235294118, 0.023181818181818147, 0.324, 0.8175000000000001, 1.630434782608696], \"y\": [2.088870704373611, 2.7569758453887934, 3.795318903062519, 2.4751631152890194, 2.5676745259319445, 2.361632085216116, 1.311077429497938], \"error_y\": {\"type\": \"data\", \"array\": [0.3186301028894171, 0.33573353920319327, 0.5125059552199829, 0.2558821801821235, 0.31212419771003, 0.3220052859472622, 0.060707629484974435], \"color\": \"rgb(0,170,80)\", \"visible\": true}, \"line\": {\"color\": \"rgb(0,100,80)\"}, \"mode\": \"lines+markers\", \"name\": \"Test Data\"}, {\"type\": \"scatter\", \"x\": [-1.8164285714285715, -0.763181818181818, -0.3170588235294118, 0.023181818181818147, 0.324, 0.8175000000000001, 1.630434782608696], \"y\": [2.2194706911948536, 2.553076993083358, 2.6356237775421367, 2.672185105898419, 2.6321892960849116, 2.5431422136019766, 2.2870348442665835], \"error_y\": {\"type\": \"data\", \"array\": [0.006638690049726952, 0.009335800318280867, 0.011259643453361477, 0.01008119999315805, 0.010277654373819823, 0.010921653610622556, 0.0076428789830461355], \"color\": \"rgb(0,100,246)\", \"visible\": true}, \"line\": {\"color\": \"rgb(0,176,246)\"}, \"mode\": \"lines+markers\", \"name\": \"Sim Data\"}, {\"type\": \"scatter\", \"x\": [-1.8164285714285715, -0.763181818181818, -0.3170588235294118, 0.023181818181818147, 0.324, 0.8175000000000001, 1.630434782608696], \"y\": [0.0, 0.045454545454545456, 0.35294117647058826, 0.6363636363636364, 0.85, 1.0, 1.0], \"error_y\": {\"type\": \"data\", \"array\": [0.0, 0.04545454545454545, 0.11947115300935236, 0.1049727762162956, 0.08191780219091252, 0.0, 0.0], \"color\": \"rgb(0,170,80)\", \"visible\": true}, \"line\": {\"color\": \"rgb(0,100,80)\"}, \"mode\": \"lines+markers\", \"name\": \"Test Data\", \"xaxis\": \"x2\", \"yaxis\": \"y2\"}, {\"type\": \"scatter\", \"x\": [-1.8164285714285715, -0.763181818181818, -0.3170588235294118, 0.023181818181818147, 0.324, 0.8175000000000001, 1.630434782608696], \"y\": [0.13066619039114127, 0.297233345467783, 0.4042064333686815, 0.511455249373719, 0.5894162411134475, 0.7165738597259589, 0.8524882547416043], \"error_y\": {\"type\": \"data\", \"array\": [0.0020143847301955066, 0.00308311622131265, 0.0037667796010044815, 0.003373643329009244, 0.0034808898565479155, 0.0035647975341321055, 0.0023389253171389045], \"color\": \"rgb(0,100,246)\", \"visible\": true}, \"line\": {\"color\": \"rgb(0,176,246)\"}, \"mode\": \"lines+markers\", \"name\": \"Sim Data\", \"xaxis\": \"x2\", \"yaxis\": \"y2\"}], {\"paper_bgcolor\": \"rgb(255,255,255)\", \"plot_bgcolor\": \"rgb(229,229,229)\", \"xaxis\": {\"gridcolor\": \"rgb(255,255,255)\", \"range\": [-2, 2], \"domain\": [0, 0.45], \"showgrid\": true, \"showline\": false, \"showticklabels\": true, \"tickcolor\": \"rgb(127,127,127)\", \"ticks\": \"outside\", \"title\": \"Net Value ($)\", \"zeroline\": false}, \"xaxis2\": {\"gridcolor\": \"rgb(255,255,255)\", \"range\": [-2, 2], \"domain\": [0.55, 1], \"showgrid\": true, \"showline\": false, \"showticklabels\": true, \"tickcolor\": \"rgb(127,127,127)\", \"ticks\": \"outside\", \"title\": \"Net Value ($)\", \"zeroline\": false}, \"yaxis1\": {\"gridcolor\": \"rgb(255,255,255)\", \"range\": [0], \"showgrid\": true, \"showline\": false, \"showticklabels\": true, \"tickcolor\": \"rgb(127,127,127)\", \"ticks\": \"outside\", \"title\": \"RT (s)\", \"anchor\": \"x1\", \"zeroline\": false}, \"yaxis2\": {\"gridcolor\": \"rgb(255,255,255)\", \"range\": [0], \"showgrid\": true, \"showline\": false, \"showticklabels\": true, \"tickcolor\": \"rgb(127,127,127)\", \"ticks\": \"outside\", \"title\": \"p (accept)\", \"anchor\": \"x2\", \"zeroline\": false}, \"annotations\": [{\"x\": 0.01, \"y\": 1.12, \"showarrow\": false, \"text\": \"PARAMETERS: v: 0.041, a: 0.135, \\u03b8: 1.0\", \"xref\": \"paper\", \"yref\": \"paper\"}, {\"x\": 0.01, \"y\": 1.08, \"showarrow\": false, \"text\": \"MLE: 627.04\", \"xref\": \"paper\", \"yref\": \"paper\"}, {\"x\": 0.01, \"y\": 1.2, \"showarrow\": false, \"text\": \"SUBJECT: 17\", \"font\": {\"family\": \"Arial, sans-serif\", \"size\": 22}, \"xref\": \"paper\", \"yref\": \"paper\"}]}, {\"showLink\": true, \"linkText\": \"Export to plot.ly\"})});</script>"
      ]
     },
     "metadata": {},
     "output_type": "display_data"
    },
    {
     "data": {
      "application/vnd.plotly.v1+json": {
       "data": [
        {
         "error_y": {
          "array": [
           0.3680509445291431,
           0.5755129816209081,
           0.38509362436182015,
           0.4491275041257742,
           0.852034916485681,
           0.5095410975414276,
           0.7068623972539727
          ],
          "color": "rgb(0,170,80)",
          "type": "data",
          "visible": true
         },
         "line": {
          "color": "rgb(0,100,80)"
         },
         "mode": "lines+markers",
         "name": "Test Data",
         "type": "scatter",
         "x": [
          -1.772083333333333,
          -0.8838461538461537,
          -0.33421052631578957,
          0.024333333333333297,
          0.3725,
          0.8125000000000002,
          1.83
         ],
         "y": [
          4.605736603489882,
          3.8519637532299393,
          5.324609208156624,
          5.217001316884611,
          5.507023673424556,
          4.792930399005855,
          4.728539617575007
         ]
        },
        {
         "error_y": {
          "array": [
           0.012961558199510595,
           0.022105543018846308,
           0.020641282123177528,
           0.01671659366931083,
           0.031866018447241067,
           0.01983961497554475,
           0.019391287731293387
          ],
          "color": "rgb(0,100,246)",
          "type": "data",
          "visible": true
         },
         "line": {
          "color": "rgb(0,176,246)"
         },
         "mode": "lines+markers",
         "name": "Sim Data",
         "type": "scatter",
         "x": [
          -1.772083333333333,
          -0.8838461538461537,
          -0.33421052631578957,
          0.024333333333333297,
          0.3725,
          0.8125000000000002,
          1.83
         ],
         "y": [
          4.173535711197574,
          5.29054593510754,
          5.7848129241664035,
          5.68771352263145,
          5.838171159985805,
          5.3335288597601584,
          4.057812737544911
         ]
        },
        {
         "error_y": {
          "array": [
           0,
           0,
           0.09609167675529229,
           0.08509629433967632,
           0.1889822365046136,
           0.11180339887498951,
           0.09999999999999999
          ],
          "color": "rgb(0,170,80)",
          "type": "data",
          "visible": true
         },
         "line": {
          "color": "rgb(0,100,80)"
         },
         "mode": "lines+markers",
         "name": "Test Data",
         "type": "scatter",
         "x": [
          -1.772083333333333,
          -0.8838461538461537,
          -0.33421052631578957,
          0.024333333333333297,
          0.3725,
          0.8125000000000002,
          1.83
         ],
         "xaxis": "x2",
         "y": [
          0,
          0,
          0.21052631578947367,
          0.3,
          0.5,
          0.75,
          0.9
         ],
         "yaxis": "y2"
        },
        {
         "error_y": {
          "array": [
           0.0007536993625025047,
           0.0025329553437029367,
           0.0037199428281231486,
           0.003418846512690772,
           0.005857803421960669,
           0.002346155117648381,
           0.0009263102132156866
          ],
          "color": "rgb(0,100,246)",
          "type": "data",
          "visible": true
         },
         "line": {
          "color": "rgb(0,176,246)"
         },
         "mode": "lines+markers",
         "name": "Sim Data",
         "type": "scatter",
         "x": [
          -1.772083333333333,
          -0.8838461538461537,
          -0.33421052631578957,
          0.024333333333333297,
          0.3725,
          0.8125000000000002,
          1.83
         ],
         "xaxis": "x2",
         "y": [
          0.013316039775183744,
          0.07619394823186293,
          0.2501475361463559,
          0.5235685502764502,
          0.7378503015253636,
          0.9196395322856931,
          0.9915767847971237
         ],
         "yaxis": "y2"
        }
       ],
       "layout": {
        "annotations": [
         {
          "showarrow": false,
          "text": "PARAMETERS: v: 0.077, a: 0.306, θ: 0.28",
          "x": 0.01,
          "xref": "paper",
          "y": 1.12,
          "yref": "paper"
         },
         {
          "showarrow": false,
          "text": "MLE: 540.85",
          "x": 0.01,
          "xref": "paper",
          "y": 1.08,
          "yref": "paper"
         },
         {
          "font": {
           "family": "Arial, sans-serif",
           "size": 22
          },
          "showarrow": false,
          "text": "SUBJECT: 18",
          "x": 0.01,
          "xref": "paper",
          "y": 1.2,
          "yref": "paper"
         }
        ],
        "paper_bgcolor": "rgb(255,255,255)",
        "plot_bgcolor": "rgb(229,229,229)",
        "xaxis": {
         "domain": [
          0,
          0.45
         ],
         "gridcolor": "rgb(255,255,255)",
         "range": [
          -2,
          2
         ],
         "showgrid": true,
         "showline": false,
         "showticklabels": true,
         "tickcolor": "rgb(127,127,127)",
         "ticks": "outside",
         "title": "Net Value ($)",
         "zeroline": false
        },
        "xaxis2": {
         "domain": [
          0.55,
          1
         ],
         "gridcolor": "rgb(255,255,255)",
         "range": [
          -2,
          2
         ],
         "showgrid": true,
         "showline": false,
         "showticklabels": true,
         "tickcolor": "rgb(127,127,127)",
         "ticks": "outside",
         "title": "Net Value ($)",
         "zeroline": false
        },
        "yaxis1": {
         "anchor": "x1",
         "gridcolor": "rgb(255,255,255)",
         "range": [
          0
         ],
         "showgrid": true,
         "showline": false,
         "showticklabels": true,
         "tickcolor": "rgb(127,127,127)",
         "ticks": "outside",
         "title": "RT (s)",
         "zeroline": false
        },
        "yaxis2": {
         "anchor": "x2",
         "gridcolor": "rgb(255,255,255)",
         "range": [
          0
         ],
         "showgrid": true,
         "showline": false,
         "showticklabels": true,
         "tickcolor": "rgb(127,127,127)",
         "ticks": "outside",
         "title": "p (accept)",
         "zeroline": false
        }
       }
      },
      "text/html": [
       "<div id=\"9804782f-6f7d-45e9-bbc1-9c481f57c1df\" style=\"height: 525px; width: 100%;\" class=\"plotly-graph-div\"></div><script type=\"text/javascript\">require([\"plotly\"], function(Plotly) { window.PLOTLYENV=window.PLOTLYENV || {};window.PLOTLYENV.BASE_URL=\"https://plot.ly\";Plotly.newPlot(\"9804782f-6f7d-45e9-bbc1-9c481f57c1df\", [{\"type\": \"scatter\", \"x\": [-1.772083333333333, -0.8838461538461537, -0.33421052631578957, 0.024333333333333297, 0.3725, 0.8125000000000002, 1.83], \"y\": [4.605736603489882, 3.8519637532299393, 5.324609208156624, 5.217001316884611, 5.507023673424556, 4.792930399005855, 4.728539617575007], \"error_y\": {\"type\": \"data\", \"array\": [0.3680509445291431, 0.5755129816209081, 0.38509362436182015, 0.4491275041257742, 0.852034916485681, 0.5095410975414276, 0.7068623972539727], \"color\": \"rgb(0,170,80)\", \"visible\": true}, \"line\": {\"color\": \"rgb(0,100,80)\"}, \"mode\": \"lines+markers\", \"name\": \"Test Data\"}, {\"type\": \"scatter\", \"x\": [-1.772083333333333, -0.8838461538461537, -0.33421052631578957, 0.024333333333333297, 0.3725, 0.8125000000000002, 1.83], \"y\": [4.173535711197574, 5.29054593510754, 5.7848129241664035, 5.68771352263145, 5.838171159985805, 5.3335288597601584, 4.057812737544911], \"error_y\": {\"type\": \"data\", \"array\": [0.012961558199510595, 0.022105543018846308, 0.020641282123177528, 0.01671659366931083, 0.031866018447241067, 0.01983961497554475, 0.019391287731293387], \"color\": \"rgb(0,100,246)\", \"visible\": true}, \"line\": {\"color\": \"rgb(0,176,246)\"}, \"mode\": \"lines+markers\", \"name\": \"Sim Data\"}, {\"type\": \"scatter\", \"x\": [-1.772083333333333, -0.8838461538461537, -0.33421052631578957, 0.024333333333333297, 0.3725, 0.8125000000000002, 1.83], \"y\": [0.0, 0.0, 0.21052631578947367, 0.3, 0.5, 0.75, 0.9], \"error_y\": {\"type\": \"data\", \"array\": [0.0, 0.0, 0.09609167675529229, 0.08509629433967632, 0.1889822365046136, 0.11180339887498951, 0.09999999999999999], \"color\": \"rgb(0,170,80)\", \"visible\": true}, \"line\": {\"color\": \"rgb(0,100,80)\"}, \"mode\": \"lines+markers\", \"name\": \"Test Data\", \"xaxis\": \"x2\", \"yaxis\": \"y2\"}, {\"type\": \"scatter\", \"x\": [-1.772083333333333, -0.8838461538461537, -0.33421052631578957, 0.024333333333333297, 0.3725, 0.8125000000000002, 1.83], \"y\": [0.013316039775183744, 0.07619394823186293, 0.2501475361463559, 0.5235685502764502, 0.7378503015253636, 0.9196395322856931, 0.9915767847971237], \"error_y\": {\"type\": \"data\", \"array\": [0.0007536993625025047, 0.0025329553437029367, 0.0037199428281231486, 0.003418846512690772, 0.005857803421960669, 0.002346155117648381, 0.0009263102132156866], \"color\": \"rgb(0,100,246)\", \"visible\": true}, \"line\": {\"color\": \"rgb(0,176,246)\"}, \"mode\": \"lines+markers\", \"name\": \"Sim Data\", \"xaxis\": \"x2\", \"yaxis\": \"y2\"}], {\"paper_bgcolor\": \"rgb(255,255,255)\", \"plot_bgcolor\": \"rgb(229,229,229)\", \"xaxis\": {\"gridcolor\": \"rgb(255,255,255)\", \"range\": [-2, 2], \"domain\": [0, 0.45], \"showgrid\": true, \"showline\": false, \"showticklabels\": true, \"tickcolor\": \"rgb(127,127,127)\", \"ticks\": \"outside\", \"title\": \"Net Value ($)\", \"zeroline\": false}, \"xaxis2\": {\"gridcolor\": \"rgb(255,255,255)\", \"range\": [-2, 2], \"domain\": [0.55, 1], \"showgrid\": true, \"showline\": false, \"showticklabels\": true, \"tickcolor\": \"rgb(127,127,127)\", \"ticks\": \"outside\", \"title\": \"Net Value ($)\", \"zeroline\": false}, \"yaxis1\": {\"gridcolor\": \"rgb(255,255,255)\", \"range\": [0], \"showgrid\": true, \"showline\": false, \"showticklabels\": true, \"tickcolor\": \"rgb(127,127,127)\", \"ticks\": \"outside\", \"title\": \"RT (s)\", \"anchor\": \"x1\", \"zeroline\": false}, \"yaxis2\": {\"gridcolor\": \"rgb(255,255,255)\", \"range\": [0], \"showgrid\": true, \"showline\": false, \"showticklabels\": true, \"tickcolor\": \"rgb(127,127,127)\", \"ticks\": \"outside\", \"title\": \"p (accept)\", \"anchor\": \"x2\", \"zeroline\": false}, \"annotations\": [{\"x\": 0.01, \"y\": 1.12, \"showarrow\": false, \"text\": \"PARAMETERS: v: 0.077, a: 0.306, \\u03b8: 0.28\", \"xref\": \"paper\", \"yref\": \"paper\"}, {\"x\": 0.01, \"y\": 1.08, \"showarrow\": false, \"text\": \"MLE: 540.85\", \"xref\": \"paper\", \"yref\": \"paper\"}, {\"x\": 0.01, \"y\": 1.2, \"showarrow\": false, \"text\": \"SUBJECT: 18\", \"font\": {\"family\": \"Arial, sans-serif\", \"size\": 22}, \"xref\": \"paper\", \"yref\": \"paper\"}]}, {\"showLink\": true, \"linkText\": \"Export to plot.ly\"})});</script>"
      ],
      "text/vnd.plotly.v1+html": [
       "<div id=\"9804782f-6f7d-45e9-bbc1-9c481f57c1df\" style=\"height: 525px; width: 100%;\" class=\"plotly-graph-div\"></div><script type=\"text/javascript\">require([\"plotly\"], function(Plotly) { window.PLOTLYENV=window.PLOTLYENV || {};window.PLOTLYENV.BASE_URL=\"https://plot.ly\";Plotly.newPlot(\"9804782f-6f7d-45e9-bbc1-9c481f57c1df\", [{\"type\": \"scatter\", \"x\": [-1.772083333333333, -0.8838461538461537, -0.33421052631578957, 0.024333333333333297, 0.3725, 0.8125000000000002, 1.83], \"y\": [4.605736603489882, 3.8519637532299393, 5.324609208156624, 5.217001316884611, 5.507023673424556, 4.792930399005855, 4.728539617575007], \"error_y\": {\"type\": \"data\", \"array\": [0.3680509445291431, 0.5755129816209081, 0.38509362436182015, 0.4491275041257742, 0.852034916485681, 0.5095410975414276, 0.7068623972539727], \"color\": \"rgb(0,170,80)\", \"visible\": true}, \"line\": {\"color\": \"rgb(0,100,80)\"}, \"mode\": \"lines+markers\", \"name\": \"Test Data\"}, {\"type\": \"scatter\", \"x\": [-1.772083333333333, -0.8838461538461537, -0.33421052631578957, 0.024333333333333297, 0.3725, 0.8125000000000002, 1.83], \"y\": [4.173535711197574, 5.29054593510754, 5.7848129241664035, 5.68771352263145, 5.838171159985805, 5.3335288597601584, 4.057812737544911], \"error_y\": {\"type\": \"data\", \"array\": [0.012961558199510595, 0.022105543018846308, 0.020641282123177528, 0.01671659366931083, 0.031866018447241067, 0.01983961497554475, 0.019391287731293387], \"color\": \"rgb(0,100,246)\", \"visible\": true}, \"line\": {\"color\": \"rgb(0,176,246)\"}, \"mode\": \"lines+markers\", \"name\": \"Sim Data\"}, {\"type\": \"scatter\", \"x\": [-1.772083333333333, -0.8838461538461537, -0.33421052631578957, 0.024333333333333297, 0.3725, 0.8125000000000002, 1.83], \"y\": [0.0, 0.0, 0.21052631578947367, 0.3, 0.5, 0.75, 0.9], \"error_y\": {\"type\": \"data\", \"array\": [0.0, 0.0, 0.09609167675529229, 0.08509629433967632, 0.1889822365046136, 0.11180339887498951, 0.09999999999999999], \"color\": \"rgb(0,170,80)\", \"visible\": true}, \"line\": {\"color\": \"rgb(0,100,80)\"}, \"mode\": \"lines+markers\", \"name\": \"Test Data\", \"xaxis\": \"x2\", \"yaxis\": \"y2\"}, {\"type\": \"scatter\", \"x\": [-1.772083333333333, -0.8838461538461537, -0.33421052631578957, 0.024333333333333297, 0.3725, 0.8125000000000002, 1.83], \"y\": [0.013316039775183744, 0.07619394823186293, 0.2501475361463559, 0.5235685502764502, 0.7378503015253636, 0.9196395322856931, 0.9915767847971237], \"error_y\": {\"type\": \"data\", \"array\": [0.0007536993625025047, 0.0025329553437029367, 0.0037199428281231486, 0.003418846512690772, 0.005857803421960669, 0.002346155117648381, 0.0009263102132156866], \"color\": \"rgb(0,100,246)\", \"visible\": true}, \"line\": {\"color\": \"rgb(0,176,246)\"}, \"mode\": \"lines+markers\", \"name\": \"Sim Data\", \"xaxis\": \"x2\", \"yaxis\": \"y2\"}], {\"paper_bgcolor\": \"rgb(255,255,255)\", \"plot_bgcolor\": \"rgb(229,229,229)\", \"xaxis\": {\"gridcolor\": \"rgb(255,255,255)\", \"range\": [-2, 2], \"domain\": [0, 0.45], \"showgrid\": true, \"showline\": false, \"showticklabels\": true, \"tickcolor\": \"rgb(127,127,127)\", \"ticks\": \"outside\", \"title\": \"Net Value ($)\", \"zeroline\": false}, \"xaxis2\": {\"gridcolor\": \"rgb(255,255,255)\", \"range\": [-2, 2], \"domain\": [0.55, 1], \"showgrid\": true, \"showline\": false, \"showticklabels\": true, \"tickcolor\": \"rgb(127,127,127)\", \"ticks\": \"outside\", \"title\": \"Net Value ($)\", \"zeroline\": false}, \"yaxis1\": {\"gridcolor\": \"rgb(255,255,255)\", \"range\": [0], \"showgrid\": true, \"showline\": false, \"showticklabels\": true, \"tickcolor\": \"rgb(127,127,127)\", \"ticks\": \"outside\", \"title\": \"RT (s)\", \"anchor\": \"x1\", \"zeroline\": false}, \"yaxis2\": {\"gridcolor\": \"rgb(255,255,255)\", \"range\": [0], \"showgrid\": true, \"showline\": false, \"showticklabels\": true, \"tickcolor\": \"rgb(127,127,127)\", \"ticks\": \"outside\", \"title\": \"p (accept)\", \"anchor\": \"x2\", \"zeroline\": false}, \"annotations\": [{\"x\": 0.01, \"y\": 1.12, \"showarrow\": false, \"text\": \"PARAMETERS: v: 0.077, a: 0.306, \\u03b8: 0.28\", \"xref\": \"paper\", \"yref\": \"paper\"}, {\"x\": 0.01, \"y\": 1.08, \"showarrow\": false, \"text\": \"MLE: 540.85\", \"xref\": \"paper\", \"yref\": \"paper\"}, {\"x\": 0.01, \"y\": 1.2, \"showarrow\": false, \"text\": \"SUBJECT: 18\", \"font\": {\"family\": \"Arial, sans-serif\", \"size\": 22}, \"xref\": \"paper\", \"yref\": \"paper\"}]}, {\"showLink\": true, \"linkText\": \"Export to plot.ly\"})});</script>"
      ]
     },
     "metadata": {},
     "output_type": "display_data"
    },
    {
     "data": {
      "application/vnd.plotly.v1+json": {
       "data": [
        {
         "error_y": {
          "array": [
           0.36347757827473565,
           0.41969449774605894,
           0.5537102022977282,
           0.2719872546244865,
           0.41390432485629164,
           0.1770077216029409,
           0.28954639202011695
          ],
          "color": "rgb(0,170,80)",
          "type": "data",
          "visible": true
         },
         "line": {
          "color": "rgb(0,100,80)"
         },
         "mode": "lines+markers",
         "name": "Test Data",
         "type": "scatter",
         "x": [
          -1.6129629629629632,
          -0.8327777777777777,
          -0.29800000000000004,
          0.027352941176470573,
          0.28411764705882353,
          0.751304347826087,
          1.423125
         ],
         "y": [
          2.6532024520263944,
          2.8353583172073638,
          3.1601166128801794,
          2.749145881909713,
          2.4638971037005413,
          1.8037446145494678,
          2.09285406316485
         ]
        },
        {
         "error_y": {
          "array": [
           0.0060736478420493865,
           0.009228239927064891,
           0.011527071766745237,
           0.007647574142515486,
           0.010951465139996019,
           0.0084110599877002,
           0.008351480332343295
          ],
          "color": "rgb(0,100,246)",
          "type": "data",
          "visible": true
         },
         "line": {
          "color": "rgb(0,176,246)"
         },
         "mode": "lines+markers",
         "name": "Sim Data",
         "type": "scatter",
         "x": [
          -1.6129629629629632,
          -0.8327777777777777,
          -0.29800000000000004,
          0.027352941176470573,
          0.28411764705882353,
          0.751304347826087,
          1.423125
         ],
         "y": [
          2.093995443431862,
          2.380450102852064,
          2.5674073925807184,
          2.5605927671103674,
          2.5808953132359753,
          2.3905543714658273,
          2.1649569946243328
         ]
        },
        {
         "error_y": {
          "array": [
           0.0513611292801138,
           0.05555555555555555,
           0.09085135251589957,
           0.07679896586280786,
           0.10604562574894086,
           0,
           0.06249999999999999
          ],
          "color": "rgb(0,170,80)",
          "type": "data",
          "visible": true
         },
         "line": {
          "color": "rgb(0,100,80)"
         },
         "mode": "lines+markers",
         "name": "Test Data",
         "type": "scatter",
         "x": [
          -1.6129629629629632,
          -0.8327777777777777,
          -0.29800000000000004,
          0.027352941176470573,
          0.28411764705882353,
          0.751304347826087,
          1.423125
         ],
         "xaxis": "x2",
         "y": [
          0.07407407407407407,
          0.05555555555555555,
          0.13333333333333333,
          0.7352941176470589,
          0.7647058823529411,
          1,
          0.9375
         ],
         "yaxis": "y2"
        },
        {
         "error_y": {
          "array": [
           0.001774850910999898,
           0.0030712418644128713,
           0.00395051802187302,
           0.002712796405585932,
           0.0037451961628307013,
           0.0027840283559437268,
           0.002541426524647569
          ],
          "color": "rgb(0,100,246)",
          "type": "data",
          "visible": true
         },
         "line": {
          "color": "rgb(0,176,246)"
         },
         "mode": "lines+markers",
         "name": "Sim Data",
         "type": "scatter",
         "x": [
          -1.6129629629629632,
          -0.8327777777777777,
          -0.29800000000000004,
          0.027352941176470573,
          0.28411764705882353,
          0.751304347826087,
          1.423125
         ],
         "xaxis": "x2",
         "y": [
          0.09383566718530044,
          0.21654528270417525,
          0.37309847878302643,
          0.5107786547296501,
          0.6085727743758832,
          0.7679860809047412,
          0.8829853731716465
         ],
         "yaxis": "y2"
        }
       ],
       "layout": {
        "annotations": [
         {
          "showarrow": false,
          "text": "PARAMETERS: v: 0.077, a: 0.135, θ: 0.46",
          "x": 0.01,
          "xref": "paper",
          "y": 1.12,
          "yref": "paper"
         },
         {
          "showarrow": false,
          "text": "MLE: 759.87",
          "x": 0.01,
          "xref": "paper",
          "y": 1.08,
          "yref": "paper"
         },
         {
          "font": {
           "family": "Arial, sans-serif",
           "size": 22
          },
          "showarrow": false,
          "text": "SUBJECT: 19",
          "x": 0.01,
          "xref": "paper",
          "y": 1.2,
          "yref": "paper"
         }
        ],
        "paper_bgcolor": "rgb(255,255,255)",
        "plot_bgcolor": "rgb(229,229,229)",
        "xaxis": {
         "domain": [
          0,
          0.45
         ],
         "gridcolor": "rgb(255,255,255)",
         "range": [
          -2,
          2
         ],
         "showgrid": true,
         "showline": false,
         "showticklabels": true,
         "tickcolor": "rgb(127,127,127)",
         "ticks": "outside",
         "title": "Net Value ($)",
         "zeroline": false
        },
        "xaxis2": {
         "domain": [
          0.55,
          1
         ],
         "gridcolor": "rgb(255,255,255)",
         "range": [
          -2,
          2
         ],
         "showgrid": true,
         "showline": false,
         "showticklabels": true,
         "tickcolor": "rgb(127,127,127)",
         "ticks": "outside",
         "title": "Net Value ($)",
         "zeroline": false
        },
        "yaxis1": {
         "anchor": "x1",
         "gridcolor": "rgb(255,255,255)",
         "range": [
          0
         ],
         "showgrid": true,
         "showline": false,
         "showticklabels": true,
         "tickcolor": "rgb(127,127,127)",
         "ticks": "outside",
         "title": "RT (s)",
         "zeroline": false
        },
        "yaxis2": {
         "anchor": "x2",
         "gridcolor": "rgb(255,255,255)",
         "range": [
          0
         ],
         "showgrid": true,
         "showline": false,
         "showticklabels": true,
         "tickcolor": "rgb(127,127,127)",
         "ticks": "outside",
         "title": "p (accept)",
         "zeroline": false
        }
       }
      },
      "text/html": [
       "<div id=\"dc895c36-1da2-402d-b6c2-45b3ba585c23\" style=\"height: 525px; width: 100%;\" class=\"plotly-graph-div\"></div><script type=\"text/javascript\">require([\"plotly\"], function(Plotly) { window.PLOTLYENV=window.PLOTLYENV || {};window.PLOTLYENV.BASE_URL=\"https://plot.ly\";Plotly.newPlot(\"dc895c36-1da2-402d-b6c2-45b3ba585c23\", [{\"type\": \"scatter\", \"x\": [-1.6129629629629632, -0.8327777777777777, -0.29800000000000004, 0.027352941176470573, 0.28411764705882353, 0.751304347826087, 1.423125], \"y\": [2.6532024520263944, 2.8353583172073638, 3.1601166128801794, 2.749145881909713, 2.4638971037005413, 1.8037446145494678, 2.09285406316485], \"error_y\": {\"type\": \"data\", \"array\": [0.36347757827473565, 0.41969449774605894, 0.5537102022977282, 0.2719872546244865, 0.41390432485629164, 0.1770077216029409, 0.28954639202011695], \"color\": \"rgb(0,170,80)\", \"visible\": true}, \"line\": {\"color\": \"rgb(0,100,80)\"}, \"mode\": \"lines+markers\", \"name\": \"Test Data\"}, {\"type\": \"scatter\", \"x\": [-1.6129629629629632, -0.8327777777777777, -0.29800000000000004, 0.027352941176470573, 0.28411764705882353, 0.751304347826087, 1.423125], \"y\": [2.093995443431862, 2.380450102852064, 2.5674073925807184, 2.5605927671103674, 2.5808953132359753, 2.3905543714658273, 2.1649569946243328], \"error_y\": {\"type\": \"data\", \"array\": [0.0060736478420493865, 0.009228239927064891, 0.011527071766745237, 0.007647574142515486, 0.010951465139996019, 0.0084110599877002, 0.008351480332343295], \"color\": \"rgb(0,100,246)\", \"visible\": true}, \"line\": {\"color\": \"rgb(0,176,246)\"}, \"mode\": \"lines+markers\", \"name\": \"Sim Data\"}, {\"type\": \"scatter\", \"x\": [-1.6129629629629632, -0.8327777777777777, -0.29800000000000004, 0.027352941176470573, 0.28411764705882353, 0.751304347826087, 1.423125], \"y\": [0.07407407407407407, 0.05555555555555555, 0.13333333333333333, 0.7352941176470589, 0.7647058823529411, 1.0, 0.9375], \"error_y\": {\"type\": \"data\", \"array\": [0.0513611292801138, 0.05555555555555555, 0.09085135251589957, 0.07679896586280786, 0.10604562574894086, 0.0, 0.06249999999999999], \"color\": \"rgb(0,170,80)\", \"visible\": true}, \"line\": {\"color\": \"rgb(0,100,80)\"}, \"mode\": \"lines+markers\", \"name\": \"Test Data\", \"xaxis\": \"x2\", \"yaxis\": \"y2\"}, {\"type\": \"scatter\", \"x\": [-1.6129629629629632, -0.8327777777777777, -0.29800000000000004, 0.027352941176470573, 0.28411764705882353, 0.751304347826087, 1.423125], \"y\": [0.09383566718530044, 0.21654528270417525, 0.37309847878302643, 0.5107786547296501, 0.6085727743758832, 0.7679860809047412, 0.8829853731716465], \"error_y\": {\"type\": \"data\", \"array\": [0.001774850910999898, 0.0030712418644128713, 0.00395051802187302, 0.002712796405585932, 0.0037451961628307013, 0.0027840283559437268, 0.002541426524647569], \"color\": \"rgb(0,100,246)\", \"visible\": true}, \"line\": {\"color\": \"rgb(0,176,246)\"}, \"mode\": \"lines+markers\", \"name\": \"Sim Data\", \"xaxis\": \"x2\", \"yaxis\": \"y2\"}], {\"paper_bgcolor\": \"rgb(255,255,255)\", \"plot_bgcolor\": \"rgb(229,229,229)\", \"xaxis\": {\"gridcolor\": \"rgb(255,255,255)\", \"range\": [-2, 2], \"domain\": [0, 0.45], \"showgrid\": true, \"showline\": false, \"showticklabels\": true, \"tickcolor\": \"rgb(127,127,127)\", \"ticks\": \"outside\", \"title\": \"Net Value ($)\", \"zeroline\": false}, \"xaxis2\": {\"gridcolor\": \"rgb(255,255,255)\", \"range\": [-2, 2], \"domain\": [0.55, 1], \"showgrid\": true, \"showline\": false, \"showticklabels\": true, \"tickcolor\": \"rgb(127,127,127)\", \"ticks\": \"outside\", \"title\": \"Net Value ($)\", \"zeroline\": false}, \"yaxis1\": {\"gridcolor\": \"rgb(255,255,255)\", \"range\": [0], \"showgrid\": true, \"showline\": false, \"showticklabels\": true, \"tickcolor\": \"rgb(127,127,127)\", \"ticks\": \"outside\", \"title\": \"RT (s)\", \"anchor\": \"x1\", \"zeroline\": false}, \"yaxis2\": {\"gridcolor\": \"rgb(255,255,255)\", \"range\": [0], \"showgrid\": true, \"showline\": false, \"showticklabels\": true, \"tickcolor\": \"rgb(127,127,127)\", \"ticks\": \"outside\", \"title\": \"p (accept)\", \"anchor\": \"x2\", \"zeroline\": false}, \"annotations\": [{\"x\": 0.01, \"y\": 1.12, \"showarrow\": false, \"text\": \"PARAMETERS: v: 0.077, a: 0.135, \\u03b8: 0.46\", \"xref\": \"paper\", \"yref\": \"paper\"}, {\"x\": 0.01, \"y\": 1.08, \"showarrow\": false, \"text\": \"MLE: 759.87\", \"xref\": \"paper\", \"yref\": \"paper\"}, {\"x\": 0.01, \"y\": 1.2, \"showarrow\": false, \"text\": \"SUBJECT: 19\", \"font\": {\"family\": \"Arial, sans-serif\", \"size\": 22}, \"xref\": \"paper\", \"yref\": \"paper\"}]}, {\"showLink\": true, \"linkText\": \"Export to plot.ly\"})});</script>"
      ],
      "text/vnd.plotly.v1+html": [
       "<div id=\"dc895c36-1da2-402d-b6c2-45b3ba585c23\" style=\"height: 525px; width: 100%;\" class=\"plotly-graph-div\"></div><script type=\"text/javascript\">require([\"plotly\"], function(Plotly) { window.PLOTLYENV=window.PLOTLYENV || {};window.PLOTLYENV.BASE_URL=\"https://plot.ly\";Plotly.newPlot(\"dc895c36-1da2-402d-b6c2-45b3ba585c23\", [{\"type\": \"scatter\", \"x\": [-1.6129629629629632, -0.8327777777777777, -0.29800000000000004, 0.027352941176470573, 0.28411764705882353, 0.751304347826087, 1.423125], \"y\": [2.6532024520263944, 2.8353583172073638, 3.1601166128801794, 2.749145881909713, 2.4638971037005413, 1.8037446145494678, 2.09285406316485], \"error_y\": {\"type\": \"data\", \"array\": [0.36347757827473565, 0.41969449774605894, 0.5537102022977282, 0.2719872546244865, 0.41390432485629164, 0.1770077216029409, 0.28954639202011695], \"color\": \"rgb(0,170,80)\", \"visible\": true}, \"line\": {\"color\": \"rgb(0,100,80)\"}, \"mode\": \"lines+markers\", \"name\": \"Test Data\"}, {\"type\": \"scatter\", \"x\": [-1.6129629629629632, -0.8327777777777777, -0.29800000000000004, 0.027352941176470573, 0.28411764705882353, 0.751304347826087, 1.423125], \"y\": [2.093995443431862, 2.380450102852064, 2.5674073925807184, 2.5605927671103674, 2.5808953132359753, 2.3905543714658273, 2.1649569946243328], \"error_y\": {\"type\": \"data\", \"array\": [0.0060736478420493865, 0.009228239927064891, 0.011527071766745237, 0.007647574142515486, 0.010951465139996019, 0.0084110599877002, 0.008351480332343295], \"color\": \"rgb(0,100,246)\", \"visible\": true}, \"line\": {\"color\": \"rgb(0,176,246)\"}, \"mode\": \"lines+markers\", \"name\": \"Sim Data\"}, {\"type\": \"scatter\", \"x\": [-1.6129629629629632, -0.8327777777777777, -0.29800000000000004, 0.027352941176470573, 0.28411764705882353, 0.751304347826087, 1.423125], \"y\": [0.07407407407407407, 0.05555555555555555, 0.13333333333333333, 0.7352941176470589, 0.7647058823529411, 1.0, 0.9375], \"error_y\": {\"type\": \"data\", \"array\": [0.0513611292801138, 0.05555555555555555, 0.09085135251589957, 0.07679896586280786, 0.10604562574894086, 0.0, 0.06249999999999999], \"color\": \"rgb(0,170,80)\", \"visible\": true}, \"line\": {\"color\": \"rgb(0,100,80)\"}, \"mode\": \"lines+markers\", \"name\": \"Test Data\", \"xaxis\": \"x2\", \"yaxis\": \"y2\"}, {\"type\": \"scatter\", \"x\": [-1.6129629629629632, -0.8327777777777777, -0.29800000000000004, 0.027352941176470573, 0.28411764705882353, 0.751304347826087, 1.423125], \"y\": [0.09383566718530044, 0.21654528270417525, 0.37309847878302643, 0.5107786547296501, 0.6085727743758832, 0.7679860809047412, 0.8829853731716465], \"error_y\": {\"type\": \"data\", \"array\": [0.001774850910999898, 0.0030712418644128713, 0.00395051802187302, 0.002712796405585932, 0.0037451961628307013, 0.0027840283559437268, 0.002541426524647569], \"color\": \"rgb(0,100,246)\", \"visible\": true}, \"line\": {\"color\": \"rgb(0,176,246)\"}, \"mode\": \"lines+markers\", \"name\": \"Sim Data\", \"xaxis\": \"x2\", \"yaxis\": \"y2\"}], {\"paper_bgcolor\": \"rgb(255,255,255)\", \"plot_bgcolor\": \"rgb(229,229,229)\", \"xaxis\": {\"gridcolor\": \"rgb(255,255,255)\", \"range\": [-2, 2], \"domain\": [0, 0.45], \"showgrid\": true, \"showline\": false, \"showticklabels\": true, \"tickcolor\": \"rgb(127,127,127)\", \"ticks\": \"outside\", \"title\": \"Net Value ($)\", \"zeroline\": false}, \"xaxis2\": {\"gridcolor\": \"rgb(255,255,255)\", \"range\": [-2, 2], \"domain\": [0.55, 1], \"showgrid\": true, \"showline\": false, \"showticklabels\": true, \"tickcolor\": \"rgb(127,127,127)\", \"ticks\": \"outside\", \"title\": \"Net Value ($)\", \"zeroline\": false}, \"yaxis1\": {\"gridcolor\": \"rgb(255,255,255)\", \"range\": [0], \"showgrid\": true, \"showline\": false, \"showticklabels\": true, \"tickcolor\": \"rgb(127,127,127)\", \"ticks\": \"outside\", \"title\": \"RT (s)\", \"anchor\": \"x1\", \"zeroline\": false}, \"yaxis2\": {\"gridcolor\": \"rgb(255,255,255)\", \"range\": [0], \"showgrid\": true, \"showline\": false, \"showticklabels\": true, \"tickcolor\": \"rgb(127,127,127)\", \"ticks\": \"outside\", \"title\": \"p (accept)\", \"anchor\": \"x2\", \"zeroline\": false}, \"annotations\": [{\"x\": 0.01, \"y\": 1.12, \"showarrow\": false, \"text\": \"PARAMETERS: v: 0.077, a: 0.135, \\u03b8: 0.46\", \"xref\": \"paper\", \"yref\": \"paper\"}, {\"x\": 0.01, \"y\": 1.08, \"showarrow\": false, \"text\": \"MLE: 759.87\", \"xref\": \"paper\", \"yref\": \"paper\"}, {\"x\": 0.01, \"y\": 1.2, \"showarrow\": false, \"text\": \"SUBJECT: 19\", \"font\": {\"family\": \"Arial, sans-serif\", \"size\": 22}, \"xref\": \"paper\", \"yref\": \"paper\"}]}, {\"showLink\": true, \"linkText\": \"Export to plot.ly\"})});</script>"
      ]
     },
     "metadata": {},
     "output_type": "display_data"
    },
    {
     "data": {
      "application/vnd.plotly.v1+json": {
       "data": [
        {
         "error_y": {
          "array": [
           0.23889616603511812,
           0.26260143411660414,
           0.27200450372357604,
           0.1516952073407089,
           0.3579844042768868,
           0.4669457882395253,
           0.13479441445887105
          ],
          "color": "rgb(0,170,80)",
          "type": "data",
          "visible": true
         },
         "line": {
          "color": "rgb(0,100,80)"
         },
         "mode": "lines+markers",
         "name": "Test Data",
         "type": "scatter",
         "x": [
          -1.6838888888888888,
          -0.7804347826086955,
          -0.29956521739130443,
          0.044074074074074036,
          0.30272727272727273,
          0.7600000000000001,
          1.7135000000000002
         ],
         "y": [
          2.228803497292878,
          2.7841644772131047,
          2.653716179795319,
          2.532181894794727,
          2.858446059481304,
          2.591218919741611,
          1.8051307235728018
         ]
        },
        {
         "error_y": {
          "array": [
           0.01275048451536018,
           0.013564310397519064,
           0.014448348373373852,
           0.013224590253188733,
           0.014776922288422685,
           0.01642727030152954,
           0.011914041325439616
          ],
          "color": "rgb(0,100,246)",
          "type": "data",
          "visible": true
         },
         "line": {
          "color": "rgb(0,176,246)"
         },
         "mode": "lines+markers",
         "name": "Sim Data",
         "type": "scatter",
         "x": [
          -1.6838888888888888,
          -0.7804347826086955,
          -0.29956521739130443,
          0.044074074074074036,
          0.30272727272727273,
          0.7600000000000001,
          1.7135000000000002
         ],
         "y": [
          3.1177134450484885,
          3.6029576651414743,
          3.926506007226711,
          3.786699785424185,
          3.9596303876261643,
          3.6201763021543383,
          3.1200348772743345
         ]
        },
        {
         "error_y": {
          "array": [
           0.05555555555555555,
           0.04347826086956522,
           0.10568965974008647,
           0.09470524295495533,
           0.04545454545454545,
           0.06666666666666665,
           0
          ],
          "color": "rgb(0,170,80)",
          "type": "data",
          "visible": true
         },
         "line": {
          "color": "rgb(0,100,80)"
         },
         "mode": "lines+markers",
         "name": "Test Data",
         "type": "scatter",
         "x": [
          -1.6838888888888888,
          -0.7804347826086955,
          -0.29956521739130443,
          0.044074074074074036,
          0.30272727272727273,
          0.7600000000000001,
          1.7135000000000002
         ],
         "xaxis": "x2",
         "y": [
          0.05555555555555555,
          0.043478260869565216,
          0.5652173913043478,
          0.6296296296296297,
          0.9545454545454546,
          0.9333333333333333,
          1
         ],
         "yaxis": "y2"
        },
        {
         "error_y": {
          "array": [
           0.002195680796793517,
           0.0028970100079904705,
           0.003224883953156027,
           0.0030840031346344335,
           0.003350407308603007,
           0.0038074013076857378,
           0.0018727934362254308
          ],
          "color": "rgb(0,100,246)",
          "type": "data",
          "visible": true
         },
         "line": {
          "color": "rgb(0,176,246)"
         },
         "mode": "lines+markers",
         "name": "Sim Data",
         "type": "scatter",
         "x": [
          -1.6838888888888888,
          -0.7804347826086955,
          -0.29956521739130443,
          0.044074074074074036,
          0.30272727272727273,
          0.7600000000000001,
          1.7135000000000002
         ],
         "xaxis": "x2",
         "y": [
          0.09505128061424649,
          0.2528541601883524,
          0.3594399277326107,
          0.5423020921143382,
          0.6094029991511837,
          0.693346059449141,
          0.9247517766241621
         ],
         "yaxis": "y2"
        }
       ],
       "layout": {
        "annotations": [
         {
          "showarrow": false,
          "text": "PARAMETERS: v: 0.077, a: 0.192, θ: 0.1",
          "x": 0.01,
          "xref": "paper",
          "y": 1.12,
          "yref": "paper"
         },
         {
          "showarrow": false,
          "text": "MLE: 666.34",
          "x": 0.01,
          "xref": "paper",
          "y": 1.08,
          "yref": "paper"
         },
         {
          "font": {
           "family": "Arial, sans-serif",
           "size": 22
          },
          "showarrow": false,
          "text": "SUBJECT: 20",
          "x": 0.01,
          "xref": "paper",
          "y": 1.2,
          "yref": "paper"
         }
        ],
        "paper_bgcolor": "rgb(255,255,255)",
        "plot_bgcolor": "rgb(229,229,229)",
        "xaxis": {
         "domain": [
          0,
          0.45
         ],
         "gridcolor": "rgb(255,255,255)",
         "range": [
          -2,
          2
         ],
         "showgrid": true,
         "showline": false,
         "showticklabels": true,
         "tickcolor": "rgb(127,127,127)",
         "ticks": "outside",
         "title": "Net Value ($)",
         "zeroline": false
        },
        "xaxis2": {
         "domain": [
          0.55,
          1
         ],
         "gridcolor": "rgb(255,255,255)",
         "range": [
          -2,
          2
         ],
         "showgrid": true,
         "showline": false,
         "showticklabels": true,
         "tickcolor": "rgb(127,127,127)",
         "ticks": "outside",
         "title": "Net Value ($)",
         "zeroline": false
        },
        "yaxis1": {
         "anchor": "x1",
         "gridcolor": "rgb(255,255,255)",
         "range": [
          0
         ],
         "showgrid": true,
         "showline": false,
         "showticklabels": true,
         "tickcolor": "rgb(127,127,127)",
         "ticks": "outside",
         "title": "RT (s)",
         "zeroline": false
        },
        "yaxis2": {
         "anchor": "x2",
         "gridcolor": "rgb(255,255,255)",
         "range": [
          0
         ],
         "showgrid": true,
         "showline": false,
         "showticklabels": true,
         "tickcolor": "rgb(127,127,127)",
         "ticks": "outside",
         "title": "p (accept)",
         "zeroline": false
        }
       }
      },
      "text/html": [
       "<div id=\"35089432-01be-46b3-a6dc-37c703184542\" style=\"height: 525px; width: 100%;\" class=\"plotly-graph-div\"></div><script type=\"text/javascript\">require([\"plotly\"], function(Plotly) { window.PLOTLYENV=window.PLOTLYENV || {};window.PLOTLYENV.BASE_URL=\"https://plot.ly\";Plotly.newPlot(\"35089432-01be-46b3-a6dc-37c703184542\", [{\"type\": \"scatter\", \"x\": [-1.6838888888888888, -0.7804347826086955, -0.29956521739130443, 0.044074074074074036, 0.30272727272727273, 0.7600000000000001, 1.7135000000000002], \"y\": [2.228803497292878, 2.7841644772131047, 2.653716179795319, 2.532181894794727, 2.858446059481304, 2.591218919741611, 1.8051307235728018], \"error_y\": {\"type\": \"data\", \"array\": [0.23889616603511812, 0.26260143411660414, 0.27200450372357604, 0.1516952073407089, 0.3579844042768868, 0.4669457882395253, 0.13479441445887105], \"color\": \"rgb(0,170,80)\", \"visible\": true}, \"line\": {\"color\": \"rgb(0,100,80)\"}, \"mode\": \"lines+markers\", \"name\": \"Test Data\"}, {\"type\": \"scatter\", \"x\": [-1.6838888888888888, -0.7804347826086955, -0.29956521739130443, 0.044074074074074036, 0.30272727272727273, 0.7600000000000001, 1.7135000000000002], \"y\": [3.1177134450484885, 3.6029576651414743, 3.926506007226711, 3.786699785424185, 3.9596303876261643, 3.6201763021543383, 3.1200348772743345], \"error_y\": {\"type\": \"data\", \"array\": [0.01275048451536018, 0.013564310397519064, 0.014448348373373852, 0.013224590253188733, 0.014776922288422685, 0.01642727030152954, 0.011914041325439616], \"color\": \"rgb(0,100,246)\", \"visible\": true}, \"line\": {\"color\": \"rgb(0,176,246)\"}, \"mode\": \"lines+markers\", \"name\": \"Sim Data\"}, {\"type\": \"scatter\", \"x\": [-1.6838888888888888, -0.7804347826086955, -0.29956521739130443, 0.044074074074074036, 0.30272727272727273, 0.7600000000000001, 1.7135000000000002], \"y\": [0.05555555555555555, 0.043478260869565216, 0.5652173913043478, 0.6296296296296297, 0.9545454545454546, 0.9333333333333333, 1.0], \"error_y\": {\"type\": \"data\", \"array\": [0.05555555555555555, 0.04347826086956522, 0.10568965974008647, 0.09470524295495533, 0.04545454545454545, 0.06666666666666665, 0.0], \"color\": \"rgb(0,170,80)\", \"visible\": true}, \"line\": {\"color\": \"rgb(0,100,80)\"}, \"mode\": \"lines+markers\", \"name\": \"Test Data\", \"xaxis\": \"x2\", \"yaxis\": \"y2\"}, {\"type\": \"scatter\", \"x\": [-1.6838888888888888, -0.7804347826086955, -0.29956521739130443, 0.044074074074074036, 0.30272727272727273, 0.7600000000000001, 1.7135000000000002], \"y\": [0.09505128061424649, 0.2528541601883524, 0.3594399277326107, 0.5423020921143382, 0.6094029991511837, 0.693346059449141, 0.9247517766241621], \"error_y\": {\"type\": \"data\", \"array\": [0.002195680796793517, 0.0028970100079904705, 0.003224883953156027, 0.0030840031346344335, 0.003350407308603007, 0.0038074013076857378, 0.0018727934362254308], \"color\": \"rgb(0,100,246)\", \"visible\": true}, \"line\": {\"color\": \"rgb(0,176,246)\"}, \"mode\": \"lines+markers\", \"name\": \"Sim Data\", \"xaxis\": \"x2\", \"yaxis\": \"y2\"}], {\"paper_bgcolor\": \"rgb(255,255,255)\", \"plot_bgcolor\": \"rgb(229,229,229)\", \"xaxis\": {\"gridcolor\": \"rgb(255,255,255)\", \"range\": [-2, 2], \"domain\": [0, 0.45], \"showgrid\": true, \"showline\": false, \"showticklabels\": true, \"tickcolor\": \"rgb(127,127,127)\", \"ticks\": \"outside\", \"title\": \"Net Value ($)\", \"zeroline\": false}, \"xaxis2\": {\"gridcolor\": \"rgb(255,255,255)\", \"range\": [-2, 2], \"domain\": [0.55, 1], \"showgrid\": true, \"showline\": false, \"showticklabels\": true, \"tickcolor\": \"rgb(127,127,127)\", \"ticks\": \"outside\", \"title\": \"Net Value ($)\", \"zeroline\": false}, \"yaxis1\": {\"gridcolor\": \"rgb(255,255,255)\", \"range\": [0], \"showgrid\": true, \"showline\": false, \"showticklabels\": true, \"tickcolor\": \"rgb(127,127,127)\", \"ticks\": \"outside\", \"title\": \"RT (s)\", \"anchor\": \"x1\", \"zeroline\": false}, \"yaxis2\": {\"gridcolor\": \"rgb(255,255,255)\", \"range\": [0], \"showgrid\": true, \"showline\": false, \"showticklabels\": true, \"tickcolor\": \"rgb(127,127,127)\", \"ticks\": \"outside\", \"title\": \"p (accept)\", \"anchor\": \"x2\", \"zeroline\": false}, \"annotations\": [{\"x\": 0.01, \"y\": 1.12, \"showarrow\": false, \"text\": \"PARAMETERS: v: 0.077, a: 0.192, \\u03b8: 0.1\", \"xref\": \"paper\", \"yref\": \"paper\"}, {\"x\": 0.01, \"y\": 1.08, \"showarrow\": false, \"text\": \"MLE: 666.34\", \"xref\": \"paper\", \"yref\": \"paper\"}, {\"x\": 0.01, \"y\": 1.2, \"showarrow\": false, \"text\": \"SUBJECT: 20\", \"font\": {\"family\": \"Arial, sans-serif\", \"size\": 22}, \"xref\": \"paper\", \"yref\": \"paper\"}]}, {\"showLink\": true, \"linkText\": \"Export to plot.ly\"})});</script>"
      ],
      "text/vnd.plotly.v1+html": [
       "<div id=\"35089432-01be-46b3-a6dc-37c703184542\" style=\"height: 525px; width: 100%;\" class=\"plotly-graph-div\"></div><script type=\"text/javascript\">require([\"plotly\"], function(Plotly) { window.PLOTLYENV=window.PLOTLYENV || {};window.PLOTLYENV.BASE_URL=\"https://plot.ly\";Plotly.newPlot(\"35089432-01be-46b3-a6dc-37c703184542\", [{\"type\": \"scatter\", \"x\": [-1.6838888888888888, -0.7804347826086955, -0.29956521739130443, 0.044074074074074036, 0.30272727272727273, 0.7600000000000001, 1.7135000000000002], \"y\": [2.228803497292878, 2.7841644772131047, 2.653716179795319, 2.532181894794727, 2.858446059481304, 2.591218919741611, 1.8051307235728018], \"error_y\": {\"type\": \"data\", \"array\": [0.23889616603511812, 0.26260143411660414, 0.27200450372357604, 0.1516952073407089, 0.3579844042768868, 0.4669457882395253, 0.13479441445887105], \"color\": \"rgb(0,170,80)\", \"visible\": true}, \"line\": {\"color\": \"rgb(0,100,80)\"}, \"mode\": \"lines+markers\", \"name\": \"Test Data\"}, {\"type\": \"scatter\", \"x\": [-1.6838888888888888, -0.7804347826086955, -0.29956521739130443, 0.044074074074074036, 0.30272727272727273, 0.7600000000000001, 1.7135000000000002], \"y\": [3.1177134450484885, 3.6029576651414743, 3.926506007226711, 3.786699785424185, 3.9596303876261643, 3.6201763021543383, 3.1200348772743345], \"error_y\": {\"type\": \"data\", \"array\": [0.01275048451536018, 0.013564310397519064, 0.014448348373373852, 0.013224590253188733, 0.014776922288422685, 0.01642727030152954, 0.011914041325439616], \"color\": \"rgb(0,100,246)\", \"visible\": true}, \"line\": {\"color\": \"rgb(0,176,246)\"}, \"mode\": \"lines+markers\", \"name\": \"Sim Data\"}, {\"type\": \"scatter\", \"x\": [-1.6838888888888888, -0.7804347826086955, -0.29956521739130443, 0.044074074074074036, 0.30272727272727273, 0.7600000000000001, 1.7135000000000002], \"y\": [0.05555555555555555, 0.043478260869565216, 0.5652173913043478, 0.6296296296296297, 0.9545454545454546, 0.9333333333333333, 1.0], \"error_y\": {\"type\": \"data\", \"array\": [0.05555555555555555, 0.04347826086956522, 0.10568965974008647, 0.09470524295495533, 0.04545454545454545, 0.06666666666666665, 0.0], \"color\": \"rgb(0,170,80)\", \"visible\": true}, \"line\": {\"color\": \"rgb(0,100,80)\"}, \"mode\": \"lines+markers\", \"name\": \"Test Data\", \"xaxis\": \"x2\", \"yaxis\": \"y2\"}, {\"type\": \"scatter\", \"x\": [-1.6838888888888888, -0.7804347826086955, -0.29956521739130443, 0.044074074074074036, 0.30272727272727273, 0.7600000000000001, 1.7135000000000002], \"y\": [0.09505128061424649, 0.2528541601883524, 0.3594399277326107, 0.5423020921143382, 0.6094029991511837, 0.693346059449141, 0.9247517766241621], \"error_y\": {\"type\": \"data\", \"array\": [0.002195680796793517, 0.0028970100079904705, 0.003224883953156027, 0.0030840031346344335, 0.003350407308603007, 0.0038074013076857378, 0.0018727934362254308], \"color\": \"rgb(0,100,246)\", \"visible\": true}, \"line\": {\"color\": \"rgb(0,176,246)\"}, \"mode\": \"lines+markers\", \"name\": \"Sim Data\", \"xaxis\": \"x2\", \"yaxis\": \"y2\"}], {\"paper_bgcolor\": \"rgb(255,255,255)\", \"plot_bgcolor\": \"rgb(229,229,229)\", \"xaxis\": {\"gridcolor\": \"rgb(255,255,255)\", \"range\": [-2, 2], \"domain\": [0, 0.45], \"showgrid\": true, \"showline\": false, \"showticklabels\": true, \"tickcolor\": \"rgb(127,127,127)\", \"ticks\": \"outside\", \"title\": \"Net Value ($)\", \"zeroline\": false}, \"xaxis2\": {\"gridcolor\": \"rgb(255,255,255)\", \"range\": [-2, 2], \"domain\": [0.55, 1], \"showgrid\": true, \"showline\": false, \"showticklabels\": true, \"tickcolor\": \"rgb(127,127,127)\", \"ticks\": \"outside\", \"title\": \"Net Value ($)\", \"zeroline\": false}, \"yaxis1\": {\"gridcolor\": \"rgb(255,255,255)\", \"range\": [0], \"showgrid\": true, \"showline\": false, \"showticklabels\": true, \"tickcolor\": \"rgb(127,127,127)\", \"ticks\": \"outside\", \"title\": \"RT (s)\", \"anchor\": \"x1\", \"zeroline\": false}, \"yaxis2\": {\"gridcolor\": \"rgb(255,255,255)\", \"range\": [0], \"showgrid\": true, \"showline\": false, \"showticklabels\": true, \"tickcolor\": \"rgb(127,127,127)\", \"ticks\": \"outside\", \"title\": \"p (accept)\", \"anchor\": \"x2\", \"zeroline\": false}, \"annotations\": [{\"x\": 0.01, \"y\": 1.12, \"showarrow\": false, \"text\": \"PARAMETERS: v: 0.077, a: 0.192, \\u03b8: 0.1\", \"xref\": \"paper\", \"yref\": \"paper\"}, {\"x\": 0.01, \"y\": 1.08, \"showarrow\": false, \"text\": \"MLE: 666.34\", \"xref\": \"paper\", \"yref\": \"paper\"}, {\"x\": 0.01, \"y\": 1.2, \"showarrow\": false, \"text\": \"SUBJECT: 20\", \"font\": {\"family\": \"Arial, sans-serif\", \"size\": 22}, \"xref\": \"paper\", \"yref\": \"paper\"}]}, {\"showLink\": true, \"linkText\": \"Export to plot.ly\"})});</script>"
      ]
     },
     "metadata": {},
     "output_type": "display_data"
    },
    {
     "data": {
      "application/vnd.plotly.v1+json": {
       "data": [
        {
         "error_y": {
          "array": [
           0.3118077256767805,
           0.4157580477162434,
           0.48536925440411977,
           0.30685050502357003,
           0.4993361362191596,
           0.4065925022607889,
           0.40756992153804006
          ],
          "color": "rgb(0,170,80)",
          "type": "data",
          "visible": true
         },
         "line": {
          "color": "rgb(0,100,80)"
         },
         "mode": "lines+markers",
         "name": "Test Data",
         "type": "scatter",
         "x": [
          -1.6585000000000005,
          -0.7378947368421054,
          -0.32650000000000007,
          0.029642857142857113,
          0.2914285714285714,
          0.796875,
          1.8939285714285716
         ],
         "y": [
          3.1716958259727117,
          2.8424107588913397,
          3.361843893039624,
          2.794557229453597,
          2.400198578547652,
          2.568326822467496,
          2.657539971324566
         ]
        },
        {
         "error_y": {
          "array": [
           0.010440996408906748,
           0.010723387123751099,
           0.010386240474137,
           0.008817487851325585,
           0.012355583122280406,
           0.011719768341268078,
           0.008804793559640364
          ],
          "color": "rgb(0,100,246)",
          "type": "data",
          "visible": true
         },
         "line": {
          "color": "rgb(0,176,246)"
         },
         "mode": "lines+markers",
         "name": "Sim Data",
         "type": "scatter",
         "x": [
          -1.6585000000000005,
          -0.7378947368421054,
          -0.32650000000000007,
          0.029642857142857113,
          0.2914285714285714,
          0.796875,
          1.8939285714285716
         ],
         "y": [
          2.6529582143394115,
          2.6500575179249206,
          2.654154343252186,
          2.6580776167471605,
          2.6463667334669463,
          2.662337550892575,
          2.653864849395437
         ]
        },
        {
         "error_y": {
          "array": [
           0.06882472016116851,
           0.07233518641434492,
           0.10942433098048311,
           0.09597925890831607,
           0.11380392954509881,
           0.11967838846954225,
           0.06734350297014739
          ],
          "color": "rgb(0,170,80)",
          "type": "data",
          "visible": true
         },
         "line": {
          "color": "rgb(0,100,80)"
         },
         "mode": "lines+markers",
         "name": "Test Data",
         "type": "scatter",
         "x": [
          -1.6585000000000005,
          -0.7378947368421054,
          -0.32650000000000007,
          0.029642857142857113,
          0.2914285714285714,
          0.796875,
          1.8939285714285716
         ],
         "xaxis": "x2",
         "y": [
          0.1,
          0.10526315789473684,
          0.65,
          0.5357142857142857,
          0.7857142857142857,
          0.6875,
          0.8571428571428571
         ],
         "yaxis": "y2"
        },
        {
         "error_y": {
          "array": [
           0.0035213129707844563,
           0.0036292839532996303,
           0.0035381801487123317,
           0.00299103963066109,
           0.004229268464488925,
           0.0039524904413827736,
           0.0029725401342938977
          ],
          "color": "rgb(0,100,246)",
          "type": "data",
          "visible": true
         },
         "line": {
          "color": "rgb(0,176,246)"
         },
         "mode": "lines+markers",
         "name": "Sim Data",
         "type": "scatter",
         "x": [
          -1.6585000000000005,
          -0.7378947368421054,
          -0.32650000000000007,
          0.029642857142857113,
          0.2914285714285714,
          0.796875,
          1.8939285714285716
         ],
         "xaxis": "x2",
         "y": [
          0.44972192995641064,
          0.4868726275832982,
          0.4893297264803126,
          0.5020218285918769,
          0.5102347552247352,
          0.5246476667710617,
          0.5548400944408671
         ],
         "yaxis": "y2"
        }
       ],
       "layout": {
        "annotations": [
         {
          "showarrow": false,
          "text": "PARAMETERS: v: 0.005, a: 0.135, θ: 0.64",
          "x": 0.01,
          "xref": "paper",
          "y": 1.12,
          "yref": "paper"
         },
         {
          "showarrow": false,
          "text": "MLE: 1134.92",
          "x": 0.01,
          "xref": "paper",
          "y": 1.08,
          "yref": "paper"
         },
         {
          "font": {
           "family": "Arial, sans-serif",
           "size": 22
          },
          "showarrow": false,
          "text": "SUBJECT: 21",
          "x": 0.01,
          "xref": "paper",
          "y": 1.2,
          "yref": "paper"
         }
        ],
        "paper_bgcolor": "rgb(255,255,255)",
        "plot_bgcolor": "rgb(229,229,229)",
        "xaxis": {
         "domain": [
          0,
          0.45
         ],
         "gridcolor": "rgb(255,255,255)",
         "range": [
          -2,
          2
         ],
         "showgrid": true,
         "showline": false,
         "showticklabels": true,
         "tickcolor": "rgb(127,127,127)",
         "ticks": "outside",
         "title": "Net Value ($)",
         "zeroline": false
        },
        "xaxis2": {
         "domain": [
          0.55,
          1
         ],
         "gridcolor": "rgb(255,255,255)",
         "range": [
          -2,
          2
         ],
         "showgrid": true,
         "showline": false,
         "showticklabels": true,
         "tickcolor": "rgb(127,127,127)",
         "ticks": "outside",
         "title": "Net Value ($)",
         "zeroline": false
        },
        "yaxis1": {
         "anchor": "x1",
         "gridcolor": "rgb(255,255,255)",
         "range": [
          0
         ],
         "showgrid": true,
         "showline": false,
         "showticklabels": true,
         "tickcolor": "rgb(127,127,127)",
         "ticks": "outside",
         "title": "RT (s)",
         "zeroline": false
        },
        "yaxis2": {
         "anchor": "x2",
         "gridcolor": "rgb(255,255,255)",
         "range": [
          0
         ],
         "showgrid": true,
         "showline": false,
         "showticklabels": true,
         "tickcolor": "rgb(127,127,127)",
         "ticks": "outside",
         "title": "p (accept)",
         "zeroline": false
        }
       }
      },
      "text/html": [
       "<div id=\"e3a695cc-ff22-4030-8263-c2652f860a68\" style=\"height: 525px; width: 100%;\" class=\"plotly-graph-div\"></div><script type=\"text/javascript\">require([\"plotly\"], function(Plotly) { window.PLOTLYENV=window.PLOTLYENV || {};window.PLOTLYENV.BASE_URL=\"https://plot.ly\";Plotly.newPlot(\"e3a695cc-ff22-4030-8263-c2652f860a68\", [{\"type\": \"scatter\", \"x\": [-1.6585000000000005, -0.7378947368421054, -0.32650000000000007, 0.029642857142857113, 0.2914285714285714, 0.796875, 1.8939285714285716], \"y\": [3.1716958259727117, 2.8424107588913397, 3.361843893039624, 2.794557229453597, 2.400198578547652, 2.568326822467496, 2.657539971324566], \"error_y\": {\"type\": \"data\", \"array\": [0.3118077256767805, 0.4157580477162434, 0.48536925440411977, 0.30685050502357003, 0.4993361362191596, 0.4065925022607889, 0.40756992153804006], \"color\": \"rgb(0,170,80)\", \"visible\": true}, \"line\": {\"color\": \"rgb(0,100,80)\"}, \"mode\": \"lines+markers\", \"name\": \"Test Data\"}, {\"type\": \"scatter\", \"x\": [-1.6585000000000005, -0.7378947368421054, -0.32650000000000007, 0.029642857142857113, 0.2914285714285714, 0.796875, 1.8939285714285716], \"y\": [2.6529582143394115, 2.6500575179249206, 2.654154343252186, 2.6580776167471605, 2.6463667334669463, 2.662337550892575, 2.653864849395437], \"error_y\": {\"type\": \"data\", \"array\": [0.010440996408906748, 0.010723387123751099, 0.010386240474137, 0.008817487851325585, 0.012355583122280406, 0.011719768341268078, 0.008804793559640364], \"color\": \"rgb(0,100,246)\", \"visible\": true}, \"line\": {\"color\": \"rgb(0,176,246)\"}, \"mode\": \"lines+markers\", \"name\": \"Sim Data\"}, {\"type\": \"scatter\", \"x\": [-1.6585000000000005, -0.7378947368421054, -0.32650000000000007, 0.029642857142857113, 0.2914285714285714, 0.796875, 1.8939285714285716], \"y\": [0.1, 0.10526315789473684, 0.65, 0.5357142857142857, 0.7857142857142857, 0.6875, 0.8571428571428571], \"error_y\": {\"type\": \"data\", \"array\": [0.06882472016116851, 0.07233518641434492, 0.10942433098048311, 0.09597925890831607, 0.11380392954509881, 0.11967838846954225, 0.06734350297014739], \"color\": \"rgb(0,170,80)\", \"visible\": true}, \"line\": {\"color\": \"rgb(0,100,80)\"}, \"mode\": \"lines+markers\", \"name\": \"Test Data\", \"xaxis\": \"x2\", \"yaxis\": \"y2\"}, {\"type\": \"scatter\", \"x\": [-1.6585000000000005, -0.7378947368421054, -0.32650000000000007, 0.029642857142857113, 0.2914285714285714, 0.796875, 1.8939285714285716], \"y\": [0.44972192995641064, 0.4868726275832982, 0.4893297264803126, 0.5020218285918769, 0.5102347552247352, 0.5246476667710617, 0.5548400944408671], \"error_y\": {\"type\": \"data\", \"array\": [0.0035213129707844563, 0.0036292839532996303, 0.0035381801487123317, 0.00299103963066109, 0.004229268464488925, 0.0039524904413827736, 0.0029725401342938977], \"color\": \"rgb(0,100,246)\", \"visible\": true}, \"line\": {\"color\": \"rgb(0,176,246)\"}, \"mode\": \"lines+markers\", \"name\": \"Sim Data\", \"xaxis\": \"x2\", \"yaxis\": \"y2\"}], {\"paper_bgcolor\": \"rgb(255,255,255)\", \"plot_bgcolor\": \"rgb(229,229,229)\", \"xaxis\": {\"gridcolor\": \"rgb(255,255,255)\", \"range\": [-2, 2], \"domain\": [0, 0.45], \"showgrid\": true, \"showline\": false, \"showticklabels\": true, \"tickcolor\": \"rgb(127,127,127)\", \"ticks\": \"outside\", \"title\": \"Net Value ($)\", \"zeroline\": false}, \"xaxis2\": {\"gridcolor\": \"rgb(255,255,255)\", \"range\": [-2, 2], \"domain\": [0.55, 1], \"showgrid\": true, \"showline\": false, \"showticklabels\": true, \"tickcolor\": \"rgb(127,127,127)\", \"ticks\": \"outside\", \"title\": \"Net Value ($)\", \"zeroline\": false}, \"yaxis1\": {\"gridcolor\": \"rgb(255,255,255)\", \"range\": [0], \"showgrid\": true, \"showline\": false, \"showticklabels\": true, \"tickcolor\": \"rgb(127,127,127)\", \"ticks\": \"outside\", \"title\": \"RT (s)\", \"anchor\": \"x1\", \"zeroline\": false}, \"yaxis2\": {\"gridcolor\": \"rgb(255,255,255)\", \"range\": [0], \"showgrid\": true, \"showline\": false, \"showticklabels\": true, \"tickcolor\": \"rgb(127,127,127)\", \"ticks\": \"outside\", \"title\": \"p (accept)\", \"anchor\": \"x2\", \"zeroline\": false}, \"annotations\": [{\"x\": 0.01, \"y\": 1.12, \"showarrow\": false, \"text\": \"PARAMETERS: v: 0.005, a: 0.135, \\u03b8: 0.64\", \"xref\": \"paper\", \"yref\": \"paper\"}, {\"x\": 0.01, \"y\": 1.08, \"showarrow\": false, \"text\": \"MLE: 1134.92\", \"xref\": \"paper\", \"yref\": \"paper\"}, {\"x\": 0.01, \"y\": 1.2, \"showarrow\": false, \"text\": \"SUBJECT: 21\", \"font\": {\"family\": \"Arial, sans-serif\", \"size\": 22}, \"xref\": \"paper\", \"yref\": \"paper\"}]}, {\"showLink\": true, \"linkText\": \"Export to plot.ly\"})});</script>"
      ],
      "text/vnd.plotly.v1+html": [
       "<div id=\"e3a695cc-ff22-4030-8263-c2652f860a68\" style=\"height: 525px; width: 100%;\" class=\"plotly-graph-div\"></div><script type=\"text/javascript\">require([\"plotly\"], function(Plotly) { window.PLOTLYENV=window.PLOTLYENV || {};window.PLOTLYENV.BASE_URL=\"https://plot.ly\";Plotly.newPlot(\"e3a695cc-ff22-4030-8263-c2652f860a68\", [{\"type\": \"scatter\", \"x\": [-1.6585000000000005, -0.7378947368421054, -0.32650000000000007, 0.029642857142857113, 0.2914285714285714, 0.796875, 1.8939285714285716], \"y\": [3.1716958259727117, 2.8424107588913397, 3.361843893039624, 2.794557229453597, 2.400198578547652, 2.568326822467496, 2.657539971324566], \"error_y\": {\"type\": \"data\", \"array\": [0.3118077256767805, 0.4157580477162434, 0.48536925440411977, 0.30685050502357003, 0.4993361362191596, 0.4065925022607889, 0.40756992153804006], \"color\": \"rgb(0,170,80)\", \"visible\": true}, \"line\": {\"color\": \"rgb(0,100,80)\"}, \"mode\": \"lines+markers\", \"name\": \"Test Data\"}, {\"type\": \"scatter\", \"x\": [-1.6585000000000005, -0.7378947368421054, -0.32650000000000007, 0.029642857142857113, 0.2914285714285714, 0.796875, 1.8939285714285716], \"y\": [2.6529582143394115, 2.6500575179249206, 2.654154343252186, 2.6580776167471605, 2.6463667334669463, 2.662337550892575, 2.653864849395437], \"error_y\": {\"type\": \"data\", \"array\": [0.010440996408906748, 0.010723387123751099, 0.010386240474137, 0.008817487851325585, 0.012355583122280406, 0.011719768341268078, 0.008804793559640364], \"color\": \"rgb(0,100,246)\", \"visible\": true}, \"line\": {\"color\": \"rgb(0,176,246)\"}, \"mode\": \"lines+markers\", \"name\": \"Sim Data\"}, {\"type\": \"scatter\", \"x\": [-1.6585000000000005, -0.7378947368421054, -0.32650000000000007, 0.029642857142857113, 0.2914285714285714, 0.796875, 1.8939285714285716], \"y\": [0.1, 0.10526315789473684, 0.65, 0.5357142857142857, 0.7857142857142857, 0.6875, 0.8571428571428571], \"error_y\": {\"type\": \"data\", \"array\": [0.06882472016116851, 0.07233518641434492, 0.10942433098048311, 0.09597925890831607, 0.11380392954509881, 0.11967838846954225, 0.06734350297014739], \"color\": \"rgb(0,170,80)\", \"visible\": true}, \"line\": {\"color\": \"rgb(0,100,80)\"}, \"mode\": \"lines+markers\", \"name\": \"Test Data\", \"xaxis\": \"x2\", \"yaxis\": \"y2\"}, {\"type\": \"scatter\", \"x\": [-1.6585000000000005, -0.7378947368421054, -0.32650000000000007, 0.029642857142857113, 0.2914285714285714, 0.796875, 1.8939285714285716], \"y\": [0.44972192995641064, 0.4868726275832982, 0.4893297264803126, 0.5020218285918769, 0.5102347552247352, 0.5246476667710617, 0.5548400944408671], \"error_y\": {\"type\": \"data\", \"array\": [0.0035213129707844563, 0.0036292839532996303, 0.0035381801487123317, 0.00299103963066109, 0.004229268464488925, 0.0039524904413827736, 0.0029725401342938977], \"color\": \"rgb(0,100,246)\", \"visible\": true}, \"line\": {\"color\": \"rgb(0,176,246)\"}, \"mode\": \"lines+markers\", \"name\": \"Sim Data\", \"xaxis\": \"x2\", \"yaxis\": \"y2\"}], {\"paper_bgcolor\": \"rgb(255,255,255)\", \"plot_bgcolor\": \"rgb(229,229,229)\", \"xaxis\": {\"gridcolor\": \"rgb(255,255,255)\", \"range\": [-2, 2], \"domain\": [0, 0.45], \"showgrid\": true, \"showline\": false, \"showticklabels\": true, \"tickcolor\": \"rgb(127,127,127)\", \"ticks\": \"outside\", \"title\": \"Net Value ($)\", \"zeroline\": false}, \"xaxis2\": {\"gridcolor\": \"rgb(255,255,255)\", \"range\": [-2, 2], \"domain\": [0.55, 1], \"showgrid\": true, \"showline\": false, \"showticklabels\": true, \"tickcolor\": \"rgb(127,127,127)\", \"ticks\": \"outside\", \"title\": \"Net Value ($)\", \"zeroline\": false}, \"yaxis1\": {\"gridcolor\": \"rgb(255,255,255)\", \"range\": [0], \"showgrid\": true, \"showline\": false, \"showticklabels\": true, \"tickcolor\": \"rgb(127,127,127)\", \"ticks\": \"outside\", \"title\": \"RT (s)\", \"anchor\": \"x1\", \"zeroline\": false}, \"yaxis2\": {\"gridcolor\": \"rgb(255,255,255)\", \"range\": [0], \"showgrid\": true, \"showline\": false, \"showticklabels\": true, \"tickcolor\": \"rgb(127,127,127)\", \"ticks\": \"outside\", \"title\": \"p (accept)\", \"anchor\": \"x2\", \"zeroline\": false}, \"annotations\": [{\"x\": 0.01, \"y\": 1.12, \"showarrow\": false, \"text\": \"PARAMETERS: v: 0.005, a: 0.135, \\u03b8: 0.64\", \"xref\": \"paper\", \"yref\": \"paper\"}, {\"x\": 0.01, \"y\": 1.08, \"showarrow\": false, \"text\": \"MLE: 1134.92\", \"xref\": \"paper\", \"yref\": \"paper\"}, {\"x\": 0.01, \"y\": 1.2, \"showarrow\": false, \"text\": \"SUBJECT: 21\", \"font\": {\"family\": \"Arial, sans-serif\", \"size\": 22}, \"xref\": \"paper\", \"yref\": \"paper\"}]}, {\"showLink\": true, \"linkText\": \"Export to plot.ly\"})});</script>"
      ]
     },
     "metadata": {},
     "output_type": "display_data"
    },
    {
     "data": {
      "application/vnd.plotly.v1+json": {
       "data": [
        {
         "error_y": {
          "array": [
           0.19173348011571628,
           0.5611668883511371,
           0.3445719090842054,
           0.3016608943141484,
           0.1986324750225816,
           0.376504634637793,
           0.20831930727925804
          ],
          "color": "rgb(0,170,80)",
          "type": "data",
          "visible": true
         },
         "line": {
          "color": "rgb(0,100,80)"
         },
         "mode": "lines+markers",
         "name": "Test Data",
         "type": "scatter",
         "x": [
          -1.6217391304347828,
          -0.765,
          -0.32772727272727276,
          0.036399999999999946,
          0.30249999999999994,
          0.7152941176470591,
          1.5676
         ],
         "y": [
          2.216818046609304,
          3.108484979552616,
          3.016053792057474,
          3.3867811144399464,
          2.9161136444114777,
          2.415822366468252,
          2.1334348148759457
         ]
        },
        {
         "error_y": {
          "array": [
           0.008121666402837378,
           0.011910613135330716,
           0.009860948829679242,
           0.00919213425841134,
           0.009364057753235388,
           0.010912984534377293,
           0.007890078927150154
          ],
          "color": "rgb(0,100,246)",
          "type": "data",
          "visible": true
         },
         "line": {
          "color": "rgb(0,176,246)"
         },
         "mode": "lines+markers",
         "name": "Sim Data",
         "type": "scatter",
         "x": [
          -1.6217391304347828,
          -0.765,
          -0.32772727272727276,
          0.036399999999999946,
          0.30249999999999994,
          0.7152941176470591,
          1.5676
         ],
         "y": [
          2.3700285813720825,
          2.5632011444921448,
          2.6256919083830352,
          2.63471109152108,
          2.640696816721596,
          2.587765374646551,
          2.3884214442888605
         ]
        },
        {
         "error_y": {
          "array": [
           0,
           0.09705231721239391,
           0.09144861547306322,
           0.09165151389911681,
           0.09477598811252413,
           0,
           0.04
          ],
          "color": "rgb(0,170,80)",
          "type": "data",
          "visible": true
         },
         "line": {
          "color": "rgb(0,100,80)"
         },
         "mode": "lines+markers",
         "name": "Test Data",
         "type": "scatter",
         "x": [
          -1.6217391304347828,
          -0.765,
          -0.32772727272727276,
          0.036399999999999946,
          0.30249999999999994,
          0.7152941176470591,
          1.5676
         ],
         "xaxis": "x2",
         "y": [
          0,
          0.14285714285714285,
          0.22727272727272727,
          0.72,
          0.7083333333333334,
          1,
          0.96
         ],
         "yaxis": "y2"
        },
        {
         "error_y": {
          "array": [
           0.0025908187223149443,
           0.003977575012890293,
           0.0033297178701341456,
           0.0031649138494385678,
           0.0031969630842407374,
           0.0036138837143727736,
           0.0024990494860325793
          ],
          "color": "rgb(0,100,246)",
          "type": "data",
          "visible": true
         },
         "line": {
          "color": "rgb(0,176,246)"
         },
         "mode": "lines+markers",
         "name": "Sim Data",
         "type": "scatter",
         "x": [
          -1.6217391304347828,
          -0.765,
          -0.32772727272727276,
          0.036399999999999946,
          0.30249999999999994,
          0.7152941176470591,
          1.5676
         ],
         "xaxis": "x2",
         "y": [
          0.19062948623134815,
          0.3301859799713877,
          0.4191976685943263,
          0.49418977400224395,
          0.5709458049981225,
          0.6682375117813384,
          0.8064412882576515
         ],
         "yaxis": "y2"
        }
       ],
       "layout": {
        "annotations": [
         {
          "showarrow": false,
          "text": "PARAMETERS: v: 0.041, a: 0.135, θ: 0.64",
          "x": 0.01,
          "xref": "paper",
          "y": 1.12,
          "yref": "paper"
         },
         {
          "showarrow": false,
          "text": "MLE: 641.0",
          "x": 0.01,
          "xref": "paper",
          "y": 1.08,
          "yref": "paper"
         },
         {
          "font": {
           "family": "Arial, sans-serif",
           "size": 22
          },
          "showarrow": false,
          "text": "SUBJECT: 22",
          "x": 0.01,
          "xref": "paper",
          "y": 1.2,
          "yref": "paper"
         }
        ],
        "paper_bgcolor": "rgb(255,255,255)",
        "plot_bgcolor": "rgb(229,229,229)",
        "xaxis": {
         "domain": [
          0,
          0.45
         ],
         "gridcolor": "rgb(255,255,255)",
         "range": [
          -2,
          2
         ],
         "showgrid": true,
         "showline": false,
         "showticklabels": true,
         "tickcolor": "rgb(127,127,127)",
         "ticks": "outside",
         "title": "Net Value ($)",
         "zeroline": false
        },
        "xaxis2": {
         "domain": [
          0.55,
          1
         ],
         "gridcolor": "rgb(255,255,255)",
         "range": [
          -2,
          2
         ],
         "showgrid": true,
         "showline": false,
         "showticklabels": true,
         "tickcolor": "rgb(127,127,127)",
         "ticks": "outside",
         "title": "Net Value ($)",
         "zeroline": false
        },
        "yaxis1": {
         "anchor": "x1",
         "gridcolor": "rgb(255,255,255)",
         "range": [
          0
         ],
         "showgrid": true,
         "showline": false,
         "showticklabels": true,
         "tickcolor": "rgb(127,127,127)",
         "ticks": "outside",
         "title": "RT (s)",
         "zeroline": false
        },
        "yaxis2": {
         "anchor": "x2",
         "gridcolor": "rgb(255,255,255)",
         "range": [
          0
         ],
         "showgrid": true,
         "showline": false,
         "showticklabels": true,
         "tickcolor": "rgb(127,127,127)",
         "ticks": "outside",
         "title": "p (accept)",
         "zeroline": false
        }
       }
      },
      "text/html": [
       "<div id=\"e05a09ff-0266-4128-be59-1aa7a59ff29b\" style=\"height: 525px; width: 100%;\" class=\"plotly-graph-div\"></div><script type=\"text/javascript\">require([\"plotly\"], function(Plotly) { window.PLOTLYENV=window.PLOTLYENV || {};window.PLOTLYENV.BASE_URL=\"https://plot.ly\";Plotly.newPlot(\"e05a09ff-0266-4128-be59-1aa7a59ff29b\", [{\"type\": \"scatter\", \"x\": [-1.6217391304347828, -0.765, -0.32772727272727276, 0.036399999999999946, 0.30249999999999994, 0.7152941176470591, 1.5676], \"y\": [2.216818046609304, 3.108484979552616, 3.016053792057474, 3.3867811144399464, 2.9161136444114777, 2.415822366468252, 2.1334348148759457], \"error_y\": {\"type\": \"data\", \"array\": [0.19173348011571628, 0.5611668883511371, 0.3445719090842054, 0.3016608943141484, 0.1986324750225816, 0.376504634637793, 0.20831930727925804], \"color\": \"rgb(0,170,80)\", \"visible\": true}, \"line\": {\"color\": \"rgb(0,100,80)\"}, \"mode\": \"lines+markers\", \"name\": \"Test Data\"}, {\"type\": \"scatter\", \"x\": [-1.6217391304347828, -0.765, -0.32772727272727276, 0.036399999999999946, 0.30249999999999994, 0.7152941176470591, 1.5676], \"y\": [2.3700285813720825, 2.5632011444921448, 2.6256919083830352, 2.63471109152108, 2.640696816721596, 2.587765374646551, 2.3884214442888605], \"error_y\": {\"type\": \"data\", \"array\": [0.008121666402837378, 0.011910613135330716, 0.009860948829679242, 0.00919213425841134, 0.009364057753235388, 0.010912984534377293, 0.007890078927150154], \"color\": \"rgb(0,100,246)\", \"visible\": true}, \"line\": {\"color\": \"rgb(0,176,246)\"}, \"mode\": \"lines+markers\", \"name\": \"Sim Data\"}, {\"type\": \"scatter\", \"x\": [-1.6217391304347828, -0.765, -0.32772727272727276, 0.036399999999999946, 0.30249999999999994, 0.7152941176470591, 1.5676], \"y\": [0.0, 0.14285714285714285, 0.22727272727272727, 0.72, 0.7083333333333334, 1.0, 0.96], \"error_y\": {\"type\": \"data\", \"array\": [0.0, 0.09705231721239391, 0.09144861547306322, 0.09165151389911681, 0.09477598811252413, 0.0, 0.04], \"color\": \"rgb(0,170,80)\", \"visible\": true}, \"line\": {\"color\": \"rgb(0,100,80)\"}, \"mode\": \"lines+markers\", \"name\": \"Test Data\", \"xaxis\": \"x2\", \"yaxis\": \"y2\"}, {\"type\": \"scatter\", \"x\": [-1.6217391304347828, -0.765, -0.32772727272727276, 0.036399999999999946, 0.30249999999999994, 0.7152941176470591, 1.5676], \"y\": [0.19062948623134815, 0.3301859799713877, 0.4191976685943263, 0.49418977400224395, 0.5709458049981225, 0.6682375117813384, 0.8064412882576515], \"error_y\": {\"type\": \"data\", \"array\": [0.0025908187223149443, 0.003977575012890293, 0.0033297178701341456, 0.0031649138494385678, 0.0031969630842407374, 0.0036138837143727736, 0.0024990494860325793], \"color\": \"rgb(0,100,246)\", \"visible\": true}, \"line\": {\"color\": \"rgb(0,176,246)\"}, \"mode\": \"lines+markers\", \"name\": \"Sim Data\", \"xaxis\": \"x2\", \"yaxis\": \"y2\"}], {\"paper_bgcolor\": \"rgb(255,255,255)\", \"plot_bgcolor\": \"rgb(229,229,229)\", \"xaxis\": {\"gridcolor\": \"rgb(255,255,255)\", \"range\": [-2, 2], \"domain\": [0, 0.45], \"showgrid\": true, \"showline\": false, \"showticklabels\": true, \"tickcolor\": \"rgb(127,127,127)\", \"ticks\": \"outside\", \"title\": \"Net Value ($)\", \"zeroline\": false}, \"xaxis2\": {\"gridcolor\": \"rgb(255,255,255)\", \"range\": [-2, 2], \"domain\": [0.55, 1], \"showgrid\": true, \"showline\": false, \"showticklabels\": true, \"tickcolor\": \"rgb(127,127,127)\", \"ticks\": \"outside\", \"title\": \"Net Value ($)\", \"zeroline\": false}, \"yaxis1\": {\"gridcolor\": \"rgb(255,255,255)\", \"range\": [0], \"showgrid\": true, \"showline\": false, \"showticklabels\": true, \"tickcolor\": \"rgb(127,127,127)\", \"ticks\": \"outside\", \"title\": \"RT (s)\", \"anchor\": \"x1\", \"zeroline\": false}, \"yaxis2\": {\"gridcolor\": \"rgb(255,255,255)\", \"range\": [0], \"showgrid\": true, \"showline\": false, \"showticklabels\": true, \"tickcolor\": \"rgb(127,127,127)\", \"ticks\": \"outside\", \"title\": \"p (accept)\", \"anchor\": \"x2\", \"zeroline\": false}, \"annotations\": [{\"x\": 0.01, \"y\": 1.12, \"showarrow\": false, \"text\": \"PARAMETERS: v: 0.041, a: 0.135, \\u03b8: 0.64\", \"xref\": \"paper\", \"yref\": \"paper\"}, {\"x\": 0.01, \"y\": 1.08, \"showarrow\": false, \"text\": \"MLE: 641.0\", \"xref\": \"paper\", \"yref\": \"paper\"}, {\"x\": 0.01, \"y\": 1.2, \"showarrow\": false, \"text\": \"SUBJECT: 22\", \"font\": {\"family\": \"Arial, sans-serif\", \"size\": 22}, \"xref\": \"paper\", \"yref\": \"paper\"}]}, {\"showLink\": true, \"linkText\": \"Export to plot.ly\"})});</script>"
      ],
      "text/vnd.plotly.v1+html": [
       "<div id=\"e05a09ff-0266-4128-be59-1aa7a59ff29b\" style=\"height: 525px; width: 100%;\" class=\"plotly-graph-div\"></div><script type=\"text/javascript\">require([\"plotly\"], function(Plotly) { window.PLOTLYENV=window.PLOTLYENV || {};window.PLOTLYENV.BASE_URL=\"https://plot.ly\";Plotly.newPlot(\"e05a09ff-0266-4128-be59-1aa7a59ff29b\", [{\"type\": \"scatter\", \"x\": [-1.6217391304347828, -0.765, -0.32772727272727276, 0.036399999999999946, 0.30249999999999994, 0.7152941176470591, 1.5676], \"y\": [2.216818046609304, 3.108484979552616, 3.016053792057474, 3.3867811144399464, 2.9161136444114777, 2.415822366468252, 2.1334348148759457], \"error_y\": {\"type\": \"data\", \"array\": [0.19173348011571628, 0.5611668883511371, 0.3445719090842054, 0.3016608943141484, 0.1986324750225816, 0.376504634637793, 0.20831930727925804], \"color\": \"rgb(0,170,80)\", \"visible\": true}, \"line\": {\"color\": \"rgb(0,100,80)\"}, \"mode\": \"lines+markers\", \"name\": \"Test Data\"}, {\"type\": \"scatter\", \"x\": [-1.6217391304347828, -0.765, -0.32772727272727276, 0.036399999999999946, 0.30249999999999994, 0.7152941176470591, 1.5676], \"y\": [2.3700285813720825, 2.5632011444921448, 2.6256919083830352, 2.63471109152108, 2.640696816721596, 2.587765374646551, 2.3884214442888605], \"error_y\": {\"type\": \"data\", \"array\": [0.008121666402837378, 0.011910613135330716, 0.009860948829679242, 0.00919213425841134, 0.009364057753235388, 0.010912984534377293, 0.007890078927150154], \"color\": \"rgb(0,100,246)\", \"visible\": true}, \"line\": {\"color\": \"rgb(0,176,246)\"}, \"mode\": \"lines+markers\", \"name\": \"Sim Data\"}, {\"type\": \"scatter\", \"x\": [-1.6217391304347828, -0.765, -0.32772727272727276, 0.036399999999999946, 0.30249999999999994, 0.7152941176470591, 1.5676], \"y\": [0.0, 0.14285714285714285, 0.22727272727272727, 0.72, 0.7083333333333334, 1.0, 0.96], \"error_y\": {\"type\": \"data\", \"array\": [0.0, 0.09705231721239391, 0.09144861547306322, 0.09165151389911681, 0.09477598811252413, 0.0, 0.04], \"color\": \"rgb(0,170,80)\", \"visible\": true}, \"line\": {\"color\": \"rgb(0,100,80)\"}, \"mode\": \"lines+markers\", \"name\": \"Test Data\", \"xaxis\": \"x2\", \"yaxis\": \"y2\"}, {\"type\": \"scatter\", \"x\": [-1.6217391304347828, -0.765, -0.32772727272727276, 0.036399999999999946, 0.30249999999999994, 0.7152941176470591, 1.5676], \"y\": [0.19062948623134815, 0.3301859799713877, 0.4191976685943263, 0.49418977400224395, 0.5709458049981225, 0.6682375117813384, 0.8064412882576515], \"error_y\": {\"type\": \"data\", \"array\": [0.0025908187223149443, 0.003977575012890293, 0.0033297178701341456, 0.0031649138494385678, 0.0031969630842407374, 0.0036138837143727736, 0.0024990494860325793], \"color\": \"rgb(0,100,246)\", \"visible\": true}, \"line\": {\"color\": \"rgb(0,176,246)\"}, \"mode\": \"lines+markers\", \"name\": \"Sim Data\", \"xaxis\": \"x2\", \"yaxis\": \"y2\"}], {\"paper_bgcolor\": \"rgb(255,255,255)\", \"plot_bgcolor\": \"rgb(229,229,229)\", \"xaxis\": {\"gridcolor\": \"rgb(255,255,255)\", \"range\": [-2, 2], \"domain\": [0, 0.45], \"showgrid\": true, \"showline\": false, \"showticklabels\": true, \"tickcolor\": \"rgb(127,127,127)\", \"ticks\": \"outside\", \"title\": \"Net Value ($)\", \"zeroline\": false}, \"xaxis2\": {\"gridcolor\": \"rgb(255,255,255)\", \"range\": [-2, 2], \"domain\": [0.55, 1], \"showgrid\": true, \"showline\": false, \"showticklabels\": true, \"tickcolor\": \"rgb(127,127,127)\", \"ticks\": \"outside\", \"title\": \"Net Value ($)\", \"zeroline\": false}, \"yaxis1\": {\"gridcolor\": \"rgb(255,255,255)\", \"range\": [0], \"showgrid\": true, \"showline\": false, \"showticklabels\": true, \"tickcolor\": \"rgb(127,127,127)\", \"ticks\": \"outside\", \"title\": \"RT (s)\", \"anchor\": \"x1\", \"zeroline\": false}, \"yaxis2\": {\"gridcolor\": \"rgb(255,255,255)\", \"range\": [0], \"showgrid\": true, \"showline\": false, \"showticklabels\": true, \"tickcolor\": \"rgb(127,127,127)\", \"ticks\": \"outside\", \"title\": \"p (accept)\", \"anchor\": \"x2\", \"zeroline\": false}, \"annotations\": [{\"x\": 0.01, \"y\": 1.12, \"showarrow\": false, \"text\": \"PARAMETERS: v: 0.041, a: 0.135, \\u03b8: 0.64\", \"xref\": \"paper\", \"yref\": \"paper\"}, {\"x\": 0.01, \"y\": 1.08, \"showarrow\": false, \"text\": \"MLE: 641.0\", \"xref\": \"paper\", \"yref\": \"paper\"}, {\"x\": 0.01, \"y\": 1.2, \"showarrow\": false, \"text\": \"SUBJECT: 22\", \"font\": {\"family\": \"Arial, sans-serif\", \"size\": 22}, \"xref\": \"paper\", \"yref\": \"paper\"}]}, {\"showLink\": true, \"linkText\": \"Export to plot.ly\"})});</script>"
      ]
     },
     "metadata": {},
     "output_type": "display_data"
    }
   ],
   "source": [
    "for i in range(23):\n",
    "    mplot.plotly_combined(i, subject_data, test_expdata, subj_params_df)"
   ]
  },
  {
   "cell_type": "code",
   "execution_count": 7,
   "metadata": {
    "collapsed": false,
    "hidden": true,
    "scrolled": false
   },
   "outputs": [
    {
     "data": {
      "application/vnd.plotly.v1+json": {
       "data": [
        {
         "error_y": {
          "array": [
           0.26691156466118776,
           0.5625841894881555,
           0.3092635890278254,
           0.16773999036033826,
           0.22250602510869272,
           0.3783604602105652,
           0.3959290719366735
          ],
          "color": "rgb(0,170,80)",
          "type": "data",
          "visible": true
         },
         "line": {
          "color": "rgb(0,100,80)"
         },
         "mode": "lines+markers",
         "name": "Test Data",
         "type": "scatter",
         "x": [
          -1.7333333333333336,
          -0.7562499999999999,
          -0.3029166666666668,
          0.04949999999999995,
          0.30600000000000005,
          0.7723809523809525,
          1.9495238095238094
         ],
         "y": [
          3.0015640740833374,
          3.702286981255382,
          3.472419469435408,
          3.123474994549179,
          2.8109845845370725,
          2.8382288735062646,
          3.0082048231450322
         ]
        },
        {
         "error_y": {
          "array": [
           0.009055201713103587,
           0.016797914659598335,
           0.015503424114395842,
           0.016853786729004512,
           0.01692621076085038,
           0.015003364140720279,
           0.009563525046346695
          ],
          "color": "rgb(0,100,246)",
          "type": "data",
          "visible": true
         },
         "line": {
          "color": "rgb(0,176,246)"
         },
         "mode": "lines+markers",
         "name": "Sim Data",
         "type": "scatter",
         "x": [
          -1.7333333333333336,
          -0.7562499999999999,
          -0.3029166666666668,
          0.04949999999999995,
          0.30600000000000005,
          0.7723809523809525,
          1.9495238095238094
         ],
         "y": [
          2.896175004175723,
          3.9893921378776,
          4.4403189803495415,
          4.328841280985036,
          4.490330785493614,
          4.111567153104131,
          2.7527906799082973
         ]
        },
        {
         "error_y": {
          "array": [
           0.04166666666666667,
           0.08539125638299665,
           0.0982946374365981,
           0.10942433098048308,
           0.06882472016116851,
           0.0878051853075513,
           0.047619047619047616
          ],
          "color": "rgb(0,170,80)",
          "type": "data",
          "visible": true
         },
         "line": {
          "color": "rgb(0,100,80)"
         },
         "mode": "lines+markers",
         "name": "Test Data",
         "type": "scatter",
         "x": [
          -1.7333333333333336,
          -0.7562499999999999,
          -0.3029166666666668,
          0.04949999999999995,
          0.30600000000000005,
          0.7723809523809525,
          1.9495238095238094
         ],
         "xaxis": "x2",
         "y": [
          0.041666666666666664,
          0.125,
          0.3333333333333333,
          0.65,
          0.9,
          0.8095238095238095,
          0.9523809523809523
         ],
         "yaxis": "y2"
        },
        {
         "error_y": {
          "array": [
           0.0007776706684794725,
           0.002709460586867693,
           0.003044995311480566,
           0.0036740733293685987,
           0.0034359950691749456,
           0.0025976158991440883,
           0.000889502138280667
          ],
          "color": "rgb(0,100,246)",
          "type": "data",
          "visible": true
         },
         "line": {
          "color": "rgb(0,176,246)"
         },
         "mode": "lines+markers",
         "name": "Sim Data",
         "type": "scatter",
         "x": [
          -1.7333333333333336,
          -0.7562499999999999,
          -0.3029166666666668,
          0.04949999999999995,
          0.30600000000000005,
          0.7723809523809525,
          1.9495238095238094
         ],
         "xaxis": "x2",
         "y": [
          0.014698513445799232,
          0.13084172476116707,
          0.28733134112107217,
          0.5074796133282929,
          0.6795142841654469,
          0.837051694286421,
          0.9831455309396486
         ],
         "yaxis": "y2"
        }
       ],
       "layout": {
        "annotations": [
         {
          "showarrow": false,
          "text": "PARAMETERS: v: 0.093, a: 0.221, θ: 0.325",
          "x": 0.01,
          "xref": "paper",
          "y": 1.12,
          "yref": "paper"
         },
         {
          "showarrow": false,
          "text": "MLE: 685.76",
          "x": 0.01,
          "xref": "paper",
          "y": 1.08,
          "yref": "paper"
         },
         {
          "font": {
           "family": "Arial, sans-serif",
           "size": 22
          },
          "showarrow": false,
          "text": "SUBJECT: 0",
          "x": 0.01,
          "xref": "paper",
          "y": 1.2,
          "yref": "paper"
         }
        ],
        "paper_bgcolor": "rgb(255,255,255)",
        "plot_bgcolor": "rgb(229,229,229)",
        "xaxis": {
         "domain": [
          0,
          0.45
         ],
         "gridcolor": "rgb(255,255,255)",
         "range": [
          -2,
          2
         ],
         "showgrid": true,
         "showline": false,
         "showticklabels": true,
         "tickcolor": "rgb(127,127,127)",
         "ticks": "outside",
         "title": "Net Value ($)",
         "zeroline": false
        },
        "xaxis2": {
         "domain": [
          0.55,
          1
         ],
         "gridcolor": "rgb(255,255,255)",
         "range": [
          -2,
          2
         ],
         "showgrid": true,
         "showline": false,
         "showticklabels": true,
         "tickcolor": "rgb(127,127,127)",
         "ticks": "outside",
         "title": "Net Value ($)",
         "zeroline": false
        },
        "yaxis1": {
         "anchor": "x1",
         "gridcolor": "rgb(255,255,255)",
         "range": [
          0
         ],
         "showgrid": true,
         "showline": false,
         "showticklabels": true,
         "tickcolor": "rgb(127,127,127)",
         "ticks": "outside",
         "title": "RT (s)",
         "zeroline": false
        },
        "yaxis2": {
         "anchor": "x2",
         "gridcolor": "rgb(255,255,255)",
         "range": [
          0
         ],
         "showgrid": true,
         "showline": false,
         "showticklabels": true,
         "tickcolor": "rgb(127,127,127)",
         "ticks": "outside",
         "title": "p (accept)",
         "zeroline": false
        }
       }
      },
      "text/html": [
       "<div id=\"dc4568b4-b3c1-448c-93b1-9b10f4fbc7f1\" style=\"height: 525px; width: 100%;\" class=\"plotly-graph-div\"></div><script type=\"text/javascript\">require([\"plotly\"], function(Plotly) { window.PLOTLYENV=window.PLOTLYENV || {};window.PLOTLYENV.BASE_URL=\"https://plot.ly\";Plotly.newPlot(\"dc4568b4-b3c1-448c-93b1-9b10f4fbc7f1\", [{\"type\": \"scatter\", \"x\": [-1.7333333333333336, -0.7562499999999999, -0.3029166666666668, 0.04949999999999995, 0.30600000000000005, 0.7723809523809525, 1.9495238095238094], \"y\": [3.0015640740833374, 3.702286981255382, 3.472419469435408, 3.123474994549179, 2.8109845845370725, 2.8382288735062646, 3.0082048231450322], \"error_y\": {\"type\": \"data\", \"array\": [0.26691156466118776, 0.5625841894881555, 0.3092635890278254, 0.16773999036033826, 0.22250602510869272, 0.3783604602105652, 0.3959290719366735], \"color\": \"rgb(0,170,80)\", \"visible\": true}, \"line\": {\"color\": \"rgb(0,100,80)\"}, \"mode\": \"lines+markers\", \"name\": \"Test Data\"}, {\"type\": \"scatter\", \"x\": [-1.7333333333333336, -0.7562499999999999, -0.3029166666666668, 0.04949999999999995, 0.30600000000000005, 0.7723809523809525, 1.9495238095238094], \"y\": [2.896175004175723, 3.9893921378776, 4.4403189803495415, 4.328841280985036, 4.490330785493614, 4.111567153104131, 2.7527906799082973], \"error_y\": {\"type\": \"data\", \"array\": [0.009055201713103587, 0.016797914659598335, 0.015503424114395842, 0.016853786729004512, 0.01692621076085038, 0.015003364140720279, 0.009563525046346695], \"color\": \"rgb(0,100,246)\", \"visible\": true}, \"line\": {\"color\": \"rgb(0,176,246)\"}, \"mode\": \"lines+markers\", \"name\": \"Sim Data\"}, {\"type\": \"scatter\", \"x\": [-1.7333333333333336, -0.7562499999999999, -0.3029166666666668, 0.04949999999999995, 0.30600000000000005, 0.7723809523809525, 1.9495238095238094], \"y\": [0.041666666666666664, 0.125, 0.3333333333333333, 0.65, 0.9, 0.8095238095238095, 0.9523809523809523], \"error_y\": {\"type\": \"data\", \"array\": [0.04166666666666667, 0.08539125638299665, 0.0982946374365981, 0.10942433098048308, 0.06882472016116851, 0.0878051853075513, 0.047619047619047616], \"color\": \"rgb(0,170,80)\", \"visible\": true}, \"line\": {\"color\": \"rgb(0,100,80)\"}, \"mode\": \"lines+markers\", \"name\": \"Test Data\", \"xaxis\": \"x2\", \"yaxis\": \"y2\"}, {\"type\": \"scatter\", \"x\": [-1.7333333333333336, -0.7562499999999999, -0.3029166666666668, 0.04949999999999995, 0.30600000000000005, 0.7723809523809525, 1.9495238095238094], \"y\": [0.014698513445799232, 0.13084172476116707, 0.28733134112107217, 0.5074796133282929, 0.6795142841654469, 0.837051694286421, 0.9831455309396486], \"error_y\": {\"type\": \"data\", \"array\": [0.0007776706684794725, 0.002709460586867693, 0.003044995311480566, 0.0036740733293685987, 0.0034359950691749456, 0.0025976158991440883, 0.000889502138280667], \"color\": \"rgb(0,100,246)\", \"visible\": true}, \"line\": {\"color\": \"rgb(0,176,246)\"}, \"mode\": \"lines+markers\", \"name\": \"Sim Data\", \"xaxis\": \"x2\", \"yaxis\": \"y2\"}], {\"paper_bgcolor\": \"rgb(255,255,255)\", \"plot_bgcolor\": \"rgb(229,229,229)\", \"xaxis\": {\"gridcolor\": \"rgb(255,255,255)\", \"range\": [-2, 2], \"domain\": [0, 0.45], \"showgrid\": true, \"showline\": false, \"showticklabels\": true, \"tickcolor\": \"rgb(127,127,127)\", \"ticks\": \"outside\", \"title\": \"Net Value ($)\", \"zeroline\": false}, \"xaxis2\": {\"gridcolor\": \"rgb(255,255,255)\", \"range\": [-2, 2], \"domain\": [0.55, 1], \"showgrid\": true, \"showline\": false, \"showticklabels\": true, \"tickcolor\": \"rgb(127,127,127)\", \"ticks\": \"outside\", \"title\": \"Net Value ($)\", \"zeroline\": false}, \"yaxis1\": {\"gridcolor\": \"rgb(255,255,255)\", \"range\": [0], \"showgrid\": true, \"showline\": false, \"showticklabels\": true, \"tickcolor\": \"rgb(127,127,127)\", \"ticks\": \"outside\", \"title\": \"RT (s)\", \"anchor\": \"x1\", \"zeroline\": false}, \"yaxis2\": {\"gridcolor\": \"rgb(255,255,255)\", \"range\": [0], \"showgrid\": true, \"showline\": false, \"showticklabels\": true, \"tickcolor\": \"rgb(127,127,127)\", \"ticks\": \"outside\", \"title\": \"p (accept)\", \"anchor\": \"x2\", \"zeroline\": false}, \"annotations\": [{\"x\": 0.01, \"y\": 1.12, \"showarrow\": false, \"text\": \"PARAMETERS: v: 0.093, a: 0.221, \\u03b8: 0.325\", \"xref\": \"paper\", \"yref\": \"paper\"}, {\"x\": 0.01, \"y\": 1.08, \"showarrow\": false, \"text\": \"MLE: 685.76\", \"xref\": \"paper\", \"yref\": \"paper\"}, {\"x\": 0.01, \"y\": 1.2, \"showarrow\": false, \"text\": \"SUBJECT: 0\", \"font\": {\"family\": \"Arial, sans-serif\", \"size\": 22}, \"xref\": \"paper\", \"yref\": \"paper\"}]}, {\"showLink\": true, \"linkText\": \"Export to plot.ly\"})});</script>"
      ],
      "text/vnd.plotly.v1+html": [
       "<div id=\"dc4568b4-b3c1-448c-93b1-9b10f4fbc7f1\" style=\"height: 525px; width: 100%;\" class=\"plotly-graph-div\"></div><script type=\"text/javascript\">require([\"plotly\"], function(Plotly) { window.PLOTLYENV=window.PLOTLYENV || {};window.PLOTLYENV.BASE_URL=\"https://plot.ly\";Plotly.newPlot(\"dc4568b4-b3c1-448c-93b1-9b10f4fbc7f1\", [{\"type\": \"scatter\", \"x\": [-1.7333333333333336, -0.7562499999999999, -0.3029166666666668, 0.04949999999999995, 0.30600000000000005, 0.7723809523809525, 1.9495238095238094], \"y\": [3.0015640740833374, 3.702286981255382, 3.472419469435408, 3.123474994549179, 2.8109845845370725, 2.8382288735062646, 3.0082048231450322], \"error_y\": {\"type\": \"data\", \"array\": [0.26691156466118776, 0.5625841894881555, 0.3092635890278254, 0.16773999036033826, 0.22250602510869272, 0.3783604602105652, 0.3959290719366735], \"color\": \"rgb(0,170,80)\", \"visible\": true}, \"line\": {\"color\": \"rgb(0,100,80)\"}, \"mode\": \"lines+markers\", \"name\": \"Test Data\"}, {\"type\": \"scatter\", \"x\": [-1.7333333333333336, -0.7562499999999999, -0.3029166666666668, 0.04949999999999995, 0.30600000000000005, 0.7723809523809525, 1.9495238095238094], \"y\": [2.896175004175723, 3.9893921378776, 4.4403189803495415, 4.328841280985036, 4.490330785493614, 4.111567153104131, 2.7527906799082973], \"error_y\": {\"type\": \"data\", \"array\": [0.009055201713103587, 0.016797914659598335, 0.015503424114395842, 0.016853786729004512, 0.01692621076085038, 0.015003364140720279, 0.009563525046346695], \"color\": \"rgb(0,100,246)\", \"visible\": true}, \"line\": {\"color\": \"rgb(0,176,246)\"}, \"mode\": \"lines+markers\", \"name\": \"Sim Data\"}, {\"type\": \"scatter\", \"x\": [-1.7333333333333336, -0.7562499999999999, -0.3029166666666668, 0.04949999999999995, 0.30600000000000005, 0.7723809523809525, 1.9495238095238094], \"y\": [0.041666666666666664, 0.125, 0.3333333333333333, 0.65, 0.9, 0.8095238095238095, 0.9523809523809523], \"error_y\": {\"type\": \"data\", \"array\": [0.04166666666666667, 0.08539125638299665, 0.0982946374365981, 0.10942433098048308, 0.06882472016116851, 0.0878051853075513, 0.047619047619047616], \"color\": \"rgb(0,170,80)\", \"visible\": true}, \"line\": {\"color\": \"rgb(0,100,80)\"}, \"mode\": \"lines+markers\", \"name\": \"Test Data\", \"xaxis\": \"x2\", \"yaxis\": \"y2\"}, {\"type\": \"scatter\", \"x\": [-1.7333333333333336, -0.7562499999999999, -0.3029166666666668, 0.04949999999999995, 0.30600000000000005, 0.7723809523809525, 1.9495238095238094], \"y\": [0.014698513445799232, 0.13084172476116707, 0.28733134112107217, 0.5074796133282929, 0.6795142841654469, 0.837051694286421, 0.9831455309396486], \"error_y\": {\"type\": \"data\", \"array\": [0.0007776706684794725, 0.002709460586867693, 0.003044995311480566, 0.0036740733293685987, 0.0034359950691749456, 0.0025976158991440883, 0.000889502138280667], \"color\": \"rgb(0,100,246)\", \"visible\": true}, \"line\": {\"color\": \"rgb(0,176,246)\"}, \"mode\": \"lines+markers\", \"name\": \"Sim Data\", \"xaxis\": \"x2\", \"yaxis\": \"y2\"}], {\"paper_bgcolor\": \"rgb(255,255,255)\", \"plot_bgcolor\": \"rgb(229,229,229)\", \"xaxis\": {\"gridcolor\": \"rgb(255,255,255)\", \"range\": [-2, 2], \"domain\": [0, 0.45], \"showgrid\": true, \"showline\": false, \"showticklabels\": true, \"tickcolor\": \"rgb(127,127,127)\", \"ticks\": \"outside\", \"title\": \"Net Value ($)\", \"zeroline\": false}, \"xaxis2\": {\"gridcolor\": \"rgb(255,255,255)\", \"range\": [-2, 2], \"domain\": [0.55, 1], \"showgrid\": true, \"showline\": false, \"showticklabels\": true, \"tickcolor\": \"rgb(127,127,127)\", \"ticks\": \"outside\", \"title\": \"Net Value ($)\", \"zeroline\": false}, \"yaxis1\": {\"gridcolor\": \"rgb(255,255,255)\", \"range\": [0], \"showgrid\": true, \"showline\": false, \"showticklabels\": true, \"tickcolor\": \"rgb(127,127,127)\", \"ticks\": \"outside\", \"title\": \"RT (s)\", \"anchor\": \"x1\", \"zeroline\": false}, \"yaxis2\": {\"gridcolor\": \"rgb(255,255,255)\", \"range\": [0], \"showgrid\": true, \"showline\": false, \"showticklabels\": true, \"tickcolor\": \"rgb(127,127,127)\", \"ticks\": \"outside\", \"title\": \"p (accept)\", \"anchor\": \"x2\", \"zeroline\": false}, \"annotations\": [{\"x\": 0.01, \"y\": 1.12, \"showarrow\": false, \"text\": \"PARAMETERS: v: 0.093, a: 0.221, \\u03b8: 0.325\", \"xref\": \"paper\", \"yref\": \"paper\"}, {\"x\": 0.01, \"y\": 1.08, \"showarrow\": false, \"text\": \"MLE: 685.76\", \"xref\": \"paper\", \"yref\": \"paper\"}, {\"x\": 0.01, \"y\": 1.2, \"showarrow\": false, \"text\": \"SUBJECT: 0\", \"font\": {\"family\": \"Arial, sans-serif\", \"size\": 22}, \"xref\": \"paper\", \"yref\": \"paper\"}]}, {\"showLink\": true, \"linkText\": \"Export to plot.ly\"})});</script>"
      ]
     },
     "metadata": {},
     "output_type": "display_data"
    },
    {
     "data": {
      "application/vnd.plotly.v1+json": {
       "data": [
        {
         "error_y": {
          "array": [
           0.4080944006773091,
           0.5084614914940523,
           0.49150129399063086,
           0.5531281982759294,
           0.6189654615809154,
           0.373291714372552,
           0.2537480456638595
          ],
          "color": "rgb(0,170,80)",
          "type": "data",
          "visible": true
         },
         "line": {
          "color": "rgb(0,100,80)"
         },
         "mode": "lines+markers",
         "name": "Test Data",
         "type": "scatter",
         "x": [
          -1.698125,
          -0.768421052631579,
          -0.34869565217391296,
          0.045555555555555495,
          0.2916666666666667,
          0.7814814814814816,
          1.7706666666666668
         ],
         "y": [
          3.579329921616591,
          4.736999820868828,
          4.934196604947236,
          4.939064011094161,
          5.70155291512492,
          4.290933009638037,
          2.884620733535849
         ]
        },
        {
         "error_y": {
          "array": [
           0.019609644305260434,
           0.01806990264033351,
           0.01636350379189865,
           0.018495299536094634,
           0.02279841948867267,
           0.015045825759150476,
           0.02026385198267772
          ],
          "color": "rgb(0,100,246)",
          "type": "data",
          "visible": true
         },
         "line": {
          "color": "rgb(0,176,246)"
         },
         "mode": "lines+markers",
         "name": "Sim Data",
         "type": "scatter",
         "x": [
          -1.698125,
          -0.768421052631579,
          -0.34869565217391296,
          0.045555555555555495,
          0.2916666666666667,
          0.7814814814814816,
          1.7706666666666668
         ],
         "y": [
          4.65590562638581,
          4.676208960468542,
          4.684367550792802,
          4.661724542351862,
          4.7086850503919315,
          4.6535558689340455,
          4.685419428825092
         ]
        },
        {
         "error_y": {
          "array": [
           0,
           0.07233518641434492,
           0.07180198468215396,
           0.11823563735376173,
           0.1305582419667734,
           0.0696696254167378,
           0
          ],
          "color": "rgb(0,170,80)",
          "type": "data",
          "visible": true
         },
         "line": {
          "color": "rgb(0,100,80)"
         },
         "mode": "lines+markers",
         "name": "Test Data",
         "type": "scatter",
         "x": [
          -1.698125,
          -0.768421052631579,
          -0.34869565217391296,
          0.045555555555555495,
          0.2916666666666667,
          0.7814814814814816,
          1.7706666666666668
         ],
         "xaxis": "x2",
         "y": [
          0,
          0.10526315789473684,
          0.13043478260869565,
          0.6111111111111112,
          0.75,
          0.8518518518518519,
          1
         ],
         "yaxis": "y2"
        },
        {
         "error_y": {
          "array": [
           0.004039230298068309,
           0.0038025663262147118,
           0.0034780868145665553,
           0.003938790107677021,
           0.004819503717546428,
           0.003190463282022924,
           0.0041582867846102186
          ],
          "color": "rgb(0,100,246)",
          "type": "data",
          "visible": true
         },
         "line": {
          "color": "rgb(0,176,246)"
         },
         "mode": "lines+markers",
         "name": "Sim Data",
         "type": "scatter",
         "x": [
          -1.698125,
          -0.768421052631579,
          -0.34869565217391296,
          0.045555555555555495,
          0.2916666666666667,
          0.7814814814814816,
          1.7706666666666668
         ],
         "xaxis": "x2",
         "y": [
          0.37936529933481156,
          0.4441581259150805,
          0.47689472918586046,
          0.5025131864722309,
          0.5334079880552445,
          0.5677727084197428,
          0.6277005031074282
         ],
         "yaxis": "y2"
        }
       ],
       "layout": {
        "annotations": [
         {
          "showarrow": false,
          "text": "PARAMETERS: v: 0.01, a: 0.221, θ: 0.325",
          "x": 0.01,
          "xref": "paper",
          "y": 1.12,
          "yref": "paper"
         },
         {
          "showarrow": false,
          "text": "MLE: 642.26",
          "x": 0.01,
          "xref": "paper",
          "y": 1.08,
          "yref": "paper"
         },
         {
          "font": {
           "family": "Arial, sans-serif",
           "size": 22
          },
          "showarrow": false,
          "text": "SUBJECT: 1",
          "x": 0.01,
          "xref": "paper",
          "y": 1.2,
          "yref": "paper"
         }
        ],
        "paper_bgcolor": "rgb(255,255,255)",
        "plot_bgcolor": "rgb(229,229,229)",
        "xaxis": {
         "domain": [
          0,
          0.45
         ],
         "gridcolor": "rgb(255,255,255)",
         "range": [
          -2,
          2
         ],
         "showgrid": true,
         "showline": false,
         "showticklabels": true,
         "tickcolor": "rgb(127,127,127)",
         "ticks": "outside",
         "title": "Net Value ($)",
         "zeroline": false
        },
        "xaxis2": {
         "domain": [
          0.55,
          1
         ],
         "gridcolor": "rgb(255,255,255)",
         "range": [
          -2,
          2
         ],
         "showgrid": true,
         "showline": false,
         "showticklabels": true,
         "tickcolor": "rgb(127,127,127)",
         "ticks": "outside",
         "title": "Net Value ($)",
         "zeroline": false
        },
        "yaxis1": {
         "anchor": "x1",
         "gridcolor": "rgb(255,255,255)",
         "range": [
          0
         ],
         "showgrid": true,
         "showline": false,
         "showticklabels": true,
         "tickcolor": "rgb(127,127,127)",
         "ticks": "outside",
         "title": "RT (s)",
         "zeroline": false
        },
        "yaxis2": {
         "anchor": "x2",
         "gridcolor": "rgb(255,255,255)",
         "range": [
          0
         ],
         "showgrid": true,
         "showline": false,
         "showticklabels": true,
         "tickcolor": "rgb(127,127,127)",
         "ticks": "outside",
         "title": "p (accept)",
         "zeroline": false
        }
       }
      },
      "text/html": [
       "<div id=\"aa6469e0-1bec-4b9c-ae0d-155c8e8de2f0\" style=\"height: 525px; width: 100%;\" class=\"plotly-graph-div\"></div><script type=\"text/javascript\">require([\"plotly\"], function(Plotly) { window.PLOTLYENV=window.PLOTLYENV || {};window.PLOTLYENV.BASE_URL=\"https://plot.ly\";Plotly.newPlot(\"aa6469e0-1bec-4b9c-ae0d-155c8e8de2f0\", [{\"type\": \"scatter\", \"x\": [-1.698125, -0.768421052631579, -0.34869565217391296, 0.045555555555555495, 0.2916666666666667, 0.7814814814814816, 1.7706666666666668], \"y\": [3.579329921616591, 4.736999820868828, 4.934196604947236, 4.939064011094161, 5.70155291512492, 4.290933009638037, 2.884620733535849], \"error_y\": {\"type\": \"data\", \"array\": [0.4080944006773091, 0.5084614914940523, 0.49150129399063086, 0.5531281982759294, 0.6189654615809154, 0.373291714372552, 0.2537480456638595], \"color\": \"rgb(0,170,80)\", \"visible\": true}, \"line\": {\"color\": \"rgb(0,100,80)\"}, \"mode\": \"lines+markers\", \"name\": \"Test Data\"}, {\"type\": \"scatter\", \"x\": [-1.698125, -0.768421052631579, -0.34869565217391296, 0.045555555555555495, 0.2916666666666667, 0.7814814814814816, 1.7706666666666668], \"y\": [4.65590562638581, 4.676208960468542, 4.684367550792802, 4.661724542351862, 4.7086850503919315, 4.6535558689340455, 4.685419428825092], \"error_y\": {\"type\": \"data\", \"array\": [0.019609644305260434, 0.01806990264033351, 0.01636350379189865, 0.018495299536094634, 0.02279841948867267, 0.015045825759150476, 0.02026385198267772], \"color\": \"rgb(0,100,246)\", \"visible\": true}, \"line\": {\"color\": \"rgb(0,176,246)\"}, \"mode\": \"lines+markers\", \"name\": \"Sim Data\"}, {\"type\": \"scatter\", \"x\": [-1.698125, -0.768421052631579, -0.34869565217391296, 0.045555555555555495, 0.2916666666666667, 0.7814814814814816, 1.7706666666666668], \"y\": [0.0, 0.10526315789473684, 0.13043478260869565, 0.6111111111111112, 0.75, 0.8518518518518519, 1.0], \"error_y\": {\"type\": \"data\", \"array\": [0.0, 0.07233518641434492, 0.07180198468215396, 0.11823563735376173, 0.1305582419667734, 0.0696696254167378, 0.0], \"color\": \"rgb(0,170,80)\", \"visible\": true}, \"line\": {\"color\": \"rgb(0,100,80)\"}, \"mode\": \"lines+markers\", \"name\": \"Test Data\", \"xaxis\": \"x2\", \"yaxis\": \"y2\"}, {\"type\": \"scatter\", \"x\": [-1.698125, -0.768421052631579, -0.34869565217391296, 0.045555555555555495, 0.2916666666666667, 0.7814814814814816, 1.7706666666666668], \"y\": [0.37936529933481156, 0.4441581259150805, 0.47689472918586046, 0.5025131864722309, 0.5334079880552445, 0.5677727084197428, 0.6277005031074282], \"error_y\": {\"type\": \"data\", \"array\": [0.004039230298068309, 0.0038025663262147118, 0.0034780868145665553, 0.003938790107677021, 0.004819503717546428, 0.003190463282022924, 0.0041582867846102186], \"color\": \"rgb(0,100,246)\", \"visible\": true}, \"line\": {\"color\": \"rgb(0,176,246)\"}, \"mode\": \"lines+markers\", \"name\": \"Sim Data\", \"xaxis\": \"x2\", \"yaxis\": \"y2\"}], {\"paper_bgcolor\": \"rgb(255,255,255)\", \"plot_bgcolor\": \"rgb(229,229,229)\", \"xaxis\": {\"gridcolor\": \"rgb(255,255,255)\", \"range\": [-2, 2], \"domain\": [0, 0.45], \"showgrid\": true, \"showline\": false, \"showticklabels\": true, \"tickcolor\": \"rgb(127,127,127)\", \"ticks\": \"outside\", \"title\": \"Net Value ($)\", \"zeroline\": false}, \"xaxis2\": {\"gridcolor\": \"rgb(255,255,255)\", \"range\": [-2, 2], \"domain\": [0.55, 1], \"showgrid\": true, \"showline\": false, \"showticklabels\": true, \"tickcolor\": \"rgb(127,127,127)\", \"ticks\": \"outside\", \"title\": \"Net Value ($)\", \"zeroline\": false}, \"yaxis1\": {\"gridcolor\": \"rgb(255,255,255)\", \"range\": [0], \"showgrid\": true, \"showline\": false, \"showticklabels\": true, \"tickcolor\": \"rgb(127,127,127)\", \"ticks\": \"outside\", \"title\": \"RT (s)\", \"anchor\": \"x1\", \"zeroline\": false}, \"yaxis2\": {\"gridcolor\": \"rgb(255,255,255)\", \"range\": [0], \"showgrid\": true, \"showline\": false, \"showticklabels\": true, \"tickcolor\": \"rgb(127,127,127)\", \"ticks\": \"outside\", \"title\": \"p (accept)\", \"anchor\": \"x2\", \"zeroline\": false}, \"annotations\": [{\"x\": 0.01, \"y\": 1.12, \"showarrow\": false, \"text\": \"PARAMETERS: v: 0.01, a: 0.221, \\u03b8: 0.325\", \"xref\": \"paper\", \"yref\": \"paper\"}, {\"x\": 0.01, \"y\": 1.08, \"showarrow\": false, \"text\": \"MLE: 642.26\", \"xref\": \"paper\", \"yref\": \"paper\"}, {\"x\": 0.01, \"y\": 1.2, \"showarrow\": false, \"text\": \"SUBJECT: 1\", \"font\": {\"family\": \"Arial, sans-serif\", \"size\": 22}, \"xref\": \"paper\", \"yref\": \"paper\"}]}, {\"showLink\": true, \"linkText\": \"Export to plot.ly\"})});</script>"
      ],
      "text/vnd.plotly.v1+html": [
       "<div id=\"aa6469e0-1bec-4b9c-ae0d-155c8e8de2f0\" style=\"height: 525px; width: 100%;\" class=\"plotly-graph-div\"></div><script type=\"text/javascript\">require([\"plotly\"], function(Plotly) { window.PLOTLYENV=window.PLOTLYENV || {};window.PLOTLYENV.BASE_URL=\"https://plot.ly\";Plotly.newPlot(\"aa6469e0-1bec-4b9c-ae0d-155c8e8de2f0\", [{\"type\": \"scatter\", \"x\": [-1.698125, -0.768421052631579, -0.34869565217391296, 0.045555555555555495, 0.2916666666666667, 0.7814814814814816, 1.7706666666666668], \"y\": [3.579329921616591, 4.736999820868828, 4.934196604947236, 4.939064011094161, 5.70155291512492, 4.290933009638037, 2.884620733535849], \"error_y\": {\"type\": \"data\", \"array\": [0.4080944006773091, 0.5084614914940523, 0.49150129399063086, 0.5531281982759294, 0.6189654615809154, 0.373291714372552, 0.2537480456638595], \"color\": \"rgb(0,170,80)\", \"visible\": true}, \"line\": {\"color\": \"rgb(0,100,80)\"}, \"mode\": \"lines+markers\", \"name\": \"Test Data\"}, {\"type\": \"scatter\", \"x\": [-1.698125, -0.768421052631579, -0.34869565217391296, 0.045555555555555495, 0.2916666666666667, 0.7814814814814816, 1.7706666666666668], \"y\": [4.65590562638581, 4.676208960468542, 4.684367550792802, 4.661724542351862, 4.7086850503919315, 4.6535558689340455, 4.685419428825092], \"error_y\": {\"type\": \"data\", \"array\": [0.019609644305260434, 0.01806990264033351, 0.01636350379189865, 0.018495299536094634, 0.02279841948867267, 0.015045825759150476, 0.02026385198267772], \"color\": \"rgb(0,100,246)\", \"visible\": true}, \"line\": {\"color\": \"rgb(0,176,246)\"}, \"mode\": \"lines+markers\", \"name\": \"Sim Data\"}, {\"type\": \"scatter\", \"x\": [-1.698125, -0.768421052631579, -0.34869565217391296, 0.045555555555555495, 0.2916666666666667, 0.7814814814814816, 1.7706666666666668], \"y\": [0.0, 0.10526315789473684, 0.13043478260869565, 0.6111111111111112, 0.75, 0.8518518518518519, 1.0], \"error_y\": {\"type\": \"data\", \"array\": [0.0, 0.07233518641434492, 0.07180198468215396, 0.11823563735376173, 0.1305582419667734, 0.0696696254167378, 0.0], \"color\": \"rgb(0,170,80)\", \"visible\": true}, \"line\": {\"color\": \"rgb(0,100,80)\"}, \"mode\": \"lines+markers\", \"name\": \"Test Data\", \"xaxis\": \"x2\", \"yaxis\": \"y2\"}, {\"type\": \"scatter\", \"x\": [-1.698125, -0.768421052631579, -0.34869565217391296, 0.045555555555555495, 0.2916666666666667, 0.7814814814814816, 1.7706666666666668], \"y\": [0.37936529933481156, 0.4441581259150805, 0.47689472918586046, 0.5025131864722309, 0.5334079880552445, 0.5677727084197428, 0.6277005031074282], \"error_y\": {\"type\": \"data\", \"array\": [0.004039230298068309, 0.0038025663262147118, 0.0034780868145665553, 0.003938790107677021, 0.004819503717546428, 0.003190463282022924, 0.0041582867846102186], \"color\": \"rgb(0,100,246)\", \"visible\": true}, \"line\": {\"color\": \"rgb(0,176,246)\"}, \"mode\": \"lines+markers\", \"name\": \"Sim Data\", \"xaxis\": \"x2\", \"yaxis\": \"y2\"}], {\"paper_bgcolor\": \"rgb(255,255,255)\", \"plot_bgcolor\": \"rgb(229,229,229)\", \"xaxis\": {\"gridcolor\": \"rgb(255,255,255)\", \"range\": [-2, 2], \"domain\": [0, 0.45], \"showgrid\": true, \"showline\": false, \"showticklabels\": true, \"tickcolor\": \"rgb(127,127,127)\", \"ticks\": \"outside\", \"title\": \"Net Value ($)\", \"zeroline\": false}, \"xaxis2\": {\"gridcolor\": \"rgb(255,255,255)\", \"range\": [-2, 2], \"domain\": [0.55, 1], \"showgrid\": true, \"showline\": false, \"showticklabels\": true, \"tickcolor\": \"rgb(127,127,127)\", \"ticks\": \"outside\", \"title\": \"Net Value ($)\", \"zeroline\": false}, \"yaxis1\": {\"gridcolor\": \"rgb(255,255,255)\", \"range\": [0], \"showgrid\": true, \"showline\": false, \"showticklabels\": true, \"tickcolor\": \"rgb(127,127,127)\", \"ticks\": \"outside\", \"title\": \"RT (s)\", \"anchor\": \"x1\", \"zeroline\": false}, \"yaxis2\": {\"gridcolor\": \"rgb(255,255,255)\", \"range\": [0], \"showgrid\": true, \"showline\": false, \"showticklabels\": true, \"tickcolor\": \"rgb(127,127,127)\", \"ticks\": \"outside\", \"title\": \"p (accept)\", \"anchor\": \"x2\", \"zeroline\": false}, \"annotations\": [{\"x\": 0.01, \"y\": 1.12, \"showarrow\": false, \"text\": \"PARAMETERS: v: 0.01, a: 0.221, \\u03b8: 0.325\", \"xref\": \"paper\", \"yref\": \"paper\"}, {\"x\": 0.01, \"y\": 1.08, \"showarrow\": false, \"text\": \"MLE: 642.26\", \"xref\": \"paper\", \"yref\": \"paper\"}, {\"x\": 0.01, \"y\": 1.2, \"showarrow\": false, \"text\": \"SUBJECT: 1\", \"font\": {\"family\": \"Arial, sans-serif\", \"size\": 22}, \"xref\": \"paper\", \"yref\": \"paper\"}]}, {\"showLink\": true, \"linkText\": \"Export to plot.ly\"})});</script>"
      ]
     },
     "metadata": {},
     "output_type": "display_data"
    },
    {
     "data": {
      "application/vnd.plotly.v1+json": {
       "data": [
        {
         "error_y": {
          "array": [
           0.10879429279426972,
           0.25402595724407784,
           0.3409129329043157,
           0.2260598981907746,
           0.24480488295898126,
           0.16771570062318283,
           0.05381930759782264
          ],
          "color": "rgb(0,170,80)",
          "type": "data",
          "visible": true
         },
         "line": {
          "color": "rgb(0,100,80)"
         },
         "mode": "lines+markers",
         "name": "Test Data",
         "type": "scatter",
         "x": [
          -1.686923076923077,
          -0.8123809523809523,
          -0.2756521739130436,
          0.02799999999999996,
          0.27105263157894727,
          0.7813636363636364,
          1.5395238095238095
         ],
         "y": [
          1.638579470857692,
          1.9859039087147852,
          2.2414704256630302,
          2.171842512818209,
          1.7782342430743348,
          1.6221177481771023,
          1.2644601382947134
         ]
        },
        {
         "error_y": {
          "array": [
           0.00652122239763414,
           0.0060789813464602206,
           0.006229065909396793,
           0.005595614173742843,
           0.006837970686384205,
           0.006088355540442601,
           0.00529555437540603
          ],
          "color": "rgb(0,100,246)",
          "type": "data",
          "visible": true
         },
         "line": {
          "color": "rgb(0,176,246)"
         },
         "mode": "lines+markers",
         "name": "Sim Data",
         "type": "scatter",
         "x": [
          -1.686923076923077,
          -0.8123809523809523,
          -0.2756521739130436,
          0.02799999999999996,
          0.27105263157894727,
          0.7813636363636364,
          1.5395238095238095
         ],
         "y": [
          1.73437095161166,
          1.9011054285714282,
          1.9752060613966338,
          1.9888248158149142,
          1.9722959103110644,
          1.9152698636363643,
          1.7707053809523672
         ]
        },
        {
         "error_y": {
          "array": [
           0.07692307692307691,
           0.06563832739090582,
           0.09810018692482893,
           0.09264111117062016,
           0.10379087338771255,
           0.06273323266748675,
           0
          ],
          "color": "rgb(0,170,80)",
          "type": "data",
          "visible": true
         },
         "line": {
          "color": "rgb(0,100,80)"
         },
         "mode": "lines+markers",
         "name": "Test Data",
         "type": "scatter",
         "x": [
          -1.686923076923077,
          -0.8123809523809523,
          -0.2756521739130436,
          0.02799999999999996,
          0.27105263157894727,
          0.7813636363636364,
          1.5395238095238095
         ],
         "xaxis": "x2",
         "y": [
          0.07692307692307693,
          0.09523809523809523,
          0.30434782608695654,
          0.5333333333333333,
          0.7368421052631579,
          0.9090909090909091,
          1
         ],
         "yaxis": "y2"
        },
        {
         "error_y": {
          "array": [
           0.0031543862762017233,
           0.0031166927596652885,
           0.0032613141829746024,
           0.002886368177047582,
           0.0035881030748382563,
           0.0030718084783896158,
           0.002554310121120503
          ],
          "color": "rgb(0,100,246)",
          "type": "data",
          "visible": true
         },
         "line": {
          "color": "rgb(0,176,246)"
         },
         "mode": "lines+markers",
         "name": "Sim Data",
         "type": "scatter",
         "x": [
          -1.686923076923077,
          -0.8123809523809523,
          -0.2756521739130436,
          0.02799999999999996,
          0.27105263157894727,
          0.7813636363636364,
          1.5395238095238095
         ],
         "xaxis": "x2",
         "y": [
          0.15262712516347413,
          0.2854761904761905,
          0.4265153491607966,
          0.50998433176651,
          0.5735565029738408,
          0.7059545454545455,
          0.8361428571428572
         ],
         "yaxis": "y2"
        }
       ],
       "layout": {
        "annotations": [
         {
          "showarrow": false,
          "text": "PARAMETERS: v: 0.051, a: 0.107, θ: 1.0",
          "x": 0.01,
          "xref": "paper",
          "y": 1.12,
          "yref": "paper"
         },
         {
          "showarrow": false,
          "text": "MLE: 584.87",
          "x": 0.01,
          "xref": "paper",
          "y": 1.08,
          "yref": "paper"
         },
         {
          "font": {
           "family": "Arial, sans-serif",
           "size": 22
          },
          "showarrow": false,
          "text": "SUBJECT: 2",
          "x": 0.01,
          "xref": "paper",
          "y": 1.2,
          "yref": "paper"
         }
        ],
        "paper_bgcolor": "rgb(255,255,255)",
        "plot_bgcolor": "rgb(229,229,229)",
        "xaxis": {
         "domain": [
          0,
          0.45
         ],
         "gridcolor": "rgb(255,255,255)",
         "range": [
          -2,
          2
         ],
         "showgrid": true,
         "showline": false,
         "showticklabels": true,
         "tickcolor": "rgb(127,127,127)",
         "ticks": "outside",
         "title": "Net Value ($)",
         "zeroline": false
        },
        "xaxis2": {
         "domain": [
          0.55,
          1
         ],
         "gridcolor": "rgb(255,255,255)",
         "range": [
          -2,
          2
         ],
         "showgrid": true,
         "showline": false,
         "showticklabels": true,
         "tickcolor": "rgb(127,127,127)",
         "ticks": "outside",
         "title": "Net Value ($)",
         "zeroline": false
        },
        "yaxis1": {
         "anchor": "x1",
         "gridcolor": "rgb(255,255,255)",
         "range": [
          0
         ],
         "showgrid": true,
         "showline": false,
         "showticklabels": true,
         "tickcolor": "rgb(127,127,127)",
         "ticks": "outside",
         "title": "RT (s)",
         "zeroline": false
        },
        "yaxis2": {
         "anchor": "x2",
         "gridcolor": "rgb(255,255,255)",
         "range": [
          0
         ],
         "showgrid": true,
         "showline": false,
         "showticklabels": true,
         "tickcolor": "rgb(127,127,127)",
         "ticks": "outside",
         "title": "p (accept)",
         "zeroline": false
        }
       }
      },
      "text/html": [
       "<div id=\"5b54b435-d76e-4cd8-8704-0f80471c4ac8\" style=\"height: 525px; width: 100%;\" class=\"plotly-graph-div\"></div><script type=\"text/javascript\">require([\"plotly\"], function(Plotly) { window.PLOTLYENV=window.PLOTLYENV || {};window.PLOTLYENV.BASE_URL=\"https://plot.ly\";Plotly.newPlot(\"5b54b435-d76e-4cd8-8704-0f80471c4ac8\", [{\"type\": \"scatter\", \"x\": [-1.686923076923077, -0.8123809523809523, -0.2756521739130436, 0.02799999999999996, 0.27105263157894727, 0.7813636363636364, 1.5395238095238095], \"y\": [1.638579470857692, 1.9859039087147852, 2.2414704256630302, 2.171842512818209, 1.7782342430743348, 1.6221177481771023, 1.2644601382947134], \"error_y\": {\"type\": \"data\", \"array\": [0.10879429279426972, 0.25402595724407784, 0.3409129329043157, 0.2260598981907746, 0.24480488295898126, 0.16771570062318283, 0.05381930759782264], \"color\": \"rgb(0,170,80)\", \"visible\": true}, \"line\": {\"color\": \"rgb(0,100,80)\"}, \"mode\": \"lines+markers\", \"name\": \"Test Data\"}, {\"type\": \"scatter\", \"x\": [-1.686923076923077, -0.8123809523809523, -0.2756521739130436, 0.02799999999999996, 0.27105263157894727, 0.7813636363636364, 1.5395238095238095], \"y\": [1.73437095161166, 1.9011054285714282, 1.9752060613966338, 1.9888248158149142, 1.9722959103110644, 1.9152698636363643, 1.7707053809523672], \"error_y\": {\"type\": \"data\", \"array\": [0.00652122239763414, 0.0060789813464602206, 0.006229065909396793, 0.005595614173742843, 0.006837970686384205, 0.006088355540442601, 0.00529555437540603], \"color\": \"rgb(0,100,246)\", \"visible\": true}, \"line\": {\"color\": \"rgb(0,176,246)\"}, \"mode\": \"lines+markers\", \"name\": \"Sim Data\"}, {\"type\": \"scatter\", \"x\": [-1.686923076923077, -0.8123809523809523, -0.2756521739130436, 0.02799999999999996, 0.27105263157894727, 0.7813636363636364, 1.5395238095238095], \"y\": [0.07692307692307693, 0.09523809523809523, 0.30434782608695654, 0.5333333333333333, 0.7368421052631579, 0.9090909090909091, 1.0], \"error_y\": {\"type\": \"data\", \"array\": [0.07692307692307691, 0.06563832739090582, 0.09810018692482893, 0.09264111117062016, 0.10379087338771255, 0.06273323266748675, 0.0], \"color\": \"rgb(0,170,80)\", \"visible\": true}, \"line\": {\"color\": \"rgb(0,100,80)\"}, \"mode\": \"lines+markers\", \"name\": \"Test Data\", \"xaxis\": \"x2\", \"yaxis\": \"y2\"}, {\"type\": \"scatter\", \"x\": [-1.686923076923077, -0.8123809523809523, -0.2756521739130436, 0.02799999999999996, 0.27105263157894727, 0.7813636363636364, 1.5395238095238095], \"y\": [0.15262712516347413, 0.2854761904761905, 0.4265153491607966, 0.50998433176651, 0.5735565029738408, 0.7059545454545455, 0.8361428571428572], \"error_y\": {\"type\": \"data\", \"array\": [0.0031543862762017233, 0.0031166927596652885, 0.0032613141829746024, 0.002886368177047582, 0.0035881030748382563, 0.0030718084783896158, 0.002554310121120503], \"color\": \"rgb(0,100,246)\", \"visible\": true}, \"line\": {\"color\": \"rgb(0,176,246)\"}, \"mode\": \"lines+markers\", \"name\": \"Sim Data\", \"xaxis\": \"x2\", \"yaxis\": \"y2\"}], {\"paper_bgcolor\": \"rgb(255,255,255)\", \"plot_bgcolor\": \"rgb(229,229,229)\", \"xaxis\": {\"gridcolor\": \"rgb(255,255,255)\", \"range\": [-2, 2], \"domain\": [0, 0.45], \"showgrid\": true, \"showline\": false, \"showticklabels\": true, \"tickcolor\": \"rgb(127,127,127)\", \"ticks\": \"outside\", \"title\": \"Net Value ($)\", \"zeroline\": false}, \"xaxis2\": {\"gridcolor\": \"rgb(255,255,255)\", \"range\": [-2, 2], \"domain\": [0.55, 1], \"showgrid\": true, \"showline\": false, \"showticklabels\": true, \"tickcolor\": \"rgb(127,127,127)\", \"ticks\": \"outside\", \"title\": \"Net Value ($)\", \"zeroline\": false}, \"yaxis1\": {\"gridcolor\": \"rgb(255,255,255)\", \"range\": [0], \"showgrid\": true, \"showline\": false, \"showticklabels\": true, \"tickcolor\": \"rgb(127,127,127)\", \"ticks\": \"outside\", \"title\": \"RT (s)\", \"anchor\": \"x1\", \"zeroline\": false}, \"yaxis2\": {\"gridcolor\": \"rgb(255,255,255)\", \"range\": [0], \"showgrid\": true, \"showline\": false, \"showticklabels\": true, \"tickcolor\": \"rgb(127,127,127)\", \"ticks\": \"outside\", \"title\": \"p (accept)\", \"anchor\": \"x2\", \"zeroline\": false}, \"annotations\": [{\"x\": 0.01, \"y\": 1.12, \"showarrow\": false, \"text\": \"PARAMETERS: v: 0.051, a: 0.107, \\u03b8: 1.0\", \"xref\": \"paper\", \"yref\": \"paper\"}, {\"x\": 0.01, \"y\": 1.08, \"showarrow\": false, \"text\": \"MLE: 584.87\", \"xref\": \"paper\", \"yref\": \"paper\"}, {\"x\": 0.01, \"y\": 1.2, \"showarrow\": false, \"text\": \"SUBJECT: 2\", \"font\": {\"family\": \"Arial, sans-serif\", \"size\": 22}, \"xref\": \"paper\", \"yref\": \"paper\"}]}, {\"showLink\": true, \"linkText\": \"Export to plot.ly\"})});</script>"
      ],
      "text/vnd.plotly.v1+html": [
       "<div id=\"5b54b435-d76e-4cd8-8704-0f80471c4ac8\" style=\"height: 525px; width: 100%;\" class=\"plotly-graph-div\"></div><script type=\"text/javascript\">require([\"plotly\"], function(Plotly) { window.PLOTLYENV=window.PLOTLYENV || {};window.PLOTLYENV.BASE_URL=\"https://plot.ly\";Plotly.newPlot(\"5b54b435-d76e-4cd8-8704-0f80471c4ac8\", [{\"type\": \"scatter\", \"x\": [-1.686923076923077, -0.8123809523809523, -0.2756521739130436, 0.02799999999999996, 0.27105263157894727, 0.7813636363636364, 1.5395238095238095], \"y\": [1.638579470857692, 1.9859039087147852, 2.2414704256630302, 2.171842512818209, 1.7782342430743348, 1.6221177481771023, 1.2644601382947134], \"error_y\": {\"type\": \"data\", \"array\": [0.10879429279426972, 0.25402595724407784, 0.3409129329043157, 0.2260598981907746, 0.24480488295898126, 0.16771570062318283, 0.05381930759782264], \"color\": \"rgb(0,170,80)\", \"visible\": true}, \"line\": {\"color\": \"rgb(0,100,80)\"}, \"mode\": \"lines+markers\", \"name\": \"Test Data\"}, {\"type\": \"scatter\", \"x\": [-1.686923076923077, -0.8123809523809523, -0.2756521739130436, 0.02799999999999996, 0.27105263157894727, 0.7813636363636364, 1.5395238095238095], \"y\": [1.73437095161166, 1.9011054285714282, 1.9752060613966338, 1.9888248158149142, 1.9722959103110644, 1.9152698636363643, 1.7707053809523672], \"error_y\": {\"type\": \"data\", \"array\": [0.00652122239763414, 0.0060789813464602206, 0.006229065909396793, 0.005595614173742843, 0.006837970686384205, 0.006088355540442601, 0.00529555437540603], \"color\": \"rgb(0,100,246)\", \"visible\": true}, \"line\": {\"color\": \"rgb(0,176,246)\"}, \"mode\": \"lines+markers\", \"name\": \"Sim Data\"}, {\"type\": \"scatter\", \"x\": [-1.686923076923077, -0.8123809523809523, -0.2756521739130436, 0.02799999999999996, 0.27105263157894727, 0.7813636363636364, 1.5395238095238095], \"y\": [0.07692307692307693, 0.09523809523809523, 0.30434782608695654, 0.5333333333333333, 0.7368421052631579, 0.9090909090909091, 1.0], \"error_y\": {\"type\": \"data\", \"array\": [0.07692307692307691, 0.06563832739090582, 0.09810018692482893, 0.09264111117062016, 0.10379087338771255, 0.06273323266748675, 0.0], \"color\": \"rgb(0,170,80)\", \"visible\": true}, \"line\": {\"color\": \"rgb(0,100,80)\"}, \"mode\": \"lines+markers\", \"name\": \"Test Data\", \"xaxis\": \"x2\", \"yaxis\": \"y2\"}, {\"type\": \"scatter\", \"x\": [-1.686923076923077, -0.8123809523809523, -0.2756521739130436, 0.02799999999999996, 0.27105263157894727, 0.7813636363636364, 1.5395238095238095], \"y\": [0.15262712516347413, 0.2854761904761905, 0.4265153491607966, 0.50998433176651, 0.5735565029738408, 0.7059545454545455, 0.8361428571428572], \"error_y\": {\"type\": \"data\", \"array\": [0.0031543862762017233, 0.0031166927596652885, 0.0032613141829746024, 0.002886368177047582, 0.0035881030748382563, 0.0030718084783896158, 0.002554310121120503], \"color\": \"rgb(0,100,246)\", \"visible\": true}, \"line\": {\"color\": \"rgb(0,176,246)\"}, \"mode\": \"lines+markers\", \"name\": \"Sim Data\", \"xaxis\": \"x2\", \"yaxis\": \"y2\"}], {\"paper_bgcolor\": \"rgb(255,255,255)\", \"plot_bgcolor\": \"rgb(229,229,229)\", \"xaxis\": {\"gridcolor\": \"rgb(255,255,255)\", \"range\": [-2, 2], \"domain\": [0, 0.45], \"showgrid\": true, \"showline\": false, \"showticklabels\": true, \"tickcolor\": \"rgb(127,127,127)\", \"ticks\": \"outside\", \"title\": \"Net Value ($)\", \"zeroline\": false}, \"xaxis2\": {\"gridcolor\": \"rgb(255,255,255)\", \"range\": [-2, 2], \"domain\": [0.55, 1], \"showgrid\": true, \"showline\": false, \"showticklabels\": true, \"tickcolor\": \"rgb(127,127,127)\", \"ticks\": \"outside\", \"title\": \"Net Value ($)\", \"zeroline\": false}, \"yaxis1\": {\"gridcolor\": \"rgb(255,255,255)\", \"range\": [0], \"showgrid\": true, \"showline\": false, \"showticklabels\": true, \"tickcolor\": \"rgb(127,127,127)\", \"ticks\": \"outside\", \"title\": \"RT (s)\", \"anchor\": \"x1\", \"zeroline\": false}, \"yaxis2\": {\"gridcolor\": \"rgb(255,255,255)\", \"range\": [0], \"showgrid\": true, \"showline\": false, \"showticklabels\": true, \"tickcolor\": \"rgb(127,127,127)\", \"ticks\": \"outside\", \"title\": \"p (accept)\", \"anchor\": \"x2\", \"zeroline\": false}, \"annotations\": [{\"x\": 0.01, \"y\": 1.12, \"showarrow\": false, \"text\": \"PARAMETERS: v: 0.051, a: 0.107, \\u03b8: 1.0\", \"xref\": \"paper\", \"yref\": \"paper\"}, {\"x\": 0.01, \"y\": 1.08, \"showarrow\": false, \"text\": \"MLE: 584.87\", \"xref\": \"paper\", \"yref\": \"paper\"}, {\"x\": 0.01, \"y\": 1.2, \"showarrow\": false, \"text\": \"SUBJECT: 2\", \"font\": {\"family\": \"Arial, sans-serif\", \"size\": 22}, \"xref\": \"paper\", \"yref\": \"paper\"}]}, {\"showLink\": true, \"linkText\": \"Export to plot.ly\"})});</script>"
      ]
     },
     "metadata": {},
     "output_type": "display_data"
    },
    {
     "data": {
      "application/vnd.plotly.v1+json": {
       "data": [
        {
         "error_y": {
          "array": [
           0.1102701021747477,
           0.32080609297211565,
           0.273288008346219,
           0.22112527698932793,
           0.4312362408282256,
           0.20907660220046495,
           0.32466589321716044
          ],
          "color": "rgb(0,170,80)",
          "type": "data",
          "visible": true
         },
         "line": {
          "color": "rgb(0,100,80)"
         },
         "mode": "lines+markers",
         "name": "Test Data",
         "type": "scatter",
         "x": [
          -1.6504999999999999,
          -0.8216666666666667,
          -0.3322222222222222,
          0.031379310344827556,
          0.31399999999999995,
          0.7887500000000003,
          1.5991304347826085
         ],
         "y": [
          1.6242911497538437,
          2.3176755745274327,
          2.431576300043768,
          2.3799502586921806,
          2.4389645597664638,
          2.132048700916736,
          2.195744744593115
         ]
        },
        {
         "error_y": {
          "array": [
           0.007350004803883634,
           0.01117928539002417,
           0.013765995127769461,
           0.01093777200992065,
           0.01519741710810042,
           0.009961357855016308,
           0.007033081565790141
          ],
          "color": "rgb(0,100,246)",
          "type": "data",
          "visible": true
         },
         "line": {
          "color": "rgb(0,176,246)"
         },
         "mode": "lines+markers",
         "name": "Sim Data",
         "type": "scatter",
         "x": [
          -1.6504999999999999,
          -0.8216666666666667,
          -0.3322222222222222,
          0.031379310344827556,
          0.31399999999999995,
          0.7887500000000003,
          1.5991304347826085
         ],
         "y": [
          2.179998049317253,
          2.807290643958352,
          3.2708601324057573,
          3.2371077132296664,
          3.2783661261018895,
          2.8534319331243427,
          2.244871058925838
         ]
        },
        {
         "error_y": {
          "array": [
           0.06882472016116853,
           0.10863248456597818,
           0.10863248456597818,
           0.08446516354424752,
           0.06666666666666665,
           0.05763033956734372,
           0.043478260869565216
          ],
          "color": "rgb(0,170,80)",
          "type": "data",
          "visible": true
         },
         "line": {
          "color": "rgb(0,100,80)"
         },
         "mode": "lines+markers",
         "name": "Test Data",
         "type": "scatter",
         "x": [
          -1.6504999999999999,
          -0.8216666666666667,
          -0.3322222222222222,
          0.031379310344827556,
          0.31399999999999995,
          0.7887500000000003,
          1.5991304347826085
         ],
         "xaxis": "x2",
         "y": [
          0.1,
          0.2777777777777778,
          0.2777777777777778,
          0.7241379310344828,
          0.9333333333333333,
          0.9166666666666666,
          0.9565217391304348
         ],
         "yaxis": "y2"
        },
        {
         "error_y": {
          "array": [
           0.0011870096140959364,
           0.002513266108418136,
           0.0034808569698587893,
           0.002952556809843407,
           0.003813820920483734,
           0.0022823527908469045,
           0.0011952707929036323
          ],
          "color": "rgb(0,100,246)",
          "type": "data",
          "visible": true
         },
         "line": {
          "color": "rgb(0,176,246)"
         },
         "mode": "lines+markers",
         "name": "Sim Data",
         "type": "scatter",
         "x": [
          -1.6504999999999999,
          -0.8216666666666667,
          -0.3322222222222222,
          0.031379310344827556,
          0.31399999999999995,
          0.7887500000000003,
          1.5991304347826085
         ],
         "xaxis": "x2",
         "y": [
          0.02901015355374381,
          0.13051705905270775,
          0.31547351885098746,
          0.5023711555896506,
          0.6840051140569275,
          0.854085684430512,
          0.9659926070884975
         ],
         "yaxis": "y2"
        }
       ],
       "layout": {
        "annotations": [
         {
          "showarrow": false,
          "text": "PARAMETERS: v: 0.093, a: 0.164, θ: 0.55",
          "x": 0.01,
          "xref": "paper",
          "y": 1.12,
          "yref": "paper"
         },
         {
          "showarrow": false,
          "text": "MLE: 666.91",
          "x": 0.01,
          "xref": "paper",
          "y": 1.08,
          "yref": "paper"
         },
         {
          "font": {
           "family": "Arial, sans-serif",
           "size": 22
          },
          "showarrow": false,
          "text": "SUBJECT: 3",
          "x": 0.01,
          "xref": "paper",
          "y": 1.2,
          "yref": "paper"
         }
        ],
        "paper_bgcolor": "rgb(255,255,255)",
        "plot_bgcolor": "rgb(229,229,229)",
        "xaxis": {
         "domain": [
          0,
          0.45
         ],
         "gridcolor": "rgb(255,255,255)",
         "range": [
          -2,
          2
         ],
         "showgrid": true,
         "showline": false,
         "showticklabels": true,
         "tickcolor": "rgb(127,127,127)",
         "ticks": "outside",
         "title": "Net Value ($)",
         "zeroline": false
        },
        "xaxis2": {
         "domain": [
          0.55,
          1
         ],
         "gridcolor": "rgb(255,255,255)",
         "range": [
          -2,
          2
         ],
         "showgrid": true,
         "showline": false,
         "showticklabels": true,
         "tickcolor": "rgb(127,127,127)",
         "ticks": "outside",
         "title": "Net Value ($)",
         "zeroline": false
        },
        "yaxis1": {
         "anchor": "x1",
         "gridcolor": "rgb(255,255,255)",
         "range": [
          0
         ],
         "showgrid": true,
         "showline": false,
         "showticklabels": true,
         "tickcolor": "rgb(127,127,127)",
         "ticks": "outside",
         "title": "RT (s)",
         "zeroline": false
        },
        "yaxis2": {
         "anchor": "x2",
         "gridcolor": "rgb(255,255,255)",
         "range": [
          0
         ],
         "showgrid": true,
         "showline": false,
         "showticklabels": true,
         "tickcolor": "rgb(127,127,127)",
         "ticks": "outside",
         "title": "p (accept)",
         "zeroline": false
        }
       }
      },
      "text/html": [
       "<div id=\"83d01fba-f52e-482d-92d4-ffd2ce492c49\" style=\"height: 525px; width: 100%;\" class=\"plotly-graph-div\"></div><script type=\"text/javascript\">require([\"plotly\"], function(Plotly) { window.PLOTLYENV=window.PLOTLYENV || {};window.PLOTLYENV.BASE_URL=\"https://plot.ly\";Plotly.newPlot(\"83d01fba-f52e-482d-92d4-ffd2ce492c49\", [{\"type\": \"scatter\", \"x\": [-1.6504999999999999, -0.8216666666666667, -0.3322222222222222, 0.031379310344827556, 0.31399999999999995, 0.7887500000000003, 1.5991304347826085], \"y\": [1.6242911497538437, 2.3176755745274327, 2.431576300043768, 2.3799502586921806, 2.4389645597664638, 2.132048700916736, 2.195744744593115], \"error_y\": {\"type\": \"data\", \"array\": [0.1102701021747477, 0.32080609297211565, 0.273288008346219, 0.22112527698932793, 0.4312362408282256, 0.20907660220046495, 0.32466589321716044], \"color\": \"rgb(0,170,80)\", \"visible\": true}, \"line\": {\"color\": \"rgb(0,100,80)\"}, \"mode\": \"lines+markers\", \"name\": \"Test Data\"}, {\"type\": \"scatter\", \"x\": [-1.6504999999999999, -0.8216666666666667, -0.3322222222222222, 0.031379310344827556, 0.31399999999999995, 0.7887500000000003, 1.5991304347826085], \"y\": [2.179998049317253, 2.807290643958352, 3.2708601324057573, 3.2371077132296664, 3.2783661261018895, 2.8534319331243427, 2.244871058925838], \"error_y\": {\"type\": \"data\", \"array\": [0.007350004803883634, 0.01117928539002417, 0.013765995127769461, 0.01093777200992065, 0.01519741710810042, 0.009961357855016308, 0.007033081565790141], \"color\": \"rgb(0,100,246)\", \"visible\": true}, \"line\": {\"color\": \"rgb(0,176,246)\"}, \"mode\": \"lines+markers\", \"name\": \"Sim Data\"}, {\"type\": \"scatter\", \"x\": [-1.6504999999999999, -0.8216666666666667, -0.3322222222222222, 0.031379310344827556, 0.31399999999999995, 0.7887500000000003, 1.5991304347826085], \"y\": [0.1, 0.2777777777777778, 0.2777777777777778, 0.7241379310344828, 0.9333333333333333, 0.9166666666666666, 0.9565217391304348], \"error_y\": {\"type\": \"data\", \"array\": [0.06882472016116853, 0.10863248456597818, 0.10863248456597818, 0.08446516354424752, 0.06666666666666665, 0.05763033956734372, 0.043478260869565216], \"color\": \"rgb(0,170,80)\", \"visible\": true}, \"line\": {\"color\": \"rgb(0,100,80)\"}, \"mode\": \"lines+markers\", \"name\": \"Test Data\", \"xaxis\": \"x2\", \"yaxis\": \"y2\"}, {\"type\": \"scatter\", \"x\": [-1.6504999999999999, -0.8216666666666667, -0.3322222222222222, 0.031379310344827556, 0.31399999999999995, 0.7887500000000003, 1.5991304347826085], \"y\": [0.02901015355374381, 0.13051705905270775, 0.31547351885098746, 0.5023711555896506, 0.6840051140569275, 0.854085684430512, 0.9659926070884975], \"error_y\": {\"type\": \"data\", \"array\": [0.0011870096140959364, 0.002513266108418136, 0.0034808569698587893, 0.002952556809843407, 0.003813820920483734, 0.0022823527908469045, 0.0011952707929036323], \"color\": \"rgb(0,100,246)\", \"visible\": true}, \"line\": {\"color\": \"rgb(0,176,246)\"}, \"mode\": \"lines+markers\", \"name\": \"Sim Data\", \"xaxis\": \"x2\", \"yaxis\": \"y2\"}], {\"paper_bgcolor\": \"rgb(255,255,255)\", \"plot_bgcolor\": \"rgb(229,229,229)\", \"xaxis\": {\"gridcolor\": \"rgb(255,255,255)\", \"range\": [-2, 2], \"domain\": [0, 0.45], \"showgrid\": true, \"showline\": false, \"showticklabels\": true, \"tickcolor\": \"rgb(127,127,127)\", \"ticks\": \"outside\", \"title\": \"Net Value ($)\", \"zeroline\": false}, \"xaxis2\": {\"gridcolor\": \"rgb(255,255,255)\", \"range\": [-2, 2], \"domain\": [0.55, 1], \"showgrid\": true, \"showline\": false, \"showticklabels\": true, \"tickcolor\": \"rgb(127,127,127)\", \"ticks\": \"outside\", \"title\": \"Net Value ($)\", \"zeroline\": false}, \"yaxis1\": {\"gridcolor\": \"rgb(255,255,255)\", \"range\": [0], \"showgrid\": true, \"showline\": false, \"showticklabels\": true, \"tickcolor\": \"rgb(127,127,127)\", \"ticks\": \"outside\", \"title\": \"RT (s)\", \"anchor\": \"x1\", \"zeroline\": false}, \"yaxis2\": {\"gridcolor\": \"rgb(255,255,255)\", \"range\": [0], \"showgrid\": true, \"showline\": false, \"showticklabels\": true, \"tickcolor\": \"rgb(127,127,127)\", \"ticks\": \"outside\", \"title\": \"p (accept)\", \"anchor\": \"x2\", \"zeroline\": false}, \"annotations\": [{\"x\": 0.01, \"y\": 1.12, \"showarrow\": false, \"text\": \"PARAMETERS: v: 0.093, a: 0.164, \\u03b8: 0.55\", \"xref\": \"paper\", \"yref\": \"paper\"}, {\"x\": 0.01, \"y\": 1.08, \"showarrow\": false, \"text\": \"MLE: 666.91\", \"xref\": \"paper\", \"yref\": \"paper\"}, {\"x\": 0.01, \"y\": 1.2, \"showarrow\": false, \"text\": \"SUBJECT: 3\", \"font\": {\"family\": \"Arial, sans-serif\", \"size\": 22}, \"xref\": \"paper\", \"yref\": \"paper\"}]}, {\"showLink\": true, \"linkText\": \"Export to plot.ly\"})});</script>"
      ],
      "text/vnd.plotly.v1+html": [
       "<div id=\"83d01fba-f52e-482d-92d4-ffd2ce492c49\" style=\"height: 525px; width: 100%;\" class=\"plotly-graph-div\"></div><script type=\"text/javascript\">require([\"plotly\"], function(Plotly) { window.PLOTLYENV=window.PLOTLYENV || {};window.PLOTLYENV.BASE_URL=\"https://plot.ly\";Plotly.newPlot(\"83d01fba-f52e-482d-92d4-ffd2ce492c49\", [{\"type\": \"scatter\", \"x\": [-1.6504999999999999, -0.8216666666666667, -0.3322222222222222, 0.031379310344827556, 0.31399999999999995, 0.7887500000000003, 1.5991304347826085], \"y\": [1.6242911497538437, 2.3176755745274327, 2.431576300043768, 2.3799502586921806, 2.4389645597664638, 2.132048700916736, 2.195744744593115], \"error_y\": {\"type\": \"data\", \"array\": [0.1102701021747477, 0.32080609297211565, 0.273288008346219, 0.22112527698932793, 0.4312362408282256, 0.20907660220046495, 0.32466589321716044], \"color\": \"rgb(0,170,80)\", \"visible\": true}, \"line\": {\"color\": \"rgb(0,100,80)\"}, \"mode\": \"lines+markers\", \"name\": \"Test Data\"}, {\"type\": \"scatter\", \"x\": [-1.6504999999999999, -0.8216666666666667, -0.3322222222222222, 0.031379310344827556, 0.31399999999999995, 0.7887500000000003, 1.5991304347826085], \"y\": [2.179998049317253, 2.807290643958352, 3.2708601324057573, 3.2371077132296664, 3.2783661261018895, 2.8534319331243427, 2.244871058925838], \"error_y\": {\"type\": \"data\", \"array\": [0.007350004803883634, 0.01117928539002417, 0.013765995127769461, 0.01093777200992065, 0.01519741710810042, 0.009961357855016308, 0.007033081565790141], \"color\": \"rgb(0,100,246)\", \"visible\": true}, \"line\": {\"color\": \"rgb(0,176,246)\"}, \"mode\": \"lines+markers\", \"name\": \"Sim Data\"}, {\"type\": \"scatter\", \"x\": [-1.6504999999999999, -0.8216666666666667, -0.3322222222222222, 0.031379310344827556, 0.31399999999999995, 0.7887500000000003, 1.5991304347826085], \"y\": [0.1, 0.2777777777777778, 0.2777777777777778, 0.7241379310344828, 0.9333333333333333, 0.9166666666666666, 0.9565217391304348], \"error_y\": {\"type\": \"data\", \"array\": [0.06882472016116853, 0.10863248456597818, 0.10863248456597818, 0.08446516354424752, 0.06666666666666665, 0.05763033956734372, 0.043478260869565216], \"color\": \"rgb(0,170,80)\", \"visible\": true}, \"line\": {\"color\": \"rgb(0,100,80)\"}, \"mode\": \"lines+markers\", \"name\": \"Test Data\", \"xaxis\": \"x2\", \"yaxis\": \"y2\"}, {\"type\": \"scatter\", \"x\": [-1.6504999999999999, -0.8216666666666667, -0.3322222222222222, 0.031379310344827556, 0.31399999999999995, 0.7887500000000003, 1.5991304347826085], \"y\": [0.02901015355374381, 0.13051705905270775, 0.31547351885098746, 0.5023711555896506, 0.6840051140569275, 0.854085684430512, 0.9659926070884975], \"error_y\": {\"type\": \"data\", \"array\": [0.0011870096140959364, 0.002513266108418136, 0.0034808569698587893, 0.002952556809843407, 0.003813820920483734, 0.0022823527908469045, 0.0011952707929036323], \"color\": \"rgb(0,100,246)\", \"visible\": true}, \"line\": {\"color\": \"rgb(0,176,246)\"}, \"mode\": \"lines+markers\", \"name\": \"Sim Data\", \"xaxis\": \"x2\", \"yaxis\": \"y2\"}], {\"paper_bgcolor\": \"rgb(255,255,255)\", \"plot_bgcolor\": \"rgb(229,229,229)\", \"xaxis\": {\"gridcolor\": \"rgb(255,255,255)\", \"range\": [-2, 2], \"domain\": [0, 0.45], \"showgrid\": true, \"showline\": false, \"showticklabels\": true, \"tickcolor\": \"rgb(127,127,127)\", \"ticks\": \"outside\", \"title\": \"Net Value ($)\", \"zeroline\": false}, \"xaxis2\": {\"gridcolor\": \"rgb(255,255,255)\", \"range\": [-2, 2], \"domain\": [0.55, 1], \"showgrid\": true, \"showline\": false, \"showticklabels\": true, \"tickcolor\": \"rgb(127,127,127)\", \"ticks\": \"outside\", \"title\": \"Net Value ($)\", \"zeroline\": false}, \"yaxis1\": {\"gridcolor\": \"rgb(255,255,255)\", \"range\": [0], \"showgrid\": true, \"showline\": false, \"showticklabels\": true, \"tickcolor\": \"rgb(127,127,127)\", \"ticks\": \"outside\", \"title\": \"RT (s)\", \"anchor\": \"x1\", \"zeroline\": false}, \"yaxis2\": {\"gridcolor\": \"rgb(255,255,255)\", \"range\": [0], \"showgrid\": true, \"showline\": false, \"showticklabels\": true, \"tickcolor\": \"rgb(127,127,127)\", \"ticks\": \"outside\", \"title\": \"p (accept)\", \"anchor\": \"x2\", \"zeroline\": false}, \"annotations\": [{\"x\": 0.01, \"y\": 1.12, \"showarrow\": false, \"text\": \"PARAMETERS: v: 0.093, a: 0.164, \\u03b8: 0.55\", \"xref\": \"paper\", \"yref\": \"paper\"}, {\"x\": 0.01, \"y\": 1.08, \"showarrow\": false, \"text\": \"MLE: 666.91\", \"xref\": \"paper\", \"yref\": \"paper\"}, {\"x\": 0.01, \"y\": 1.2, \"showarrow\": false, \"text\": \"SUBJECT: 3\", \"font\": {\"family\": \"Arial, sans-serif\", \"size\": 22}, \"xref\": \"paper\", \"yref\": \"paper\"}]}, {\"showLink\": true, \"linkText\": \"Export to plot.ly\"})});</script>"
      ]
     },
     "metadata": {},
     "output_type": "display_data"
    },
    {
     "data": {
      "application/vnd.plotly.v1+json": {
       "data": [
        {
         "error_y": {
          "array": [
           0.32129862347532606,
           0.4621315558721299,
           0.19224839363799817,
           0.3279100582633189,
           0.4583042004716843,
           0.4294987771298358,
           0.29206220534775756
          ],
          "color": "rgb(0,170,80)",
          "type": "data",
          "visible": true
         },
         "line": {
          "color": "rgb(0,100,80)"
         },
         "mode": "lines+markers",
         "name": "Test Data",
         "type": "scatter",
         "x": [
          -1.8000000000000003,
          -0.794705882352941,
          -0.30916666666666665,
          0.02689655172413791,
          0.36647058823529405,
          0.7600000000000001,
          1.8549999999999998
         ],
         "y": [
          2.7815451622314686,
          2.837450211625068,
          3.147442831504614,
          3.4559793460096695,
          3.6884238950389556,
          3.405157981194673,
          3.008541587551078
         ]
        },
        {
         "error_y": {
          "array": [
           0.010727979542169504,
           0.016826270873400856,
           0.015405563825983255,
           0.01402267516401392,
           0.01847305966157353,
           0.01698459376673196,
           0.011516658676382607
          ],
          "color": "rgb(0,100,246)",
          "type": "data",
          "visible": true
         },
         "line": {
          "color": "rgb(0,176,246)"
         },
         "mode": "lines+markers",
         "name": "Sim Data",
         "type": "scatter",
         "x": [
          -1.8000000000000003,
          -0.794705882352941,
          -0.30916666666666665,
          0.02689655172413791,
          0.36647058823529405,
          0.7600000000000001,
          1.8549999999999998
         ],
         "y": [
          3.2760060978072088,
          3.9700998652951522,
          4.3718915266453084,
          4.316731099305286,
          4.488474354030092,
          4.010873523109898,
          3.0903458866176656
         ]
        },
        {
         "error_y": {
          "array": [
           0,
           0.09530501027070383,
           0.09829463743659811,
           0.09169709590633639,
           0,
           0.058823529411764705,
           0
          ],
          "color": "rgb(0,170,80)",
          "type": "data",
          "visible": true
         },
         "line": {
          "color": "rgb(0,100,80)"
         },
         "mode": "lines+markers",
         "name": "Test Data",
         "type": "scatter",
         "x": [
          -1.8000000000000003,
          -0.794705882352941,
          -0.30916666666666665,
          0.02689655172413791,
          0.36647058823529405,
          0.7600000000000001,
          1.8549999999999998
         ],
         "xaxis": "x2",
         "y": [
          0,
          0.17647058823529413,
          0.3333333333333333,
          0.6206896551724138,
          1,
          0.9411764705882353,
          1
         ],
         "yaxis": "y2"
        },
        {
         "error_y": {
          "array": [
           0.0013317534586827287,
           0.003225868737343422,
           0.003056569326486496,
           0.003043481121316205,
           0.0037597101096875315,
           0.0030003363376012297,
           0.0012416268468395542
          ],
          "color": "rgb(0,100,246)",
          "type": "data",
          "visible": true
         },
         "line": {
          "color": "rgb(0,176,246)"
         },
         "mode": "lines+markers",
         "name": "Sim Data",
         "type": "scatter",
         "x": [
          -1.8000000000000003,
          -0.794705882352941,
          -0.30916666666666665,
          0.02689655172413791,
          0.36647058823529405,
          0.7600000000000001,
          1.8549999999999998
         ],
         "xaxis": "x2",
         "y": [
          0.046036425311957355,
          0.21705853539064413,
          0.2935717825127258,
          0.47386410075417024,
          0.6734798817328705,
          0.8208754208754209,
          0.9683818346591482
         ],
         "yaxis": "y2"
        }
       ],
       "layout": {
        "annotations": [
         {
          "showarrow": false,
          "text": "PARAMETERS: v: 0.093, a: 0.221, θ: 0.1",
          "x": 0.01,
          "xref": "paper",
          "y": 1.12,
          "yref": "paper"
         },
         {
          "showarrow": false,
          "text": "MLE: 659.51",
          "x": 0.01,
          "xref": "paper",
          "y": 1.08,
          "yref": "paper"
         },
         {
          "font": {
           "family": "Arial, sans-serif",
           "size": 22
          },
          "showarrow": false,
          "text": "SUBJECT: 4",
          "x": 0.01,
          "xref": "paper",
          "y": 1.2,
          "yref": "paper"
         }
        ],
        "paper_bgcolor": "rgb(255,255,255)",
        "plot_bgcolor": "rgb(229,229,229)",
        "xaxis": {
         "domain": [
          0,
          0.45
         ],
         "gridcolor": "rgb(255,255,255)",
         "range": [
          -2,
          2
         ],
         "showgrid": true,
         "showline": false,
         "showticklabels": true,
         "tickcolor": "rgb(127,127,127)",
         "ticks": "outside",
         "title": "Net Value ($)",
         "zeroline": false
        },
        "xaxis2": {
         "domain": [
          0.55,
          1
         ],
         "gridcolor": "rgb(255,255,255)",
         "range": [
          -2,
          2
         ],
         "showgrid": true,
         "showline": false,
         "showticklabels": true,
         "tickcolor": "rgb(127,127,127)",
         "ticks": "outside",
         "title": "Net Value ($)",
         "zeroline": false
        },
        "yaxis1": {
         "anchor": "x1",
         "gridcolor": "rgb(255,255,255)",
         "range": [
          0
         ],
         "showgrid": true,
         "showline": false,
         "showticklabels": true,
         "tickcolor": "rgb(127,127,127)",
         "ticks": "outside",
         "title": "RT (s)",
         "zeroline": false
        },
        "yaxis2": {
         "anchor": "x2",
         "gridcolor": "rgb(255,255,255)",
         "range": [
          0
         ],
         "showgrid": true,
         "showline": false,
         "showticklabels": true,
         "tickcolor": "rgb(127,127,127)",
         "ticks": "outside",
         "title": "p (accept)",
         "zeroline": false
        }
       }
      },
      "text/html": [
       "<div id=\"8033ec1f-d3f0-4278-a763-c40f16c8e12d\" style=\"height: 525px; width: 100%;\" class=\"plotly-graph-div\"></div><script type=\"text/javascript\">require([\"plotly\"], function(Plotly) { window.PLOTLYENV=window.PLOTLYENV || {};window.PLOTLYENV.BASE_URL=\"https://plot.ly\";Plotly.newPlot(\"8033ec1f-d3f0-4278-a763-c40f16c8e12d\", [{\"type\": \"scatter\", \"x\": [-1.8000000000000003, -0.794705882352941, -0.30916666666666665, 0.02689655172413791, 0.36647058823529405, 0.7600000000000001, 1.8549999999999998], \"y\": [2.7815451622314686, 2.837450211625068, 3.147442831504614, 3.4559793460096695, 3.6884238950389556, 3.405157981194673, 3.008541587551078], \"error_y\": {\"type\": \"data\", \"array\": [0.32129862347532606, 0.4621315558721299, 0.19224839363799817, 0.3279100582633189, 0.4583042004716843, 0.4294987771298358, 0.29206220534775756], \"color\": \"rgb(0,170,80)\", \"visible\": true}, \"line\": {\"color\": \"rgb(0,100,80)\"}, \"mode\": \"lines+markers\", \"name\": \"Test Data\"}, {\"type\": \"scatter\", \"x\": [-1.8000000000000003, -0.794705882352941, -0.30916666666666665, 0.02689655172413791, 0.36647058823529405, 0.7600000000000001, 1.8549999999999998], \"y\": [3.2760060978072088, 3.9700998652951522, 4.3718915266453084, 4.316731099305286, 4.488474354030092, 4.010873523109898, 3.0903458866176656], \"error_y\": {\"type\": \"data\", \"array\": [0.010727979542169504, 0.016826270873400856, 0.015405563825983255, 0.01402267516401392, 0.01847305966157353, 0.01698459376673196, 0.011516658676382607], \"color\": \"rgb(0,100,246)\", \"visible\": true}, \"line\": {\"color\": \"rgb(0,176,246)\"}, \"mode\": \"lines+markers\", \"name\": \"Sim Data\"}, {\"type\": \"scatter\", \"x\": [-1.8000000000000003, -0.794705882352941, -0.30916666666666665, 0.02689655172413791, 0.36647058823529405, 0.7600000000000001, 1.8549999999999998], \"y\": [0.0, 0.17647058823529413, 0.3333333333333333, 0.6206896551724138, 1.0, 0.9411764705882353, 1.0], \"error_y\": {\"type\": \"data\", \"array\": [0.0, 0.09530501027070383, 0.09829463743659811, 0.09169709590633639, 0.0, 0.058823529411764705, 0.0], \"color\": \"rgb(0,170,80)\", \"visible\": true}, \"line\": {\"color\": \"rgb(0,100,80)\"}, \"mode\": \"lines+markers\", \"name\": \"Test Data\", \"xaxis\": \"x2\", \"yaxis\": \"y2\"}, {\"type\": \"scatter\", \"x\": [-1.8000000000000003, -0.794705882352941, -0.30916666666666665, 0.02689655172413791, 0.36647058823529405, 0.7600000000000001, 1.8549999999999998], \"y\": [0.046036425311957355, 0.21705853539064413, 0.2935717825127258, 0.47386410075417024, 0.6734798817328705, 0.8208754208754209, 0.9683818346591482], \"error_y\": {\"type\": \"data\", \"array\": [0.0013317534586827287, 0.003225868737343422, 0.003056569326486496, 0.003043481121316205, 0.0037597101096875315, 0.0030003363376012297, 0.0012416268468395542], \"color\": \"rgb(0,100,246)\", \"visible\": true}, \"line\": {\"color\": \"rgb(0,176,246)\"}, \"mode\": \"lines+markers\", \"name\": \"Sim Data\", \"xaxis\": \"x2\", \"yaxis\": \"y2\"}], {\"paper_bgcolor\": \"rgb(255,255,255)\", \"plot_bgcolor\": \"rgb(229,229,229)\", \"xaxis\": {\"gridcolor\": \"rgb(255,255,255)\", \"range\": [-2, 2], \"domain\": [0, 0.45], \"showgrid\": true, \"showline\": false, \"showticklabels\": true, \"tickcolor\": \"rgb(127,127,127)\", \"ticks\": \"outside\", \"title\": \"Net Value ($)\", \"zeroline\": false}, \"xaxis2\": {\"gridcolor\": \"rgb(255,255,255)\", \"range\": [-2, 2], \"domain\": [0.55, 1], \"showgrid\": true, \"showline\": false, \"showticklabels\": true, \"tickcolor\": \"rgb(127,127,127)\", \"ticks\": \"outside\", \"title\": \"Net Value ($)\", \"zeroline\": false}, \"yaxis1\": {\"gridcolor\": \"rgb(255,255,255)\", \"range\": [0], \"showgrid\": true, \"showline\": false, \"showticklabels\": true, \"tickcolor\": \"rgb(127,127,127)\", \"ticks\": \"outside\", \"title\": \"RT (s)\", \"anchor\": \"x1\", \"zeroline\": false}, \"yaxis2\": {\"gridcolor\": \"rgb(255,255,255)\", \"range\": [0], \"showgrid\": true, \"showline\": false, \"showticklabels\": true, \"tickcolor\": \"rgb(127,127,127)\", \"ticks\": \"outside\", \"title\": \"p (accept)\", \"anchor\": \"x2\", \"zeroline\": false}, \"annotations\": [{\"x\": 0.01, \"y\": 1.12, \"showarrow\": false, \"text\": \"PARAMETERS: v: 0.093, a: 0.221, \\u03b8: 0.1\", \"xref\": \"paper\", \"yref\": \"paper\"}, {\"x\": 0.01, \"y\": 1.08, \"showarrow\": false, \"text\": \"MLE: 659.51\", \"xref\": \"paper\", \"yref\": \"paper\"}, {\"x\": 0.01, \"y\": 1.2, \"showarrow\": false, \"text\": \"SUBJECT: 4\", \"font\": {\"family\": \"Arial, sans-serif\", \"size\": 22}, \"xref\": \"paper\", \"yref\": \"paper\"}]}, {\"showLink\": true, \"linkText\": \"Export to plot.ly\"})});</script>"
      ],
      "text/vnd.plotly.v1+html": [
       "<div id=\"8033ec1f-d3f0-4278-a763-c40f16c8e12d\" style=\"height: 525px; width: 100%;\" class=\"plotly-graph-div\"></div><script type=\"text/javascript\">require([\"plotly\"], function(Plotly) { window.PLOTLYENV=window.PLOTLYENV || {};window.PLOTLYENV.BASE_URL=\"https://plot.ly\";Plotly.newPlot(\"8033ec1f-d3f0-4278-a763-c40f16c8e12d\", [{\"type\": \"scatter\", \"x\": [-1.8000000000000003, -0.794705882352941, -0.30916666666666665, 0.02689655172413791, 0.36647058823529405, 0.7600000000000001, 1.8549999999999998], \"y\": [2.7815451622314686, 2.837450211625068, 3.147442831504614, 3.4559793460096695, 3.6884238950389556, 3.405157981194673, 3.008541587551078], \"error_y\": {\"type\": \"data\", \"array\": [0.32129862347532606, 0.4621315558721299, 0.19224839363799817, 0.3279100582633189, 0.4583042004716843, 0.4294987771298358, 0.29206220534775756], \"color\": \"rgb(0,170,80)\", \"visible\": true}, \"line\": {\"color\": \"rgb(0,100,80)\"}, \"mode\": \"lines+markers\", \"name\": \"Test Data\"}, {\"type\": \"scatter\", \"x\": [-1.8000000000000003, -0.794705882352941, -0.30916666666666665, 0.02689655172413791, 0.36647058823529405, 0.7600000000000001, 1.8549999999999998], \"y\": [3.2760060978072088, 3.9700998652951522, 4.3718915266453084, 4.316731099305286, 4.488474354030092, 4.010873523109898, 3.0903458866176656], \"error_y\": {\"type\": \"data\", \"array\": [0.010727979542169504, 0.016826270873400856, 0.015405563825983255, 0.01402267516401392, 0.01847305966157353, 0.01698459376673196, 0.011516658676382607], \"color\": \"rgb(0,100,246)\", \"visible\": true}, \"line\": {\"color\": \"rgb(0,176,246)\"}, \"mode\": \"lines+markers\", \"name\": \"Sim Data\"}, {\"type\": \"scatter\", \"x\": [-1.8000000000000003, -0.794705882352941, -0.30916666666666665, 0.02689655172413791, 0.36647058823529405, 0.7600000000000001, 1.8549999999999998], \"y\": [0.0, 0.17647058823529413, 0.3333333333333333, 0.6206896551724138, 1.0, 0.9411764705882353, 1.0], \"error_y\": {\"type\": \"data\", \"array\": [0.0, 0.09530501027070383, 0.09829463743659811, 0.09169709590633639, 0.0, 0.058823529411764705, 0.0], \"color\": \"rgb(0,170,80)\", \"visible\": true}, \"line\": {\"color\": \"rgb(0,100,80)\"}, \"mode\": \"lines+markers\", \"name\": \"Test Data\", \"xaxis\": \"x2\", \"yaxis\": \"y2\"}, {\"type\": \"scatter\", \"x\": [-1.8000000000000003, -0.794705882352941, -0.30916666666666665, 0.02689655172413791, 0.36647058823529405, 0.7600000000000001, 1.8549999999999998], \"y\": [0.046036425311957355, 0.21705853539064413, 0.2935717825127258, 0.47386410075417024, 0.6734798817328705, 0.8208754208754209, 0.9683818346591482], \"error_y\": {\"type\": \"data\", \"array\": [0.0013317534586827287, 0.003225868737343422, 0.003056569326486496, 0.003043481121316205, 0.0037597101096875315, 0.0030003363376012297, 0.0012416268468395542], \"color\": \"rgb(0,100,246)\", \"visible\": true}, \"line\": {\"color\": \"rgb(0,176,246)\"}, \"mode\": \"lines+markers\", \"name\": \"Sim Data\", \"xaxis\": \"x2\", \"yaxis\": \"y2\"}], {\"paper_bgcolor\": \"rgb(255,255,255)\", \"plot_bgcolor\": \"rgb(229,229,229)\", \"xaxis\": {\"gridcolor\": \"rgb(255,255,255)\", \"range\": [-2, 2], \"domain\": [0, 0.45], \"showgrid\": true, \"showline\": false, \"showticklabels\": true, \"tickcolor\": \"rgb(127,127,127)\", \"ticks\": \"outside\", \"title\": \"Net Value ($)\", \"zeroline\": false}, \"xaxis2\": {\"gridcolor\": \"rgb(255,255,255)\", \"range\": [-2, 2], \"domain\": [0.55, 1], \"showgrid\": true, \"showline\": false, \"showticklabels\": true, \"tickcolor\": \"rgb(127,127,127)\", \"ticks\": \"outside\", \"title\": \"Net Value ($)\", \"zeroline\": false}, \"yaxis1\": {\"gridcolor\": \"rgb(255,255,255)\", \"range\": [0], \"showgrid\": true, \"showline\": false, \"showticklabels\": true, \"tickcolor\": \"rgb(127,127,127)\", \"ticks\": \"outside\", \"title\": \"RT (s)\", \"anchor\": \"x1\", \"zeroline\": false}, \"yaxis2\": {\"gridcolor\": \"rgb(255,255,255)\", \"range\": [0], \"showgrid\": true, \"showline\": false, \"showticklabels\": true, \"tickcolor\": \"rgb(127,127,127)\", \"ticks\": \"outside\", \"title\": \"p (accept)\", \"anchor\": \"x2\", \"zeroline\": false}, \"annotations\": [{\"x\": 0.01, \"y\": 1.12, \"showarrow\": false, \"text\": \"PARAMETERS: v: 0.093, a: 0.221, \\u03b8: 0.1\", \"xref\": \"paper\", \"yref\": \"paper\"}, {\"x\": 0.01, \"y\": 1.08, \"showarrow\": false, \"text\": \"MLE: 659.51\", \"xref\": \"paper\", \"yref\": \"paper\"}, {\"x\": 0.01, \"y\": 1.2, \"showarrow\": false, \"text\": \"SUBJECT: 4\", \"font\": {\"family\": \"Arial, sans-serif\", \"size\": 22}, \"xref\": \"paper\", \"yref\": \"paper\"}]}, {\"showLink\": true, \"linkText\": \"Export to plot.ly\"})});</script>"
      ]
     },
     "metadata": {},
     "output_type": "display_data"
    },
    {
     "data": {
      "application/vnd.plotly.v1+json": {
       "data": [
        {
         "error_y": {
          "array": [
           0.43652290284311895,
           0.4588543594408193,
           0.6510247468906654,
           0.4874124659011055,
           0.5617907614621263,
           0.5107022575949373,
           0.36889572077866983
          ],
          "color": "rgb(0,170,80)",
          "type": "data",
          "visible": true
         },
         "line": {
          "color": "rgb(0,100,80)"
         },
         "mode": "lines+markers",
         "name": "Test Data",
         "type": "scatter",
         "x": [
          -1.4966666666666668,
          -0.783846153846154,
          -0.30333333333333334,
          0.03388888888888884,
          0.2921052631578947,
          0.8042105263157895,
          1.7595652173913043
         ],
         "y": [
          3.423899667376167,
          3.401024153188212,
          4.407860365049903,
          3.541552219000348,
          5.122741953856109,
          3.9032685718492233,
          3.2135488630439952
         ]
        },
        {
         "error_y": {
          "array": [
           0.018341972327179965,
           0.021701498469249306,
           0.020421464131375553,
           0.018664610505949943,
           0.017967227433871514,
           0.018035818267479894,
           0.01623244132226165
          ],
          "color": "rgb(0,100,246)",
          "type": "data",
          "visible": true
         },
         "line": {
          "color": "rgb(0,176,246)"
         },
         "mode": "lines+markers",
         "name": "Sim Data",
         "type": "scatter",
         "x": [
          -1.4966666666666668,
          -0.783846153846154,
          -0.30333333333333334,
          0.03388888888888884,
          0.2921052631578947,
          0.8042105263157895,
          1.7595652173913043
         ],
         "y": [
          4.615903993098387,
          4.684301440773031,
          4.684656855383684,
          4.69044580789831,
          4.6490115017105245,
          4.687305996472669,
          4.625856449675732
         ]
        },
        {
         "error_y": {
          "array": [
           0.05555555555555556,
           0.13323467750529824,
           0.06666666666666665,
           0.1086324845659782,
           0.1176877882894626,
           0.0723351864143449,
           0.08081046758996394
          ],
          "color": "rgb(0,170,80)",
          "type": "data",
          "visible": true
         },
         "line": {
          "color": "rgb(0,100,80)"
         },
         "mode": "lines+markers",
         "name": "Test Data",
         "type": "scatter",
         "x": [
          -1.4966666666666668,
          -0.783846153846154,
          -0.30333333333333334,
          0.03388888888888884,
          0.2921052631578947,
          0.8042105263157895,
          1.7595652173913043
         ],
         "xaxis": "x2",
         "y": [
          0.05555555555555555,
          0.3076923076923077,
          0.06666666666666667,
          0.7222222222222222,
          0.47368421052631576,
          0.8947368421052632,
          0.8260869565217391
         ],
         "yaxis": "y2"
        },
        {
         "error_y": {
          "array": [
           0.0037554077349487135,
           0.00459398366490959,
           0.004319601687272362,
           0.003946315289988327,
           0.0038325387393536646,
           0.0037841852347623877,
           0.0032802991208537528
          ],
          "color": "rgb(0,100,246)",
          "type": "data",
          "visible": true
         },
         "line": {
          "color": "rgb(0,176,246)"
         },
         "mode": "lines+markers",
         "name": "Sim Data",
         "type": "scatter",
         "x": [
          -1.4966666666666668,
          -0.783846153846154,
          -0.30333333333333334,
          0.03388888888888884,
          0.2921052631578947,
          0.8042105263157895,
          1.7595652173913043
         ],
         "xaxis": "x2",
         "y": [
          0.35457234409662314,
          0.4265378310758347,
          0.4610301847124193,
          0.5003737386321166,
          0.5314380087295033,
          0.5801881246325691,
          0.6613499879894307
         ],
         "yaxis": "y2"
        }
       ],
       "layout": {
        "annotations": [
         {
          "showarrow": false,
          "text": "PARAMETERS: v: 0.01, a: 0.221, θ: 0.775",
          "x": 0.01,
          "xref": "paper",
          "y": 1.12,
          "yref": "paper"
         },
         {
          "showarrow": false,
          "text": "MLE: 775.5",
          "x": 0.01,
          "xref": "paper",
          "y": 1.08,
          "yref": "paper"
         },
         {
          "font": {
           "family": "Arial, sans-serif",
           "size": 22
          },
          "showarrow": false,
          "text": "SUBJECT: 5",
          "x": 0.01,
          "xref": "paper",
          "y": 1.2,
          "yref": "paper"
         }
        ],
        "paper_bgcolor": "rgb(255,255,255)",
        "plot_bgcolor": "rgb(229,229,229)",
        "xaxis": {
         "domain": [
          0,
          0.45
         ],
         "gridcolor": "rgb(255,255,255)",
         "range": [
          -2,
          2
         ],
         "showgrid": true,
         "showline": false,
         "showticklabels": true,
         "tickcolor": "rgb(127,127,127)",
         "ticks": "outside",
         "title": "Net Value ($)",
         "zeroline": false
        },
        "xaxis2": {
         "domain": [
          0.55,
          1
         ],
         "gridcolor": "rgb(255,255,255)",
         "range": [
          -2,
          2
         ],
         "showgrid": true,
         "showline": false,
         "showticklabels": true,
         "tickcolor": "rgb(127,127,127)",
         "ticks": "outside",
         "title": "Net Value ($)",
         "zeroline": false
        },
        "yaxis1": {
         "anchor": "x1",
         "gridcolor": "rgb(255,255,255)",
         "range": [
          0
         ],
         "showgrid": true,
         "showline": false,
         "showticklabels": true,
         "tickcolor": "rgb(127,127,127)",
         "ticks": "outside",
         "title": "RT (s)",
         "zeroline": false
        },
        "yaxis2": {
         "anchor": "x2",
         "gridcolor": "rgb(255,255,255)",
         "range": [
          0
         ],
         "showgrid": true,
         "showline": false,
         "showticklabels": true,
         "tickcolor": "rgb(127,127,127)",
         "ticks": "outside",
         "title": "p (accept)",
         "zeroline": false
        }
       }
      },
      "text/html": [
       "<div id=\"7d6d072e-b2e4-4ce4-9fa2-6383351e48a0\" style=\"height: 525px; width: 100%;\" class=\"plotly-graph-div\"></div><script type=\"text/javascript\">require([\"plotly\"], function(Plotly) { window.PLOTLYENV=window.PLOTLYENV || {};window.PLOTLYENV.BASE_URL=\"https://plot.ly\";Plotly.newPlot(\"7d6d072e-b2e4-4ce4-9fa2-6383351e48a0\", [{\"type\": \"scatter\", \"x\": [-1.4966666666666668, -0.783846153846154, -0.30333333333333334, 0.03388888888888884, 0.2921052631578947, 0.8042105263157895, 1.7595652173913043], \"y\": [3.423899667376167, 3.401024153188212, 4.407860365049903, 3.541552219000348, 5.122741953856109, 3.9032685718492233, 3.2135488630439952], \"error_y\": {\"type\": \"data\", \"array\": [0.43652290284311895, 0.4588543594408193, 0.6510247468906654, 0.4874124659011055, 0.5617907614621263, 0.5107022575949373, 0.36889572077866983], \"color\": \"rgb(0,170,80)\", \"visible\": true}, \"line\": {\"color\": \"rgb(0,100,80)\"}, \"mode\": \"lines+markers\", \"name\": \"Test Data\"}, {\"type\": \"scatter\", \"x\": [-1.4966666666666668, -0.783846153846154, -0.30333333333333334, 0.03388888888888884, 0.2921052631578947, 0.8042105263157895, 1.7595652173913043], \"y\": [4.615903993098387, 4.684301440773031, 4.684656855383684, 4.69044580789831, 4.6490115017105245, 4.687305996472669, 4.625856449675732], \"error_y\": {\"type\": \"data\", \"array\": [0.018341972327179965, 0.021701498469249306, 0.020421464131375553, 0.018664610505949943, 0.017967227433871514, 0.018035818267479894, 0.01623244132226165], \"color\": \"rgb(0,100,246)\", \"visible\": true}, \"line\": {\"color\": \"rgb(0,176,246)\"}, \"mode\": \"lines+markers\", \"name\": \"Sim Data\"}, {\"type\": \"scatter\", \"x\": [-1.4966666666666668, -0.783846153846154, -0.30333333333333334, 0.03388888888888884, 0.2921052631578947, 0.8042105263157895, 1.7595652173913043], \"y\": [0.05555555555555555, 0.3076923076923077, 0.06666666666666667, 0.7222222222222222, 0.47368421052631576, 0.8947368421052632, 0.8260869565217391], \"error_y\": {\"type\": \"data\", \"array\": [0.05555555555555556, 0.13323467750529824, 0.06666666666666665, 0.1086324845659782, 0.1176877882894626, 0.0723351864143449, 0.08081046758996394], \"color\": \"rgb(0,170,80)\", \"visible\": true}, \"line\": {\"color\": \"rgb(0,100,80)\"}, \"mode\": \"lines+markers\", \"name\": \"Test Data\", \"xaxis\": \"x2\", \"yaxis\": \"y2\"}, {\"type\": \"scatter\", \"x\": [-1.4966666666666668, -0.783846153846154, -0.30333333333333334, 0.03388888888888884, 0.2921052631578947, 0.8042105263157895, 1.7595652173913043], \"y\": [0.35457234409662314, 0.4265378310758347, 0.4610301847124193, 0.5003737386321166, 0.5314380087295033, 0.5801881246325691, 0.6613499879894307], \"error_y\": {\"type\": \"data\", \"array\": [0.0037554077349487135, 0.00459398366490959, 0.004319601687272362, 0.003946315289988327, 0.0038325387393536646, 0.0037841852347623877, 0.0032802991208537528], \"color\": \"rgb(0,100,246)\", \"visible\": true}, \"line\": {\"color\": \"rgb(0,176,246)\"}, \"mode\": \"lines+markers\", \"name\": \"Sim Data\", \"xaxis\": \"x2\", \"yaxis\": \"y2\"}], {\"paper_bgcolor\": \"rgb(255,255,255)\", \"plot_bgcolor\": \"rgb(229,229,229)\", \"xaxis\": {\"gridcolor\": \"rgb(255,255,255)\", \"range\": [-2, 2], \"domain\": [0, 0.45], \"showgrid\": true, \"showline\": false, \"showticklabels\": true, \"tickcolor\": \"rgb(127,127,127)\", \"ticks\": \"outside\", \"title\": \"Net Value ($)\", \"zeroline\": false}, \"xaxis2\": {\"gridcolor\": \"rgb(255,255,255)\", \"range\": [-2, 2], \"domain\": [0.55, 1], \"showgrid\": true, \"showline\": false, \"showticklabels\": true, \"tickcolor\": \"rgb(127,127,127)\", \"ticks\": \"outside\", \"title\": \"Net Value ($)\", \"zeroline\": false}, \"yaxis1\": {\"gridcolor\": \"rgb(255,255,255)\", \"range\": [0], \"showgrid\": true, \"showline\": false, \"showticklabels\": true, \"tickcolor\": \"rgb(127,127,127)\", \"ticks\": \"outside\", \"title\": \"RT (s)\", \"anchor\": \"x1\", \"zeroline\": false}, \"yaxis2\": {\"gridcolor\": \"rgb(255,255,255)\", \"range\": [0], \"showgrid\": true, \"showline\": false, \"showticklabels\": true, \"tickcolor\": \"rgb(127,127,127)\", \"ticks\": \"outside\", \"title\": \"p (accept)\", \"anchor\": \"x2\", \"zeroline\": false}, \"annotations\": [{\"x\": 0.01, \"y\": 1.12, \"showarrow\": false, \"text\": \"PARAMETERS: v: 0.01, a: 0.221, \\u03b8: 0.775\", \"xref\": \"paper\", \"yref\": \"paper\"}, {\"x\": 0.01, \"y\": 1.08, \"showarrow\": false, \"text\": \"MLE: 775.5\", \"xref\": \"paper\", \"yref\": \"paper\"}, {\"x\": 0.01, \"y\": 1.2, \"showarrow\": false, \"text\": \"SUBJECT: 5\", \"font\": {\"family\": \"Arial, sans-serif\", \"size\": 22}, \"xref\": \"paper\", \"yref\": \"paper\"}]}, {\"showLink\": true, \"linkText\": \"Export to plot.ly\"})});</script>"
      ],
      "text/vnd.plotly.v1+html": [
       "<div id=\"7d6d072e-b2e4-4ce4-9fa2-6383351e48a0\" style=\"height: 525px; width: 100%;\" class=\"plotly-graph-div\"></div><script type=\"text/javascript\">require([\"plotly\"], function(Plotly) { window.PLOTLYENV=window.PLOTLYENV || {};window.PLOTLYENV.BASE_URL=\"https://plot.ly\";Plotly.newPlot(\"7d6d072e-b2e4-4ce4-9fa2-6383351e48a0\", [{\"type\": \"scatter\", \"x\": [-1.4966666666666668, -0.783846153846154, -0.30333333333333334, 0.03388888888888884, 0.2921052631578947, 0.8042105263157895, 1.7595652173913043], \"y\": [3.423899667376167, 3.401024153188212, 4.407860365049903, 3.541552219000348, 5.122741953856109, 3.9032685718492233, 3.2135488630439952], \"error_y\": {\"type\": \"data\", \"array\": [0.43652290284311895, 0.4588543594408193, 0.6510247468906654, 0.4874124659011055, 0.5617907614621263, 0.5107022575949373, 0.36889572077866983], \"color\": \"rgb(0,170,80)\", \"visible\": true}, \"line\": {\"color\": \"rgb(0,100,80)\"}, \"mode\": \"lines+markers\", \"name\": \"Test Data\"}, {\"type\": \"scatter\", \"x\": [-1.4966666666666668, -0.783846153846154, -0.30333333333333334, 0.03388888888888884, 0.2921052631578947, 0.8042105263157895, 1.7595652173913043], \"y\": [4.615903993098387, 4.684301440773031, 4.684656855383684, 4.69044580789831, 4.6490115017105245, 4.687305996472669, 4.625856449675732], \"error_y\": {\"type\": \"data\", \"array\": [0.018341972327179965, 0.021701498469249306, 0.020421464131375553, 0.018664610505949943, 0.017967227433871514, 0.018035818267479894, 0.01623244132226165], \"color\": \"rgb(0,100,246)\", \"visible\": true}, \"line\": {\"color\": \"rgb(0,176,246)\"}, \"mode\": \"lines+markers\", \"name\": \"Sim Data\"}, {\"type\": \"scatter\", \"x\": [-1.4966666666666668, -0.783846153846154, -0.30333333333333334, 0.03388888888888884, 0.2921052631578947, 0.8042105263157895, 1.7595652173913043], \"y\": [0.05555555555555555, 0.3076923076923077, 0.06666666666666667, 0.7222222222222222, 0.47368421052631576, 0.8947368421052632, 0.8260869565217391], \"error_y\": {\"type\": \"data\", \"array\": [0.05555555555555556, 0.13323467750529824, 0.06666666666666665, 0.1086324845659782, 0.1176877882894626, 0.0723351864143449, 0.08081046758996394], \"color\": \"rgb(0,170,80)\", \"visible\": true}, \"line\": {\"color\": \"rgb(0,100,80)\"}, \"mode\": \"lines+markers\", \"name\": \"Test Data\", \"xaxis\": \"x2\", \"yaxis\": \"y2\"}, {\"type\": \"scatter\", \"x\": [-1.4966666666666668, -0.783846153846154, -0.30333333333333334, 0.03388888888888884, 0.2921052631578947, 0.8042105263157895, 1.7595652173913043], \"y\": [0.35457234409662314, 0.4265378310758347, 0.4610301847124193, 0.5003737386321166, 0.5314380087295033, 0.5801881246325691, 0.6613499879894307], \"error_y\": {\"type\": \"data\", \"array\": [0.0037554077349487135, 0.00459398366490959, 0.004319601687272362, 0.003946315289988327, 0.0038325387393536646, 0.0037841852347623877, 0.0032802991208537528], \"color\": \"rgb(0,100,246)\", \"visible\": true}, \"line\": {\"color\": \"rgb(0,176,246)\"}, \"mode\": \"lines+markers\", \"name\": \"Sim Data\", \"xaxis\": \"x2\", \"yaxis\": \"y2\"}], {\"paper_bgcolor\": \"rgb(255,255,255)\", \"plot_bgcolor\": \"rgb(229,229,229)\", \"xaxis\": {\"gridcolor\": \"rgb(255,255,255)\", \"range\": [-2, 2], \"domain\": [0, 0.45], \"showgrid\": true, \"showline\": false, \"showticklabels\": true, \"tickcolor\": \"rgb(127,127,127)\", \"ticks\": \"outside\", \"title\": \"Net Value ($)\", \"zeroline\": false}, \"xaxis2\": {\"gridcolor\": \"rgb(255,255,255)\", \"range\": [-2, 2], \"domain\": [0.55, 1], \"showgrid\": true, \"showline\": false, \"showticklabels\": true, \"tickcolor\": \"rgb(127,127,127)\", \"ticks\": \"outside\", \"title\": \"Net Value ($)\", \"zeroline\": false}, \"yaxis1\": {\"gridcolor\": \"rgb(255,255,255)\", \"range\": [0], \"showgrid\": true, \"showline\": false, \"showticklabels\": true, \"tickcolor\": \"rgb(127,127,127)\", \"ticks\": \"outside\", \"title\": \"RT (s)\", \"anchor\": \"x1\", \"zeroline\": false}, \"yaxis2\": {\"gridcolor\": \"rgb(255,255,255)\", \"range\": [0], \"showgrid\": true, \"showline\": false, \"showticklabels\": true, \"tickcolor\": \"rgb(127,127,127)\", \"ticks\": \"outside\", \"title\": \"p (accept)\", \"anchor\": \"x2\", \"zeroline\": false}, \"annotations\": [{\"x\": 0.01, \"y\": 1.12, \"showarrow\": false, \"text\": \"PARAMETERS: v: 0.01, a: 0.221, \\u03b8: 0.775\", \"xref\": \"paper\", \"yref\": \"paper\"}, {\"x\": 0.01, \"y\": 1.08, \"showarrow\": false, \"text\": \"MLE: 775.5\", \"xref\": \"paper\", \"yref\": \"paper\"}, {\"x\": 0.01, \"y\": 1.2, \"showarrow\": false, \"text\": \"SUBJECT: 5\", \"font\": {\"family\": \"Arial, sans-serif\", \"size\": 22}, \"xref\": \"paper\", \"yref\": \"paper\"}]}, {\"showLink\": true, \"linkText\": \"Export to plot.ly\"})});</script>"
      ]
     },
     "metadata": {},
     "output_type": "display_data"
    },
    {
     "data": {
      "application/vnd.plotly.v1+json": {
       "data": [
        {
         "error_y": {
          "array": [
           0.45266461126802543,
           0.5820686014296277,
           0.2925565576390161,
           0.38239940827710045,
           0.37396278789496307,
           0.3540266022245862,
           0.29760271919607933
          ],
          "color": "rgb(0,170,80)",
          "type": "data",
          "visible": true
         },
         "line": {
          "color": "rgb(0,100,80)"
         },
         "mode": "lines+markers",
         "name": "Test Data",
         "type": "scatter",
         "x": [
          -1.5533333333333337,
          -0.8073333333333333,
          -0.2930434782608696,
          0.018999999999999972,
          0.2958333333333334,
          0.7423809523809526,
          1.5522222222222217
         ],
         "y": [
          3.4658348341654346,
          4.5258351827066985,
          4.0977258159384835,
          4.511248517947024,
          3.7386210568985607,
          3.5870816074018967,
          3.2126224060278523
         ]
        },
        {
         "error_y": {
          "array": [
           0.0200932220530835,
           0.020359038987522837,
           0.01660035709970241,
           0.01763776053673017,
           0.016111296836452436,
           0.017160441736766452,
           0.014996847905892098
          ],
          "color": "rgb(0,100,246)",
          "type": "data",
          "visible": true
         },
         "line": {
          "color": "rgb(0,176,246)"
         },
         "mode": "lines+markers",
         "name": "Sim Data",
         "type": "scatter",
         "x": [
          -1.5533333333333337,
          -0.8073333333333333,
          -0.2930434782608696,
          0.018999999999999972,
          0.2958333333333334,
          0.7423809523809526,
          1.5522222222222217
         ],
         "y": [
          4.620071244192054,
          4.711865756879011,
          4.700160472149053,
          4.691084000223816,
          4.682822430774929,
          4.662187686408172,
          4.620685536394549
         ]
        },
        {
         "error_y": {
          "array": [
           0,
           0.06666666666666665,
           0.0981001869248289,
           0.11413288653790231,
           0.0902893898143269,
           0.06563832739090582,
           0.037037037037037035
          ],
          "color": "rgb(0,170,80)",
          "type": "data",
          "visible": true
         },
         "line": {
          "color": "rgb(0,100,80)"
         },
         "mode": "lines+markers",
         "name": "Test Data",
         "type": "scatter",
         "x": [
          -1.5533333333333337,
          -0.8073333333333333,
          -0.2930434782608696,
          0.018999999999999972,
          0.2958333333333334,
          0.7423809523809526,
          1.5522222222222217
         ],
         "xaxis": "x2",
         "y": [
          0,
          0.06666666666666667,
          0.30434782608695654,
          0.55,
          0.75,
          0.9047619047619048,
          0.9629629629629629
         ],
         "yaxis": "y2"
        },
        {
         "error_y": {
          "array": [
           0.0040702141990279425,
           0.004233846950172476,
           0.0034855697361065373,
           0.0037405183268434993,
           0.003400911529812688,
           0.0036058091291522954,
           0.0030186268961722353
          ],
          "color": "rgb(0,100,246)",
          "type": "data",
          "visible": true
         },
         "line": {
          "color": "rgb(0,176,246)"
         },
         "mode": "lines+markers",
         "name": "Sim Data",
         "type": "scatter",
         "x": [
          -1.5533333333333337,
          -0.8073333333333333,
          -0.2930434782608696,
          0.018999999999999972,
          0.2958333333333334,
          0.7423809523809526,
          1.5522222222222217
         ],
         "xaxis": "x2",
         "y": [
          0.34065934065934067,
          0.4087369279833865,
          0.46951516925178033,
          0.5005316469864011,
          0.5325682958557889,
          0.5767469109501491,
          0.6659976242166059
         ],
         "yaxis": "y2"
        }
       ],
       "layout": {
        "annotations": [
         {
          "showarrow": false,
          "text": "PARAMETERS: v: 0.01, a: 0.221, θ: 1.0",
          "x": 0.01,
          "xref": "paper",
          "y": 1.12,
          "yref": "paper"
         },
         {
          "showarrow": false,
          "text": "MLE: 710.69",
          "x": 0.01,
          "xref": "paper",
          "y": 1.08,
          "yref": "paper"
         },
         {
          "font": {
           "family": "Arial, sans-serif",
           "size": 22
          },
          "showarrow": false,
          "text": "SUBJECT: 6",
          "x": 0.01,
          "xref": "paper",
          "y": 1.2,
          "yref": "paper"
         }
        ],
        "paper_bgcolor": "rgb(255,255,255)",
        "plot_bgcolor": "rgb(229,229,229)",
        "xaxis": {
         "domain": [
          0,
          0.45
         ],
         "gridcolor": "rgb(255,255,255)",
         "range": [
          -2,
          2
         ],
         "showgrid": true,
         "showline": false,
         "showticklabels": true,
         "tickcolor": "rgb(127,127,127)",
         "ticks": "outside",
         "title": "Net Value ($)",
         "zeroline": false
        },
        "xaxis2": {
         "domain": [
          0.55,
          1
         ],
         "gridcolor": "rgb(255,255,255)",
         "range": [
          -2,
          2
         ],
         "showgrid": true,
         "showline": false,
         "showticklabels": true,
         "tickcolor": "rgb(127,127,127)",
         "ticks": "outside",
         "title": "Net Value ($)",
         "zeroline": false
        },
        "yaxis1": {
         "anchor": "x1",
         "gridcolor": "rgb(255,255,255)",
         "range": [
          0
         ],
         "showgrid": true,
         "showline": false,
         "showticklabels": true,
         "tickcolor": "rgb(127,127,127)",
         "ticks": "outside",
         "title": "RT (s)",
         "zeroline": false
        },
        "yaxis2": {
         "anchor": "x2",
         "gridcolor": "rgb(255,255,255)",
         "range": [
          0
         ],
         "showgrid": true,
         "showline": false,
         "showticklabels": true,
         "tickcolor": "rgb(127,127,127)",
         "ticks": "outside",
         "title": "p (accept)",
         "zeroline": false
        }
       }
      },
      "text/html": [
       "<div id=\"cd43524c-a1d2-45c1-aff3-028223bcaadc\" style=\"height: 525px; width: 100%;\" class=\"plotly-graph-div\"></div><script type=\"text/javascript\">require([\"plotly\"], function(Plotly) { window.PLOTLYENV=window.PLOTLYENV || {};window.PLOTLYENV.BASE_URL=\"https://plot.ly\";Plotly.newPlot(\"cd43524c-a1d2-45c1-aff3-028223bcaadc\", [{\"type\": \"scatter\", \"x\": [-1.5533333333333337, -0.8073333333333333, -0.2930434782608696, 0.018999999999999972, 0.2958333333333334, 0.7423809523809526, 1.5522222222222217], \"y\": [3.4658348341654346, 4.5258351827066985, 4.0977258159384835, 4.511248517947024, 3.7386210568985607, 3.5870816074018967, 3.2126224060278523], \"error_y\": {\"type\": \"data\", \"array\": [0.45266461126802543, 0.5820686014296277, 0.2925565576390161, 0.38239940827710045, 0.37396278789496307, 0.3540266022245862, 0.29760271919607933], \"color\": \"rgb(0,170,80)\", \"visible\": true}, \"line\": {\"color\": \"rgb(0,100,80)\"}, \"mode\": \"lines+markers\", \"name\": \"Test Data\"}, {\"type\": \"scatter\", \"x\": [-1.5533333333333337, -0.8073333333333333, -0.2930434782608696, 0.018999999999999972, 0.2958333333333334, 0.7423809523809526, 1.5522222222222217], \"y\": [4.620071244192054, 4.711865756879011, 4.700160472149053, 4.691084000223816, 4.682822430774929, 4.662187686408172, 4.620685536394549], \"error_y\": {\"type\": \"data\", \"array\": [0.0200932220530835, 0.020359038987522837, 0.01660035709970241, 0.01763776053673017, 0.016111296836452436, 0.017160441736766452, 0.014996847905892098], \"color\": \"rgb(0,100,246)\", \"visible\": true}, \"line\": {\"color\": \"rgb(0,176,246)\"}, \"mode\": \"lines+markers\", \"name\": \"Sim Data\"}, {\"type\": \"scatter\", \"x\": [-1.5533333333333337, -0.8073333333333333, -0.2930434782608696, 0.018999999999999972, 0.2958333333333334, 0.7423809523809526, 1.5522222222222217], \"y\": [0.0, 0.06666666666666667, 0.30434782608695654, 0.55, 0.75, 0.9047619047619048, 0.9629629629629629], \"error_y\": {\"type\": \"data\", \"array\": [0.0, 0.06666666666666665, 0.0981001869248289, 0.11413288653790231, 0.0902893898143269, 0.06563832739090582, 0.037037037037037035], \"color\": \"rgb(0,170,80)\", \"visible\": true}, \"line\": {\"color\": \"rgb(0,100,80)\"}, \"mode\": \"lines+markers\", \"name\": \"Test Data\", \"xaxis\": \"x2\", \"yaxis\": \"y2\"}, {\"type\": \"scatter\", \"x\": [-1.5533333333333337, -0.8073333333333333, -0.2930434782608696, 0.018999999999999972, 0.2958333333333334, 0.7423809523809526, 1.5522222222222217], \"y\": [0.34065934065934067, 0.4087369279833865, 0.46951516925178033, 0.5005316469864011, 0.5325682958557889, 0.5767469109501491, 0.6659976242166059], \"error_y\": {\"type\": \"data\", \"array\": [0.0040702141990279425, 0.004233846950172476, 0.0034855697361065373, 0.0037405183268434993, 0.003400911529812688, 0.0036058091291522954, 0.0030186268961722353], \"color\": \"rgb(0,100,246)\", \"visible\": true}, \"line\": {\"color\": \"rgb(0,176,246)\"}, \"mode\": \"lines+markers\", \"name\": \"Sim Data\", \"xaxis\": \"x2\", \"yaxis\": \"y2\"}], {\"paper_bgcolor\": \"rgb(255,255,255)\", \"plot_bgcolor\": \"rgb(229,229,229)\", \"xaxis\": {\"gridcolor\": \"rgb(255,255,255)\", \"range\": [-2, 2], \"domain\": [0, 0.45], \"showgrid\": true, \"showline\": false, \"showticklabels\": true, \"tickcolor\": \"rgb(127,127,127)\", \"ticks\": \"outside\", \"title\": \"Net Value ($)\", \"zeroline\": false}, \"xaxis2\": {\"gridcolor\": \"rgb(255,255,255)\", \"range\": [-2, 2], \"domain\": [0.55, 1], \"showgrid\": true, \"showline\": false, \"showticklabels\": true, \"tickcolor\": \"rgb(127,127,127)\", \"ticks\": \"outside\", \"title\": \"Net Value ($)\", \"zeroline\": false}, \"yaxis1\": {\"gridcolor\": \"rgb(255,255,255)\", \"range\": [0], \"showgrid\": true, \"showline\": false, \"showticklabels\": true, \"tickcolor\": \"rgb(127,127,127)\", \"ticks\": \"outside\", \"title\": \"RT (s)\", \"anchor\": \"x1\", \"zeroline\": false}, \"yaxis2\": {\"gridcolor\": \"rgb(255,255,255)\", \"range\": [0], \"showgrid\": true, \"showline\": false, \"showticklabels\": true, \"tickcolor\": \"rgb(127,127,127)\", \"ticks\": \"outside\", \"title\": \"p (accept)\", \"anchor\": \"x2\", \"zeroline\": false}, \"annotations\": [{\"x\": 0.01, \"y\": 1.12, \"showarrow\": false, \"text\": \"PARAMETERS: v: 0.01, a: 0.221, \\u03b8: 1.0\", \"xref\": \"paper\", \"yref\": \"paper\"}, {\"x\": 0.01, \"y\": 1.08, \"showarrow\": false, \"text\": \"MLE: 710.69\", \"xref\": \"paper\", \"yref\": \"paper\"}, {\"x\": 0.01, \"y\": 1.2, \"showarrow\": false, \"text\": \"SUBJECT: 6\", \"font\": {\"family\": \"Arial, sans-serif\", \"size\": 22}, \"xref\": \"paper\", \"yref\": \"paper\"}]}, {\"showLink\": true, \"linkText\": \"Export to plot.ly\"})});</script>"
      ],
      "text/vnd.plotly.v1+html": [
       "<div id=\"cd43524c-a1d2-45c1-aff3-028223bcaadc\" style=\"height: 525px; width: 100%;\" class=\"plotly-graph-div\"></div><script type=\"text/javascript\">require([\"plotly\"], function(Plotly) { window.PLOTLYENV=window.PLOTLYENV || {};window.PLOTLYENV.BASE_URL=\"https://plot.ly\";Plotly.newPlot(\"cd43524c-a1d2-45c1-aff3-028223bcaadc\", [{\"type\": \"scatter\", \"x\": [-1.5533333333333337, -0.8073333333333333, -0.2930434782608696, 0.018999999999999972, 0.2958333333333334, 0.7423809523809526, 1.5522222222222217], \"y\": [3.4658348341654346, 4.5258351827066985, 4.0977258159384835, 4.511248517947024, 3.7386210568985607, 3.5870816074018967, 3.2126224060278523], \"error_y\": {\"type\": \"data\", \"array\": [0.45266461126802543, 0.5820686014296277, 0.2925565576390161, 0.38239940827710045, 0.37396278789496307, 0.3540266022245862, 0.29760271919607933], \"color\": \"rgb(0,170,80)\", \"visible\": true}, \"line\": {\"color\": \"rgb(0,100,80)\"}, \"mode\": \"lines+markers\", \"name\": \"Test Data\"}, {\"type\": \"scatter\", \"x\": [-1.5533333333333337, -0.8073333333333333, -0.2930434782608696, 0.018999999999999972, 0.2958333333333334, 0.7423809523809526, 1.5522222222222217], \"y\": [4.620071244192054, 4.711865756879011, 4.700160472149053, 4.691084000223816, 4.682822430774929, 4.662187686408172, 4.620685536394549], \"error_y\": {\"type\": \"data\", \"array\": [0.0200932220530835, 0.020359038987522837, 0.01660035709970241, 0.01763776053673017, 0.016111296836452436, 0.017160441736766452, 0.014996847905892098], \"color\": \"rgb(0,100,246)\", \"visible\": true}, \"line\": {\"color\": \"rgb(0,176,246)\"}, \"mode\": \"lines+markers\", \"name\": \"Sim Data\"}, {\"type\": \"scatter\", \"x\": [-1.5533333333333337, -0.8073333333333333, -0.2930434782608696, 0.018999999999999972, 0.2958333333333334, 0.7423809523809526, 1.5522222222222217], \"y\": [0.0, 0.06666666666666667, 0.30434782608695654, 0.55, 0.75, 0.9047619047619048, 0.9629629629629629], \"error_y\": {\"type\": \"data\", \"array\": [0.0, 0.06666666666666665, 0.0981001869248289, 0.11413288653790231, 0.0902893898143269, 0.06563832739090582, 0.037037037037037035], \"color\": \"rgb(0,170,80)\", \"visible\": true}, \"line\": {\"color\": \"rgb(0,100,80)\"}, \"mode\": \"lines+markers\", \"name\": \"Test Data\", \"xaxis\": \"x2\", \"yaxis\": \"y2\"}, {\"type\": \"scatter\", \"x\": [-1.5533333333333337, -0.8073333333333333, -0.2930434782608696, 0.018999999999999972, 0.2958333333333334, 0.7423809523809526, 1.5522222222222217], \"y\": [0.34065934065934067, 0.4087369279833865, 0.46951516925178033, 0.5005316469864011, 0.5325682958557889, 0.5767469109501491, 0.6659976242166059], \"error_y\": {\"type\": \"data\", \"array\": [0.0040702141990279425, 0.004233846950172476, 0.0034855697361065373, 0.0037405183268434993, 0.003400911529812688, 0.0036058091291522954, 0.0030186268961722353], \"color\": \"rgb(0,100,246)\", \"visible\": true}, \"line\": {\"color\": \"rgb(0,176,246)\"}, \"mode\": \"lines+markers\", \"name\": \"Sim Data\", \"xaxis\": \"x2\", \"yaxis\": \"y2\"}], {\"paper_bgcolor\": \"rgb(255,255,255)\", \"plot_bgcolor\": \"rgb(229,229,229)\", \"xaxis\": {\"gridcolor\": \"rgb(255,255,255)\", \"range\": [-2, 2], \"domain\": [0, 0.45], \"showgrid\": true, \"showline\": false, \"showticklabels\": true, \"tickcolor\": \"rgb(127,127,127)\", \"ticks\": \"outside\", \"title\": \"Net Value ($)\", \"zeroline\": false}, \"xaxis2\": {\"gridcolor\": \"rgb(255,255,255)\", \"range\": [-2, 2], \"domain\": [0.55, 1], \"showgrid\": true, \"showline\": false, \"showticklabels\": true, \"tickcolor\": \"rgb(127,127,127)\", \"ticks\": \"outside\", \"title\": \"Net Value ($)\", \"zeroline\": false}, \"yaxis1\": {\"gridcolor\": \"rgb(255,255,255)\", \"range\": [0], \"showgrid\": true, \"showline\": false, \"showticklabels\": true, \"tickcolor\": \"rgb(127,127,127)\", \"ticks\": \"outside\", \"title\": \"RT (s)\", \"anchor\": \"x1\", \"zeroline\": false}, \"yaxis2\": {\"gridcolor\": \"rgb(255,255,255)\", \"range\": [0], \"showgrid\": true, \"showline\": false, \"showticklabels\": true, \"tickcolor\": \"rgb(127,127,127)\", \"ticks\": \"outside\", \"title\": \"p (accept)\", \"anchor\": \"x2\", \"zeroline\": false}, \"annotations\": [{\"x\": 0.01, \"y\": 1.12, \"showarrow\": false, \"text\": \"PARAMETERS: v: 0.01, a: 0.221, \\u03b8: 1.0\", \"xref\": \"paper\", \"yref\": \"paper\"}, {\"x\": 0.01, \"y\": 1.08, \"showarrow\": false, \"text\": \"MLE: 710.69\", \"xref\": \"paper\", \"yref\": \"paper\"}, {\"x\": 0.01, \"y\": 1.2, \"showarrow\": false, \"text\": \"SUBJECT: 6\", \"font\": {\"family\": \"Arial, sans-serif\", \"size\": 22}, \"xref\": \"paper\", \"yref\": \"paper\"}]}, {\"showLink\": true, \"linkText\": \"Export to plot.ly\"})});</script>"
      ]
     },
     "metadata": {},
     "output_type": "display_data"
    },
    {
     "data": {
      "application/vnd.plotly.v1+json": {
       "data": [
        {
         "error_y": {
          "array": [
           0.21285109200996552,
           0.37714213911916256,
           0.2695708175541002,
           0.2886556556927408,
           0.5229150251484915,
           0.28322585932055555,
           0.37203030071021026
          ],
          "color": "rgb(0,170,80)",
          "type": "data",
          "visible": true
         },
         "line": {
          "color": "rgb(0,100,80)"
         },
         "mode": "lines+markers",
         "name": "Test Data",
         "type": "scatter",
         "x": [
          -1.5631578947368423,
          -0.8114285714285714,
          -0.3247826086956522,
          0.0283333333333333,
          0.30428571428571427,
          0.754,
          1.8863636363636358
         ],
         "y": [
          2.3779431322494173,
          2.821205532013014,
          2.9857144204576356,
          3.3635180042749804,
          3.790879182359278,
          2.77466733810943,
          2.865143027417533
         ]
        },
        {
         "error_y": {
          "array": [
           0.010960469677922892,
           0.012352935572070444,
           0.012745550653499256,
           0.011174036776645323,
           0.016305266435777455,
           0.012899281049790186,
           0.009096272152944255
          ],
          "color": "rgb(0,100,246)",
          "type": "data",
          "visible": true
         },
         "line": {
          "color": "rgb(0,176,246)"
         },
         "mode": "lines+markers",
         "name": "Sim Data",
         "type": "scatter",
         "x": [
          -1.5631578947368423,
          -0.8114285714285714,
          -0.3247826086956522,
          0.0283333333333333,
          0.30428571428571427,
          0.754,
          1.8863636363636358
         ],
         "y": [
          2.7599519489424504,
          3.189707535856476,
          3.370543110288269,
          3.4045614611191883,
          3.382102250524656,
          3.2323803072274044,
          2.5543738160291545
         ]
        },
        {
         "error_y": {
          "array": [
           0,
           0,
           0.060073850409370216,
           0.08211756827352527,
           0.11380392954509881,
           0.04999999999999999,
           0.04545454545454545
          ],
          "color": "rgb(0,170,80)",
          "type": "data",
          "visible": true
         },
         "line": {
          "color": "rgb(0,100,80)"
         },
         "mode": "lines+markers",
         "name": "Test Data",
         "type": "scatter",
         "x": [
          -1.5631578947368423,
          -0.8114285714285714,
          -0.3247826086956522,
          0.0283333333333333,
          0.30428571428571427,
          0.754,
          1.8863636363636358
         ],
         "xaxis": "x2",
         "y": [
          0,
          0,
          0.08695652173913043,
          0.26666666666666666,
          0.7857142857142857,
          0.95,
          0.9545454545454546
         ],
         "yaxis": "y2"
        },
        {
         "error_y": {
          "array": [
           0.0022731747422756864,
           0.0029692103480545916,
           0.00322263871306736,
           0.0029090099359344573,
           0.004142177216460851,
           0.0030575177637359643,
           0.001791250384268461
          ],
          "color": "rgb(0,100,246)",
          "type": "data",
          "visible": true
         },
         "line": {
          "color": "rgb(0,176,246)"
         },
         "mode": "lines+markers",
         "name": "Sim Data",
         "type": "scatter",
         "x": [
          -1.5631578947368423,
          -0.8114285714285714,
          -0.3247826086956522,
          0.0283333333333333,
          0.30428571428571427,
          0.754,
          1.8863636363636358
         ],
         "xaxis": "x2",
         "y": [
          0.11007964555092568,
          0.2426728066388449,
          0.3799700255664286,
          0.5062798334405363,
          0.6136478761125986,
          0.7537647947620246,
          0.9237249544626593
         ],
         "yaxis": "y2"
        }
       ],
       "layout": {
        "annotations": [
         {
          "showarrow": false,
          "text": "PARAMETERS: v: 0.051, a: 0.164, θ: 0.775",
          "x": 0.01,
          "xref": "paper",
          "y": 1.12,
          "yref": "paper"
         },
         {
          "showarrow": false,
          "text": "MLE: 634.4",
          "x": 0.01,
          "xref": "paper",
          "y": 1.08,
          "yref": "paper"
         },
         {
          "font": {
           "family": "Arial, sans-serif",
           "size": 22
          },
          "showarrow": false,
          "text": "SUBJECT: 7",
          "x": 0.01,
          "xref": "paper",
          "y": 1.2,
          "yref": "paper"
         }
        ],
        "paper_bgcolor": "rgb(255,255,255)",
        "plot_bgcolor": "rgb(229,229,229)",
        "xaxis": {
         "domain": [
          0,
          0.45
         ],
         "gridcolor": "rgb(255,255,255)",
         "range": [
          -2,
          2
         ],
         "showgrid": true,
         "showline": false,
         "showticklabels": true,
         "tickcolor": "rgb(127,127,127)",
         "ticks": "outside",
         "title": "Net Value ($)",
         "zeroline": false
        },
        "xaxis2": {
         "domain": [
          0.55,
          1
         ],
         "gridcolor": "rgb(255,255,255)",
         "range": [
          -2,
          2
         ],
         "showgrid": true,
         "showline": false,
         "showticklabels": true,
         "tickcolor": "rgb(127,127,127)",
         "ticks": "outside",
         "title": "Net Value ($)",
         "zeroline": false
        },
        "yaxis1": {
         "anchor": "x1",
         "gridcolor": "rgb(255,255,255)",
         "range": [
          0
         ],
         "showgrid": true,
         "showline": false,
         "showticklabels": true,
         "tickcolor": "rgb(127,127,127)",
         "ticks": "outside",
         "title": "RT (s)",
         "zeroline": false
        },
        "yaxis2": {
         "anchor": "x2",
         "gridcolor": "rgb(255,255,255)",
         "range": [
          0
         ],
         "showgrid": true,
         "showline": false,
         "showticklabels": true,
         "tickcolor": "rgb(127,127,127)",
         "ticks": "outside",
         "title": "p (accept)",
         "zeroline": false
        }
       }
      },
      "text/html": [
       "<div id=\"90c9cefa-5ba0-48cf-ab90-cc2b4199c6bd\" style=\"height: 525px; width: 100%;\" class=\"plotly-graph-div\"></div><script type=\"text/javascript\">require([\"plotly\"], function(Plotly) { window.PLOTLYENV=window.PLOTLYENV || {};window.PLOTLYENV.BASE_URL=\"https://plot.ly\";Plotly.newPlot(\"90c9cefa-5ba0-48cf-ab90-cc2b4199c6bd\", [{\"type\": \"scatter\", \"x\": [-1.5631578947368423, -0.8114285714285714, -0.3247826086956522, 0.0283333333333333, 0.30428571428571427, 0.754, 1.8863636363636358], \"y\": [2.3779431322494173, 2.821205532013014, 2.9857144204576356, 3.3635180042749804, 3.790879182359278, 2.77466733810943, 2.865143027417533], \"error_y\": {\"type\": \"data\", \"array\": [0.21285109200996552, 0.37714213911916256, 0.2695708175541002, 0.2886556556927408, 0.5229150251484915, 0.28322585932055555, 0.37203030071021026], \"color\": \"rgb(0,170,80)\", \"visible\": true}, \"line\": {\"color\": \"rgb(0,100,80)\"}, \"mode\": \"lines+markers\", \"name\": \"Test Data\"}, {\"type\": \"scatter\", \"x\": [-1.5631578947368423, -0.8114285714285714, -0.3247826086956522, 0.0283333333333333, 0.30428571428571427, 0.754, 1.8863636363636358], \"y\": [2.7599519489424504, 3.189707535856476, 3.370543110288269, 3.4045614611191883, 3.382102250524656, 3.2323803072274044, 2.5543738160291545], \"error_y\": {\"type\": \"data\", \"array\": [0.010960469677922892, 0.012352935572070444, 0.012745550653499256, 0.011174036776645323, 0.016305266435777455, 0.012899281049790186, 0.009096272152944255], \"color\": \"rgb(0,100,246)\", \"visible\": true}, \"line\": {\"color\": \"rgb(0,176,246)\"}, \"mode\": \"lines+markers\", \"name\": \"Sim Data\"}, {\"type\": \"scatter\", \"x\": [-1.5631578947368423, -0.8114285714285714, -0.3247826086956522, 0.0283333333333333, 0.30428571428571427, 0.754, 1.8863636363636358], \"y\": [0.0, 0.0, 0.08695652173913043, 0.26666666666666666, 0.7857142857142857, 0.95, 0.9545454545454546], \"error_y\": {\"type\": \"data\", \"array\": [0.0, 0.0, 0.060073850409370216, 0.08211756827352527, 0.11380392954509881, 0.04999999999999999, 0.04545454545454545], \"color\": \"rgb(0,170,80)\", \"visible\": true}, \"line\": {\"color\": \"rgb(0,100,80)\"}, \"mode\": \"lines+markers\", \"name\": \"Test Data\", \"xaxis\": \"x2\", \"yaxis\": \"y2\"}, {\"type\": \"scatter\", \"x\": [-1.5631578947368423, -0.8114285714285714, -0.3247826086956522, 0.0283333333333333, 0.30428571428571427, 0.754, 1.8863636363636358], \"y\": [0.11007964555092568, 0.2426728066388449, 0.3799700255664286, 0.5062798334405363, 0.6136478761125986, 0.7537647947620246, 0.9237249544626593], \"error_y\": {\"type\": \"data\", \"array\": [0.0022731747422756864, 0.0029692103480545916, 0.00322263871306736, 0.0029090099359344573, 0.004142177216460851, 0.0030575177637359643, 0.001791250384268461], \"color\": \"rgb(0,100,246)\", \"visible\": true}, \"line\": {\"color\": \"rgb(0,176,246)\"}, \"mode\": \"lines+markers\", \"name\": \"Sim Data\", \"xaxis\": \"x2\", \"yaxis\": \"y2\"}], {\"paper_bgcolor\": \"rgb(255,255,255)\", \"plot_bgcolor\": \"rgb(229,229,229)\", \"xaxis\": {\"gridcolor\": \"rgb(255,255,255)\", \"range\": [-2, 2], \"domain\": [0, 0.45], \"showgrid\": true, \"showline\": false, \"showticklabels\": true, \"tickcolor\": \"rgb(127,127,127)\", \"ticks\": \"outside\", \"title\": \"Net Value ($)\", \"zeroline\": false}, \"xaxis2\": {\"gridcolor\": \"rgb(255,255,255)\", \"range\": [-2, 2], \"domain\": [0.55, 1], \"showgrid\": true, \"showline\": false, \"showticklabels\": true, \"tickcolor\": \"rgb(127,127,127)\", \"ticks\": \"outside\", \"title\": \"Net Value ($)\", \"zeroline\": false}, \"yaxis1\": {\"gridcolor\": \"rgb(255,255,255)\", \"range\": [0], \"showgrid\": true, \"showline\": false, \"showticklabels\": true, \"tickcolor\": \"rgb(127,127,127)\", \"ticks\": \"outside\", \"title\": \"RT (s)\", \"anchor\": \"x1\", \"zeroline\": false}, \"yaxis2\": {\"gridcolor\": \"rgb(255,255,255)\", \"range\": [0], \"showgrid\": true, \"showline\": false, \"showticklabels\": true, \"tickcolor\": \"rgb(127,127,127)\", \"ticks\": \"outside\", \"title\": \"p (accept)\", \"anchor\": \"x2\", \"zeroline\": false}, \"annotations\": [{\"x\": 0.01, \"y\": 1.12, \"showarrow\": false, \"text\": \"PARAMETERS: v: 0.051, a: 0.164, \\u03b8: 0.775\", \"xref\": \"paper\", \"yref\": \"paper\"}, {\"x\": 0.01, \"y\": 1.08, \"showarrow\": false, \"text\": \"MLE: 634.4\", \"xref\": \"paper\", \"yref\": \"paper\"}, {\"x\": 0.01, \"y\": 1.2, \"showarrow\": false, \"text\": \"SUBJECT: 7\", \"font\": {\"family\": \"Arial, sans-serif\", \"size\": 22}, \"xref\": \"paper\", \"yref\": \"paper\"}]}, {\"showLink\": true, \"linkText\": \"Export to plot.ly\"})});</script>"
      ],
      "text/vnd.plotly.v1+html": [
       "<div id=\"90c9cefa-5ba0-48cf-ab90-cc2b4199c6bd\" style=\"height: 525px; width: 100%;\" class=\"plotly-graph-div\"></div><script type=\"text/javascript\">require([\"plotly\"], function(Plotly) { window.PLOTLYENV=window.PLOTLYENV || {};window.PLOTLYENV.BASE_URL=\"https://plot.ly\";Plotly.newPlot(\"90c9cefa-5ba0-48cf-ab90-cc2b4199c6bd\", [{\"type\": \"scatter\", \"x\": [-1.5631578947368423, -0.8114285714285714, -0.3247826086956522, 0.0283333333333333, 0.30428571428571427, 0.754, 1.8863636363636358], \"y\": [2.3779431322494173, 2.821205532013014, 2.9857144204576356, 3.3635180042749804, 3.790879182359278, 2.77466733810943, 2.865143027417533], \"error_y\": {\"type\": \"data\", \"array\": [0.21285109200996552, 0.37714213911916256, 0.2695708175541002, 0.2886556556927408, 0.5229150251484915, 0.28322585932055555, 0.37203030071021026], \"color\": \"rgb(0,170,80)\", \"visible\": true}, \"line\": {\"color\": \"rgb(0,100,80)\"}, \"mode\": \"lines+markers\", \"name\": \"Test Data\"}, {\"type\": \"scatter\", \"x\": [-1.5631578947368423, -0.8114285714285714, -0.3247826086956522, 0.0283333333333333, 0.30428571428571427, 0.754, 1.8863636363636358], \"y\": [2.7599519489424504, 3.189707535856476, 3.370543110288269, 3.4045614611191883, 3.382102250524656, 3.2323803072274044, 2.5543738160291545], \"error_y\": {\"type\": \"data\", \"array\": [0.010960469677922892, 0.012352935572070444, 0.012745550653499256, 0.011174036776645323, 0.016305266435777455, 0.012899281049790186, 0.009096272152944255], \"color\": \"rgb(0,100,246)\", \"visible\": true}, \"line\": {\"color\": \"rgb(0,176,246)\"}, \"mode\": \"lines+markers\", \"name\": \"Sim Data\"}, {\"type\": \"scatter\", \"x\": [-1.5631578947368423, -0.8114285714285714, -0.3247826086956522, 0.0283333333333333, 0.30428571428571427, 0.754, 1.8863636363636358], \"y\": [0.0, 0.0, 0.08695652173913043, 0.26666666666666666, 0.7857142857142857, 0.95, 0.9545454545454546], \"error_y\": {\"type\": \"data\", \"array\": [0.0, 0.0, 0.060073850409370216, 0.08211756827352527, 0.11380392954509881, 0.04999999999999999, 0.04545454545454545], \"color\": \"rgb(0,170,80)\", \"visible\": true}, \"line\": {\"color\": \"rgb(0,100,80)\"}, \"mode\": \"lines+markers\", \"name\": \"Test Data\", \"xaxis\": \"x2\", \"yaxis\": \"y2\"}, {\"type\": \"scatter\", \"x\": [-1.5631578947368423, -0.8114285714285714, -0.3247826086956522, 0.0283333333333333, 0.30428571428571427, 0.754, 1.8863636363636358], \"y\": [0.11007964555092568, 0.2426728066388449, 0.3799700255664286, 0.5062798334405363, 0.6136478761125986, 0.7537647947620246, 0.9237249544626593], \"error_y\": {\"type\": \"data\", \"array\": [0.0022731747422756864, 0.0029692103480545916, 0.00322263871306736, 0.0029090099359344573, 0.004142177216460851, 0.0030575177637359643, 0.001791250384268461], \"color\": \"rgb(0,100,246)\", \"visible\": true}, \"line\": {\"color\": \"rgb(0,176,246)\"}, \"mode\": \"lines+markers\", \"name\": \"Sim Data\", \"xaxis\": \"x2\", \"yaxis\": \"y2\"}], {\"paper_bgcolor\": \"rgb(255,255,255)\", \"plot_bgcolor\": \"rgb(229,229,229)\", \"xaxis\": {\"gridcolor\": \"rgb(255,255,255)\", \"range\": [-2, 2], \"domain\": [0, 0.45], \"showgrid\": true, \"showline\": false, \"showticklabels\": true, \"tickcolor\": \"rgb(127,127,127)\", \"ticks\": \"outside\", \"title\": \"Net Value ($)\", \"zeroline\": false}, \"xaxis2\": {\"gridcolor\": \"rgb(255,255,255)\", \"range\": [-2, 2], \"domain\": [0.55, 1], \"showgrid\": true, \"showline\": false, \"showticklabels\": true, \"tickcolor\": \"rgb(127,127,127)\", \"ticks\": \"outside\", \"title\": \"Net Value ($)\", \"zeroline\": false}, \"yaxis1\": {\"gridcolor\": \"rgb(255,255,255)\", \"range\": [0], \"showgrid\": true, \"showline\": false, \"showticklabels\": true, \"tickcolor\": \"rgb(127,127,127)\", \"ticks\": \"outside\", \"title\": \"RT (s)\", \"anchor\": \"x1\", \"zeroline\": false}, \"yaxis2\": {\"gridcolor\": \"rgb(255,255,255)\", \"range\": [0], \"showgrid\": true, \"showline\": false, \"showticklabels\": true, \"tickcolor\": \"rgb(127,127,127)\", \"ticks\": \"outside\", \"title\": \"p (accept)\", \"anchor\": \"x2\", \"zeroline\": false}, \"annotations\": [{\"x\": 0.01, \"y\": 1.12, \"showarrow\": false, \"text\": \"PARAMETERS: v: 0.051, a: 0.164, \\u03b8: 0.775\", \"xref\": \"paper\", \"yref\": \"paper\"}, {\"x\": 0.01, \"y\": 1.08, \"showarrow\": false, \"text\": \"MLE: 634.4\", \"xref\": \"paper\", \"yref\": \"paper\"}, {\"x\": 0.01, \"y\": 1.2, \"showarrow\": false, \"text\": \"SUBJECT: 7\", \"font\": {\"family\": \"Arial, sans-serif\", \"size\": 22}, \"xref\": \"paper\", \"yref\": \"paper\"}]}, {\"showLink\": true, \"linkText\": \"Export to plot.ly\"})});</script>"
      ]
     },
     "metadata": {},
     "output_type": "display_data"
    },
    {
     "data": {
      "application/vnd.plotly.v1+json": {
       "data": [
        {
         "error_y": {
          "array": [
           0.27050941425998043,
           0.28770960590492894,
           0.18240159910635725,
           0.23948529280393824,
           0.270817086073925,
           0.32586465298263884,
           0.10178122567525187
          ],
          "color": "rgb(0,170,80)",
          "type": "data",
          "visible": true
         },
         "line": {
          "color": "rgb(0,100,80)"
         },
         "mode": "lines+markers",
         "name": "Test Data",
         "type": "scatter",
         "x": [
          -1.7345,
          -0.8091666666666667,
          -0.286,
          0.025161290322580618,
          0.3271428571428571,
          0.7461111111111111,
          1.5722222222222217
         ],
         "y": [
          2.5601258025313673,
          3.0063551905454915,
          2.7211679010491934,
          3.1543780296791915,
          2.6131890266302187,
          2.5056769166332944,
          2.170454257731629
         ]
        },
        {
         "error_y": {
          "array": [
           0.010031146122424802,
           0.01158746950615165,
           0.015746506322346726,
           0.010937269631430612,
           0.015996299551639417,
           0.013305991454826674,
           0.009076185849543773
          ],
          "color": "rgb(0,100,246)",
          "type": "data",
          "visible": true
         },
         "line": {
          "color": "rgb(0,176,246)"
         },
         "mode": "lines+markers",
         "name": "Sim Data",
         "type": "scatter",
         "x": [
          -1.7345,
          -0.8091666666666667,
          -0.286,
          0.025161290322580618,
          0.3271428571428571,
          0.7461111111111111,
          1.5722222222222217
         ],
         "y": [
          2.6408469674185415,
          3.199210396039608,
          3.39187224699364,
          3.3990070023886525,
          3.3511019241898086,
          3.211721288515396,
          2.7468238176553523
         ]
        },
        {
         "error_y": {
          "array": [
           0,
           0.05763033956734372,
           0.06666666666666665,
           0.09123958466923195,
           0.11380392954509881,
           0.0762215933966706,
           0.037037037037037035
          ],
          "color": "rgb(0,170,80)",
          "type": "data",
          "visible": true
         },
         "line": {
          "color": "rgb(0,100,80)"
         },
         "mode": "lines+markers",
         "name": "Test Data",
         "type": "scatter",
         "x": [
          -1.7345,
          -0.8091666666666667,
          -0.286,
          0.025161290322580618,
          0.3271428571428571,
          0.7461111111111111,
          1.5722222222222217
         ],
         "xaxis": "x2",
         "y": [
          0,
          0.08333333333333333,
          0.06666666666666667,
          0.5161290322580645,
          0.7857142857142857,
          0.8888888888888888,
          0.9629629629629629
         ],
         "yaxis": "y2"
        },
        {
         "error_y": {
          "array": [
           0.0020330423708288664,
           0.002739112299573287,
           0.004039746976196802,
           0.002860149320537464,
           0.0040986072166748775,
           0.0032448532720524945,
           0.0018853080433584436
          ],
          "color": "rgb(0,100,246)",
          "type": "data",
          "visible": true
         },
         "line": {
          "color": "rgb(0,176,246)"
         },
         "mode": "lines+markers",
         "name": "Sim Data",
         "type": "scatter",
         "x": [
          -1.7345,
          -0.8091666666666667,
          -0.286,
          0.025161290322580618,
          0.3271428571428571,
          0.7461111111111111,
          1.5722222222222217
         ],
         "xaxis": "x2",
         "y": [
          0.09067669172932331,
          0.23321866084913576,
          0.4080529658154303,
          0.5023068616864631,
          0.6333912037037037,
          0.7491316526610644,
          0.8927537307892197
         ],
         "yaxis": "y2"
        }
       ],
       "layout": {
        "annotations": [
         {
          "showarrow": false,
          "text": "PARAMETERS: v: 0.051, a: 0.164, θ: 0.775",
          "x": 0.01,
          "xref": "paper",
          "y": 1.12,
          "yref": "paper"
         },
         {
          "showarrow": false,
          "text": "MLE: 686.84",
          "x": 0.01,
          "xref": "paper",
          "y": 1.08,
          "yref": "paper"
         },
         {
          "font": {
           "family": "Arial, sans-serif",
           "size": 22
          },
          "showarrow": false,
          "text": "SUBJECT: 8",
          "x": 0.01,
          "xref": "paper",
          "y": 1.2,
          "yref": "paper"
         }
        ],
        "paper_bgcolor": "rgb(255,255,255)",
        "plot_bgcolor": "rgb(229,229,229)",
        "xaxis": {
         "domain": [
          0,
          0.45
         ],
         "gridcolor": "rgb(255,255,255)",
         "range": [
          -2,
          2
         ],
         "showgrid": true,
         "showline": false,
         "showticklabels": true,
         "tickcolor": "rgb(127,127,127)",
         "ticks": "outside",
         "title": "Net Value ($)",
         "zeroline": false
        },
        "xaxis2": {
         "domain": [
          0.55,
          1
         ],
         "gridcolor": "rgb(255,255,255)",
         "range": [
          -2,
          2
         ],
         "showgrid": true,
         "showline": false,
         "showticklabels": true,
         "tickcolor": "rgb(127,127,127)",
         "ticks": "outside",
         "title": "Net Value ($)",
         "zeroline": false
        },
        "yaxis1": {
         "anchor": "x1",
         "gridcolor": "rgb(255,255,255)",
         "range": [
          0
         ],
         "showgrid": true,
         "showline": false,
         "showticklabels": true,
         "tickcolor": "rgb(127,127,127)",
         "ticks": "outside",
         "title": "RT (s)",
         "zeroline": false
        },
        "yaxis2": {
         "anchor": "x2",
         "gridcolor": "rgb(255,255,255)",
         "range": [
          0
         ],
         "showgrid": true,
         "showline": false,
         "showticklabels": true,
         "tickcolor": "rgb(127,127,127)",
         "ticks": "outside",
         "title": "p (accept)",
         "zeroline": false
        }
       }
      },
      "text/html": [
       "<div id=\"1ffd67b3-4a31-4382-9bb7-b7d0fb74ea71\" style=\"height: 525px; width: 100%;\" class=\"plotly-graph-div\"></div><script type=\"text/javascript\">require([\"plotly\"], function(Plotly) { window.PLOTLYENV=window.PLOTLYENV || {};window.PLOTLYENV.BASE_URL=\"https://plot.ly\";Plotly.newPlot(\"1ffd67b3-4a31-4382-9bb7-b7d0fb74ea71\", [{\"type\": \"scatter\", \"x\": [-1.7345, -0.8091666666666667, -0.286, 0.025161290322580618, 0.3271428571428571, 0.7461111111111111, 1.5722222222222217], \"y\": [2.5601258025313673, 3.0063551905454915, 2.7211679010491934, 3.1543780296791915, 2.6131890266302187, 2.5056769166332944, 2.170454257731629], \"error_y\": {\"type\": \"data\", \"array\": [0.27050941425998043, 0.28770960590492894, 0.18240159910635725, 0.23948529280393824, 0.270817086073925, 0.32586465298263884, 0.10178122567525187], \"color\": \"rgb(0,170,80)\", \"visible\": true}, \"line\": {\"color\": \"rgb(0,100,80)\"}, \"mode\": \"lines+markers\", \"name\": \"Test Data\"}, {\"type\": \"scatter\", \"x\": [-1.7345, -0.8091666666666667, -0.286, 0.025161290322580618, 0.3271428571428571, 0.7461111111111111, 1.5722222222222217], \"y\": [2.6408469674185415, 3.199210396039608, 3.39187224699364, 3.3990070023886525, 3.3511019241898086, 3.211721288515396, 2.7468238176553523], \"error_y\": {\"type\": \"data\", \"array\": [0.010031146122424802, 0.01158746950615165, 0.015746506322346726, 0.010937269631430612, 0.015996299551639417, 0.013305991454826674, 0.009076185849543773], \"color\": \"rgb(0,100,246)\", \"visible\": true}, \"line\": {\"color\": \"rgb(0,176,246)\"}, \"mode\": \"lines+markers\", \"name\": \"Sim Data\"}, {\"type\": \"scatter\", \"x\": [-1.7345, -0.8091666666666667, -0.286, 0.025161290322580618, 0.3271428571428571, 0.7461111111111111, 1.5722222222222217], \"y\": [0.0, 0.08333333333333333, 0.06666666666666667, 0.5161290322580645, 0.7857142857142857, 0.8888888888888888, 0.9629629629629629], \"error_y\": {\"type\": \"data\", \"array\": [0.0, 0.05763033956734372, 0.06666666666666665, 0.09123958466923195, 0.11380392954509881, 0.0762215933966706, 0.037037037037037035], \"color\": \"rgb(0,170,80)\", \"visible\": true}, \"line\": {\"color\": \"rgb(0,100,80)\"}, \"mode\": \"lines+markers\", \"name\": \"Test Data\", \"xaxis\": \"x2\", \"yaxis\": \"y2\"}, {\"type\": \"scatter\", \"x\": [-1.7345, -0.8091666666666667, -0.286, 0.025161290322580618, 0.3271428571428571, 0.7461111111111111, 1.5722222222222217], \"y\": [0.09067669172932331, 0.23321866084913576, 0.4080529658154303, 0.5023068616864631, 0.6333912037037037, 0.7491316526610644, 0.8927537307892197], \"error_y\": {\"type\": \"data\", \"array\": [0.0020330423708288664, 0.002739112299573287, 0.004039746976196802, 0.002860149320537464, 0.0040986072166748775, 0.0032448532720524945, 0.0018853080433584436], \"color\": \"rgb(0,100,246)\", \"visible\": true}, \"line\": {\"color\": \"rgb(0,176,246)\"}, \"mode\": \"lines+markers\", \"name\": \"Sim Data\", \"xaxis\": \"x2\", \"yaxis\": \"y2\"}], {\"paper_bgcolor\": \"rgb(255,255,255)\", \"plot_bgcolor\": \"rgb(229,229,229)\", \"xaxis\": {\"gridcolor\": \"rgb(255,255,255)\", \"range\": [-2, 2], \"domain\": [0, 0.45], \"showgrid\": true, \"showline\": false, \"showticklabels\": true, \"tickcolor\": \"rgb(127,127,127)\", \"ticks\": \"outside\", \"title\": \"Net Value ($)\", \"zeroline\": false}, \"xaxis2\": {\"gridcolor\": \"rgb(255,255,255)\", \"range\": [-2, 2], \"domain\": [0.55, 1], \"showgrid\": true, \"showline\": false, \"showticklabels\": true, \"tickcolor\": \"rgb(127,127,127)\", \"ticks\": \"outside\", \"title\": \"Net Value ($)\", \"zeroline\": false}, \"yaxis1\": {\"gridcolor\": \"rgb(255,255,255)\", \"range\": [0], \"showgrid\": true, \"showline\": false, \"showticklabels\": true, \"tickcolor\": \"rgb(127,127,127)\", \"ticks\": \"outside\", \"title\": \"RT (s)\", \"anchor\": \"x1\", \"zeroline\": false}, \"yaxis2\": {\"gridcolor\": \"rgb(255,255,255)\", \"range\": [0], \"showgrid\": true, \"showline\": false, \"showticklabels\": true, \"tickcolor\": \"rgb(127,127,127)\", \"ticks\": \"outside\", \"title\": \"p (accept)\", \"anchor\": \"x2\", \"zeroline\": false}, \"annotations\": [{\"x\": 0.01, \"y\": 1.12, \"showarrow\": false, \"text\": \"PARAMETERS: v: 0.051, a: 0.164, \\u03b8: 0.775\", \"xref\": \"paper\", \"yref\": \"paper\"}, {\"x\": 0.01, \"y\": 1.08, \"showarrow\": false, \"text\": \"MLE: 686.84\", \"xref\": \"paper\", \"yref\": \"paper\"}, {\"x\": 0.01, \"y\": 1.2, \"showarrow\": false, \"text\": \"SUBJECT: 8\", \"font\": {\"family\": \"Arial, sans-serif\", \"size\": 22}, \"xref\": \"paper\", \"yref\": \"paper\"}]}, {\"showLink\": true, \"linkText\": \"Export to plot.ly\"})});</script>"
      ],
      "text/vnd.plotly.v1+html": [
       "<div id=\"1ffd67b3-4a31-4382-9bb7-b7d0fb74ea71\" style=\"height: 525px; width: 100%;\" class=\"plotly-graph-div\"></div><script type=\"text/javascript\">require([\"plotly\"], function(Plotly) { window.PLOTLYENV=window.PLOTLYENV || {};window.PLOTLYENV.BASE_URL=\"https://plot.ly\";Plotly.newPlot(\"1ffd67b3-4a31-4382-9bb7-b7d0fb74ea71\", [{\"type\": \"scatter\", \"x\": [-1.7345, -0.8091666666666667, -0.286, 0.025161290322580618, 0.3271428571428571, 0.7461111111111111, 1.5722222222222217], \"y\": [2.5601258025313673, 3.0063551905454915, 2.7211679010491934, 3.1543780296791915, 2.6131890266302187, 2.5056769166332944, 2.170454257731629], \"error_y\": {\"type\": \"data\", \"array\": [0.27050941425998043, 0.28770960590492894, 0.18240159910635725, 0.23948529280393824, 0.270817086073925, 0.32586465298263884, 0.10178122567525187], \"color\": \"rgb(0,170,80)\", \"visible\": true}, \"line\": {\"color\": \"rgb(0,100,80)\"}, \"mode\": \"lines+markers\", \"name\": \"Test Data\"}, {\"type\": \"scatter\", \"x\": [-1.7345, -0.8091666666666667, -0.286, 0.025161290322580618, 0.3271428571428571, 0.7461111111111111, 1.5722222222222217], \"y\": [2.6408469674185415, 3.199210396039608, 3.39187224699364, 3.3990070023886525, 3.3511019241898086, 3.211721288515396, 2.7468238176553523], \"error_y\": {\"type\": \"data\", \"array\": [0.010031146122424802, 0.01158746950615165, 0.015746506322346726, 0.010937269631430612, 0.015996299551639417, 0.013305991454826674, 0.009076185849543773], \"color\": \"rgb(0,100,246)\", \"visible\": true}, \"line\": {\"color\": \"rgb(0,176,246)\"}, \"mode\": \"lines+markers\", \"name\": \"Sim Data\"}, {\"type\": \"scatter\", \"x\": [-1.7345, -0.8091666666666667, -0.286, 0.025161290322580618, 0.3271428571428571, 0.7461111111111111, 1.5722222222222217], \"y\": [0.0, 0.08333333333333333, 0.06666666666666667, 0.5161290322580645, 0.7857142857142857, 0.8888888888888888, 0.9629629629629629], \"error_y\": {\"type\": \"data\", \"array\": [0.0, 0.05763033956734372, 0.06666666666666665, 0.09123958466923195, 0.11380392954509881, 0.0762215933966706, 0.037037037037037035], \"color\": \"rgb(0,170,80)\", \"visible\": true}, \"line\": {\"color\": \"rgb(0,100,80)\"}, \"mode\": \"lines+markers\", \"name\": \"Test Data\", \"xaxis\": \"x2\", \"yaxis\": \"y2\"}, {\"type\": \"scatter\", \"x\": [-1.7345, -0.8091666666666667, -0.286, 0.025161290322580618, 0.3271428571428571, 0.7461111111111111, 1.5722222222222217], \"y\": [0.09067669172932331, 0.23321866084913576, 0.4080529658154303, 0.5023068616864631, 0.6333912037037037, 0.7491316526610644, 0.8927537307892197], \"error_y\": {\"type\": \"data\", \"array\": [0.0020330423708288664, 0.002739112299573287, 0.004039746976196802, 0.002860149320537464, 0.0040986072166748775, 0.0032448532720524945, 0.0018853080433584436], \"color\": \"rgb(0,100,246)\", \"visible\": true}, \"line\": {\"color\": \"rgb(0,176,246)\"}, \"mode\": \"lines+markers\", \"name\": \"Sim Data\", \"xaxis\": \"x2\", \"yaxis\": \"y2\"}], {\"paper_bgcolor\": \"rgb(255,255,255)\", \"plot_bgcolor\": \"rgb(229,229,229)\", \"xaxis\": {\"gridcolor\": \"rgb(255,255,255)\", \"range\": [-2, 2], \"domain\": [0, 0.45], \"showgrid\": true, \"showline\": false, \"showticklabels\": true, \"tickcolor\": \"rgb(127,127,127)\", \"ticks\": \"outside\", \"title\": \"Net Value ($)\", \"zeroline\": false}, \"xaxis2\": {\"gridcolor\": \"rgb(255,255,255)\", \"range\": [-2, 2], \"domain\": [0.55, 1], \"showgrid\": true, \"showline\": false, \"showticklabels\": true, \"tickcolor\": \"rgb(127,127,127)\", \"ticks\": \"outside\", \"title\": \"Net Value ($)\", \"zeroline\": false}, \"yaxis1\": {\"gridcolor\": \"rgb(255,255,255)\", \"range\": [0], \"showgrid\": true, \"showline\": false, \"showticklabels\": true, \"tickcolor\": \"rgb(127,127,127)\", \"ticks\": \"outside\", \"title\": \"RT (s)\", \"anchor\": \"x1\", \"zeroline\": false}, \"yaxis2\": {\"gridcolor\": \"rgb(255,255,255)\", \"range\": [0], \"showgrid\": true, \"showline\": false, \"showticklabels\": true, \"tickcolor\": \"rgb(127,127,127)\", \"ticks\": \"outside\", \"title\": \"p (accept)\", \"anchor\": \"x2\", \"zeroline\": false}, \"annotations\": [{\"x\": 0.01, \"y\": 1.12, \"showarrow\": false, \"text\": \"PARAMETERS: v: 0.051, a: 0.164, \\u03b8: 0.775\", \"xref\": \"paper\", \"yref\": \"paper\"}, {\"x\": 0.01, \"y\": 1.08, \"showarrow\": false, \"text\": \"MLE: 686.84\", \"xref\": \"paper\", \"yref\": \"paper\"}, {\"x\": 0.01, \"y\": 1.2, \"showarrow\": false, \"text\": \"SUBJECT: 8\", \"font\": {\"family\": \"Arial, sans-serif\", \"size\": 22}, \"xref\": \"paper\", \"yref\": \"paper\"}]}, {\"showLink\": true, \"linkText\": \"Export to plot.ly\"})});</script>"
      ]
     },
     "metadata": {},
     "output_type": "display_data"
    },
    {
     "data": {
      "application/vnd.plotly.v1+json": {
       "data": [
        {
         "error_y": {
          "array": [
           0.20399141919352085,
           0.2601934750729377,
           0.5465874954199383,
           0.27742531679976895,
           0.479598191779937,
           0.2319815272773067,
           0.2543544269306552
          ],
          "color": "rgb(0,170,80)",
          "type": "data",
          "visible": true
         },
         "line": {
          "color": "rgb(0,100,80)"
         },
         "mode": "lines+markers",
         "name": "Test Data",
         "type": "scatter",
         "x": [
          -1.6516666666666668,
          -0.7999999999999999,
          -0.3061111111111112,
          0.021999999999999974,
          0.3085714285714286,
          0.755,
          1.6012499999999996
         ],
         "y": [
          2.2320420636266745,
          3.1515045656874707,
          3.8372014102181606,
          3.679312936441177,
          3.66939570704874,
          3.2465464065336915,
          2.6207960178538383
         ]
        },
        {
         "error_y": {
          "array": [
           0.011512937337912471,
           0.013243483462920586,
           0.014366334985099819,
           0.010919445849839978,
           0.016263674919580383,
           0.012314014963491042,
           0.009866720331504401
          ],
          "color": "rgb(0,100,246)",
          "type": "data",
          "visible": true
         },
         "line": {
          "color": "rgb(0,176,246)"
         },
         "mode": "lines+markers",
         "name": "Sim Data",
         "type": "scatter",
         "x": [
          -1.6516666666666668,
          -0.7999999999999999,
          -0.3061111111111112,
          0.021999999999999974,
          0.3085714285714286,
          0.755,
          1.6012499999999996
         ],
         "y": [
          2.8140665292249265,
          3.2337584359083222,
          3.4163218978102186,
          3.3373556711477326,
          3.3792829465770082,
          3.2175136188554783,
          2.8093634844370086
         ]
        },
        {
         "error_y": {
          "array": [
           0,
           0.0723351864143449,
           0.05555555555555556,
           0.0875376219064817,
           0.13725270326150324,
           0.10163945352271771,
           0.041666666666666664
          ],
          "color": "rgb(0,170,80)",
          "type": "data",
          "visible": true
         },
         "line": {
          "color": "rgb(0,100,80)"
         },
         "mode": "lines+markers",
         "name": "Test Data",
         "type": "scatter",
         "x": [
          -1.6516666666666668,
          -0.7999999999999999,
          -0.3061111111111112,
          0.021999999999999974,
          0.3085714285714286,
          0.755,
          1.6012499999999996
         ],
         "xaxis": "x2",
         "y": [
          0,
          0.10526315789473684,
          0.05555555555555555,
          0.3333333333333333,
          0.5714285714285714,
          0.6818181818181818,
          0.9583333333333334
         ],
         "yaxis": "y2"
        },
        {
         "error_y": {
          "array": [
           0.002491484261448775,
           0.0032487273240671584,
           0.0036928148892869063,
           0.002905930267244982,
           0.004156288176788707,
           0.0029865988589534032,
           0.002104543387632997
          ],
          "color": "rgb(0,100,246)",
          "type": "data",
          "visible": true
         },
         "line": {
          "color": "rgb(0,176,246)"
         },
         "mode": "lines+markers",
         "name": "Sim Data",
         "type": "scatter",
         "x": [
          -1.6516666666666668,
          -0.7999999999999999,
          -0.3061111111111112,
          0.021999999999999974,
          0.3085714285714286,
          0.755,
          1.6012499999999996
         ],
         "xaxis": "x2",
         "y": [
          0.12770936646793335,
          0.273981324278438,
          0.41549691184727683,
          0.5016212929811524,
          0.6051471119786019,
          0.7355557593543653,
          0.8794652182995613
         ],
         "yaxis": "y2"
        }
       ],
       "layout": {
        "annotations": [
         {
          "showarrow": false,
          "text": "PARAMETERS: v: 0.051, a: 0.164, θ: 0.55",
          "x": 0.01,
          "xref": "paper",
          "y": 1.12,
          "yref": "paper"
         },
         {
          "showarrow": false,
          "text": "MLE: 709.93",
          "x": 0.01,
          "xref": "paper",
          "y": 1.08,
          "yref": "paper"
         },
         {
          "font": {
           "family": "Arial, sans-serif",
           "size": 22
          },
          "showarrow": false,
          "text": "SUBJECT: 9",
          "x": 0.01,
          "xref": "paper",
          "y": 1.2,
          "yref": "paper"
         }
        ],
        "paper_bgcolor": "rgb(255,255,255)",
        "plot_bgcolor": "rgb(229,229,229)",
        "xaxis": {
         "domain": [
          0,
          0.45
         ],
         "gridcolor": "rgb(255,255,255)",
         "range": [
          -2,
          2
         ],
         "showgrid": true,
         "showline": false,
         "showticklabels": true,
         "tickcolor": "rgb(127,127,127)",
         "ticks": "outside",
         "title": "Net Value ($)",
         "zeroline": false
        },
        "xaxis2": {
         "domain": [
          0.55,
          1
         ],
         "gridcolor": "rgb(255,255,255)",
         "range": [
          -2,
          2
         ],
         "showgrid": true,
         "showline": false,
         "showticklabels": true,
         "tickcolor": "rgb(127,127,127)",
         "ticks": "outside",
         "title": "Net Value ($)",
         "zeroline": false
        },
        "yaxis1": {
         "anchor": "x1",
         "gridcolor": "rgb(255,255,255)",
         "range": [
          0
         ],
         "showgrid": true,
         "showline": false,
         "showticklabels": true,
         "tickcolor": "rgb(127,127,127)",
         "ticks": "outside",
         "title": "RT (s)",
         "zeroline": false
        },
        "yaxis2": {
         "anchor": "x2",
         "gridcolor": "rgb(255,255,255)",
         "range": [
          0
         ],
         "showgrid": true,
         "showline": false,
         "showticklabels": true,
         "tickcolor": "rgb(127,127,127)",
         "ticks": "outside",
         "title": "p (accept)",
         "zeroline": false
        }
       }
      },
      "text/html": [
       "<div id=\"ac34c9ed-5169-469c-bf8b-8f72155566d7\" style=\"height: 525px; width: 100%;\" class=\"plotly-graph-div\"></div><script type=\"text/javascript\">require([\"plotly\"], function(Plotly) { window.PLOTLYENV=window.PLOTLYENV || {};window.PLOTLYENV.BASE_URL=\"https://plot.ly\";Plotly.newPlot(\"ac34c9ed-5169-469c-bf8b-8f72155566d7\", [{\"type\": \"scatter\", \"x\": [-1.6516666666666668, -0.7999999999999999, -0.3061111111111112, 0.021999999999999974, 0.3085714285714286, 0.755, 1.6012499999999996], \"y\": [2.2320420636266745, 3.1515045656874707, 3.8372014102181606, 3.679312936441177, 3.66939570704874, 3.2465464065336915, 2.6207960178538383], \"error_y\": {\"type\": \"data\", \"array\": [0.20399141919352085, 0.2601934750729377, 0.5465874954199383, 0.27742531679976895, 0.479598191779937, 0.2319815272773067, 0.2543544269306552], \"color\": \"rgb(0,170,80)\", \"visible\": true}, \"line\": {\"color\": \"rgb(0,100,80)\"}, \"mode\": \"lines+markers\", \"name\": \"Test Data\"}, {\"type\": \"scatter\", \"x\": [-1.6516666666666668, -0.7999999999999999, -0.3061111111111112, 0.021999999999999974, 0.3085714285714286, 0.755, 1.6012499999999996], \"y\": [2.8140665292249265, 3.2337584359083222, 3.4163218978102186, 3.3373556711477326, 3.3792829465770082, 3.2175136188554783, 2.8093634844370086], \"error_y\": {\"type\": \"data\", \"array\": [0.011512937337912471, 0.013243483462920586, 0.014366334985099819, 0.010919445849839978, 0.016263674919580383, 0.012314014963491042, 0.009866720331504401], \"color\": \"rgb(0,100,246)\", \"visible\": true}, \"line\": {\"color\": \"rgb(0,176,246)\"}, \"mode\": \"lines+markers\", \"name\": \"Sim Data\"}, {\"type\": \"scatter\", \"x\": [-1.6516666666666668, -0.7999999999999999, -0.3061111111111112, 0.021999999999999974, 0.3085714285714286, 0.755, 1.6012499999999996], \"y\": [0.0, 0.10526315789473684, 0.05555555555555555, 0.3333333333333333, 0.5714285714285714, 0.6818181818181818, 0.9583333333333334], \"error_y\": {\"type\": \"data\", \"array\": [0.0, 0.0723351864143449, 0.05555555555555556, 0.0875376219064817, 0.13725270326150324, 0.10163945352271771, 0.041666666666666664], \"color\": \"rgb(0,170,80)\", \"visible\": true}, \"line\": {\"color\": \"rgb(0,100,80)\"}, \"mode\": \"lines+markers\", \"name\": \"Test Data\", \"xaxis\": \"x2\", \"yaxis\": \"y2\"}, {\"type\": \"scatter\", \"x\": [-1.6516666666666668, -0.7999999999999999, -0.3061111111111112, 0.021999999999999974, 0.3085714285714286, 0.755, 1.6012499999999996], \"y\": [0.12770936646793335, 0.273981324278438, 0.41549691184727683, 0.5016212929811524, 0.6051471119786019, 0.7355557593543653, 0.8794652182995613], \"error_y\": {\"type\": \"data\", \"array\": [0.002491484261448775, 0.0032487273240671584, 0.0036928148892869063, 0.002905930267244982, 0.004156288176788707, 0.0029865988589534032, 0.002104543387632997], \"color\": \"rgb(0,100,246)\", \"visible\": true}, \"line\": {\"color\": \"rgb(0,176,246)\"}, \"mode\": \"lines+markers\", \"name\": \"Sim Data\", \"xaxis\": \"x2\", \"yaxis\": \"y2\"}], {\"paper_bgcolor\": \"rgb(255,255,255)\", \"plot_bgcolor\": \"rgb(229,229,229)\", \"xaxis\": {\"gridcolor\": \"rgb(255,255,255)\", \"range\": [-2, 2], \"domain\": [0, 0.45], \"showgrid\": true, \"showline\": false, \"showticklabels\": true, \"tickcolor\": \"rgb(127,127,127)\", \"ticks\": \"outside\", \"title\": \"Net Value ($)\", \"zeroline\": false}, \"xaxis2\": {\"gridcolor\": \"rgb(255,255,255)\", \"range\": [-2, 2], \"domain\": [0.55, 1], \"showgrid\": true, \"showline\": false, \"showticklabels\": true, \"tickcolor\": \"rgb(127,127,127)\", \"ticks\": \"outside\", \"title\": \"Net Value ($)\", \"zeroline\": false}, \"yaxis1\": {\"gridcolor\": \"rgb(255,255,255)\", \"range\": [0], \"showgrid\": true, \"showline\": false, \"showticklabels\": true, \"tickcolor\": \"rgb(127,127,127)\", \"ticks\": \"outside\", \"title\": \"RT (s)\", \"anchor\": \"x1\", \"zeroline\": false}, \"yaxis2\": {\"gridcolor\": \"rgb(255,255,255)\", \"range\": [0], \"showgrid\": true, \"showline\": false, \"showticklabels\": true, \"tickcolor\": \"rgb(127,127,127)\", \"ticks\": \"outside\", \"title\": \"p (accept)\", \"anchor\": \"x2\", \"zeroline\": false}, \"annotations\": [{\"x\": 0.01, \"y\": 1.12, \"showarrow\": false, \"text\": \"PARAMETERS: v: 0.051, a: 0.164, \\u03b8: 0.55\", \"xref\": \"paper\", \"yref\": \"paper\"}, {\"x\": 0.01, \"y\": 1.08, \"showarrow\": false, \"text\": \"MLE: 709.93\", \"xref\": \"paper\", \"yref\": \"paper\"}, {\"x\": 0.01, \"y\": 1.2, \"showarrow\": false, \"text\": \"SUBJECT: 9\", \"font\": {\"family\": \"Arial, sans-serif\", \"size\": 22}, \"xref\": \"paper\", \"yref\": \"paper\"}]}, {\"showLink\": true, \"linkText\": \"Export to plot.ly\"})});</script>"
      ],
      "text/vnd.plotly.v1+html": [
       "<div id=\"ac34c9ed-5169-469c-bf8b-8f72155566d7\" style=\"height: 525px; width: 100%;\" class=\"plotly-graph-div\"></div><script type=\"text/javascript\">require([\"plotly\"], function(Plotly) { window.PLOTLYENV=window.PLOTLYENV || {};window.PLOTLYENV.BASE_URL=\"https://plot.ly\";Plotly.newPlot(\"ac34c9ed-5169-469c-bf8b-8f72155566d7\", [{\"type\": \"scatter\", \"x\": [-1.6516666666666668, -0.7999999999999999, -0.3061111111111112, 0.021999999999999974, 0.3085714285714286, 0.755, 1.6012499999999996], \"y\": [2.2320420636266745, 3.1515045656874707, 3.8372014102181606, 3.679312936441177, 3.66939570704874, 3.2465464065336915, 2.6207960178538383], \"error_y\": {\"type\": \"data\", \"array\": [0.20399141919352085, 0.2601934750729377, 0.5465874954199383, 0.27742531679976895, 0.479598191779937, 0.2319815272773067, 0.2543544269306552], \"color\": \"rgb(0,170,80)\", \"visible\": true}, \"line\": {\"color\": \"rgb(0,100,80)\"}, \"mode\": \"lines+markers\", \"name\": \"Test Data\"}, {\"type\": \"scatter\", \"x\": [-1.6516666666666668, -0.7999999999999999, -0.3061111111111112, 0.021999999999999974, 0.3085714285714286, 0.755, 1.6012499999999996], \"y\": [2.8140665292249265, 3.2337584359083222, 3.4163218978102186, 3.3373556711477326, 3.3792829465770082, 3.2175136188554783, 2.8093634844370086], \"error_y\": {\"type\": \"data\", \"array\": [0.011512937337912471, 0.013243483462920586, 0.014366334985099819, 0.010919445849839978, 0.016263674919580383, 0.012314014963491042, 0.009866720331504401], \"color\": \"rgb(0,100,246)\", \"visible\": true}, \"line\": {\"color\": \"rgb(0,176,246)\"}, \"mode\": \"lines+markers\", \"name\": \"Sim Data\"}, {\"type\": \"scatter\", \"x\": [-1.6516666666666668, -0.7999999999999999, -0.3061111111111112, 0.021999999999999974, 0.3085714285714286, 0.755, 1.6012499999999996], \"y\": [0.0, 0.10526315789473684, 0.05555555555555555, 0.3333333333333333, 0.5714285714285714, 0.6818181818181818, 0.9583333333333334], \"error_y\": {\"type\": \"data\", \"array\": [0.0, 0.0723351864143449, 0.05555555555555556, 0.0875376219064817, 0.13725270326150324, 0.10163945352271771, 0.041666666666666664], \"color\": \"rgb(0,170,80)\", \"visible\": true}, \"line\": {\"color\": \"rgb(0,100,80)\"}, \"mode\": \"lines+markers\", \"name\": \"Test Data\", \"xaxis\": \"x2\", \"yaxis\": \"y2\"}, {\"type\": \"scatter\", \"x\": [-1.6516666666666668, -0.7999999999999999, -0.3061111111111112, 0.021999999999999974, 0.3085714285714286, 0.755, 1.6012499999999996], \"y\": [0.12770936646793335, 0.273981324278438, 0.41549691184727683, 0.5016212929811524, 0.6051471119786019, 0.7355557593543653, 0.8794652182995613], \"error_y\": {\"type\": \"data\", \"array\": [0.002491484261448775, 0.0032487273240671584, 0.0036928148892869063, 0.002905930267244982, 0.004156288176788707, 0.0029865988589534032, 0.002104543387632997], \"color\": \"rgb(0,100,246)\", \"visible\": true}, \"line\": {\"color\": \"rgb(0,176,246)\"}, \"mode\": \"lines+markers\", \"name\": \"Sim Data\", \"xaxis\": \"x2\", \"yaxis\": \"y2\"}], {\"paper_bgcolor\": \"rgb(255,255,255)\", \"plot_bgcolor\": \"rgb(229,229,229)\", \"xaxis\": {\"gridcolor\": \"rgb(255,255,255)\", \"range\": [-2, 2], \"domain\": [0, 0.45], \"showgrid\": true, \"showline\": false, \"showticklabels\": true, \"tickcolor\": \"rgb(127,127,127)\", \"ticks\": \"outside\", \"title\": \"Net Value ($)\", \"zeroline\": false}, \"xaxis2\": {\"gridcolor\": \"rgb(255,255,255)\", \"range\": [-2, 2], \"domain\": [0.55, 1], \"showgrid\": true, \"showline\": false, \"showticklabels\": true, \"tickcolor\": \"rgb(127,127,127)\", \"ticks\": \"outside\", \"title\": \"Net Value ($)\", \"zeroline\": false}, \"yaxis1\": {\"gridcolor\": \"rgb(255,255,255)\", \"range\": [0], \"showgrid\": true, \"showline\": false, \"showticklabels\": true, \"tickcolor\": \"rgb(127,127,127)\", \"ticks\": \"outside\", \"title\": \"RT (s)\", \"anchor\": \"x1\", \"zeroline\": false}, \"yaxis2\": {\"gridcolor\": \"rgb(255,255,255)\", \"range\": [0], \"showgrid\": true, \"showline\": false, \"showticklabels\": true, \"tickcolor\": \"rgb(127,127,127)\", \"ticks\": \"outside\", \"title\": \"p (accept)\", \"anchor\": \"x2\", \"zeroline\": false}, \"annotations\": [{\"x\": 0.01, \"y\": 1.12, \"showarrow\": false, \"text\": \"PARAMETERS: v: 0.051, a: 0.164, \\u03b8: 0.55\", \"xref\": \"paper\", \"yref\": \"paper\"}, {\"x\": 0.01, \"y\": 1.08, \"showarrow\": false, \"text\": \"MLE: 709.93\", \"xref\": \"paper\", \"yref\": \"paper\"}, {\"x\": 0.01, \"y\": 1.2, \"showarrow\": false, \"text\": \"SUBJECT: 9\", \"font\": {\"family\": \"Arial, sans-serif\", \"size\": 22}, \"xref\": \"paper\", \"yref\": \"paper\"}]}, {\"showLink\": true, \"linkText\": \"Export to plot.ly\"})});</script>"
      ]
     },
     "metadata": {},
     "output_type": "display_data"
    },
    {
     "data": {
      "application/vnd.plotly.v1+json": {
       "data": [
        {
         "error_y": {
          "array": [
           0.07616604737317792,
           0.14438549468242168,
           0.14458000890355516,
           0.10787687796187027,
           0.07093739696586357,
           0.10126798438306985,
           0.16481247459750326
          ],
          "color": "rgb(0,170,80)",
          "type": "data",
          "visible": true
         },
         "line": {
          "color": "rgb(0,100,80)"
         },
         "mode": "lines+markers",
         "name": "Test Data",
         "type": "scatter",
         "x": [
          -1.7031249999999998,
          -0.7686956521739132,
          -0.3030434782608696,
          0.03931034482758616,
          0.30571428571428566,
          0.8077777777777778,
          1.543703703703704
         ],
         "y": [
          1.4046127560495743,
          1.5821645455308386,
          1.6670572126288032,
          1.6898470153256342,
          1.364798731411741,
          1.4487807321679107,
          1.5888184394258404
         ]
        },
        {
         "error_y": {
          "array": [
           0.0031159165008727563,
           0.004513207557001026,
           0.006040491113254108,
           0.005446325603230817,
           0.007551862664969624,
           0.004904262097697327,
           0.002701782879076289
          ],
          "color": "rgb(0,100,246)",
          "type": "data",
          "visible": true
         },
         "line": {
          "color": "rgb(0,176,246)"
         },
         "mode": "lines+markers",
         "name": "Sim Data",
         "type": "scatter",
         "x": [
          -1.7031249999999998,
          -0.7686956521739132,
          -0.3030434782608696,
          0.03931034482758616,
          0.30571428571428566,
          0.8077777777777778,
          1.543703703703704
         ],
         "y": [
          1.338963749999998,
          1.6856725217391337,
          1.9308508260869541,
          1.9420260344827613,
          1.9184556428571429,
          1.6536043333333283,
          1.398028555555567
         ]
        },
        {
         "error_y": {
          "array": [
           0,
           0.043478260869565216,
           0.07180198468215396,
           0.09443492370778726,
           0.12529400275814703,
           0.0762215933966706,
           0
          ],
          "color": "rgb(0,170,80)",
          "type": "data",
          "visible": true
         },
         "line": {
          "color": "rgb(0,100,80)"
         },
         "mode": "lines+markers",
         "name": "Test Data",
         "type": "scatter",
         "x": [
          -1.7031249999999998,
          -0.7686956521739132,
          -0.3030434782608696,
          0.03931034482758616,
          0.30571428571428566,
          0.8077777777777778,
          1.543703703703704
         ],
         "xaxis": "x2",
         "y": [
          0,
          0.043478260869565216,
          0.13043478260869565,
          0.4827586206896552,
          0.7142857142857143,
          0.8888888888888888,
          1
         ],
         "yaxis": "y2"
        },
        {
         "error_y": {
          "array": [
           0.0010293656145160593,
           0.0021610820884923614,
           0.003068438448915685,
           0.002934211830822366,
           0.003960657174365559,
           0.002272652485885499,
           0.0009811478267308963
          ],
          "color": "rgb(0,100,246)",
          "type": "data",
          "visible": true
         },
         "line": {
          "color": "rgb(0,176,246)"
         },
         "mode": "lines+markers",
         "name": "Sim Data",
         "type": "scatter",
         "x": [
          -1.7031249999999998,
          -0.7686956521739132,
          -0.3030434782608696,
          0.03931034482758616,
          0.30571428571428566,
          0.8077777777777778,
          1.543703703703704
         ],
         "xaxis": "x2",
         "y": [
          0.01725,
          0.1223913043478261,
          0.3170869565217391,
          0.5181724137931034,
          0.6743571428571429,
          0.8962777777777777,
          0.9732962962962963
         ],
         "yaxis": "y2"
        }
       ],
       "layout": {
        "annotations": [
         {
          "showarrow": false,
          "text": "PARAMETERS: v: 0.134, a: 0.107, θ: 0.775",
          "x": 0.01,
          "xref": "paper",
          "y": 1.12,
          "yref": "paper"
         },
         {
          "showarrow": false,
          "text": "MLE: 577.69",
          "x": 0.01,
          "xref": "paper",
          "y": 1.08,
          "yref": "paper"
         },
         {
          "font": {
           "family": "Arial, sans-serif",
           "size": 22
          },
          "showarrow": false,
          "text": "SUBJECT: 10",
          "x": 0.01,
          "xref": "paper",
          "y": 1.2,
          "yref": "paper"
         }
        ],
        "paper_bgcolor": "rgb(255,255,255)",
        "plot_bgcolor": "rgb(229,229,229)",
        "xaxis": {
         "domain": [
          0,
          0.45
         ],
         "gridcolor": "rgb(255,255,255)",
         "range": [
          -2,
          2
         ],
         "showgrid": true,
         "showline": false,
         "showticklabels": true,
         "tickcolor": "rgb(127,127,127)",
         "ticks": "outside",
         "title": "Net Value ($)",
         "zeroline": false
        },
        "xaxis2": {
         "domain": [
          0.55,
          1
         ],
         "gridcolor": "rgb(255,255,255)",
         "range": [
          -2,
          2
         ],
         "showgrid": true,
         "showline": false,
         "showticklabels": true,
         "tickcolor": "rgb(127,127,127)",
         "ticks": "outside",
         "title": "Net Value ($)",
         "zeroline": false
        },
        "yaxis1": {
         "anchor": "x1",
         "gridcolor": "rgb(255,255,255)",
         "range": [
          0
         ],
         "showgrid": true,
         "showline": false,
         "showticklabels": true,
         "tickcolor": "rgb(127,127,127)",
         "ticks": "outside",
         "title": "RT (s)",
         "zeroline": false
        },
        "yaxis2": {
         "anchor": "x2",
         "gridcolor": "rgb(255,255,255)",
         "range": [
          0
         ],
         "showgrid": true,
         "showline": false,
         "showticklabels": true,
         "tickcolor": "rgb(127,127,127)",
         "ticks": "outside",
         "title": "p (accept)",
         "zeroline": false
        }
       }
      },
      "text/html": [
       "<div id=\"d7089412-5569-4145-bf13-f45223b3f845\" style=\"height: 525px; width: 100%;\" class=\"plotly-graph-div\"></div><script type=\"text/javascript\">require([\"plotly\"], function(Plotly) { window.PLOTLYENV=window.PLOTLYENV || {};window.PLOTLYENV.BASE_URL=\"https://plot.ly\";Plotly.newPlot(\"d7089412-5569-4145-bf13-f45223b3f845\", [{\"type\": \"scatter\", \"x\": [-1.7031249999999998, -0.7686956521739132, -0.3030434782608696, 0.03931034482758616, 0.30571428571428566, 0.8077777777777778, 1.543703703703704], \"y\": [1.4046127560495743, 1.5821645455308386, 1.6670572126288032, 1.6898470153256342, 1.364798731411741, 1.4487807321679107, 1.5888184394258404], \"error_y\": {\"type\": \"data\", \"array\": [0.07616604737317792, 0.14438549468242168, 0.14458000890355516, 0.10787687796187027, 0.07093739696586357, 0.10126798438306985, 0.16481247459750326], \"color\": \"rgb(0,170,80)\", \"visible\": true}, \"line\": {\"color\": \"rgb(0,100,80)\"}, \"mode\": \"lines+markers\", \"name\": \"Test Data\"}, {\"type\": \"scatter\", \"x\": [-1.7031249999999998, -0.7686956521739132, -0.3030434782608696, 0.03931034482758616, 0.30571428571428566, 0.8077777777777778, 1.543703703703704], \"y\": [1.338963749999998, 1.6856725217391337, 1.9308508260869541, 1.9420260344827613, 1.9184556428571429, 1.6536043333333283, 1.398028555555567], \"error_y\": {\"type\": \"data\", \"array\": [0.0031159165008727563, 0.004513207557001026, 0.006040491113254108, 0.005446325603230817, 0.007551862664969624, 0.004904262097697327, 0.002701782879076289], \"color\": \"rgb(0,100,246)\", \"visible\": true}, \"line\": {\"color\": \"rgb(0,176,246)\"}, \"mode\": \"lines+markers\", \"name\": \"Sim Data\"}, {\"type\": \"scatter\", \"x\": [-1.7031249999999998, -0.7686956521739132, -0.3030434782608696, 0.03931034482758616, 0.30571428571428566, 0.8077777777777778, 1.543703703703704], \"y\": [0.0, 0.043478260869565216, 0.13043478260869565, 0.4827586206896552, 0.7142857142857143, 0.8888888888888888, 1.0], \"error_y\": {\"type\": \"data\", \"array\": [0.0, 0.043478260869565216, 0.07180198468215396, 0.09443492370778726, 0.12529400275814703, 0.0762215933966706, 0.0], \"color\": \"rgb(0,170,80)\", \"visible\": true}, \"line\": {\"color\": \"rgb(0,100,80)\"}, \"mode\": \"lines+markers\", \"name\": \"Test Data\", \"xaxis\": \"x2\", \"yaxis\": \"y2\"}, {\"type\": \"scatter\", \"x\": [-1.7031249999999998, -0.7686956521739132, -0.3030434782608696, 0.03931034482758616, 0.30571428571428566, 0.8077777777777778, 1.543703703703704], \"y\": [0.01725, 0.1223913043478261, 0.3170869565217391, 0.5181724137931034, 0.6743571428571429, 0.8962777777777777, 0.9732962962962963], \"error_y\": {\"type\": \"data\", \"array\": [0.0010293656145160593, 0.0021610820884923614, 0.003068438448915685, 0.002934211830822366, 0.003960657174365559, 0.002272652485885499, 0.0009811478267308963], \"color\": \"rgb(0,100,246)\", \"visible\": true}, \"line\": {\"color\": \"rgb(0,176,246)\"}, \"mode\": \"lines+markers\", \"name\": \"Sim Data\", \"xaxis\": \"x2\", \"yaxis\": \"y2\"}], {\"paper_bgcolor\": \"rgb(255,255,255)\", \"plot_bgcolor\": \"rgb(229,229,229)\", \"xaxis\": {\"gridcolor\": \"rgb(255,255,255)\", \"range\": [-2, 2], \"domain\": [0, 0.45], \"showgrid\": true, \"showline\": false, \"showticklabels\": true, \"tickcolor\": \"rgb(127,127,127)\", \"ticks\": \"outside\", \"title\": \"Net Value ($)\", \"zeroline\": false}, \"xaxis2\": {\"gridcolor\": \"rgb(255,255,255)\", \"range\": [-2, 2], \"domain\": [0.55, 1], \"showgrid\": true, \"showline\": false, \"showticklabels\": true, \"tickcolor\": \"rgb(127,127,127)\", \"ticks\": \"outside\", \"title\": \"Net Value ($)\", \"zeroline\": false}, \"yaxis1\": {\"gridcolor\": \"rgb(255,255,255)\", \"range\": [0], \"showgrid\": true, \"showline\": false, \"showticklabels\": true, \"tickcolor\": \"rgb(127,127,127)\", \"ticks\": \"outside\", \"title\": \"RT (s)\", \"anchor\": \"x1\", \"zeroline\": false}, \"yaxis2\": {\"gridcolor\": \"rgb(255,255,255)\", \"range\": [0], \"showgrid\": true, \"showline\": false, \"showticklabels\": true, \"tickcolor\": \"rgb(127,127,127)\", \"ticks\": \"outside\", \"title\": \"p (accept)\", \"anchor\": \"x2\", \"zeroline\": false}, \"annotations\": [{\"x\": 0.01, \"y\": 1.12, \"showarrow\": false, \"text\": \"PARAMETERS: v: 0.134, a: 0.107, \\u03b8: 0.775\", \"xref\": \"paper\", \"yref\": \"paper\"}, {\"x\": 0.01, \"y\": 1.08, \"showarrow\": false, \"text\": \"MLE: 577.69\", \"xref\": \"paper\", \"yref\": \"paper\"}, {\"x\": 0.01, \"y\": 1.2, \"showarrow\": false, \"text\": \"SUBJECT: 10\", \"font\": {\"family\": \"Arial, sans-serif\", \"size\": 22}, \"xref\": \"paper\", \"yref\": \"paper\"}]}, {\"showLink\": true, \"linkText\": \"Export to plot.ly\"})});</script>"
      ],
      "text/vnd.plotly.v1+html": [
       "<div id=\"d7089412-5569-4145-bf13-f45223b3f845\" style=\"height: 525px; width: 100%;\" class=\"plotly-graph-div\"></div><script type=\"text/javascript\">require([\"plotly\"], function(Plotly) { window.PLOTLYENV=window.PLOTLYENV || {};window.PLOTLYENV.BASE_URL=\"https://plot.ly\";Plotly.newPlot(\"d7089412-5569-4145-bf13-f45223b3f845\", [{\"type\": \"scatter\", \"x\": [-1.7031249999999998, -0.7686956521739132, -0.3030434782608696, 0.03931034482758616, 0.30571428571428566, 0.8077777777777778, 1.543703703703704], \"y\": [1.4046127560495743, 1.5821645455308386, 1.6670572126288032, 1.6898470153256342, 1.364798731411741, 1.4487807321679107, 1.5888184394258404], \"error_y\": {\"type\": \"data\", \"array\": [0.07616604737317792, 0.14438549468242168, 0.14458000890355516, 0.10787687796187027, 0.07093739696586357, 0.10126798438306985, 0.16481247459750326], \"color\": \"rgb(0,170,80)\", \"visible\": true}, \"line\": {\"color\": \"rgb(0,100,80)\"}, \"mode\": \"lines+markers\", \"name\": \"Test Data\"}, {\"type\": \"scatter\", \"x\": [-1.7031249999999998, -0.7686956521739132, -0.3030434782608696, 0.03931034482758616, 0.30571428571428566, 0.8077777777777778, 1.543703703703704], \"y\": [1.338963749999998, 1.6856725217391337, 1.9308508260869541, 1.9420260344827613, 1.9184556428571429, 1.6536043333333283, 1.398028555555567], \"error_y\": {\"type\": \"data\", \"array\": [0.0031159165008727563, 0.004513207557001026, 0.006040491113254108, 0.005446325603230817, 0.007551862664969624, 0.004904262097697327, 0.002701782879076289], \"color\": \"rgb(0,100,246)\", \"visible\": true}, \"line\": {\"color\": \"rgb(0,176,246)\"}, \"mode\": \"lines+markers\", \"name\": \"Sim Data\"}, {\"type\": \"scatter\", \"x\": [-1.7031249999999998, -0.7686956521739132, -0.3030434782608696, 0.03931034482758616, 0.30571428571428566, 0.8077777777777778, 1.543703703703704], \"y\": [0.0, 0.043478260869565216, 0.13043478260869565, 0.4827586206896552, 0.7142857142857143, 0.8888888888888888, 1.0], \"error_y\": {\"type\": \"data\", \"array\": [0.0, 0.043478260869565216, 0.07180198468215396, 0.09443492370778726, 0.12529400275814703, 0.0762215933966706, 0.0], \"color\": \"rgb(0,170,80)\", \"visible\": true}, \"line\": {\"color\": \"rgb(0,100,80)\"}, \"mode\": \"lines+markers\", \"name\": \"Test Data\", \"xaxis\": \"x2\", \"yaxis\": \"y2\"}, {\"type\": \"scatter\", \"x\": [-1.7031249999999998, -0.7686956521739132, -0.3030434782608696, 0.03931034482758616, 0.30571428571428566, 0.8077777777777778, 1.543703703703704], \"y\": [0.01725, 0.1223913043478261, 0.3170869565217391, 0.5181724137931034, 0.6743571428571429, 0.8962777777777777, 0.9732962962962963], \"error_y\": {\"type\": \"data\", \"array\": [0.0010293656145160593, 0.0021610820884923614, 0.003068438448915685, 0.002934211830822366, 0.003960657174365559, 0.002272652485885499, 0.0009811478267308963], \"color\": \"rgb(0,100,246)\", \"visible\": true}, \"line\": {\"color\": \"rgb(0,176,246)\"}, \"mode\": \"lines+markers\", \"name\": \"Sim Data\", \"xaxis\": \"x2\", \"yaxis\": \"y2\"}], {\"paper_bgcolor\": \"rgb(255,255,255)\", \"plot_bgcolor\": \"rgb(229,229,229)\", \"xaxis\": {\"gridcolor\": \"rgb(255,255,255)\", \"range\": [-2, 2], \"domain\": [0, 0.45], \"showgrid\": true, \"showline\": false, \"showticklabels\": true, \"tickcolor\": \"rgb(127,127,127)\", \"ticks\": \"outside\", \"title\": \"Net Value ($)\", \"zeroline\": false}, \"xaxis2\": {\"gridcolor\": \"rgb(255,255,255)\", \"range\": [-2, 2], \"domain\": [0.55, 1], \"showgrid\": true, \"showline\": false, \"showticklabels\": true, \"tickcolor\": \"rgb(127,127,127)\", \"ticks\": \"outside\", \"title\": \"Net Value ($)\", \"zeroline\": false}, \"yaxis1\": {\"gridcolor\": \"rgb(255,255,255)\", \"range\": [0], \"showgrid\": true, \"showline\": false, \"showticklabels\": true, \"tickcolor\": \"rgb(127,127,127)\", \"ticks\": \"outside\", \"title\": \"RT (s)\", \"anchor\": \"x1\", \"zeroline\": false}, \"yaxis2\": {\"gridcolor\": \"rgb(255,255,255)\", \"range\": [0], \"showgrid\": true, \"showline\": false, \"showticklabels\": true, \"tickcolor\": \"rgb(127,127,127)\", \"ticks\": \"outside\", \"title\": \"p (accept)\", \"anchor\": \"x2\", \"zeroline\": false}, \"annotations\": [{\"x\": 0.01, \"y\": 1.12, \"showarrow\": false, \"text\": \"PARAMETERS: v: 0.134, a: 0.107, \\u03b8: 0.775\", \"xref\": \"paper\", \"yref\": \"paper\"}, {\"x\": 0.01, \"y\": 1.08, \"showarrow\": false, \"text\": \"MLE: 577.69\", \"xref\": \"paper\", \"yref\": \"paper\"}, {\"x\": 0.01, \"y\": 1.2, \"showarrow\": false, \"text\": \"SUBJECT: 10\", \"font\": {\"family\": \"Arial, sans-serif\", \"size\": 22}, \"xref\": \"paper\", \"yref\": \"paper\"}]}, {\"showLink\": true, \"linkText\": \"Export to plot.ly\"})});</script>"
      ]
     },
     "metadata": {},
     "output_type": "display_data"
    },
    {
     "data": {
      "application/vnd.plotly.v1+json": {
       "data": [
        {
         "error_y": {
          "array": [
           0.16542461317500906,
           0.14250108799010788,
           0.26415835088107037,
           0.21216393868880468,
           0.19879899545356386,
           0.5476666366092845,
           0.3157779737433651
          ],
          "color": "rgb(0,170,80)",
          "type": "data",
          "visible": true
         },
         "line": {
          "color": "rgb(0,100,80)"
         },
         "mode": "lines+markers",
         "name": "Test Data",
         "type": "scatter",
         "x": [
          -1.597931034482759,
          -0.8205,
          -0.33473684210526317,
          0.024615384615384595,
          0.325,
          0.7692857142857144,
          1.6470588235294117
         ],
         "y": [
          1.7674789144306298,
          1.8286884014582026,
          2.3832794208245005,
          2.3723446789976705,
          1.9930844648079074,
          1.8234070319220872,
          1.733123961601556
         ]
        },
        {
         "error_y": {
          "array": [
           0.004982443919129475,
           0.00649127037430554,
           0.006926428210847191,
           0.005799605602391621,
           0.006051491107220033,
           0.007841146180264855,
           0.006414412223260793
          ],
          "color": "rgb(0,100,246)",
          "type": "data",
          "visible": true
         },
         "line": {
          "color": "rgb(0,176,246)"
         },
         "mode": "lines+markers",
         "name": "Sim Data",
         "type": "scatter",
         "x": [
          -1.597931034482759,
          -0.8205,
          -0.33473684210526317,
          0.024615384615384595,
          0.325,
          0.7692857142857144,
          1.6470588235294117
         ],
         "y": [
          1.845371862068965,
          1.942933946697336,
          1.9678544736842232,
          1.9403734902684693,
          1.9698985332110912,
          1.9550674285714214,
          1.8674065294117708
         ]
        },
        {
         "error_y": {
          "array": [
           0.034482758620689655,
           0.08191780219091253,
           0.085947008518708,
           0.10000000000000002,
           0.04166666666666667,
           0.07142857142857144,
           0
          ],
          "color": "rgb(0,170,80)",
          "type": "data",
          "visible": true
         },
         "line": {
          "color": "rgb(0,100,80)"
         },
         "mode": "lines+markers",
         "name": "Test Data",
         "type": "scatter",
         "x": [
          -1.597931034482759,
          -0.8205,
          -0.33473684210526317,
          0.024615384615384595,
          0.325,
          0.7692857142857144,
          1.6470588235294117
         ],
         "xaxis": "x2",
         "y": [
          0.034482758620689655,
          0.15,
          0.15789473684210525,
          0.5,
          0.9583333333333334,
          0.9285714285714286,
          1
         ],
         "yaxis": "y2"
        },
        {
         "error_y": {
          "array": [
           0.0024720352656932617,
           0.003435612724015591,
           0.003582824159517073,
           0.0031000111575120925,
           0.003213215547608726,
           0.004178839983080628,
           0.003326346837300769
          ],
          "color": "rgb(0,100,246)",
          "type": "data",
          "visible": true
         },
         "line": {
          "color": "rgb(0,176,246)"
         },
         "mode": "lines+markers",
         "name": "Sim Data",
         "type": "scatter",
         "x": [
          -1.597931034482759,
          -0.8205,
          -0.33473684210526317,
          0.024615384615384595,
          0.325,
          0.7692857142857144,
          1.6470588235294117
         ],
         "xaxis": "x2",
         "y": [
          0.23020689655172413,
          0.38186909345467274,
          0.42178947368421055,
          0.5129240710823909,
          0.5472956079673306,
          0.5744285714285714,
          0.7488235294117647
         ],
         "yaxis": "y2"
        }
       ],
       "layout": {
        "annotations": [
         {
          "showarrow": false,
          "text": "PARAMETERS: v: 0.051, a: 0.107, θ: 0.325",
          "x": 0.01,
          "xref": "paper",
          "y": 1.12,
          "yref": "paper"
         },
         {
          "showarrow": false,
          "text": "MLE: 659.23",
          "x": 0.01,
          "xref": "paper",
          "y": 1.08,
          "yref": "paper"
         },
         {
          "font": {
           "family": "Arial, sans-serif",
           "size": 22
          },
          "showarrow": false,
          "text": "SUBJECT: 11",
          "x": 0.01,
          "xref": "paper",
          "y": 1.2,
          "yref": "paper"
         }
        ],
        "paper_bgcolor": "rgb(255,255,255)",
        "plot_bgcolor": "rgb(229,229,229)",
        "xaxis": {
         "domain": [
          0,
          0.45
         ],
         "gridcolor": "rgb(255,255,255)",
         "range": [
          -2,
          2
         ],
         "showgrid": true,
         "showline": false,
         "showticklabels": true,
         "tickcolor": "rgb(127,127,127)",
         "ticks": "outside",
         "title": "Net Value ($)",
         "zeroline": false
        },
        "xaxis2": {
         "domain": [
          0.55,
          1
         ],
         "gridcolor": "rgb(255,255,255)",
         "range": [
          -2,
          2
         ],
         "showgrid": true,
         "showline": false,
         "showticklabels": true,
         "tickcolor": "rgb(127,127,127)",
         "ticks": "outside",
         "title": "Net Value ($)",
         "zeroline": false
        },
        "yaxis1": {
         "anchor": "x1",
         "gridcolor": "rgb(255,255,255)",
         "range": [
          0
         ],
         "showgrid": true,
         "showline": false,
         "showticklabels": true,
         "tickcolor": "rgb(127,127,127)",
         "ticks": "outside",
         "title": "RT (s)",
         "zeroline": false
        },
        "yaxis2": {
         "anchor": "x2",
         "gridcolor": "rgb(255,255,255)",
         "range": [
          0
         ],
         "showgrid": true,
         "showline": false,
         "showticklabels": true,
         "tickcolor": "rgb(127,127,127)",
         "ticks": "outside",
         "title": "p (accept)",
         "zeroline": false
        }
       }
      },
      "text/html": [
       "<div id=\"c504cfa5-56df-4217-8a34-0cdf1cb15731\" style=\"height: 525px; width: 100%;\" class=\"plotly-graph-div\"></div><script type=\"text/javascript\">require([\"plotly\"], function(Plotly) { window.PLOTLYENV=window.PLOTLYENV || {};window.PLOTLYENV.BASE_URL=\"https://plot.ly\";Plotly.newPlot(\"c504cfa5-56df-4217-8a34-0cdf1cb15731\", [{\"type\": \"scatter\", \"x\": [-1.597931034482759, -0.8205, -0.33473684210526317, 0.024615384615384595, 0.325, 0.7692857142857144, 1.6470588235294117], \"y\": [1.7674789144306298, 1.8286884014582026, 2.3832794208245005, 2.3723446789976705, 1.9930844648079074, 1.8234070319220872, 1.733123961601556], \"error_y\": {\"type\": \"data\", \"array\": [0.16542461317500906, 0.14250108799010788, 0.26415835088107037, 0.21216393868880468, 0.19879899545356386, 0.5476666366092845, 0.3157779737433651], \"color\": \"rgb(0,170,80)\", \"visible\": true}, \"line\": {\"color\": \"rgb(0,100,80)\"}, \"mode\": \"lines+markers\", \"name\": \"Test Data\"}, {\"type\": \"scatter\", \"x\": [-1.597931034482759, -0.8205, -0.33473684210526317, 0.024615384615384595, 0.325, 0.7692857142857144, 1.6470588235294117], \"y\": [1.845371862068965, 1.942933946697336, 1.9678544736842232, 1.9403734902684693, 1.9698985332110912, 1.9550674285714214, 1.8674065294117708], \"error_y\": {\"type\": \"data\", \"array\": [0.004982443919129475, 0.00649127037430554, 0.006926428210847191, 0.005799605602391621, 0.006051491107220033, 0.007841146180264855, 0.006414412223260793], \"color\": \"rgb(0,100,246)\", \"visible\": true}, \"line\": {\"color\": \"rgb(0,176,246)\"}, \"mode\": \"lines+markers\", \"name\": \"Sim Data\"}, {\"type\": \"scatter\", \"x\": [-1.597931034482759, -0.8205, -0.33473684210526317, 0.024615384615384595, 0.325, 0.7692857142857144, 1.6470588235294117], \"y\": [0.034482758620689655, 0.15, 0.15789473684210525, 0.5, 0.9583333333333334, 0.9285714285714286, 1.0], \"error_y\": {\"type\": \"data\", \"array\": [0.034482758620689655, 0.08191780219091253, 0.085947008518708, 0.10000000000000002, 0.04166666666666667, 0.07142857142857144, 0.0], \"color\": \"rgb(0,170,80)\", \"visible\": true}, \"line\": {\"color\": \"rgb(0,100,80)\"}, \"mode\": \"lines+markers\", \"name\": \"Test Data\", \"xaxis\": \"x2\", \"yaxis\": \"y2\"}, {\"type\": \"scatter\", \"x\": [-1.597931034482759, -0.8205, -0.33473684210526317, 0.024615384615384595, 0.325, 0.7692857142857144, 1.6470588235294117], \"y\": [0.23020689655172413, 0.38186909345467274, 0.42178947368421055, 0.5129240710823909, 0.5472956079673306, 0.5744285714285714, 0.7488235294117647], \"error_y\": {\"type\": \"data\", \"array\": [0.0024720352656932617, 0.003435612724015591, 0.003582824159517073, 0.0031000111575120925, 0.003213215547608726, 0.004178839983080628, 0.003326346837300769], \"color\": \"rgb(0,100,246)\", \"visible\": true}, \"line\": {\"color\": \"rgb(0,176,246)\"}, \"mode\": \"lines+markers\", \"name\": \"Sim Data\", \"xaxis\": \"x2\", \"yaxis\": \"y2\"}], {\"paper_bgcolor\": \"rgb(255,255,255)\", \"plot_bgcolor\": \"rgb(229,229,229)\", \"xaxis\": {\"gridcolor\": \"rgb(255,255,255)\", \"range\": [-2, 2], \"domain\": [0, 0.45], \"showgrid\": true, \"showline\": false, \"showticklabels\": true, \"tickcolor\": \"rgb(127,127,127)\", \"ticks\": \"outside\", \"title\": \"Net Value ($)\", \"zeroline\": false}, \"xaxis2\": {\"gridcolor\": \"rgb(255,255,255)\", \"range\": [-2, 2], \"domain\": [0.55, 1], \"showgrid\": true, \"showline\": false, \"showticklabels\": true, \"tickcolor\": \"rgb(127,127,127)\", \"ticks\": \"outside\", \"title\": \"Net Value ($)\", \"zeroline\": false}, \"yaxis1\": {\"gridcolor\": \"rgb(255,255,255)\", \"range\": [0], \"showgrid\": true, \"showline\": false, \"showticklabels\": true, \"tickcolor\": \"rgb(127,127,127)\", \"ticks\": \"outside\", \"title\": \"RT (s)\", \"anchor\": \"x1\", \"zeroline\": false}, \"yaxis2\": {\"gridcolor\": \"rgb(255,255,255)\", \"range\": [0], \"showgrid\": true, \"showline\": false, \"showticklabels\": true, \"tickcolor\": \"rgb(127,127,127)\", \"ticks\": \"outside\", \"title\": \"p (accept)\", \"anchor\": \"x2\", \"zeroline\": false}, \"annotations\": [{\"x\": 0.01, \"y\": 1.12, \"showarrow\": false, \"text\": \"PARAMETERS: v: 0.051, a: 0.107, \\u03b8: 0.325\", \"xref\": \"paper\", \"yref\": \"paper\"}, {\"x\": 0.01, \"y\": 1.08, \"showarrow\": false, \"text\": \"MLE: 659.23\", \"xref\": \"paper\", \"yref\": \"paper\"}, {\"x\": 0.01, \"y\": 1.2, \"showarrow\": false, \"text\": \"SUBJECT: 11\", \"font\": {\"family\": \"Arial, sans-serif\", \"size\": 22}, \"xref\": \"paper\", \"yref\": \"paper\"}]}, {\"showLink\": true, \"linkText\": \"Export to plot.ly\"})});</script>"
      ],
      "text/vnd.plotly.v1+html": [
       "<div id=\"c504cfa5-56df-4217-8a34-0cdf1cb15731\" style=\"height: 525px; width: 100%;\" class=\"plotly-graph-div\"></div><script type=\"text/javascript\">require([\"plotly\"], function(Plotly) { window.PLOTLYENV=window.PLOTLYENV || {};window.PLOTLYENV.BASE_URL=\"https://plot.ly\";Plotly.newPlot(\"c504cfa5-56df-4217-8a34-0cdf1cb15731\", [{\"type\": \"scatter\", \"x\": [-1.597931034482759, -0.8205, -0.33473684210526317, 0.024615384615384595, 0.325, 0.7692857142857144, 1.6470588235294117], \"y\": [1.7674789144306298, 1.8286884014582026, 2.3832794208245005, 2.3723446789976705, 1.9930844648079074, 1.8234070319220872, 1.733123961601556], \"error_y\": {\"type\": \"data\", \"array\": [0.16542461317500906, 0.14250108799010788, 0.26415835088107037, 0.21216393868880468, 0.19879899545356386, 0.5476666366092845, 0.3157779737433651], \"color\": \"rgb(0,170,80)\", \"visible\": true}, \"line\": {\"color\": \"rgb(0,100,80)\"}, \"mode\": \"lines+markers\", \"name\": \"Test Data\"}, {\"type\": \"scatter\", \"x\": [-1.597931034482759, -0.8205, -0.33473684210526317, 0.024615384615384595, 0.325, 0.7692857142857144, 1.6470588235294117], \"y\": [1.845371862068965, 1.942933946697336, 1.9678544736842232, 1.9403734902684693, 1.9698985332110912, 1.9550674285714214, 1.8674065294117708], \"error_y\": {\"type\": \"data\", \"array\": [0.004982443919129475, 0.00649127037430554, 0.006926428210847191, 0.005799605602391621, 0.006051491107220033, 0.007841146180264855, 0.006414412223260793], \"color\": \"rgb(0,100,246)\", \"visible\": true}, \"line\": {\"color\": \"rgb(0,176,246)\"}, \"mode\": \"lines+markers\", \"name\": \"Sim Data\"}, {\"type\": \"scatter\", \"x\": [-1.597931034482759, -0.8205, -0.33473684210526317, 0.024615384615384595, 0.325, 0.7692857142857144, 1.6470588235294117], \"y\": [0.034482758620689655, 0.15, 0.15789473684210525, 0.5, 0.9583333333333334, 0.9285714285714286, 1.0], \"error_y\": {\"type\": \"data\", \"array\": [0.034482758620689655, 0.08191780219091253, 0.085947008518708, 0.10000000000000002, 0.04166666666666667, 0.07142857142857144, 0.0], \"color\": \"rgb(0,170,80)\", \"visible\": true}, \"line\": {\"color\": \"rgb(0,100,80)\"}, \"mode\": \"lines+markers\", \"name\": \"Test Data\", \"xaxis\": \"x2\", \"yaxis\": \"y2\"}, {\"type\": \"scatter\", \"x\": [-1.597931034482759, -0.8205, -0.33473684210526317, 0.024615384615384595, 0.325, 0.7692857142857144, 1.6470588235294117], \"y\": [0.23020689655172413, 0.38186909345467274, 0.42178947368421055, 0.5129240710823909, 0.5472956079673306, 0.5744285714285714, 0.7488235294117647], \"error_y\": {\"type\": \"data\", \"array\": [0.0024720352656932617, 0.003435612724015591, 0.003582824159517073, 0.0031000111575120925, 0.003213215547608726, 0.004178839983080628, 0.003326346837300769], \"color\": \"rgb(0,100,246)\", \"visible\": true}, \"line\": {\"color\": \"rgb(0,176,246)\"}, \"mode\": \"lines+markers\", \"name\": \"Sim Data\", \"xaxis\": \"x2\", \"yaxis\": \"y2\"}], {\"paper_bgcolor\": \"rgb(255,255,255)\", \"plot_bgcolor\": \"rgb(229,229,229)\", \"xaxis\": {\"gridcolor\": \"rgb(255,255,255)\", \"range\": [-2, 2], \"domain\": [0, 0.45], \"showgrid\": true, \"showline\": false, \"showticklabels\": true, \"tickcolor\": \"rgb(127,127,127)\", \"ticks\": \"outside\", \"title\": \"Net Value ($)\", \"zeroline\": false}, \"xaxis2\": {\"gridcolor\": \"rgb(255,255,255)\", \"range\": [-2, 2], \"domain\": [0.55, 1], \"showgrid\": true, \"showline\": false, \"showticklabels\": true, \"tickcolor\": \"rgb(127,127,127)\", \"ticks\": \"outside\", \"title\": \"Net Value ($)\", \"zeroline\": false}, \"yaxis1\": {\"gridcolor\": \"rgb(255,255,255)\", \"range\": [0], \"showgrid\": true, \"showline\": false, \"showticklabels\": true, \"tickcolor\": \"rgb(127,127,127)\", \"ticks\": \"outside\", \"title\": \"RT (s)\", \"anchor\": \"x1\", \"zeroline\": false}, \"yaxis2\": {\"gridcolor\": \"rgb(255,255,255)\", \"range\": [0], \"showgrid\": true, \"showline\": false, \"showticklabels\": true, \"tickcolor\": \"rgb(127,127,127)\", \"ticks\": \"outside\", \"title\": \"p (accept)\", \"anchor\": \"x2\", \"zeroline\": false}, \"annotations\": [{\"x\": 0.01, \"y\": 1.12, \"showarrow\": false, \"text\": \"PARAMETERS: v: 0.051, a: 0.107, \\u03b8: 0.325\", \"xref\": \"paper\", \"yref\": \"paper\"}, {\"x\": 0.01, \"y\": 1.08, \"showarrow\": false, \"text\": \"MLE: 659.23\", \"xref\": \"paper\", \"yref\": \"paper\"}, {\"x\": 0.01, \"y\": 1.2, \"showarrow\": false, \"text\": \"SUBJECT: 11\", \"font\": {\"family\": \"Arial, sans-serif\", \"size\": 22}, \"xref\": \"paper\", \"yref\": \"paper\"}]}, {\"showLink\": true, \"linkText\": \"Export to plot.ly\"})});</script>"
      ]
     },
     "metadata": {},
     "output_type": "display_data"
    },
    {
     "data": {
      "application/vnd.plotly.v1+json": {
       "data": [
        {
         "error_y": {
          "array": [
           0.10609880159574052,
           0.1488715426815066,
           0.25316036154916904,
           0.22382898810538016,
           0.1427101860349365,
           0.11909295856362125,
           0.15002263903662438
          ],
          "color": "rgb(0,170,80)",
          "type": "data",
          "visible": true
         },
         "line": {
          "color": "rgb(0,100,80)"
         },
         "mode": "lines+markers",
         "name": "Test Data",
         "type": "scatter",
         "x": [
          -1.9057142857142857,
          -0.7792857142857142,
          -0.32714285714285724,
          0.03241379310344826,
          0.3111111111111111,
          0.8163157894736842,
          1.6485714285714284
         ],
         "y": [
          1.4269307483648717,
          1.3549157306697457,
          2.125731202156333,
          2.0357956772866848,
          1.6631095707739905,
          1.3957581082833805,
          1.5227779725454245
         ]
        },
        {
         "error_y": {
          "array": [
           0.0027990795939967545,
           0.006511132798742466,
           0.005492084495019782,
           0.005629888658376852,
           0.0069621813797044255,
           0.0055508398092444155,
           0.004283946632118127
          ],
          "color": "rgb(0,100,246)",
          "type": "data",
          "visible": true
         },
         "line": {
          "color": "rgb(0,176,246)"
         },
         "mode": "lines+markers",
         "name": "Sim Data",
         "type": "scatter",
         "x": [
          -1.9057142857142857,
          -0.7792857142857142,
          -0.32714285714285724,
          0.03241379310344826,
          0.3111111111111111,
          0.8163157894736842,
          1.6485714285714284
         ],
         "y": [
          1.4161572142857097,
          1.7827960000000007,
          1.938324333011893,
          1.9792452153522517,
          1.940006444444436,
          1.7767399999999969,
          1.4747995714285695
         ]
        },
        {
         "error_y": {
          "array": [
           0.04956347617776506,
           0.09705231721239392,
           0.08987898137227082,
           0.08742975048915688,
           0.05555555555555555,
           0.05263157894736841,
           0
          ],
          "color": "rgb(0,170,80)",
          "type": "data",
          "visible": true
         },
         "line": {
          "color": "rgb(0,100,80)"
         },
         "mode": "lines+markers",
         "name": "Test Data",
         "type": "scatter",
         "x": [
          -1.9057142857142857,
          -0.7792857142857142,
          -0.32714285714285724,
          0.03241379310344826,
          0.3111111111111111,
          0.8163157894736842,
          1.6485714285714284
         ],
         "xaxis": "x2",
         "y": [
          0.07142857142857142,
          0.14285714285714285,
          0.32142857142857145,
          0.6896551724137931,
          0.9444444444444444,
          0.9473684210526315,
          1
         ],
         "yaxis": "y2"
        },
        {
         "error_y": {
          "array": [
           0.001078118195116328,
           0.0032062493009323892,
           0.0028313652121162783,
           0.002935191154698578,
           0.0035514213397297976,
           0.0026866784804821056,
           0.001610113368510929
          ],
          "color": "rgb(0,100,246)",
          "type": "data",
          "visible": true
         },
         "line": {
          "color": "rgb(0,176,246)"
         },
         "mode": "lines+markers",
         "name": "Sim Data",
         "type": "scatter",
         "x": [
          -1.9057142857142857,
          -0.7792857142857142,
          -0.32714285714285724,
          0.03241379310344826,
          0.3111111111111111,
          0.8163157894736842,
          1.6485714285714284
         ],
         "xaxis": "x2",
         "y": [
          0.033678571428571426,
          0.1742857142857143,
          0.340155005535912,
          0.5131211421083486,
          0.6516111111111111,
          0.8359473684210527,
          0.9622857142857143
         ],
         "yaxis": "y2"
        }
       ],
       "layout": {
        "annotations": [
         {
          "showarrow": false,
          "text": "PARAMETERS: v: 0.093, a: 0.107, θ: 1.0",
          "x": 0.01,
          "xref": "paper",
          "y": 1.12,
          "yref": "paper"
         },
         {
          "showarrow": false,
          "text": "MLE: 598.94",
          "x": 0.01,
          "xref": "paper",
          "y": 1.08,
          "yref": "paper"
         },
         {
          "font": {
           "family": "Arial, sans-serif",
           "size": 22
          },
          "showarrow": false,
          "text": "SUBJECT: 12",
          "x": 0.01,
          "xref": "paper",
          "y": 1.2,
          "yref": "paper"
         }
        ],
        "paper_bgcolor": "rgb(255,255,255)",
        "plot_bgcolor": "rgb(229,229,229)",
        "xaxis": {
         "domain": [
          0,
          0.45
         ],
         "gridcolor": "rgb(255,255,255)",
         "range": [
          -2,
          2
         ],
         "showgrid": true,
         "showline": false,
         "showticklabels": true,
         "tickcolor": "rgb(127,127,127)",
         "ticks": "outside",
         "title": "Net Value ($)",
         "zeroline": false
        },
        "xaxis2": {
         "domain": [
          0.55,
          1
         ],
         "gridcolor": "rgb(255,255,255)",
         "range": [
          -2,
          2
         ],
         "showgrid": true,
         "showline": false,
         "showticklabels": true,
         "tickcolor": "rgb(127,127,127)",
         "ticks": "outside",
         "title": "Net Value ($)",
         "zeroline": false
        },
        "yaxis1": {
         "anchor": "x1",
         "gridcolor": "rgb(255,255,255)",
         "range": [
          0
         ],
         "showgrid": true,
         "showline": false,
         "showticklabels": true,
         "tickcolor": "rgb(127,127,127)",
         "ticks": "outside",
         "title": "RT (s)",
         "zeroline": false
        },
        "yaxis2": {
         "anchor": "x2",
         "gridcolor": "rgb(255,255,255)",
         "range": [
          0
         ],
         "showgrid": true,
         "showline": false,
         "showticklabels": true,
         "tickcolor": "rgb(127,127,127)",
         "ticks": "outside",
         "title": "p (accept)",
         "zeroline": false
        }
       }
      },
      "text/html": [
       "<div id=\"d5723c0a-7f23-4d5a-aa1f-405765e46119\" style=\"height: 525px; width: 100%;\" class=\"plotly-graph-div\"></div><script type=\"text/javascript\">require([\"plotly\"], function(Plotly) { window.PLOTLYENV=window.PLOTLYENV || {};window.PLOTLYENV.BASE_URL=\"https://plot.ly\";Plotly.newPlot(\"d5723c0a-7f23-4d5a-aa1f-405765e46119\", [{\"type\": \"scatter\", \"x\": [-1.9057142857142857, -0.7792857142857142, -0.32714285714285724, 0.03241379310344826, 0.3111111111111111, 0.8163157894736842, 1.6485714285714284], \"y\": [1.4269307483648717, 1.3549157306697457, 2.125731202156333, 2.0357956772866848, 1.6631095707739905, 1.3957581082833805, 1.5227779725454245], \"error_y\": {\"type\": \"data\", \"array\": [0.10609880159574052, 0.1488715426815066, 0.25316036154916904, 0.22382898810538016, 0.1427101860349365, 0.11909295856362125, 0.15002263903662438], \"color\": \"rgb(0,170,80)\", \"visible\": true}, \"line\": {\"color\": \"rgb(0,100,80)\"}, \"mode\": \"lines+markers\", \"name\": \"Test Data\"}, {\"type\": \"scatter\", \"x\": [-1.9057142857142857, -0.7792857142857142, -0.32714285714285724, 0.03241379310344826, 0.3111111111111111, 0.8163157894736842, 1.6485714285714284], \"y\": [1.4161572142857097, 1.7827960000000007, 1.938324333011893, 1.9792452153522517, 1.940006444444436, 1.7767399999999969, 1.4747995714285695], \"error_y\": {\"type\": \"data\", \"array\": [0.0027990795939967545, 0.006511132798742466, 0.005492084495019782, 0.005629888658376852, 0.0069621813797044255, 0.0055508398092444155, 0.004283946632118127], \"color\": \"rgb(0,100,246)\", \"visible\": true}, \"line\": {\"color\": \"rgb(0,176,246)\"}, \"mode\": \"lines+markers\", \"name\": \"Sim Data\"}, {\"type\": \"scatter\", \"x\": [-1.9057142857142857, -0.7792857142857142, -0.32714285714285724, 0.03241379310344826, 0.3111111111111111, 0.8163157894736842, 1.6485714285714284], \"y\": [0.07142857142857142, 0.14285714285714285, 0.32142857142857145, 0.6896551724137931, 0.9444444444444444, 0.9473684210526315, 1.0], \"error_y\": {\"type\": \"data\", \"array\": [0.04956347617776506, 0.09705231721239392, 0.08987898137227082, 0.08742975048915688, 0.05555555555555555, 0.05263157894736841, 0.0], \"color\": \"rgb(0,170,80)\", \"visible\": true}, \"line\": {\"color\": \"rgb(0,100,80)\"}, \"mode\": \"lines+markers\", \"name\": \"Test Data\", \"xaxis\": \"x2\", \"yaxis\": \"y2\"}, {\"type\": \"scatter\", \"x\": [-1.9057142857142857, -0.7792857142857142, -0.32714285714285724, 0.03241379310344826, 0.3111111111111111, 0.8163157894736842, 1.6485714285714284], \"y\": [0.033678571428571426, 0.1742857142857143, 0.340155005535912, 0.5131211421083486, 0.6516111111111111, 0.8359473684210527, 0.9622857142857143], \"error_y\": {\"type\": \"data\", \"array\": [0.001078118195116328, 0.0032062493009323892, 0.0028313652121162783, 0.002935191154698578, 0.0035514213397297976, 0.0026866784804821056, 0.001610113368510929], \"color\": \"rgb(0,100,246)\", \"visible\": true}, \"line\": {\"color\": \"rgb(0,176,246)\"}, \"mode\": \"lines+markers\", \"name\": \"Sim Data\", \"xaxis\": \"x2\", \"yaxis\": \"y2\"}], {\"paper_bgcolor\": \"rgb(255,255,255)\", \"plot_bgcolor\": \"rgb(229,229,229)\", \"xaxis\": {\"gridcolor\": \"rgb(255,255,255)\", \"range\": [-2, 2], \"domain\": [0, 0.45], \"showgrid\": true, \"showline\": false, \"showticklabels\": true, \"tickcolor\": \"rgb(127,127,127)\", \"ticks\": \"outside\", \"title\": \"Net Value ($)\", \"zeroline\": false}, \"xaxis2\": {\"gridcolor\": \"rgb(255,255,255)\", \"range\": [-2, 2], \"domain\": [0.55, 1], \"showgrid\": true, \"showline\": false, \"showticklabels\": true, \"tickcolor\": \"rgb(127,127,127)\", \"ticks\": \"outside\", \"title\": \"Net Value ($)\", \"zeroline\": false}, \"yaxis1\": {\"gridcolor\": \"rgb(255,255,255)\", \"range\": [0], \"showgrid\": true, \"showline\": false, \"showticklabels\": true, \"tickcolor\": \"rgb(127,127,127)\", \"ticks\": \"outside\", \"title\": \"RT (s)\", \"anchor\": \"x1\", \"zeroline\": false}, \"yaxis2\": {\"gridcolor\": \"rgb(255,255,255)\", \"range\": [0], \"showgrid\": true, \"showline\": false, \"showticklabels\": true, \"tickcolor\": \"rgb(127,127,127)\", \"ticks\": \"outside\", \"title\": \"p (accept)\", \"anchor\": \"x2\", \"zeroline\": false}, \"annotations\": [{\"x\": 0.01, \"y\": 1.12, \"showarrow\": false, \"text\": \"PARAMETERS: v: 0.093, a: 0.107, \\u03b8: 1.0\", \"xref\": \"paper\", \"yref\": \"paper\"}, {\"x\": 0.01, \"y\": 1.08, \"showarrow\": false, \"text\": \"MLE: 598.94\", \"xref\": \"paper\", \"yref\": \"paper\"}, {\"x\": 0.01, \"y\": 1.2, \"showarrow\": false, \"text\": \"SUBJECT: 12\", \"font\": {\"family\": \"Arial, sans-serif\", \"size\": 22}, \"xref\": \"paper\", \"yref\": \"paper\"}]}, {\"showLink\": true, \"linkText\": \"Export to plot.ly\"})});</script>"
      ],
      "text/vnd.plotly.v1+html": [
       "<div id=\"d5723c0a-7f23-4d5a-aa1f-405765e46119\" style=\"height: 525px; width: 100%;\" class=\"plotly-graph-div\"></div><script type=\"text/javascript\">require([\"plotly\"], function(Plotly) { window.PLOTLYENV=window.PLOTLYENV || {};window.PLOTLYENV.BASE_URL=\"https://plot.ly\";Plotly.newPlot(\"d5723c0a-7f23-4d5a-aa1f-405765e46119\", [{\"type\": \"scatter\", \"x\": [-1.9057142857142857, -0.7792857142857142, -0.32714285714285724, 0.03241379310344826, 0.3111111111111111, 0.8163157894736842, 1.6485714285714284], \"y\": [1.4269307483648717, 1.3549157306697457, 2.125731202156333, 2.0357956772866848, 1.6631095707739905, 1.3957581082833805, 1.5227779725454245], \"error_y\": {\"type\": \"data\", \"array\": [0.10609880159574052, 0.1488715426815066, 0.25316036154916904, 0.22382898810538016, 0.1427101860349365, 0.11909295856362125, 0.15002263903662438], \"color\": \"rgb(0,170,80)\", \"visible\": true}, \"line\": {\"color\": \"rgb(0,100,80)\"}, \"mode\": \"lines+markers\", \"name\": \"Test Data\"}, {\"type\": \"scatter\", \"x\": [-1.9057142857142857, -0.7792857142857142, -0.32714285714285724, 0.03241379310344826, 0.3111111111111111, 0.8163157894736842, 1.6485714285714284], \"y\": [1.4161572142857097, 1.7827960000000007, 1.938324333011893, 1.9792452153522517, 1.940006444444436, 1.7767399999999969, 1.4747995714285695], \"error_y\": {\"type\": \"data\", \"array\": [0.0027990795939967545, 0.006511132798742466, 0.005492084495019782, 0.005629888658376852, 0.0069621813797044255, 0.0055508398092444155, 0.004283946632118127], \"color\": \"rgb(0,100,246)\", \"visible\": true}, \"line\": {\"color\": \"rgb(0,176,246)\"}, \"mode\": \"lines+markers\", \"name\": \"Sim Data\"}, {\"type\": \"scatter\", \"x\": [-1.9057142857142857, -0.7792857142857142, -0.32714285714285724, 0.03241379310344826, 0.3111111111111111, 0.8163157894736842, 1.6485714285714284], \"y\": [0.07142857142857142, 0.14285714285714285, 0.32142857142857145, 0.6896551724137931, 0.9444444444444444, 0.9473684210526315, 1.0], \"error_y\": {\"type\": \"data\", \"array\": [0.04956347617776506, 0.09705231721239392, 0.08987898137227082, 0.08742975048915688, 0.05555555555555555, 0.05263157894736841, 0.0], \"color\": \"rgb(0,170,80)\", \"visible\": true}, \"line\": {\"color\": \"rgb(0,100,80)\"}, \"mode\": \"lines+markers\", \"name\": \"Test Data\", \"xaxis\": \"x2\", \"yaxis\": \"y2\"}, {\"type\": \"scatter\", \"x\": [-1.9057142857142857, -0.7792857142857142, -0.32714285714285724, 0.03241379310344826, 0.3111111111111111, 0.8163157894736842, 1.6485714285714284], \"y\": [0.033678571428571426, 0.1742857142857143, 0.340155005535912, 0.5131211421083486, 0.6516111111111111, 0.8359473684210527, 0.9622857142857143], \"error_y\": {\"type\": \"data\", \"array\": [0.001078118195116328, 0.0032062493009323892, 0.0028313652121162783, 0.002935191154698578, 0.0035514213397297976, 0.0026866784804821056, 0.001610113368510929], \"color\": \"rgb(0,100,246)\", \"visible\": true}, \"line\": {\"color\": \"rgb(0,176,246)\"}, \"mode\": \"lines+markers\", \"name\": \"Sim Data\", \"xaxis\": \"x2\", \"yaxis\": \"y2\"}], {\"paper_bgcolor\": \"rgb(255,255,255)\", \"plot_bgcolor\": \"rgb(229,229,229)\", \"xaxis\": {\"gridcolor\": \"rgb(255,255,255)\", \"range\": [-2, 2], \"domain\": [0, 0.45], \"showgrid\": true, \"showline\": false, \"showticklabels\": true, \"tickcolor\": \"rgb(127,127,127)\", \"ticks\": \"outside\", \"title\": \"Net Value ($)\", \"zeroline\": false}, \"xaxis2\": {\"gridcolor\": \"rgb(255,255,255)\", \"range\": [-2, 2], \"domain\": [0.55, 1], \"showgrid\": true, \"showline\": false, \"showticklabels\": true, \"tickcolor\": \"rgb(127,127,127)\", \"ticks\": \"outside\", \"title\": \"Net Value ($)\", \"zeroline\": false}, \"yaxis1\": {\"gridcolor\": \"rgb(255,255,255)\", \"range\": [0], \"showgrid\": true, \"showline\": false, \"showticklabels\": true, \"tickcolor\": \"rgb(127,127,127)\", \"ticks\": \"outside\", \"title\": \"RT (s)\", \"anchor\": \"x1\", \"zeroline\": false}, \"yaxis2\": {\"gridcolor\": \"rgb(255,255,255)\", \"range\": [0], \"showgrid\": true, \"showline\": false, \"showticklabels\": true, \"tickcolor\": \"rgb(127,127,127)\", \"ticks\": \"outside\", \"title\": \"p (accept)\", \"anchor\": \"x2\", \"zeroline\": false}, \"annotations\": [{\"x\": 0.01, \"y\": 1.12, \"showarrow\": false, \"text\": \"PARAMETERS: v: 0.093, a: 0.107, \\u03b8: 1.0\", \"xref\": \"paper\", \"yref\": \"paper\"}, {\"x\": 0.01, \"y\": 1.08, \"showarrow\": false, \"text\": \"MLE: 598.94\", \"xref\": \"paper\", \"yref\": \"paper\"}, {\"x\": 0.01, \"y\": 1.2, \"showarrow\": false, \"text\": \"SUBJECT: 12\", \"font\": {\"family\": \"Arial, sans-serif\", \"size\": 22}, \"xref\": \"paper\", \"yref\": \"paper\"}]}, {\"showLink\": true, \"linkText\": \"Export to plot.ly\"})});</script>"
      ]
     },
     "metadata": {},
     "output_type": "display_data"
    },
    {
     "data": {
      "application/vnd.plotly.v1+json": {
       "data": [
        {
         "error_y": {
          "array": [
           0.5229255577916007,
           0.3617012844609333,
           0.5102230924375099,
           0.32157018381381625,
           0.5974705875773418,
           0.4628035693556721,
           0.4056975441536435
          ],
          "color": "rgb(0,170,80)",
          "type": "data",
          "visible": true
         },
         "line": {
          "color": "rgb(0,100,80)"
         },
         "mode": "lines+markers",
         "name": "Test Data",
         "type": "scatter",
         "x": [
          -1.671764705882353,
          -0.8362499999999999,
          -0.34800000000000003,
          0.021818181818181775,
          0.26076923076923075,
          0.7109090909090908,
          1.6181249999999998
         ],
         "y": [
          4.923762330146822,
          4.66318481280905,
          6.524016877422886,
          4.5971211614074,
          5.280876333341719,
          4.638104213602756,
          4.002202647474404
         ]
        },
        {
         "error_y": {
          "array": [
           0.020927461418218007,
           0.022250522158535322,
           0.02305474136402778,
           0.019182765497627645,
           0.025003439193869926,
           0.026608139419477667,
           0.021994076374204013
          ],
          "color": "rgb(0,100,246)",
          "type": "data",
          "visible": true
         },
         "line": {
          "color": "rgb(0,176,246)"
         },
         "mode": "lines+markers",
         "name": "Sim Data",
         "type": "scatter",
         "x": [
          -1.671764705882353,
          -0.8362499999999999,
          -0.34800000000000003,
          0.021818181818181775,
          0.26076923076923075,
          0.7109090909090908,
          1.6181249999999998
         ],
         "y": [
          5.490646435970264,
          5.5839208657423285,
          5.62528041704443,
          5.638202551337891,
          5.610115594215041,
          5.596823362526201,
          5.524223217956094
         ]
        },
        {
         "error_y": {
          "array": [
           0.058823529411764705,
           0,
           0.12598815766974242,
           0.10865714630312667,
           0.10415433852097386,
           0,
           0
          ],
          "color": "rgb(0,170,80)",
          "type": "data",
          "visible": true
         },
         "line": {
          "color": "rgb(0,100,80)"
         },
         "mode": "lines+markers",
         "name": "Test Data",
         "type": "scatter",
         "x": [
          -1.671764705882353,
          -0.8362499999999999,
          -0.34800000000000003,
          0.021818181818181775,
          0.26076923076923075,
          0.7109090909090908,
          1.6181249999999998
         ],
         "xaxis": "x2",
         "y": [
          0.058823529411764705,
          0,
          0.3333333333333333,
          0.5454545454545454,
          0.8461538461538461,
          1,
          1
         ],
         "yaxis": "y2"
        },
        {
         "error_y": {
          "array": [
           0.003918097852821668,
           0.004479844206928967,
           0.004741276436347166,
           0.003944346818816239,
           0.0051077594447849345,
           0.00543853768243017,
           0.004111029502527613
          ],
          "color": "rgb(0,100,246)",
          "type": "data",
          "visible": true
         },
         "line": {
          "color": "rgb(0,176,246)"
         },
         "mode": "lines+markers",
         "name": "Sim Data",
         "type": "scatter",
         "x": [
          -1.671764705882353,
          -0.8362499999999999,
          -0.34800000000000003,
          0.021818181818181775,
          0.26076923076923075,
          0.7109090909090908,
          1.6181249999999998
         ],
         "xaxis": "x2",
         "y": [
          0.27652881147855446,
          0.38755495434562054,
          0.4544877606527652,
          0.5007467330429372,
          0.5329071473485643,
          0.6012088318736895,
          0.7108443640549207
         ],
         "yaxis": "y2"
        }
       ],
       "layout": {
        "annotations": [
         {
          "showarrow": false,
          "text": "PARAMETERS: v: 0.01, a: 0.279, θ: 1.0",
          "x": 0.01,
          "xref": "paper",
          "y": 1.12,
          "yref": "paper"
         },
         {
          "showarrow": false,
          "text": "MLE: 612.4",
          "x": 0.01,
          "xref": "paper",
          "y": 1.08,
          "yref": "paper"
         },
         {
          "font": {
           "family": "Arial, sans-serif",
           "size": 22
          },
          "showarrow": false,
          "text": "SUBJECT: 13",
          "x": 0.01,
          "xref": "paper",
          "y": 1.2,
          "yref": "paper"
         }
        ],
        "paper_bgcolor": "rgb(255,255,255)",
        "plot_bgcolor": "rgb(229,229,229)",
        "xaxis": {
         "domain": [
          0,
          0.45
         ],
         "gridcolor": "rgb(255,255,255)",
         "range": [
          -2,
          2
         ],
         "showgrid": true,
         "showline": false,
         "showticklabels": true,
         "tickcolor": "rgb(127,127,127)",
         "ticks": "outside",
         "title": "Net Value ($)",
         "zeroline": false
        },
        "xaxis2": {
         "domain": [
          0.55,
          1
         ],
         "gridcolor": "rgb(255,255,255)",
         "range": [
          -2,
          2
         ],
         "showgrid": true,
         "showline": false,
         "showticklabels": true,
         "tickcolor": "rgb(127,127,127)",
         "ticks": "outside",
         "title": "Net Value ($)",
         "zeroline": false
        },
        "yaxis1": {
         "anchor": "x1",
         "gridcolor": "rgb(255,255,255)",
         "range": [
          0
         ],
         "showgrid": true,
         "showline": false,
         "showticklabels": true,
         "tickcolor": "rgb(127,127,127)",
         "ticks": "outside",
         "title": "RT (s)",
         "zeroline": false
        },
        "yaxis2": {
         "anchor": "x2",
         "gridcolor": "rgb(255,255,255)",
         "range": [
          0
         ],
         "showgrid": true,
         "showline": false,
         "showticklabels": true,
         "tickcolor": "rgb(127,127,127)",
         "ticks": "outside",
         "title": "p (accept)",
         "zeroline": false
        }
       }
      },
      "text/html": [
       "<div id=\"a2520f45-9167-4c16-af90-ad4bcf0667de\" style=\"height: 525px; width: 100%;\" class=\"plotly-graph-div\"></div><script type=\"text/javascript\">require([\"plotly\"], function(Plotly) { window.PLOTLYENV=window.PLOTLYENV || {};window.PLOTLYENV.BASE_URL=\"https://plot.ly\";Plotly.newPlot(\"a2520f45-9167-4c16-af90-ad4bcf0667de\", [{\"type\": \"scatter\", \"x\": [-1.671764705882353, -0.8362499999999999, -0.34800000000000003, 0.021818181818181775, 0.26076923076923075, 0.7109090909090908, 1.6181249999999998], \"y\": [4.923762330146822, 4.66318481280905, 6.524016877422886, 4.5971211614074, 5.280876333341719, 4.638104213602756, 4.002202647474404], \"error_y\": {\"type\": \"data\", \"array\": [0.5229255577916007, 0.3617012844609333, 0.5102230924375099, 0.32157018381381625, 0.5974705875773418, 0.4628035693556721, 0.4056975441536435], \"color\": \"rgb(0,170,80)\", \"visible\": true}, \"line\": {\"color\": \"rgb(0,100,80)\"}, \"mode\": \"lines+markers\", \"name\": \"Test Data\"}, {\"type\": \"scatter\", \"x\": [-1.671764705882353, -0.8362499999999999, -0.34800000000000003, 0.021818181818181775, 0.26076923076923075, 0.7109090909090908, 1.6181249999999998], \"y\": [5.490646435970264, 5.5839208657423285, 5.62528041704443, 5.638202551337891, 5.610115594215041, 5.596823362526201, 5.524223217956094], \"error_y\": {\"type\": \"data\", \"array\": [0.020927461418218007, 0.022250522158535322, 0.02305474136402778, 0.019182765497627645, 0.025003439193869926, 0.026608139419477667, 0.021994076374204013], \"color\": \"rgb(0,100,246)\", \"visible\": true}, \"line\": {\"color\": \"rgb(0,176,246)\"}, \"mode\": \"lines+markers\", \"name\": \"Sim Data\"}, {\"type\": \"scatter\", \"x\": [-1.671764705882353, -0.8362499999999999, -0.34800000000000003, 0.021818181818181775, 0.26076923076923075, 0.7109090909090908, 1.6181249999999998], \"y\": [0.058823529411764705, 0.0, 0.3333333333333333, 0.5454545454545454, 0.8461538461538461, 1.0, 1.0], \"error_y\": {\"type\": \"data\", \"array\": [0.058823529411764705, 0.0, 0.12598815766974242, 0.10865714630312667, 0.10415433852097386, 0.0, 0.0], \"color\": \"rgb(0,170,80)\", \"visible\": true}, \"line\": {\"color\": \"rgb(0,100,80)\"}, \"mode\": \"lines+markers\", \"name\": \"Test Data\", \"xaxis\": \"x2\", \"yaxis\": \"y2\"}, {\"type\": \"scatter\", \"x\": [-1.671764705882353, -0.8362499999999999, -0.34800000000000003, 0.021818181818181775, 0.26076923076923075, 0.7109090909090908, 1.6181249999999998], \"y\": [0.27652881147855446, 0.38755495434562054, 0.4544877606527652, 0.5007467330429372, 0.5329071473485643, 0.6012088318736895, 0.7108443640549207], \"error_y\": {\"type\": \"data\", \"array\": [0.003918097852821668, 0.004479844206928967, 0.004741276436347166, 0.003944346818816239, 0.0051077594447849345, 0.00543853768243017, 0.004111029502527613], \"color\": \"rgb(0,100,246)\", \"visible\": true}, \"line\": {\"color\": \"rgb(0,176,246)\"}, \"mode\": \"lines+markers\", \"name\": \"Sim Data\", \"xaxis\": \"x2\", \"yaxis\": \"y2\"}], {\"paper_bgcolor\": \"rgb(255,255,255)\", \"plot_bgcolor\": \"rgb(229,229,229)\", \"xaxis\": {\"gridcolor\": \"rgb(255,255,255)\", \"range\": [-2, 2], \"domain\": [0, 0.45], \"showgrid\": true, \"showline\": false, \"showticklabels\": true, \"tickcolor\": \"rgb(127,127,127)\", \"ticks\": \"outside\", \"title\": \"Net Value ($)\", \"zeroline\": false}, \"xaxis2\": {\"gridcolor\": \"rgb(255,255,255)\", \"range\": [-2, 2], \"domain\": [0.55, 1], \"showgrid\": true, \"showline\": false, \"showticklabels\": true, \"tickcolor\": \"rgb(127,127,127)\", \"ticks\": \"outside\", \"title\": \"Net Value ($)\", \"zeroline\": false}, \"yaxis1\": {\"gridcolor\": \"rgb(255,255,255)\", \"range\": [0], \"showgrid\": true, \"showline\": false, \"showticklabels\": true, \"tickcolor\": \"rgb(127,127,127)\", \"ticks\": \"outside\", \"title\": \"RT (s)\", \"anchor\": \"x1\", \"zeroline\": false}, \"yaxis2\": {\"gridcolor\": \"rgb(255,255,255)\", \"range\": [0], \"showgrid\": true, \"showline\": false, \"showticklabels\": true, \"tickcolor\": \"rgb(127,127,127)\", \"ticks\": \"outside\", \"title\": \"p (accept)\", \"anchor\": \"x2\", \"zeroline\": false}, \"annotations\": [{\"x\": 0.01, \"y\": 1.12, \"showarrow\": false, \"text\": \"PARAMETERS: v: 0.01, a: 0.279, \\u03b8: 1.0\", \"xref\": \"paper\", \"yref\": \"paper\"}, {\"x\": 0.01, \"y\": 1.08, \"showarrow\": false, \"text\": \"MLE: 612.4\", \"xref\": \"paper\", \"yref\": \"paper\"}, {\"x\": 0.01, \"y\": 1.2, \"showarrow\": false, \"text\": \"SUBJECT: 13\", \"font\": {\"family\": \"Arial, sans-serif\", \"size\": 22}, \"xref\": \"paper\", \"yref\": \"paper\"}]}, {\"showLink\": true, \"linkText\": \"Export to plot.ly\"})});</script>"
      ],
      "text/vnd.plotly.v1+html": [
       "<div id=\"a2520f45-9167-4c16-af90-ad4bcf0667de\" style=\"height: 525px; width: 100%;\" class=\"plotly-graph-div\"></div><script type=\"text/javascript\">require([\"plotly\"], function(Plotly) { window.PLOTLYENV=window.PLOTLYENV || {};window.PLOTLYENV.BASE_URL=\"https://plot.ly\";Plotly.newPlot(\"a2520f45-9167-4c16-af90-ad4bcf0667de\", [{\"type\": \"scatter\", \"x\": [-1.671764705882353, -0.8362499999999999, -0.34800000000000003, 0.021818181818181775, 0.26076923076923075, 0.7109090909090908, 1.6181249999999998], \"y\": [4.923762330146822, 4.66318481280905, 6.524016877422886, 4.5971211614074, 5.280876333341719, 4.638104213602756, 4.002202647474404], \"error_y\": {\"type\": \"data\", \"array\": [0.5229255577916007, 0.3617012844609333, 0.5102230924375099, 0.32157018381381625, 0.5974705875773418, 0.4628035693556721, 0.4056975441536435], \"color\": \"rgb(0,170,80)\", \"visible\": true}, \"line\": {\"color\": \"rgb(0,100,80)\"}, \"mode\": \"lines+markers\", \"name\": \"Test Data\"}, {\"type\": \"scatter\", \"x\": [-1.671764705882353, -0.8362499999999999, -0.34800000000000003, 0.021818181818181775, 0.26076923076923075, 0.7109090909090908, 1.6181249999999998], \"y\": [5.490646435970264, 5.5839208657423285, 5.62528041704443, 5.638202551337891, 5.610115594215041, 5.596823362526201, 5.524223217956094], \"error_y\": {\"type\": \"data\", \"array\": [0.020927461418218007, 0.022250522158535322, 0.02305474136402778, 0.019182765497627645, 0.025003439193869926, 0.026608139419477667, 0.021994076374204013], \"color\": \"rgb(0,100,246)\", \"visible\": true}, \"line\": {\"color\": \"rgb(0,176,246)\"}, \"mode\": \"lines+markers\", \"name\": \"Sim Data\"}, {\"type\": \"scatter\", \"x\": [-1.671764705882353, -0.8362499999999999, -0.34800000000000003, 0.021818181818181775, 0.26076923076923075, 0.7109090909090908, 1.6181249999999998], \"y\": [0.058823529411764705, 0.0, 0.3333333333333333, 0.5454545454545454, 0.8461538461538461, 1.0, 1.0], \"error_y\": {\"type\": \"data\", \"array\": [0.058823529411764705, 0.0, 0.12598815766974242, 0.10865714630312667, 0.10415433852097386, 0.0, 0.0], \"color\": \"rgb(0,170,80)\", \"visible\": true}, \"line\": {\"color\": \"rgb(0,100,80)\"}, \"mode\": \"lines+markers\", \"name\": \"Test Data\", \"xaxis\": \"x2\", \"yaxis\": \"y2\"}, {\"type\": \"scatter\", \"x\": [-1.671764705882353, -0.8362499999999999, -0.34800000000000003, 0.021818181818181775, 0.26076923076923075, 0.7109090909090908, 1.6181249999999998], \"y\": [0.27652881147855446, 0.38755495434562054, 0.4544877606527652, 0.5007467330429372, 0.5329071473485643, 0.6012088318736895, 0.7108443640549207], \"error_y\": {\"type\": \"data\", \"array\": [0.003918097852821668, 0.004479844206928967, 0.004741276436347166, 0.003944346818816239, 0.0051077594447849345, 0.00543853768243017, 0.004111029502527613], \"color\": \"rgb(0,100,246)\", \"visible\": true}, \"line\": {\"color\": \"rgb(0,176,246)\"}, \"mode\": \"lines+markers\", \"name\": \"Sim Data\", \"xaxis\": \"x2\", \"yaxis\": \"y2\"}], {\"paper_bgcolor\": \"rgb(255,255,255)\", \"plot_bgcolor\": \"rgb(229,229,229)\", \"xaxis\": {\"gridcolor\": \"rgb(255,255,255)\", \"range\": [-2, 2], \"domain\": [0, 0.45], \"showgrid\": true, \"showline\": false, \"showticklabels\": true, \"tickcolor\": \"rgb(127,127,127)\", \"ticks\": \"outside\", \"title\": \"Net Value ($)\", \"zeroline\": false}, \"xaxis2\": {\"gridcolor\": \"rgb(255,255,255)\", \"range\": [-2, 2], \"domain\": [0.55, 1], \"showgrid\": true, \"showline\": false, \"showticklabels\": true, \"tickcolor\": \"rgb(127,127,127)\", \"ticks\": \"outside\", \"title\": \"Net Value ($)\", \"zeroline\": false}, \"yaxis1\": {\"gridcolor\": \"rgb(255,255,255)\", \"range\": [0], \"showgrid\": true, \"showline\": false, \"showticklabels\": true, \"tickcolor\": \"rgb(127,127,127)\", \"ticks\": \"outside\", \"title\": \"RT (s)\", \"anchor\": \"x1\", \"zeroline\": false}, \"yaxis2\": {\"gridcolor\": \"rgb(255,255,255)\", \"range\": [0], \"showgrid\": true, \"showline\": false, \"showticklabels\": true, \"tickcolor\": \"rgb(127,127,127)\", \"ticks\": \"outside\", \"title\": \"p (accept)\", \"anchor\": \"x2\", \"zeroline\": false}, \"annotations\": [{\"x\": 0.01, \"y\": 1.12, \"showarrow\": false, \"text\": \"PARAMETERS: v: 0.01, a: 0.279, \\u03b8: 1.0\", \"xref\": \"paper\", \"yref\": \"paper\"}, {\"x\": 0.01, \"y\": 1.08, \"showarrow\": false, \"text\": \"MLE: 612.4\", \"xref\": \"paper\", \"yref\": \"paper\"}, {\"x\": 0.01, \"y\": 1.2, \"showarrow\": false, \"text\": \"SUBJECT: 13\", \"font\": {\"family\": \"Arial, sans-serif\", \"size\": 22}, \"xref\": \"paper\", \"yref\": \"paper\"}]}, {\"showLink\": true, \"linkText\": \"Export to plot.ly\"})});</script>"
      ]
     },
     "metadata": {},
     "output_type": "display_data"
    },
    {
     "data": {
      "application/vnd.plotly.v1+json": {
       "data": [
        {
         "error_y": {
          "array": [
           0.35021592608518126,
           0.3766742051351146,
           0.5542082213227633,
           0.33901965010363483,
           0.5045817465963701,
           0.5152689778264671,
           0.28194392957871334
          ],
          "color": "rgb(0,170,80)",
          "type": "data",
          "visible": true
         },
         "line": {
          "color": "rgb(0,100,80)"
         },
         "mode": "lines+markers",
         "name": "Test Data",
         "type": "scatter",
         "x": [
          -1.5835294117647063,
          -0.8089473684210526,
          -0.2995,
          0.01899999999999998,
          0.31941176470588234,
          0.804375,
          1.5968
         ],
         "y": [
          3.4976711634799904,
          4.129546045803612,
          4.544472419338126,
          4.305603327703041,
          4.2611871013667795,
          4.102034559846287,
          3.235373271243879
         ]
        },
        {
         "error_y": {
          "array": [
           0.01444873277286616,
           0.016585222926869158,
           0.01736890212771104,
           0.014469964010517504,
           0.01888984431754597,
           0.018034392614214537,
           0.011677470585846512
          ],
          "color": "rgb(0,100,246)",
          "type": "data",
          "visible": true
         },
         "line": {
          "color": "rgb(0,176,246)"
         },
         "mode": "lines+markers",
         "name": "Sim Data",
         "type": "scatter",
         "x": [
          -1.5835294117647063,
          -0.8089473684210526,
          -0.2995,
          0.01899999999999998,
          0.31941176470588234,
          0.804375,
          1.5968
         ],
         "y": [
          3.5966961858571493,
          4.327205222631421,
          4.618494779293964,
          4.678377105380836,
          4.616995256968379,
          4.328831026031689,
          3.5643132158232476
         ]
        },
        {
         "error_y": {
          "array": [
           0.08054743492723031,
           0.0960916767552923,
           0.10513149660756937,
           0.0875376219064817,
           0.058823529411764705,
           0.10077822185373188,
           0
          ],
          "color": "rgb(0,170,80)",
          "type": "data",
          "visible": true
         },
         "line": {
          "color": "rgb(0,100,80)"
         },
         "mode": "lines+markers",
         "name": "Test Data",
         "type": "scatter",
         "x": [
          -1.5835294117647063,
          -0.8089473684210526,
          -0.2995,
          0.01899999999999998,
          0.31941176470588234,
          0.804375,
          1.5968
         ],
         "xaxis": "x2",
         "y": [
          0.11764705882352941,
          0.21052631578947367,
          0.3,
          0.6666666666666666,
          0.9411764705882353,
          0.8125,
          1
         ],
         "yaxis": "y2"
        },
        {
         "error_y": {
          "array": [
           0.00169504419005394,
           0.002798716262447566,
           0.0035480707494455616,
           0.003051726506518778,
           0.003841826546108202,
           0.0030268484058571204,
           0.00139105584548872
          ],
          "color": "rgb(0,100,246)",
          "type": "data",
          "visible": true
         },
         "line": {
          "color": "rgb(0,176,246)"
         },
         "mode": "lines+markers",
         "name": "Sim Data",
         "type": "scatter",
         "x": [
          -1.5835294117647063,
          -0.8089473684210526,
          -0.2995,
          0.01899999999999998,
          0.31941176470588234,
          0.804375,
          1.5968
         ],
         "xaxis": "x2",
         "y": [
          0.0505358960541285,
          0.1688985604285236,
          0.3511960665156621,
          0.5092040542554778,
          0.6511597686959911,
          0.8342054712856859,
          0.9498416050686378
         ],
         "yaxis": "y2"
        }
       ],
       "layout": {
        "annotations": [
         {
          "showarrow": false,
          "text": "PARAMETERS: v: 0.051, a: 0.221, θ: 0.775",
          "x": 0.01,
          "xref": "paper",
          "y": 1.12,
          "yref": "paper"
         },
         {
          "showarrow": false,
          "text": "MLE: 670.87",
          "x": 0.01,
          "xref": "paper",
          "y": 1.08,
          "yref": "paper"
         },
         {
          "font": {
           "family": "Arial, sans-serif",
           "size": 22
          },
          "showarrow": false,
          "text": "SUBJECT: 14",
          "x": 0.01,
          "xref": "paper",
          "y": 1.2,
          "yref": "paper"
         }
        ],
        "paper_bgcolor": "rgb(255,255,255)",
        "plot_bgcolor": "rgb(229,229,229)",
        "xaxis": {
         "domain": [
          0,
          0.45
         ],
         "gridcolor": "rgb(255,255,255)",
         "range": [
          -2,
          2
         ],
         "showgrid": true,
         "showline": false,
         "showticklabels": true,
         "tickcolor": "rgb(127,127,127)",
         "ticks": "outside",
         "title": "Net Value ($)",
         "zeroline": false
        },
        "xaxis2": {
         "domain": [
          0.55,
          1
         ],
         "gridcolor": "rgb(255,255,255)",
         "range": [
          -2,
          2
         ],
         "showgrid": true,
         "showline": false,
         "showticklabels": true,
         "tickcolor": "rgb(127,127,127)",
         "ticks": "outside",
         "title": "Net Value ($)",
         "zeroline": false
        },
        "yaxis1": {
         "anchor": "x1",
         "gridcolor": "rgb(255,255,255)",
         "range": [
          0
         ],
         "showgrid": true,
         "showline": false,
         "showticklabels": true,
         "tickcolor": "rgb(127,127,127)",
         "ticks": "outside",
         "title": "RT (s)",
         "zeroline": false
        },
        "yaxis2": {
         "anchor": "x2",
         "gridcolor": "rgb(255,255,255)",
         "range": [
          0
         ],
         "showgrid": true,
         "showline": false,
         "showticklabels": true,
         "tickcolor": "rgb(127,127,127)",
         "ticks": "outside",
         "title": "p (accept)",
         "zeroline": false
        }
       }
      },
      "text/html": [
       "<div id=\"e99888d8-973f-42dc-ab19-baad1c621806\" style=\"height: 525px; width: 100%;\" class=\"plotly-graph-div\"></div><script type=\"text/javascript\">require([\"plotly\"], function(Plotly) { window.PLOTLYENV=window.PLOTLYENV || {};window.PLOTLYENV.BASE_URL=\"https://plot.ly\";Plotly.newPlot(\"e99888d8-973f-42dc-ab19-baad1c621806\", [{\"type\": \"scatter\", \"x\": [-1.5835294117647063, -0.8089473684210526, -0.2995, 0.01899999999999998, 0.31941176470588234, 0.804375, 1.5968], \"y\": [3.4976711634799904, 4.129546045803612, 4.544472419338126, 4.305603327703041, 4.2611871013667795, 4.102034559846287, 3.235373271243879], \"error_y\": {\"type\": \"data\", \"array\": [0.35021592608518126, 0.3766742051351146, 0.5542082213227633, 0.33901965010363483, 0.5045817465963701, 0.5152689778264671, 0.28194392957871334], \"color\": \"rgb(0,170,80)\", \"visible\": true}, \"line\": {\"color\": \"rgb(0,100,80)\"}, \"mode\": \"lines+markers\", \"name\": \"Test Data\"}, {\"type\": \"scatter\", \"x\": [-1.5835294117647063, -0.8089473684210526, -0.2995, 0.01899999999999998, 0.31941176470588234, 0.804375, 1.5968], \"y\": [3.5966961858571493, 4.327205222631421, 4.618494779293964, 4.678377105380836, 4.616995256968379, 4.328831026031689, 3.5643132158232476], \"error_y\": {\"type\": \"data\", \"array\": [0.01444873277286616, 0.016585222926869158, 0.01736890212771104, 0.014469964010517504, 0.01888984431754597, 0.018034392614214537, 0.011677470585846512], \"color\": \"rgb(0,100,246)\", \"visible\": true}, \"line\": {\"color\": \"rgb(0,176,246)\"}, \"mode\": \"lines+markers\", \"name\": \"Sim Data\"}, {\"type\": \"scatter\", \"x\": [-1.5835294117647063, -0.8089473684210526, -0.2995, 0.01899999999999998, 0.31941176470588234, 0.804375, 1.5968], \"y\": [0.11764705882352941, 0.21052631578947367, 0.3, 0.6666666666666666, 0.9411764705882353, 0.8125, 1.0], \"error_y\": {\"type\": \"data\", \"array\": [0.08054743492723031, 0.0960916767552923, 0.10513149660756937, 0.0875376219064817, 0.058823529411764705, 0.10077822185373188, 0.0], \"color\": \"rgb(0,170,80)\", \"visible\": true}, \"line\": {\"color\": \"rgb(0,100,80)\"}, \"mode\": \"lines+markers\", \"name\": \"Test Data\", \"xaxis\": \"x2\", \"yaxis\": \"y2\"}, {\"type\": \"scatter\", \"x\": [-1.5835294117647063, -0.8089473684210526, -0.2995, 0.01899999999999998, 0.31941176470588234, 0.804375, 1.5968], \"y\": [0.0505358960541285, 0.1688985604285236, 0.3511960665156621, 0.5092040542554778, 0.6511597686959911, 0.8342054712856859, 0.9498416050686378], \"error_y\": {\"type\": \"data\", \"array\": [0.00169504419005394, 0.002798716262447566, 0.0035480707494455616, 0.003051726506518778, 0.003841826546108202, 0.0030268484058571204, 0.00139105584548872], \"color\": \"rgb(0,100,246)\", \"visible\": true}, \"line\": {\"color\": \"rgb(0,176,246)\"}, \"mode\": \"lines+markers\", \"name\": \"Sim Data\", \"xaxis\": \"x2\", \"yaxis\": \"y2\"}], {\"paper_bgcolor\": \"rgb(255,255,255)\", \"plot_bgcolor\": \"rgb(229,229,229)\", \"xaxis\": {\"gridcolor\": \"rgb(255,255,255)\", \"range\": [-2, 2], \"domain\": [0, 0.45], \"showgrid\": true, \"showline\": false, \"showticklabels\": true, \"tickcolor\": \"rgb(127,127,127)\", \"ticks\": \"outside\", \"title\": \"Net Value ($)\", \"zeroline\": false}, \"xaxis2\": {\"gridcolor\": \"rgb(255,255,255)\", \"range\": [-2, 2], \"domain\": [0.55, 1], \"showgrid\": true, \"showline\": false, \"showticklabels\": true, \"tickcolor\": \"rgb(127,127,127)\", \"ticks\": \"outside\", \"title\": \"Net Value ($)\", \"zeroline\": false}, \"yaxis1\": {\"gridcolor\": \"rgb(255,255,255)\", \"range\": [0], \"showgrid\": true, \"showline\": false, \"showticklabels\": true, \"tickcolor\": \"rgb(127,127,127)\", \"ticks\": \"outside\", \"title\": \"RT (s)\", \"anchor\": \"x1\", \"zeroline\": false}, \"yaxis2\": {\"gridcolor\": \"rgb(255,255,255)\", \"range\": [0], \"showgrid\": true, \"showline\": false, \"showticklabels\": true, \"tickcolor\": \"rgb(127,127,127)\", \"ticks\": \"outside\", \"title\": \"p (accept)\", \"anchor\": \"x2\", \"zeroline\": false}, \"annotations\": [{\"x\": 0.01, \"y\": 1.12, \"showarrow\": false, \"text\": \"PARAMETERS: v: 0.051, a: 0.221, \\u03b8: 0.775\", \"xref\": \"paper\", \"yref\": \"paper\"}, {\"x\": 0.01, \"y\": 1.08, \"showarrow\": false, \"text\": \"MLE: 670.87\", \"xref\": \"paper\", \"yref\": \"paper\"}, {\"x\": 0.01, \"y\": 1.2, \"showarrow\": false, \"text\": \"SUBJECT: 14\", \"font\": {\"family\": \"Arial, sans-serif\", \"size\": 22}, \"xref\": \"paper\", \"yref\": \"paper\"}]}, {\"showLink\": true, \"linkText\": \"Export to plot.ly\"})});</script>"
      ],
      "text/vnd.plotly.v1+html": [
       "<div id=\"e99888d8-973f-42dc-ab19-baad1c621806\" style=\"height: 525px; width: 100%;\" class=\"plotly-graph-div\"></div><script type=\"text/javascript\">require([\"plotly\"], function(Plotly) { window.PLOTLYENV=window.PLOTLYENV || {};window.PLOTLYENV.BASE_URL=\"https://plot.ly\";Plotly.newPlot(\"e99888d8-973f-42dc-ab19-baad1c621806\", [{\"type\": \"scatter\", \"x\": [-1.5835294117647063, -0.8089473684210526, -0.2995, 0.01899999999999998, 0.31941176470588234, 0.804375, 1.5968], \"y\": [3.4976711634799904, 4.129546045803612, 4.544472419338126, 4.305603327703041, 4.2611871013667795, 4.102034559846287, 3.235373271243879], \"error_y\": {\"type\": \"data\", \"array\": [0.35021592608518126, 0.3766742051351146, 0.5542082213227633, 0.33901965010363483, 0.5045817465963701, 0.5152689778264671, 0.28194392957871334], \"color\": \"rgb(0,170,80)\", \"visible\": true}, \"line\": {\"color\": \"rgb(0,100,80)\"}, \"mode\": \"lines+markers\", \"name\": \"Test Data\"}, {\"type\": \"scatter\", \"x\": [-1.5835294117647063, -0.8089473684210526, -0.2995, 0.01899999999999998, 0.31941176470588234, 0.804375, 1.5968], \"y\": [3.5966961858571493, 4.327205222631421, 4.618494779293964, 4.678377105380836, 4.616995256968379, 4.328831026031689, 3.5643132158232476], \"error_y\": {\"type\": \"data\", \"array\": [0.01444873277286616, 0.016585222926869158, 0.01736890212771104, 0.014469964010517504, 0.01888984431754597, 0.018034392614214537, 0.011677470585846512], \"color\": \"rgb(0,100,246)\", \"visible\": true}, \"line\": {\"color\": \"rgb(0,176,246)\"}, \"mode\": \"lines+markers\", \"name\": \"Sim Data\"}, {\"type\": \"scatter\", \"x\": [-1.5835294117647063, -0.8089473684210526, -0.2995, 0.01899999999999998, 0.31941176470588234, 0.804375, 1.5968], \"y\": [0.11764705882352941, 0.21052631578947367, 0.3, 0.6666666666666666, 0.9411764705882353, 0.8125, 1.0], \"error_y\": {\"type\": \"data\", \"array\": [0.08054743492723031, 0.0960916767552923, 0.10513149660756937, 0.0875376219064817, 0.058823529411764705, 0.10077822185373188, 0.0], \"color\": \"rgb(0,170,80)\", \"visible\": true}, \"line\": {\"color\": \"rgb(0,100,80)\"}, \"mode\": \"lines+markers\", \"name\": \"Test Data\", \"xaxis\": \"x2\", \"yaxis\": \"y2\"}, {\"type\": \"scatter\", \"x\": [-1.5835294117647063, -0.8089473684210526, -0.2995, 0.01899999999999998, 0.31941176470588234, 0.804375, 1.5968], \"y\": [0.0505358960541285, 0.1688985604285236, 0.3511960665156621, 0.5092040542554778, 0.6511597686959911, 0.8342054712856859, 0.9498416050686378], \"error_y\": {\"type\": \"data\", \"array\": [0.00169504419005394, 0.002798716262447566, 0.0035480707494455616, 0.003051726506518778, 0.003841826546108202, 0.0030268484058571204, 0.00139105584548872], \"color\": \"rgb(0,100,246)\", \"visible\": true}, \"line\": {\"color\": \"rgb(0,176,246)\"}, \"mode\": \"lines+markers\", \"name\": \"Sim Data\", \"xaxis\": \"x2\", \"yaxis\": \"y2\"}], {\"paper_bgcolor\": \"rgb(255,255,255)\", \"plot_bgcolor\": \"rgb(229,229,229)\", \"xaxis\": {\"gridcolor\": \"rgb(255,255,255)\", \"range\": [-2, 2], \"domain\": [0, 0.45], \"showgrid\": true, \"showline\": false, \"showticklabels\": true, \"tickcolor\": \"rgb(127,127,127)\", \"ticks\": \"outside\", \"title\": \"Net Value ($)\", \"zeroline\": false}, \"xaxis2\": {\"gridcolor\": \"rgb(255,255,255)\", \"range\": [-2, 2], \"domain\": [0.55, 1], \"showgrid\": true, \"showline\": false, \"showticklabels\": true, \"tickcolor\": \"rgb(127,127,127)\", \"ticks\": \"outside\", \"title\": \"Net Value ($)\", \"zeroline\": false}, \"yaxis1\": {\"gridcolor\": \"rgb(255,255,255)\", \"range\": [0], \"showgrid\": true, \"showline\": false, \"showticklabels\": true, \"tickcolor\": \"rgb(127,127,127)\", \"ticks\": \"outside\", \"title\": \"RT (s)\", \"anchor\": \"x1\", \"zeroline\": false}, \"yaxis2\": {\"gridcolor\": \"rgb(255,255,255)\", \"range\": [0], \"showgrid\": true, \"showline\": false, \"showticklabels\": true, \"tickcolor\": \"rgb(127,127,127)\", \"ticks\": \"outside\", \"title\": \"p (accept)\", \"anchor\": \"x2\", \"zeroline\": false}, \"annotations\": [{\"x\": 0.01, \"y\": 1.12, \"showarrow\": false, \"text\": \"PARAMETERS: v: 0.051, a: 0.221, \\u03b8: 0.775\", \"xref\": \"paper\", \"yref\": \"paper\"}, {\"x\": 0.01, \"y\": 1.08, \"showarrow\": false, \"text\": \"MLE: 670.87\", \"xref\": \"paper\", \"yref\": \"paper\"}, {\"x\": 0.01, \"y\": 1.2, \"showarrow\": false, \"text\": \"SUBJECT: 14\", \"font\": {\"family\": \"Arial, sans-serif\", \"size\": 22}, \"xref\": \"paper\", \"yref\": \"paper\"}]}, {\"showLink\": true, \"linkText\": \"Export to plot.ly\"})});</script>"
      ]
     },
     "metadata": {},
     "output_type": "display_data"
    },
    {
     "data": {
      "application/vnd.plotly.v1+json": {
       "data": [
        {
         "error_y": {
          "array": [
           0.3567010076126107,
           0.2103499017404514,
           0.23592121519616596,
           0.14616530230162392,
           0.1637560550610461,
           0.20646263968004017,
           0.15110877526032843
          ],
          "color": "rgb(0,170,80)",
          "type": "data",
          "visible": true
         },
         "line": {
          "color": "rgb(0,100,80)"
         },
         "mode": "lines+markers",
         "name": "Test Data",
         "type": "scatter",
         "x": [
          -1.9084615384615384,
          -0.7883333333333333,
          -0.28647058823529414,
          0.029210526315789458,
          0.3188888888888888,
          0.7157894736842105,
          1.679230769230769
         ],
         "y": [
          2.9552737949953354,
          2.3677408923168626,
          2.4658561379029003,
          2.5238267371215017,
          2.289951914292436,
          2.5536627034874226,
          2.1475658100937896
         ]
        },
        {
         "error_y": {
          "array": [
           0.012243475930010683,
           0.013487302648835409,
           0.014750482786261265,
           0.00986291588682282,
           0.014378417316893568,
           0.013173368957108723,
           0.00934102001080703
          ],
          "color": "rgb(0,100,246)",
          "type": "data",
          "visible": true
         },
         "line": {
          "color": "rgb(0,176,246)"
         },
         "mode": "lines+markers",
         "name": "Sim Data",
         "type": "scatter",
         "x": [
          -1.9084615384615384,
          -0.7883333333333333,
          -0.28647058823529414,
          0.029210526315789458,
          0.3188888888888888,
          0.7157894736842105,
          1.679230769230769
         ],
         "y": [
          2.6657496531524645,
          3.2100089015787443,
          3.392461474286387,
          3.358452535102442,
          3.3911873278237032,
          3.228458569987795,
          2.7663945491692803
         ]
        },
        {
         "error_y": {
          "array": [
           0,
           0.11823563735376173,
           0.11391127488845344,
           0.0793021898421983,
           0.0903876907577734,
           0.10956136839295434,
           0
          ],
          "color": "rgb(0,170,80)",
          "type": "data",
          "visible": true
         },
         "line": {
          "color": "rgb(0,100,80)"
         },
         "mode": "lines+markers",
         "name": "Test Data",
         "type": "scatter",
         "x": [
          -1.9084615384615384,
          -0.7883333333333333,
          -0.28647058823529414,
          0.029210526315789458,
          0.3188888888888888,
          0.7157894736842105,
          1.679230769230769
         ],
         "xaxis": "x2",
         "y": [
          0,
          0.3888888888888889,
          0.29411764705882354,
          0.631578947368421,
          0.8333333333333334,
          0.6842105263157895,
          1
         ],
         "yaxis": "y2"
        },
        {
         "error_y": {
          "array": [
           0.0024547402386237583,
           0.0032709735794445045,
           0.003781200049138299,
           0.002573854790815038,
           0.0036477229633208215,
           0.0032174927113756214,
           0.001936568070742919
          ],
          "color": "rgb(0,100,246)",
          "type": "data",
          "visible": true
         },
         "line": {
          "color": "rgb(0,176,246)"
         },
         "mode": "lines+markers",
         "name": "Sim Data",
         "type": "scatter",
         "x": [
          -1.9084615384615384,
          -0.7883333333333333,
          -0.28647058823529414,
          0.029210526315789458,
          0.3188888888888888,
          0.7157894736842105,
          1.679230769230769
         ],
         "xaxis": "x2",
         "y": [
          0.08547864960690613,
          0.257306012764528,
          0.39955902508789704,
          0.5368875389657102,
          0.6155057064147973,
          0.7344869685227454,
          0.8907906402991403
         ],
         "yaxis": "y2"
        }
       ],
       "layout": {
        "annotations": [
         {
          "showarrow": false,
          "text": "PARAMETERS: v: 0.051, a: 0.164, θ: 0.55",
          "x": 0.01,
          "xref": "paper",
          "y": 1.12,
          "yref": "paper"
         },
         {
          "showarrow": false,
          "text": "MLE: 625.87",
          "x": 0.01,
          "xref": "paper",
          "y": 1.08,
          "yref": "paper"
         },
         {
          "font": {
           "family": "Arial, sans-serif",
           "size": 22
          },
          "showarrow": false,
          "text": "SUBJECT: 15",
          "x": 0.01,
          "xref": "paper",
          "y": 1.2,
          "yref": "paper"
         }
        ],
        "paper_bgcolor": "rgb(255,255,255)",
        "plot_bgcolor": "rgb(229,229,229)",
        "xaxis": {
         "domain": [
          0,
          0.45
         ],
         "gridcolor": "rgb(255,255,255)",
         "range": [
          -2,
          2
         ],
         "showgrid": true,
         "showline": false,
         "showticklabels": true,
         "tickcolor": "rgb(127,127,127)",
         "ticks": "outside",
         "title": "Net Value ($)",
         "zeroline": false
        },
        "xaxis2": {
         "domain": [
          0.55,
          1
         ],
         "gridcolor": "rgb(255,255,255)",
         "range": [
          -2,
          2
         ],
         "showgrid": true,
         "showline": false,
         "showticklabels": true,
         "tickcolor": "rgb(127,127,127)",
         "ticks": "outside",
         "title": "Net Value ($)",
         "zeroline": false
        },
        "yaxis1": {
         "anchor": "x1",
         "gridcolor": "rgb(255,255,255)",
         "range": [
          0
         ],
         "showgrid": true,
         "showline": false,
         "showticklabels": true,
         "tickcolor": "rgb(127,127,127)",
         "ticks": "outside",
         "title": "RT (s)",
         "zeroline": false
        },
        "yaxis2": {
         "anchor": "x2",
         "gridcolor": "rgb(255,255,255)",
         "range": [
          0
         ],
         "showgrid": true,
         "showline": false,
         "showticklabels": true,
         "tickcolor": "rgb(127,127,127)",
         "ticks": "outside",
         "title": "p (accept)",
         "zeroline": false
        }
       }
      },
      "text/html": [
       "<div id=\"b18c3eb4-fb56-4cca-9879-2f70f8ddf012\" style=\"height: 525px; width: 100%;\" class=\"plotly-graph-div\"></div><script type=\"text/javascript\">require([\"plotly\"], function(Plotly) { window.PLOTLYENV=window.PLOTLYENV || {};window.PLOTLYENV.BASE_URL=\"https://plot.ly\";Plotly.newPlot(\"b18c3eb4-fb56-4cca-9879-2f70f8ddf012\", [{\"type\": \"scatter\", \"x\": [-1.9084615384615384, -0.7883333333333333, -0.28647058823529414, 0.029210526315789458, 0.3188888888888888, 0.7157894736842105, 1.679230769230769], \"y\": [2.9552737949953354, 2.3677408923168626, 2.4658561379029003, 2.5238267371215017, 2.289951914292436, 2.5536627034874226, 2.1475658100937896], \"error_y\": {\"type\": \"data\", \"array\": [0.3567010076126107, 0.2103499017404514, 0.23592121519616596, 0.14616530230162392, 0.1637560550610461, 0.20646263968004017, 0.15110877526032843], \"color\": \"rgb(0,170,80)\", \"visible\": true}, \"line\": {\"color\": \"rgb(0,100,80)\"}, \"mode\": \"lines+markers\", \"name\": \"Test Data\"}, {\"type\": \"scatter\", \"x\": [-1.9084615384615384, -0.7883333333333333, -0.28647058823529414, 0.029210526315789458, 0.3188888888888888, 0.7157894736842105, 1.679230769230769], \"y\": [2.6657496531524645, 3.2100089015787443, 3.392461474286387, 3.358452535102442, 3.3911873278237032, 3.228458569987795, 2.7663945491692803], \"error_y\": {\"type\": \"data\", \"array\": [0.012243475930010683, 0.013487302648835409, 0.014750482786261265, 0.00986291588682282, 0.014378417316893568, 0.013173368957108723, 0.00934102001080703], \"color\": \"rgb(0,100,246)\", \"visible\": true}, \"line\": {\"color\": \"rgb(0,176,246)\"}, \"mode\": \"lines+markers\", \"name\": \"Sim Data\"}, {\"type\": \"scatter\", \"x\": [-1.9084615384615384, -0.7883333333333333, -0.28647058823529414, 0.029210526315789458, 0.3188888888888888, 0.7157894736842105, 1.679230769230769], \"y\": [0.0, 0.3888888888888889, 0.29411764705882354, 0.631578947368421, 0.8333333333333334, 0.6842105263157895, 1.0], \"error_y\": {\"type\": \"data\", \"array\": [0.0, 0.11823563735376173, 0.11391127488845344, 0.0793021898421983, 0.0903876907577734, 0.10956136839295434, 0.0], \"color\": \"rgb(0,170,80)\", \"visible\": true}, \"line\": {\"color\": \"rgb(0,100,80)\"}, \"mode\": \"lines+markers\", \"name\": \"Test Data\", \"xaxis\": \"x2\", \"yaxis\": \"y2\"}, {\"type\": \"scatter\", \"x\": [-1.9084615384615384, -0.7883333333333333, -0.28647058823529414, 0.029210526315789458, 0.3188888888888888, 0.7157894736842105, 1.679230769230769], \"y\": [0.08547864960690613, 0.257306012764528, 0.39955902508789704, 0.5368875389657102, 0.6155057064147973, 0.7344869685227454, 0.8907906402991403], \"error_y\": {\"type\": \"data\", \"array\": [0.0024547402386237583, 0.0032709735794445045, 0.003781200049138299, 0.002573854790815038, 0.0036477229633208215, 0.0032174927113756214, 0.001936568070742919], \"color\": \"rgb(0,100,246)\", \"visible\": true}, \"line\": {\"color\": \"rgb(0,176,246)\"}, \"mode\": \"lines+markers\", \"name\": \"Sim Data\", \"xaxis\": \"x2\", \"yaxis\": \"y2\"}], {\"paper_bgcolor\": \"rgb(255,255,255)\", \"plot_bgcolor\": \"rgb(229,229,229)\", \"xaxis\": {\"gridcolor\": \"rgb(255,255,255)\", \"range\": [-2, 2], \"domain\": [0, 0.45], \"showgrid\": true, \"showline\": false, \"showticklabels\": true, \"tickcolor\": \"rgb(127,127,127)\", \"ticks\": \"outside\", \"title\": \"Net Value ($)\", \"zeroline\": false}, \"xaxis2\": {\"gridcolor\": \"rgb(255,255,255)\", \"range\": [-2, 2], \"domain\": [0.55, 1], \"showgrid\": true, \"showline\": false, \"showticklabels\": true, \"tickcolor\": \"rgb(127,127,127)\", \"ticks\": \"outside\", \"title\": \"Net Value ($)\", \"zeroline\": false}, \"yaxis1\": {\"gridcolor\": \"rgb(255,255,255)\", \"range\": [0], \"showgrid\": true, \"showline\": false, \"showticklabels\": true, \"tickcolor\": \"rgb(127,127,127)\", \"ticks\": \"outside\", \"title\": \"RT (s)\", \"anchor\": \"x1\", \"zeroline\": false}, \"yaxis2\": {\"gridcolor\": \"rgb(255,255,255)\", \"range\": [0], \"showgrid\": true, \"showline\": false, \"showticklabels\": true, \"tickcolor\": \"rgb(127,127,127)\", \"ticks\": \"outside\", \"title\": \"p (accept)\", \"anchor\": \"x2\", \"zeroline\": false}, \"annotations\": [{\"x\": 0.01, \"y\": 1.12, \"showarrow\": false, \"text\": \"PARAMETERS: v: 0.051, a: 0.164, \\u03b8: 0.55\", \"xref\": \"paper\", \"yref\": \"paper\"}, {\"x\": 0.01, \"y\": 1.08, \"showarrow\": false, \"text\": \"MLE: 625.87\", \"xref\": \"paper\", \"yref\": \"paper\"}, {\"x\": 0.01, \"y\": 1.2, \"showarrow\": false, \"text\": \"SUBJECT: 15\", \"font\": {\"family\": \"Arial, sans-serif\", \"size\": 22}, \"xref\": \"paper\", \"yref\": \"paper\"}]}, {\"showLink\": true, \"linkText\": \"Export to plot.ly\"})});</script>"
      ],
      "text/vnd.plotly.v1+html": [
       "<div id=\"b18c3eb4-fb56-4cca-9879-2f70f8ddf012\" style=\"height: 525px; width: 100%;\" class=\"plotly-graph-div\"></div><script type=\"text/javascript\">require([\"plotly\"], function(Plotly) { window.PLOTLYENV=window.PLOTLYENV || {};window.PLOTLYENV.BASE_URL=\"https://plot.ly\";Plotly.newPlot(\"b18c3eb4-fb56-4cca-9879-2f70f8ddf012\", [{\"type\": \"scatter\", \"x\": [-1.9084615384615384, -0.7883333333333333, -0.28647058823529414, 0.029210526315789458, 0.3188888888888888, 0.7157894736842105, 1.679230769230769], \"y\": [2.9552737949953354, 2.3677408923168626, 2.4658561379029003, 2.5238267371215017, 2.289951914292436, 2.5536627034874226, 2.1475658100937896], \"error_y\": {\"type\": \"data\", \"array\": [0.3567010076126107, 0.2103499017404514, 0.23592121519616596, 0.14616530230162392, 0.1637560550610461, 0.20646263968004017, 0.15110877526032843], \"color\": \"rgb(0,170,80)\", \"visible\": true}, \"line\": {\"color\": \"rgb(0,100,80)\"}, \"mode\": \"lines+markers\", \"name\": \"Test Data\"}, {\"type\": \"scatter\", \"x\": [-1.9084615384615384, -0.7883333333333333, -0.28647058823529414, 0.029210526315789458, 0.3188888888888888, 0.7157894736842105, 1.679230769230769], \"y\": [2.6657496531524645, 3.2100089015787443, 3.392461474286387, 3.358452535102442, 3.3911873278237032, 3.228458569987795, 2.7663945491692803], \"error_y\": {\"type\": \"data\", \"array\": [0.012243475930010683, 0.013487302648835409, 0.014750482786261265, 0.00986291588682282, 0.014378417316893568, 0.013173368957108723, 0.00934102001080703], \"color\": \"rgb(0,100,246)\", \"visible\": true}, \"line\": {\"color\": \"rgb(0,176,246)\"}, \"mode\": \"lines+markers\", \"name\": \"Sim Data\"}, {\"type\": \"scatter\", \"x\": [-1.9084615384615384, -0.7883333333333333, -0.28647058823529414, 0.029210526315789458, 0.3188888888888888, 0.7157894736842105, 1.679230769230769], \"y\": [0.0, 0.3888888888888889, 0.29411764705882354, 0.631578947368421, 0.8333333333333334, 0.6842105263157895, 1.0], \"error_y\": {\"type\": \"data\", \"array\": [0.0, 0.11823563735376173, 0.11391127488845344, 0.0793021898421983, 0.0903876907577734, 0.10956136839295434, 0.0], \"color\": \"rgb(0,170,80)\", \"visible\": true}, \"line\": {\"color\": \"rgb(0,100,80)\"}, \"mode\": \"lines+markers\", \"name\": \"Test Data\", \"xaxis\": \"x2\", \"yaxis\": \"y2\"}, {\"type\": \"scatter\", \"x\": [-1.9084615384615384, -0.7883333333333333, -0.28647058823529414, 0.029210526315789458, 0.3188888888888888, 0.7157894736842105, 1.679230769230769], \"y\": [0.08547864960690613, 0.257306012764528, 0.39955902508789704, 0.5368875389657102, 0.6155057064147973, 0.7344869685227454, 0.8907906402991403], \"error_y\": {\"type\": \"data\", \"array\": [0.0024547402386237583, 0.0032709735794445045, 0.003781200049138299, 0.002573854790815038, 0.0036477229633208215, 0.0032174927113756214, 0.001936568070742919], \"color\": \"rgb(0,100,246)\", \"visible\": true}, \"line\": {\"color\": \"rgb(0,176,246)\"}, \"mode\": \"lines+markers\", \"name\": \"Sim Data\", \"xaxis\": \"x2\", \"yaxis\": \"y2\"}], {\"paper_bgcolor\": \"rgb(255,255,255)\", \"plot_bgcolor\": \"rgb(229,229,229)\", \"xaxis\": {\"gridcolor\": \"rgb(255,255,255)\", \"range\": [-2, 2], \"domain\": [0, 0.45], \"showgrid\": true, \"showline\": false, \"showticklabels\": true, \"tickcolor\": \"rgb(127,127,127)\", \"ticks\": \"outside\", \"title\": \"Net Value ($)\", \"zeroline\": false}, \"xaxis2\": {\"gridcolor\": \"rgb(255,255,255)\", \"range\": [-2, 2], \"domain\": [0.55, 1], \"showgrid\": true, \"showline\": false, \"showticklabels\": true, \"tickcolor\": \"rgb(127,127,127)\", \"ticks\": \"outside\", \"title\": \"Net Value ($)\", \"zeroline\": false}, \"yaxis1\": {\"gridcolor\": \"rgb(255,255,255)\", \"range\": [0], \"showgrid\": true, \"showline\": false, \"showticklabels\": true, \"tickcolor\": \"rgb(127,127,127)\", \"ticks\": \"outside\", \"title\": \"RT (s)\", \"anchor\": \"x1\", \"zeroline\": false}, \"yaxis2\": {\"gridcolor\": \"rgb(255,255,255)\", \"range\": [0], \"showgrid\": true, \"showline\": false, \"showticklabels\": true, \"tickcolor\": \"rgb(127,127,127)\", \"ticks\": \"outside\", \"title\": \"p (accept)\", \"anchor\": \"x2\", \"zeroline\": false}, \"annotations\": [{\"x\": 0.01, \"y\": 1.12, \"showarrow\": false, \"text\": \"PARAMETERS: v: 0.051, a: 0.164, \\u03b8: 0.55\", \"xref\": \"paper\", \"yref\": \"paper\"}, {\"x\": 0.01, \"y\": 1.08, \"showarrow\": false, \"text\": \"MLE: 625.87\", \"xref\": \"paper\", \"yref\": \"paper\"}, {\"x\": 0.01, \"y\": 1.2, \"showarrow\": false, \"text\": \"SUBJECT: 15\", \"font\": {\"family\": \"Arial, sans-serif\", \"size\": 22}, \"xref\": \"paper\", \"yref\": \"paper\"}]}, {\"showLink\": true, \"linkText\": \"Export to plot.ly\"})});</script>"
      ]
     },
     "metadata": {},
     "output_type": "display_data"
    },
    {
     "data": {
      "application/vnd.plotly.v1+json": {
       "data": [
        {
         "error_y": {
          "array": [
           0.5155993844089763,
           0.4371406107692443,
           0.42851767156685155,
           0.3827105295676191,
           0.573180326126223,
           0.4453286957032869,
           0.2816722892419483
          ],
          "color": "rgb(0,170,80)",
          "type": "data",
          "visible": true
         },
         "line": {
          "color": "rgb(0,100,80)"
         },
         "mode": "lines+markers",
         "name": "Test Data",
         "type": "scatter",
         "x": [
          -1.596538461538462,
          -0.79375,
          -0.26629629629629636,
          0.03636363636363631,
          0.3371428571428572,
          0.7925000000000001,
          1.5489473684210522
         ],
         "y": [
          3.9572576339246908,
          3.201245195330557,
          4.084760400667114,
          4.246452928061692,
          3.614466961847419,
          3.3151928501989447,
          2.693178288522177
         ]
        },
        {
         "error_y": {
          "array": [
           0.009520271121625975,
           0.01438505720060092,
           0.011576511650588237,
           0.012881310929384179,
           0.016227547914048478,
           0.012813797159364525,
           0.01120216505761133
          ],
          "color": "rgb(0,100,246)",
          "type": "data",
          "visible": true
         },
         "line": {
          "color": "rgb(0,176,246)"
         },
         "mode": "lines+markers",
         "name": "Sim Data",
         "type": "scatter",
         "x": [
          -1.596538461538462,
          -0.79375,
          -0.26629629629629636,
          0.03636363636363631,
          0.3371428571428572,
          0.7925000000000001,
          1.5489473684210522
         ],
         "y": [
          2.8255016388385354,
          3.1760740997666836,
          3.3695853859708387,
          3.3759551131388426,
          3.3710142505787273,
          3.2134139236672037,
          2.8054766956980783
         ]
        },
        {
         "error_y": {
          "array": [
           0.038461538461538464,
           0.0625,
           0.07618086585254095,
           0.10729033533674225,
           0.11380392954509881,
           0,
           0.05263157894736841
          ],
          "color": "rgb(0,170,80)",
          "type": "data",
          "visible": true
         },
         "line": {
          "color": "rgb(0,100,80)"
         },
         "mode": "lines+markers",
         "name": "Test Data",
         "type": "scatter",
         "x": [
          -1.596538461538462,
          -0.79375,
          -0.26629629629629636,
          0.03636363636363631,
          0.3371428571428572,
          0.7925000000000001,
          1.5489473684210522
         ],
         "xaxis": "x2",
         "y": [
          0.038461538461538464,
          0.0625,
          0.18518518518518517,
          0.5909090909090909,
          0.7857142857142857,
          1,
          0.9473684210526315
         ],
         "yaxis": "y2"
        },
        {
         "error_y": {
          "array": [
           0.00203934130917998,
           0.0034973215660446446,
           0.0030257222336317084,
           0.003394068132166577,
           0.00410583902582078,
           0.003165918561064606,
           0.0024023415042741156
          ],
          "color": "rgb(0,100,246)",
          "type": "data",
          "visible": true
         },
         "line": {
          "color": "rgb(0,176,246)"
         },
         "mode": "lines+markers",
         "name": "Sim Data",
         "type": "scatter",
         "x": [
          -1.596538461538462,
          -0.79375,
          -0.26629629629629636,
          0.03636363636363631,
          0.3371428571428572,
          0.7925000000000001,
          1.5489473684210522
         ],
         "xaxis": "x2",
         "y": [
          0.12297073227162303,
          0.2632275966450148,
          0.42372436546320247,
          0.4932485367989308,
          0.6302806712962963,
          0.7268780290791599,
          0.8750593824228029
         ],
         "yaxis": "y2"
        }
       ],
       "layout": {
        "annotations": [
         {
          "showarrow": false,
          "text": "PARAMETERS: v: 0.051, a: 0.164, θ: 0.55",
          "x": 0.01,
          "xref": "paper",
          "y": 1.12,
          "yref": "paper"
         },
         {
          "showarrow": false,
          "text": "MLE: 675.49",
          "x": 0.01,
          "xref": "paper",
          "y": 1.08,
          "yref": "paper"
         },
         {
          "font": {
           "family": "Arial, sans-serif",
           "size": 22
          },
          "showarrow": false,
          "text": "SUBJECT: 16",
          "x": 0.01,
          "xref": "paper",
          "y": 1.2,
          "yref": "paper"
         }
        ],
        "paper_bgcolor": "rgb(255,255,255)",
        "plot_bgcolor": "rgb(229,229,229)",
        "xaxis": {
         "domain": [
          0,
          0.45
         ],
         "gridcolor": "rgb(255,255,255)",
         "range": [
          -2,
          2
         ],
         "showgrid": true,
         "showline": false,
         "showticklabels": true,
         "tickcolor": "rgb(127,127,127)",
         "ticks": "outside",
         "title": "Net Value ($)",
         "zeroline": false
        },
        "xaxis2": {
         "domain": [
          0.55,
          1
         ],
         "gridcolor": "rgb(255,255,255)",
         "range": [
          -2,
          2
         ],
         "showgrid": true,
         "showline": false,
         "showticklabels": true,
         "tickcolor": "rgb(127,127,127)",
         "ticks": "outside",
         "title": "Net Value ($)",
         "zeroline": false
        },
        "yaxis1": {
         "anchor": "x1",
         "gridcolor": "rgb(255,255,255)",
         "range": [
          0
         ],
         "showgrid": true,
         "showline": false,
         "showticklabels": true,
         "tickcolor": "rgb(127,127,127)",
         "ticks": "outside",
         "title": "RT (s)",
         "zeroline": false
        },
        "yaxis2": {
         "anchor": "x2",
         "gridcolor": "rgb(255,255,255)",
         "range": [
          0
         ],
         "showgrid": true,
         "showline": false,
         "showticklabels": true,
         "tickcolor": "rgb(127,127,127)",
         "ticks": "outside",
         "title": "p (accept)",
         "zeroline": false
        }
       }
      },
      "text/html": [
       "<div id=\"913bf07f-b1ef-493b-bd97-3804cc725d6b\" style=\"height: 525px; width: 100%;\" class=\"plotly-graph-div\"></div><script type=\"text/javascript\">require([\"plotly\"], function(Plotly) { window.PLOTLYENV=window.PLOTLYENV || {};window.PLOTLYENV.BASE_URL=\"https://plot.ly\";Plotly.newPlot(\"913bf07f-b1ef-493b-bd97-3804cc725d6b\", [{\"type\": \"scatter\", \"x\": [-1.596538461538462, -0.79375, -0.26629629629629636, 0.03636363636363631, 0.3371428571428572, 0.7925000000000001, 1.5489473684210522], \"y\": [3.9572576339246908, 3.201245195330557, 4.084760400667114, 4.246452928061692, 3.614466961847419, 3.3151928501989447, 2.693178288522177], \"error_y\": {\"type\": \"data\", \"array\": [0.5155993844089763, 0.4371406107692443, 0.42851767156685155, 0.3827105295676191, 0.573180326126223, 0.4453286957032869, 0.2816722892419483], \"color\": \"rgb(0,170,80)\", \"visible\": true}, \"line\": {\"color\": \"rgb(0,100,80)\"}, \"mode\": \"lines+markers\", \"name\": \"Test Data\"}, {\"type\": \"scatter\", \"x\": [-1.596538461538462, -0.79375, -0.26629629629629636, 0.03636363636363631, 0.3371428571428572, 0.7925000000000001, 1.5489473684210522], \"y\": [2.8255016388385354, 3.1760740997666836, 3.3695853859708387, 3.3759551131388426, 3.3710142505787273, 3.2134139236672037, 2.8054766956980783], \"error_y\": {\"type\": \"data\", \"array\": [0.009520271121625975, 0.01438505720060092, 0.011576511650588237, 0.012881310929384179, 0.016227547914048478, 0.012813797159364525, 0.01120216505761133], \"color\": \"rgb(0,100,246)\", \"visible\": true}, \"line\": {\"color\": \"rgb(0,176,246)\"}, \"mode\": \"lines+markers\", \"name\": \"Sim Data\"}, {\"type\": \"scatter\", \"x\": [-1.596538461538462, -0.79375, -0.26629629629629636, 0.03636363636363631, 0.3371428571428572, 0.7925000000000001, 1.5489473684210522], \"y\": [0.038461538461538464, 0.0625, 0.18518518518518517, 0.5909090909090909, 0.7857142857142857, 1.0, 0.9473684210526315], \"error_y\": {\"type\": \"data\", \"array\": [0.038461538461538464, 0.0625, 0.07618086585254095, 0.10729033533674225, 0.11380392954509881, 0.0, 0.05263157894736841], \"color\": \"rgb(0,170,80)\", \"visible\": true}, \"line\": {\"color\": \"rgb(0,100,80)\"}, \"mode\": \"lines+markers\", \"name\": \"Test Data\", \"xaxis\": \"x2\", \"yaxis\": \"y2\"}, {\"type\": \"scatter\", \"x\": [-1.596538461538462, -0.79375, -0.26629629629629636, 0.03636363636363631, 0.3371428571428572, 0.7925000000000001, 1.5489473684210522], \"y\": [0.12297073227162303, 0.2632275966450148, 0.42372436546320247, 0.4932485367989308, 0.6302806712962963, 0.7268780290791599, 0.8750593824228029], \"error_y\": {\"type\": \"data\", \"array\": [0.00203934130917998, 0.0034973215660446446, 0.0030257222336317084, 0.003394068132166577, 0.00410583902582078, 0.003165918561064606, 0.0024023415042741156], \"color\": \"rgb(0,100,246)\", \"visible\": true}, \"line\": {\"color\": \"rgb(0,176,246)\"}, \"mode\": \"lines+markers\", \"name\": \"Sim Data\", \"xaxis\": \"x2\", \"yaxis\": \"y2\"}], {\"paper_bgcolor\": \"rgb(255,255,255)\", \"plot_bgcolor\": \"rgb(229,229,229)\", \"xaxis\": {\"gridcolor\": \"rgb(255,255,255)\", \"range\": [-2, 2], \"domain\": [0, 0.45], \"showgrid\": true, \"showline\": false, \"showticklabels\": true, \"tickcolor\": \"rgb(127,127,127)\", \"ticks\": \"outside\", \"title\": \"Net Value ($)\", \"zeroline\": false}, \"xaxis2\": {\"gridcolor\": \"rgb(255,255,255)\", \"range\": [-2, 2], \"domain\": [0.55, 1], \"showgrid\": true, \"showline\": false, \"showticklabels\": true, \"tickcolor\": \"rgb(127,127,127)\", \"ticks\": \"outside\", \"title\": \"Net Value ($)\", \"zeroline\": false}, \"yaxis1\": {\"gridcolor\": \"rgb(255,255,255)\", \"range\": [0], \"showgrid\": true, \"showline\": false, \"showticklabels\": true, \"tickcolor\": \"rgb(127,127,127)\", \"ticks\": \"outside\", \"title\": \"RT (s)\", \"anchor\": \"x1\", \"zeroline\": false}, \"yaxis2\": {\"gridcolor\": \"rgb(255,255,255)\", \"range\": [0], \"showgrid\": true, \"showline\": false, \"showticklabels\": true, \"tickcolor\": \"rgb(127,127,127)\", \"ticks\": \"outside\", \"title\": \"p (accept)\", \"anchor\": \"x2\", \"zeroline\": false}, \"annotations\": [{\"x\": 0.01, \"y\": 1.12, \"showarrow\": false, \"text\": \"PARAMETERS: v: 0.051, a: 0.164, \\u03b8: 0.55\", \"xref\": \"paper\", \"yref\": \"paper\"}, {\"x\": 0.01, \"y\": 1.08, \"showarrow\": false, \"text\": \"MLE: 675.49\", \"xref\": \"paper\", \"yref\": \"paper\"}, {\"x\": 0.01, \"y\": 1.2, \"showarrow\": false, \"text\": \"SUBJECT: 16\", \"font\": {\"family\": \"Arial, sans-serif\", \"size\": 22}, \"xref\": \"paper\", \"yref\": \"paper\"}]}, {\"showLink\": true, \"linkText\": \"Export to plot.ly\"})});</script>"
      ],
      "text/vnd.plotly.v1+html": [
       "<div id=\"913bf07f-b1ef-493b-bd97-3804cc725d6b\" style=\"height: 525px; width: 100%;\" class=\"plotly-graph-div\"></div><script type=\"text/javascript\">require([\"plotly\"], function(Plotly) { window.PLOTLYENV=window.PLOTLYENV || {};window.PLOTLYENV.BASE_URL=\"https://plot.ly\";Plotly.newPlot(\"913bf07f-b1ef-493b-bd97-3804cc725d6b\", [{\"type\": \"scatter\", \"x\": [-1.596538461538462, -0.79375, -0.26629629629629636, 0.03636363636363631, 0.3371428571428572, 0.7925000000000001, 1.5489473684210522], \"y\": [3.9572576339246908, 3.201245195330557, 4.084760400667114, 4.246452928061692, 3.614466961847419, 3.3151928501989447, 2.693178288522177], \"error_y\": {\"type\": \"data\", \"array\": [0.5155993844089763, 0.4371406107692443, 0.42851767156685155, 0.3827105295676191, 0.573180326126223, 0.4453286957032869, 0.2816722892419483], \"color\": \"rgb(0,170,80)\", \"visible\": true}, \"line\": {\"color\": \"rgb(0,100,80)\"}, \"mode\": \"lines+markers\", \"name\": \"Test Data\"}, {\"type\": \"scatter\", \"x\": [-1.596538461538462, -0.79375, -0.26629629629629636, 0.03636363636363631, 0.3371428571428572, 0.7925000000000001, 1.5489473684210522], \"y\": [2.8255016388385354, 3.1760740997666836, 3.3695853859708387, 3.3759551131388426, 3.3710142505787273, 3.2134139236672037, 2.8054766956980783], \"error_y\": {\"type\": \"data\", \"array\": [0.009520271121625975, 0.01438505720060092, 0.011576511650588237, 0.012881310929384179, 0.016227547914048478, 0.012813797159364525, 0.01120216505761133], \"color\": \"rgb(0,100,246)\", \"visible\": true}, \"line\": {\"color\": \"rgb(0,176,246)\"}, \"mode\": \"lines+markers\", \"name\": \"Sim Data\"}, {\"type\": \"scatter\", \"x\": [-1.596538461538462, -0.79375, -0.26629629629629636, 0.03636363636363631, 0.3371428571428572, 0.7925000000000001, 1.5489473684210522], \"y\": [0.038461538461538464, 0.0625, 0.18518518518518517, 0.5909090909090909, 0.7857142857142857, 1.0, 0.9473684210526315], \"error_y\": {\"type\": \"data\", \"array\": [0.038461538461538464, 0.0625, 0.07618086585254095, 0.10729033533674225, 0.11380392954509881, 0.0, 0.05263157894736841], \"color\": \"rgb(0,170,80)\", \"visible\": true}, \"line\": {\"color\": \"rgb(0,100,80)\"}, \"mode\": \"lines+markers\", \"name\": \"Test Data\", \"xaxis\": \"x2\", \"yaxis\": \"y2\"}, {\"type\": \"scatter\", \"x\": [-1.596538461538462, -0.79375, -0.26629629629629636, 0.03636363636363631, 0.3371428571428572, 0.7925000000000001, 1.5489473684210522], \"y\": [0.12297073227162303, 0.2632275966450148, 0.42372436546320247, 0.4932485367989308, 0.6302806712962963, 0.7268780290791599, 0.8750593824228029], \"error_y\": {\"type\": \"data\", \"array\": [0.00203934130917998, 0.0034973215660446446, 0.0030257222336317084, 0.003394068132166577, 0.00410583902582078, 0.003165918561064606, 0.0024023415042741156], \"color\": \"rgb(0,100,246)\", \"visible\": true}, \"line\": {\"color\": \"rgb(0,176,246)\"}, \"mode\": \"lines+markers\", \"name\": \"Sim Data\", \"xaxis\": \"x2\", \"yaxis\": \"y2\"}], {\"paper_bgcolor\": \"rgb(255,255,255)\", \"plot_bgcolor\": \"rgb(229,229,229)\", \"xaxis\": {\"gridcolor\": \"rgb(255,255,255)\", \"range\": [-2, 2], \"domain\": [0, 0.45], \"showgrid\": true, \"showline\": false, \"showticklabels\": true, \"tickcolor\": \"rgb(127,127,127)\", \"ticks\": \"outside\", \"title\": \"Net Value ($)\", \"zeroline\": false}, \"xaxis2\": {\"gridcolor\": \"rgb(255,255,255)\", \"range\": [-2, 2], \"domain\": [0.55, 1], \"showgrid\": true, \"showline\": false, \"showticklabels\": true, \"tickcolor\": \"rgb(127,127,127)\", \"ticks\": \"outside\", \"title\": \"Net Value ($)\", \"zeroline\": false}, \"yaxis1\": {\"gridcolor\": \"rgb(255,255,255)\", \"range\": [0], \"showgrid\": true, \"showline\": false, \"showticklabels\": true, \"tickcolor\": \"rgb(127,127,127)\", \"ticks\": \"outside\", \"title\": \"RT (s)\", \"anchor\": \"x1\", \"zeroline\": false}, \"yaxis2\": {\"gridcolor\": \"rgb(255,255,255)\", \"range\": [0], \"showgrid\": true, \"showline\": false, \"showticklabels\": true, \"tickcolor\": \"rgb(127,127,127)\", \"ticks\": \"outside\", \"title\": \"p (accept)\", \"anchor\": \"x2\", \"zeroline\": false}, \"annotations\": [{\"x\": 0.01, \"y\": 1.12, \"showarrow\": false, \"text\": \"PARAMETERS: v: 0.051, a: 0.164, \\u03b8: 0.55\", \"xref\": \"paper\", \"yref\": \"paper\"}, {\"x\": 0.01, \"y\": 1.08, \"showarrow\": false, \"text\": \"MLE: 675.49\", \"xref\": \"paper\", \"yref\": \"paper\"}, {\"x\": 0.01, \"y\": 1.2, \"showarrow\": false, \"text\": \"SUBJECT: 16\", \"font\": {\"family\": \"Arial, sans-serif\", \"size\": 22}, \"xref\": \"paper\", \"yref\": \"paper\"}]}, {\"showLink\": true, \"linkText\": \"Export to plot.ly\"})});</script>"
      ]
     },
     "metadata": {},
     "output_type": "display_data"
    },
    {
     "data": {
      "application/vnd.plotly.v1+json": {
       "data": [
        {
         "error_y": {
          "array": [
           0.3186301028894171,
           0.33573353920319327,
           0.5125059552199829,
           0.2558821801821235,
           0.31212419771003,
           0.3220052859472622,
           0.060707629484974435
          ],
          "color": "rgb(0,170,80)",
          "type": "data",
          "visible": true
         },
         "line": {
          "color": "rgb(0,100,80)"
         },
         "mode": "lines+markers",
         "name": "Test Data",
         "type": "scatter",
         "x": [
          -1.8164285714285715,
          -0.763181818181818,
          -0.3170588235294118,
          0.023181818181818147,
          0.324,
          0.8175000000000001,
          1.630434782608696
         ],
         "y": [
          2.088870704373611,
          2.7569758453887934,
          3.795318903062519,
          2.4751631152890194,
          2.5676745259319445,
          2.361632085216116,
          1.311077429497938
         ]
        },
        {
         "error_y": {
          "array": [
           0.004916038171483772,
           0.006135244432242189,
           0.00730793923688316,
           0.006181051679470989,
           0.0068625662323116565,
           0.00715489286017614,
           0.0055081038276068835
          ],
          "color": "rgb(0,100,246)",
          "type": "data",
          "visible": true
         },
         "line": {
          "color": "rgb(0,176,246)"
         },
         "mode": "lines+markers",
         "name": "Sim Data",
         "type": "scatter",
         "x": [
          -1.8164285714285715,
          -0.763181818181818,
          -0.3170588235294118,
          0.023181818181818147,
          0.324,
          0.8175000000000001,
          1.630434782608696
         ],
         "y": [
          1.8170912499999925,
          1.918158528823408,
          1.9741275957409194,
          1.9309200909090714,
          1.9869199500000005,
          1.9239935000000101,
          1.847395652173917
         ]
        },
        {
         "error_y": {
          "array": [
           0,
           0.04545454545454545,
           0.11947115300935236,
           0.1049727762162956,
           0.08191780219091252,
           0,
           0
          ],
          "color": "rgb(0,170,80)",
          "type": "data",
          "visible": true
         },
         "line": {
          "color": "rgb(0,100,80)"
         },
         "mode": "lines+markers",
         "name": "Test Data",
         "type": "scatter",
         "x": [
          -1.8164285714285715,
          -0.763181818181818,
          -0.3170588235294118,
          0.023181818181818147,
          0.324,
          0.8175000000000001,
          1.630434782608696
         ],
         "xaxis": "x2",
         "y": [
          0,
          0.045454545454545456,
          0.35294117647058826,
          0.6363636363636364,
          0.85,
          1,
          1
         ],
         "yaxis": "y2"
        },
        {
         "error_y": {
          "array": [
           0.0024676639542217057,
           0.003225797813585017,
           0.00379653926163855,
           0.003371075580297224,
           0.0035086435276286345,
           0.0037902041967406977,
           0.0028219018524011166
          ],
          "color": "rgb(0,100,246)",
          "type": "data",
          "visible": true
         },
         "line": {
          "color": "rgb(0,176,246)"
         },
         "mode": "lines+markers",
         "name": "Sim Data",
         "type": "scatter",
         "x": [
          -1.8164285714285715,
          -0.763181818181818,
          -0.3170588235294118,
          0.023181818181818147,
          0.324,
          0.8175000000000001,
          1.630434782608696
         ],
         "xaxis": "x2",
         "y": [
          0.21803571428571428,
          0.35465539188943446,
          0.4293193717277487,
          0.49977272727272726,
          0.56165,
          0.642,
          0.7585652173913043
         ],
         "yaxis": "y2"
        }
       ],
       "layout": {
        "annotations": [
         {
          "showarrow": false,
          "text": "PARAMETERS: v: 0.051, a: 0.107, θ: 0.325",
          "x": 0.01,
          "xref": "paper",
          "y": 1.12,
          "yref": "paper"
         },
         {
          "showarrow": false,
          "text": "MLE: 620.75",
          "x": 0.01,
          "xref": "paper",
          "y": 1.08,
          "yref": "paper"
         },
         {
          "font": {
           "family": "Arial, sans-serif",
           "size": 22
          },
          "showarrow": false,
          "text": "SUBJECT: 17",
          "x": 0.01,
          "xref": "paper",
          "y": 1.2,
          "yref": "paper"
         }
        ],
        "paper_bgcolor": "rgb(255,255,255)",
        "plot_bgcolor": "rgb(229,229,229)",
        "xaxis": {
         "domain": [
          0,
          0.45
         ],
         "gridcolor": "rgb(255,255,255)",
         "range": [
          -2,
          2
         ],
         "showgrid": true,
         "showline": false,
         "showticklabels": true,
         "tickcolor": "rgb(127,127,127)",
         "ticks": "outside",
         "title": "Net Value ($)",
         "zeroline": false
        },
        "xaxis2": {
         "domain": [
          0.55,
          1
         ],
         "gridcolor": "rgb(255,255,255)",
         "range": [
          -2,
          2
         ],
         "showgrid": true,
         "showline": false,
         "showticklabels": true,
         "tickcolor": "rgb(127,127,127)",
         "ticks": "outside",
         "title": "Net Value ($)",
         "zeroline": false
        },
        "yaxis1": {
         "anchor": "x1",
         "gridcolor": "rgb(255,255,255)",
         "range": [
          0
         ],
         "showgrid": true,
         "showline": false,
         "showticklabels": true,
         "tickcolor": "rgb(127,127,127)",
         "ticks": "outside",
         "title": "RT (s)",
         "zeroline": false
        },
        "yaxis2": {
         "anchor": "x2",
         "gridcolor": "rgb(255,255,255)",
         "range": [
          0
         ],
         "showgrid": true,
         "showline": false,
         "showticklabels": true,
         "tickcolor": "rgb(127,127,127)",
         "ticks": "outside",
         "title": "p (accept)",
         "zeroline": false
        }
       }
      },
      "text/html": [
       "<div id=\"34e1dcae-4863-4324-9904-792c25935616\" style=\"height: 525px; width: 100%;\" class=\"plotly-graph-div\"></div><script type=\"text/javascript\">require([\"plotly\"], function(Plotly) { window.PLOTLYENV=window.PLOTLYENV || {};window.PLOTLYENV.BASE_URL=\"https://plot.ly\";Plotly.newPlot(\"34e1dcae-4863-4324-9904-792c25935616\", [{\"type\": \"scatter\", \"x\": [-1.8164285714285715, -0.763181818181818, -0.3170588235294118, 0.023181818181818147, 0.324, 0.8175000000000001, 1.630434782608696], \"y\": [2.088870704373611, 2.7569758453887934, 3.795318903062519, 2.4751631152890194, 2.5676745259319445, 2.361632085216116, 1.311077429497938], \"error_y\": {\"type\": \"data\", \"array\": [0.3186301028894171, 0.33573353920319327, 0.5125059552199829, 0.2558821801821235, 0.31212419771003, 0.3220052859472622, 0.060707629484974435], \"color\": \"rgb(0,170,80)\", \"visible\": true}, \"line\": {\"color\": \"rgb(0,100,80)\"}, \"mode\": \"lines+markers\", \"name\": \"Test Data\"}, {\"type\": \"scatter\", \"x\": [-1.8164285714285715, -0.763181818181818, -0.3170588235294118, 0.023181818181818147, 0.324, 0.8175000000000001, 1.630434782608696], \"y\": [1.8170912499999925, 1.918158528823408, 1.9741275957409194, 1.9309200909090714, 1.9869199500000005, 1.9239935000000101, 1.847395652173917], \"error_y\": {\"type\": \"data\", \"array\": [0.004916038171483772, 0.006135244432242189, 0.00730793923688316, 0.006181051679470989, 0.0068625662323116565, 0.00715489286017614, 0.0055081038276068835], \"color\": \"rgb(0,100,246)\", \"visible\": true}, \"line\": {\"color\": \"rgb(0,176,246)\"}, \"mode\": \"lines+markers\", \"name\": \"Sim Data\"}, {\"type\": \"scatter\", \"x\": [-1.8164285714285715, -0.763181818181818, -0.3170588235294118, 0.023181818181818147, 0.324, 0.8175000000000001, 1.630434782608696], \"y\": [0.0, 0.045454545454545456, 0.35294117647058826, 0.6363636363636364, 0.85, 1.0, 1.0], \"error_y\": {\"type\": \"data\", \"array\": [0.0, 0.04545454545454545, 0.11947115300935236, 0.1049727762162956, 0.08191780219091252, 0.0, 0.0], \"color\": \"rgb(0,170,80)\", \"visible\": true}, \"line\": {\"color\": \"rgb(0,100,80)\"}, \"mode\": \"lines+markers\", \"name\": \"Test Data\", \"xaxis\": \"x2\", \"yaxis\": \"y2\"}, {\"type\": \"scatter\", \"x\": [-1.8164285714285715, -0.763181818181818, -0.3170588235294118, 0.023181818181818147, 0.324, 0.8175000000000001, 1.630434782608696], \"y\": [0.21803571428571428, 0.35465539188943446, 0.4293193717277487, 0.49977272727272726, 0.56165, 0.642, 0.7585652173913043], \"error_y\": {\"type\": \"data\", \"array\": [0.0024676639542217057, 0.003225797813585017, 0.00379653926163855, 0.003371075580297224, 0.0035086435276286345, 0.0037902041967406977, 0.0028219018524011166], \"color\": \"rgb(0,100,246)\", \"visible\": true}, \"line\": {\"color\": \"rgb(0,176,246)\"}, \"mode\": \"lines+markers\", \"name\": \"Sim Data\", \"xaxis\": \"x2\", \"yaxis\": \"y2\"}], {\"paper_bgcolor\": \"rgb(255,255,255)\", \"plot_bgcolor\": \"rgb(229,229,229)\", \"xaxis\": {\"gridcolor\": \"rgb(255,255,255)\", \"range\": [-2, 2], \"domain\": [0, 0.45], \"showgrid\": true, \"showline\": false, \"showticklabels\": true, \"tickcolor\": \"rgb(127,127,127)\", \"ticks\": \"outside\", \"title\": \"Net Value ($)\", \"zeroline\": false}, \"xaxis2\": {\"gridcolor\": \"rgb(255,255,255)\", \"range\": [-2, 2], \"domain\": [0.55, 1], \"showgrid\": true, \"showline\": false, \"showticklabels\": true, \"tickcolor\": \"rgb(127,127,127)\", \"ticks\": \"outside\", \"title\": \"Net Value ($)\", \"zeroline\": false}, \"yaxis1\": {\"gridcolor\": \"rgb(255,255,255)\", \"range\": [0], \"showgrid\": true, \"showline\": false, \"showticklabels\": true, \"tickcolor\": \"rgb(127,127,127)\", \"ticks\": \"outside\", \"title\": \"RT (s)\", \"anchor\": \"x1\", \"zeroline\": false}, \"yaxis2\": {\"gridcolor\": \"rgb(255,255,255)\", \"range\": [0], \"showgrid\": true, \"showline\": false, \"showticklabels\": true, \"tickcolor\": \"rgb(127,127,127)\", \"ticks\": \"outside\", \"title\": \"p (accept)\", \"anchor\": \"x2\", \"zeroline\": false}, \"annotations\": [{\"x\": 0.01, \"y\": 1.12, \"showarrow\": false, \"text\": \"PARAMETERS: v: 0.051, a: 0.107, \\u03b8: 0.325\", \"xref\": \"paper\", \"yref\": \"paper\"}, {\"x\": 0.01, \"y\": 1.08, \"showarrow\": false, \"text\": \"MLE: 620.75\", \"xref\": \"paper\", \"yref\": \"paper\"}, {\"x\": 0.01, \"y\": 1.2, \"showarrow\": false, \"text\": \"SUBJECT: 17\", \"font\": {\"family\": \"Arial, sans-serif\", \"size\": 22}, \"xref\": \"paper\", \"yref\": \"paper\"}]}, {\"showLink\": true, \"linkText\": \"Export to plot.ly\"})});</script>"
      ],
      "text/vnd.plotly.v1+html": [
       "<div id=\"34e1dcae-4863-4324-9904-792c25935616\" style=\"height: 525px; width: 100%;\" class=\"plotly-graph-div\"></div><script type=\"text/javascript\">require([\"plotly\"], function(Plotly) { window.PLOTLYENV=window.PLOTLYENV || {};window.PLOTLYENV.BASE_URL=\"https://plot.ly\";Plotly.newPlot(\"34e1dcae-4863-4324-9904-792c25935616\", [{\"type\": \"scatter\", \"x\": [-1.8164285714285715, -0.763181818181818, -0.3170588235294118, 0.023181818181818147, 0.324, 0.8175000000000001, 1.630434782608696], \"y\": [2.088870704373611, 2.7569758453887934, 3.795318903062519, 2.4751631152890194, 2.5676745259319445, 2.361632085216116, 1.311077429497938], \"error_y\": {\"type\": \"data\", \"array\": [0.3186301028894171, 0.33573353920319327, 0.5125059552199829, 0.2558821801821235, 0.31212419771003, 0.3220052859472622, 0.060707629484974435], \"color\": \"rgb(0,170,80)\", \"visible\": true}, \"line\": {\"color\": \"rgb(0,100,80)\"}, \"mode\": \"lines+markers\", \"name\": \"Test Data\"}, {\"type\": \"scatter\", \"x\": [-1.8164285714285715, -0.763181818181818, -0.3170588235294118, 0.023181818181818147, 0.324, 0.8175000000000001, 1.630434782608696], \"y\": [1.8170912499999925, 1.918158528823408, 1.9741275957409194, 1.9309200909090714, 1.9869199500000005, 1.9239935000000101, 1.847395652173917], \"error_y\": {\"type\": \"data\", \"array\": [0.004916038171483772, 0.006135244432242189, 0.00730793923688316, 0.006181051679470989, 0.0068625662323116565, 0.00715489286017614, 0.0055081038276068835], \"color\": \"rgb(0,100,246)\", \"visible\": true}, \"line\": {\"color\": \"rgb(0,176,246)\"}, \"mode\": \"lines+markers\", \"name\": \"Sim Data\"}, {\"type\": \"scatter\", \"x\": [-1.8164285714285715, -0.763181818181818, -0.3170588235294118, 0.023181818181818147, 0.324, 0.8175000000000001, 1.630434782608696], \"y\": [0.0, 0.045454545454545456, 0.35294117647058826, 0.6363636363636364, 0.85, 1.0, 1.0], \"error_y\": {\"type\": \"data\", \"array\": [0.0, 0.04545454545454545, 0.11947115300935236, 0.1049727762162956, 0.08191780219091252, 0.0, 0.0], \"color\": \"rgb(0,170,80)\", \"visible\": true}, \"line\": {\"color\": \"rgb(0,100,80)\"}, \"mode\": \"lines+markers\", \"name\": \"Test Data\", \"xaxis\": \"x2\", \"yaxis\": \"y2\"}, {\"type\": \"scatter\", \"x\": [-1.8164285714285715, -0.763181818181818, -0.3170588235294118, 0.023181818181818147, 0.324, 0.8175000000000001, 1.630434782608696], \"y\": [0.21803571428571428, 0.35465539188943446, 0.4293193717277487, 0.49977272727272726, 0.56165, 0.642, 0.7585652173913043], \"error_y\": {\"type\": \"data\", \"array\": [0.0024676639542217057, 0.003225797813585017, 0.00379653926163855, 0.003371075580297224, 0.0035086435276286345, 0.0037902041967406977, 0.0028219018524011166], \"color\": \"rgb(0,100,246)\", \"visible\": true}, \"line\": {\"color\": \"rgb(0,176,246)\"}, \"mode\": \"lines+markers\", \"name\": \"Sim Data\", \"xaxis\": \"x2\", \"yaxis\": \"y2\"}], {\"paper_bgcolor\": \"rgb(255,255,255)\", \"plot_bgcolor\": \"rgb(229,229,229)\", \"xaxis\": {\"gridcolor\": \"rgb(255,255,255)\", \"range\": [-2, 2], \"domain\": [0, 0.45], \"showgrid\": true, \"showline\": false, \"showticklabels\": true, \"tickcolor\": \"rgb(127,127,127)\", \"ticks\": \"outside\", \"title\": \"Net Value ($)\", \"zeroline\": false}, \"xaxis2\": {\"gridcolor\": \"rgb(255,255,255)\", \"range\": [-2, 2], \"domain\": [0.55, 1], \"showgrid\": true, \"showline\": false, \"showticklabels\": true, \"tickcolor\": \"rgb(127,127,127)\", \"ticks\": \"outside\", \"title\": \"Net Value ($)\", \"zeroline\": false}, \"yaxis1\": {\"gridcolor\": \"rgb(255,255,255)\", \"range\": [0], \"showgrid\": true, \"showline\": false, \"showticklabels\": true, \"tickcolor\": \"rgb(127,127,127)\", \"ticks\": \"outside\", \"title\": \"RT (s)\", \"anchor\": \"x1\", \"zeroline\": false}, \"yaxis2\": {\"gridcolor\": \"rgb(255,255,255)\", \"range\": [0], \"showgrid\": true, \"showline\": false, \"showticklabels\": true, \"tickcolor\": \"rgb(127,127,127)\", \"ticks\": \"outside\", \"title\": \"p (accept)\", \"anchor\": \"x2\", \"zeroline\": false}, \"annotations\": [{\"x\": 0.01, \"y\": 1.12, \"showarrow\": false, \"text\": \"PARAMETERS: v: 0.051, a: 0.107, \\u03b8: 0.325\", \"xref\": \"paper\", \"yref\": \"paper\"}, {\"x\": 0.01, \"y\": 1.08, \"showarrow\": false, \"text\": \"MLE: 620.75\", \"xref\": \"paper\", \"yref\": \"paper\"}, {\"x\": 0.01, \"y\": 1.2, \"showarrow\": false, \"text\": \"SUBJECT: 17\", \"font\": {\"family\": \"Arial, sans-serif\", \"size\": 22}, \"xref\": \"paper\", \"yref\": \"paper\"}]}, {\"showLink\": true, \"linkText\": \"Export to plot.ly\"})});</script>"
      ]
     },
     "metadata": {},
     "output_type": "display_data"
    },
    {
     "data": {
      "application/vnd.plotly.v1+json": {
       "data": [
        {
         "error_y": {
          "array": [
           0.3680509445291431,
           0.5755129816209081,
           0.38509362436182015,
           0.4491275041257742,
           0.852034916485681,
           0.5095410975414276,
           0.7068623972539727
          ],
          "color": "rgb(0,170,80)",
          "type": "data",
          "visible": true
         },
         "line": {
          "color": "rgb(0,100,80)"
         },
         "mode": "lines+markers",
         "name": "Test Data",
         "type": "scatter",
         "x": [
          -1.772083333333333,
          -0.8838461538461537,
          -0.33421052631578957,
          0.024333333333333297,
          0.3725,
          0.8125000000000002,
          1.83
         ],
         "y": [
          4.605736603489882,
          3.8519637532299393,
          5.324609208156624,
          5.217001316884611,
          5.507023673424556,
          4.792930399005855,
          4.728539617575007
         ]
        },
        {
         "error_y": {
          "array": [
           0.01458037556888633,
           0.022930602761064067,
           0.020053750362417116,
           0.016293264153164736,
           0.031030989923564796,
           0.02051799806293193,
           0.02199996099660767
          ],
          "color": "rgb(0,100,246)",
          "type": "data",
          "visible": true
         },
         "line": {
          "color": "rgb(0,176,246)"
         },
         "mode": "lines+markers",
         "name": "Sim Data",
         "type": "scatter",
         "x": [
          -1.772083333333333,
          -0.8838461538461537,
          -0.33421052631578957,
          0.024333333333333297,
          0.3725,
          0.8125000000000002,
          1.83
         ],
         "y": [
          4.586547729005073,
          5.329942605470556,
          5.517697555232372,
          5.533311047282374,
          5.557141676310129,
          5.267444979367237,
          4.493801668806161
         ]
        },
        {
         "error_y": {
          "array": [
           0,
           0,
           0.09609167675529229,
           0.08509629433967632,
           0.1889822365046136,
           0.11180339887498951,
           0.09999999999999999
          ],
          "color": "rgb(0,170,80)",
          "type": "data",
          "visible": true
         },
         "line": {
          "color": "rgb(0,100,80)"
         },
         "mode": "lines+markers",
         "name": "Test Data",
         "type": "scatter",
         "x": [
          -1.772083333333333,
          -0.8838461538461537,
          -0.33421052631578957,
          0.024333333333333297,
          0.3725,
          0.8125000000000002,
          1.83
         ],
         "xaxis": "x2",
         "y": [
          0,
          0,
          0.21052631578947367,
          0.3,
          0.5,
          0.75,
          0.9
         ],
         "yaxis": "y2"
        },
        {
         "error_y": {
          "array": [
           0.001469801578235233,
           0.003624682001790565,
           0.003941934563678602,
           0.003320506617403556,
           0.0061243061936848975,
           0.0032846092619633342,
           0.0020244955172399786
          ],
          "color": "rgb(0,100,246)",
          "type": "data",
          "visible": true
         },
         "line": {
          "color": "rgb(0,176,246)"
         },
         "mode": "lines+markers",
         "name": "Sim Data",
         "type": "scatter",
         "x": [
          -1.772083333333333,
          -0.8838461538461537,
          -0.33421052631578957,
          0.024333333333333297,
          0.3725,
          0.8125000000000002,
          1.83
         ],
         "xaxis": "x2",
         "y": [
          0.050755503743890956,
          0.17088548910523876,
          0.33984347946533694,
          0.5223155103844455,
          0.6521739130434783,
          0.8298945437872536,
          0.9600984167736414
         ],
         "yaxis": "y2"
        }
       ],
       "layout": {
        "annotations": [
         {
          "showarrow": false,
          "text": "PARAMETERS: v: 0.051, a: 0.279, θ: 0.325",
          "x": 0.01,
          "xref": "paper",
          "y": 1.12,
          "yref": "paper"
         },
         {
          "showarrow": false,
          "text": "MLE: 545.84",
          "x": 0.01,
          "xref": "paper",
          "y": 1.08,
          "yref": "paper"
         },
         {
          "font": {
           "family": "Arial, sans-serif",
           "size": 22
          },
          "showarrow": false,
          "text": "SUBJECT: 18",
          "x": 0.01,
          "xref": "paper",
          "y": 1.2,
          "yref": "paper"
         }
        ],
        "paper_bgcolor": "rgb(255,255,255)",
        "plot_bgcolor": "rgb(229,229,229)",
        "xaxis": {
         "domain": [
          0,
          0.45
         ],
         "gridcolor": "rgb(255,255,255)",
         "range": [
          -2,
          2
         ],
         "showgrid": true,
         "showline": false,
         "showticklabels": true,
         "tickcolor": "rgb(127,127,127)",
         "ticks": "outside",
         "title": "Net Value ($)",
         "zeroline": false
        },
        "xaxis2": {
         "domain": [
          0.55,
          1
         ],
         "gridcolor": "rgb(255,255,255)",
         "range": [
          -2,
          2
         ],
         "showgrid": true,
         "showline": false,
         "showticklabels": true,
         "tickcolor": "rgb(127,127,127)",
         "ticks": "outside",
         "title": "Net Value ($)",
         "zeroline": false
        },
        "yaxis1": {
         "anchor": "x1",
         "gridcolor": "rgb(255,255,255)",
         "range": [
          0
         ],
         "showgrid": true,
         "showline": false,
         "showticklabels": true,
         "tickcolor": "rgb(127,127,127)",
         "ticks": "outside",
         "title": "RT (s)",
         "zeroline": false
        },
        "yaxis2": {
         "anchor": "x2",
         "gridcolor": "rgb(255,255,255)",
         "range": [
          0
         ],
         "showgrid": true,
         "showline": false,
         "showticklabels": true,
         "tickcolor": "rgb(127,127,127)",
         "ticks": "outside",
         "title": "p (accept)",
         "zeroline": false
        }
       }
      },
      "text/html": [
       "<div id=\"a1b34c2a-cf10-4595-a8eb-7a868876ee9e\" style=\"height: 525px; width: 100%;\" class=\"plotly-graph-div\"></div><script type=\"text/javascript\">require([\"plotly\"], function(Plotly) { window.PLOTLYENV=window.PLOTLYENV || {};window.PLOTLYENV.BASE_URL=\"https://plot.ly\";Plotly.newPlot(\"a1b34c2a-cf10-4595-a8eb-7a868876ee9e\", [{\"type\": \"scatter\", \"x\": [-1.772083333333333, -0.8838461538461537, -0.33421052631578957, 0.024333333333333297, 0.3725, 0.8125000000000002, 1.83], \"y\": [4.605736603489882, 3.8519637532299393, 5.324609208156624, 5.217001316884611, 5.507023673424556, 4.792930399005855, 4.728539617575007], \"error_y\": {\"type\": \"data\", \"array\": [0.3680509445291431, 0.5755129816209081, 0.38509362436182015, 0.4491275041257742, 0.852034916485681, 0.5095410975414276, 0.7068623972539727], \"color\": \"rgb(0,170,80)\", \"visible\": true}, \"line\": {\"color\": \"rgb(0,100,80)\"}, \"mode\": \"lines+markers\", \"name\": \"Test Data\"}, {\"type\": \"scatter\", \"x\": [-1.772083333333333, -0.8838461538461537, -0.33421052631578957, 0.024333333333333297, 0.3725, 0.8125000000000002, 1.83], \"y\": [4.586547729005073, 5.329942605470556, 5.517697555232372, 5.533311047282374, 5.557141676310129, 5.267444979367237, 4.493801668806161], \"error_y\": {\"type\": \"data\", \"array\": [0.01458037556888633, 0.022930602761064067, 0.020053750362417116, 0.016293264153164736, 0.031030989923564796, 0.02051799806293193, 0.02199996099660767], \"color\": \"rgb(0,100,246)\", \"visible\": true}, \"line\": {\"color\": \"rgb(0,176,246)\"}, \"mode\": \"lines+markers\", \"name\": \"Sim Data\"}, {\"type\": \"scatter\", \"x\": [-1.772083333333333, -0.8838461538461537, -0.33421052631578957, 0.024333333333333297, 0.3725, 0.8125000000000002, 1.83], \"y\": [0.0, 0.0, 0.21052631578947367, 0.3, 0.5, 0.75, 0.9], \"error_y\": {\"type\": \"data\", \"array\": [0.0, 0.0, 0.09609167675529229, 0.08509629433967632, 0.1889822365046136, 0.11180339887498951, 0.09999999999999999], \"color\": \"rgb(0,170,80)\", \"visible\": true}, \"line\": {\"color\": \"rgb(0,100,80)\"}, \"mode\": \"lines+markers\", \"name\": \"Test Data\", \"xaxis\": \"x2\", \"yaxis\": \"y2\"}, {\"type\": \"scatter\", \"x\": [-1.772083333333333, -0.8838461538461537, -0.33421052631578957, 0.024333333333333297, 0.3725, 0.8125000000000002, 1.83], \"y\": [0.050755503743890956, 0.17088548910523876, 0.33984347946533694, 0.5223155103844455, 0.6521739130434783, 0.8298945437872536, 0.9600984167736414], \"error_y\": {\"type\": \"data\", \"array\": [0.001469801578235233, 0.003624682001790565, 0.003941934563678602, 0.003320506617403556, 0.0061243061936848975, 0.0032846092619633342, 0.0020244955172399786], \"color\": \"rgb(0,100,246)\", \"visible\": true}, \"line\": {\"color\": \"rgb(0,176,246)\"}, \"mode\": \"lines+markers\", \"name\": \"Sim Data\", \"xaxis\": \"x2\", \"yaxis\": \"y2\"}], {\"paper_bgcolor\": \"rgb(255,255,255)\", \"plot_bgcolor\": \"rgb(229,229,229)\", \"xaxis\": {\"gridcolor\": \"rgb(255,255,255)\", \"range\": [-2, 2], \"domain\": [0, 0.45], \"showgrid\": true, \"showline\": false, \"showticklabels\": true, \"tickcolor\": \"rgb(127,127,127)\", \"ticks\": \"outside\", \"title\": \"Net Value ($)\", \"zeroline\": false}, \"xaxis2\": {\"gridcolor\": \"rgb(255,255,255)\", \"range\": [-2, 2], \"domain\": [0.55, 1], \"showgrid\": true, \"showline\": false, \"showticklabels\": true, \"tickcolor\": \"rgb(127,127,127)\", \"ticks\": \"outside\", \"title\": \"Net Value ($)\", \"zeroline\": false}, \"yaxis1\": {\"gridcolor\": \"rgb(255,255,255)\", \"range\": [0], \"showgrid\": true, \"showline\": false, \"showticklabels\": true, \"tickcolor\": \"rgb(127,127,127)\", \"ticks\": \"outside\", \"title\": \"RT (s)\", \"anchor\": \"x1\", \"zeroline\": false}, \"yaxis2\": {\"gridcolor\": \"rgb(255,255,255)\", \"range\": [0], \"showgrid\": true, \"showline\": false, \"showticklabels\": true, \"tickcolor\": \"rgb(127,127,127)\", \"ticks\": \"outside\", \"title\": \"p (accept)\", \"anchor\": \"x2\", \"zeroline\": false}, \"annotations\": [{\"x\": 0.01, \"y\": 1.12, \"showarrow\": false, \"text\": \"PARAMETERS: v: 0.051, a: 0.279, \\u03b8: 0.325\", \"xref\": \"paper\", \"yref\": \"paper\"}, {\"x\": 0.01, \"y\": 1.08, \"showarrow\": false, \"text\": \"MLE: 545.84\", \"xref\": \"paper\", \"yref\": \"paper\"}, {\"x\": 0.01, \"y\": 1.2, \"showarrow\": false, \"text\": \"SUBJECT: 18\", \"font\": {\"family\": \"Arial, sans-serif\", \"size\": 22}, \"xref\": \"paper\", \"yref\": \"paper\"}]}, {\"showLink\": true, \"linkText\": \"Export to plot.ly\"})});</script>"
      ],
      "text/vnd.plotly.v1+html": [
       "<div id=\"a1b34c2a-cf10-4595-a8eb-7a868876ee9e\" style=\"height: 525px; width: 100%;\" class=\"plotly-graph-div\"></div><script type=\"text/javascript\">require([\"plotly\"], function(Plotly) { window.PLOTLYENV=window.PLOTLYENV || {};window.PLOTLYENV.BASE_URL=\"https://plot.ly\";Plotly.newPlot(\"a1b34c2a-cf10-4595-a8eb-7a868876ee9e\", [{\"type\": \"scatter\", \"x\": [-1.772083333333333, -0.8838461538461537, -0.33421052631578957, 0.024333333333333297, 0.3725, 0.8125000000000002, 1.83], \"y\": [4.605736603489882, 3.8519637532299393, 5.324609208156624, 5.217001316884611, 5.507023673424556, 4.792930399005855, 4.728539617575007], \"error_y\": {\"type\": \"data\", \"array\": [0.3680509445291431, 0.5755129816209081, 0.38509362436182015, 0.4491275041257742, 0.852034916485681, 0.5095410975414276, 0.7068623972539727], \"color\": \"rgb(0,170,80)\", \"visible\": true}, \"line\": {\"color\": \"rgb(0,100,80)\"}, \"mode\": \"lines+markers\", \"name\": \"Test Data\"}, {\"type\": \"scatter\", \"x\": [-1.772083333333333, -0.8838461538461537, -0.33421052631578957, 0.024333333333333297, 0.3725, 0.8125000000000002, 1.83], \"y\": [4.586547729005073, 5.329942605470556, 5.517697555232372, 5.533311047282374, 5.557141676310129, 5.267444979367237, 4.493801668806161], \"error_y\": {\"type\": \"data\", \"array\": [0.01458037556888633, 0.022930602761064067, 0.020053750362417116, 0.016293264153164736, 0.031030989923564796, 0.02051799806293193, 0.02199996099660767], \"color\": \"rgb(0,100,246)\", \"visible\": true}, \"line\": {\"color\": \"rgb(0,176,246)\"}, \"mode\": \"lines+markers\", \"name\": \"Sim Data\"}, {\"type\": \"scatter\", \"x\": [-1.772083333333333, -0.8838461538461537, -0.33421052631578957, 0.024333333333333297, 0.3725, 0.8125000000000002, 1.83], \"y\": [0.0, 0.0, 0.21052631578947367, 0.3, 0.5, 0.75, 0.9], \"error_y\": {\"type\": \"data\", \"array\": [0.0, 0.0, 0.09609167675529229, 0.08509629433967632, 0.1889822365046136, 0.11180339887498951, 0.09999999999999999], \"color\": \"rgb(0,170,80)\", \"visible\": true}, \"line\": {\"color\": \"rgb(0,100,80)\"}, \"mode\": \"lines+markers\", \"name\": \"Test Data\", \"xaxis\": \"x2\", \"yaxis\": \"y2\"}, {\"type\": \"scatter\", \"x\": [-1.772083333333333, -0.8838461538461537, -0.33421052631578957, 0.024333333333333297, 0.3725, 0.8125000000000002, 1.83], \"y\": [0.050755503743890956, 0.17088548910523876, 0.33984347946533694, 0.5223155103844455, 0.6521739130434783, 0.8298945437872536, 0.9600984167736414], \"error_y\": {\"type\": \"data\", \"array\": [0.001469801578235233, 0.003624682001790565, 0.003941934563678602, 0.003320506617403556, 0.0061243061936848975, 0.0032846092619633342, 0.0020244955172399786], \"color\": \"rgb(0,100,246)\", \"visible\": true}, \"line\": {\"color\": \"rgb(0,176,246)\"}, \"mode\": \"lines+markers\", \"name\": \"Sim Data\", \"xaxis\": \"x2\", \"yaxis\": \"y2\"}], {\"paper_bgcolor\": \"rgb(255,255,255)\", \"plot_bgcolor\": \"rgb(229,229,229)\", \"xaxis\": {\"gridcolor\": \"rgb(255,255,255)\", \"range\": [-2, 2], \"domain\": [0, 0.45], \"showgrid\": true, \"showline\": false, \"showticklabels\": true, \"tickcolor\": \"rgb(127,127,127)\", \"ticks\": \"outside\", \"title\": \"Net Value ($)\", \"zeroline\": false}, \"xaxis2\": {\"gridcolor\": \"rgb(255,255,255)\", \"range\": [-2, 2], \"domain\": [0.55, 1], \"showgrid\": true, \"showline\": false, \"showticklabels\": true, \"tickcolor\": \"rgb(127,127,127)\", \"ticks\": \"outside\", \"title\": \"Net Value ($)\", \"zeroline\": false}, \"yaxis1\": {\"gridcolor\": \"rgb(255,255,255)\", \"range\": [0], \"showgrid\": true, \"showline\": false, \"showticklabels\": true, \"tickcolor\": \"rgb(127,127,127)\", \"ticks\": \"outside\", \"title\": \"RT (s)\", \"anchor\": \"x1\", \"zeroline\": false}, \"yaxis2\": {\"gridcolor\": \"rgb(255,255,255)\", \"range\": [0], \"showgrid\": true, \"showline\": false, \"showticklabels\": true, \"tickcolor\": \"rgb(127,127,127)\", \"ticks\": \"outside\", \"title\": \"p (accept)\", \"anchor\": \"x2\", \"zeroline\": false}, \"annotations\": [{\"x\": 0.01, \"y\": 1.12, \"showarrow\": false, \"text\": \"PARAMETERS: v: 0.051, a: 0.279, \\u03b8: 0.325\", \"xref\": \"paper\", \"yref\": \"paper\"}, {\"x\": 0.01, \"y\": 1.08, \"showarrow\": false, \"text\": \"MLE: 545.84\", \"xref\": \"paper\", \"yref\": \"paper\"}, {\"x\": 0.01, \"y\": 1.2, \"showarrow\": false, \"text\": \"SUBJECT: 18\", \"font\": {\"family\": \"Arial, sans-serif\", \"size\": 22}, \"xref\": \"paper\", \"yref\": \"paper\"}]}, {\"showLink\": true, \"linkText\": \"Export to plot.ly\"})});</script>"
      ]
     },
     "metadata": {},
     "output_type": "display_data"
    },
    {
     "data": {
      "application/vnd.plotly.v1+json": {
       "data": [
        {
         "error_y": {
          "array": [
           0.36347757827473565,
           0.41969449774605894,
           0.5537102022977282,
           0.2719872546244865,
           0.41390432485629164,
           0.1770077216029409,
           0.28954639202011695
          ],
          "color": "rgb(0,170,80)",
          "type": "data",
          "visible": true
         },
         "line": {
          "color": "rgb(0,100,80)"
         },
         "mode": "lines+markers",
         "name": "Test Data",
         "type": "scatter",
         "x": [
          -1.6129629629629632,
          -0.8327777777777777,
          -0.29800000000000004,
          0.027352941176470573,
          0.28411764705882353,
          0.751304347826087,
          1.423125
         ],
         "y": [
          2.6532024520263944,
          2.8353583172073638,
          3.1601166128801794,
          2.749145881909713,
          2.4638971037005413,
          1.8037446145494678,
          2.09285406316485
         ]
        },
        {
         "error_y": {
          "array": [
           0.0053261243551364235,
           0.006782742936575375,
           0.0077646679621799705,
           0.004959599238199843,
           0.0071082632021849225,
           0.0060083383794362205,
           0.006893707868476975
          ],
          "color": "rgb(0,100,246)",
          "type": "data",
          "visible": true
         },
         "line": {
          "color": "rgb(0,176,246)"
         },
         "mode": "lines+markers",
         "name": "Sim Data",
         "type": "scatter",
         "x": [
          -1.6129629629629632,
          -0.8327777777777777,
          -0.29800000000000004,
          0.027352941176470573,
          0.28411764705882353,
          0.751304347826087,
          1.423125
         ],
         "y": [
          1.8909005555555662,
          1.9167728333333358,
          1.9652649999999998,
          1.9172942352941207,
          1.94940247058823,
          1.905807565217378,
          1.8791780625000118
         ]
        },
        {
         "error_y": {
          "array": [
           0.0513611292801138,
           0.05555555555555555,
           0.09085135251589957,
           0.07679896586280786,
           0.10604562574894086,
           0,
           0.06249999999999999
          ],
          "color": "rgb(0,170,80)",
          "type": "data",
          "visible": true
         },
         "line": {
          "color": "rgb(0,100,80)"
         },
         "mode": "lines+markers",
         "name": "Test Data",
         "type": "scatter",
         "x": [
          -1.6129629629629632,
          -0.8327777777777777,
          -0.29800000000000004,
          0.027352941176470573,
          0.28411764705882353,
          0.751304347826087,
          1.423125
         ],
         "xaxis": "x2",
         "y": [
          0.07407407407407407,
          0.05555555555555555,
          0.13333333333333333,
          0.7352941176470589,
          0.7647058823529411,
          1,
          0.9375
         ],
         "yaxis": "y2"
        },
        {
         "error_y": {
          "array": [
           0.0027317971389502387,
           0.003602801373881337,
           0.00405198827050375,
           0.0027113797090003527,
           0.0038142832998550318,
           0.003172669057605089,
           0.003655225027657347
          ],
          "color": "rgb(0,100,246)",
          "type": "data",
          "visible": true
         },
         "line": {
          "color": "rgb(0,176,246)"
         },
         "mode": "lines+markers",
         "name": "Sim Data",
         "type": "scatter",
         "x": [
          -1.6129629629629632,
          -0.8327777777777777,
          -0.29800000000000004,
          0.027352941176470573,
          0.28411764705882353,
          0.751304347826087,
          1.423125
         ],
         "xaxis": "x2",
         "y": [
          0.27974074074074073,
          0.37205555555555553,
          0.4388666666666667,
          0.5073235294117647,
          0.5518235294117647,
          0.636,
          0.690375
         ],
         "yaxis": "y2"
        }
       ],
       "layout": {
        "annotations": [
         {
          "showarrow": false,
          "text": "PARAMETERS: v: 0.051, a: 0.107, θ: 0.1",
          "x": 0.01,
          "xref": "paper",
          "y": 1.12,
          "yref": "paper"
         },
         {
          "showarrow": false,
          "text": "MLE: 812.56",
          "x": 0.01,
          "xref": "paper",
          "y": 1.08,
          "yref": "paper"
         },
         {
          "font": {
           "family": "Arial, sans-serif",
           "size": 22
          },
          "showarrow": false,
          "text": "SUBJECT: 19",
          "x": 0.01,
          "xref": "paper",
          "y": 1.2,
          "yref": "paper"
         }
        ],
        "paper_bgcolor": "rgb(255,255,255)",
        "plot_bgcolor": "rgb(229,229,229)",
        "xaxis": {
         "domain": [
          0,
          0.45
         ],
         "gridcolor": "rgb(255,255,255)",
         "range": [
          -2,
          2
         ],
         "showgrid": true,
         "showline": false,
         "showticklabels": true,
         "tickcolor": "rgb(127,127,127)",
         "ticks": "outside",
         "title": "Net Value ($)",
         "zeroline": false
        },
        "xaxis2": {
         "domain": [
          0.55,
          1
         ],
         "gridcolor": "rgb(255,255,255)",
         "range": [
          -2,
          2
         ],
         "showgrid": true,
         "showline": false,
         "showticklabels": true,
         "tickcolor": "rgb(127,127,127)",
         "ticks": "outside",
         "title": "Net Value ($)",
         "zeroline": false
        },
        "yaxis1": {
         "anchor": "x1",
         "gridcolor": "rgb(255,255,255)",
         "range": [
          0
         ],
         "showgrid": true,
         "showline": false,
         "showticklabels": true,
         "tickcolor": "rgb(127,127,127)",
         "ticks": "outside",
         "title": "RT (s)",
         "zeroline": false
        },
        "yaxis2": {
         "anchor": "x2",
         "gridcolor": "rgb(255,255,255)",
         "range": [
          0
         ],
         "showgrid": true,
         "showline": false,
         "showticklabels": true,
         "tickcolor": "rgb(127,127,127)",
         "ticks": "outside",
         "title": "p (accept)",
         "zeroline": false
        }
       }
      },
      "text/html": [
       "<div id=\"24ffff5f-54a8-4183-a499-d3e685023c8c\" style=\"height: 525px; width: 100%;\" class=\"plotly-graph-div\"></div><script type=\"text/javascript\">require([\"plotly\"], function(Plotly) { window.PLOTLYENV=window.PLOTLYENV || {};window.PLOTLYENV.BASE_URL=\"https://plot.ly\";Plotly.newPlot(\"24ffff5f-54a8-4183-a499-d3e685023c8c\", [{\"type\": \"scatter\", \"x\": [-1.6129629629629632, -0.8327777777777777, -0.29800000000000004, 0.027352941176470573, 0.28411764705882353, 0.751304347826087, 1.423125], \"y\": [2.6532024520263944, 2.8353583172073638, 3.1601166128801794, 2.749145881909713, 2.4638971037005413, 1.8037446145494678, 2.09285406316485], \"error_y\": {\"type\": \"data\", \"array\": [0.36347757827473565, 0.41969449774605894, 0.5537102022977282, 0.2719872546244865, 0.41390432485629164, 0.1770077216029409, 0.28954639202011695], \"color\": \"rgb(0,170,80)\", \"visible\": true}, \"line\": {\"color\": \"rgb(0,100,80)\"}, \"mode\": \"lines+markers\", \"name\": \"Test Data\"}, {\"type\": \"scatter\", \"x\": [-1.6129629629629632, -0.8327777777777777, -0.29800000000000004, 0.027352941176470573, 0.28411764705882353, 0.751304347826087, 1.423125], \"y\": [1.8909005555555662, 1.9167728333333358, 1.9652649999999998, 1.9172942352941207, 1.94940247058823, 1.905807565217378, 1.8791780625000118], \"error_y\": {\"type\": \"data\", \"array\": [0.0053261243551364235, 0.006782742936575375, 0.0077646679621799705, 0.004959599238199843, 0.0071082632021849225, 0.0060083383794362205, 0.006893707868476975], \"color\": \"rgb(0,100,246)\", \"visible\": true}, \"line\": {\"color\": \"rgb(0,176,246)\"}, \"mode\": \"lines+markers\", \"name\": \"Sim Data\"}, {\"type\": \"scatter\", \"x\": [-1.6129629629629632, -0.8327777777777777, -0.29800000000000004, 0.027352941176470573, 0.28411764705882353, 0.751304347826087, 1.423125], \"y\": [0.07407407407407407, 0.05555555555555555, 0.13333333333333333, 0.7352941176470589, 0.7647058823529411, 1.0, 0.9375], \"error_y\": {\"type\": \"data\", \"array\": [0.0513611292801138, 0.05555555555555555, 0.09085135251589957, 0.07679896586280786, 0.10604562574894086, 0.0, 0.06249999999999999], \"color\": \"rgb(0,170,80)\", \"visible\": true}, \"line\": {\"color\": \"rgb(0,100,80)\"}, \"mode\": \"lines+markers\", \"name\": \"Test Data\", \"xaxis\": \"x2\", \"yaxis\": \"y2\"}, {\"type\": \"scatter\", \"x\": [-1.6129629629629632, -0.8327777777777777, -0.29800000000000004, 0.027352941176470573, 0.28411764705882353, 0.751304347826087, 1.423125], \"y\": [0.27974074074074073, 0.37205555555555553, 0.4388666666666667, 0.5073235294117647, 0.5518235294117647, 0.636, 0.690375], \"error_y\": {\"type\": \"data\", \"array\": [0.0027317971389502387, 0.003602801373881337, 0.00405198827050375, 0.0027113797090003527, 0.0038142832998550318, 0.003172669057605089, 0.003655225027657347], \"color\": \"rgb(0,100,246)\", \"visible\": true}, \"line\": {\"color\": \"rgb(0,176,246)\"}, \"mode\": \"lines+markers\", \"name\": \"Sim Data\", \"xaxis\": \"x2\", \"yaxis\": \"y2\"}], {\"paper_bgcolor\": \"rgb(255,255,255)\", \"plot_bgcolor\": \"rgb(229,229,229)\", \"xaxis\": {\"gridcolor\": \"rgb(255,255,255)\", \"range\": [-2, 2], \"domain\": [0, 0.45], \"showgrid\": true, \"showline\": false, \"showticklabels\": true, \"tickcolor\": \"rgb(127,127,127)\", \"ticks\": \"outside\", \"title\": \"Net Value ($)\", \"zeroline\": false}, \"xaxis2\": {\"gridcolor\": \"rgb(255,255,255)\", \"range\": [-2, 2], \"domain\": [0.55, 1], \"showgrid\": true, \"showline\": false, \"showticklabels\": true, \"tickcolor\": \"rgb(127,127,127)\", \"ticks\": \"outside\", \"title\": \"Net Value ($)\", \"zeroline\": false}, \"yaxis1\": {\"gridcolor\": \"rgb(255,255,255)\", \"range\": [0], \"showgrid\": true, \"showline\": false, \"showticklabels\": true, \"tickcolor\": \"rgb(127,127,127)\", \"ticks\": \"outside\", \"title\": \"RT (s)\", \"anchor\": \"x1\", \"zeroline\": false}, \"yaxis2\": {\"gridcolor\": \"rgb(255,255,255)\", \"range\": [0], \"showgrid\": true, \"showline\": false, \"showticklabels\": true, \"tickcolor\": \"rgb(127,127,127)\", \"ticks\": \"outside\", \"title\": \"p (accept)\", \"anchor\": \"x2\", \"zeroline\": false}, \"annotations\": [{\"x\": 0.01, \"y\": 1.12, \"showarrow\": false, \"text\": \"PARAMETERS: v: 0.051, a: 0.107, \\u03b8: 0.1\", \"xref\": \"paper\", \"yref\": \"paper\"}, {\"x\": 0.01, \"y\": 1.08, \"showarrow\": false, \"text\": \"MLE: 812.56\", \"xref\": \"paper\", \"yref\": \"paper\"}, {\"x\": 0.01, \"y\": 1.2, \"showarrow\": false, \"text\": \"SUBJECT: 19\", \"font\": {\"family\": \"Arial, sans-serif\", \"size\": 22}, \"xref\": \"paper\", \"yref\": \"paper\"}]}, {\"showLink\": true, \"linkText\": \"Export to plot.ly\"})});</script>"
      ],
      "text/vnd.plotly.v1+html": [
       "<div id=\"24ffff5f-54a8-4183-a499-d3e685023c8c\" style=\"height: 525px; width: 100%;\" class=\"plotly-graph-div\"></div><script type=\"text/javascript\">require([\"plotly\"], function(Plotly) { window.PLOTLYENV=window.PLOTLYENV || {};window.PLOTLYENV.BASE_URL=\"https://plot.ly\";Plotly.newPlot(\"24ffff5f-54a8-4183-a499-d3e685023c8c\", [{\"type\": \"scatter\", \"x\": [-1.6129629629629632, -0.8327777777777777, -0.29800000000000004, 0.027352941176470573, 0.28411764705882353, 0.751304347826087, 1.423125], \"y\": [2.6532024520263944, 2.8353583172073638, 3.1601166128801794, 2.749145881909713, 2.4638971037005413, 1.8037446145494678, 2.09285406316485], \"error_y\": {\"type\": \"data\", \"array\": [0.36347757827473565, 0.41969449774605894, 0.5537102022977282, 0.2719872546244865, 0.41390432485629164, 0.1770077216029409, 0.28954639202011695], \"color\": \"rgb(0,170,80)\", \"visible\": true}, \"line\": {\"color\": \"rgb(0,100,80)\"}, \"mode\": \"lines+markers\", \"name\": \"Test Data\"}, {\"type\": \"scatter\", \"x\": [-1.6129629629629632, -0.8327777777777777, -0.29800000000000004, 0.027352941176470573, 0.28411764705882353, 0.751304347826087, 1.423125], \"y\": [1.8909005555555662, 1.9167728333333358, 1.9652649999999998, 1.9172942352941207, 1.94940247058823, 1.905807565217378, 1.8791780625000118], \"error_y\": {\"type\": \"data\", \"array\": [0.0053261243551364235, 0.006782742936575375, 0.0077646679621799705, 0.004959599238199843, 0.0071082632021849225, 0.0060083383794362205, 0.006893707868476975], \"color\": \"rgb(0,100,246)\", \"visible\": true}, \"line\": {\"color\": \"rgb(0,176,246)\"}, \"mode\": \"lines+markers\", \"name\": \"Sim Data\"}, {\"type\": \"scatter\", \"x\": [-1.6129629629629632, -0.8327777777777777, -0.29800000000000004, 0.027352941176470573, 0.28411764705882353, 0.751304347826087, 1.423125], \"y\": [0.07407407407407407, 0.05555555555555555, 0.13333333333333333, 0.7352941176470589, 0.7647058823529411, 1.0, 0.9375], \"error_y\": {\"type\": \"data\", \"array\": [0.0513611292801138, 0.05555555555555555, 0.09085135251589957, 0.07679896586280786, 0.10604562574894086, 0.0, 0.06249999999999999], \"color\": \"rgb(0,170,80)\", \"visible\": true}, \"line\": {\"color\": \"rgb(0,100,80)\"}, \"mode\": \"lines+markers\", \"name\": \"Test Data\", \"xaxis\": \"x2\", \"yaxis\": \"y2\"}, {\"type\": \"scatter\", \"x\": [-1.6129629629629632, -0.8327777777777777, -0.29800000000000004, 0.027352941176470573, 0.28411764705882353, 0.751304347826087, 1.423125], \"y\": [0.27974074074074073, 0.37205555555555553, 0.4388666666666667, 0.5073235294117647, 0.5518235294117647, 0.636, 0.690375], \"error_y\": {\"type\": \"data\", \"array\": [0.0027317971389502387, 0.003602801373881337, 0.00405198827050375, 0.0027113797090003527, 0.0038142832998550318, 0.003172669057605089, 0.003655225027657347], \"color\": \"rgb(0,100,246)\", \"visible\": true}, \"line\": {\"color\": \"rgb(0,176,246)\"}, \"mode\": \"lines+markers\", \"name\": \"Sim Data\", \"xaxis\": \"x2\", \"yaxis\": \"y2\"}], {\"paper_bgcolor\": \"rgb(255,255,255)\", \"plot_bgcolor\": \"rgb(229,229,229)\", \"xaxis\": {\"gridcolor\": \"rgb(255,255,255)\", \"range\": [-2, 2], \"domain\": [0, 0.45], \"showgrid\": true, \"showline\": false, \"showticklabels\": true, \"tickcolor\": \"rgb(127,127,127)\", \"ticks\": \"outside\", \"title\": \"Net Value ($)\", \"zeroline\": false}, \"xaxis2\": {\"gridcolor\": \"rgb(255,255,255)\", \"range\": [-2, 2], \"domain\": [0.55, 1], \"showgrid\": true, \"showline\": false, \"showticklabels\": true, \"tickcolor\": \"rgb(127,127,127)\", \"ticks\": \"outside\", \"title\": \"Net Value ($)\", \"zeroline\": false}, \"yaxis1\": {\"gridcolor\": \"rgb(255,255,255)\", \"range\": [0], \"showgrid\": true, \"showline\": false, \"showticklabels\": true, \"tickcolor\": \"rgb(127,127,127)\", \"ticks\": \"outside\", \"title\": \"RT (s)\", \"anchor\": \"x1\", \"zeroline\": false}, \"yaxis2\": {\"gridcolor\": \"rgb(255,255,255)\", \"range\": [0], \"showgrid\": true, \"showline\": false, \"showticklabels\": true, \"tickcolor\": \"rgb(127,127,127)\", \"ticks\": \"outside\", \"title\": \"p (accept)\", \"anchor\": \"x2\", \"zeroline\": false}, \"annotations\": [{\"x\": 0.01, \"y\": 1.12, \"showarrow\": false, \"text\": \"PARAMETERS: v: 0.051, a: 0.107, \\u03b8: 0.1\", \"xref\": \"paper\", \"yref\": \"paper\"}, {\"x\": 0.01, \"y\": 1.08, \"showarrow\": false, \"text\": \"MLE: 812.56\", \"xref\": \"paper\", \"yref\": \"paper\"}, {\"x\": 0.01, \"y\": 1.2, \"showarrow\": false, \"text\": \"SUBJECT: 19\", \"font\": {\"family\": \"Arial, sans-serif\", \"size\": 22}, \"xref\": \"paper\", \"yref\": \"paper\"}]}, {\"showLink\": true, \"linkText\": \"Export to plot.ly\"})});</script>"
      ]
     },
     "metadata": {},
     "output_type": "display_data"
    },
    {
     "data": {
      "application/vnd.plotly.v1+json": {
       "data": [
        {
         "error_y": {
          "array": [
           0.23889616603511812,
           0.26260143411660414,
           0.27200450372357604,
           0.1516952073407089,
           0.3579844042768868,
           0.4669457882395253,
           0.13479441445887105
          ],
          "color": "rgb(0,170,80)",
          "type": "data",
          "visible": true
         },
         "line": {
          "color": "rgb(0,100,80)"
         },
         "mode": "lines+markers",
         "name": "Test Data",
         "type": "scatter",
         "x": [
          -1.6838888888888888,
          -0.7804347826086955,
          -0.29956521739130443,
          0.044074074074074036,
          0.30272727272727273,
          0.7600000000000001,
          1.7135000000000002
         ],
         "y": [
          2.228803497292878,
          2.7841644772131047,
          2.653716179795319,
          2.532181894794727,
          2.858446059481304,
          2.591218919741611,
          1.8051307235728018
         ]
        },
        {
         "error_y": {
          "array": [
           0.012561432829414174,
           0.012089848632228712,
           0.012640718342669714,
           0.011459783106936175,
           0.012979784623806627,
           0.014622258468384466,
           0.01160971222191214
          ],
          "color": "rgb(0,100,246)",
          "type": "data",
          "visible": true
         },
         "line": {
          "color": "rgb(0,176,246)"
         },
         "mode": "lines+markers",
         "name": "Sim Data",
         "type": "scatter",
         "x": [
          -1.6838888888888888,
          -0.7804347826086955,
          -0.29956521739130443,
          0.044074074074074036,
          0.30272727272727273,
          0.7600000000000001,
          1.7135000000000002
         ],
         "y": [
          3.0056451721054973,
          3.1858085377089664,
          3.3600772110641426,
          3.27826316184192,
          3.3756832941826715,
          3.2130713997308136,
          3.0138892126815096
         ]
        },
        {
         "error_y": {
          "array": [
           0.05555555555555555,
           0.04347826086956522,
           0.10568965974008647,
           0.09470524295495533,
           0.04545454545454545,
           0.06666666666666665,
           0
          ],
          "color": "rgb(0,170,80)",
          "type": "data",
          "visible": true
         },
         "line": {
          "color": "rgb(0,100,80)"
         },
         "mode": "lines+markers",
         "name": "Test Data",
         "type": "scatter",
         "x": [
          -1.6838888888888888,
          -0.7804347826086955,
          -0.29956521739130443,
          0.044074074074074036,
          0.30272727272727273,
          0.7600000000000001,
          1.7135000000000002
         ],
         "xaxis": "x2",
         "y": [
          0.05555555555555555,
          0.043478260869565216,
          0.5652173913043478,
          0.6296296296296297,
          0.9545454545454546,
          0.9333333333333333,
          1
         ],
         "yaxis": "y2"
        },
        {
         "error_y": {
          "array": [
           0.002942384797037433,
           0.0031394649311535365,
           0.0032649619531471127,
           0.0030567997662582524,
           0.003362967509103306,
           0.003972482258353848,
           0.002742546487343818
          ],
          "color": "rgb(0,100,246)",
          "type": "data",
          "visible": true
         },
         "line": {
          "color": "rgb(0,176,246)"
         },
         "mode": "lines+markers",
         "name": "Sim Data",
         "type": "scatter",
         "x": [
          -1.6838888888888888,
          -0.7804347826086955,
          -0.29956521739130443,
          0.044074074074074036,
          0.30272727272727273,
          0.7600000000000001,
          1.7135000000000002
         ],
         "xaxis": "x2",
         "y": [
          0.1916629414394278,
          0.3407625148071776,
          0.41063248766737137,
          0.5286860656967152,
          0.5668555110312745,
          0.6245625841184388,
          0.8167110485856404
         ],
         "yaxis": "y2"
        }
       ],
       "layout": {
        "annotations": [
         {
          "showarrow": false,
          "text": "PARAMETERS: v: 0.051, a: 0.164, θ: 0.1",
          "x": 0.01,
          "xref": "paper",
          "y": 1.12,
          "yref": "paper"
         },
         {
          "showarrow": false,
          "text": "MLE: 662.54",
          "x": 0.01,
          "xref": "paper",
          "y": 1.08,
          "yref": "paper"
         },
         {
          "font": {
           "family": "Arial, sans-serif",
           "size": 22
          },
          "showarrow": false,
          "text": "SUBJECT: 20",
          "x": 0.01,
          "xref": "paper",
          "y": 1.2,
          "yref": "paper"
         }
        ],
        "paper_bgcolor": "rgb(255,255,255)",
        "plot_bgcolor": "rgb(229,229,229)",
        "xaxis": {
         "domain": [
          0,
          0.45
         ],
         "gridcolor": "rgb(255,255,255)",
         "range": [
          -2,
          2
         ],
         "showgrid": true,
         "showline": false,
         "showticklabels": true,
         "tickcolor": "rgb(127,127,127)",
         "ticks": "outside",
         "title": "Net Value ($)",
         "zeroline": false
        },
        "xaxis2": {
         "domain": [
          0.55,
          1
         ],
         "gridcolor": "rgb(255,255,255)",
         "range": [
          -2,
          2
         ],
         "showgrid": true,
         "showline": false,
         "showticklabels": true,
         "tickcolor": "rgb(127,127,127)",
         "ticks": "outside",
         "title": "Net Value ($)",
         "zeroline": false
        },
        "yaxis1": {
         "anchor": "x1",
         "gridcolor": "rgb(255,255,255)",
         "range": [
          0
         ],
         "showgrid": true,
         "showline": false,
         "showticklabels": true,
         "tickcolor": "rgb(127,127,127)",
         "ticks": "outside",
         "title": "RT (s)",
         "zeroline": false
        },
        "yaxis2": {
         "anchor": "x2",
         "gridcolor": "rgb(255,255,255)",
         "range": [
          0
         ],
         "showgrid": true,
         "showline": false,
         "showticklabels": true,
         "tickcolor": "rgb(127,127,127)",
         "ticks": "outside",
         "title": "p (accept)",
         "zeroline": false
        }
       }
      },
      "text/html": [
       "<div id=\"cee37f59-3908-4712-8f03-155b9aaec631\" style=\"height: 525px; width: 100%;\" class=\"plotly-graph-div\"></div><script type=\"text/javascript\">require([\"plotly\"], function(Plotly) { window.PLOTLYENV=window.PLOTLYENV || {};window.PLOTLYENV.BASE_URL=\"https://plot.ly\";Plotly.newPlot(\"cee37f59-3908-4712-8f03-155b9aaec631\", [{\"type\": \"scatter\", \"x\": [-1.6838888888888888, -0.7804347826086955, -0.29956521739130443, 0.044074074074074036, 0.30272727272727273, 0.7600000000000001, 1.7135000000000002], \"y\": [2.228803497292878, 2.7841644772131047, 2.653716179795319, 2.532181894794727, 2.858446059481304, 2.591218919741611, 1.8051307235728018], \"error_y\": {\"type\": \"data\", \"array\": [0.23889616603511812, 0.26260143411660414, 0.27200450372357604, 0.1516952073407089, 0.3579844042768868, 0.4669457882395253, 0.13479441445887105], \"color\": \"rgb(0,170,80)\", \"visible\": true}, \"line\": {\"color\": \"rgb(0,100,80)\"}, \"mode\": \"lines+markers\", \"name\": \"Test Data\"}, {\"type\": \"scatter\", \"x\": [-1.6838888888888888, -0.7804347826086955, -0.29956521739130443, 0.044074074074074036, 0.30272727272727273, 0.7600000000000001, 1.7135000000000002], \"y\": [3.0056451721054973, 3.1858085377089664, 3.3600772110641426, 3.27826316184192, 3.3756832941826715, 3.2130713997308136, 3.0138892126815096], \"error_y\": {\"type\": \"data\", \"array\": [0.012561432829414174, 0.012089848632228712, 0.012640718342669714, 0.011459783106936175, 0.012979784623806627, 0.014622258468384466, 0.01160971222191214], \"color\": \"rgb(0,100,246)\", \"visible\": true}, \"line\": {\"color\": \"rgb(0,176,246)\"}, \"mode\": \"lines+markers\", \"name\": \"Sim Data\"}, {\"type\": \"scatter\", \"x\": [-1.6838888888888888, -0.7804347826086955, -0.29956521739130443, 0.044074074074074036, 0.30272727272727273, 0.7600000000000001, 1.7135000000000002], \"y\": [0.05555555555555555, 0.043478260869565216, 0.5652173913043478, 0.6296296296296297, 0.9545454545454546, 0.9333333333333333, 1.0], \"error_y\": {\"type\": \"data\", \"array\": [0.05555555555555555, 0.04347826086956522, 0.10568965974008647, 0.09470524295495533, 0.04545454545454545, 0.06666666666666665, 0.0], \"color\": \"rgb(0,170,80)\", \"visible\": true}, \"line\": {\"color\": \"rgb(0,100,80)\"}, \"mode\": \"lines+markers\", \"name\": \"Test Data\", \"xaxis\": \"x2\", \"yaxis\": \"y2\"}, {\"type\": \"scatter\", \"x\": [-1.6838888888888888, -0.7804347826086955, -0.29956521739130443, 0.044074074074074036, 0.30272727272727273, 0.7600000000000001, 1.7135000000000002], \"y\": [0.1916629414394278, 0.3407625148071776, 0.41063248766737137, 0.5286860656967152, 0.5668555110312745, 0.6245625841184388, 0.8167110485856404], \"error_y\": {\"type\": \"data\", \"array\": [0.002942384797037433, 0.0031394649311535365, 0.0032649619531471127, 0.0030567997662582524, 0.003362967509103306, 0.003972482258353848, 0.002742546487343818], \"color\": \"rgb(0,100,246)\", \"visible\": true}, \"line\": {\"color\": \"rgb(0,176,246)\"}, \"mode\": \"lines+markers\", \"name\": \"Sim Data\", \"xaxis\": \"x2\", \"yaxis\": \"y2\"}], {\"paper_bgcolor\": \"rgb(255,255,255)\", \"plot_bgcolor\": \"rgb(229,229,229)\", \"xaxis\": {\"gridcolor\": \"rgb(255,255,255)\", \"range\": [-2, 2], \"domain\": [0, 0.45], \"showgrid\": true, \"showline\": false, \"showticklabels\": true, \"tickcolor\": \"rgb(127,127,127)\", \"ticks\": \"outside\", \"title\": \"Net Value ($)\", \"zeroline\": false}, \"xaxis2\": {\"gridcolor\": \"rgb(255,255,255)\", \"range\": [-2, 2], \"domain\": [0.55, 1], \"showgrid\": true, \"showline\": false, \"showticklabels\": true, \"tickcolor\": \"rgb(127,127,127)\", \"ticks\": \"outside\", \"title\": \"Net Value ($)\", \"zeroline\": false}, \"yaxis1\": {\"gridcolor\": \"rgb(255,255,255)\", \"range\": [0], \"showgrid\": true, \"showline\": false, \"showticklabels\": true, \"tickcolor\": \"rgb(127,127,127)\", \"ticks\": \"outside\", \"title\": \"RT (s)\", \"anchor\": \"x1\", \"zeroline\": false}, \"yaxis2\": {\"gridcolor\": \"rgb(255,255,255)\", \"range\": [0], \"showgrid\": true, \"showline\": false, \"showticklabels\": true, \"tickcolor\": \"rgb(127,127,127)\", \"ticks\": \"outside\", \"title\": \"p (accept)\", \"anchor\": \"x2\", \"zeroline\": false}, \"annotations\": [{\"x\": 0.01, \"y\": 1.12, \"showarrow\": false, \"text\": \"PARAMETERS: v: 0.051, a: 0.164, \\u03b8: 0.1\", \"xref\": \"paper\", \"yref\": \"paper\"}, {\"x\": 0.01, \"y\": 1.08, \"showarrow\": false, \"text\": \"MLE: 662.54\", \"xref\": \"paper\", \"yref\": \"paper\"}, {\"x\": 0.01, \"y\": 1.2, \"showarrow\": false, \"text\": \"SUBJECT: 20\", \"font\": {\"family\": \"Arial, sans-serif\", \"size\": 22}, \"xref\": \"paper\", \"yref\": \"paper\"}]}, {\"showLink\": true, \"linkText\": \"Export to plot.ly\"})});</script>"
      ],
      "text/vnd.plotly.v1+html": [
       "<div id=\"cee37f59-3908-4712-8f03-155b9aaec631\" style=\"height: 525px; width: 100%;\" class=\"plotly-graph-div\"></div><script type=\"text/javascript\">require([\"plotly\"], function(Plotly) { window.PLOTLYENV=window.PLOTLYENV || {};window.PLOTLYENV.BASE_URL=\"https://plot.ly\";Plotly.newPlot(\"cee37f59-3908-4712-8f03-155b9aaec631\", [{\"type\": \"scatter\", \"x\": [-1.6838888888888888, -0.7804347826086955, -0.29956521739130443, 0.044074074074074036, 0.30272727272727273, 0.7600000000000001, 1.7135000000000002], \"y\": [2.228803497292878, 2.7841644772131047, 2.653716179795319, 2.532181894794727, 2.858446059481304, 2.591218919741611, 1.8051307235728018], \"error_y\": {\"type\": \"data\", \"array\": [0.23889616603511812, 0.26260143411660414, 0.27200450372357604, 0.1516952073407089, 0.3579844042768868, 0.4669457882395253, 0.13479441445887105], \"color\": \"rgb(0,170,80)\", \"visible\": true}, \"line\": {\"color\": \"rgb(0,100,80)\"}, \"mode\": \"lines+markers\", \"name\": \"Test Data\"}, {\"type\": \"scatter\", \"x\": [-1.6838888888888888, -0.7804347826086955, -0.29956521739130443, 0.044074074074074036, 0.30272727272727273, 0.7600000000000001, 1.7135000000000002], \"y\": [3.0056451721054973, 3.1858085377089664, 3.3600772110641426, 3.27826316184192, 3.3756832941826715, 3.2130713997308136, 3.0138892126815096], \"error_y\": {\"type\": \"data\", \"array\": [0.012561432829414174, 0.012089848632228712, 0.012640718342669714, 0.011459783106936175, 0.012979784623806627, 0.014622258468384466, 0.01160971222191214], \"color\": \"rgb(0,100,246)\", \"visible\": true}, \"line\": {\"color\": \"rgb(0,176,246)\"}, \"mode\": \"lines+markers\", \"name\": \"Sim Data\"}, {\"type\": \"scatter\", \"x\": [-1.6838888888888888, -0.7804347826086955, -0.29956521739130443, 0.044074074074074036, 0.30272727272727273, 0.7600000000000001, 1.7135000000000002], \"y\": [0.05555555555555555, 0.043478260869565216, 0.5652173913043478, 0.6296296296296297, 0.9545454545454546, 0.9333333333333333, 1.0], \"error_y\": {\"type\": \"data\", \"array\": [0.05555555555555555, 0.04347826086956522, 0.10568965974008647, 0.09470524295495533, 0.04545454545454545, 0.06666666666666665, 0.0], \"color\": \"rgb(0,170,80)\", \"visible\": true}, \"line\": {\"color\": \"rgb(0,100,80)\"}, \"mode\": \"lines+markers\", \"name\": \"Test Data\", \"xaxis\": \"x2\", \"yaxis\": \"y2\"}, {\"type\": \"scatter\", \"x\": [-1.6838888888888888, -0.7804347826086955, -0.29956521739130443, 0.044074074074074036, 0.30272727272727273, 0.7600000000000001, 1.7135000000000002], \"y\": [0.1916629414394278, 0.3407625148071776, 0.41063248766737137, 0.5286860656967152, 0.5668555110312745, 0.6245625841184388, 0.8167110485856404], \"error_y\": {\"type\": \"data\", \"array\": [0.002942384797037433, 0.0031394649311535365, 0.0032649619531471127, 0.0030567997662582524, 0.003362967509103306, 0.003972482258353848, 0.002742546487343818], \"color\": \"rgb(0,100,246)\", \"visible\": true}, \"line\": {\"color\": \"rgb(0,176,246)\"}, \"mode\": \"lines+markers\", \"name\": \"Sim Data\", \"xaxis\": \"x2\", \"yaxis\": \"y2\"}], {\"paper_bgcolor\": \"rgb(255,255,255)\", \"plot_bgcolor\": \"rgb(229,229,229)\", \"xaxis\": {\"gridcolor\": \"rgb(255,255,255)\", \"range\": [-2, 2], \"domain\": [0, 0.45], \"showgrid\": true, \"showline\": false, \"showticklabels\": true, \"tickcolor\": \"rgb(127,127,127)\", \"ticks\": \"outside\", \"title\": \"Net Value ($)\", \"zeroline\": false}, \"xaxis2\": {\"gridcolor\": \"rgb(255,255,255)\", \"range\": [-2, 2], \"domain\": [0.55, 1], \"showgrid\": true, \"showline\": false, \"showticklabels\": true, \"tickcolor\": \"rgb(127,127,127)\", \"ticks\": \"outside\", \"title\": \"Net Value ($)\", \"zeroline\": false}, \"yaxis1\": {\"gridcolor\": \"rgb(255,255,255)\", \"range\": [0], \"showgrid\": true, \"showline\": false, \"showticklabels\": true, \"tickcolor\": \"rgb(127,127,127)\", \"ticks\": \"outside\", \"title\": \"RT (s)\", \"anchor\": \"x1\", \"zeroline\": false}, \"yaxis2\": {\"gridcolor\": \"rgb(255,255,255)\", \"range\": [0], \"showgrid\": true, \"showline\": false, \"showticklabels\": true, \"tickcolor\": \"rgb(127,127,127)\", \"ticks\": \"outside\", \"title\": \"p (accept)\", \"anchor\": \"x2\", \"zeroline\": false}, \"annotations\": [{\"x\": 0.01, \"y\": 1.12, \"showarrow\": false, \"text\": \"PARAMETERS: v: 0.051, a: 0.164, \\u03b8: 0.1\", \"xref\": \"paper\", \"yref\": \"paper\"}, {\"x\": 0.01, \"y\": 1.08, \"showarrow\": false, \"text\": \"MLE: 662.54\", \"xref\": \"paper\", \"yref\": \"paper\"}, {\"x\": 0.01, \"y\": 1.2, \"showarrow\": false, \"text\": \"SUBJECT: 20\", \"font\": {\"family\": \"Arial, sans-serif\", \"size\": 22}, \"xref\": \"paper\", \"yref\": \"paper\"}]}, {\"showLink\": true, \"linkText\": \"Export to plot.ly\"})});</script>"
      ]
     },
     "metadata": {},
     "output_type": "display_data"
    },
    {
     "data": {
      "application/vnd.plotly.v1+json": {
       "data": [
        {
         "error_y": {
          "array": [
           0.3118077256767805,
           0.4157580477162434,
           0.48536925440411977,
           0.30685050502357003,
           0.4993361362191596,
           0.4065925022607889,
           0.40756992153804006
          ],
          "color": "rgb(0,170,80)",
          "type": "data",
          "visible": true
         },
         "line": {
          "color": "rgb(0,100,80)"
         },
         "mode": "lines+markers",
         "name": "Test Data",
         "type": "scatter",
         "x": [
          -1.6585000000000005,
          -0.7378947368421054,
          -0.32650000000000007,
          0.029642857142857113,
          0.2914285714285714,
          0.796875,
          1.8939285714285716
         ],
         "y": [
          3.1716958259727117,
          2.8424107588913397,
          3.361843893039624,
          2.794557229453597,
          2.400198578547652,
          2.568326822467496,
          2.657539971324566
         ]
        },
        {
         "error_y": {
          "array": [
           0.011869993169473415,
           0.013442341872282864,
           0.013332304302489583,
           0.011316632323537341,
           0.016261976753365825,
           0.014275571179529838,
           0.009666054955119354
          ],
          "color": "rgb(0,100,246)",
          "type": "data",
          "visible": true
         },
         "line": {
          "color": "rgb(0,176,246)"
         },
         "mode": "lines+markers",
         "name": "Sim Data",
         "type": "scatter",
         "x": [
          -1.6585000000000005,
          -0.7378947368421054,
          -0.32650000000000007,
          0.029642857142857113,
          0.2914285714285714,
          0.796875,
          1.8939285714285716
         ],
         "y": [
          3.0098540285312625,
          3.2789506487981437,
          3.3458054880518513,
          3.2980764895039,
          3.3776657744339125,
          3.155164332576331,
          2.9424719552431657
         ]
        },
        {
         "error_y": {
          "array": [
           0.06882472016116851,
           0.07233518641434492,
           0.10942433098048311,
           0.09597925890831607,
           0.11380392954509881,
           0.11967838846954225,
           0.06734350297014739
          ],
          "color": "rgb(0,170,80)",
          "type": "data",
          "visible": true
         },
         "line": {
          "color": "rgb(0,100,80)"
         },
         "mode": "lines+markers",
         "name": "Test Data",
         "type": "scatter",
         "x": [
          -1.6585000000000005,
          -0.7378947368421054,
          -0.32650000000000007,
          0.029642857142857113,
          0.2914285714285714,
          0.796875,
          1.8939285714285716
         ],
         "xaxis": "x2",
         "y": [
          0.1,
          0.10526315789473684,
          0.65,
          0.5357142857142857,
          0.7857142857142857,
          0.6875,
          0.8571428571428571
         ],
         "yaxis": "y2"
        },
        {
         "error_y": {
          "array": [
           0.002745717896097248,
           0.003473414581680307,
           0.0035423134572409123,
           0.003002883866002801,
           0.004227947612694065,
           0.003685456770051942,
           0.0021947965967668145
          ],
          "color": "rgb(0,100,246)",
          "type": "data",
          "visible": true
         },
         "line": {
          "color": "rgb(0,176,246)"
         },
         "mode": "lines+markers",
         "name": "Sim Data",
         "type": "scatter",
         "x": [
          -1.6585000000000005,
          -0.7378947368421054,
          -0.32650000000000007,
          0.029642857142857113,
          0.2914285714285714,
          0.796875,
          1.8939285714285716
         ],
         "xaxis": "x2",
         "y": [
          0.18389592123769338,
          0.3478515209529887,
          0.453473066018631,
          0.5209018318459371,
          0.5540765391014975,
          0.6862856421902599,
          0.8401233682398508
         ],
         "yaxis": "y2"
        }
       ],
       "layout": {
        "annotations": [
         {
          "showarrow": false,
          "text": "PARAMETERS: v: 0.051, a: 0.164, θ: 0.1",
          "x": 0.01,
          "xref": "paper",
          "y": 1.12,
          "yref": "paper"
         },
         {
          "showarrow": false,
          "text": "MLE: 1135.7",
          "x": 0.01,
          "xref": "paper",
          "y": 1.08,
          "yref": "paper"
         },
         {
          "font": {
           "family": "Arial, sans-serif",
           "size": 22
          },
          "showarrow": false,
          "text": "SUBJECT: 21",
          "x": 0.01,
          "xref": "paper",
          "y": 1.2,
          "yref": "paper"
         }
        ],
        "paper_bgcolor": "rgb(255,255,255)",
        "plot_bgcolor": "rgb(229,229,229)",
        "xaxis": {
         "domain": [
          0,
          0.45
         ],
         "gridcolor": "rgb(255,255,255)",
         "range": [
          -2,
          2
         ],
         "showgrid": true,
         "showline": false,
         "showticklabels": true,
         "tickcolor": "rgb(127,127,127)",
         "ticks": "outside",
         "title": "Net Value ($)",
         "zeroline": false
        },
        "xaxis2": {
         "domain": [
          0.55,
          1
         ],
         "gridcolor": "rgb(255,255,255)",
         "range": [
          -2,
          2
         ],
         "showgrid": true,
         "showline": false,
         "showticklabels": true,
         "tickcolor": "rgb(127,127,127)",
         "ticks": "outside",
         "title": "Net Value ($)",
         "zeroline": false
        },
        "yaxis1": {
         "anchor": "x1",
         "gridcolor": "rgb(255,255,255)",
         "range": [
          0
         ],
         "showgrid": true,
         "showline": false,
         "showticklabels": true,
         "tickcolor": "rgb(127,127,127)",
         "ticks": "outside",
         "title": "RT (s)",
         "zeroline": false
        },
        "yaxis2": {
         "anchor": "x2",
         "gridcolor": "rgb(255,255,255)",
         "range": [
          0
         ],
         "showgrid": true,
         "showline": false,
         "showticklabels": true,
         "tickcolor": "rgb(127,127,127)",
         "ticks": "outside",
         "title": "p (accept)",
         "zeroline": false
        }
       }
      },
      "text/html": [
       "<div id=\"3d2674be-7ddd-4f47-96a2-7253064f0660\" style=\"height: 525px; width: 100%;\" class=\"plotly-graph-div\"></div><script type=\"text/javascript\">require([\"plotly\"], function(Plotly) { window.PLOTLYENV=window.PLOTLYENV || {};window.PLOTLYENV.BASE_URL=\"https://plot.ly\";Plotly.newPlot(\"3d2674be-7ddd-4f47-96a2-7253064f0660\", [{\"type\": \"scatter\", \"x\": [-1.6585000000000005, -0.7378947368421054, -0.32650000000000007, 0.029642857142857113, 0.2914285714285714, 0.796875, 1.8939285714285716], \"y\": [3.1716958259727117, 2.8424107588913397, 3.361843893039624, 2.794557229453597, 2.400198578547652, 2.568326822467496, 2.657539971324566], \"error_y\": {\"type\": \"data\", \"array\": [0.3118077256767805, 0.4157580477162434, 0.48536925440411977, 0.30685050502357003, 0.4993361362191596, 0.4065925022607889, 0.40756992153804006], \"color\": \"rgb(0,170,80)\", \"visible\": true}, \"line\": {\"color\": \"rgb(0,100,80)\"}, \"mode\": \"lines+markers\", \"name\": \"Test Data\"}, {\"type\": \"scatter\", \"x\": [-1.6585000000000005, -0.7378947368421054, -0.32650000000000007, 0.029642857142857113, 0.2914285714285714, 0.796875, 1.8939285714285716], \"y\": [3.0098540285312625, 3.2789506487981437, 3.3458054880518513, 3.2980764895039, 3.3776657744339125, 3.155164332576331, 2.9424719552431657], \"error_y\": {\"type\": \"data\", \"array\": [0.011869993169473415, 0.013442341872282864, 0.013332304302489583, 0.011316632323537341, 0.016261976753365825, 0.014275571179529838, 0.009666054955119354], \"color\": \"rgb(0,100,246)\", \"visible\": true}, \"line\": {\"color\": \"rgb(0,176,246)\"}, \"mode\": \"lines+markers\", \"name\": \"Sim Data\"}, {\"type\": \"scatter\", \"x\": [-1.6585000000000005, -0.7378947368421054, -0.32650000000000007, 0.029642857142857113, 0.2914285714285714, 0.796875, 1.8939285714285716], \"y\": [0.1, 0.10526315789473684, 0.65, 0.5357142857142857, 0.7857142857142857, 0.6875, 0.8571428571428571], \"error_y\": {\"type\": \"data\", \"array\": [0.06882472016116851, 0.07233518641434492, 0.10942433098048311, 0.09597925890831607, 0.11380392954509881, 0.11967838846954225, 0.06734350297014739], \"color\": \"rgb(0,170,80)\", \"visible\": true}, \"line\": {\"color\": \"rgb(0,100,80)\"}, \"mode\": \"lines+markers\", \"name\": \"Test Data\", \"xaxis\": \"x2\", \"yaxis\": \"y2\"}, {\"type\": \"scatter\", \"x\": [-1.6585000000000005, -0.7378947368421054, -0.32650000000000007, 0.029642857142857113, 0.2914285714285714, 0.796875, 1.8939285714285716], \"y\": [0.18389592123769338, 0.3478515209529887, 0.453473066018631, 0.5209018318459371, 0.5540765391014975, 0.6862856421902599, 0.8401233682398508], \"error_y\": {\"type\": \"data\", \"array\": [0.002745717896097248, 0.003473414581680307, 0.0035423134572409123, 0.003002883866002801, 0.004227947612694065, 0.003685456770051942, 0.0021947965967668145], \"color\": \"rgb(0,100,246)\", \"visible\": true}, \"line\": {\"color\": \"rgb(0,176,246)\"}, \"mode\": \"lines+markers\", \"name\": \"Sim Data\", \"xaxis\": \"x2\", \"yaxis\": \"y2\"}], {\"paper_bgcolor\": \"rgb(255,255,255)\", \"plot_bgcolor\": \"rgb(229,229,229)\", \"xaxis\": {\"gridcolor\": \"rgb(255,255,255)\", \"range\": [-2, 2], \"domain\": [0, 0.45], \"showgrid\": true, \"showline\": false, \"showticklabels\": true, \"tickcolor\": \"rgb(127,127,127)\", \"ticks\": \"outside\", \"title\": \"Net Value ($)\", \"zeroline\": false}, \"xaxis2\": {\"gridcolor\": \"rgb(255,255,255)\", \"range\": [-2, 2], \"domain\": [0.55, 1], \"showgrid\": true, \"showline\": false, \"showticklabels\": true, \"tickcolor\": \"rgb(127,127,127)\", \"ticks\": \"outside\", \"title\": \"Net Value ($)\", \"zeroline\": false}, \"yaxis1\": {\"gridcolor\": \"rgb(255,255,255)\", \"range\": [0], \"showgrid\": true, \"showline\": false, \"showticklabels\": true, \"tickcolor\": \"rgb(127,127,127)\", \"ticks\": \"outside\", \"title\": \"RT (s)\", \"anchor\": \"x1\", \"zeroline\": false}, \"yaxis2\": {\"gridcolor\": \"rgb(255,255,255)\", \"range\": [0], \"showgrid\": true, \"showline\": false, \"showticklabels\": true, \"tickcolor\": \"rgb(127,127,127)\", \"ticks\": \"outside\", \"title\": \"p (accept)\", \"anchor\": \"x2\", \"zeroline\": false}, \"annotations\": [{\"x\": 0.01, \"y\": 1.12, \"showarrow\": false, \"text\": \"PARAMETERS: v: 0.051, a: 0.164, \\u03b8: 0.1\", \"xref\": \"paper\", \"yref\": \"paper\"}, {\"x\": 0.01, \"y\": 1.08, \"showarrow\": false, \"text\": \"MLE: 1135.7\", \"xref\": \"paper\", \"yref\": \"paper\"}, {\"x\": 0.01, \"y\": 1.2, \"showarrow\": false, \"text\": \"SUBJECT: 21\", \"font\": {\"family\": \"Arial, sans-serif\", \"size\": 22}, \"xref\": \"paper\", \"yref\": \"paper\"}]}, {\"showLink\": true, \"linkText\": \"Export to plot.ly\"})});</script>"
      ],
      "text/vnd.plotly.v1+html": [
       "<div id=\"3d2674be-7ddd-4f47-96a2-7253064f0660\" style=\"height: 525px; width: 100%;\" class=\"plotly-graph-div\"></div><script type=\"text/javascript\">require([\"plotly\"], function(Plotly) { window.PLOTLYENV=window.PLOTLYENV || {};window.PLOTLYENV.BASE_URL=\"https://plot.ly\";Plotly.newPlot(\"3d2674be-7ddd-4f47-96a2-7253064f0660\", [{\"type\": \"scatter\", \"x\": [-1.6585000000000005, -0.7378947368421054, -0.32650000000000007, 0.029642857142857113, 0.2914285714285714, 0.796875, 1.8939285714285716], \"y\": [3.1716958259727117, 2.8424107588913397, 3.361843893039624, 2.794557229453597, 2.400198578547652, 2.568326822467496, 2.657539971324566], \"error_y\": {\"type\": \"data\", \"array\": [0.3118077256767805, 0.4157580477162434, 0.48536925440411977, 0.30685050502357003, 0.4993361362191596, 0.4065925022607889, 0.40756992153804006], \"color\": \"rgb(0,170,80)\", \"visible\": true}, \"line\": {\"color\": \"rgb(0,100,80)\"}, \"mode\": \"lines+markers\", \"name\": \"Test Data\"}, {\"type\": \"scatter\", \"x\": [-1.6585000000000005, -0.7378947368421054, -0.32650000000000007, 0.029642857142857113, 0.2914285714285714, 0.796875, 1.8939285714285716], \"y\": [3.0098540285312625, 3.2789506487981437, 3.3458054880518513, 3.2980764895039, 3.3776657744339125, 3.155164332576331, 2.9424719552431657], \"error_y\": {\"type\": \"data\", \"array\": [0.011869993169473415, 0.013442341872282864, 0.013332304302489583, 0.011316632323537341, 0.016261976753365825, 0.014275571179529838, 0.009666054955119354], \"color\": \"rgb(0,100,246)\", \"visible\": true}, \"line\": {\"color\": \"rgb(0,176,246)\"}, \"mode\": \"lines+markers\", \"name\": \"Sim Data\"}, {\"type\": \"scatter\", \"x\": [-1.6585000000000005, -0.7378947368421054, -0.32650000000000007, 0.029642857142857113, 0.2914285714285714, 0.796875, 1.8939285714285716], \"y\": [0.1, 0.10526315789473684, 0.65, 0.5357142857142857, 0.7857142857142857, 0.6875, 0.8571428571428571], \"error_y\": {\"type\": \"data\", \"array\": [0.06882472016116851, 0.07233518641434492, 0.10942433098048311, 0.09597925890831607, 0.11380392954509881, 0.11967838846954225, 0.06734350297014739], \"color\": \"rgb(0,170,80)\", \"visible\": true}, \"line\": {\"color\": \"rgb(0,100,80)\"}, \"mode\": \"lines+markers\", \"name\": \"Test Data\", \"xaxis\": \"x2\", \"yaxis\": \"y2\"}, {\"type\": \"scatter\", \"x\": [-1.6585000000000005, -0.7378947368421054, -0.32650000000000007, 0.029642857142857113, 0.2914285714285714, 0.796875, 1.8939285714285716], \"y\": [0.18389592123769338, 0.3478515209529887, 0.453473066018631, 0.5209018318459371, 0.5540765391014975, 0.6862856421902599, 0.8401233682398508], \"error_y\": {\"type\": \"data\", \"array\": [0.002745717896097248, 0.003473414581680307, 0.0035423134572409123, 0.003002883866002801, 0.004227947612694065, 0.003685456770051942, 0.0021947965967668145], \"color\": \"rgb(0,100,246)\", \"visible\": true}, \"line\": {\"color\": \"rgb(0,176,246)\"}, \"mode\": \"lines+markers\", \"name\": \"Sim Data\", \"xaxis\": \"x2\", \"yaxis\": \"y2\"}], {\"paper_bgcolor\": \"rgb(255,255,255)\", \"plot_bgcolor\": \"rgb(229,229,229)\", \"xaxis\": {\"gridcolor\": \"rgb(255,255,255)\", \"range\": [-2, 2], \"domain\": [0, 0.45], \"showgrid\": true, \"showline\": false, \"showticklabels\": true, \"tickcolor\": \"rgb(127,127,127)\", \"ticks\": \"outside\", \"title\": \"Net Value ($)\", \"zeroline\": false}, \"xaxis2\": {\"gridcolor\": \"rgb(255,255,255)\", \"range\": [-2, 2], \"domain\": [0.55, 1], \"showgrid\": true, \"showline\": false, \"showticklabels\": true, \"tickcolor\": \"rgb(127,127,127)\", \"ticks\": \"outside\", \"title\": \"Net Value ($)\", \"zeroline\": false}, \"yaxis1\": {\"gridcolor\": \"rgb(255,255,255)\", \"range\": [0], \"showgrid\": true, \"showline\": false, \"showticklabels\": true, \"tickcolor\": \"rgb(127,127,127)\", \"ticks\": \"outside\", \"title\": \"RT (s)\", \"anchor\": \"x1\", \"zeroline\": false}, \"yaxis2\": {\"gridcolor\": \"rgb(255,255,255)\", \"range\": [0], \"showgrid\": true, \"showline\": false, \"showticklabels\": true, \"tickcolor\": \"rgb(127,127,127)\", \"ticks\": \"outside\", \"title\": \"p (accept)\", \"anchor\": \"x2\", \"zeroline\": false}, \"annotations\": [{\"x\": 0.01, \"y\": 1.12, \"showarrow\": false, \"text\": \"PARAMETERS: v: 0.051, a: 0.164, \\u03b8: 0.1\", \"xref\": \"paper\", \"yref\": \"paper\"}, {\"x\": 0.01, \"y\": 1.08, \"showarrow\": false, \"text\": \"MLE: 1135.7\", \"xref\": \"paper\", \"yref\": \"paper\"}, {\"x\": 0.01, \"y\": 1.2, \"showarrow\": false, \"text\": \"SUBJECT: 21\", \"font\": {\"family\": \"Arial, sans-serif\", \"size\": 22}, \"xref\": \"paper\", \"yref\": \"paper\"}]}, {\"showLink\": true, \"linkText\": \"Export to plot.ly\"})});</script>"
      ]
     },
     "metadata": {},
     "output_type": "display_data"
    },
    {
     "data": {
      "application/vnd.plotly.v1+json": {
       "data": [
        {
         "error_y": {
          "array": [
           0.19173348011571628,
           0.5611668883511371,
           0.3445719090842054,
           0.3016608943141484,
           0.1986324750225816,
           0.376504634637793,
           0.20831930727925804
          ],
          "color": "rgb(0,170,80)",
          "type": "data",
          "visible": true
         },
         "line": {
          "color": "rgb(0,100,80)"
         },
         "mode": "lines+markers",
         "name": "Test Data",
         "type": "scatter",
         "x": [
          -1.6217391304347828,
          -0.765,
          -0.32772727272727276,
          0.036399999999999946,
          0.30249999999999994,
          0.7152941176470591,
          1.5676
         ],
         "y": [
          2.216818046609304,
          3.108484979552616,
          3.016053792057474,
          3.3867811144399464,
          2.9161136444114777,
          2.415822366468252,
          2.1334348148759457
         ]
        },
        {
         "error_y": {
          "array": [
           0.01082284527251988,
           0.015587388319832767,
           0.012967687660157873,
           0.011685688893218174,
           0.012315063568151782,
           0.013830314931974352,
           0.010650314671358109
          ],
          "color": "rgb(0,100,246)",
          "type": "data",
          "visible": true
         },
         "line": {
          "color": "rgb(0,176,246)"
         },
         "mode": "lines+markers",
         "name": "Sim Data",
         "type": "scatter",
         "x": [
          -1.6217391304347828,
          -0.765,
          -0.32772727272727276,
          0.036399999999999946,
          0.30249999999999994,
          0.7152941176470591,
          1.5676
         ],
         "y": [
          2.987280906743683,
          3.1970510491023254,
          3.3645804671693793,
          3.2036847782176725,
          3.3396333066115234,
          3.1591458271458324,
          3.020523003977975
         ]
        },
        {
         "error_y": {
          "array": [
           0,
           0.09705231721239391,
           0.09144861547306322,
           0.09165151389911681,
           0.09477598811252413,
           0,
           0.04
          ],
          "color": "rgb(0,170,80)",
          "type": "data",
          "visible": true
         },
         "line": {
          "color": "rgb(0,100,80)"
         },
         "mode": "lines+markers",
         "name": "Test Data",
         "type": "scatter",
         "x": [
          -1.6217391304347828,
          -0.765,
          -0.32772727272727276,
          0.036399999999999946,
          0.30249999999999994,
          0.7152941176470591,
          1.5676
         ],
         "xaxis": "x2",
         "y": [
          0,
          0.14285714285714285,
          0.22727272727272727,
          0.72,
          0.7083333333333334,
          1,
          0.96
         ],
         "yaxis": "y2"
        },
        {
         "error_y": {
          "array": [
           0.0025577843762613715,
           0.003988493910250558,
           0.003359299682101418,
           0.003173549108256671,
           0.0032203260017019766,
           0.0035892243945110976,
           0.0025032612450796186
          ],
          "color": "rgb(0,100,246)",
          "type": "data",
          "visible": true
         },
         "line": {
          "color": "rgb(0,176,246)"
         },
         "mode": "lines+markers",
         "name": "Sim Data",
         "type": "scatter",
         "x": [
          -1.6217391304347828,
          -0.765,
          -0.32772727272727276,
          0.036399999999999946,
          0.30249999999999994,
          0.7152941176470591,
          1.5676
         ],
         "xaxis": "x2",
         "y": [
          0.1829679226292066,
          0.32857451871079385,
          0.4322696339893323,
          0.47349923244728126,
          0.5649550651871229,
          0.682031482031482,
          0.8066862217221843
         ],
         "yaxis": "y2"
        }
       ],
       "layout": {
        "annotations": [
         {
          "showarrow": false,
          "text": "PARAMETERS: v: 0.051, a: 0.164, θ: 0.1",
          "x": 0.01,
          "xref": "paper",
          "y": 1.12,
          "yref": "paper"
         },
         {
          "showarrow": false,
          "text": "MLE: 643.18",
          "x": 0.01,
          "xref": "paper",
          "y": 1.08,
          "yref": "paper"
         },
         {
          "font": {
           "family": "Arial, sans-serif",
           "size": 22
          },
          "showarrow": false,
          "text": "SUBJECT: 22",
          "x": 0.01,
          "xref": "paper",
          "y": 1.2,
          "yref": "paper"
         }
        ],
        "paper_bgcolor": "rgb(255,255,255)",
        "plot_bgcolor": "rgb(229,229,229)",
        "xaxis": {
         "domain": [
          0,
          0.45
         ],
         "gridcolor": "rgb(255,255,255)",
         "range": [
          -2,
          2
         ],
         "showgrid": true,
         "showline": false,
         "showticklabels": true,
         "tickcolor": "rgb(127,127,127)",
         "ticks": "outside",
         "title": "Net Value ($)",
         "zeroline": false
        },
        "xaxis2": {
         "domain": [
          0.55,
          1
         ],
         "gridcolor": "rgb(255,255,255)",
         "range": [
          -2,
          2
         ],
         "showgrid": true,
         "showline": false,
         "showticklabels": true,
         "tickcolor": "rgb(127,127,127)",
         "ticks": "outside",
         "title": "Net Value ($)",
         "zeroline": false
        },
        "yaxis1": {
         "anchor": "x1",
         "gridcolor": "rgb(255,255,255)",
         "range": [
          0
         ],
         "showgrid": true,
         "showline": false,
         "showticklabels": true,
         "tickcolor": "rgb(127,127,127)",
         "ticks": "outside",
         "title": "RT (s)",
         "zeroline": false
        },
        "yaxis2": {
         "anchor": "x2",
         "gridcolor": "rgb(255,255,255)",
         "range": [
          0
         ],
         "showgrid": true,
         "showline": false,
         "showticklabels": true,
         "tickcolor": "rgb(127,127,127)",
         "ticks": "outside",
         "title": "p (accept)",
         "zeroline": false
        }
       }
      },
      "text/html": [
       "<div id=\"8619a23b-7b1d-4551-8437-78e419489358\" style=\"height: 525px; width: 100%;\" class=\"plotly-graph-div\"></div><script type=\"text/javascript\">require([\"plotly\"], function(Plotly) { window.PLOTLYENV=window.PLOTLYENV || {};window.PLOTLYENV.BASE_URL=\"https://plot.ly\";Plotly.newPlot(\"8619a23b-7b1d-4551-8437-78e419489358\", [{\"type\": \"scatter\", \"x\": [-1.6217391304347828, -0.765, -0.32772727272727276, 0.036399999999999946, 0.30249999999999994, 0.7152941176470591, 1.5676], \"y\": [2.216818046609304, 3.108484979552616, 3.016053792057474, 3.3867811144399464, 2.9161136444114777, 2.415822366468252, 2.1334348148759457], \"error_y\": {\"type\": \"data\", \"array\": [0.19173348011571628, 0.5611668883511371, 0.3445719090842054, 0.3016608943141484, 0.1986324750225816, 0.376504634637793, 0.20831930727925804], \"color\": \"rgb(0,170,80)\", \"visible\": true}, \"line\": {\"color\": \"rgb(0,100,80)\"}, \"mode\": \"lines+markers\", \"name\": \"Test Data\"}, {\"type\": \"scatter\", \"x\": [-1.6217391304347828, -0.765, -0.32772727272727276, 0.036399999999999946, 0.30249999999999994, 0.7152941176470591, 1.5676], \"y\": [2.987280906743683, 3.1970510491023254, 3.3645804671693793, 3.2036847782176725, 3.3396333066115234, 3.1591458271458324, 3.020523003977975], \"error_y\": {\"type\": \"data\", \"array\": [0.01082284527251988, 0.015587388319832767, 0.012967687660157873, 0.011685688893218174, 0.012315063568151782, 0.013830314931974352, 0.010650314671358109], \"color\": \"rgb(0,100,246)\", \"visible\": true}, \"line\": {\"color\": \"rgb(0,176,246)\"}, \"mode\": \"lines+markers\", \"name\": \"Sim Data\"}, {\"type\": \"scatter\", \"x\": [-1.6217391304347828, -0.765, -0.32772727272727276, 0.036399999999999946, 0.30249999999999994, 0.7152941176470591, 1.5676], \"y\": [0.0, 0.14285714285714285, 0.22727272727272727, 0.72, 0.7083333333333334, 1.0, 0.96], \"error_y\": {\"type\": \"data\", \"array\": [0.0, 0.09705231721239391, 0.09144861547306322, 0.09165151389911681, 0.09477598811252413, 0.0, 0.04], \"color\": \"rgb(0,170,80)\", \"visible\": true}, \"line\": {\"color\": \"rgb(0,100,80)\"}, \"mode\": \"lines+markers\", \"name\": \"Test Data\", \"xaxis\": \"x2\", \"yaxis\": \"y2\"}, {\"type\": \"scatter\", \"x\": [-1.6217391304347828, -0.765, -0.32772727272727276, 0.036399999999999946, 0.30249999999999994, 0.7152941176470591, 1.5676], \"y\": [0.1829679226292066, 0.32857451871079385, 0.4322696339893323, 0.47349923244728126, 0.5649550651871229, 0.682031482031482, 0.8066862217221843], \"error_y\": {\"type\": \"data\", \"array\": [0.0025577843762613715, 0.003988493910250558, 0.003359299682101418, 0.003173549108256671, 0.0032203260017019766, 0.0035892243945110976, 0.0025032612450796186], \"color\": \"rgb(0,100,246)\", \"visible\": true}, \"line\": {\"color\": \"rgb(0,176,246)\"}, \"mode\": \"lines+markers\", \"name\": \"Sim Data\", \"xaxis\": \"x2\", \"yaxis\": \"y2\"}], {\"paper_bgcolor\": \"rgb(255,255,255)\", \"plot_bgcolor\": \"rgb(229,229,229)\", \"xaxis\": {\"gridcolor\": \"rgb(255,255,255)\", \"range\": [-2, 2], \"domain\": [0, 0.45], \"showgrid\": true, \"showline\": false, \"showticklabels\": true, \"tickcolor\": \"rgb(127,127,127)\", \"ticks\": \"outside\", \"title\": \"Net Value ($)\", \"zeroline\": false}, \"xaxis2\": {\"gridcolor\": \"rgb(255,255,255)\", \"range\": [-2, 2], \"domain\": [0.55, 1], \"showgrid\": true, \"showline\": false, \"showticklabels\": true, \"tickcolor\": \"rgb(127,127,127)\", \"ticks\": \"outside\", \"title\": \"Net Value ($)\", \"zeroline\": false}, \"yaxis1\": {\"gridcolor\": \"rgb(255,255,255)\", \"range\": [0], \"showgrid\": true, \"showline\": false, \"showticklabels\": true, \"tickcolor\": \"rgb(127,127,127)\", \"ticks\": \"outside\", \"title\": \"RT (s)\", \"anchor\": \"x1\", \"zeroline\": false}, \"yaxis2\": {\"gridcolor\": \"rgb(255,255,255)\", \"range\": [0], \"showgrid\": true, \"showline\": false, \"showticklabels\": true, \"tickcolor\": \"rgb(127,127,127)\", \"ticks\": \"outside\", \"title\": \"p (accept)\", \"anchor\": \"x2\", \"zeroline\": false}, \"annotations\": [{\"x\": 0.01, \"y\": 1.12, \"showarrow\": false, \"text\": \"PARAMETERS: v: 0.051, a: 0.164, \\u03b8: 0.1\", \"xref\": \"paper\", \"yref\": \"paper\"}, {\"x\": 0.01, \"y\": 1.08, \"showarrow\": false, \"text\": \"MLE: 643.18\", \"xref\": \"paper\", \"yref\": \"paper\"}, {\"x\": 0.01, \"y\": 1.2, \"showarrow\": false, \"text\": \"SUBJECT: 22\", \"font\": {\"family\": \"Arial, sans-serif\", \"size\": 22}, \"xref\": \"paper\", \"yref\": \"paper\"}]}, {\"showLink\": true, \"linkText\": \"Export to plot.ly\"})});</script>"
      ],
      "text/vnd.plotly.v1+html": [
       "<div id=\"8619a23b-7b1d-4551-8437-78e419489358\" style=\"height: 525px; width: 100%;\" class=\"plotly-graph-div\"></div><script type=\"text/javascript\">require([\"plotly\"], function(Plotly) { window.PLOTLYENV=window.PLOTLYENV || {};window.PLOTLYENV.BASE_URL=\"https://plot.ly\";Plotly.newPlot(\"8619a23b-7b1d-4551-8437-78e419489358\", [{\"type\": \"scatter\", \"x\": [-1.6217391304347828, -0.765, -0.32772727272727276, 0.036399999999999946, 0.30249999999999994, 0.7152941176470591, 1.5676], \"y\": [2.216818046609304, 3.108484979552616, 3.016053792057474, 3.3867811144399464, 2.9161136444114777, 2.415822366468252, 2.1334348148759457], \"error_y\": {\"type\": \"data\", \"array\": [0.19173348011571628, 0.5611668883511371, 0.3445719090842054, 0.3016608943141484, 0.1986324750225816, 0.376504634637793, 0.20831930727925804], \"color\": \"rgb(0,170,80)\", \"visible\": true}, \"line\": {\"color\": \"rgb(0,100,80)\"}, \"mode\": \"lines+markers\", \"name\": \"Test Data\"}, {\"type\": \"scatter\", \"x\": [-1.6217391304347828, -0.765, -0.32772727272727276, 0.036399999999999946, 0.30249999999999994, 0.7152941176470591, 1.5676], \"y\": [2.987280906743683, 3.1970510491023254, 3.3645804671693793, 3.2036847782176725, 3.3396333066115234, 3.1591458271458324, 3.020523003977975], \"error_y\": {\"type\": \"data\", \"array\": [0.01082284527251988, 0.015587388319832767, 0.012967687660157873, 0.011685688893218174, 0.012315063568151782, 0.013830314931974352, 0.010650314671358109], \"color\": \"rgb(0,100,246)\", \"visible\": true}, \"line\": {\"color\": \"rgb(0,176,246)\"}, \"mode\": \"lines+markers\", \"name\": \"Sim Data\"}, {\"type\": \"scatter\", \"x\": [-1.6217391304347828, -0.765, -0.32772727272727276, 0.036399999999999946, 0.30249999999999994, 0.7152941176470591, 1.5676], \"y\": [0.0, 0.14285714285714285, 0.22727272727272727, 0.72, 0.7083333333333334, 1.0, 0.96], \"error_y\": {\"type\": \"data\", \"array\": [0.0, 0.09705231721239391, 0.09144861547306322, 0.09165151389911681, 0.09477598811252413, 0.0, 0.04], \"color\": \"rgb(0,170,80)\", \"visible\": true}, \"line\": {\"color\": \"rgb(0,100,80)\"}, \"mode\": \"lines+markers\", \"name\": \"Test Data\", \"xaxis\": \"x2\", \"yaxis\": \"y2\"}, {\"type\": \"scatter\", \"x\": [-1.6217391304347828, -0.765, -0.32772727272727276, 0.036399999999999946, 0.30249999999999994, 0.7152941176470591, 1.5676], \"y\": [0.1829679226292066, 0.32857451871079385, 0.4322696339893323, 0.47349923244728126, 0.5649550651871229, 0.682031482031482, 0.8066862217221843], \"error_y\": {\"type\": \"data\", \"array\": [0.0025577843762613715, 0.003988493910250558, 0.003359299682101418, 0.003173549108256671, 0.0032203260017019766, 0.0035892243945110976, 0.0025032612450796186], \"color\": \"rgb(0,100,246)\", \"visible\": true}, \"line\": {\"color\": \"rgb(0,176,246)\"}, \"mode\": \"lines+markers\", \"name\": \"Sim Data\", \"xaxis\": \"x2\", \"yaxis\": \"y2\"}], {\"paper_bgcolor\": \"rgb(255,255,255)\", \"plot_bgcolor\": \"rgb(229,229,229)\", \"xaxis\": {\"gridcolor\": \"rgb(255,255,255)\", \"range\": [-2, 2], \"domain\": [0, 0.45], \"showgrid\": true, \"showline\": false, \"showticklabels\": true, \"tickcolor\": \"rgb(127,127,127)\", \"ticks\": \"outside\", \"title\": \"Net Value ($)\", \"zeroline\": false}, \"xaxis2\": {\"gridcolor\": \"rgb(255,255,255)\", \"range\": [-2, 2], \"domain\": [0.55, 1], \"showgrid\": true, \"showline\": false, \"showticklabels\": true, \"tickcolor\": \"rgb(127,127,127)\", \"ticks\": \"outside\", \"title\": \"Net Value ($)\", \"zeroline\": false}, \"yaxis1\": {\"gridcolor\": \"rgb(255,255,255)\", \"range\": [0], \"showgrid\": true, \"showline\": false, \"showticklabels\": true, \"tickcolor\": \"rgb(127,127,127)\", \"ticks\": \"outside\", \"title\": \"RT (s)\", \"anchor\": \"x1\", \"zeroline\": false}, \"yaxis2\": {\"gridcolor\": \"rgb(255,255,255)\", \"range\": [0], \"showgrid\": true, \"showline\": false, \"showticklabels\": true, \"tickcolor\": \"rgb(127,127,127)\", \"ticks\": \"outside\", \"title\": \"p (accept)\", \"anchor\": \"x2\", \"zeroline\": false}, \"annotations\": [{\"x\": 0.01, \"y\": 1.12, \"showarrow\": false, \"text\": \"PARAMETERS: v: 0.051, a: 0.164, \\u03b8: 0.1\", \"xref\": \"paper\", \"yref\": \"paper\"}, {\"x\": 0.01, \"y\": 1.08, \"showarrow\": false, \"text\": \"MLE: 643.18\", \"xref\": \"paper\", \"yref\": \"paper\"}, {\"x\": 0.01, \"y\": 1.2, \"showarrow\": false, \"text\": \"SUBJECT: 22\", \"font\": {\"family\": \"Arial, sans-serif\", \"size\": 22}, \"xref\": \"paper\", \"yref\": \"paper\"}]}, {\"showLink\": true, \"linkText\": \"Export to plot.ly\"})});</script>"
      ]
     },
     "metadata": {},
     "output_type": "display_data"
    }
   ],
   "source": [
    "for i in range(23):\n",
    "    mplot.plotly_combined(i, subject_data, test_expdata, subj_params_df)"
   ]
  },
  {
   "cell_type": "code",
   "execution_count": null,
   "metadata": {
    "collapsed": true,
    "hidden": true
   },
   "outputs": [],
   "source": []
  }
 ],
 "metadata": {
  "anaconda-cloud": {},
  "kernelspec": {
   "display_name": "Python [conda env:Python3_MADE]",
   "language": "python",
   "name": "conda-env-Python3_MADE-py"
  },
  "language_info": {
   "codemirror_mode": {
    "name": "ipython",
    "version": 3
   },
   "file_extension": ".py",
   "mimetype": "text/x-python",
   "name": "python",
   "nbconvert_exporter": "python",
   "pygments_lexer": "ipython3",
   "version": "3.6.2"
  },
  "toc": {
   "nav_menu": {},
   "number_sections": true,
   "sideBar": true,
   "skip_h1_title": false,
   "title_cell": "Table of Contents",
   "title_sidebar": "Contents",
   "toc_cell": false,
   "toc_position": {},
   "toc_section_display": true,
   "toc_window_display": false
  }
 },
 "nbformat": 4,
 "nbformat_minor": 2
}
