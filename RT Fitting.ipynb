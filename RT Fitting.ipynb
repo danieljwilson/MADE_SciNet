{
 "cells": [
  {
   "cell_type": "markdown",
   "metadata": {},
   "source": [
    "# IMPORTS"
   ]
  },
  {
   "cell_type": "markdown",
   "metadata": {},
   "source": [
    "## Libraries"
   ]
  },
  {
   "cell_type": "code",
   "execution_count": 1,
   "metadata": {
    "collapsed": false
   },
   "outputs": [
    {
     "name": "stderr",
     "output_type": "stream",
     "text": [
      "/home/c/chutcher/wilsodj/.conda/envs/Python2_MADE/lib/python2.7/site-packages/subprocess32.py:472: RuntimeWarning: The _posixsubprocess module is not being used. Child process reliability may suffer if your program uses threads.\n",
      "  \"program uses threads.\", RuntimeWarning)\n"
     ]
    },
    {
     "name": "stdout",
     "output_type": "stream",
     "text": [
      "2.7.14 | packaged by conda-forge | (default, Oct  5 2017, 14:19:56) \n",
      "[GCC 4.8.2 20140120 (Red Hat 4.8.2-15)]\n"
     ]
    }
   ],
   "source": [
    "import numpy as np\n",
    "import pandas as pd\n",
    "import math\n",
    "import matplotlib.pyplot as plt\n",
    "import glob\n",
    "import os                                 # for os independent functions\n",
    "#import seaborn as sns                     # for kernal density estimation\n",
    "import datetime as dt                     # for naming files\n",
    "from scipy.special import expit           # for logistic function\n",
    "from scipy.stats import binned_statistic  # for binning RT vals\n",
    "from scipy import stats\n",
    "import sys\n",
    "import importlib                          # in order to reload edited modules\n",
    "import itertools                          # for creating values list (for aDDM of all stimuli value combos)\n",
    "import time\n",
    "import shelve\n",
    "import pickle\n",
    "#from tqdm import tqdm                     # for keeping track of progress\n",
    "import pdb                                # for debugging use: pdb.set_trace()\n",
    "import copy                               # to do deep copies\n",
    "\n",
    "# display matplotlib graphs \n",
    "%matplotlib inline   \n",
    "# %precision %.8f check on this...\n",
    "\n",
    "print(sys.version)"
   ]
  },
  {
   "cell_type": "markdown",
   "metadata": {
    "heading_collapsed": true
   },
   "source": [
    "## GNUPLOT"
   ]
  },
  {
   "cell_type": "markdown",
   "metadata": {
    "hidden": true
   },
   "source": [
    "Not necessary"
   ]
  },
  {
   "cell_type": "code",
   "execution_count": 21,
   "metadata": {
    "collapsed": false,
    "hidden": true
   },
   "outputs": [],
   "source": [
    "from Gnuplot import Gnuplot as gplot\n",
    "from Gnuplot import Data as gdata\n",
    "from Gnuplot import Func as gfunc\n",
    "g = gplot(persist = 1)"
   ]
  },
  {
   "cell_type": "markdown",
   "metadata": {},
   "source": [
    "## Ex-Gaussian Utilities\n",
    "\n",
    "---\n",
    "\n",
    "[Paper](https://www.groundai.com/project/exgutils-a-python-package-for-statistical-analysis-with-the-ex-gaussian-probability-density/) on library ExGUtils."
   ]
  },
  {
   "cell_type": "code",
   "execution_count": 2,
   "metadata": {
    "collapsed": false
   },
   "outputs": [],
   "source": [
    "#CHANGES\n",
    "#drand_exp is now called exp_rvs, drand_gauss -> gauss_rvs and drand_exg -> exg_rvs\n",
    "\n",
    "#from ExGUtils.pyexg import stats, drand, drand_exp, drand_gauss, drand_exg\n",
    "from ExGUtils.pyexg import stats, drand, exp_rvs, gauss_rvs, exg_rvs\n",
    "from ExGUtils.pyexg import *"
   ]
  },
  {
   "cell_type": "code",
   "execution_count": 4,
   "metadata": {
    "collapsed": true
   },
   "outputs": [
    {
     "ename": "ImportError",
     "evalue": "No module named uts",
     "output_type": "error",
     "traceback": [
      "\u001b[0;31m\u001b[0m",
      "\u001b[0;31mImportError\u001b[0mTraceback (most recent call last)",
      "\u001b[0;32m<ipython-input-4-96597e5b3839>\u001b[0m in \u001b[0;36m<module>\u001b[0;34m()\u001b[0m\n\u001b[0;32m----> 1\u001b[0;31m \u001b[0;32mfrom\u001b[0m \u001b[0mExGUtils\u001b[0m\u001b[0;34m.\u001b[0m\u001b[0muts\u001b[0m \u001b[0;32mimport\u001b[0m \u001b[0mstats\u001b[0m\u001b[0;34m,\u001b[0m \u001b[0mdrand\u001b[0m\u001b[0;34m,\u001b[0m \u001b[0mdrand_exp\u001b[0m\u001b[0;34m,\u001b[0m \u001b[0mdrand_gauss\u001b[0m\u001b[0;34m,\u001b[0m \u001b[0mdrand_exg\u001b[0m\u001b[0;34m\u001b[0m\u001b[0m\n\u001b[0m\u001b[1;32m      2\u001b[0m \u001b[0;32mfrom\u001b[0m \u001b[0mExGUtils\u001b[0m\u001b[0;34m.\u001b[0m\u001b[0muts\u001b[0m \u001b[0;32mimport\u001b[0m \u001b[0;34m*\u001b[0m\u001b[0;34m\u001b[0m\u001b[0m\n",
      "\u001b[0;31mImportError\u001b[0m: No module named uts"
     ]
    }
   ],
   "source": [
    "# not working\n",
    "from ExGUtils.uts import stats, drand, drand_exp, drand_gauss, drand_exg\n",
    "from ExGUtils.uts import *"
   ]
  },
  {
   "cell_type": "markdown",
   "metadata": {},
   "source": [
    "# Exercises"
   ]
  },
  {
   "cell_type": "markdown",
   "metadata": {},
   "source": [
    "## Listing 2"
   ]
  },
  {
   "cell_type": "code",
   "execution_count": 3,
   "metadata": {
    "collapsed": false
   },
   "outputs": [
    {
     "name": "stdout",
     "output_type": "stream",
     "text": [
      "Homogeneous:_M=0.4997_(0.5000)__S=0.2888_(0.2887)___t=0.0019_(0.0000)\n",
      "Exponential:_M=150.0346_(150.0000)__S=150.0358_(150.0000)___t=2.0033_(2.0000)\n",
      "Gaussian:_M=100.0116_(100.0000)__S=50.0197_(50.0000)___t=0.0022_(0.0000)\n",
      "Ex-Gaussian:_M=249.8946_(250.0000)__S=158.1552_(158.1139)___t=1.7159_(1.7076)\n"
     ]
    }
   ],
   "source": [
    "N = 1000000\n",
    "mu = 100.; sig = 50.; tau = 150.\n",
    "li1 = [drand() for ii in xrange(N)]\n",
    "li2 = [exp_rvs(tau) for ii in xrange(N)]\n",
    "li3 = [gauss_rvs(mu, sig) for ii in xrange(N)]\n",
    "li4 = [exg_rvs(mu, sig , tau) for ii in xrange(N)]\n",
    "\n",
    "# After each result , the expected value in parenthesis\n",
    "\n",
    "[M, S, t] = stats(li1, True) \n",
    "print \"Homogeneous:_M=%4.4f_(%4.4f)__S=%4.4f_(%4.4f)___t=%4.4f_(%4.4f)\" %\\\n",
    "(M, 0.5 , S, (1./12)**.5 , t, 0.)\n",
    "\n",
    "[M, S, t] = stats(li2, True) \n",
    "print \"Exponential:_M=%4.4f_(%4.4f)__S=%4.4f_(%4.4f)___t=%4.4f_(%4.4f)\" %\\\n",
    "(M, tau , S, tau , t, 2)\n",
    "\n",
    "[M, S, t] = stats(li3, True) \n",
    "print \"Gaussian:_M=%4.4f_(%4.4f)__S=%4.4f_(%4.4f)___t=%4.4f_(%4.4f)\" %\\\n",
    "(M, mu , S, sig , t, 0.)\n",
    "\n",
    "[M, S, t] = stats(li4, True) \n",
    "print \"Ex-Gaussian:_M=%4.4f_(%4.4f)__S=%4.4f_(%4.4f)___t=%4.4f_(%4.4f)\" %\\\n",
    "(M, mu+tau , S, (sig**2+tau**2)**.5 , t, 2.*(tau**3)/((sig**2+tau**2)**(3./2.)))\n",
    "\n"
   ]
  },
  {
   "cell_type": "markdown",
   "metadata": {
    "collapsed": true
   },
   "source": [
    "##  Histogram"
   ]
  },
  {
   "cell_type": "code",
   "execution_count": 30,
   "metadata": {
    "collapsed": false
   },
   "outputs": [
    {
     "data": {
      "image/png": "[encoded data removed]",
      "text/plain": [
       "<matplotlib.figure.Figure at 0x2ab07feb1110>"
      ]
     },
     "metadata": {},
     "output_type": "display_data"
    }
   ],
   "source": [
    "N = 10000\n",
    "mu = 100.; sig = 50.; tau = 150.\n",
    "li4 = [exg_rvs(mu, sig , tau) for ii in xrange(N)]\n",
    "\n",
    "y,x, patches = plt.hist(li4, bins=100, density=True) # normed to make pdf (area = 1)\n",
    "y2 = [exg_pdf(xi, mu, sig, tau) for xi in x]"
   ]
  },
  {
   "cell_type": "code",
   "execution_count": null,
   "metadata": {
    "collapsed": true
   },
   "outputs": [],
   "source": []
  },
  {
   "cell_type": "code",
   "execution_count": 5,
   "metadata": {
    "collapsed": false
   },
   "outputs": [
    {
     "data": {
      "image/png": "[encoded data removed]",
      "text/plain": [
       "<matplotlib.figure.Figure at 0x2ab03822de50>"
      ]
     },
     "metadata": {},
     "output_type": "display_data"
    }
   ],
   "source": [
    "plt.hist(xi, density = True);"
   ]
  },
  {
   "cell_type": "code",
   "execution_count": 6,
   "metadata": {
    "collapsed": false
   },
   "outputs": [
    {
     "data": {
      "image/png": "[encoded data removed]",
      "text/plain": [
       "<matplotlib.figure.Figure at 0x2ab07b4514d0>"
      ]
     },
     "metadata": {},
     "output_type": "display_data"
    }
   ],
   "source": [
    "weights = np.ones_like(xi)/float(len(xi))\n",
    "plt.hist(xi, weights=weights);"
   ]
  },
  {
   "cell_type": "code",
   "execution_count": 7,
   "metadata": {
    "collapsed": false
   },
   "outputs": [
    {
     "ename": "NameError",
     "evalue": "name 'xx' is not defined",
     "output_type": "error",
     "traceback": [
      "\u001b[0;31m\u001b[0m",
      "\u001b[0;31mNameError\u001b[0mTraceback (most recent call last)",
      "\u001b[0;32m<ipython-input-7-01d815cc42ae>\u001b[0m in \u001b[0;36m<module>\u001b[0;34m()\u001b[0m\n\u001b[1;32m      1\u001b[0m \u001b[0;31m#plt.hist(xi, 50)\u001b[0m\u001b[0;34m\u001b[0m\u001b[0;34m\u001b[0m\u001b[0m\n\u001b[0;32m----> 2\u001b[0;31m \u001b[0mplt\u001b[0m\u001b[0;34m.\u001b[0m\u001b[0mplot\u001b[0m\u001b[0;34m(\u001b[0m\u001b[0mxx\u001b[0m\u001b[0;34m,\u001b[0m\u001b[0mycs\u001b[0m\u001b[0;34m)\u001b[0m\u001b[0;34m\u001b[0m\u001b[0m\n\u001b[0m\u001b[1;32m      3\u001b[0m \u001b[0mplt\u001b[0m\u001b[0;34m.\u001b[0m\u001b[0mplot\u001b[0m\u001b[0;34m(\u001b[0m\u001b[0mxx\u001b[0m\u001b[0;34m,\u001b[0m \u001b[0mylk\u001b[0m\u001b[0;34m)\u001b[0m\u001b[0;34m\u001b[0m\u001b[0m\n",
      "\u001b[0;31mNameError\u001b[0m: name 'xx' is not defined"
     ]
    }
   ],
   "source": [
    "#plt.hist(xi, 50)\n",
    "plt.plot(xx,ycs)\n",
    "plt.plot(xx, ylk)"
   ]
  },
  {
   "cell_type": "code",
   "execution_count": null,
   "metadata": {
    "collapsed": true
   },
   "outputs": [],
   "source": []
  },
  {
   "cell_type": "code",
   "execution_count": 101,
   "metadata": {
    "collapsed": false
   },
   "outputs": [
    {
     "ename": "ValueError",
     "evalue": "too many values to unpack",
     "output_type": "error",
     "traceback": [
      "\u001b[0;31m\u001b[0m",
      "\u001b[0;31mValueError\u001b[0mTraceback (most recent call last)",
      "\u001b[0;32m<ipython-input-101-c181fef3fe3d>\u001b[0m in \u001b[0;36m<module>\u001b[0;34m()\u001b[0m\n\u001b[1;32m      1\u001b[0m \u001b[0;31m#[xx, yy] = histogram(xi , norm=1)\u001b[0m\u001b[0;34m\u001b[0m\u001b[0;34m\u001b[0m\u001b[0m\n\u001b[0;32m----> 2\u001b[0;31m \u001b[0;34m[\u001b[0m\u001b[0mxx\u001b[0m\u001b[0;34m,\u001b[0m \u001b[0myy\u001b[0m\u001b[0;34m]\u001b[0m \u001b[0;34m=\u001b[0m \u001b[0mplt\u001b[0m\u001b[0;34m.\u001b[0m\u001b[0mhist\u001b[0m\u001b[0;34m(\u001b[0m\u001b[0mxi\u001b[0m\u001b[0;34m,\u001b[0m \u001b[0mdensity\u001b[0m\u001b[0;34m=\u001b[0m\u001b[0;36m1\u001b[0m\u001b[0;34m)\u001b[0m\u001b[0;34m\u001b[0m\u001b[0m\n\u001b[0m\u001b[1;32m      3\u001b[0m \u001b[0;34m[\u001b[0m\u001b[0mmcs\u001b[0m\u001b[0;34m,\u001b[0m \u001b[0mscs\u001b[0m\u001b[0;34m,\u001b[0m \u001b[0mtcs\u001b[0m\u001b[0;34m]\u001b[0m \u001b[0;34m=\u001b[0m\u001b[0mminSQR\u001b[0m\u001b[0;34m(\u001b[0m\u001b[0mxx\u001b[0m\u001b[0;34m,\u001b[0m \u001b[0myy\u001b[0m\u001b[0;34m)\u001b[0m\u001b[0;34m\u001b[0m\u001b[0m\n\u001b[1;32m      4\u001b[0m \u001b[0;34m[\u001b[0m\u001b[0mmlk\u001b[0m\u001b[0;34m,\u001b[0m \u001b[0mslk\u001b[0m\u001b[0;34m,\u001b[0m \u001b[0mtlk\u001b[0m\u001b[0;34m]\u001b[0m \u001b[0;34m=\u001b[0m\u001b[0mmaxLKHD\u001b[0m\u001b[0;34m(\u001b[0m\u001b[0mxi\u001b[0m\u001b[0;34m)\u001b[0m\u001b[0;34m\u001b[0m\u001b[0m\n\u001b[1;32m      5\u001b[0m \u001b[0;34m\u001b[0m\u001b[0m\n",
      "\u001b[0;31mValueError\u001b[0m: too many values to unpack"
     ]
    },
    {
     "data": {
      "image/png": "[encoded data removed]",
      "text/plain": [
       "<matplotlib.figure.Figure at 0x2b17a87c4b90>"
      ]
     },
     "metadata": {},
     "output_type": "display_data"
    }
   ],
   "source": [
    "#[xx, yy] = histogram(xi , norm=1)\n",
    "[xx, yy] = plt.hist(xi, density=1)\n",
    "[mcs, scs, tcs] =minSQR(xx, yy)\n",
    "[mlk, slk, tlk] =maxLKHD(xi)\n",
    "\n",
    "ycs = [exg_pdf(x, mcs, scs, tcs) for x in xx]\n",
    "ylk = [exg_pdf(x, mlk, slk, tlk) for x in xx]\n",
    "\n",
    "d1 = gdata(xx, yy, with_=\"boxes\", title=\"Histogram\")\n",
    "d2 = gdata(xx, ycs, with_=\"lines lw 2\", title=\"minSQR\")\n",
    "d3 = gdata(xx, ylk, with_=\"lines lw 2\", title=\"maxLKHD\")\n",
    "\n",
    "#g.plot(d1, d2, d3)\n",
    "\n",
    "print \"by maxLKHD: mu=%3.4f , sig=%3.4f , tau=%3.4f\"%(mlk, slk , tlk)\n",
    "print \"by minSQR : mu=%3.4f , sig=%3.4f , tau=%3.4f\"%(mcs, scs , tcs)\n"
   ]
  },
  {
   "cell_type": "markdown",
   "metadata": {},
   "source": [
    "# Experimental Data"
   ]
  },
  {
   "cell_type": "markdown",
   "metadata": {},
   "source": [
    "### Import Fixation Data"
   ]
  },
  {
   "cell_type": "code",
   "execution_count": 6,
   "metadata": {
    "collapsed": true
   },
   "outputs": [],
   "source": [
    "fixations = pd.read_csv(\"data/made_v2/fixations.csv\")"
   ]
  },
  {
   "cell_type": "markdown",
   "metadata": {},
   "source": [
    "### Create Middle and First Fixes (group and individual)"
   ]
  },
  {
   "cell_type": "code",
   "execution_count": 7,
   "metadata": {
    "collapsed": false,
    "scrolled": true
   },
   "outputs": [
    {
     "data": {
      "text/plain": [
       "array([ 1,  3,  7,  8,  9, 11, 12, 15, 18, 19, 23, 29, 30, 31, 32, 33, 35,\n",
       "       36, 37, 38, 39, 41, 43])"
      ]
     },
     "execution_count": 7,
     "metadata": {},
     "output_type": "execute_result"
    }
   ],
   "source": [
    "np.unique(fixations.parcode)"
   ]
  },
  {
   "cell_type": "code",
   "execution_count": 8,
   "metadata": {
    "collapsed": true
   },
   "outputs": [],
   "source": [
    "# GROUP\n",
    "group_first_fix = fixations['fix_time'][fixations['fix_num']==1]\n",
    "group_mid_fix = fixations['fix_time'][(fixations['fix_num']>1) & (fixations['rev_fix_num']>1)]"
   ]
  },
  {
   "cell_type": "code",
   "execution_count": 9,
   "metadata": {
    "collapsed": true
   },
   "outputs": [],
   "source": [
    "# INDIVIDUAL\n",
    "subj_first_fix = {}\n",
    "subj_mid_fix = {}\n",
    "\n",
    "for i in np.unique(fixations.parcode):\n",
    "    subj_first_fix[i] = fixations['fix_time'][(fixations['fix_num']==1) & (fixations['parcode']==i)]\n",
    "    subj_mid_fix[i] = fixations['fix_time'][(fixations['fix_num']>1) & (fixations['rev_fix_num']>1) & (fixations['parcode']==i)]"
   ]
  },
  {
   "cell_type": "code",
   "execution_count": 10,
   "metadata": {
    "collapsed": false
   },
   "outputs": [
    {
     "data": {
      "text/html": [
       "<div>\n",
       "<style scoped>\n",
       "    .dataframe tbody tr th:only-of-type {\n",
       "        vertical-align: middle;\n",
       "    }\n",
       "\n",
       "    .dataframe tbody tr th {\n",
       "        vertical-align: top;\n",
       "    }\n",
       "\n",
       "    .dataframe thead th {\n",
       "        text-align: right;\n",
       "    }\n",
       "</style>\n",
       "<table border=\"1\" class=\"dataframe\">\n",
       "  <thead>\n",
       "    <tr style=\"text-align: right;\">\n",
       "      <th></th>\n",
       "      <th>Unnamed: 0</th>\n",
       "      <th>parcode</th>\n",
       "      <th>trial</th>\n",
       "      <th>fix_item</th>\n",
       "      <th>fix_time</th>\n",
       "      <th>fix_num</th>\n",
       "      <th>rev_fix_num</th>\n",
       "    </tr>\n",
       "  </thead>\n",
       "  <tbody>\n",
       "    <tr>\n",
       "      <th>0</th>\n",
       "      <td>0</td>\n",
       "      <td>1</td>\n",
       "      <td>1</td>\n",
       "      <td>2</td>\n",
       "      <td>2850.349235</td>\n",
       "      <td>1</td>\n",
       "      <td>6</td>\n",
       "    </tr>\n",
       "    <tr>\n",
       "      <th>1</th>\n",
       "      <td>1</td>\n",
       "      <td>1</td>\n",
       "      <td>1</td>\n",
       "      <td>1</td>\n",
       "      <td>1233.176509</td>\n",
       "      <td>2</td>\n",
       "      <td>5</td>\n",
       "    </tr>\n",
       "    <tr>\n",
       "      <th>2</th>\n",
       "      <td>2</td>\n",
       "      <td>1</td>\n",
       "      <td>1</td>\n",
       "      <td>2</td>\n",
       "      <td>433.403406</td>\n",
       "      <td>3</td>\n",
       "      <td>4</td>\n",
       "    </tr>\n",
       "    <tr>\n",
       "      <th>3</th>\n",
       "      <td>3</td>\n",
       "      <td>1</td>\n",
       "      <td>1</td>\n",
       "      <td>1</td>\n",
       "      <td>433.219029</td>\n",
       "      <td>4</td>\n",
       "      <td>3</td>\n",
       "    </tr>\n",
       "    <tr>\n",
       "      <th>4</th>\n",
       "      <td>4</td>\n",
       "      <td>1</td>\n",
       "      <td>1</td>\n",
       "      <td>2</td>\n",
       "      <td>1233.325697</td>\n",
       "      <td>5</td>\n",
       "      <td>2</td>\n",
       "    </tr>\n",
       "  </tbody>\n",
       "</table>\n",
       "</div>"
      ],
      "text/plain": [
       "   Unnamed: 0  parcode  trial  fix_item     fix_time  fix_num  rev_fix_num\n",
       "0           0        1      1         2  2850.349235        1            6\n",
       "1           1        1      1         1  1233.176509        2            5\n",
       "2           2        1      1         2   433.403406        3            4\n",
       "3           3        1      1         1   433.219029        4            3\n",
       "4           4        1      1         2  1233.325697        5            2"
      ]
     },
     "execution_count": 10,
     "metadata": {},
     "output_type": "execute_result"
    }
   ],
   "source": [
    "fixations.head()"
   ]
  },
  {
   "cell_type": "code",
   "execution_count": 11,
   "metadata": {
    "collapsed": true
   },
   "outputs": [],
   "source": [
    "grouped = fixations.groupby('parcode')\n"
   ]
  },
  {
   "cell_type": "code",
   "execution_count": 12,
   "metadata": {
    "collapsed": false
   },
   "outputs": [
    {
     "data": {
      "text/plain": [
       "51.932134242376655"
      ]
     },
     "execution_count": 12,
     "metadata": {},
     "output_type": "execute_result"
    }
   ],
   "source": [
    "subj_first_fix[1].sem()\n"
   ]
  },
  {
   "cell_type": "code",
   "execution_count": 13,
   "metadata": {
    "collapsed": true
   },
   "outputs": [],
   "source": [
    "# First Fixation\n",
    "parcode = []\n",
    "first_fix_mean = []\n",
    "first_fix_sem = []\n",
    "mid_fix_mean = []\n",
    "mid_fix_sem = []\n",
    "\n",
    "for subject, subject_data in grouped:\n",
    "    parcode.append(subject)\n",
    "    first_fix_mean.append(subject_data.fix_time[subject_data.fix_num==1].mean())\n",
    "    first_fix_sem.append(subject_data.fix_time[subject_data.fix_num==1].sem())\n",
    "    mid_fix_mean.append(subject_data.fix_time[(subject_data.fix_num>1) & (subject_data.rev_fix_num>1)].mean())\n",
    "    mid_fix_sem.append(subject_data.fix_time[(subject_data.fix_num>1) & (subject_data.rev_fix_num>1)].sem())\n"
   ]
  },
  {
   "cell_type": "code",
   "execution_count": 14,
   "metadata": {
    "collapsed": true
   },
   "outputs": [],
   "source": [
    "fix_df = pd.DataFrame(\n",
    "    {'subject': parcode,\n",
    "     'first_fix_mean': first_fix_mean,\n",
    "     'first_fix_sem': first_fix_sem,\n",
    "     'mid_fix_mean': mid_fix_mean,\n",
    "     'mid_fix_sem': mid_fix_sem\n",
    "    })\n"
   ]
  },
  {
   "cell_type": "code",
   "execution_count": 15,
   "metadata": {
    "collapsed": false
   },
   "outputs": [
    {
     "data": {
      "text/html": [
       "<div>\n",
       "<style scoped>\n",
       "    .dataframe tbody tr th:only-of-type {\n",
       "        vertical-align: middle;\n",
       "    }\n",
       "\n",
       "    .dataframe tbody tr th {\n",
       "        vertical-align: top;\n",
       "    }\n",
       "\n",
       "    .dataframe thead th {\n",
       "        text-align: right;\n",
       "    }\n",
       "</style>\n",
       "<table border=\"1\" class=\"dataframe\">\n",
       "  <thead>\n",
       "    <tr style=\"text-align: right;\">\n",
       "      <th></th>\n",
       "      <th>first_fix_mean</th>\n",
       "      <th>first_fix_sem</th>\n",
       "      <th>mid_fix_mean</th>\n",
       "      <th>mid_fix_sem</th>\n",
       "      <th>subject</th>\n",
       "    </tr>\n",
       "  </thead>\n",
       "  <tbody>\n",
       "    <tr>\n",
       "      <th>0</th>\n",
       "      <td>1090.045539</td>\n",
       "      <td>51.932134</td>\n",
       "      <td>959.203733</td>\n",
       "      <td>35.661796</td>\n",
       "      <td>1</td>\n",
       "    </tr>\n",
       "    <tr>\n",
       "      <th>1</th>\n",
       "      <td>759.135110</td>\n",
       "      <td>48.079921</td>\n",
       "      <td>958.895330</td>\n",
       "      <td>27.699928</td>\n",
       "      <td>3</td>\n",
       "    </tr>\n",
       "    <tr>\n",
       "      <th>2</th>\n",
       "      <td>581.674742</td>\n",
       "      <td>25.100458</td>\n",
       "      <td>1993.624838</td>\n",
       "      <td>287.979926</td>\n",
       "      <td>7</td>\n",
       "    </tr>\n",
       "    <tr>\n",
       "      <th>3</th>\n",
       "      <td>825.557328</td>\n",
       "      <td>44.542549</td>\n",
       "      <td>983.645981</td>\n",
       "      <td>44.327489</td>\n",
       "      <td>8</td>\n",
       "    </tr>\n",
       "    <tr>\n",
       "      <th>4</th>\n",
       "      <td>826.477506</td>\n",
       "      <td>40.212693</td>\n",
       "      <td>845.862021</td>\n",
       "      <td>23.738707</td>\n",
       "      <td>9</td>\n",
       "    </tr>\n",
       "  </tbody>\n",
       "</table>\n",
       "</div>"
      ],
      "text/plain": [
       "   first_fix_mean  first_fix_sem  mid_fix_mean  mid_fix_sem  subject\n",
       "0     1090.045539      51.932134    959.203733    35.661796        1\n",
       "1      759.135110      48.079921    958.895330    27.699928        3\n",
       "2      581.674742      25.100458   1993.624838   287.979926        7\n",
       "3      825.557328      44.542549    983.645981    44.327489        8\n",
       "4      826.477506      40.212693    845.862021    23.738707        9"
      ]
     },
     "execution_count": 15,
     "metadata": {},
     "output_type": "execute_result"
    }
   ],
   "source": [
    "fix_df.head()\n"
   ]
  },
  {
   "cell_type": "markdown",
   "metadata": {},
   "source": [
    "## Individual vs. Group First Fix RT"
   ]
  },
  {
   "cell_type": "code",
   "execution_count": 16,
   "metadata": {
    "collapsed": false
   },
   "outputs": [
    {
     "data": {
      "image/png": "[encoded data removed]",
      "text/plain": [
       "<matplotlib.figure.Figure at 0x2af8d6207e90>"
      ]
     },
     "metadata": {},
     "output_type": "display_data"
    }
   ],
   "source": [
    "group_first_fix_mean = np.repeat(fix_df.first_fix_mean.mean(), 45, axis=0)\n",
    "group_first_fix_sem = np.repeat(fix_df.first_fix_mean.sem(), 45, axis=0)\n",
    "x = np.arange(45)\n",
    "\n",
    "plt.errorbar(fix_df.subject, fix_df.first_fix_mean, fix_df.first_fix_sem, linestyle='None', marker='.')\n",
    "plt.plot(x, group_first_fix_mean, lw=2, label='mean population 1', color='red')\n",
    "plt.fill_between(x, group_first_fix_mean+group_first_fix_sem, group_first_fix_mean-group_first_fix_sem,\n",
    "                 facecolor='red', alpha=0.5)\n",
    "plt.title('First Fixation by Subject')\n",
    "\n",
    "\n",
    "plt.show()\n"
   ]
  },
  {
   "cell_type": "markdown",
   "metadata": {},
   "source": [
    "## Individual vs. Group Middle Fix RT"
   ]
  },
  {
   "cell_type": "code",
   "execution_count": 17,
   "metadata": {
    "collapsed": false
   },
   "outputs": [
    {
     "data": {
      "image/png": "[encoded data removed]",
      "text/plain": [
       "<matplotlib.figure.Figure at 0x2af8d4078550>"
      ]
     },
     "metadata": {},
     "output_type": "display_data"
    }
   ],
   "source": [
    "group_mid_fix_mean = np.repeat(fix_df.mid_fix_mean.mean(), 45, axis=0)\n",
    "group_mid_fix_sem = np.repeat(fix_df.mid_fix_mean.sem(), 45, axis=0)\n",
    "x = np.arange(45)\n",
    "\n",
    "plt.errorbar(fix_df.subject, fix_df.mid_fix_mean, fix_df.mid_fix_sem, linestyle='None', marker='.')\n",
    "plt.plot(x, group_mid_fix_mean, lw=2, label='mean population 1', color='red')\n",
    "plt.fill_between(x, group_mid_fix_mean+group_mid_fix_sem, group_mid_fix_mean-group_mid_fix_sem,\n",
    "                 facecolor='red', alpha=0.5)\n",
    "plt.title('Middle Fixation by Subject')\n",
    "\n",
    "plt.show()"
   ]
  },
  {
   "cell_type": "code",
   "execution_count": 18,
   "metadata": {
    "collapsed": false
   },
   "outputs": [
    {
     "name": "stdout",
     "output_type": "stream",
     "text": [
      "MEAN\n",
      "959.2037329943817\n",
      "LENGTH\n",
      "376\n"
     ]
    },
    {
     "data": {
      "text/plain": [
       "1    1233.176509\n",
       "2     433.403406\n",
       "3     433.219029\n",
       "4    1233.325697\n",
       "7    1183.183932\n",
       "Name: fix_time, dtype: float64"
      ]
     },
     "execution_count": 18,
     "metadata": {},
     "output_type": "execute_result"
    }
   ],
   "source": [
    "print \"MEAN\"\n",
    "print subj_mid_fix[1].mean()\n",
    "print \"LENGTH\"\n",
    "print len(subj_mid_fix[1])\n",
    "\n",
    "subj_mid_fix[1].head()"
   ]
  },
  {
   "cell_type": "code",
   "execution_count": 35,
   "metadata": {
    "collapsed": true
   },
   "outputs": [],
   "source": [
    "xi = subj_mid_fix[15].values.tolist()"
   ]
  },
  {
   "cell_type": "code",
   "execution_count": 36,
   "metadata": {
    "collapsed": false
   },
   "outputs": [
    {
     "ename": "NameError",
     "evalue": "name 'exgauss' is not defined",
     "output_type": "error",
     "traceback": [
      "\u001b[0;31m\u001b[0m",
      "\u001b[0;31mNameError\u001b[0mTraceback (most recent call last)",
      "\u001b[0;32m<ipython-input-36-0b6290ee3802>\u001b[0m in \u001b[0;36m<module>\u001b[0;34m()\u001b[0m\n\u001b[1;32m      3\u001b[0m \u001b[0;34m[\u001b[0m\u001b[0mmlk\u001b[0m\u001b[0;34m,\u001b[0m \u001b[0mslk\u001b[0m\u001b[0;34m,\u001b[0m \u001b[0mtlk\u001b[0m\u001b[0;34m]\u001b[0m \u001b[0;34m=\u001b[0m\u001b[0mmaxLKHD\u001b[0m\u001b[0;34m(\u001b[0m\u001b[0mxi\u001b[0m\u001b[0;34m)\u001b[0m\u001b[0;34m\u001b[0m\u001b[0m\n\u001b[1;32m      4\u001b[0m \u001b[0;34m\u001b[0m\u001b[0m\n\u001b[0;32m----> 5\u001b[0;31m \u001b[0mycs\u001b[0m \u001b[0;34m=\u001b[0m \u001b[0;34m[\u001b[0m\u001b[0mexgauss\u001b[0m\u001b[0;34m(\u001b[0m\u001b[0mx\u001b[0m\u001b[0;34m,\u001b[0m \u001b[0mmcs\u001b[0m\u001b[0;34m,\u001b[0m \u001b[0mscs\u001b[0m\u001b[0;34m,\u001b[0m \u001b[0mtcs\u001b[0m\u001b[0;34m)\u001b[0m \u001b[0;32mfor\u001b[0m \u001b[0mx\u001b[0m \u001b[0;32min\u001b[0m \u001b[0mxx\u001b[0m\u001b[0;34m]\u001b[0m\u001b[0;34m\u001b[0m\u001b[0m\n\u001b[0m\u001b[1;32m      6\u001b[0m \u001b[0mylk\u001b[0m \u001b[0;34m=\u001b[0m \u001b[0;34m[\u001b[0m\u001b[0mexgauss\u001b[0m\u001b[0;34m(\u001b[0m\u001b[0mx\u001b[0m\u001b[0;34m,\u001b[0m \u001b[0mmlk\u001b[0m\u001b[0;34m,\u001b[0m \u001b[0mslk\u001b[0m\u001b[0;34m,\u001b[0m \u001b[0mtlk\u001b[0m\u001b[0;34m)\u001b[0m \u001b[0;32mfor\u001b[0m \u001b[0mx\u001b[0m \u001b[0;32min\u001b[0m \u001b[0mxx\u001b[0m\u001b[0;34m]\u001b[0m\u001b[0;34m\u001b[0m\u001b[0m\n\u001b[1;32m      7\u001b[0m \u001b[0;34m\u001b[0m\u001b[0m\n",
      "\u001b[0;31mNameError\u001b[0m: name 'exgauss' is not defined"
     ]
    }
   ],
   "source": [
    "[xx, yy] = histogram(xi , norm=1)\n",
    "[mcs, scs, tcs] =minSQR(xx, yy)\n",
    "[mlk, slk, tlk] =maxLKHD(xi)\n",
    "\n",
    "ycs = [exgauss(x, mcs, scs, tcs) for x in xx]\n",
    "ylk = [exgauss(x, mlk, slk, tlk) for x in xx]\n",
    "\n",
    "d1 = gdata(xx, yy, with_=\"boxes\", title=\"Histogram\")\n",
    "d2 = gdata(xx, ycs, with_=\"lines lw 2\", title=\"minSQR\")\n",
    "d3 = gdata(xx, ylk, with_=\"lines lw 2\", title=\"maxLKHD\")\n",
    "\n",
    "g.plot(d1, d2, d3)\n",
    "\n",
    "print \"by maxLKHD: mu=%3.4f , sig=%3.4f , tau=%3.4f\"%(mlk, slk , tlk)\n",
    "print \"by minSQR : mu=%3.4f , sig=%3.4f , tau=%3.4f\"%(mcs, scs , tcs)"
   ]
  },
  {
   "cell_type": "code",
   "execution_count": null,
   "metadata": {
    "collapsed": false
   },
   "outputs": [],
   "source": [
    "import numpy as np\n",
    "import matplotlib.mlab as mlab\n",
    "import matplotlib.pyplot as plt\n",
    "\n",
    "# the histogram of the data\n",
    "n, bins, patches = plt.hist(xi, 50, normed=1, facecolor='yellow', alpha=0.75)\n",
    "\n",
    "# add a 'best fit' line\n",
    "#l = plt.plot(xx, ycs, 'r--', linewidth=1) # least squares\n",
    "l2 = plt.plot(xx, ylk, 'b--', linewidth=1) # max likelihood\n",
    "l_group = plt.plot(xx_group,ylk_group, 'g--', linewidth=1)\n",
    "\n",
    "plt.xlabel('RT in ms')\n",
    "plt.ylabel('Probability')\n",
    "plt.title('Middle Fixation')\n",
    "plt.axis([0, 3500, 0, 0.002])\n",
    "\n",
    "plt.show()\n"
   ]
  },
  {
   "cell_type": "code",
   "execution_count": 19,
   "metadata": {
    "collapsed": true
   },
   "outputs": [],
   "source": [
    "xi_group = group_mid_fix.values.tolist()"
   ]
  },
  {
   "cell_type": "code",
   "execution_count": 20,
   "metadata": {
    "collapsed": false
   },
   "outputs": [
    {
     "name": "stdout",
     "output_type": "stream",
     "text": [
      "by maxLKHD: mu=453.5634 , sig=157.6098 , tau=561.5854\n",
      "by minSQR : mu=498.4341 , sig=203.4021 , tau=443.8988\n"
     ]
    }
   ],
   "source": [
    "# group fit\n",
    "[xx_group, yy_group] = histogram(xi_group , norm=1)\n",
    "[mcs, scs, tcs] =minSQR(xx_group, yy_group)\n",
    "[mlk, slk, tlk] =maxLKHD(xi_group)\n",
    "\n",
    "ycs_group = [exgauss(x, mcs, scs, tcs) for x in xx_group]\n",
    "ylk_group = [exgauss(x, mlk, slk, tlk) for x in xx_group]\n",
    "\n",
    "print \"by maxLKHD: mu=%3.4f , sig=%3.4f , tau=%3.4f\"%(mlk, slk , tlk)\n",
    "print \"by minSQR : mu=%3.4f , sig=%3.4f , tau=%3.4f\"%(mcs, scs , tcs)"
   ]
  },
  {
   "cell_type": "markdown",
   "metadata": {},
   "source": [
    "## HISTOGRAM"
   ]
  },
  {
   "cell_type": "code",
   "execution_count": 46,
   "metadata": {
    "collapsed": false
   },
   "outputs": [
    {
     "name": "stdout",
     "output_type": "stream",
     "text": [
      "Li4 stats : M = 250.009063 , S = 158.059525 , t = 1.740103 \n",
      "For norm=0 : M=249.985470, S =158.045049, t =1.738630 sum(yi) =10000.000000\n",
      "For norm=−1: M=249.985470, S =158.045049, t =1.738630 sum(yi) =1.000000\n",
      "For norm=1 : M = 249.985470 , S = 158.045049 , t = 1.738630 sum(yi∗dx) = 1.000000\n"
     ]
    }
   ],
   "source": [
    "N = 10000\n",
    "mu = 100.; sig = 50.; tau = 150.\n",
    "\n",
    "li4 = [drand_exg(mu, sig , tau) for ii in xrange(N)]\n",
    "\n",
    "[x, y] = histogram(li4 , norm=1)\n",
    "\n",
    "y2 = [exgauss(xi, mu, sig, tau) for xi in x]\n",
    "d1 = gdata(x, y2, with_=\"lines lw 3 lc 1\", title=\"exgaussian\") \n",
    "d2 = gdata(x, y, with_=\"boxes lc 3\", title=\"histogram\") \n",
    "g.plot(d1, d2)\n",
    "\n",
    "M, S, t = stats(li4, 1)\n",
    "print \"Li4 stats : M = %f , S = %f , t = %f \"%(M, S, t)\n",
    "[x, y] = histogram(li4 , norm=0)\n",
    "\n",
    "M1, S1, t1 = stats_his(x, y, assymetry=True)\n",
    "print \"For norm=0 : M=%f, S =%f, t =%f sum(yi) =%f\"%(M1, S1, t1, sum(y))\n",
    "[x, y] = histogram(li4 , norm=-1)\n",
    "\n",
    "M1, S1, t1 = stats_his(x, y, assymetry=1, norm=-1, N=N)\n",
    "print \"For norm=−1: M=%f, S =%f, t =%f sum(yi) =%f\"%(M1, S1, t1, sum(y))\n",
    "[x, y] = histogram(li4 , norm=1)\n",
    "\n",
    "M1, S1, t1 = stats_his(x, y, assymetry=1, norm=1, N=N)\n",
    "print \"For norm=1 : M = %f , S = %f , t = %f sum(yi∗dx) = %f\"%(M1, S1, t1 , sum(y)*(x[1]-x[0]))\n"
   ]
  },
  {
   "cell_type": "code",
   "execution_count": 9,
   "metadata": {
    "collapsed": false
   },
   "outputs": [
    {
     "name": "stderr",
     "output_type": "stream",
     "text": [
      "ERROR:root:Line magic function `%gnuplot` not found.\n"
     ]
    }
   ],
   "source": [
    "%gnuplot inline\n"
   ]
  },
  {
   "cell_type": "code",
   "execution_count": null,
   "metadata": {
    "collapsed": true
   },
   "outputs": [],
   "source": []
  },
  {
   "cell_type": "code",
   "execution_count": null,
   "metadata": {
    "collapsed": true
   },
   "outputs": [],
   "source": []
  }
 ],
 "metadata": {
  "anaconda-cloud": {},
  "kernelspec": {
   "display_name": "Python [conda env:Python2_MADE]",
   "language": "python",
   "name": "conda-env-Python2_MADE-py"
  },
  "language_info": {
   "codemirror_mode": {
    "name": "ipython",
    "version": 2
   },
   "file_extension": ".py",
   "mimetype": "text/x-python",
   "name": "python",
   "nbconvert_exporter": "python",
   "pygments_lexer": "ipython2",
   "version": "2.7.14"
  },
  "toc": {
   "nav_menu": {},
   "number_sections": true,
   "sideBar": true,
   "skip_h1_title": false,
   "title_cell": "Table of Contents",
   "title_sidebar": "Contents",
   "toc_cell": false,
   "toc_position": {},
   "toc_section_display": true,
   "toc_window_display": false
  }
 },
 "nbformat": 4,
 "nbformat_minor": 2
}
