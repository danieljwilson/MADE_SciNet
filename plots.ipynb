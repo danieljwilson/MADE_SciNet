{
 "cells": [
  {
   "cell_type": "markdown",
   "metadata": {},
   "source": [
    "# Import Libraries and Data"
   ]
  },
  {
   "cell_type": "markdown",
   "metadata": {
    "heading_collapsed": true
   },
   "source": [
    "## Libraries"
   ]
  },
  {
   "cell_type": "code",
   "execution_count": 1,
   "metadata": {
    "collapsed": false,
    "hidden": true
   },
   "outputs": [
    {
     "data": {
      "text/html": [
       "<script>requirejs.config({paths: { 'plotly': ['https://cdn.plot.ly/plotly-latest.min']},});if(!window.Plotly) {{require(['plotly'],function(plotly) {window.Plotly=plotly;});}}</script>"
      ],
      "text/vnd.plotly.v1+html": [
       "<script>requirejs.config({paths: { 'plotly': ['https://cdn.plot.ly/plotly-latest.min']},});if(!window.Plotly) {{require(['plotly'],function(plotly) {window.Plotly=plotly;});}}</script>"
      ]
     },
     "metadata": {},
     "output_type": "display_data"
    }
   ],
   "source": [
    "import numpy as np\n",
    "import pandas as pd\n",
    "import sys\n",
    "import importlib\n",
    "\n",
    "import made_plotting as mplot\n",
    "import utils_addm_02 as utils_addm        # for importing custom module\n",
    "# Add path where custom modules are saved\n",
    "# sys.path.append('/Users/djw/Dropbox/PROGRAMMING/_NEURO/2017_MADE/aDDM_DJW/functions')\n",
    "# import utils_addm                         # for importing custom module"
   ]
  },
  {
   "cell_type": "code",
   "execution_count": 2,
   "metadata": {
    "collapsed": false,
    "hidden": true
   },
   "outputs": [
    {
     "data": {
      "text/html": [
       "<script>requirejs.config({paths: { 'plotly': ['https://cdn.plot.ly/plotly-latest.min']},});if(!window.Plotly) {{require(['plotly'],function(plotly) {window.Plotly=plotly;});}}</script>"
      ],
      "text/vnd.plotly.v1+html": [
       "<script>requirejs.config({paths: { 'plotly': ['https://cdn.plot.ly/plotly-latest.min']},});if(!window.Plotly) {{require(['plotly'],function(plotly) {window.Plotly=plotly;});}}</script>"
      ]
     },
     "metadata": {},
     "output_type": "display_data"
    },
    {
     "data": {
      "text/plain": [
       "<module 'made_plotting' from '/bg01/homescinet/c/chutcher/wilsodj/MADE/made_plotting.py'>"
      ]
     },
     "execution_count": 2,
     "metadata": {},
     "output_type": "execute_result"
    }
   ],
   "source": [
    "# for reloading edited modules\n",
    "importlib.reload(mplot)"
   ]
  },
  {
   "cell_type": "markdown",
   "metadata": {
    "heading_collapsed": true
   },
   "source": [
    "## Data"
   ]
  },
  {
   "cell_type": "code",
   "execution_count": 3,
   "metadata": {
    "collapsed": true,
    "hidden": true
   },
   "outputs": [],
   "source": [
    "# specify date of folder to access correct files\n",
    "date = '2017-11-30'"
   ]
  },
  {
   "cell_type": "code",
   "execution_count": 4,
   "metadata": {
    "collapsed": false,
    "hidden": true
   },
   "outputs": [],
   "source": [
    "# load files for plotting\n",
    "path_to_file = \"outputs/\"+ date +\"/test/sim_subjects.pickle\"\n",
    "subjects = utils_addm.pickle_read(path_to_file)\n",
    "\n",
    "path_to_file = \"outputs/\"+ date +\"/test/test_data.pickle\"\n",
    "test_expdata = utils_addm.pickle_read(path_to_file)\n",
    "\n",
    "path_to_file = \"outputs/\"+ date +\"/test/subj_params_df.pickle\"\n",
    "subj_params_df = utils_addm.pickle_read(path_to_file)"
   ]
  },
  {
   "cell_type": "code",
   "execution_count": 5,
   "metadata": {
    "collapsed": true,
    "hidden": true
   },
   "outputs": [
    {
     "name": "stderr",
     "output_type": "stream",
     "text": [
      "/bg01/homescinet/c/chutcher/wilsodj/MADE/made_plotting.py:501: SettingWithCopyWarning:\n",
      "\n",
      "\n",
      "A value is trying to be set on a copy of a slice from a DataFrame\n",
      "\n",
      "See the caveats in the documentation: http://pandas.pydata.org/pandas-docs/stable/indexing.html#indexing-view-versus-copy\n",
      "\n",
      "/bg01/homescinet/c/chutcher/wilsodj/MADE/made_plotting.py:502: SettingWithCopyWarning:\n",
      "\n",
      "\n",
      "A value is trying to be set on a copy of a slice from a DataFrame\n",
      "\n",
      "See the caveats in the documentation: http://pandas.pydata.org/pandas-docs/stable/indexing.html#indexing-view-versus-copy\n",
      "\n",
      "/bg01/homescinet/c/chutcher/wilsodj/MADE/made_plotting.py:503: SettingWithCopyWarning:\n",
      "\n",
      "\n",
      "A value is trying to be set on a copy of a slice from a DataFrame\n",
      "\n",
      "See the caveats in the documentation: http://pandas.pydata.org/pandas-docs/stable/indexing.html#indexing-view-versus-copy\n",
      "\n"
     ]
    }
   ],
   "source": [
    "# Format Data\n",
    "subject_data = mplot.format_for_plotting(subjects, test_expdata, subj_params_df)"
   ]
  },
  {
   "cell_type": "code",
   "execution_count": 26,
   "metadata": {
    "collapsed": true,
    "hidden": true
   },
   "outputs": [
    {
     "data": {
      "text/html": [
       "<div>\n",
       "<style>\n",
       "    .dataframe thead tr:only-child th {\n",
       "        text-align: right;\n",
       "    }\n",
       "\n",
       "    .dataframe thead th {\n",
       "        text-align: left;\n",
       "    }\n",
       "\n",
       "    .dataframe tbody tr th {\n",
       "        vertical-align: top;\n",
       "    }\n",
       "</style>\n",
       "<table border=\"1\" class=\"dataframe\">\n",
       "  <thead>\n",
       "    <tr style=\"text-align: right;\">\n",
       "      <th></th>\n",
       "      <th></th>\n",
       "      <th>test_rt_mean</th>\n",
       "      <th>test_rt_median</th>\n",
       "      <th>test_rt_std</th>\n",
       "      <th>test_rt_sem</th>\n",
       "      <th>test_choice_mean</th>\n",
       "      <th>test_choice_std</th>\n",
       "      <th>test_choice_sem</th>\n",
       "      <th>test_summed_val_mean</th>\n",
       "      <th>sim_rt_mean</th>\n",
       "      <th>sim_rt_median</th>\n",
       "      <th>sim_rt_std</th>\n",
       "      <th>sim_rt_sem</th>\n",
       "      <th>sim_choice_mean</th>\n",
       "      <th>sim_choice_std</th>\n",
       "      <th>sim_choice_sem</th>\n",
       "      <th>sim_summed_val_mean</th>\n",
       "    </tr>\n",
       "    <tr>\n",
       "      <th>subject</th>\n",
       "      <th>quantile</th>\n",
       "      <th></th>\n",
       "      <th></th>\n",
       "      <th></th>\n",
       "      <th></th>\n",
       "      <th></th>\n",
       "      <th></th>\n",
       "      <th></th>\n",
       "      <th></th>\n",
       "      <th></th>\n",
       "      <th></th>\n",
       "      <th></th>\n",
       "      <th></th>\n",
       "      <th></th>\n",
       "      <th></th>\n",
       "      <th></th>\n",
       "      <th></th>\n",
       "    </tr>\n",
       "  </thead>\n",
       "  <tbody>\n",
       "    <tr>\n",
       "      <th rowspan=\"7\" valign=\"top\">0</th>\n",
       "      <th>1</th>\n",
       "      <td>3.001564</td>\n",
       "      <td>2.983502</td>\n",
       "      <td>1.307594</td>\n",
       "      <td>0.266912</td>\n",
       "      <td>0.041667</td>\n",
       "      <td>0.204124</td>\n",
       "      <td>0.041667</td>\n",
       "      <td>-1.733333</td>\n",
       "      <td>2.896175</td>\n",
       "      <td>2.4950</td>\n",
       "      <td>1.401305</td>\n",
       "      <td>0.009055</td>\n",
       "      <td>0.014699</td>\n",
       "      <td>0.120346</td>\n",
       "      <td>0.000778</td>\n",
       "      <td>-1.734238</td>\n",
       "    </tr>\n",
       "    <tr>\n",
       "      <th>2</th>\n",
       "      <td>3.702287</td>\n",
       "      <td>2.875240</td>\n",
       "      <td>2.250337</td>\n",
       "      <td>0.562584</td>\n",
       "      <td>0.125000</td>\n",
       "      <td>0.341565</td>\n",
       "      <td>0.085391</td>\n",
       "      <td>-0.756250</td>\n",
       "      <td>3.989392</td>\n",
       "      <td>3.4370</td>\n",
       "      <td>2.090784</td>\n",
       "      <td>0.016798</td>\n",
       "      <td>0.130842</td>\n",
       "      <td>0.337238</td>\n",
       "      <td>0.002709</td>\n",
       "      <td>-0.756612</td>\n",
       "    </tr>\n",
       "    <tr>\n",
       "      <th>3</th>\n",
       "      <td>3.472419</td>\n",
       "      <td>3.016838</td>\n",
       "      <td>1.515076</td>\n",
       "      <td>0.309264</td>\n",
       "      <td>0.333333</td>\n",
       "      <td>0.481543</td>\n",
       "      <td>0.098295</td>\n",
       "      <td>-0.302917</td>\n",
       "      <td>4.440319</td>\n",
       "      <td>3.9095</td>\n",
       "      <td>2.304020</td>\n",
       "      <td>0.015503</td>\n",
       "      <td>0.287331</td>\n",
       "      <td>0.452528</td>\n",
       "      <td>0.003045</td>\n",
       "      <td>-0.304078</td>\n",
       "    </tr>\n",
       "    <tr>\n",
       "      <th>4</th>\n",
       "      <td>3.123475</td>\n",
       "      <td>2.933615</td>\n",
       "      <td>0.750156</td>\n",
       "      <td>0.167740</td>\n",
       "      <td>0.650000</td>\n",
       "      <td>0.489360</td>\n",
       "      <td>0.109424</td>\n",
       "      <td>0.049500</td>\n",
       "      <td>4.328841</td>\n",
       "      <td>3.7240</td>\n",
       "      <td>2.293416</td>\n",
       "      <td>0.016854</td>\n",
       "      <td>0.507480</td>\n",
       "      <td>0.499958</td>\n",
       "      <td>0.003674</td>\n",
       "      <td>0.050001</td>\n",
       "    </tr>\n",
       "    <tr>\n",
       "      <th>5</th>\n",
       "      <td>2.810985</td>\n",
       "      <td>2.591859</td>\n",
       "      <td>0.995077</td>\n",
       "      <td>0.222506</td>\n",
       "      <td>0.900000</td>\n",
       "      <td>0.307794</td>\n",
       "      <td>0.068825</td>\n",
       "      <td>0.306000</td>\n",
       "      <td>4.490331</td>\n",
       "      <td>3.9480</td>\n",
       "      <td>2.298913</td>\n",
       "      <td>0.016926</td>\n",
       "      <td>0.679514</td>\n",
       "      <td>0.466676</td>\n",
       "      <td>0.003436</td>\n",
       "      <td>0.306218</td>\n",
       "    </tr>\n",
       "    <tr>\n",
       "      <th>6</th>\n",
       "      <td>2.838229</td>\n",
       "      <td>2.200212</td>\n",
       "      <td>1.733865</td>\n",
       "      <td>0.378360</td>\n",
       "      <td>0.809524</td>\n",
       "      <td>0.402374</td>\n",
       "      <td>0.087805</td>\n",
       "      <td>0.772381</td>\n",
       "      <td>4.111567</td>\n",
       "      <td>3.5410</td>\n",
       "      <td>2.133170</td>\n",
       "      <td>0.015003</td>\n",
       "      <td>0.837052</td>\n",
       "      <td>0.369328</td>\n",
       "      <td>0.002598</td>\n",
       "      <td>0.774495</td>\n",
       "    </tr>\n",
       "    <tr>\n",
       "      <th>7</th>\n",
       "      <td>3.008205</td>\n",
       "      <td>2.350089</td>\n",
       "      <td>1.814375</td>\n",
       "      <td>0.395929</td>\n",
       "      <td>0.952381</td>\n",
       "      <td>0.218218</td>\n",
       "      <td>0.047619</td>\n",
       "      <td>1.949524</td>\n",
       "      <td>2.752791</td>\n",
       "      <td>2.3330</td>\n",
       "      <td>1.384037</td>\n",
       "      <td>0.009564</td>\n",
       "      <td>0.983146</td>\n",
       "      <td>0.128729</td>\n",
       "      <td>0.000890</td>\n",
       "      <td>1.951524</td>\n",
       "    </tr>\n",
       "    <tr>\n",
       "      <th rowspan=\"7\" valign=\"top\">1</th>\n",
       "      <th>1</th>\n",
       "      <td>3.579330</td>\n",
       "      <td>3.225197</td>\n",
       "      <td>1.632378</td>\n",
       "      <td>0.408094</td>\n",
       "      <td>0.000000</td>\n",
       "      <td>0.000000</td>\n",
       "      <td>0.000000</td>\n",
       "      <td>-1.698125</td>\n",
       "      <td>4.655906</td>\n",
       "      <td>4.1045</td>\n",
       "      <td>2.355770</td>\n",
       "      <td>0.019610</td>\n",
       "      <td>0.379365</td>\n",
       "      <td>0.485246</td>\n",
       "      <td>0.004039</td>\n",
       "      <td>-1.698904</td>\n",
       "    </tr>\n",
       "    <tr>\n",
       "      <th>2</th>\n",
       "      <td>4.737000</td>\n",
       "      <td>4.266863</td>\n",
       "      <td>2.216332</td>\n",
       "      <td>0.508461</td>\n",
       "      <td>0.105263</td>\n",
       "      <td>0.315302</td>\n",
       "      <td>0.072335</td>\n",
       "      <td>-0.768421</td>\n",
       "      <td>4.676209</td>\n",
       "      <td>4.1620</td>\n",
       "      <td>2.361218</td>\n",
       "      <td>0.018070</td>\n",
       "      <td>0.444158</td>\n",
       "      <td>0.496886</td>\n",
       "      <td>0.003803</td>\n",
       "      <td>-0.768498</td>\n",
       "    </tr>\n",
       "    <tr>\n",
       "      <th>3</th>\n",
       "      <td>4.934197</td>\n",
       "      <td>4.483355</td>\n",
       "      <td>2.357157</td>\n",
       "      <td>0.491501</td>\n",
       "      <td>0.130435</td>\n",
       "      <td>0.344350</td>\n",
       "      <td>0.071802</td>\n",
       "      <td>-0.348696</td>\n",
       "      <td>4.684368</td>\n",
       "      <td>4.1390</td>\n",
       "      <td>2.349915</td>\n",
       "      <td>0.016364</td>\n",
       "      <td>0.476895</td>\n",
       "      <td>0.499478</td>\n",
       "      <td>0.003478</td>\n",
       "      <td>-0.348604</td>\n",
       "    </tr>\n",
       "    <tr>\n",
       "      <th>4</th>\n",
       "      <td>4.939064</td>\n",
       "      <td>4.500093</td>\n",
       "      <td>2.346724</td>\n",
       "      <td>0.553128</td>\n",
       "      <td>0.611111</td>\n",
       "      <td>0.501631</td>\n",
       "      <td>0.118236</td>\n",
       "      <td>0.045556</td>\n",
       "      <td>4.661725</td>\n",
       "      <td>4.1180</td>\n",
       "      <td>2.347883</td>\n",
       "      <td>0.018495</td>\n",
       "      <td>0.502513</td>\n",
       "      <td>0.500009</td>\n",
       "      <td>0.003939</td>\n",
       "      <td>0.045648</td>\n",
       "    </tr>\n",
       "    <tr>\n",
       "      <th>5</th>\n",
       "      <td>5.701553</td>\n",
       "      <td>4.991859</td>\n",
       "      <td>2.144159</td>\n",
       "      <td>0.618965</td>\n",
       "      <td>0.750000</td>\n",
       "      <td>0.452267</td>\n",
       "      <td>0.130558</td>\n",
       "      <td>0.291667</td>\n",
       "      <td>4.708685</td>\n",
       "      <td>4.1770</td>\n",
       "      <td>2.360049</td>\n",
       "      <td>0.022798</td>\n",
       "      <td>0.533408</td>\n",
       "      <td>0.498906</td>\n",
       "      <td>0.004820</td>\n",
       "      <td>0.291530</td>\n",
       "    </tr>\n",
       "    <tr>\n",
       "      <th>6</th>\n",
       "      <td>4.290933</td>\n",
       "      <td>3.666699</td>\n",
       "      <td>1.939681</td>\n",
       "      <td>0.373292</td>\n",
       "      <td>0.851852</td>\n",
       "      <td>0.362014</td>\n",
       "      <td>0.069670</td>\n",
       "      <td>0.781481</td>\n",
       "      <td>4.653556</td>\n",
       "      <td>4.1280</td>\n",
       "      <td>2.336225</td>\n",
       "      <td>0.015046</td>\n",
       "      <td>0.567773</td>\n",
       "      <td>0.495396</td>\n",
       "      <td>0.003190</td>\n",
       "      <td>0.781453</td>\n",
       "    </tr>\n",
       "    <tr>\n",
       "      <th>7</th>\n",
       "      <td>2.884621</td>\n",
       "      <td>2.766864</td>\n",
       "      <td>0.982762</td>\n",
       "      <td>0.253748</td>\n",
       "      <td>1.000000</td>\n",
       "      <td>0.000000</td>\n",
       "      <td>0.000000</td>\n",
       "      <td>1.770667</td>\n",
       "      <td>4.685419</td>\n",
       "      <td>4.1460</td>\n",
       "      <td>2.355842</td>\n",
       "      <td>0.020264</td>\n",
       "      <td>0.627701</td>\n",
       "      <td>0.483435</td>\n",
       "      <td>0.004158</td>\n",
       "      <td>1.771948</td>\n",
       "    </tr>\n",
       "    <tr>\n",
       "      <th rowspan=\"7\" valign=\"top\">2</th>\n",
       "      <th>1</th>\n",
       "      <td>1.638579</td>\n",
       "      <td>1.600187</td>\n",
       "      <td>0.392263</td>\n",
       "      <td>0.108794</td>\n",
       "      <td>0.076923</td>\n",
       "      <td>0.277350</td>\n",
       "      <td>0.076923</td>\n",
       "      <td>-1.686923</td>\n",
       "      <td>1.734371</td>\n",
       "      <td>1.5130</td>\n",
       "      <td>0.743505</td>\n",
       "      <td>0.006521</td>\n",
       "      <td>0.152627</td>\n",
       "      <td>0.359642</td>\n",
       "      <td>0.003154</td>\n",
       "      <td>-1.686961</td>\n",
       "    </tr>\n",
       "    <tr>\n",
       "      <th>2</th>\n",
       "      <td>1.985904</td>\n",
       "      <td>1.700236</td>\n",
       "      <td>1.164093</td>\n",
       "      <td>0.254026</td>\n",
       "      <td>0.095238</td>\n",
       "      <td>0.300793</td>\n",
       "      <td>0.065638</td>\n",
       "      <td>-0.812381</td>\n",
       "      <td>1.901105</td>\n",
       "      <td>1.6460</td>\n",
       "      <td>0.880928</td>\n",
       "      <td>0.006079</td>\n",
       "      <td>0.285476</td>\n",
       "      <td>0.451652</td>\n",
       "      <td>0.003117</td>\n",
       "      <td>-0.812381</td>\n",
       "    </tr>\n",
       "    <tr>\n",
       "      <th>3</th>\n",
       "      <td>2.241470</td>\n",
       "      <td>1.733386</td>\n",
       "      <td>1.634961</td>\n",
       "      <td>0.340913</td>\n",
       "      <td>0.304348</td>\n",
       "      <td>0.470472</td>\n",
       "      <td>0.098100</td>\n",
       "      <td>-0.275652</td>\n",
       "      <td>1.975206</td>\n",
       "      <td>1.6980</td>\n",
       "      <td>0.944644</td>\n",
       "      <td>0.006229</td>\n",
       "      <td>0.426515</td>\n",
       "      <td>0.494581</td>\n",
       "      <td>0.003261</td>\n",
       "      <td>-0.275650</td>\n",
       "    </tr>\n",
       "    <tr>\n",
       "      <th>4</th>\n",
       "      <td>2.171843</td>\n",
       "      <td>1.975196</td>\n",
       "      <td>1.238181</td>\n",
       "      <td>0.226060</td>\n",
       "      <td>0.533333</td>\n",
       "      <td>0.507416</td>\n",
       "      <td>0.092641</td>\n",
       "      <td>0.028000</td>\n",
       "      <td>1.988825</td>\n",
       "      <td>1.7000</td>\n",
       "      <td>0.969140</td>\n",
       "      <td>0.005596</td>\n",
       "      <td>0.509984</td>\n",
       "      <td>0.499909</td>\n",
       "      <td>0.002886</td>\n",
       "      <td>0.028001</td>\n",
       "    </tr>\n",
       "    <tr>\n",
       "      <th>5</th>\n",
       "      <td>1.778234</td>\n",
       "      <td>1.466851</td>\n",
       "      <td>1.067080</td>\n",
       "      <td>0.244805</td>\n",
       "      <td>0.736842</td>\n",
       "      <td>0.452414</td>\n",
       "      <td>0.103791</td>\n",
       "      <td>0.271053</td>\n",
       "      <td>1.972296</td>\n",
       "      <td>1.6920</td>\n",
       "      <td>0.942524</td>\n",
       "      <td>0.006838</td>\n",
       "      <td>0.573557</td>\n",
       "      <td>0.494573</td>\n",
       "      <td>0.003588</td>\n",
       "      <td>0.271043</td>\n",
       "    </tr>\n",
       "    <tr>\n",
       "      <th>6</th>\n",
       "      <td>1.622118</td>\n",
       "      <td>1.291785</td>\n",
       "      <td>0.786656</td>\n",
       "      <td>0.167716</td>\n",
       "      <td>0.909091</td>\n",
       "      <td>0.294245</td>\n",
       "      <td>0.062733</td>\n",
       "      <td>0.781364</td>\n",
       "      <td>1.915270</td>\n",
       "      <td>1.6490</td>\n",
       "      <td>0.903049</td>\n",
       "      <td>0.006088</td>\n",
       "      <td>0.705955</td>\n",
       "      <td>0.455623</td>\n",
       "      <td>0.003072</td>\n",
       "      <td>0.781364</td>\n",
       "    </tr>\n",
       "    <tr>\n",
       "      <th>7</th>\n",
       "      <td>1.264460</td>\n",
       "      <td>1.150190</td>\n",
       "      <td>0.246631</td>\n",
       "      <td>0.053819</td>\n",
       "      <td>1.000000</td>\n",
       "      <td>0.000000</td>\n",
       "      <td>0.000000</td>\n",
       "      <td>1.539524</td>\n",
       "      <td>1.770705</td>\n",
       "      <td>1.5430</td>\n",
       "      <td>0.767399</td>\n",
       "      <td>0.005296</td>\n",
       "      <td>0.836143</td>\n",
       "      <td>0.370155</td>\n",
       "      <td>0.002554</td>\n",
       "      <td>1.539524</td>\n",
       "    </tr>\n",
       "    <tr>\n",
       "      <th rowspan=\"7\" valign=\"top\">3</th>\n",
       "      <th>1</th>\n",
       "      <td>1.624291</td>\n",
       "      <td>1.483389</td>\n",
       "      <td>0.493143</td>\n",
       "      <td>0.110270</td>\n",
       "      <td>0.100000</td>\n",
       "      <td>0.307794</td>\n",
       "      <td>0.068825</td>\n",
       "      <td>-1.650500</td>\n",
       "      <td>2.179998</td>\n",
       "      <td>1.8610</td>\n",
       "      <td>1.039266</td>\n",
       "      <td>0.007350</td>\n",
       "      <td>0.029010</td>\n",
       "      <td>0.167839</td>\n",
       "      <td>0.001187</td>\n",
       "      <td>-1.650694</td>\n",
       "    </tr>\n",
       "    <tr>\n",
       "      <th>2</th>\n",
       "      <td>2.317676</td>\n",
       "      <td>2.108571</td>\n",
       "      <td>1.361065</td>\n",
       "      <td>0.320806</td>\n",
       "      <td>0.277778</td>\n",
       "      <td>0.460889</td>\n",
       "      <td>0.108632</td>\n",
       "      <td>-0.821667</td>\n",
       "      <td>2.807291</td>\n",
       "      <td>2.3750</td>\n",
       "      <td>1.498483</td>\n",
       "      <td>0.011179</td>\n",
       "      <td>0.130517</td>\n",
       "      <td>0.336881</td>\n",
       "      <td>0.002513</td>\n",
       "      <td>-0.821764</td>\n",
       "    </tr>\n",
       "    <tr>\n",
       "      <th>3</th>\n",
       "      <td>2.431576</td>\n",
       "      <td>2.125114</td>\n",
       "      <td>1.159463</td>\n",
       "      <td>0.273288</td>\n",
       "      <td>0.277778</td>\n",
       "      <td>0.460889</td>\n",
       "      <td>0.108632</td>\n",
       "      <td>-0.332222</td>\n",
       "      <td>3.270860</td>\n",
       "      <td>2.7420</td>\n",
       "      <td>1.837851</td>\n",
       "      <td>0.013766</td>\n",
       "      <td>0.315474</td>\n",
       "      <td>0.464717</td>\n",
       "      <td>0.003481</td>\n",
       "      <td>-0.332351</td>\n",
       "    </tr>\n",
       "    <tr>\n",
       "      <th>4</th>\n",
       "      <td>2.379950</td>\n",
       "      <td>1.966774</td>\n",
       "      <td>1.190796</td>\n",
       "      <td>0.221125</td>\n",
       "      <td>0.724138</td>\n",
       "      <td>0.454859</td>\n",
       "      <td>0.084465</td>\n",
       "      <td>0.031379</td>\n",
       "      <td>3.237108</td>\n",
       "      <td>2.6850</td>\n",
       "      <td>1.852266</td>\n",
       "      <td>0.010938</td>\n",
       "      <td>0.502371</td>\n",
       "      <td>0.500003</td>\n",
       "      <td>0.002953</td>\n",
       "      <td>0.031393</td>\n",
       "    </tr>\n",
       "    <tr>\n",
       "      <th>5</th>\n",
       "      <td>2.438965</td>\n",
       "      <td>2.083471</td>\n",
       "      <td>1.670171</td>\n",
       "      <td>0.431236</td>\n",
       "      <td>0.933333</td>\n",
       "      <td>0.258199</td>\n",
       "      <td>0.066667</td>\n",
       "      <td>0.314000</td>\n",
       "      <td>3.278366</td>\n",
       "      <td>2.7500</td>\n",
       "      <td>1.852652</td>\n",
       "      <td>0.015197</td>\n",
       "      <td>0.684005</td>\n",
       "      <td>0.464927</td>\n",
       "      <td>0.003814</td>\n",
       "      <td>0.314033</td>\n",
       "    </tr>\n",
       "    <tr>\n",
       "      <th>6</th>\n",
       "      <td>2.132049</td>\n",
       "      <td>1.708467</td>\n",
       "      <td>1.024262</td>\n",
       "      <td>0.209077</td>\n",
       "      <td>0.916667</td>\n",
       "      <td>0.282330</td>\n",
       "      <td>0.057630</td>\n",
       "      <td>0.788750</td>\n",
       "      <td>2.853432</td>\n",
       "      <td>2.4150</td>\n",
       "      <td>1.540794</td>\n",
       "      <td>0.009961</td>\n",
       "      <td>0.854086</td>\n",
       "      <td>0.353028</td>\n",
       "      <td>0.002282</td>\n",
       "      <td>0.788946</td>\n",
       "    </tr>\n",
       "    <tr>\n",
       "      <th>7</th>\n",
       "      <td>2.195745</td>\n",
       "      <td>1.750031</td>\n",
       "      <td>1.557043</td>\n",
       "      <td>0.324666</td>\n",
       "      <td>0.956522</td>\n",
       "      <td>0.208514</td>\n",
       "      <td>0.043478</td>\n",
       "      <td>1.599130</td>\n",
       "      <td>2.244871</td>\n",
       "      <td>1.9330</td>\n",
       "      <td>1.066504</td>\n",
       "      <td>0.007033</td>\n",
       "      <td>0.965993</td>\n",
       "      <td>0.181252</td>\n",
       "      <td>0.001195</td>\n",
       "      <td>1.599230</td>\n",
       "    </tr>\n",
       "    <tr>\n",
       "      <th rowspan=\"2\" valign=\"top\">4</th>\n",
       "      <th>1</th>\n",
       "      <td>2.781545</td>\n",
       "      <td>2.250193</td>\n",
       "      <td>1.606493</td>\n",
       "      <td>0.321299</td>\n",
       "      <td>0.000000</td>\n",
       "      <td>0.000000</td>\n",
       "      <td>0.000000</td>\n",
       "      <td>-1.800000</td>\n",
       "      <td>3.276006</td>\n",
       "      <td>2.7830</td>\n",
       "      <td>1.688183</td>\n",
       "      <td>0.010728</td>\n",
       "      <td>0.046036</td>\n",
       "      <td>0.209568</td>\n",
       "      <td>0.001332</td>\n",
       "      <td>-1.805383</td>\n",
       "    </tr>\n",
       "    <tr>\n",
       "      <th>2</th>\n",
       "      <td>2.837450</td>\n",
       "      <td>2.316895</td>\n",
       "      <td>1.905417</td>\n",
       "      <td>0.462132</td>\n",
       "      <td>0.176471</td>\n",
       "      <td>0.392953</td>\n",
       "      <td>0.095305</td>\n",
       "      <td>-0.794706</td>\n",
       "      <td>3.970100</td>\n",
       "      <td>3.4290</td>\n",
       "      <td>2.150342</td>\n",
       "      <td>0.016826</td>\n",
       "      <td>0.217059</td>\n",
       "      <td>0.412255</td>\n",
       "      <td>0.003226</td>\n",
       "      <td>-0.795797</td>\n",
       "    </tr>\n",
       "    <tr>\n",
       "      <th>...</th>\n",
       "      <th>...</th>\n",
       "      <td>...</td>\n",
       "      <td>...</td>\n",
       "      <td>...</td>\n",
       "      <td>...</td>\n",
       "      <td>...</td>\n",
       "      <td>...</td>\n",
       "      <td>...</td>\n",
       "      <td>...</td>\n",
       "      <td>...</td>\n",
       "      <td>...</td>\n",
       "      <td>...</td>\n",
       "      <td>...</td>\n",
       "      <td>...</td>\n",
       "      <td>...</td>\n",
       "      <td>...</td>\n",
       "      <td>...</td>\n",
       "    </tr>\n",
       "    <tr>\n",
       "      <th rowspan=\"2\" valign=\"top\">18</th>\n",
       "      <th>6</th>\n",
       "      <td>4.792930</td>\n",
       "      <td>4.095856</td>\n",
       "      <td>2.038164</td>\n",
       "      <td>0.509541</td>\n",
       "      <td>0.750000</td>\n",
       "      <td>0.447214</td>\n",
       "      <td>0.111803</td>\n",
       "      <td>0.812500</td>\n",
       "      <td>5.267445</td>\n",
       "      <td>4.8380</td>\n",
       "      <td>2.347137</td>\n",
       "      <td>0.020518</td>\n",
       "      <td>0.829895</td>\n",
       "      <td>0.375740</td>\n",
       "      <td>0.003285</td>\n",
       "      <td>0.813194</td>\n",
       "    </tr>\n",
       "    <tr>\n",
       "      <th>7</th>\n",
       "      <td>4.728540</td>\n",
       "      <td>4.351996</td>\n",
       "      <td>2.235295</td>\n",
       "      <td>0.706862</td>\n",
       "      <td>0.900000</td>\n",
       "      <td>0.316228</td>\n",
       "      <td>0.100000</td>\n",
       "      <td>1.830000</td>\n",
       "      <td>4.493802</td>\n",
       "      <td>3.9690</td>\n",
       "      <td>2.127067</td>\n",
       "      <td>0.022000</td>\n",
       "      <td>0.960098</td>\n",
       "      <td>0.195738</td>\n",
       "      <td>0.002024</td>\n",
       "      <td>1.851987</td>\n",
       "    </tr>\n",
       "    <tr>\n",
       "      <th rowspan=\"7\" valign=\"top\">19</th>\n",
       "      <th>1</th>\n",
       "      <td>2.653202</td>\n",
       "      <td>1.883516</td>\n",
       "      <td>1.888685</td>\n",
       "      <td>0.363478</td>\n",
       "      <td>0.074074</td>\n",
       "      <td>0.266880</td>\n",
       "      <td>0.051361</td>\n",
       "      <td>-1.612963</td>\n",
       "      <td>1.890901</td>\n",
       "      <td>1.6390</td>\n",
       "      <td>0.875172</td>\n",
       "      <td>0.005326</td>\n",
       "      <td>0.279741</td>\n",
       "      <td>0.448880</td>\n",
       "      <td>0.002732</td>\n",
       "      <td>-1.612963</td>\n",
       "    </tr>\n",
       "    <tr>\n",
       "      <th>2</th>\n",
       "      <td>2.835358</td>\n",
       "      <td>2.416835</td>\n",
       "      <td>1.780613</td>\n",
       "      <td>0.419694</td>\n",
       "      <td>0.055556</td>\n",
       "      <td>0.235702</td>\n",
       "      <td>0.055556</td>\n",
       "      <td>-0.832778</td>\n",
       "      <td>1.916773</td>\n",
       "      <td>1.6490</td>\n",
       "      <td>0.910000</td>\n",
       "      <td>0.006783</td>\n",
       "      <td>0.372056</td>\n",
       "      <td>0.483367</td>\n",
       "      <td>0.003603</td>\n",
       "      <td>-0.832778</td>\n",
       "    </tr>\n",
       "    <tr>\n",
       "      <th>3</th>\n",
       "      <td>3.160117</td>\n",
       "      <td>1.966812</td>\n",
       "      <td>2.144510</td>\n",
       "      <td>0.553710</td>\n",
       "      <td>0.133333</td>\n",
       "      <td>0.351866</td>\n",
       "      <td>0.090851</td>\n",
       "      <td>-0.298000</td>\n",
       "      <td>1.965265</td>\n",
       "      <td>1.6910</td>\n",
       "      <td>0.950974</td>\n",
       "      <td>0.007765</td>\n",
       "      <td>0.438867</td>\n",
       "      <td>0.496265</td>\n",
       "      <td>0.004052</td>\n",
       "      <td>-0.298000</td>\n",
       "    </tr>\n",
       "    <tr>\n",
       "      <th>4</th>\n",
       "      <td>2.749146</td>\n",
       "      <td>2.308499</td>\n",
       "      <td>1.585945</td>\n",
       "      <td>0.271987</td>\n",
       "      <td>0.735294</td>\n",
       "      <td>0.447811</td>\n",
       "      <td>0.076799</td>\n",
       "      <td>0.027353</td>\n",
       "      <td>1.917294</td>\n",
       "      <td>1.6410</td>\n",
       "      <td>0.914505</td>\n",
       "      <td>0.004960</td>\n",
       "      <td>0.507324</td>\n",
       "      <td>0.499954</td>\n",
       "      <td>0.002711</td>\n",
       "      <td>0.027353</td>\n",
       "    </tr>\n",
       "    <tr>\n",
       "      <th>5</th>\n",
       "      <td>2.463897</td>\n",
       "      <td>1.700190</td>\n",
       "      <td>1.706571</td>\n",
       "      <td>0.413904</td>\n",
       "      <td>0.764706</td>\n",
       "      <td>0.437237</td>\n",
       "      <td>0.106046</td>\n",
       "      <td>0.284118</td>\n",
       "      <td>1.949402</td>\n",
       "      <td>1.6790</td>\n",
       "      <td>0.926804</td>\n",
       "      <td>0.007108</td>\n",
       "      <td>0.551824</td>\n",
       "      <td>0.497322</td>\n",
       "      <td>0.003814</td>\n",
       "      <td>0.284118</td>\n",
       "    </tr>\n",
       "    <tr>\n",
       "      <th>6</th>\n",
       "      <td>1.803745</td>\n",
       "      <td>1.550185</td>\n",
       "      <td>0.848899</td>\n",
       "      <td>0.177008</td>\n",
       "      <td>1.000000</td>\n",
       "      <td>0.000000</td>\n",
       "      <td>0.000000</td>\n",
       "      <td>0.751304</td>\n",
       "      <td>1.905808</td>\n",
       "      <td>1.6280</td>\n",
       "      <td>0.911210</td>\n",
       "      <td>0.006008</td>\n",
       "      <td>0.636000</td>\n",
       "      <td>0.481159</td>\n",
       "      <td>0.003173</td>\n",
       "      <td>0.751304</td>\n",
       "    </tr>\n",
       "    <tr>\n",
       "      <th>7</th>\n",
       "      <td>2.092854</td>\n",
       "      <td>1.708503</td>\n",
       "      <td>1.158186</td>\n",
       "      <td>0.289546</td>\n",
       "      <td>0.937500</td>\n",
       "      <td>0.250000</td>\n",
       "      <td>0.062500</td>\n",
       "      <td>1.423125</td>\n",
       "      <td>1.879178</td>\n",
       "      <td>1.6270</td>\n",
       "      <td>0.871993</td>\n",
       "      <td>0.006894</td>\n",
       "      <td>0.690375</td>\n",
       "      <td>0.462353</td>\n",
       "      <td>0.003655</td>\n",
       "      <td>1.423125</td>\n",
       "    </tr>\n",
       "    <tr>\n",
       "      <th rowspan=\"7\" valign=\"top\">20</th>\n",
       "      <th>1</th>\n",
       "      <td>2.228803</td>\n",
       "      <td>2.000060</td>\n",
       "      <td>1.013551</td>\n",
       "      <td>0.238896</td>\n",
       "      <td>0.055556</td>\n",
       "      <td>0.235702</td>\n",
       "      <td>0.055556</td>\n",
       "      <td>-1.683889</td>\n",
       "      <td>3.005645</td>\n",
       "      <td>2.5040</td>\n",
       "      <td>1.680417</td>\n",
       "      <td>0.012561</td>\n",
       "      <td>0.191663</td>\n",
       "      <td>0.393620</td>\n",
       "      <td>0.002942</td>\n",
       "      <td>-1.685842</td>\n",
       "    </tr>\n",
       "    <tr>\n",
       "      <th>2</th>\n",
       "      <td>2.784164</td>\n",
       "      <td>2.533315</td>\n",
       "      <td>1.259392</td>\n",
       "      <td>0.262601</td>\n",
       "      <td>0.043478</td>\n",
       "      <td>0.208514</td>\n",
       "      <td>0.043478</td>\n",
       "      <td>-0.780435</td>\n",
       "      <td>3.185809</td>\n",
       "      <td>2.6350</td>\n",
       "      <td>1.825247</td>\n",
       "      <td>0.012090</td>\n",
       "      <td>0.340763</td>\n",
       "      <td>0.473976</td>\n",
       "      <td>0.003139</td>\n",
       "      <td>-0.780685</td>\n",
       "    </tr>\n",
       "    <tr>\n",
       "      <th>3</th>\n",
       "      <td>2.653716</td>\n",
       "      <td>2.433456</td>\n",
       "      <td>1.304488</td>\n",
       "      <td>0.272005</td>\n",
       "      <td>0.565217</td>\n",
       "      <td>0.506870</td>\n",
       "      <td>0.105690</td>\n",
       "      <td>-0.299565</td>\n",
       "      <td>3.360077</td>\n",
       "      <td>2.7940</td>\n",
       "      <td>1.904684</td>\n",
       "      <td>0.012641</td>\n",
       "      <td>0.410632</td>\n",
       "      <td>0.491959</td>\n",
       "      <td>0.003265</td>\n",
       "      <td>-0.299696</td>\n",
       "    </tr>\n",
       "    <tr>\n",
       "      <th>4</th>\n",
       "      <td>2.532182</td>\n",
       "      <td>2.366643</td>\n",
       "      <td>0.788231</td>\n",
       "      <td>0.151695</td>\n",
       "      <td>0.629630</td>\n",
       "      <td>0.492103</td>\n",
       "      <td>0.094705</td>\n",
       "      <td>0.044074</td>\n",
       "      <td>3.278263</td>\n",
       "      <td>2.7130</td>\n",
       "      <td>1.871422</td>\n",
       "      <td>0.011460</td>\n",
       "      <td>0.528686</td>\n",
       "      <td>0.499186</td>\n",
       "      <td>0.003057</td>\n",
       "      <td>0.044117</td>\n",
       "    </tr>\n",
       "    <tr>\n",
       "      <th>5</th>\n",
       "      <td>2.858446</td>\n",
       "      <td>2.175144</td>\n",
       "      <td>1.679096</td>\n",
       "      <td>0.357984</td>\n",
       "      <td>0.954545</td>\n",
       "      <td>0.213201</td>\n",
       "      <td>0.045455</td>\n",
       "      <td>0.302727</td>\n",
       "      <td>3.375683</td>\n",
       "      <td>2.8210</td>\n",
       "      <td>1.912526</td>\n",
       "      <td>0.012980</td>\n",
       "      <td>0.566856</td>\n",
       "      <td>0.495522</td>\n",
       "      <td>0.003363</td>\n",
       "      <td>0.302610</td>\n",
       "    </tr>\n",
       "    <tr>\n",
       "      <th>6</th>\n",
       "      <td>2.591219</td>\n",
       "      <td>2.233453</td>\n",
       "      <td>1.808473</td>\n",
       "      <td>0.466946</td>\n",
       "      <td>0.933333</td>\n",
       "      <td>0.258199</td>\n",
       "      <td>0.066667</td>\n",
       "      <td>0.760000</td>\n",
       "      <td>3.213071</td>\n",
       "      <td>2.7075</td>\n",
       "      <td>1.782477</td>\n",
       "      <td>0.014622</td>\n",
       "      <td>0.624563</td>\n",
       "      <td>0.484252</td>\n",
       "      <td>0.003972</td>\n",
       "      <td>0.760119</td>\n",
       "    </tr>\n",
       "    <tr>\n",
       "      <th>7</th>\n",
       "      <td>1.805131</td>\n",
       "      <td>1.616734</td>\n",
       "      <td>0.602819</td>\n",
       "      <td>0.134794</td>\n",
       "      <td>1.000000</td>\n",
       "      <td>0.000000</td>\n",
       "      <td>0.000000</td>\n",
       "      <td>1.713500</td>\n",
       "      <td>3.013889</td>\n",
       "      <td>2.5480</td>\n",
       "      <td>1.637875</td>\n",
       "      <td>0.011610</td>\n",
       "      <td>0.816711</td>\n",
       "      <td>0.386913</td>\n",
       "      <td>0.002743</td>\n",
       "      <td>1.715158</td>\n",
       "    </tr>\n",
       "    <tr>\n",
       "      <th rowspan=\"7\" valign=\"top\">21</th>\n",
       "      <th>1</th>\n",
       "      <td>3.171696</td>\n",
       "      <td>2.902363</td>\n",
       "      <td>1.394447</td>\n",
       "      <td>0.311808</td>\n",
       "      <td>0.100000</td>\n",
       "      <td>0.307794</td>\n",
       "      <td>0.068825</td>\n",
       "      <td>-1.658500</td>\n",
       "      <td>3.009854</td>\n",
       "      <td>2.5090</td>\n",
       "      <td>1.674805</td>\n",
       "      <td>0.011870</td>\n",
       "      <td>0.183896</td>\n",
       "      <td>0.387409</td>\n",
       "      <td>0.002746</td>\n",
       "      <td>-1.659848</td>\n",
       "    </tr>\n",
       "    <tr>\n",
       "      <th>2</th>\n",
       "      <td>2.842411</td>\n",
       "      <td>2.369237</td>\n",
       "      <td>1.812247</td>\n",
       "      <td>0.415758</td>\n",
       "      <td>0.105263</td>\n",
       "      <td>0.315302</td>\n",
       "      <td>0.072335</td>\n",
       "      <td>-0.737895</td>\n",
       "      <td>3.278951</td>\n",
       "      <td>2.7600</td>\n",
       "      <td>1.843317</td>\n",
       "      <td>0.013442</td>\n",
       "      <td>0.347852</td>\n",
       "      <td>0.476301</td>\n",
       "      <td>0.003473</td>\n",
       "      <td>-0.737903</td>\n",
       "    </tr>\n",
       "    <tr>\n",
       "      <th>3</th>\n",
       "      <td>3.361844</td>\n",
       "      <td>2.636036</td>\n",
       "      <td>2.170637</td>\n",
       "      <td>0.485369</td>\n",
       "      <td>0.650000</td>\n",
       "      <td>0.489360</td>\n",
       "      <td>0.109424</td>\n",
       "      <td>-0.326500</td>\n",
       "      <td>3.345805</td>\n",
       "      <td>2.8040</td>\n",
       "      <td>1.873746</td>\n",
       "      <td>0.013332</td>\n",
       "      <td>0.453473</td>\n",
       "      <td>0.497843</td>\n",
       "      <td>0.003542</td>\n",
       "      <td>-0.326554</td>\n",
       "    </tr>\n",
       "    <tr>\n",
       "      <th>4</th>\n",
       "      <td>2.794557</td>\n",
       "      <td>2.419154</td>\n",
       "      <td>1.623700</td>\n",
       "      <td>0.306851</td>\n",
       "      <td>0.535714</td>\n",
       "      <td>0.507875</td>\n",
       "      <td>0.095979</td>\n",
       "      <td>0.029643</td>\n",
       "      <td>3.298076</td>\n",
       "      <td>2.7540</td>\n",
       "      <td>1.882681</td>\n",
       "      <td>0.011317</td>\n",
       "      <td>0.520902</td>\n",
       "      <td>0.499572</td>\n",
       "      <td>0.003003</td>\n",
       "      <td>0.029651</td>\n",
       "    </tr>\n",
       "    <tr>\n",
       "      <th>5</th>\n",
       "      <td>2.400199</td>\n",
       "      <td>1.743638</td>\n",
       "      <td>1.868345</td>\n",
       "      <td>0.499336</td>\n",
       "      <td>0.785714</td>\n",
       "      <td>0.425815</td>\n",
       "      <td>0.113804</td>\n",
       "      <td>0.291429</td>\n",
       "      <td>3.377666</td>\n",
       "      <td>2.8290</td>\n",
       "      <td>1.911941</td>\n",
       "      <td>0.016262</td>\n",
       "      <td>0.554077</td>\n",
       "      <td>0.497085</td>\n",
       "      <td>0.004228</td>\n",
       "      <td>0.291353</td>\n",
       "    </tr>\n",
       "    <tr>\n",
       "      <th>6</th>\n",
       "      <td>2.568327</td>\n",
       "      <td>1.977287</td>\n",
       "      <td>1.626370</td>\n",
       "      <td>0.406593</td>\n",
       "      <td>0.687500</td>\n",
       "      <td>0.478714</td>\n",
       "      <td>0.119678</td>\n",
       "      <td>0.796875</td>\n",
       "      <td>3.155164</td>\n",
       "      <td>2.6005</td>\n",
       "      <td>1.797362</td>\n",
       "      <td>0.014276</td>\n",
       "      <td>0.686286</td>\n",
       "      <td>0.464016</td>\n",
       "      <td>0.003685</td>\n",
       "      <td>0.796936</td>\n",
       "    </tr>\n",
       "    <tr>\n",
       "      <th>7</th>\n",
       "      <td>2.657540</td>\n",
       "      <td>1.943793</td>\n",
       "      <td>2.156657</td>\n",
       "      <td>0.407570</td>\n",
       "      <td>0.857143</td>\n",
       "      <td>0.356348</td>\n",
       "      <td>0.067344</td>\n",
       "      <td>1.893929</td>\n",
       "      <td>2.942472</td>\n",
       "      <td>2.4740</td>\n",
       "      <td>1.614086</td>\n",
       "      <td>0.009666</td>\n",
       "      <td>0.840123</td>\n",
       "      <td>0.366498</td>\n",
       "      <td>0.002195</td>\n",
       "      <td>1.895609</td>\n",
       "    </tr>\n",
       "    <tr>\n",
       "      <th rowspan=\"7\" valign=\"top\">22</th>\n",
       "      <th>1</th>\n",
       "      <td>2.216818</td>\n",
       "      <td>2.050134</td>\n",
       "      <td>0.919521</td>\n",
       "      <td>0.191733</td>\n",
       "      <td>0.000000</td>\n",
       "      <td>0.000000</td>\n",
       "      <td>0.000000</td>\n",
       "      <td>-1.621739</td>\n",
       "      <td>2.987281</td>\n",
       "      <td>2.5070</td>\n",
       "      <td>1.636041</td>\n",
       "      <td>0.010823</td>\n",
       "      <td>0.182968</td>\n",
       "      <td>0.386649</td>\n",
       "      <td>0.002558</td>\n",
       "      <td>-1.622850</td>\n",
       "    </tr>\n",
       "    <tr>\n",
       "      <th>2</th>\n",
       "      <td>3.108485</td>\n",
       "      <td>2.650166</td>\n",
       "      <td>2.099694</td>\n",
       "      <td>0.561167</td>\n",
       "      <td>0.142857</td>\n",
       "      <td>0.363137</td>\n",
       "      <td>0.097052</td>\n",
       "      <td>-0.765000</td>\n",
       "      <td>3.197051</td>\n",
       "      <td>2.6500</td>\n",
       "      <td>1.835676</td>\n",
       "      <td>0.015587</td>\n",
       "      <td>0.328575</td>\n",
       "      <td>0.469712</td>\n",
       "      <td>0.003988</td>\n",
       "      <td>-0.765107</td>\n",
       "    </tr>\n",
       "    <tr>\n",
       "      <th>3</th>\n",
       "      <td>3.016054</td>\n",
       "      <td>2.558509</td>\n",
       "      <td>1.616186</td>\n",
       "      <td>0.344572</td>\n",
       "      <td>0.227273</td>\n",
       "      <td>0.428932</td>\n",
       "      <td>0.091449</td>\n",
       "      <td>-0.327727</td>\n",
       "      <td>3.364580</td>\n",
       "      <td>2.8060</td>\n",
       "      <td>1.912371</td>\n",
       "      <td>0.012968</td>\n",
       "      <td>0.432270</td>\n",
       "      <td>0.495403</td>\n",
       "      <td>0.003359</td>\n",
       "      <td>-0.327893</td>\n",
       "    </tr>\n",
       "    <tr>\n",
       "      <th>4</th>\n",
       "      <td>3.386781</td>\n",
       "      <td>3.083493</td>\n",
       "      <td>1.508304</td>\n",
       "      <td>0.301661</td>\n",
       "      <td>0.720000</td>\n",
       "      <td>0.458258</td>\n",
       "      <td>0.091652</td>\n",
       "      <td>0.036400</td>\n",
       "      <td>3.203685</td>\n",
       "      <td>2.6405</td>\n",
       "      <td>1.838557</td>\n",
       "      <td>0.011686</td>\n",
       "      <td>0.473499</td>\n",
       "      <td>0.499307</td>\n",
       "      <td>0.003174</td>\n",
       "      <td>0.036409</td>\n",
       "    </tr>\n",
       "    <tr>\n",
       "      <th>5</th>\n",
       "      <td>2.916114</td>\n",
       "      <td>2.883594</td>\n",
       "      <td>0.973096</td>\n",
       "      <td>0.198632</td>\n",
       "      <td>0.708333</td>\n",
       "      <td>0.464306</td>\n",
       "      <td>0.094776</td>\n",
       "      <td>0.302500</td>\n",
       "      <td>3.339633</td>\n",
       "      <td>2.7810</td>\n",
       "      <td>1.895920</td>\n",
       "      <td>0.012315</td>\n",
       "      <td>0.564955</td>\n",
       "      <td>0.495773</td>\n",
       "      <td>0.003220</td>\n",
       "      <td>0.302414</td>\n",
       "    </tr>\n",
       "    <tr>\n",
       "      <th>6</th>\n",
       "      <td>2.415822</td>\n",
       "      <td>2.183364</td>\n",
       "      <td>1.552368</td>\n",
       "      <td>0.376505</td>\n",
       "      <td>1.000000</td>\n",
       "      <td>0.000000</td>\n",
       "      <td>0.000000</td>\n",
       "      <td>0.715294</td>\n",
       "      <td>3.159146</td>\n",
       "      <td>2.6420</td>\n",
       "      <td>1.794480</td>\n",
       "      <td>0.013830</td>\n",
       "      <td>0.682031</td>\n",
       "      <td>0.465701</td>\n",
       "      <td>0.003589</td>\n",
       "      <td>0.715405</td>\n",
       "    </tr>\n",
       "    <tr>\n",
       "      <th>7</th>\n",
       "      <td>2.133435</td>\n",
       "      <td>1.700036</td>\n",
       "      <td>1.041597</td>\n",
       "      <td>0.208319</td>\n",
       "      <td>0.960000</td>\n",
       "      <td>0.200000</td>\n",
       "      <td>0.040000</td>\n",
       "      <td>1.567600</td>\n",
       "      <td>3.020523</td>\n",
       "      <td>2.5250</td>\n",
       "      <td>1.680153</td>\n",
       "      <td>0.010650</td>\n",
       "      <td>0.806686</td>\n",
       "      <td>0.394905</td>\n",
       "      <td>0.002503</td>\n",
       "      <td>1.568542</td>\n",
       "    </tr>\n",
       "  </tbody>\n",
       "</table>\n",
       "<p>161 rows × 16 columns</p>\n",
       "</div>"
      ],
      "text/plain": [
       "                  test_rt_mean  test_rt_median  test_rt_std  test_rt_sem  \\\n",
       "subject quantile                                                           \n",
       "0       1             3.001564        2.983502     1.307594     0.266912   \n",
       "        2             3.702287        2.875240     2.250337     0.562584   \n",
       "        3             3.472419        3.016838     1.515076     0.309264   \n",
       "        4             3.123475        2.933615     0.750156     0.167740   \n",
       "        5             2.810985        2.591859     0.995077     0.222506   \n",
       "        6             2.838229        2.200212     1.733865     0.378360   \n",
       "        7             3.008205        2.350089     1.814375     0.395929   \n",
       "1       1             3.579330        3.225197     1.632378     0.408094   \n",
       "        2             4.737000        4.266863     2.216332     0.508461   \n",
       "        3             4.934197        4.483355     2.357157     0.491501   \n",
       "        4             4.939064        4.500093     2.346724     0.553128   \n",
       "        5             5.701553        4.991859     2.144159     0.618965   \n",
       "        6             4.290933        3.666699     1.939681     0.373292   \n",
       "        7             2.884621        2.766864     0.982762     0.253748   \n",
       "2       1             1.638579        1.600187     0.392263     0.108794   \n",
       "        2             1.985904        1.700236     1.164093     0.254026   \n",
       "        3             2.241470        1.733386     1.634961     0.340913   \n",
       "        4             2.171843        1.975196     1.238181     0.226060   \n",
       "        5             1.778234        1.466851     1.067080     0.244805   \n",
       "        6             1.622118        1.291785     0.786656     0.167716   \n",
       "        7             1.264460        1.150190     0.246631     0.053819   \n",
       "3       1             1.624291        1.483389     0.493143     0.110270   \n",
       "        2             2.317676        2.108571     1.361065     0.320806   \n",
       "        3             2.431576        2.125114     1.159463     0.273288   \n",
       "        4             2.379950        1.966774     1.190796     0.221125   \n",
       "        5             2.438965        2.083471     1.670171     0.431236   \n",
       "        6             2.132049        1.708467     1.024262     0.209077   \n",
       "        7             2.195745        1.750031     1.557043     0.324666   \n",
       "4       1             2.781545        2.250193     1.606493     0.321299   \n",
       "        2             2.837450        2.316895     1.905417     0.462132   \n",
       "...                        ...             ...          ...          ...   \n",
       "18      6             4.792930        4.095856     2.038164     0.509541   \n",
       "        7             4.728540        4.351996     2.235295     0.706862   \n",
       "19      1             2.653202        1.883516     1.888685     0.363478   \n",
       "        2             2.835358        2.416835     1.780613     0.419694   \n",
       "        3             3.160117        1.966812     2.144510     0.553710   \n",
       "        4             2.749146        2.308499     1.585945     0.271987   \n",
       "        5             2.463897        1.700190     1.706571     0.413904   \n",
       "        6             1.803745        1.550185     0.848899     0.177008   \n",
       "        7             2.092854        1.708503     1.158186     0.289546   \n",
       "20      1             2.228803        2.000060     1.013551     0.238896   \n",
       "        2             2.784164        2.533315     1.259392     0.262601   \n",
       "        3             2.653716        2.433456     1.304488     0.272005   \n",
       "        4             2.532182        2.366643     0.788231     0.151695   \n",
       "        5             2.858446        2.175144     1.679096     0.357984   \n",
       "        6             2.591219        2.233453     1.808473     0.466946   \n",
       "        7             1.805131        1.616734     0.602819     0.134794   \n",
       "21      1             3.171696        2.902363     1.394447     0.311808   \n",
       "        2             2.842411        2.369237     1.812247     0.415758   \n",
       "        3             3.361844        2.636036     2.170637     0.485369   \n",
       "        4             2.794557        2.419154     1.623700     0.306851   \n",
       "        5             2.400199        1.743638     1.868345     0.499336   \n",
       "        6             2.568327        1.977287     1.626370     0.406593   \n",
       "        7             2.657540        1.943793     2.156657     0.407570   \n",
       "22      1             2.216818        2.050134     0.919521     0.191733   \n",
       "        2             3.108485        2.650166     2.099694     0.561167   \n",
       "        3             3.016054        2.558509     1.616186     0.344572   \n",
       "        4             3.386781        3.083493     1.508304     0.301661   \n",
       "        5             2.916114        2.883594     0.973096     0.198632   \n",
       "        6             2.415822        2.183364     1.552368     0.376505   \n",
       "        7             2.133435        1.700036     1.041597     0.208319   \n",
       "\n",
       "                  test_choice_mean  test_choice_std  test_choice_sem  \\\n",
       "subject quantile                                                       \n",
       "0       1                 0.041667         0.204124         0.041667   \n",
       "        2                 0.125000         0.341565         0.085391   \n",
       "        3                 0.333333         0.481543         0.098295   \n",
       "        4                 0.650000         0.489360         0.109424   \n",
       "        5                 0.900000         0.307794         0.068825   \n",
       "        6                 0.809524         0.402374         0.087805   \n",
       "        7                 0.952381         0.218218         0.047619   \n",
       "1       1                 0.000000         0.000000         0.000000   \n",
       "        2                 0.105263         0.315302         0.072335   \n",
       "        3                 0.130435         0.344350         0.071802   \n",
       "        4                 0.611111         0.501631         0.118236   \n",
       "        5                 0.750000         0.452267         0.130558   \n",
       "        6                 0.851852         0.362014         0.069670   \n",
       "        7                 1.000000         0.000000         0.000000   \n",
       "2       1                 0.076923         0.277350         0.076923   \n",
       "        2                 0.095238         0.300793         0.065638   \n",
       "        3                 0.304348         0.470472         0.098100   \n",
       "        4                 0.533333         0.507416         0.092641   \n",
       "        5                 0.736842         0.452414         0.103791   \n",
       "        6                 0.909091         0.294245         0.062733   \n",
       "        7                 1.000000         0.000000         0.000000   \n",
       "3       1                 0.100000         0.307794         0.068825   \n",
       "        2                 0.277778         0.460889         0.108632   \n",
       "        3                 0.277778         0.460889         0.108632   \n",
       "        4                 0.724138         0.454859         0.084465   \n",
       "        5                 0.933333         0.258199         0.066667   \n",
       "        6                 0.916667         0.282330         0.057630   \n",
       "        7                 0.956522         0.208514         0.043478   \n",
       "4       1                 0.000000         0.000000         0.000000   \n",
       "        2                 0.176471         0.392953         0.095305   \n",
       "...                            ...              ...              ...   \n",
       "18      6                 0.750000         0.447214         0.111803   \n",
       "        7                 0.900000         0.316228         0.100000   \n",
       "19      1                 0.074074         0.266880         0.051361   \n",
       "        2                 0.055556         0.235702         0.055556   \n",
       "        3                 0.133333         0.351866         0.090851   \n",
       "        4                 0.735294         0.447811         0.076799   \n",
       "        5                 0.764706         0.437237         0.106046   \n",
       "        6                 1.000000         0.000000         0.000000   \n",
       "        7                 0.937500         0.250000         0.062500   \n",
       "20      1                 0.055556         0.235702         0.055556   \n",
       "        2                 0.043478         0.208514         0.043478   \n",
       "        3                 0.565217         0.506870         0.105690   \n",
       "        4                 0.629630         0.492103         0.094705   \n",
       "        5                 0.954545         0.213201         0.045455   \n",
       "        6                 0.933333         0.258199         0.066667   \n",
       "        7                 1.000000         0.000000         0.000000   \n",
       "21      1                 0.100000         0.307794         0.068825   \n",
       "        2                 0.105263         0.315302         0.072335   \n",
       "        3                 0.650000         0.489360         0.109424   \n",
       "        4                 0.535714         0.507875         0.095979   \n",
       "        5                 0.785714         0.425815         0.113804   \n",
       "        6                 0.687500         0.478714         0.119678   \n",
       "        7                 0.857143         0.356348         0.067344   \n",
       "22      1                 0.000000         0.000000         0.000000   \n",
       "        2                 0.142857         0.363137         0.097052   \n",
       "        3                 0.227273         0.428932         0.091449   \n",
       "        4                 0.720000         0.458258         0.091652   \n",
       "        5                 0.708333         0.464306         0.094776   \n",
       "        6                 1.000000         0.000000         0.000000   \n",
       "        7                 0.960000         0.200000         0.040000   \n",
       "\n",
       "                  test_summed_val_mean  sim_rt_mean  sim_rt_median  \\\n",
       "subject quantile                                                     \n",
       "0       1                    -1.733333     2.896175         2.4950   \n",
       "        2                    -0.756250     3.989392         3.4370   \n",
       "        3                    -0.302917     4.440319         3.9095   \n",
       "        4                     0.049500     4.328841         3.7240   \n",
       "        5                     0.306000     4.490331         3.9480   \n",
       "        6                     0.772381     4.111567         3.5410   \n",
       "        7                     1.949524     2.752791         2.3330   \n",
       "1       1                    -1.698125     4.655906         4.1045   \n",
       "        2                    -0.768421     4.676209         4.1620   \n",
       "        3                    -0.348696     4.684368         4.1390   \n",
       "        4                     0.045556     4.661725         4.1180   \n",
       "        5                     0.291667     4.708685         4.1770   \n",
       "        6                     0.781481     4.653556         4.1280   \n",
       "        7                     1.770667     4.685419         4.1460   \n",
       "2       1                    -1.686923     1.734371         1.5130   \n",
       "        2                    -0.812381     1.901105         1.6460   \n",
       "        3                    -0.275652     1.975206         1.6980   \n",
       "        4                     0.028000     1.988825         1.7000   \n",
       "        5                     0.271053     1.972296         1.6920   \n",
       "        6                     0.781364     1.915270         1.6490   \n",
       "        7                     1.539524     1.770705         1.5430   \n",
       "3       1                    -1.650500     2.179998         1.8610   \n",
       "        2                    -0.821667     2.807291         2.3750   \n",
       "        3                    -0.332222     3.270860         2.7420   \n",
       "        4                     0.031379     3.237108         2.6850   \n",
       "        5                     0.314000     3.278366         2.7500   \n",
       "        6                     0.788750     2.853432         2.4150   \n",
       "        7                     1.599130     2.244871         1.9330   \n",
       "4       1                    -1.800000     3.276006         2.7830   \n",
       "        2                    -0.794706     3.970100         3.4290   \n",
       "...                                ...          ...            ...   \n",
       "18      6                     0.812500     5.267445         4.8380   \n",
       "        7                     1.830000     4.493802         3.9690   \n",
       "19      1                    -1.612963     1.890901         1.6390   \n",
       "        2                    -0.832778     1.916773         1.6490   \n",
       "        3                    -0.298000     1.965265         1.6910   \n",
       "        4                     0.027353     1.917294         1.6410   \n",
       "        5                     0.284118     1.949402         1.6790   \n",
       "        6                     0.751304     1.905808         1.6280   \n",
       "        7                     1.423125     1.879178         1.6270   \n",
       "20      1                    -1.683889     3.005645         2.5040   \n",
       "        2                    -0.780435     3.185809         2.6350   \n",
       "        3                    -0.299565     3.360077         2.7940   \n",
       "        4                     0.044074     3.278263         2.7130   \n",
       "        5                     0.302727     3.375683         2.8210   \n",
       "        6                     0.760000     3.213071         2.7075   \n",
       "        7                     1.713500     3.013889         2.5480   \n",
       "21      1                    -1.658500     3.009854         2.5090   \n",
       "        2                    -0.737895     3.278951         2.7600   \n",
       "        3                    -0.326500     3.345805         2.8040   \n",
       "        4                     0.029643     3.298076         2.7540   \n",
       "        5                     0.291429     3.377666         2.8290   \n",
       "        6                     0.796875     3.155164         2.6005   \n",
       "        7                     1.893929     2.942472         2.4740   \n",
       "22      1                    -1.621739     2.987281         2.5070   \n",
       "        2                    -0.765000     3.197051         2.6500   \n",
       "        3                    -0.327727     3.364580         2.8060   \n",
       "        4                     0.036400     3.203685         2.6405   \n",
       "        5                     0.302500     3.339633         2.7810   \n",
       "        6                     0.715294     3.159146         2.6420   \n",
       "        7                     1.567600     3.020523         2.5250   \n",
       "\n",
       "                  sim_rt_std  sim_rt_sem  sim_choice_mean  sim_choice_std  \\\n",
       "subject quantile                                                            \n",
       "0       1           1.401305    0.009055         0.014699        0.120346   \n",
       "        2           2.090784    0.016798         0.130842        0.337238   \n",
       "        3           2.304020    0.015503         0.287331        0.452528   \n",
       "        4           2.293416    0.016854         0.507480        0.499958   \n",
       "        5           2.298913    0.016926         0.679514        0.466676   \n",
       "        6           2.133170    0.015003         0.837052        0.369328   \n",
       "        7           1.384037    0.009564         0.983146        0.128729   \n",
       "1       1           2.355770    0.019610         0.379365        0.485246   \n",
       "        2           2.361218    0.018070         0.444158        0.496886   \n",
       "        3           2.349915    0.016364         0.476895        0.499478   \n",
       "        4           2.347883    0.018495         0.502513        0.500009   \n",
       "        5           2.360049    0.022798         0.533408        0.498906   \n",
       "        6           2.336225    0.015046         0.567773        0.495396   \n",
       "        7           2.355842    0.020264         0.627701        0.483435   \n",
       "2       1           0.743505    0.006521         0.152627        0.359642   \n",
       "        2           0.880928    0.006079         0.285476        0.451652   \n",
       "        3           0.944644    0.006229         0.426515        0.494581   \n",
       "        4           0.969140    0.005596         0.509984        0.499909   \n",
       "        5           0.942524    0.006838         0.573557        0.494573   \n",
       "        6           0.903049    0.006088         0.705955        0.455623   \n",
       "        7           0.767399    0.005296         0.836143        0.370155   \n",
       "3       1           1.039266    0.007350         0.029010        0.167839   \n",
       "        2           1.498483    0.011179         0.130517        0.336881   \n",
       "        3           1.837851    0.013766         0.315474        0.464717   \n",
       "        4           1.852266    0.010938         0.502371        0.500003   \n",
       "        5           1.852652    0.015197         0.684005        0.464927   \n",
       "        6           1.540794    0.009961         0.854086        0.353028   \n",
       "        7           1.066504    0.007033         0.965993        0.181252   \n",
       "4       1           1.688183    0.010728         0.046036        0.209568   \n",
       "        2           2.150342    0.016826         0.217059        0.412255   \n",
       "...                      ...         ...              ...             ...   \n",
       "18      6           2.347137    0.020518         0.829895        0.375740   \n",
       "        7           2.127067    0.022000         0.960098        0.195738   \n",
       "19      1           0.875172    0.005326         0.279741        0.448880   \n",
       "        2           0.910000    0.006783         0.372056        0.483367   \n",
       "        3           0.950974    0.007765         0.438867        0.496265   \n",
       "        4           0.914505    0.004960         0.507324        0.499954   \n",
       "        5           0.926804    0.007108         0.551824        0.497322   \n",
       "        6           0.911210    0.006008         0.636000        0.481159   \n",
       "        7           0.871993    0.006894         0.690375        0.462353   \n",
       "20      1           1.680417    0.012561         0.191663        0.393620   \n",
       "        2           1.825247    0.012090         0.340763        0.473976   \n",
       "        3           1.904684    0.012641         0.410632        0.491959   \n",
       "        4           1.871422    0.011460         0.528686        0.499186   \n",
       "        5           1.912526    0.012980         0.566856        0.495522   \n",
       "        6           1.782477    0.014622         0.624563        0.484252   \n",
       "        7           1.637875    0.011610         0.816711        0.386913   \n",
       "21      1           1.674805    0.011870         0.183896        0.387409   \n",
       "        2           1.843317    0.013442         0.347852        0.476301   \n",
       "        3           1.873746    0.013332         0.453473        0.497843   \n",
       "        4           1.882681    0.011317         0.520902        0.499572   \n",
       "        5           1.911941    0.016262         0.554077        0.497085   \n",
       "        6           1.797362    0.014276         0.686286        0.464016   \n",
       "        7           1.614086    0.009666         0.840123        0.366498   \n",
       "22      1           1.636041    0.010823         0.182968        0.386649   \n",
       "        2           1.835676    0.015587         0.328575        0.469712   \n",
       "        3           1.912371    0.012968         0.432270        0.495403   \n",
       "        4           1.838557    0.011686         0.473499        0.499307   \n",
       "        5           1.895920    0.012315         0.564955        0.495773   \n",
       "        6           1.794480    0.013830         0.682031        0.465701   \n",
       "        7           1.680153    0.010650         0.806686        0.394905   \n",
       "\n",
       "                  sim_choice_sem  sim_summed_val_mean  \n",
       "subject quantile                                       \n",
       "0       1               0.000778            -1.734238  \n",
       "        2               0.002709            -0.756612  \n",
       "        3               0.003045            -0.304078  \n",
       "        4               0.003674             0.050001  \n",
       "        5               0.003436             0.306218  \n",
       "        6               0.002598             0.774495  \n",
       "        7               0.000890             1.951524  \n",
       "1       1               0.004039            -1.698904  \n",
       "        2               0.003803            -0.768498  \n",
       "        3               0.003478            -0.348604  \n",
       "        4               0.003939             0.045648  \n",
       "        5               0.004820             0.291530  \n",
       "        6               0.003190             0.781453  \n",
       "        7               0.004158             1.771948  \n",
       "2       1               0.003154            -1.686961  \n",
       "        2               0.003117            -0.812381  \n",
       "        3               0.003261            -0.275650  \n",
       "        4               0.002886             0.028001  \n",
       "        5               0.003588             0.271043  \n",
       "        6               0.003072             0.781364  \n",
       "        7               0.002554             1.539524  \n",
       "3       1               0.001187            -1.650694  \n",
       "        2               0.002513            -0.821764  \n",
       "        3               0.003481            -0.332351  \n",
       "        4               0.002953             0.031393  \n",
       "        5               0.003814             0.314033  \n",
       "        6               0.002282             0.788946  \n",
       "        7               0.001195             1.599230  \n",
       "4       1               0.001332            -1.805383  \n",
       "        2               0.003226            -0.795797  \n",
       "...                          ...                  ...  \n",
       "18      6               0.003285             0.813194  \n",
       "        7               0.002024             1.851987  \n",
       "19      1               0.002732            -1.612963  \n",
       "        2               0.003603            -0.832778  \n",
       "        3               0.004052            -0.298000  \n",
       "        4               0.002711             0.027353  \n",
       "        5               0.003814             0.284118  \n",
       "        6               0.003173             0.751304  \n",
       "        7               0.003655             1.423125  \n",
       "20      1               0.002942            -1.685842  \n",
       "        2               0.003139            -0.780685  \n",
       "        3               0.003265            -0.299696  \n",
       "        4               0.003057             0.044117  \n",
       "        5               0.003363             0.302610  \n",
       "        6               0.003972             0.760119  \n",
       "        7               0.002743             1.715158  \n",
       "21      1               0.002746            -1.659848  \n",
       "        2               0.003473            -0.737903  \n",
       "        3               0.003542            -0.326554  \n",
       "        4               0.003003             0.029651  \n",
       "        5               0.004228             0.291353  \n",
       "        6               0.003685             0.796936  \n",
       "        7               0.002195             1.895609  \n",
       "22      1               0.002558            -1.622850  \n",
       "        2               0.003988            -0.765107  \n",
       "        3               0.003359            -0.327893  \n",
       "        4               0.003174             0.036409  \n",
       "        5               0.003220             0.302414  \n",
       "        6               0.003589             0.715405  \n",
       "        7               0.002503             1.568542  \n",
       "\n",
       "[161 rows x 16 columns]"
      ]
     },
     "execution_count": 26,
     "metadata": {},
     "output_type": "execute_result"
    }
   ],
   "source": [
    "subject_data"
   ]
  },
  {
   "cell_type": "markdown",
   "metadata": {},
   "source": [
    "# Plot Single Individuals"
   ]
  },
  {
   "cell_type": "markdown",
   "metadata": {},
   "source": [
    "**Enter subject number to check fit**\n",
    "\n",
    "---\n",
    "- subject #s = 0-22\n",
    "- decent fits: 7-10, 14\n",
    "---\n",
    "Can also use `plotly_rt()` or `plotly_choice()` to get single plots"
   ]
  },
  {
   "cell_type": "code",
   "execution_count": 6,
   "metadata": {
    "collapsed": false,
    "scrolled": false
   },
   "outputs": [
    {
     "data": {
      "application/vnd.plotly.v1+json": {
       "data": [
        {
         "error_y": {
          "array": [
           0.3186301028894171,
           0.33573353920319327,
           0.5125059552199829,
           0.2558821801821235,
           0.31212419771003,
           0.3220052859472622,
           0.060707629484974435
          ],
          "color": "rgb(0,170,80)",
          "type": "data",
          "visible": true
         },
         "line": {
          "color": "rgb(0,100,80)"
         },
         "mode": "lines+markers",
         "name": "Test Data",
         "type": "scatter",
         "x": [
          -1.8164285714285715,
          -0.763181818181818,
          -0.3170588235294118,
          0.023181818181818147,
          0.324,
          0.8175000000000001,
          1.630434782608696
         ],
         "y": [
          2.088870704373611,
          2.7569758453887934,
          3.795318903062519,
          2.4751631152890194,
          2.5676745259319445,
          2.361632085216116,
          1.311077429497938
         ]
        },
        {
         "error_y": {
          "array": [
           0.004916038171483772,
           0.006135244432242189,
           0.00730793923688316,
           0.006181051679470989,
           0.0068625662323116565,
           0.00715489286017614,
           0.0055081038276068835
          ],
          "color": "rgb(0,100,246)",
          "type": "data",
          "visible": true
         },
         "line": {
          "color": "rgb(0,176,246)"
         },
         "mode": "lines+markers",
         "name": "Sim Data",
         "type": "scatter",
         "x": [
          -1.8164285714285715,
          -0.763181818181818,
          -0.3170588235294118,
          0.023181818181818147,
          0.324,
          0.8175000000000001,
          1.630434782608696
         ],
         "y": [
          1.8170912499999925,
          1.918158528823408,
          1.9741275957409194,
          1.9309200909090714,
          1.9869199500000005,
          1.9239935000000101,
          1.847395652173917
         ]
        },
        {
         "error_y": {
          "array": [
           0,
           0.04545454545454545,
           0.11947115300935236,
           0.1049727762162956,
           0.08191780219091252,
           0,
           0
          ],
          "color": "rgb(0,170,80)",
          "type": "data",
          "visible": true
         },
         "line": {
          "color": "rgb(0,100,80)"
         },
         "mode": "lines+markers",
         "name": "Test Data",
         "type": "scatter",
         "x": [
          -1.8164285714285715,
          -0.763181818181818,
          -0.3170588235294118,
          0.023181818181818147,
          0.324,
          0.8175000000000001,
          1.630434782608696
         ],
         "xaxis": "x2",
         "y": [
          0,
          0.045454545454545456,
          0.35294117647058826,
          0.6363636363636364,
          0.85,
          1,
          1
         ],
         "yaxis": "y2"
        },
        {
         "error_y": {
          "array": [
           0.0024676639542217057,
           0.003225797813585017,
           0.00379653926163855,
           0.003371075580297224,
           0.0035086435276286345,
           0.0037902041967406977,
           0.0028219018524011166
          ],
          "color": "rgb(0,100,246)",
          "type": "data",
          "visible": true
         },
         "line": {
          "color": "rgb(0,176,246)"
         },
         "mode": "lines+markers",
         "name": "Sim Data",
         "type": "scatter",
         "x": [
          -1.8164285714285715,
          -0.763181818181818,
          -0.3170588235294118,
          0.023181818181818147,
          0.324,
          0.8175000000000001,
          1.630434782608696
         ],
         "xaxis": "x2",
         "y": [
          0.21803571428571428,
          0.35465539188943446,
          0.4293193717277487,
          0.49977272727272726,
          0.56165,
          0.642,
          0.7585652173913043
         ],
         "yaxis": "y2"
        }
       ],
       "layout": {
        "annotations": [
         {
          "showarrow": false,
          "text": "PARAMETERS: v: 0.051, a: 0.107, θ: 0.325",
          "x": 0.01,
          "xref": "paper",
          "y": 1.12,
          "yref": "paper"
         },
         {
          "showarrow": false,
          "text": "MLE: 620.75",
          "x": 0.01,
          "xref": "paper",
          "y": 1.08,
          "yref": "paper"
         },
         {
          "font": {
           "family": "Arial, sans-serif",
           "size": 22
          },
          "showarrow": false,
          "text": "SUBJECT: 17",
          "x": 0.01,
          "xref": "paper",
          "y": 1.2,
          "yref": "paper"
         }
        ],
        "paper_bgcolor": "rgb(255,255,255)",
        "plot_bgcolor": "rgb(229,229,229)",
        "xaxis": {
         "domain": [
          0,
          0.45
         ],
         "gridcolor": "rgb(255,255,255)",
         "range": [
          -2,
          2
         ],
         "showgrid": true,
         "showline": false,
         "showticklabels": true,
         "tickcolor": "rgb(127,127,127)",
         "ticks": "outside",
         "title": "Net Value ($)",
         "zeroline": false
        },
        "xaxis2": {
         "domain": [
          0.55,
          1
         ],
         "gridcolor": "rgb(255,255,255)",
         "range": [
          -2,
          2
         ],
         "showgrid": true,
         "showline": false,
         "showticklabels": true,
         "tickcolor": "rgb(127,127,127)",
         "ticks": "outside",
         "title": "Net Value ($)",
         "zeroline": false
        },
        "yaxis1": {
         "anchor": "x1",
         "gridcolor": "rgb(255,255,255)",
         "range": [
          0
         ],
         "showgrid": true,
         "showline": false,
         "showticklabels": true,
         "tickcolor": "rgb(127,127,127)",
         "ticks": "outside",
         "title": "RT (s)",
         "zeroline": false
        },
        "yaxis2": {
         "anchor": "x2",
         "gridcolor": "rgb(255,255,255)",
         "range": [
          0
         ],
         "showgrid": true,
         "showline": false,
         "showticklabels": true,
         "tickcolor": "rgb(127,127,127)",
         "ticks": "outside",
         "title": "p (accept)",
         "zeroline": false
        }
       }
      },
      "text/html": [
       "<div id=\"f6fa625e-962d-4c8d-848c-4187b687be36\" style=\"height: 525px; width: 100%;\" class=\"plotly-graph-div\"></div><script type=\"text/javascript\">require([\"plotly\"], function(Plotly) { window.PLOTLYENV=window.PLOTLYENV || {};window.PLOTLYENV.BASE_URL=\"https://plot.ly\";Plotly.newPlot(\"f6fa625e-962d-4c8d-848c-4187b687be36\", [{\"type\": \"scatter\", \"x\": [-1.8164285714285715, -0.763181818181818, -0.3170588235294118, 0.023181818181818147, 0.324, 0.8175000000000001, 1.630434782608696], \"y\": [2.088870704373611, 2.7569758453887934, 3.795318903062519, 2.4751631152890194, 2.5676745259319445, 2.361632085216116, 1.311077429497938], \"error_y\": {\"type\": \"data\", \"array\": [0.3186301028894171, 0.33573353920319327, 0.5125059552199829, 0.2558821801821235, 0.31212419771003, 0.3220052859472622, 0.060707629484974435], \"color\": \"rgb(0,170,80)\", \"visible\": true}, \"line\": {\"color\": \"rgb(0,100,80)\"}, \"mode\": \"lines+markers\", \"name\": \"Test Data\"}, {\"type\": \"scatter\", \"x\": [-1.8164285714285715, -0.763181818181818, -0.3170588235294118, 0.023181818181818147, 0.324, 0.8175000000000001, 1.630434782608696], \"y\": [1.8170912499999925, 1.918158528823408, 1.9741275957409194, 1.9309200909090714, 1.9869199500000005, 1.9239935000000101, 1.847395652173917], \"error_y\": {\"type\": \"data\", \"array\": [0.004916038171483772, 0.006135244432242189, 0.00730793923688316, 0.006181051679470989, 0.0068625662323116565, 0.00715489286017614, 0.0055081038276068835], \"color\": \"rgb(0,100,246)\", \"visible\": true}, \"line\": {\"color\": \"rgb(0,176,246)\"}, \"mode\": \"lines+markers\", \"name\": \"Sim Data\"}, {\"type\": \"scatter\", \"x\": [-1.8164285714285715, -0.763181818181818, -0.3170588235294118, 0.023181818181818147, 0.324, 0.8175000000000001, 1.630434782608696], \"y\": [0.0, 0.045454545454545456, 0.35294117647058826, 0.6363636363636364, 0.85, 1.0, 1.0], \"error_y\": {\"type\": \"data\", \"array\": [0.0, 0.04545454545454545, 0.11947115300935236, 0.1049727762162956, 0.08191780219091252, 0.0, 0.0], \"color\": \"rgb(0,170,80)\", \"visible\": true}, \"line\": {\"color\": \"rgb(0,100,80)\"}, \"mode\": \"lines+markers\", \"name\": \"Test Data\", \"xaxis\": \"x2\", \"yaxis\": \"y2\"}, {\"type\": \"scatter\", \"x\": [-1.8164285714285715, -0.763181818181818, -0.3170588235294118, 0.023181818181818147, 0.324, 0.8175000000000001, 1.630434782608696], \"y\": [0.21803571428571428, 0.35465539188943446, 0.4293193717277487, 0.49977272727272726, 0.56165, 0.642, 0.7585652173913043], \"error_y\": {\"type\": \"data\", \"array\": [0.0024676639542217057, 0.003225797813585017, 0.00379653926163855, 0.003371075580297224, 0.0035086435276286345, 0.0037902041967406977, 0.0028219018524011166], \"color\": \"rgb(0,100,246)\", \"visible\": true}, \"line\": {\"color\": \"rgb(0,176,246)\"}, \"mode\": \"lines+markers\", \"name\": \"Sim Data\", \"xaxis\": \"x2\", \"yaxis\": \"y2\"}], {\"paper_bgcolor\": \"rgb(255,255,255)\", \"plot_bgcolor\": \"rgb(229,229,229)\", \"xaxis\": {\"gridcolor\": \"rgb(255,255,255)\", \"range\": [-2, 2], \"domain\": [0, 0.45], \"showgrid\": true, \"showline\": false, \"showticklabels\": true, \"tickcolor\": \"rgb(127,127,127)\", \"ticks\": \"outside\", \"title\": \"Net Value ($)\", \"zeroline\": false}, \"xaxis2\": {\"gridcolor\": \"rgb(255,255,255)\", \"range\": [-2, 2], \"domain\": [0.55, 1], \"showgrid\": true, \"showline\": false, \"showticklabels\": true, \"tickcolor\": \"rgb(127,127,127)\", \"ticks\": \"outside\", \"title\": \"Net Value ($)\", \"zeroline\": false}, \"yaxis1\": {\"gridcolor\": \"rgb(255,255,255)\", \"range\": [0], \"showgrid\": true, \"showline\": false, \"showticklabels\": true, \"tickcolor\": \"rgb(127,127,127)\", \"ticks\": \"outside\", \"title\": \"RT (s)\", \"anchor\": \"x1\", \"zeroline\": false}, \"yaxis2\": {\"gridcolor\": \"rgb(255,255,255)\", \"range\": [0], \"showgrid\": true, \"showline\": false, \"showticklabels\": true, \"tickcolor\": \"rgb(127,127,127)\", \"ticks\": \"outside\", \"title\": \"p (accept)\", \"anchor\": \"x2\", \"zeroline\": false}, \"annotations\": [{\"x\": 0.01, \"y\": 1.12, \"showarrow\": false, \"text\": \"PARAMETERS: v: 0.051, a: 0.107, \\u03b8: 0.325\", \"xref\": \"paper\", \"yref\": \"paper\"}, {\"x\": 0.01, \"y\": 1.08, \"showarrow\": false, \"text\": \"MLE: 620.75\", \"xref\": \"paper\", \"yref\": \"paper\"}, {\"x\": 0.01, \"y\": 1.2, \"showarrow\": false, \"text\": \"SUBJECT: 17\", \"font\": {\"family\": \"Arial, sans-serif\", \"size\": 22}, \"xref\": \"paper\", \"yref\": \"paper\"}]}, {\"showLink\": true, \"linkText\": \"Export to plot.ly\"})});</script>"
      ],
      "text/vnd.plotly.v1+html": [
       "<div id=\"f6fa625e-962d-4c8d-848c-4187b687be36\" style=\"height: 525px; width: 100%;\" class=\"plotly-graph-div\"></div><script type=\"text/javascript\">require([\"plotly\"], function(Plotly) { window.PLOTLYENV=window.PLOTLYENV || {};window.PLOTLYENV.BASE_URL=\"https://plot.ly\";Plotly.newPlot(\"f6fa625e-962d-4c8d-848c-4187b687be36\", [{\"type\": \"scatter\", \"x\": [-1.8164285714285715, -0.763181818181818, -0.3170588235294118, 0.023181818181818147, 0.324, 0.8175000000000001, 1.630434782608696], \"y\": [2.088870704373611, 2.7569758453887934, 3.795318903062519, 2.4751631152890194, 2.5676745259319445, 2.361632085216116, 1.311077429497938], \"error_y\": {\"type\": \"data\", \"array\": [0.3186301028894171, 0.33573353920319327, 0.5125059552199829, 0.2558821801821235, 0.31212419771003, 0.3220052859472622, 0.060707629484974435], \"color\": \"rgb(0,170,80)\", \"visible\": true}, \"line\": {\"color\": \"rgb(0,100,80)\"}, \"mode\": \"lines+markers\", \"name\": \"Test Data\"}, {\"type\": \"scatter\", \"x\": [-1.8164285714285715, -0.763181818181818, -0.3170588235294118, 0.023181818181818147, 0.324, 0.8175000000000001, 1.630434782608696], \"y\": [1.8170912499999925, 1.918158528823408, 1.9741275957409194, 1.9309200909090714, 1.9869199500000005, 1.9239935000000101, 1.847395652173917], \"error_y\": {\"type\": \"data\", \"array\": [0.004916038171483772, 0.006135244432242189, 0.00730793923688316, 0.006181051679470989, 0.0068625662323116565, 0.00715489286017614, 0.0055081038276068835], \"color\": \"rgb(0,100,246)\", \"visible\": true}, \"line\": {\"color\": \"rgb(0,176,246)\"}, \"mode\": \"lines+markers\", \"name\": \"Sim Data\"}, {\"type\": \"scatter\", \"x\": [-1.8164285714285715, -0.763181818181818, -0.3170588235294118, 0.023181818181818147, 0.324, 0.8175000000000001, 1.630434782608696], \"y\": [0.0, 0.045454545454545456, 0.35294117647058826, 0.6363636363636364, 0.85, 1.0, 1.0], \"error_y\": {\"type\": \"data\", \"array\": [0.0, 0.04545454545454545, 0.11947115300935236, 0.1049727762162956, 0.08191780219091252, 0.0, 0.0], \"color\": \"rgb(0,170,80)\", \"visible\": true}, \"line\": {\"color\": \"rgb(0,100,80)\"}, \"mode\": \"lines+markers\", \"name\": \"Test Data\", \"xaxis\": \"x2\", \"yaxis\": \"y2\"}, {\"type\": \"scatter\", \"x\": [-1.8164285714285715, -0.763181818181818, -0.3170588235294118, 0.023181818181818147, 0.324, 0.8175000000000001, 1.630434782608696], \"y\": [0.21803571428571428, 0.35465539188943446, 0.4293193717277487, 0.49977272727272726, 0.56165, 0.642, 0.7585652173913043], \"error_y\": {\"type\": \"data\", \"array\": [0.0024676639542217057, 0.003225797813585017, 0.00379653926163855, 0.003371075580297224, 0.0035086435276286345, 0.0037902041967406977, 0.0028219018524011166], \"color\": \"rgb(0,100,246)\", \"visible\": true}, \"line\": {\"color\": \"rgb(0,176,246)\"}, \"mode\": \"lines+markers\", \"name\": \"Sim Data\", \"xaxis\": \"x2\", \"yaxis\": \"y2\"}], {\"paper_bgcolor\": \"rgb(255,255,255)\", \"plot_bgcolor\": \"rgb(229,229,229)\", \"xaxis\": {\"gridcolor\": \"rgb(255,255,255)\", \"range\": [-2, 2], \"domain\": [0, 0.45], \"showgrid\": true, \"showline\": false, \"showticklabels\": true, \"tickcolor\": \"rgb(127,127,127)\", \"ticks\": \"outside\", \"title\": \"Net Value ($)\", \"zeroline\": false}, \"xaxis2\": {\"gridcolor\": \"rgb(255,255,255)\", \"range\": [-2, 2], \"domain\": [0.55, 1], \"showgrid\": true, \"showline\": false, \"showticklabels\": true, \"tickcolor\": \"rgb(127,127,127)\", \"ticks\": \"outside\", \"title\": \"Net Value ($)\", \"zeroline\": false}, \"yaxis1\": {\"gridcolor\": \"rgb(255,255,255)\", \"range\": [0], \"showgrid\": true, \"showline\": false, \"showticklabels\": true, \"tickcolor\": \"rgb(127,127,127)\", \"ticks\": \"outside\", \"title\": \"RT (s)\", \"anchor\": \"x1\", \"zeroline\": false}, \"yaxis2\": {\"gridcolor\": \"rgb(255,255,255)\", \"range\": [0], \"showgrid\": true, \"showline\": false, \"showticklabels\": true, \"tickcolor\": \"rgb(127,127,127)\", \"ticks\": \"outside\", \"title\": \"p (accept)\", \"anchor\": \"x2\", \"zeroline\": false}, \"annotations\": [{\"x\": 0.01, \"y\": 1.12, \"showarrow\": false, \"text\": \"PARAMETERS: v: 0.051, a: 0.107, \\u03b8: 0.325\", \"xref\": \"paper\", \"yref\": \"paper\"}, {\"x\": 0.01, \"y\": 1.08, \"showarrow\": false, \"text\": \"MLE: 620.75\", \"xref\": \"paper\", \"yref\": \"paper\"}, {\"x\": 0.01, \"y\": 1.2, \"showarrow\": false, \"text\": \"SUBJECT: 17\", \"font\": {\"family\": \"Arial, sans-serif\", \"size\": 22}, \"xref\": \"paper\", \"yref\": \"paper\"}]}, {\"showLink\": true, \"linkText\": \"Export to plot.ly\"})});</script>"
      ]
     },
     "metadata": {},
     "output_type": "display_data"
    }
   ],
   "source": [
    "mplot.plotly_combined(17, subject_data, test_expdata, subj_params_df)"
   ]
  },
  {
   "cell_type": "markdown",
   "metadata": {
    "heading_collapsed": true
   },
   "source": [
    "# Plot All Individuals"
   ]
  },
  {
   "cell_type": "code",
   "execution_count": 7,
   "metadata": {
    "collapsed": false,
    "hidden": true,
    "scrolled": false
   },
   "outputs": [
    {
     "data": {
      "application/vnd.plotly.v1+json": {
       "data": [
        {
         "error_y": {
          "array": [
           0.26691156466118776,
           0.5625841894881555,
           0.3092635890278254,
           0.16773999036033826,
           0.22250602510869272,
           0.3783604602105652,
           0.3959290719366735
          ],
          "color": "rgb(0,170,80)",
          "type": "data",
          "visible": true
         },
         "line": {
          "color": "rgb(0,100,80)"
         },
         "mode": "lines+markers",
         "name": "Test Data",
         "type": "scatter",
         "x": [
          -1.7333333333333336,
          -0.7562499999999999,
          -0.3029166666666668,
          0.04949999999999995,
          0.30600000000000005,
          0.7723809523809525,
          1.9495238095238094
         ],
         "y": [
          3.0015640740833374,
          3.702286981255382,
          3.472419469435408,
          3.123474994549179,
          2.8109845845370725,
          2.8382288735062646,
          3.0082048231450322
         ]
        },
        {
         "error_y": {
          "array": [
           0.009055201713103587,
           0.016797914659598335,
           0.015503424114395842,
           0.016853786729004512,
           0.01692621076085038,
           0.015003364140720279,
           0.009563525046346695
          ],
          "color": "rgb(0,100,246)",
          "type": "data",
          "visible": true
         },
         "line": {
          "color": "rgb(0,176,246)"
         },
         "mode": "lines+markers",
         "name": "Sim Data",
         "type": "scatter",
         "x": [
          -1.7333333333333336,
          -0.7562499999999999,
          -0.3029166666666668,
          0.04949999999999995,
          0.30600000000000005,
          0.7723809523809525,
          1.9495238095238094
         ],
         "y": [
          2.896175004175723,
          3.9893921378776,
          4.4403189803495415,
          4.328841280985036,
          4.490330785493614,
          4.111567153104131,
          2.7527906799082973
         ]
        },
        {
         "error_y": {
          "array": [
           0.04166666666666667,
           0.08539125638299665,
           0.0982946374365981,
           0.10942433098048308,
           0.06882472016116851,
           0.0878051853075513,
           0.047619047619047616
          ],
          "color": "rgb(0,170,80)",
          "type": "data",
          "visible": true
         },
         "line": {
          "color": "rgb(0,100,80)"
         },
         "mode": "lines+markers",
         "name": "Test Data",
         "type": "scatter",
         "x": [
          -1.7333333333333336,
          -0.7562499999999999,
          -0.3029166666666668,
          0.04949999999999995,
          0.30600000000000005,
          0.7723809523809525,
          1.9495238095238094
         ],
         "xaxis": "x2",
         "y": [
          0.041666666666666664,
          0.125,
          0.3333333333333333,
          0.65,
          0.9,
          0.8095238095238095,
          0.9523809523809523
         ],
         "yaxis": "y2"
        },
        {
         "error_y": {
          "array": [
           0.0007776706684794725,
           0.002709460586867693,
           0.003044995311480566,
           0.0036740733293685987,
           0.0034359950691749456,
           0.0025976158991440883,
           0.000889502138280667
          ],
          "color": "rgb(0,100,246)",
          "type": "data",
          "visible": true
         },
         "line": {
          "color": "rgb(0,176,246)"
         },
         "mode": "lines+markers",
         "name": "Sim Data",
         "type": "scatter",
         "x": [
          -1.7333333333333336,
          -0.7562499999999999,
          -0.3029166666666668,
          0.04949999999999995,
          0.30600000000000005,
          0.7723809523809525,
          1.9495238095238094
         ],
         "xaxis": "x2",
         "y": [
          0.014698513445799232,
          0.13084172476116707,
          0.28733134112107217,
          0.5074796133282929,
          0.6795142841654469,
          0.837051694286421,
          0.9831455309396486
         ],
         "yaxis": "y2"
        }
       ],
       "layout": {
        "annotations": [
         {
          "showarrow": false,
          "text": "PARAMETERS: v: 0.093, a: 0.221, θ: 0.325",
          "x": 0.01,
          "xref": "paper",
          "y": 1.12,
          "yref": "paper"
         },
         {
          "showarrow": false,
          "text": "MLE: 685.76",
          "x": 0.01,
          "xref": "paper",
          "y": 1.08,
          "yref": "paper"
         },
         {
          "font": {
           "family": "Arial, sans-serif",
           "size": 22
          },
          "showarrow": false,
          "text": "SUBJECT: 0",
          "x": 0.01,
          "xref": "paper",
          "y": 1.2,
          "yref": "paper"
         }
        ],
        "paper_bgcolor": "rgb(255,255,255)",
        "plot_bgcolor": "rgb(229,229,229)",
        "xaxis": {
         "domain": [
          0,
          0.45
         ],
         "gridcolor": "rgb(255,255,255)",
         "range": [
          -2,
          2
         ],
         "showgrid": true,
         "showline": false,
         "showticklabels": true,
         "tickcolor": "rgb(127,127,127)",
         "ticks": "outside",
         "title": "Net Value ($)",
         "zeroline": false
        },
        "xaxis2": {
         "domain": [
          0.55,
          1
         ],
         "gridcolor": "rgb(255,255,255)",
         "range": [
          -2,
          2
         ],
         "showgrid": true,
         "showline": false,
         "showticklabels": true,
         "tickcolor": "rgb(127,127,127)",
         "ticks": "outside",
         "title": "Net Value ($)",
         "zeroline": false
        },
        "yaxis1": {
         "anchor": "x1",
         "gridcolor": "rgb(255,255,255)",
         "range": [
          0
         ],
         "showgrid": true,
         "showline": false,
         "showticklabels": true,
         "tickcolor": "rgb(127,127,127)",
         "ticks": "outside",
         "title": "RT (s)",
         "zeroline": false
        },
        "yaxis2": {
         "anchor": "x2",
         "gridcolor": "rgb(255,255,255)",
         "range": [
          0
         ],
         "showgrid": true,
         "showline": false,
         "showticklabels": true,
         "tickcolor": "rgb(127,127,127)",
         "ticks": "outside",
         "title": "p (accept)",
         "zeroline": false
        }
       }
      },
      "text/html": [
       "<div id=\"dc4568b4-b3c1-448c-93b1-9b10f4fbc7f1\" style=\"height: 525px; width: 100%;\" class=\"plotly-graph-div\"></div><script type=\"text/javascript\">require([\"plotly\"], function(Plotly) { window.PLOTLYENV=window.PLOTLYENV || {};window.PLOTLYENV.BASE_URL=\"https://plot.ly\";Plotly.newPlot(\"dc4568b4-b3c1-448c-93b1-9b10f4fbc7f1\", [{\"type\": \"scatter\", \"x\": [-1.7333333333333336, -0.7562499999999999, -0.3029166666666668, 0.04949999999999995, 0.30600000000000005, 0.7723809523809525, 1.9495238095238094], \"y\": [3.0015640740833374, 3.702286981255382, 3.472419469435408, 3.123474994549179, 2.8109845845370725, 2.8382288735062646, 3.0082048231450322], \"error_y\": {\"type\": \"data\", \"array\": [0.26691156466118776, 0.5625841894881555, 0.3092635890278254, 0.16773999036033826, 0.22250602510869272, 0.3783604602105652, 0.3959290719366735], \"color\": \"rgb(0,170,80)\", \"visible\": true}, \"line\": {\"color\": \"rgb(0,100,80)\"}, \"mode\": \"lines+markers\", \"name\": \"Test Data\"}, {\"type\": \"scatter\", \"x\": [-1.7333333333333336, -0.7562499999999999, -0.3029166666666668, 0.04949999999999995, 0.30600000000000005, 0.7723809523809525, 1.9495238095238094], \"y\": [2.896175004175723, 3.9893921378776, 4.4403189803495415, 4.328841280985036, 4.490330785493614, 4.111567153104131, 2.7527906799082973], \"error_y\": {\"type\": \"data\", \"array\": [0.009055201713103587, 0.016797914659598335, 0.015503424114395842, 0.016853786729004512, 0.01692621076085038, 0.015003364140720279, 0.009563525046346695], \"color\": \"rgb(0,100,246)\", \"visible\": true}, \"line\": {\"color\": \"rgb(0,176,246)\"}, \"mode\": \"lines+markers\", \"name\": \"Sim Data\"}, {\"type\": \"scatter\", \"x\": [-1.7333333333333336, -0.7562499999999999, -0.3029166666666668, 0.04949999999999995, 0.30600000000000005, 0.7723809523809525, 1.9495238095238094], \"y\": [0.041666666666666664, 0.125, 0.3333333333333333, 0.65, 0.9, 0.8095238095238095, 0.9523809523809523], \"error_y\": {\"type\": \"data\", \"array\": [0.04166666666666667, 0.08539125638299665, 0.0982946374365981, 0.10942433098048308, 0.06882472016116851, 0.0878051853075513, 0.047619047619047616], \"color\": \"rgb(0,170,80)\", \"visible\": true}, \"line\": {\"color\": \"rgb(0,100,80)\"}, \"mode\": \"lines+markers\", \"name\": \"Test Data\", \"xaxis\": \"x2\", \"yaxis\": \"y2\"}, {\"type\": \"scatter\", \"x\": [-1.7333333333333336, -0.7562499999999999, -0.3029166666666668, 0.04949999999999995, 0.30600000000000005, 0.7723809523809525, 1.9495238095238094], \"y\": [0.014698513445799232, 0.13084172476116707, 0.28733134112107217, 0.5074796133282929, 0.6795142841654469, 0.837051694286421, 0.9831455309396486], \"error_y\": {\"type\": \"data\", \"array\": [0.0007776706684794725, 0.002709460586867693, 0.003044995311480566, 0.0036740733293685987, 0.0034359950691749456, 0.0025976158991440883, 0.000889502138280667], \"color\": \"rgb(0,100,246)\", \"visible\": true}, \"line\": {\"color\": \"rgb(0,176,246)\"}, \"mode\": \"lines+markers\", \"name\": \"Sim Data\", \"xaxis\": \"x2\", \"yaxis\": \"y2\"}], {\"paper_bgcolor\": \"rgb(255,255,255)\", \"plot_bgcolor\": \"rgb(229,229,229)\", \"xaxis\": {\"gridcolor\": \"rgb(255,255,255)\", \"range\": [-2, 2], \"domain\": [0, 0.45], \"showgrid\": true, \"showline\": false, \"showticklabels\": true, \"tickcolor\": \"rgb(127,127,127)\", \"ticks\": \"outside\", \"title\": \"Net Value ($)\", \"zeroline\": false}, \"xaxis2\": {\"gridcolor\": \"rgb(255,255,255)\", \"range\": [-2, 2], \"domain\": [0.55, 1], \"showgrid\": true, \"showline\": false, \"showticklabels\": true, \"tickcolor\": \"rgb(127,127,127)\", \"ticks\": \"outside\", \"title\": \"Net Value ($)\", \"zeroline\": false}, \"yaxis1\": {\"gridcolor\": \"rgb(255,255,255)\", \"range\": [0], \"showgrid\": true, \"showline\": false, \"showticklabels\": true, \"tickcolor\": \"rgb(127,127,127)\", \"ticks\": \"outside\", \"title\": \"RT (s)\", \"anchor\": \"x1\", \"zeroline\": false}, \"yaxis2\": {\"gridcolor\": \"rgb(255,255,255)\", \"range\": [0], \"showgrid\": true, \"showline\": false, \"showticklabels\": true, \"tickcolor\": \"rgb(127,127,127)\", \"ticks\": \"outside\", \"title\": \"p (accept)\", \"anchor\": \"x2\", \"zeroline\": false}, \"annotations\": [{\"x\": 0.01, \"y\": 1.12, \"showarrow\": false, \"text\": \"PARAMETERS: v: 0.093, a: 0.221, \\u03b8: 0.325\", \"xref\": \"paper\", \"yref\": \"paper\"}, {\"x\": 0.01, \"y\": 1.08, \"showarrow\": false, \"text\": \"MLE: 685.76\", \"xref\": \"paper\", \"yref\": \"paper\"}, {\"x\": 0.01, \"y\": 1.2, \"showarrow\": false, \"text\": \"SUBJECT: 0\", \"font\": {\"family\": \"Arial, sans-serif\", \"size\": 22}, \"xref\": \"paper\", \"yref\": \"paper\"}]}, {\"showLink\": true, \"linkText\": \"Export to plot.ly\"})});</script>"
      ],
      "text/vnd.plotly.v1+html": [
       "<div id=\"dc4568b4-b3c1-448c-93b1-9b10f4fbc7f1\" style=\"height: 525px; width: 100%;\" class=\"plotly-graph-div\"></div><script type=\"text/javascript\">require([\"plotly\"], function(Plotly) { window.PLOTLYENV=window.PLOTLYENV || {};window.PLOTLYENV.BASE_URL=\"https://plot.ly\";Plotly.newPlot(\"dc4568b4-b3c1-448c-93b1-9b10f4fbc7f1\", [{\"type\": \"scatter\", \"x\": [-1.7333333333333336, -0.7562499999999999, -0.3029166666666668, 0.04949999999999995, 0.30600000000000005, 0.7723809523809525, 1.9495238095238094], \"y\": [3.0015640740833374, 3.702286981255382, 3.472419469435408, 3.123474994549179, 2.8109845845370725, 2.8382288735062646, 3.0082048231450322], \"error_y\": {\"type\": \"data\", \"array\": [0.26691156466118776, 0.5625841894881555, 0.3092635890278254, 0.16773999036033826, 0.22250602510869272, 0.3783604602105652, 0.3959290719366735], \"color\": \"rgb(0,170,80)\", \"visible\": true}, \"line\": {\"color\": \"rgb(0,100,80)\"}, \"mode\": \"lines+markers\", \"name\": \"Test Data\"}, {\"type\": \"scatter\", \"x\": [-1.7333333333333336, -0.7562499999999999, -0.3029166666666668, 0.04949999999999995, 0.30600000000000005, 0.7723809523809525, 1.9495238095238094], \"y\": [2.896175004175723, 3.9893921378776, 4.4403189803495415, 4.328841280985036, 4.490330785493614, 4.111567153104131, 2.7527906799082973], \"error_y\": {\"type\": \"data\", \"array\": [0.009055201713103587, 0.016797914659598335, 0.015503424114395842, 0.016853786729004512, 0.01692621076085038, 0.015003364140720279, 0.009563525046346695], \"color\": \"rgb(0,100,246)\", \"visible\": true}, \"line\": {\"color\": \"rgb(0,176,246)\"}, \"mode\": \"lines+markers\", \"name\": \"Sim Data\"}, {\"type\": \"scatter\", \"x\": [-1.7333333333333336, -0.7562499999999999, -0.3029166666666668, 0.04949999999999995, 0.30600000000000005, 0.7723809523809525, 1.9495238095238094], \"y\": [0.041666666666666664, 0.125, 0.3333333333333333, 0.65, 0.9, 0.8095238095238095, 0.9523809523809523], \"error_y\": {\"type\": \"data\", \"array\": [0.04166666666666667, 0.08539125638299665, 0.0982946374365981, 0.10942433098048308, 0.06882472016116851, 0.0878051853075513, 0.047619047619047616], \"color\": \"rgb(0,170,80)\", \"visible\": true}, \"line\": {\"color\": \"rgb(0,100,80)\"}, \"mode\": \"lines+markers\", \"name\": \"Test Data\", \"xaxis\": \"x2\", \"yaxis\": \"y2\"}, {\"type\": \"scatter\", \"x\": [-1.7333333333333336, -0.7562499999999999, -0.3029166666666668, 0.04949999999999995, 0.30600000000000005, 0.7723809523809525, 1.9495238095238094], \"y\": [0.014698513445799232, 0.13084172476116707, 0.28733134112107217, 0.5074796133282929, 0.6795142841654469, 0.837051694286421, 0.9831455309396486], \"error_y\": {\"type\": \"data\", \"array\": [0.0007776706684794725, 0.002709460586867693, 0.003044995311480566, 0.0036740733293685987, 0.0034359950691749456, 0.0025976158991440883, 0.000889502138280667], \"color\": \"rgb(0,100,246)\", \"visible\": true}, \"line\": {\"color\": \"rgb(0,176,246)\"}, \"mode\": \"lines+markers\", \"name\": \"Sim Data\", \"xaxis\": \"x2\", \"yaxis\": \"y2\"}], {\"paper_bgcolor\": \"rgb(255,255,255)\", \"plot_bgcolor\": \"rgb(229,229,229)\", \"xaxis\": {\"gridcolor\": \"rgb(255,255,255)\", \"range\": [-2, 2], \"domain\": [0, 0.45], \"showgrid\": true, \"showline\": false, \"showticklabels\": true, \"tickcolor\": \"rgb(127,127,127)\", \"ticks\": \"outside\", \"title\": \"Net Value ($)\", \"zeroline\": false}, \"xaxis2\": {\"gridcolor\": \"rgb(255,255,255)\", \"range\": [-2, 2], \"domain\": [0.55, 1], \"showgrid\": true, \"showline\": false, \"showticklabels\": true, \"tickcolor\": \"rgb(127,127,127)\", \"ticks\": \"outside\", \"title\": \"Net Value ($)\", \"zeroline\": false}, \"yaxis1\": {\"gridcolor\": \"rgb(255,255,255)\", \"range\": [0], \"showgrid\": true, \"showline\": false, \"showticklabels\": true, \"tickcolor\": \"rgb(127,127,127)\", \"ticks\": \"outside\", \"title\": \"RT (s)\", \"anchor\": \"x1\", \"zeroline\": false}, \"yaxis2\": {\"gridcolor\": \"rgb(255,255,255)\", \"range\": [0], \"showgrid\": true, \"showline\": false, \"showticklabels\": true, \"tickcolor\": \"rgb(127,127,127)\", \"ticks\": \"outside\", \"title\": \"p (accept)\", \"anchor\": \"x2\", \"zeroline\": false}, \"annotations\": [{\"x\": 0.01, \"y\": 1.12, \"showarrow\": false, \"text\": \"PARAMETERS: v: 0.093, a: 0.221, \\u03b8: 0.325\", \"xref\": \"paper\", \"yref\": \"paper\"}, {\"x\": 0.01, \"y\": 1.08, \"showarrow\": false, \"text\": \"MLE: 685.76\", \"xref\": \"paper\", \"yref\": \"paper\"}, {\"x\": 0.01, \"y\": 1.2, \"showarrow\": false, \"text\": \"SUBJECT: 0\", \"font\": {\"family\": \"Arial, sans-serif\", \"size\": 22}, \"xref\": \"paper\", \"yref\": \"paper\"}]}, {\"showLink\": true, \"linkText\": \"Export to plot.ly\"})});</script>"
      ]
     },
     "metadata": {},
     "output_type": "display_data"
    },
    {
     "data": {
      "application/vnd.plotly.v1+json": {
       "data": [
        {
         "error_y": {
          "array": [
           0.4080944006773091,
           0.5084614914940523,
           0.49150129399063086,
           0.5531281982759294,
           0.6189654615809154,
           0.373291714372552,
           0.2537480456638595
          ],
          "color": "rgb(0,170,80)",
          "type": "data",
          "visible": true
         },
         "line": {
          "color": "rgb(0,100,80)"
         },
         "mode": "lines+markers",
         "name": "Test Data",
         "type": "scatter",
         "x": [
          -1.698125,
          -0.768421052631579,
          -0.34869565217391296,
          0.045555555555555495,
          0.2916666666666667,
          0.7814814814814816,
          1.7706666666666668
         ],
         "y": [
          3.579329921616591,
          4.736999820868828,
          4.934196604947236,
          4.939064011094161,
          5.70155291512492,
          4.290933009638037,
          2.884620733535849
         ]
        },
        {
         "error_y": {
          "array": [
           0.019609644305260434,
           0.01806990264033351,
           0.01636350379189865,
           0.018495299536094634,
           0.02279841948867267,
           0.015045825759150476,
           0.02026385198267772
          ],
          "color": "rgb(0,100,246)",
          "type": "data",
          "visible": true
         },
         "line": {
          "color": "rgb(0,176,246)"
         },
         "mode": "lines+markers",
         "name": "Sim Data",
         "type": "scatter",
         "x": [
          -1.698125,
          -0.768421052631579,
          -0.34869565217391296,
          0.045555555555555495,
          0.2916666666666667,
          0.7814814814814816,
          1.7706666666666668
         ],
         "y": [
          4.65590562638581,
          4.676208960468542,
          4.684367550792802,
          4.661724542351862,
          4.7086850503919315,
          4.6535558689340455,
          4.685419428825092
         ]
        },
        {
         "error_y": {
          "array": [
           0,
           0.07233518641434492,
           0.07180198468215396,
           0.11823563735376173,
           0.1305582419667734,
           0.0696696254167378,
           0
          ],
          "color": "rgb(0,170,80)",
          "type": "data",
          "visible": true
         },
         "line": {
          "color": "rgb(0,100,80)"
         },
         "mode": "lines+markers",
         "name": "Test Data",
         "type": "scatter",
         "x": [
          -1.698125,
          -0.768421052631579,
          -0.34869565217391296,
          0.045555555555555495,
          0.2916666666666667,
          0.7814814814814816,
          1.7706666666666668
         ],
         "xaxis": "x2",
         "y": [
          0,
          0.10526315789473684,
          0.13043478260869565,
          0.6111111111111112,
          0.75,
          0.8518518518518519,
          1
         ],
         "yaxis": "y2"
        },
        {
         "error_y": {
          "array": [
           0.004039230298068309,
           0.0038025663262147118,
           0.0034780868145665553,
           0.003938790107677021,
           0.004819503717546428,
           0.003190463282022924,
           0.0041582867846102186
          ],
          "color": "rgb(0,100,246)",
          "type": "data",
          "visible": true
         },
         "line": {
          "color": "rgb(0,176,246)"
         },
         "mode": "lines+markers",
         "name": "Sim Data",
         "type": "scatter",
         "x": [
          -1.698125,
          -0.768421052631579,
          -0.34869565217391296,
          0.045555555555555495,
          0.2916666666666667,
          0.7814814814814816,
          1.7706666666666668
         ],
         "xaxis": "x2",
         "y": [
          0.37936529933481156,
          0.4441581259150805,
          0.47689472918586046,
          0.5025131864722309,
          0.5334079880552445,
          0.5677727084197428,
          0.6277005031074282
         ],
         "yaxis": "y2"
        }
       ],
       "layout": {
        "annotations": [
         {
          "showarrow": false,
          "text": "PARAMETERS: v: 0.01, a: 0.221, θ: 0.325",
          "x": 0.01,
          "xref": "paper",
          "y": 1.12,
          "yref": "paper"
         },
         {
          "showarrow": false,
          "text": "MLE: 642.26",
          "x": 0.01,
          "xref": "paper",
          "y": 1.08,
          "yref": "paper"
         },
         {
          "font": {
           "family": "Arial, sans-serif",
           "size": 22
          },
          "showarrow": false,
          "text": "SUBJECT: 1",
          "x": 0.01,
          "xref": "paper",
          "y": 1.2,
          "yref": "paper"
         }
        ],
        "paper_bgcolor": "rgb(255,255,255)",
        "plot_bgcolor": "rgb(229,229,229)",
        "xaxis": {
         "domain": [
          0,
          0.45
         ],
         "gridcolor": "rgb(255,255,255)",
         "range": [
          -2,
          2
         ],
         "showgrid": true,
         "showline": false,
         "showticklabels": true,
         "tickcolor": "rgb(127,127,127)",
         "ticks": "outside",
         "title": "Net Value ($)",
         "zeroline": false
        },
        "xaxis2": {
         "domain": [
          0.55,
          1
         ],
         "gridcolor": "rgb(255,255,255)",
         "range": [
          -2,
          2
         ],
         "showgrid": true,
         "showline": false,
         "showticklabels": true,
         "tickcolor": "rgb(127,127,127)",
         "ticks": "outside",
         "title": "Net Value ($)",
         "zeroline": false
        },
        "yaxis1": {
         "anchor": "x1",
         "gridcolor": "rgb(255,255,255)",
         "range": [
          0
         ],
         "showgrid": true,
         "showline": false,
         "showticklabels": true,
         "tickcolor": "rgb(127,127,127)",
         "ticks": "outside",
         "title": "RT (s)",
         "zeroline": false
        },
        "yaxis2": {
         "anchor": "x2",
         "gridcolor": "rgb(255,255,255)",
         "range": [
          0
         ],
         "showgrid": true,
         "showline": false,
         "showticklabels": true,
         "tickcolor": "rgb(127,127,127)",
         "ticks": "outside",
         "title": "p (accept)",
         "zeroline": false
        }
       }
      },
      "text/html": [
       "<div id=\"aa6469e0-1bec-4b9c-ae0d-155c8e8de2f0\" style=\"height: 525px; width: 100%;\" class=\"plotly-graph-div\"></div><script type=\"text/javascript\">require([\"plotly\"], function(Plotly) { window.PLOTLYENV=window.PLOTLYENV || {};window.PLOTLYENV.BASE_URL=\"https://plot.ly\";Plotly.newPlot(\"aa6469e0-1bec-4b9c-ae0d-155c8e8de2f0\", [{\"type\": \"scatter\", \"x\": [-1.698125, -0.768421052631579, -0.34869565217391296, 0.045555555555555495, 0.2916666666666667, 0.7814814814814816, 1.7706666666666668], \"y\": [3.579329921616591, 4.736999820868828, 4.934196604947236, 4.939064011094161, 5.70155291512492, 4.290933009638037, 2.884620733535849], \"error_y\": {\"type\": \"data\", \"array\": [0.4080944006773091, 0.5084614914940523, 0.49150129399063086, 0.5531281982759294, 0.6189654615809154, 0.373291714372552, 0.2537480456638595], \"color\": \"rgb(0,170,80)\", \"visible\": true}, \"line\": {\"color\": \"rgb(0,100,80)\"}, \"mode\": \"lines+markers\", \"name\": \"Test Data\"}, {\"type\": \"scatter\", \"x\": [-1.698125, -0.768421052631579, -0.34869565217391296, 0.045555555555555495, 0.2916666666666667, 0.7814814814814816, 1.7706666666666668], \"y\": [4.65590562638581, 4.676208960468542, 4.684367550792802, 4.661724542351862, 4.7086850503919315, 4.6535558689340455, 4.685419428825092], \"error_y\": {\"type\": \"data\", \"array\": [0.019609644305260434, 0.01806990264033351, 0.01636350379189865, 0.018495299536094634, 0.02279841948867267, 0.015045825759150476, 0.02026385198267772], \"color\": \"rgb(0,100,246)\", \"visible\": true}, \"line\": {\"color\": \"rgb(0,176,246)\"}, \"mode\": \"lines+markers\", \"name\": \"Sim Data\"}, {\"type\": \"scatter\", \"x\": [-1.698125, -0.768421052631579, -0.34869565217391296, 0.045555555555555495, 0.2916666666666667, 0.7814814814814816, 1.7706666666666668], \"y\": [0.0, 0.10526315789473684, 0.13043478260869565, 0.6111111111111112, 0.75, 0.8518518518518519, 1.0], \"error_y\": {\"type\": \"data\", \"array\": [0.0, 0.07233518641434492, 0.07180198468215396, 0.11823563735376173, 0.1305582419667734, 0.0696696254167378, 0.0], \"color\": \"rgb(0,170,80)\", \"visible\": true}, \"line\": {\"color\": \"rgb(0,100,80)\"}, \"mode\": \"lines+markers\", \"name\": \"Test Data\", \"xaxis\": \"x2\", \"yaxis\": \"y2\"}, {\"type\": \"scatter\", \"x\": [-1.698125, -0.768421052631579, -0.34869565217391296, 0.045555555555555495, 0.2916666666666667, 0.7814814814814816, 1.7706666666666668], \"y\": [0.37936529933481156, 0.4441581259150805, 0.47689472918586046, 0.5025131864722309, 0.5334079880552445, 0.5677727084197428, 0.6277005031074282], \"error_y\": {\"type\": \"data\", \"array\": [0.004039230298068309, 0.0038025663262147118, 0.0034780868145665553, 0.003938790107677021, 0.004819503717546428, 0.003190463282022924, 0.0041582867846102186], \"color\": \"rgb(0,100,246)\", \"visible\": true}, \"line\": {\"color\": \"rgb(0,176,246)\"}, \"mode\": \"lines+markers\", \"name\": \"Sim Data\", \"xaxis\": \"x2\", \"yaxis\": \"y2\"}], {\"paper_bgcolor\": \"rgb(255,255,255)\", \"plot_bgcolor\": \"rgb(229,229,229)\", \"xaxis\": {\"gridcolor\": \"rgb(255,255,255)\", \"range\": [-2, 2], \"domain\": [0, 0.45], \"showgrid\": true, \"showline\": false, \"showticklabels\": true, \"tickcolor\": \"rgb(127,127,127)\", \"ticks\": \"outside\", \"title\": \"Net Value ($)\", \"zeroline\": false}, \"xaxis2\": {\"gridcolor\": \"rgb(255,255,255)\", \"range\": [-2, 2], \"domain\": [0.55, 1], \"showgrid\": true, \"showline\": false, \"showticklabels\": true, \"tickcolor\": \"rgb(127,127,127)\", \"ticks\": \"outside\", \"title\": \"Net Value ($)\", \"zeroline\": false}, \"yaxis1\": {\"gridcolor\": \"rgb(255,255,255)\", \"range\": [0], \"showgrid\": true, \"showline\": false, \"showticklabels\": true, \"tickcolor\": \"rgb(127,127,127)\", \"ticks\": \"outside\", \"title\": \"RT (s)\", \"anchor\": \"x1\", \"zeroline\": false}, \"yaxis2\": {\"gridcolor\": \"rgb(255,255,255)\", \"range\": [0], \"showgrid\": true, \"showline\": false, \"showticklabels\": true, \"tickcolor\": \"rgb(127,127,127)\", \"ticks\": \"outside\", \"title\": \"p (accept)\", \"anchor\": \"x2\", \"zeroline\": false}, \"annotations\": [{\"x\": 0.01, \"y\": 1.12, \"showarrow\": false, \"text\": \"PARAMETERS: v: 0.01, a: 0.221, \\u03b8: 0.325\", \"xref\": \"paper\", \"yref\": \"paper\"}, {\"x\": 0.01, \"y\": 1.08, \"showarrow\": false, \"text\": \"MLE: 642.26\", \"xref\": \"paper\", \"yref\": \"paper\"}, {\"x\": 0.01, \"y\": 1.2, \"showarrow\": false, \"text\": \"SUBJECT: 1\", \"font\": {\"family\": \"Arial, sans-serif\", \"size\": 22}, \"xref\": \"paper\", \"yref\": \"paper\"}]}, {\"showLink\": true, \"linkText\": \"Export to plot.ly\"})});</script>"
      ],
      "text/vnd.plotly.v1+html": [
       "<div id=\"aa6469e0-1bec-4b9c-ae0d-155c8e8de2f0\" style=\"height: 525px; width: 100%;\" class=\"plotly-graph-div\"></div><script type=\"text/javascript\">require([\"plotly\"], function(Plotly) { window.PLOTLYENV=window.PLOTLYENV || {};window.PLOTLYENV.BASE_URL=\"https://plot.ly\";Plotly.newPlot(\"aa6469e0-1bec-4b9c-ae0d-155c8e8de2f0\", [{\"type\": \"scatter\", \"x\": [-1.698125, -0.768421052631579, -0.34869565217391296, 0.045555555555555495, 0.2916666666666667, 0.7814814814814816, 1.7706666666666668], \"y\": [3.579329921616591, 4.736999820868828, 4.934196604947236, 4.939064011094161, 5.70155291512492, 4.290933009638037, 2.884620733535849], \"error_y\": {\"type\": \"data\", \"array\": [0.4080944006773091, 0.5084614914940523, 0.49150129399063086, 0.5531281982759294, 0.6189654615809154, 0.373291714372552, 0.2537480456638595], \"color\": \"rgb(0,170,80)\", \"visible\": true}, \"line\": {\"color\": \"rgb(0,100,80)\"}, \"mode\": \"lines+markers\", \"name\": \"Test Data\"}, {\"type\": \"scatter\", \"x\": [-1.698125, -0.768421052631579, -0.34869565217391296, 0.045555555555555495, 0.2916666666666667, 0.7814814814814816, 1.7706666666666668], \"y\": [4.65590562638581, 4.676208960468542, 4.684367550792802, 4.661724542351862, 4.7086850503919315, 4.6535558689340455, 4.685419428825092], \"error_y\": {\"type\": \"data\", \"array\": [0.019609644305260434, 0.01806990264033351, 0.01636350379189865, 0.018495299536094634, 0.02279841948867267, 0.015045825759150476, 0.02026385198267772], \"color\": \"rgb(0,100,246)\", \"visible\": true}, \"line\": {\"color\": \"rgb(0,176,246)\"}, \"mode\": \"lines+markers\", \"name\": \"Sim Data\"}, {\"type\": \"scatter\", \"x\": [-1.698125, -0.768421052631579, -0.34869565217391296, 0.045555555555555495, 0.2916666666666667, 0.7814814814814816, 1.7706666666666668], \"y\": [0.0, 0.10526315789473684, 0.13043478260869565, 0.6111111111111112, 0.75, 0.8518518518518519, 1.0], \"error_y\": {\"type\": \"data\", \"array\": [0.0, 0.07233518641434492, 0.07180198468215396, 0.11823563735376173, 0.1305582419667734, 0.0696696254167378, 0.0], \"color\": \"rgb(0,170,80)\", \"visible\": true}, \"line\": {\"color\": \"rgb(0,100,80)\"}, \"mode\": \"lines+markers\", \"name\": \"Test Data\", \"xaxis\": \"x2\", \"yaxis\": \"y2\"}, {\"type\": \"scatter\", \"x\": [-1.698125, -0.768421052631579, -0.34869565217391296, 0.045555555555555495, 0.2916666666666667, 0.7814814814814816, 1.7706666666666668], \"y\": [0.37936529933481156, 0.4441581259150805, 0.47689472918586046, 0.5025131864722309, 0.5334079880552445, 0.5677727084197428, 0.6277005031074282], \"error_y\": {\"type\": \"data\", \"array\": [0.004039230298068309, 0.0038025663262147118, 0.0034780868145665553, 0.003938790107677021, 0.004819503717546428, 0.003190463282022924, 0.0041582867846102186], \"color\": \"rgb(0,100,246)\", \"visible\": true}, \"line\": {\"color\": \"rgb(0,176,246)\"}, \"mode\": \"lines+markers\", \"name\": \"Sim Data\", \"xaxis\": \"x2\", \"yaxis\": \"y2\"}], {\"paper_bgcolor\": \"rgb(255,255,255)\", \"plot_bgcolor\": \"rgb(229,229,229)\", \"xaxis\": {\"gridcolor\": \"rgb(255,255,255)\", \"range\": [-2, 2], \"domain\": [0, 0.45], \"showgrid\": true, \"showline\": false, \"showticklabels\": true, \"tickcolor\": \"rgb(127,127,127)\", \"ticks\": \"outside\", \"title\": \"Net Value ($)\", \"zeroline\": false}, \"xaxis2\": {\"gridcolor\": \"rgb(255,255,255)\", \"range\": [-2, 2], \"domain\": [0.55, 1], \"showgrid\": true, \"showline\": false, \"showticklabels\": true, \"tickcolor\": \"rgb(127,127,127)\", \"ticks\": \"outside\", \"title\": \"Net Value ($)\", \"zeroline\": false}, \"yaxis1\": {\"gridcolor\": \"rgb(255,255,255)\", \"range\": [0], \"showgrid\": true, \"showline\": false, \"showticklabels\": true, \"tickcolor\": \"rgb(127,127,127)\", \"ticks\": \"outside\", \"title\": \"RT (s)\", \"anchor\": \"x1\", \"zeroline\": false}, \"yaxis2\": {\"gridcolor\": \"rgb(255,255,255)\", \"range\": [0], \"showgrid\": true, \"showline\": false, \"showticklabels\": true, \"tickcolor\": \"rgb(127,127,127)\", \"ticks\": \"outside\", \"title\": \"p (accept)\", \"anchor\": \"x2\", \"zeroline\": false}, \"annotations\": [{\"x\": 0.01, \"y\": 1.12, \"showarrow\": false, \"text\": \"PARAMETERS: v: 0.01, a: 0.221, \\u03b8: 0.325\", \"xref\": \"paper\", \"yref\": \"paper\"}, {\"x\": 0.01, \"y\": 1.08, \"showarrow\": false, \"text\": \"MLE: 642.26\", \"xref\": \"paper\", \"yref\": \"paper\"}, {\"x\": 0.01, \"y\": 1.2, \"showarrow\": false, \"text\": \"SUBJECT: 1\", \"font\": {\"family\": \"Arial, sans-serif\", \"size\": 22}, \"xref\": \"paper\", \"yref\": \"paper\"}]}, {\"showLink\": true, \"linkText\": \"Export to plot.ly\"})});</script>"
      ]
     },
     "metadata": {},
     "output_type": "display_data"
    },
    {
     "data": {
      "application/vnd.plotly.v1+json": {
       "data": [
        {
         "error_y": {
          "array": [
           0.10879429279426972,
           0.25402595724407784,
           0.3409129329043157,
           0.2260598981907746,
           0.24480488295898126,
           0.16771570062318283,
           0.05381930759782264
          ],
          "color": "rgb(0,170,80)",
          "type": "data",
          "visible": true
         },
         "line": {
          "color": "rgb(0,100,80)"
         },
         "mode": "lines+markers",
         "name": "Test Data",
         "type": "scatter",
         "x": [
          -1.686923076923077,
          -0.8123809523809523,
          -0.2756521739130436,
          0.02799999999999996,
          0.27105263157894727,
          0.7813636363636364,
          1.5395238095238095
         ],
         "y": [
          1.638579470857692,
          1.9859039087147852,
          2.2414704256630302,
          2.171842512818209,
          1.7782342430743348,
          1.6221177481771023,
          1.2644601382947134
         ]
        },
        {
         "error_y": {
          "array": [
           0.00652122239763414,
           0.0060789813464602206,
           0.006229065909396793,
           0.005595614173742843,
           0.006837970686384205,
           0.006088355540442601,
           0.00529555437540603
          ],
          "color": "rgb(0,100,246)",
          "type": "data",
          "visible": true
         },
         "line": {
          "color": "rgb(0,176,246)"
         },
         "mode": "lines+markers",
         "name": "Sim Data",
         "type": "scatter",
         "x": [
          -1.686923076923077,
          -0.8123809523809523,
          -0.2756521739130436,
          0.02799999999999996,
          0.27105263157894727,
          0.7813636363636364,
          1.5395238095238095
         ],
         "y": [
          1.73437095161166,
          1.9011054285714282,
          1.9752060613966338,
          1.9888248158149142,
          1.9722959103110644,
          1.9152698636363643,
          1.7707053809523672
         ]
        },
        {
         "error_y": {
          "array": [
           0.07692307692307691,
           0.06563832739090582,
           0.09810018692482893,
           0.09264111117062016,
           0.10379087338771255,
           0.06273323266748675,
           0
          ],
          "color": "rgb(0,170,80)",
          "type": "data",
          "visible": true
         },
         "line": {
          "color": "rgb(0,100,80)"
         },
         "mode": "lines+markers",
         "name": "Test Data",
         "type": "scatter",
         "x": [
          -1.686923076923077,
          -0.8123809523809523,
          -0.2756521739130436,
          0.02799999999999996,
          0.27105263157894727,
          0.7813636363636364,
          1.5395238095238095
         ],
         "xaxis": "x2",
         "y": [
          0.07692307692307693,
          0.09523809523809523,
          0.30434782608695654,
          0.5333333333333333,
          0.7368421052631579,
          0.9090909090909091,
          1
         ],
         "yaxis": "y2"
        },
        {
         "error_y": {
          "array": [
           0.0031543862762017233,
           0.0031166927596652885,
           0.0032613141829746024,
           0.002886368177047582,
           0.0035881030748382563,
           0.0030718084783896158,
           0.002554310121120503
          ],
          "color": "rgb(0,100,246)",
          "type": "data",
          "visible": true
         },
         "line": {
          "color": "rgb(0,176,246)"
         },
         "mode": "lines+markers",
         "name": "Sim Data",
         "type": "scatter",
         "x": [
          -1.686923076923077,
          -0.8123809523809523,
          -0.2756521739130436,
          0.02799999999999996,
          0.27105263157894727,
          0.7813636363636364,
          1.5395238095238095
         ],
         "xaxis": "x2",
         "y": [
          0.15262712516347413,
          0.2854761904761905,
          0.4265153491607966,
          0.50998433176651,
          0.5735565029738408,
          0.7059545454545455,
          0.8361428571428572
         ],
         "yaxis": "y2"
        }
       ],
       "layout": {
        "annotations": [
         {
          "showarrow": false,
          "text": "PARAMETERS: v: 0.051, a: 0.107, θ: 1.0",
          "x": 0.01,
          "xref": "paper",
          "y": 1.12,
          "yref": "paper"
         },
         {
          "showarrow": false,
          "text": "MLE: 584.87",
          "x": 0.01,
          "xref": "paper",
          "y": 1.08,
          "yref": "paper"
         },
         {
          "font": {
           "family": "Arial, sans-serif",
           "size": 22
          },
          "showarrow": false,
          "text": "SUBJECT: 2",
          "x": 0.01,
          "xref": "paper",
          "y": 1.2,
          "yref": "paper"
         }
        ],
        "paper_bgcolor": "rgb(255,255,255)",
        "plot_bgcolor": "rgb(229,229,229)",
        "xaxis": {
         "domain": [
          0,
          0.45
         ],
         "gridcolor": "rgb(255,255,255)",
         "range": [
          -2,
          2
         ],
         "showgrid": true,
         "showline": false,
         "showticklabels": true,
         "tickcolor": "rgb(127,127,127)",
         "ticks": "outside",
         "title": "Net Value ($)",
         "zeroline": false
        },
        "xaxis2": {
         "domain": [
          0.55,
          1
         ],
         "gridcolor": "rgb(255,255,255)",
         "range": [
          -2,
          2
         ],
         "showgrid": true,
         "showline": false,
         "showticklabels": true,
         "tickcolor": "rgb(127,127,127)",
         "ticks": "outside",
         "title": "Net Value ($)",
         "zeroline": false
        },
        "yaxis1": {
         "anchor": "x1",
         "gridcolor": "rgb(255,255,255)",
         "range": [
          0
         ],
         "showgrid": true,
         "showline": false,
         "showticklabels": true,
         "tickcolor": "rgb(127,127,127)",
         "ticks": "outside",
         "title": "RT (s)",
         "zeroline": false
        },
        "yaxis2": {
         "anchor": "x2",
         "gridcolor": "rgb(255,255,255)",
         "range": [
          0
         ],
         "showgrid": true,
         "showline": false,
         "showticklabels": true,
         "tickcolor": "rgb(127,127,127)",
         "ticks": "outside",
         "title": "p (accept)",
         "zeroline": false
        }
       }
      },
      "text/html": [
       "<div id=\"5b54b435-d76e-4cd8-8704-0f80471c4ac8\" style=\"height: 525px; width: 100%;\" class=\"plotly-graph-div\"></div><script type=\"text/javascript\">require([\"plotly\"], function(Plotly) { window.PLOTLYENV=window.PLOTLYENV || {};window.PLOTLYENV.BASE_URL=\"https://plot.ly\";Plotly.newPlot(\"5b54b435-d76e-4cd8-8704-0f80471c4ac8\", [{\"type\": \"scatter\", \"x\": [-1.686923076923077, -0.8123809523809523, -0.2756521739130436, 0.02799999999999996, 0.27105263157894727, 0.7813636363636364, 1.5395238095238095], \"y\": [1.638579470857692, 1.9859039087147852, 2.2414704256630302, 2.171842512818209, 1.7782342430743348, 1.6221177481771023, 1.2644601382947134], \"error_y\": {\"type\": \"data\", \"array\": [0.10879429279426972, 0.25402595724407784, 0.3409129329043157, 0.2260598981907746, 0.24480488295898126, 0.16771570062318283, 0.05381930759782264], \"color\": \"rgb(0,170,80)\", \"visible\": true}, \"line\": {\"color\": \"rgb(0,100,80)\"}, \"mode\": \"lines+markers\", \"name\": \"Test Data\"}, {\"type\": \"scatter\", \"x\": [-1.686923076923077, -0.8123809523809523, -0.2756521739130436, 0.02799999999999996, 0.27105263157894727, 0.7813636363636364, 1.5395238095238095], \"y\": [1.73437095161166, 1.9011054285714282, 1.9752060613966338, 1.9888248158149142, 1.9722959103110644, 1.9152698636363643, 1.7707053809523672], \"error_y\": {\"type\": \"data\", \"array\": [0.00652122239763414, 0.0060789813464602206, 0.006229065909396793, 0.005595614173742843, 0.006837970686384205, 0.006088355540442601, 0.00529555437540603], \"color\": \"rgb(0,100,246)\", \"visible\": true}, \"line\": {\"color\": \"rgb(0,176,246)\"}, \"mode\": \"lines+markers\", \"name\": \"Sim Data\"}, {\"type\": \"scatter\", \"x\": [-1.686923076923077, -0.8123809523809523, -0.2756521739130436, 0.02799999999999996, 0.27105263157894727, 0.7813636363636364, 1.5395238095238095], \"y\": [0.07692307692307693, 0.09523809523809523, 0.30434782608695654, 0.5333333333333333, 0.7368421052631579, 0.9090909090909091, 1.0], \"error_y\": {\"type\": \"data\", \"array\": [0.07692307692307691, 0.06563832739090582, 0.09810018692482893, 0.09264111117062016, 0.10379087338771255, 0.06273323266748675, 0.0], \"color\": \"rgb(0,170,80)\", \"visible\": true}, \"line\": {\"color\": \"rgb(0,100,80)\"}, \"mode\": \"lines+markers\", \"name\": \"Test Data\", \"xaxis\": \"x2\", \"yaxis\": \"y2\"}, {\"type\": \"scatter\", \"x\": [-1.686923076923077, -0.8123809523809523, -0.2756521739130436, 0.02799999999999996, 0.27105263157894727, 0.7813636363636364, 1.5395238095238095], \"y\": [0.15262712516347413, 0.2854761904761905, 0.4265153491607966, 0.50998433176651, 0.5735565029738408, 0.7059545454545455, 0.8361428571428572], \"error_y\": {\"type\": \"data\", \"array\": [0.0031543862762017233, 0.0031166927596652885, 0.0032613141829746024, 0.002886368177047582, 0.0035881030748382563, 0.0030718084783896158, 0.002554310121120503], \"color\": \"rgb(0,100,246)\", \"visible\": true}, \"line\": {\"color\": \"rgb(0,176,246)\"}, \"mode\": \"lines+markers\", \"name\": \"Sim Data\", \"xaxis\": \"x2\", \"yaxis\": \"y2\"}], {\"paper_bgcolor\": \"rgb(255,255,255)\", \"plot_bgcolor\": \"rgb(229,229,229)\", \"xaxis\": {\"gridcolor\": \"rgb(255,255,255)\", \"range\": [-2, 2], \"domain\": [0, 0.45], \"showgrid\": true, \"showline\": false, \"showticklabels\": true, \"tickcolor\": \"rgb(127,127,127)\", \"ticks\": \"outside\", \"title\": \"Net Value ($)\", \"zeroline\": false}, \"xaxis2\": {\"gridcolor\": \"rgb(255,255,255)\", \"range\": [-2, 2], \"domain\": [0.55, 1], \"showgrid\": true, \"showline\": false, \"showticklabels\": true, \"tickcolor\": \"rgb(127,127,127)\", \"ticks\": \"outside\", \"title\": \"Net Value ($)\", \"zeroline\": false}, \"yaxis1\": {\"gridcolor\": \"rgb(255,255,255)\", \"range\": [0], \"showgrid\": true, \"showline\": false, \"showticklabels\": true, \"tickcolor\": \"rgb(127,127,127)\", \"ticks\": \"outside\", \"title\": \"RT (s)\", \"anchor\": \"x1\", \"zeroline\": false}, \"yaxis2\": {\"gridcolor\": \"rgb(255,255,255)\", \"range\": [0], \"showgrid\": true, \"showline\": false, \"showticklabels\": true, \"tickcolor\": \"rgb(127,127,127)\", \"ticks\": \"outside\", \"title\": \"p (accept)\", \"anchor\": \"x2\", \"zeroline\": false}, \"annotations\": [{\"x\": 0.01, \"y\": 1.12, \"showarrow\": false, \"text\": \"PARAMETERS: v: 0.051, a: 0.107, \\u03b8: 1.0\", \"xref\": \"paper\", \"yref\": \"paper\"}, {\"x\": 0.01, \"y\": 1.08, \"showarrow\": false, \"text\": \"MLE: 584.87\", \"xref\": \"paper\", \"yref\": \"paper\"}, {\"x\": 0.01, \"y\": 1.2, \"showarrow\": false, \"text\": \"SUBJECT: 2\", \"font\": {\"family\": \"Arial, sans-serif\", \"size\": 22}, \"xref\": \"paper\", \"yref\": \"paper\"}]}, {\"showLink\": true, \"linkText\": \"Export to plot.ly\"})});</script>"
      ],
      "text/vnd.plotly.v1+html": [
       "<div id=\"5b54b435-d76e-4cd8-8704-0f80471c4ac8\" style=\"height: 525px; width: 100%;\" class=\"plotly-graph-div\"></div><script type=\"text/javascript\">require([\"plotly\"], function(Plotly) { window.PLOTLYENV=window.PLOTLYENV || {};window.PLOTLYENV.BASE_URL=\"https://plot.ly\";Plotly.newPlot(\"5b54b435-d76e-4cd8-8704-0f80471c4ac8\", [{\"type\": \"scatter\", \"x\": [-1.686923076923077, -0.8123809523809523, -0.2756521739130436, 0.02799999999999996, 0.27105263157894727, 0.7813636363636364, 1.5395238095238095], \"y\": [1.638579470857692, 1.9859039087147852, 2.2414704256630302, 2.171842512818209, 1.7782342430743348, 1.6221177481771023, 1.2644601382947134], \"error_y\": {\"type\": \"data\", \"array\": [0.10879429279426972, 0.25402595724407784, 0.3409129329043157, 0.2260598981907746, 0.24480488295898126, 0.16771570062318283, 0.05381930759782264], \"color\": \"rgb(0,170,80)\", \"visible\": true}, \"line\": {\"color\": \"rgb(0,100,80)\"}, \"mode\": \"lines+markers\", \"name\": \"Test Data\"}, {\"type\": \"scatter\", \"x\": [-1.686923076923077, -0.8123809523809523, -0.2756521739130436, 0.02799999999999996, 0.27105263157894727, 0.7813636363636364, 1.5395238095238095], \"y\": [1.73437095161166, 1.9011054285714282, 1.9752060613966338, 1.9888248158149142, 1.9722959103110644, 1.9152698636363643, 1.7707053809523672], \"error_y\": {\"type\": \"data\", \"array\": [0.00652122239763414, 0.0060789813464602206, 0.006229065909396793, 0.005595614173742843, 0.006837970686384205, 0.006088355540442601, 0.00529555437540603], \"color\": \"rgb(0,100,246)\", \"visible\": true}, \"line\": {\"color\": \"rgb(0,176,246)\"}, \"mode\": \"lines+markers\", \"name\": \"Sim Data\"}, {\"type\": \"scatter\", \"x\": [-1.686923076923077, -0.8123809523809523, -0.2756521739130436, 0.02799999999999996, 0.27105263157894727, 0.7813636363636364, 1.5395238095238095], \"y\": [0.07692307692307693, 0.09523809523809523, 0.30434782608695654, 0.5333333333333333, 0.7368421052631579, 0.9090909090909091, 1.0], \"error_y\": {\"type\": \"data\", \"array\": [0.07692307692307691, 0.06563832739090582, 0.09810018692482893, 0.09264111117062016, 0.10379087338771255, 0.06273323266748675, 0.0], \"color\": \"rgb(0,170,80)\", \"visible\": true}, \"line\": {\"color\": \"rgb(0,100,80)\"}, \"mode\": \"lines+markers\", \"name\": \"Test Data\", \"xaxis\": \"x2\", \"yaxis\": \"y2\"}, {\"type\": \"scatter\", \"x\": [-1.686923076923077, -0.8123809523809523, -0.2756521739130436, 0.02799999999999996, 0.27105263157894727, 0.7813636363636364, 1.5395238095238095], \"y\": [0.15262712516347413, 0.2854761904761905, 0.4265153491607966, 0.50998433176651, 0.5735565029738408, 0.7059545454545455, 0.8361428571428572], \"error_y\": {\"type\": \"data\", \"array\": [0.0031543862762017233, 0.0031166927596652885, 0.0032613141829746024, 0.002886368177047582, 0.0035881030748382563, 0.0030718084783896158, 0.002554310121120503], \"color\": \"rgb(0,100,246)\", \"visible\": true}, \"line\": {\"color\": \"rgb(0,176,246)\"}, \"mode\": \"lines+markers\", \"name\": \"Sim Data\", \"xaxis\": \"x2\", \"yaxis\": \"y2\"}], {\"paper_bgcolor\": \"rgb(255,255,255)\", \"plot_bgcolor\": \"rgb(229,229,229)\", \"xaxis\": {\"gridcolor\": \"rgb(255,255,255)\", \"range\": [-2, 2], \"domain\": [0, 0.45], \"showgrid\": true, \"showline\": false, \"showticklabels\": true, \"tickcolor\": \"rgb(127,127,127)\", \"ticks\": \"outside\", \"title\": \"Net Value ($)\", \"zeroline\": false}, \"xaxis2\": {\"gridcolor\": \"rgb(255,255,255)\", \"range\": [-2, 2], \"domain\": [0.55, 1], \"showgrid\": true, \"showline\": false, \"showticklabels\": true, \"tickcolor\": \"rgb(127,127,127)\", \"ticks\": \"outside\", \"title\": \"Net Value ($)\", \"zeroline\": false}, \"yaxis1\": {\"gridcolor\": \"rgb(255,255,255)\", \"range\": [0], \"showgrid\": true, \"showline\": false, \"showticklabels\": true, \"tickcolor\": \"rgb(127,127,127)\", \"ticks\": \"outside\", \"title\": \"RT (s)\", \"anchor\": \"x1\", \"zeroline\": false}, \"yaxis2\": {\"gridcolor\": \"rgb(255,255,255)\", \"range\": [0], \"showgrid\": true, \"showline\": false, \"showticklabels\": true, \"tickcolor\": \"rgb(127,127,127)\", \"ticks\": \"outside\", \"title\": \"p (accept)\", \"anchor\": \"x2\", \"zeroline\": false}, \"annotations\": [{\"x\": 0.01, \"y\": 1.12, \"showarrow\": false, \"text\": \"PARAMETERS: v: 0.051, a: 0.107, \\u03b8: 1.0\", \"xref\": \"paper\", \"yref\": \"paper\"}, {\"x\": 0.01, \"y\": 1.08, \"showarrow\": false, \"text\": \"MLE: 584.87\", \"xref\": \"paper\", \"yref\": \"paper\"}, {\"x\": 0.01, \"y\": 1.2, \"showarrow\": false, \"text\": \"SUBJECT: 2\", \"font\": {\"family\": \"Arial, sans-serif\", \"size\": 22}, \"xref\": \"paper\", \"yref\": \"paper\"}]}, {\"showLink\": true, \"linkText\": \"Export to plot.ly\"})});</script>"
      ]
     },
     "metadata": {},
     "output_type": "display_data"
    },
    {
     "data": {
      "application/vnd.plotly.v1+json": {
       "data": [
        {
         "error_y": {
          "array": [
           0.1102701021747477,
           0.32080609297211565,
           0.273288008346219,
           0.22112527698932793,
           0.4312362408282256,
           0.20907660220046495,
           0.32466589321716044
          ],
          "color": "rgb(0,170,80)",
          "type": "data",
          "visible": true
         },
         "line": {
          "color": "rgb(0,100,80)"
         },
         "mode": "lines+markers",
         "name": "Test Data",
         "type": "scatter",
         "x": [
          -1.6504999999999999,
          -0.8216666666666667,
          -0.3322222222222222,
          0.031379310344827556,
          0.31399999999999995,
          0.7887500000000003,
          1.5991304347826085
         ],
         "y": [
          1.6242911497538437,
          2.3176755745274327,
          2.431576300043768,
          2.3799502586921806,
          2.4389645597664638,
          2.132048700916736,
          2.195744744593115
         ]
        },
        {
         "error_y": {
          "array": [
           0.007350004803883634,
           0.01117928539002417,
           0.013765995127769461,
           0.01093777200992065,
           0.01519741710810042,
           0.009961357855016308,
           0.007033081565790141
          ],
          "color": "rgb(0,100,246)",
          "type": "data",
          "visible": true
         },
         "line": {
          "color": "rgb(0,176,246)"
         },
         "mode": "lines+markers",
         "name": "Sim Data",
         "type": "scatter",
         "x": [
          -1.6504999999999999,
          -0.8216666666666667,
          -0.3322222222222222,
          0.031379310344827556,
          0.31399999999999995,
          0.7887500000000003,
          1.5991304347826085
         ],
         "y": [
          2.179998049317253,
          2.807290643958352,
          3.2708601324057573,
          3.2371077132296664,
          3.2783661261018895,
          2.8534319331243427,
          2.244871058925838
         ]
        },
        {
         "error_y": {
          "array": [
           0.06882472016116853,
           0.10863248456597818,
           0.10863248456597818,
           0.08446516354424752,
           0.06666666666666665,
           0.05763033956734372,
           0.043478260869565216
          ],
          "color": "rgb(0,170,80)",
          "type": "data",
          "visible": true
         },
         "line": {
          "color": "rgb(0,100,80)"
         },
         "mode": "lines+markers",
         "name": "Test Data",
         "type": "scatter",
         "x": [
          -1.6504999999999999,
          -0.8216666666666667,
          -0.3322222222222222,
          0.031379310344827556,
          0.31399999999999995,
          0.7887500000000003,
          1.5991304347826085
         ],
         "xaxis": "x2",
         "y": [
          0.1,
          0.2777777777777778,
          0.2777777777777778,
          0.7241379310344828,
          0.9333333333333333,
          0.9166666666666666,
          0.9565217391304348
         ],
         "yaxis": "y2"
        },
        {
         "error_y": {
          "array": [
           0.0011870096140959364,
           0.002513266108418136,
           0.0034808569698587893,
           0.002952556809843407,
           0.003813820920483734,
           0.0022823527908469045,
           0.0011952707929036323
          ],
          "color": "rgb(0,100,246)",
          "type": "data",
          "visible": true
         },
         "line": {
          "color": "rgb(0,176,246)"
         },
         "mode": "lines+markers",
         "name": "Sim Data",
         "type": "scatter",
         "x": [
          -1.6504999999999999,
          -0.8216666666666667,
          -0.3322222222222222,
          0.031379310344827556,
          0.31399999999999995,
          0.7887500000000003,
          1.5991304347826085
         ],
         "xaxis": "x2",
         "y": [
          0.02901015355374381,
          0.13051705905270775,
          0.31547351885098746,
          0.5023711555896506,
          0.6840051140569275,
          0.854085684430512,
          0.9659926070884975
         ],
         "yaxis": "y2"
        }
       ],
       "layout": {
        "annotations": [
         {
          "showarrow": false,
          "text": "PARAMETERS: v: 0.093, a: 0.164, θ: 0.55",
          "x": 0.01,
          "xref": "paper",
          "y": 1.12,
          "yref": "paper"
         },
         {
          "showarrow": false,
          "text": "MLE: 666.91",
          "x": 0.01,
          "xref": "paper",
          "y": 1.08,
          "yref": "paper"
         },
         {
          "font": {
           "family": "Arial, sans-serif",
           "size": 22
          },
          "showarrow": false,
          "text": "SUBJECT: 3",
          "x": 0.01,
          "xref": "paper",
          "y": 1.2,
          "yref": "paper"
         }
        ],
        "paper_bgcolor": "rgb(255,255,255)",
        "plot_bgcolor": "rgb(229,229,229)",
        "xaxis": {
         "domain": [
          0,
          0.45
         ],
         "gridcolor": "rgb(255,255,255)",
         "range": [
          -2,
          2
         ],
         "showgrid": true,
         "showline": false,
         "showticklabels": true,
         "tickcolor": "rgb(127,127,127)",
         "ticks": "outside",
         "title": "Net Value ($)",
         "zeroline": false
        },
        "xaxis2": {
         "domain": [
          0.55,
          1
         ],
         "gridcolor": "rgb(255,255,255)",
         "range": [
          -2,
          2
         ],
         "showgrid": true,
         "showline": false,
         "showticklabels": true,
         "tickcolor": "rgb(127,127,127)",
         "ticks": "outside",
         "title": "Net Value ($)",
         "zeroline": false
        },
        "yaxis1": {
         "anchor": "x1",
         "gridcolor": "rgb(255,255,255)",
         "range": [
          0
         ],
         "showgrid": true,
         "showline": false,
         "showticklabels": true,
         "tickcolor": "rgb(127,127,127)",
         "ticks": "outside",
         "title": "RT (s)",
         "zeroline": false
        },
        "yaxis2": {
         "anchor": "x2",
         "gridcolor": "rgb(255,255,255)",
         "range": [
          0
         ],
         "showgrid": true,
         "showline": false,
         "showticklabels": true,
         "tickcolor": "rgb(127,127,127)",
         "ticks": "outside",
         "title": "p (accept)",
         "zeroline": false
        }
       }
      },
      "text/html": [
       "<div id=\"83d01fba-f52e-482d-92d4-ffd2ce492c49\" style=\"height: 525px; width: 100%;\" class=\"plotly-graph-div\"></div><script type=\"text/javascript\">require([\"plotly\"], function(Plotly) { window.PLOTLYENV=window.PLOTLYENV || {};window.PLOTLYENV.BASE_URL=\"https://plot.ly\";Plotly.newPlot(\"83d01fba-f52e-482d-92d4-ffd2ce492c49\", [{\"type\": \"scatter\", \"x\": [-1.6504999999999999, -0.8216666666666667, -0.3322222222222222, 0.031379310344827556, 0.31399999999999995, 0.7887500000000003, 1.5991304347826085], \"y\": [1.6242911497538437, 2.3176755745274327, 2.431576300043768, 2.3799502586921806, 2.4389645597664638, 2.132048700916736, 2.195744744593115], \"error_y\": {\"type\": \"data\", \"array\": [0.1102701021747477, 0.32080609297211565, 0.273288008346219, 0.22112527698932793, 0.4312362408282256, 0.20907660220046495, 0.32466589321716044], \"color\": \"rgb(0,170,80)\", \"visible\": true}, \"line\": {\"color\": \"rgb(0,100,80)\"}, \"mode\": \"lines+markers\", \"name\": \"Test Data\"}, {\"type\": \"scatter\", \"x\": [-1.6504999999999999, -0.8216666666666667, -0.3322222222222222, 0.031379310344827556, 0.31399999999999995, 0.7887500000000003, 1.5991304347826085], \"y\": [2.179998049317253, 2.807290643958352, 3.2708601324057573, 3.2371077132296664, 3.2783661261018895, 2.8534319331243427, 2.244871058925838], \"error_y\": {\"type\": \"data\", \"array\": [0.007350004803883634, 0.01117928539002417, 0.013765995127769461, 0.01093777200992065, 0.01519741710810042, 0.009961357855016308, 0.007033081565790141], \"color\": \"rgb(0,100,246)\", \"visible\": true}, \"line\": {\"color\": \"rgb(0,176,246)\"}, \"mode\": \"lines+markers\", \"name\": \"Sim Data\"}, {\"type\": \"scatter\", \"x\": [-1.6504999999999999, -0.8216666666666667, -0.3322222222222222, 0.031379310344827556, 0.31399999999999995, 0.7887500000000003, 1.5991304347826085], \"y\": [0.1, 0.2777777777777778, 0.2777777777777778, 0.7241379310344828, 0.9333333333333333, 0.9166666666666666, 0.9565217391304348], \"error_y\": {\"type\": \"data\", \"array\": [0.06882472016116853, 0.10863248456597818, 0.10863248456597818, 0.08446516354424752, 0.06666666666666665, 0.05763033956734372, 0.043478260869565216], \"color\": \"rgb(0,170,80)\", \"visible\": true}, \"line\": {\"color\": \"rgb(0,100,80)\"}, \"mode\": \"lines+markers\", \"name\": \"Test Data\", \"xaxis\": \"x2\", \"yaxis\": \"y2\"}, {\"type\": \"scatter\", \"x\": [-1.6504999999999999, -0.8216666666666667, -0.3322222222222222, 0.031379310344827556, 0.31399999999999995, 0.7887500000000003, 1.5991304347826085], \"y\": [0.02901015355374381, 0.13051705905270775, 0.31547351885098746, 0.5023711555896506, 0.6840051140569275, 0.854085684430512, 0.9659926070884975], \"error_y\": {\"type\": \"data\", \"array\": [0.0011870096140959364, 0.002513266108418136, 0.0034808569698587893, 0.002952556809843407, 0.003813820920483734, 0.0022823527908469045, 0.0011952707929036323], \"color\": \"rgb(0,100,246)\", \"visible\": true}, \"line\": {\"color\": \"rgb(0,176,246)\"}, \"mode\": \"lines+markers\", \"name\": \"Sim Data\", \"xaxis\": \"x2\", \"yaxis\": \"y2\"}], {\"paper_bgcolor\": \"rgb(255,255,255)\", \"plot_bgcolor\": \"rgb(229,229,229)\", \"xaxis\": {\"gridcolor\": \"rgb(255,255,255)\", \"range\": [-2, 2], \"domain\": [0, 0.45], \"showgrid\": true, \"showline\": false, \"showticklabels\": true, \"tickcolor\": \"rgb(127,127,127)\", \"ticks\": \"outside\", \"title\": \"Net Value ($)\", \"zeroline\": false}, \"xaxis2\": {\"gridcolor\": \"rgb(255,255,255)\", \"range\": [-2, 2], \"domain\": [0.55, 1], \"showgrid\": true, \"showline\": false, \"showticklabels\": true, \"tickcolor\": \"rgb(127,127,127)\", \"ticks\": \"outside\", \"title\": \"Net Value ($)\", \"zeroline\": false}, \"yaxis1\": {\"gridcolor\": \"rgb(255,255,255)\", \"range\": [0], \"showgrid\": true, \"showline\": false, \"showticklabels\": true, \"tickcolor\": \"rgb(127,127,127)\", \"ticks\": \"outside\", \"title\": \"RT (s)\", \"anchor\": \"x1\", \"zeroline\": false}, \"yaxis2\": {\"gridcolor\": \"rgb(255,255,255)\", \"range\": [0], \"showgrid\": true, \"showline\": false, \"showticklabels\": true, \"tickcolor\": \"rgb(127,127,127)\", \"ticks\": \"outside\", \"title\": \"p (accept)\", \"anchor\": \"x2\", \"zeroline\": false}, \"annotations\": [{\"x\": 0.01, \"y\": 1.12, \"showarrow\": false, \"text\": \"PARAMETERS: v: 0.093, a: 0.164, \\u03b8: 0.55\", \"xref\": \"paper\", \"yref\": \"paper\"}, {\"x\": 0.01, \"y\": 1.08, \"showarrow\": false, \"text\": \"MLE: 666.91\", \"xref\": \"paper\", \"yref\": \"paper\"}, {\"x\": 0.01, \"y\": 1.2, \"showarrow\": false, \"text\": \"SUBJECT: 3\", \"font\": {\"family\": \"Arial, sans-serif\", \"size\": 22}, \"xref\": \"paper\", \"yref\": \"paper\"}]}, {\"showLink\": true, \"linkText\": \"Export to plot.ly\"})});</script>"
      ],
      "text/vnd.plotly.v1+html": [
       "<div id=\"83d01fba-f52e-482d-92d4-ffd2ce492c49\" style=\"height: 525px; width: 100%;\" class=\"plotly-graph-div\"></div><script type=\"text/javascript\">require([\"plotly\"], function(Plotly) { window.PLOTLYENV=window.PLOTLYENV || {};window.PLOTLYENV.BASE_URL=\"https://plot.ly\";Plotly.newPlot(\"83d01fba-f52e-482d-92d4-ffd2ce492c49\", [{\"type\": \"scatter\", \"x\": [-1.6504999999999999, -0.8216666666666667, -0.3322222222222222, 0.031379310344827556, 0.31399999999999995, 0.7887500000000003, 1.5991304347826085], \"y\": [1.6242911497538437, 2.3176755745274327, 2.431576300043768, 2.3799502586921806, 2.4389645597664638, 2.132048700916736, 2.195744744593115], \"error_y\": {\"type\": \"data\", \"array\": [0.1102701021747477, 0.32080609297211565, 0.273288008346219, 0.22112527698932793, 0.4312362408282256, 0.20907660220046495, 0.32466589321716044], \"color\": \"rgb(0,170,80)\", \"visible\": true}, \"line\": {\"color\": \"rgb(0,100,80)\"}, \"mode\": \"lines+markers\", \"name\": \"Test Data\"}, {\"type\": \"scatter\", \"x\": [-1.6504999999999999, -0.8216666666666667, -0.3322222222222222, 0.031379310344827556, 0.31399999999999995, 0.7887500000000003, 1.5991304347826085], \"y\": [2.179998049317253, 2.807290643958352, 3.2708601324057573, 3.2371077132296664, 3.2783661261018895, 2.8534319331243427, 2.244871058925838], \"error_y\": {\"type\": \"data\", \"array\": [0.007350004803883634, 0.01117928539002417, 0.013765995127769461, 0.01093777200992065, 0.01519741710810042, 0.009961357855016308, 0.007033081565790141], \"color\": \"rgb(0,100,246)\", \"visible\": true}, \"line\": {\"color\": \"rgb(0,176,246)\"}, \"mode\": \"lines+markers\", \"name\": \"Sim Data\"}, {\"type\": \"scatter\", \"x\": [-1.6504999999999999, -0.8216666666666667, -0.3322222222222222, 0.031379310344827556, 0.31399999999999995, 0.7887500000000003, 1.5991304347826085], \"y\": [0.1, 0.2777777777777778, 0.2777777777777778, 0.7241379310344828, 0.9333333333333333, 0.9166666666666666, 0.9565217391304348], \"error_y\": {\"type\": \"data\", \"array\": [0.06882472016116853, 0.10863248456597818, 0.10863248456597818, 0.08446516354424752, 0.06666666666666665, 0.05763033956734372, 0.043478260869565216], \"color\": \"rgb(0,170,80)\", \"visible\": true}, \"line\": {\"color\": \"rgb(0,100,80)\"}, \"mode\": \"lines+markers\", \"name\": \"Test Data\", \"xaxis\": \"x2\", \"yaxis\": \"y2\"}, {\"type\": \"scatter\", \"x\": [-1.6504999999999999, -0.8216666666666667, -0.3322222222222222, 0.031379310344827556, 0.31399999999999995, 0.7887500000000003, 1.5991304347826085], \"y\": [0.02901015355374381, 0.13051705905270775, 0.31547351885098746, 0.5023711555896506, 0.6840051140569275, 0.854085684430512, 0.9659926070884975], \"error_y\": {\"type\": \"data\", \"array\": [0.0011870096140959364, 0.002513266108418136, 0.0034808569698587893, 0.002952556809843407, 0.003813820920483734, 0.0022823527908469045, 0.0011952707929036323], \"color\": \"rgb(0,100,246)\", \"visible\": true}, \"line\": {\"color\": \"rgb(0,176,246)\"}, \"mode\": \"lines+markers\", \"name\": \"Sim Data\", \"xaxis\": \"x2\", \"yaxis\": \"y2\"}], {\"paper_bgcolor\": \"rgb(255,255,255)\", \"plot_bgcolor\": \"rgb(229,229,229)\", \"xaxis\": {\"gridcolor\": \"rgb(255,255,255)\", \"range\": [-2, 2], \"domain\": [0, 0.45], \"showgrid\": true, \"showline\": false, \"showticklabels\": true, \"tickcolor\": \"rgb(127,127,127)\", \"ticks\": \"outside\", \"title\": \"Net Value ($)\", \"zeroline\": false}, \"xaxis2\": {\"gridcolor\": \"rgb(255,255,255)\", \"range\": [-2, 2], \"domain\": [0.55, 1], \"showgrid\": true, \"showline\": false, \"showticklabels\": true, \"tickcolor\": \"rgb(127,127,127)\", \"ticks\": \"outside\", \"title\": \"Net Value ($)\", \"zeroline\": false}, \"yaxis1\": {\"gridcolor\": \"rgb(255,255,255)\", \"range\": [0], \"showgrid\": true, \"showline\": false, \"showticklabels\": true, \"tickcolor\": \"rgb(127,127,127)\", \"ticks\": \"outside\", \"title\": \"RT (s)\", \"anchor\": \"x1\", \"zeroline\": false}, \"yaxis2\": {\"gridcolor\": \"rgb(255,255,255)\", \"range\": [0], \"showgrid\": true, \"showline\": false, \"showticklabels\": true, \"tickcolor\": \"rgb(127,127,127)\", \"ticks\": \"outside\", \"title\": \"p (accept)\", \"anchor\": \"x2\", \"zeroline\": false}, \"annotations\": [{\"x\": 0.01, \"y\": 1.12, \"showarrow\": false, \"text\": \"PARAMETERS: v: 0.093, a: 0.164, \\u03b8: 0.55\", \"xref\": \"paper\", \"yref\": \"paper\"}, {\"x\": 0.01, \"y\": 1.08, \"showarrow\": false, \"text\": \"MLE: 666.91\", \"xref\": \"paper\", \"yref\": \"paper\"}, {\"x\": 0.01, \"y\": 1.2, \"showarrow\": false, \"text\": \"SUBJECT: 3\", \"font\": {\"family\": \"Arial, sans-serif\", \"size\": 22}, \"xref\": \"paper\", \"yref\": \"paper\"}]}, {\"showLink\": true, \"linkText\": \"Export to plot.ly\"})});</script>"
      ]
     },
     "metadata": {},
     "output_type": "display_data"
    },
    {
     "data": {
      "application/vnd.plotly.v1+json": {
       "data": [
        {
         "error_y": {
          "array": [
           0.32129862347532606,
           0.4621315558721299,
           0.19224839363799817,
           0.3279100582633189,
           0.4583042004716843,
           0.4294987771298358,
           0.29206220534775756
          ],
          "color": "rgb(0,170,80)",
          "type": "data",
          "visible": true
         },
         "line": {
          "color": "rgb(0,100,80)"
         },
         "mode": "lines+markers",
         "name": "Test Data",
         "type": "scatter",
         "x": [
          -1.8000000000000003,
          -0.794705882352941,
          -0.30916666666666665,
          0.02689655172413791,
          0.36647058823529405,
          0.7600000000000001,
          1.8549999999999998
         ],
         "y": [
          2.7815451622314686,
          2.837450211625068,
          3.147442831504614,
          3.4559793460096695,
          3.6884238950389556,
          3.405157981194673,
          3.008541587551078
         ]
        },
        {
         "error_y": {
          "array": [
           0.010727979542169504,
           0.016826270873400856,
           0.015405563825983255,
           0.01402267516401392,
           0.01847305966157353,
           0.01698459376673196,
           0.011516658676382607
          ],
          "color": "rgb(0,100,246)",
          "type": "data",
          "visible": true
         },
         "line": {
          "color": "rgb(0,176,246)"
         },
         "mode": "lines+markers",
         "name": "Sim Data",
         "type": "scatter",
         "x": [
          -1.8000000000000003,
          -0.794705882352941,
          -0.30916666666666665,
          0.02689655172413791,
          0.36647058823529405,
          0.7600000000000001,
          1.8549999999999998
         ],
         "y": [
          3.2760060978072088,
          3.9700998652951522,
          4.3718915266453084,
          4.316731099305286,
          4.488474354030092,
          4.010873523109898,
          3.0903458866176656
         ]
        },
        {
         "error_y": {
          "array": [
           0,
           0.09530501027070383,
           0.09829463743659811,
           0.09169709590633639,
           0,
           0.058823529411764705,
           0
          ],
          "color": "rgb(0,170,80)",
          "type": "data",
          "visible": true
         },
         "line": {
          "color": "rgb(0,100,80)"
         },
         "mode": "lines+markers",
         "name": "Test Data",
         "type": "scatter",
         "x": [
          -1.8000000000000003,
          -0.794705882352941,
          -0.30916666666666665,
          0.02689655172413791,
          0.36647058823529405,
          0.7600000000000001,
          1.8549999999999998
         ],
         "xaxis": "x2",
         "y": [
          0,
          0.17647058823529413,
          0.3333333333333333,
          0.6206896551724138,
          1,
          0.9411764705882353,
          1
         ],
         "yaxis": "y2"
        },
        {
         "error_y": {
          "array": [
           0.0013317534586827287,
           0.003225868737343422,
           0.003056569326486496,
           0.003043481121316205,
           0.0037597101096875315,
           0.0030003363376012297,
           0.0012416268468395542
          ],
          "color": "rgb(0,100,246)",
          "type": "data",
          "visible": true
         },
         "line": {
          "color": "rgb(0,176,246)"
         },
         "mode": "lines+markers",
         "name": "Sim Data",
         "type": "scatter",
         "x": [
          -1.8000000000000003,
          -0.794705882352941,
          -0.30916666666666665,
          0.02689655172413791,
          0.36647058823529405,
          0.7600000000000001,
          1.8549999999999998
         ],
         "xaxis": "x2",
         "y": [
          0.046036425311957355,
          0.21705853539064413,
          0.2935717825127258,
          0.47386410075417024,
          0.6734798817328705,
          0.8208754208754209,
          0.9683818346591482
         ],
         "yaxis": "y2"
        }
       ],
       "layout": {
        "annotations": [
         {
          "showarrow": false,
          "text": "PARAMETERS: v: 0.093, a: 0.221, θ: 0.1",
          "x": 0.01,
          "xref": "paper",
          "y": 1.12,
          "yref": "paper"
         },
         {
          "showarrow": false,
          "text": "MLE: 659.51",
          "x": 0.01,
          "xref": "paper",
          "y": 1.08,
          "yref": "paper"
         },
         {
          "font": {
           "family": "Arial, sans-serif",
           "size": 22
          },
          "showarrow": false,
          "text": "SUBJECT: 4",
          "x": 0.01,
          "xref": "paper",
          "y": 1.2,
          "yref": "paper"
         }
        ],
        "paper_bgcolor": "rgb(255,255,255)",
        "plot_bgcolor": "rgb(229,229,229)",
        "xaxis": {
         "domain": [
          0,
          0.45
         ],
         "gridcolor": "rgb(255,255,255)",
         "range": [
          -2,
          2
         ],
         "showgrid": true,
         "showline": false,
         "showticklabels": true,
         "tickcolor": "rgb(127,127,127)",
         "ticks": "outside",
         "title": "Net Value ($)",
         "zeroline": false
        },
        "xaxis2": {
         "domain": [
          0.55,
          1
         ],
         "gridcolor": "rgb(255,255,255)",
         "range": [
          -2,
          2
         ],
         "showgrid": true,
         "showline": false,
         "showticklabels": true,
         "tickcolor": "rgb(127,127,127)",
         "ticks": "outside",
         "title": "Net Value ($)",
         "zeroline": false
        },
        "yaxis1": {
         "anchor": "x1",
         "gridcolor": "rgb(255,255,255)",
         "range": [
          0
         ],
         "showgrid": true,
         "showline": false,
         "showticklabels": true,
         "tickcolor": "rgb(127,127,127)",
         "ticks": "outside",
         "title": "RT (s)",
         "zeroline": false
        },
        "yaxis2": {
         "anchor": "x2",
         "gridcolor": "rgb(255,255,255)",
         "range": [
          0
         ],
         "showgrid": true,
         "showline": false,
         "showticklabels": true,
         "tickcolor": "rgb(127,127,127)",
         "ticks": "outside",
         "title": "p (accept)",
         "zeroline": false
        }
       }
      },
      "text/html": [
       "<div id=\"8033ec1f-d3f0-4278-a763-c40f16c8e12d\" style=\"height: 525px; width: 100%;\" class=\"plotly-graph-div\"></div><script type=\"text/javascript\">require([\"plotly\"], function(Plotly) { window.PLOTLYENV=window.PLOTLYENV || {};window.PLOTLYENV.BASE_URL=\"https://plot.ly\";Plotly.newPlot(\"8033ec1f-d3f0-4278-a763-c40f16c8e12d\", [{\"type\": \"scatter\", \"x\": [-1.8000000000000003, -0.794705882352941, -0.30916666666666665, 0.02689655172413791, 0.36647058823529405, 0.7600000000000001, 1.8549999999999998], \"y\": [2.7815451622314686, 2.837450211625068, 3.147442831504614, 3.4559793460096695, 3.6884238950389556, 3.405157981194673, 3.008541587551078], \"error_y\": {\"type\": \"data\", \"array\": [0.32129862347532606, 0.4621315558721299, 0.19224839363799817, 0.3279100582633189, 0.4583042004716843, 0.4294987771298358, 0.29206220534775756], \"color\": \"rgb(0,170,80)\", \"visible\": true}, \"line\": {\"color\": \"rgb(0,100,80)\"}, \"mode\": \"lines+markers\", \"name\": \"Test Data\"}, {\"type\": \"scatter\", \"x\": [-1.8000000000000003, -0.794705882352941, -0.30916666666666665, 0.02689655172413791, 0.36647058823529405, 0.7600000000000001, 1.8549999999999998], \"y\": [3.2760060978072088, 3.9700998652951522, 4.3718915266453084, 4.316731099305286, 4.488474354030092, 4.010873523109898, 3.0903458866176656], \"error_y\": {\"type\": \"data\", \"array\": [0.010727979542169504, 0.016826270873400856, 0.015405563825983255, 0.01402267516401392, 0.01847305966157353, 0.01698459376673196, 0.011516658676382607], \"color\": \"rgb(0,100,246)\", \"visible\": true}, \"line\": {\"color\": \"rgb(0,176,246)\"}, \"mode\": \"lines+markers\", \"name\": \"Sim Data\"}, {\"type\": \"scatter\", \"x\": [-1.8000000000000003, -0.794705882352941, -0.30916666666666665, 0.02689655172413791, 0.36647058823529405, 0.7600000000000001, 1.8549999999999998], \"y\": [0.0, 0.17647058823529413, 0.3333333333333333, 0.6206896551724138, 1.0, 0.9411764705882353, 1.0], \"error_y\": {\"type\": \"data\", \"array\": [0.0, 0.09530501027070383, 0.09829463743659811, 0.09169709590633639, 0.0, 0.058823529411764705, 0.0], \"color\": \"rgb(0,170,80)\", \"visible\": true}, \"line\": {\"color\": \"rgb(0,100,80)\"}, \"mode\": \"lines+markers\", \"name\": \"Test Data\", \"xaxis\": \"x2\", \"yaxis\": \"y2\"}, {\"type\": \"scatter\", \"x\": [-1.8000000000000003, -0.794705882352941, -0.30916666666666665, 0.02689655172413791, 0.36647058823529405, 0.7600000000000001, 1.8549999999999998], \"y\": [0.046036425311957355, 0.21705853539064413, 0.2935717825127258, 0.47386410075417024, 0.6734798817328705, 0.8208754208754209, 0.9683818346591482], \"error_y\": {\"type\": \"data\", \"array\": [0.0013317534586827287, 0.003225868737343422, 0.003056569326486496, 0.003043481121316205, 0.0037597101096875315, 0.0030003363376012297, 0.0012416268468395542], \"color\": \"rgb(0,100,246)\", \"visible\": true}, \"line\": {\"color\": \"rgb(0,176,246)\"}, \"mode\": \"lines+markers\", \"name\": \"Sim Data\", \"xaxis\": \"x2\", \"yaxis\": \"y2\"}], {\"paper_bgcolor\": \"rgb(255,255,255)\", \"plot_bgcolor\": \"rgb(229,229,229)\", \"xaxis\": {\"gridcolor\": \"rgb(255,255,255)\", \"range\": [-2, 2], \"domain\": [0, 0.45], \"showgrid\": true, \"showline\": false, \"showticklabels\": true, \"tickcolor\": \"rgb(127,127,127)\", \"ticks\": \"outside\", \"title\": \"Net Value ($)\", \"zeroline\": false}, \"xaxis2\": {\"gridcolor\": \"rgb(255,255,255)\", \"range\": [-2, 2], \"domain\": [0.55, 1], \"showgrid\": true, \"showline\": false, \"showticklabels\": true, \"tickcolor\": \"rgb(127,127,127)\", \"ticks\": \"outside\", \"title\": \"Net Value ($)\", \"zeroline\": false}, \"yaxis1\": {\"gridcolor\": \"rgb(255,255,255)\", \"range\": [0], \"showgrid\": true, \"showline\": false, \"showticklabels\": true, \"tickcolor\": \"rgb(127,127,127)\", \"ticks\": \"outside\", \"title\": \"RT (s)\", \"anchor\": \"x1\", \"zeroline\": false}, \"yaxis2\": {\"gridcolor\": \"rgb(255,255,255)\", \"range\": [0], \"showgrid\": true, \"showline\": false, \"showticklabels\": true, \"tickcolor\": \"rgb(127,127,127)\", \"ticks\": \"outside\", \"title\": \"p (accept)\", \"anchor\": \"x2\", \"zeroline\": false}, \"annotations\": [{\"x\": 0.01, \"y\": 1.12, \"showarrow\": false, \"text\": \"PARAMETERS: v: 0.093, a: 0.221, \\u03b8: 0.1\", \"xref\": \"paper\", \"yref\": \"paper\"}, {\"x\": 0.01, \"y\": 1.08, \"showarrow\": false, \"text\": \"MLE: 659.51\", \"xref\": \"paper\", \"yref\": \"paper\"}, {\"x\": 0.01, \"y\": 1.2, \"showarrow\": false, \"text\": \"SUBJECT: 4\", \"font\": {\"family\": \"Arial, sans-serif\", \"size\": 22}, \"xref\": \"paper\", \"yref\": \"paper\"}]}, {\"showLink\": true, \"linkText\": \"Export to plot.ly\"})});</script>"
      ],
      "text/vnd.plotly.v1+html": [
       "<div id=\"8033ec1f-d3f0-4278-a763-c40f16c8e12d\" style=\"height: 525px; width: 100%;\" class=\"plotly-graph-div\"></div><script type=\"text/javascript\">require([\"plotly\"], function(Plotly) { window.PLOTLYENV=window.PLOTLYENV || {};window.PLOTLYENV.BASE_URL=\"https://plot.ly\";Plotly.newPlot(\"8033ec1f-d3f0-4278-a763-c40f16c8e12d\", [{\"type\": \"scatter\", \"x\": [-1.8000000000000003, -0.794705882352941, -0.30916666666666665, 0.02689655172413791, 0.36647058823529405, 0.7600000000000001, 1.8549999999999998], \"y\": [2.7815451622314686, 2.837450211625068, 3.147442831504614, 3.4559793460096695, 3.6884238950389556, 3.405157981194673, 3.008541587551078], \"error_y\": {\"type\": \"data\", \"array\": [0.32129862347532606, 0.4621315558721299, 0.19224839363799817, 0.3279100582633189, 0.4583042004716843, 0.4294987771298358, 0.29206220534775756], \"color\": \"rgb(0,170,80)\", \"visible\": true}, \"line\": {\"color\": \"rgb(0,100,80)\"}, \"mode\": \"lines+markers\", \"name\": \"Test Data\"}, {\"type\": \"scatter\", \"x\": [-1.8000000000000003, -0.794705882352941, -0.30916666666666665, 0.02689655172413791, 0.36647058823529405, 0.7600000000000001, 1.8549999999999998], \"y\": [3.2760060978072088, 3.9700998652951522, 4.3718915266453084, 4.316731099305286, 4.488474354030092, 4.010873523109898, 3.0903458866176656], \"error_y\": {\"type\": \"data\", \"array\": [0.010727979542169504, 0.016826270873400856, 0.015405563825983255, 0.01402267516401392, 0.01847305966157353, 0.01698459376673196, 0.011516658676382607], \"color\": \"rgb(0,100,246)\", \"visible\": true}, \"line\": {\"color\": \"rgb(0,176,246)\"}, \"mode\": \"lines+markers\", \"name\": \"Sim Data\"}, {\"type\": \"scatter\", \"x\": [-1.8000000000000003, -0.794705882352941, -0.30916666666666665, 0.02689655172413791, 0.36647058823529405, 0.7600000000000001, 1.8549999999999998], \"y\": [0.0, 0.17647058823529413, 0.3333333333333333, 0.6206896551724138, 1.0, 0.9411764705882353, 1.0], \"error_y\": {\"type\": \"data\", \"array\": [0.0, 0.09530501027070383, 0.09829463743659811, 0.09169709590633639, 0.0, 0.058823529411764705, 0.0], \"color\": \"rgb(0,170,80)\", \"visible\": true}, \"line\": {\"color\": \"rgb(0,100,80)\"}, \"mode\": \"lines+markers\", \"name\": \"Test Data\", \"xaxis\": \"x2\", \"yaxis\": \"y2\"}, {\"type\": \"scatter\", \"x\": [-1.8000000000000003, -0.794705882352941, -0.30916666666666665, 0.02689655172413791, 0.36647058823529405, 0.7600000000000001, 1.8549999999999998], \"y\": [0.046036425311957355, 0.21705853539064413, 0.2935717825127258, 0.47386410075417024, 0.6734798817328705, 0.8208754208754209, 0.9683818346591482], \"error_y\": {\"type\": \"data\", \"array\": [0.0013317534586827287, 0.003225868737343422, 0.003056569326486496, 0.003043481121316205, 0.0037597101096875315, 0.0030003363376012297, 0.0012416268468395542], \"color\": \"rgb(0,100,246)\", \"visible\": true}, \"line\": {\"color\": \"rgb(0,176,246)\"}, \"mode\": \"lines+markers\", \"name\": \"Sim Data\", \"xaxis\": \"x2\", \"yaxis\": \"y2\"}], {\"paper_bgcolor\": \"rgb(255,255,255)\", \"plot_bgcolor\": \"rgb(229,229,229)\", \"xaxis\": {\"gridcolor\": \"rgb(255,255,255)\", \"range\": [-2, 2], \"domain\": [0, 0.45], \"showgrid\": true, \"showline\": false, \"showticklabels\": true, \"tickcolor\": \"rgb(127,127,127)\", \"ticks\": \"outside\", \"title\": \"Net Value ($)\", \"zeroline\": false}, \"xaxis2\": {\"gridcolor\": \"rgb(255,255,255)\", \"range\": [-2, 2], \"domain\": [0.55, 1], \"showgrid\": true, \"showline\": false, \"showticklabels\": true, \"tickcolor\": \"rgb(127,127,127)\", \"ticks\": \"outside\", \"title\": \"Net Value ($)\", \"zeroline\": false}, \"yaxis1\": {\"gridcolor\": \"rgb(255,255,255)\", \"range\": [0], \"showgrid\": true, \"showline\": false, \"showticklabels\": true, \"tickcolor\": \"rgb(127,127,127)\", \"ticks\": \"outside\", \"title\": \"RT (s)\", \"anchor\": \"x1\", \"zeroline\": false}, \"yaxis2\": {\"gridcolor\": \"rgb(255,255,255)\", \"range\": [0], \"showgrid\": true, \"showline\": false, \"showticklabels\": true, \"tickcolor\": \"rgb(127,127,127)\", \"ticks\": \"outside\", \"title\": \"p (accept)\", \"anchor\": \"x2\", \"zeroline\": false}, \"annotations\": [{\"x\": 0.01, \"y\": 1.12, \"showarrow\": false, \"text\": \"PARAMETERS: v: 0.093, a: 0.221, \\u03b8: 0.1\", \"xref\": \"paper\", \"yref\": \"paper\"}, {\"x\": 0.01, \"y\": 1.08, \"showarrow\": false, \"text\": \"MLE: 659.51\", \"xref\": \"paper\", \"yref\": \"paper\"}, {\"x\": 0.01, \"y\": 1.2, \"showarrow\": false, \"text\": \"SUBJECT: 4\", \"font\": {\"family\": \"Arial, sans-serif\", \"size\": 22}, \"xref\": \"paper\", \"yref\": \"paper\"}]}, {\"showLink\": true, \"linkText\": \"Export to plot.ly\"})});</script>"
      ]
     },
     "metadata": {},
     "output_type": "display_data"
    },
    {
     "data": {
      "application/vnd.plotly.v1+json": {
       "data": [
        {
         "error_y": {
          "array": [
           0.43652290284311895,
           0.4588543594408193,
           0.6510247468906654,
           0.4874124659011055,
           0.5617907614621263,
           0.5107022575949373,
           0.36889572077866983
          ],
          "color": "rgb(0,170,80)",
          "type": "data",
          "visible": true
         },
         "line": {
          "color": "rgb(0,100,80)"
         },
         "mode": "lines+markers",
         "name": "Test Data",
         "type": "scatter",
         "x": [
          -1.4966666666666668,
          -0.783846153846154,
          -0.30333333333333334,
          0.03388888888888884,
          0.2921052631578947,
          0.8042105263157895,
          1.7595652173913043
         ],
         "y": [
          3.423899667376167,
          3.401024153188212,
          4.407860365049903,
          3.541552219000348,
          5.122741953856109,
          3.9032685718492233,
          3.2135488630439952
         ]
        },
        {
         "error_y": {
          "array": [
           0.018341972327179965,
           0.021701498469249306,
           0.020421464131375553,
           0.018664610505949943,
           0.017967227433871514,
           0.018035818267479894,
           0.01623244132226165
          ],
          "color": "rgb(0,100,246)",
          "type": "data",
          "visible": true
         },
         "line": {
          "color": "rgb(0,176,246)"
         },
         "mode": "lines+markers",
         "name": "Sim Data",
         "type": "scatter",
         "x": [
          -1.4966666666666668,
          -0.783846153846154,
          -0.30333333333333334,
          0.03388888888888884,
          0.2921052631578947,
          0.8042105263157895,
          1.7595652173913043
         ],
         "y": [
          4.615903993098387,
          4.684301440773031,
          4.684656855383684,
          4.69044580789831,
          4.6490115017105245,
          4.687305996472669,
          4.625856449675732
         ]
        },
        {
         "error_y": {
          "array": [
           0.05555555555555556,
           0.13323467750529824,
           0.06666666666666665,
           0.1086324845659782,
           0.1176877882894626,
           0.0723351864143449,
           0.08081046758996394
          ],
          "color": "rgb(0,170,80)",
          "type": "data",
          "visible": true
         },
         "line": {
          "color": "rgb(0,100,80)"
         },
         "mode": "lines+markers",
         "name": "Test Data",
         "type": "scatter",
         "x": [
          -1.4966666666666668,
          -0.783846153846154,
          -0.30333333333333334,
          0.03388888888888884,
          0.2921052631578947,
          0.8042105263157895,
          1.7595652173913043
         ],
         "xaxis": "x2",
         "y": [
          0.05555555555555555,
          0.3076923076923077,
          0.06666666666666667,
          0.7222222222222222,
          0.47368421052631576,
          0.8947368421052632,
          0.8260869565217391
         ],
         "yaxis": "y2"
        },
        {
         "error_y": {
          "array": [
           0.0037554077349487135,
           0.00459398366490959,
           0.004319601687272362,
           0.003946315289988327,
           0.0038325387393536646,
           0.0037841852347623877,
           0.0032802991208537528
          ],
          "color": "rgb(0,100,246)",
          "type": "data",
          "visible": true
         },
         "line": {
          "color": "rgb(0,176,246)"
         },
         "mode": "lines+markers",
         "name": "Sim Data",
         "type": "scatter",
         "x": [
          -1.4966666666666668,
          -0.783846153846154,
          -0.30333333333333334,
          0.03388888888888884,
          0.2921052631578947,
          0.8042105263157895,
          1.7595652173913043
         ],
         "xaxis": "x2",
         "y": [
          0.35457234409662314,
          0.4265378310758347,
          0.4610301847124193,
          0.5003737386321166,
          0.5314380087295033,
          0.5801881246325691,
          0.6613499879894307
         ],
         "yaxis": "y2"
        }
       ],
       "layout": {
        "annotations": [
         {
          "showarrow": false,
          "text": "PARAMETERS: v: 0.01, a: 0.221, θ: 0.775",
          "x": 0.01,
          "xref": "paper",
          "y": 1.12,
          "yref": "paper"
         },
         {
          "showarrow": false,
          "text": "MLE: 775.5",
          "x": 0.01,
          "xref": "paper",
          "y": 1.08,
          "yref": "paper"
         },
         {
          "font": {
           "family": "Arial, sans-serif",
           "size": 22
          },
          "showarrow": false,
          "text": "SUBJECT: 5",
          "x": 0.01,
          "xref": "paper",
          "y": 1.2,
          "yref": "paper"
         }
        ],
        "paper_bgcolor": "rgb(255,255,255)",
        "plot_bgcolor": "rgb(229,229,229)",
        "xaxis": {
         "domain": [
          0,
          0.45
         ],
         "gridcolor": "rgb(255,255,255)",
         "range": [
          -2,
          2
         ],
         "showgrid": true,
         "showline": false,
         "showticklabels": true,
         "tickcolor": "rgb(127,127,127)",
         "ticks": "outside",
         "title": "Net Value ($)",
         "zeroline": false
        },
        "xaxis2": {
         "domain": [
          0.55,
          1
         ],
         "gridcolor": "rgb(255,255,255)",
         "range": [
          -2,
          2
         ],
         "showgrid": true,
         "showline": false,
         "showticklabels": true,
         "tickcolor": "rgb(127,127,127)",
         "ticks": "outside",
         "title": "Net Value ($)",
         "zeroline": false
        },
        "yaxis1": {
         "anchor": "x1",
         "gridcolor": "rgb(255,255,255)",
         "range": [
          0
         ],
         "showgrid": true,
         "showline": false,
         "showticklabels": true,
         "tickcolor": "rgb(127,127,127)",
         "ticks": "outside",
         "title": "RT (s)",
         "zeroline": false
        },
        "yaxis2": {
         "anchor": "x2",
         "gridcolor": "rgb(255,255,255)",
         "range": [
          0
         ],
         "showgrid": true,
         "showline": false,
         "showticklabels": true,
         "tickcolor": "rgb(127,127,127)",
         "ticks": "outside",
         "title": "p (accept)",
         "zeroline": false
        }
       }
      },
      "text/html": [
       "<div id=\"7d6d072e-b2e4-4ce4-9fa2-6383351e48a0\" style=\"height: 525px; width: 100%;\" class=\"plotly-graph-div\"></div><script type=\"text/javascript\">require([\"plotly\"], function(Plotly) { window.PLOTLYENV=window.PLOTLYENV || {};window.PLOTLYENV.BASE_URL=\"https://plot.ly\";Plotly.newPlot(\"7d6d072e-b2e4-4ce4-9fa2-6383351e48a0\", [{\"type\": \"scatter\", \"x\": [-1.4966666666666668, -0.783846153846154, -0.30333333333333334, 0.03388888888888884, 0.2921052631578947, 0.8042105263157895, 1.7595652173913043], \"y\": [3.423899667376167, 3.401024153188212, 4.407860365049903, 3.541552219000348, 5.122741953856109, 3.9032685718492233, 3.2135488630439952], \"error_y\": {\"type\": \"data\", \"array\": [0.43652290284311895, 0.4588543594408193, 0.6510247468906654, 0.4874124659011055, 0.5617907614621263, 0.5107022575949373, 0.36889572077866983], \"color\": \"rgb(0,170,80)\", \"visible\": true}, \"line\": {\"color\": \"rgb(0,100,80)\"}, \"mode\": \"lines+markers\", \"name\": \"Test Data\"}, {\"type\": \"scatter\", \"x\": [-1.4966666666666668, -0.783846153846154, -0.30333333333333334, 0.03388888888888884, 0.2921052631578947, 0.8042105263157895, 1.7595652173913043], \"y\": [4.615903993098387, 4.684301440773031, 4.684656855383684, 4.69044580789831, 4.6490115017105245, 4.687305996472669, 4.625856449675732], \"error_y\": {\"type\": \"data\", \"array\": [0.018341972327179965, 0.021701498469249306, 0.020421464131375553, 0.018664610505949943, 0.017967227433871514, 0.018035818267479894, 0.01623244132226165], \"color\": \"rgb(0,100,246)\", \"visible\": true}, \"line\": {\"color\": \"rgb(0,176,246)\"}, \"mode\": \"lines+markers\", \"name\": \"Sim Data\"}, {\"type\": \"scatter\", \"x\": [-1.4966666666666668, -0.783846153846154, -0.30333333333333334, 0.03388888888888884, 0.2921052631578947, 0.8042105263157895, 1.7595652173913043], \"y\": [0.05555555555555555, 0.3076923076923077, 0.06666666666666667, 0.7222222222222222, 0.47368421052631576, 0.8947368421052632, 0.8260869565217391], \"error_y\": {\"type\": \"data\", \"array\": [0.05555555555555556, 0.13323467750529824, 0.06666666666666665, 0.1086324845659782, 0.1176877882894626, 0.0723351864143449, 0.08081046758996394], \"color\": \"rgb(0,170,80)\", \"visible\": true}, \"line\": {\"color\": \"rgb(0,100,80)\"}, \"mode\": \"lines+markers\", \"name\": \"Test Data\", \"xaxis\": \"x2\", \"yaxis\": \"y2\"}, {\"type\": \"scatter\", \"x\": [-1.4966666666666668, -0.783846153846154, -0.30333333333333334, 0.03388888888888884, 0.2921052631578947, 0.8042105263157895, 1.7595652173913043], \"y\": [0.35457234409662314, 0.4265378310758347, 0.4610301847124193, 0.5003737386321166, 0.5314380087295033, 0.5801881246325691, 0.6613499879894307], \"error_y\": {\"type\": \"data\", \"array\": [0.0037554077349487135, 0.00459398366490959, 0.004319601687272362, 0.003946315289988327, 0.0038325387393536646, 0.0037841852347623877, 0.0032802991208537528], \"color\": \"rgb(0,100,246)\", \"visible\": true}, \"line\": {\"color\": \"rgb(0,176,246)\"}, \"mode\": \"lines+markers\", \"name\": \"Sim Data\", \"xaxis\": \"x2\", \"yaxis\": \"y2\"}], {\"paper_bgcolor\": \"rgb(255,255,255)\", \"plot_bgcolor\": \"rgb(229,229,229)\", \"xaxis\": {\"gridcolor\": \"rgb(255,255,255)\", \"range\": [-2, 2], \"domain\": [0, 0.45], \"showgrid\": true, \"showline\": false, \"showticklabels\": true, \"tickcolor\": \"rgb(127,127,127)\", \"ticks\": \"outside\", \"title\": \"Net Value ($)\", \"zeroline\": false}, \"xaxis2\": {\"gridcolor\": \"rgb(255,255,255)\", \"range\": [-2, 2], \"domain\": [0.55, 1], \"showgrid\": true, \"showline\": false, \"showticklabels\": true, \"tickcolor\": \"rgb(127,127,127)\", \"ticks\": \"outside\", \"title\": \"Net Value ($)\", \"zeroline\": false}, \"yaxis1\": {\"gridcolor\": \"rgb(255,255,255)\", \"range\": [0], \"showgrid\": true, \"showline\": false, \"showticklabels\": true, \"tickcolor\": \"rgb(127,127,127)\", \"ticks\": \"outside\", \"title\": \"RT (s)\", \"anchor\": \"x1\", \"zeroline\": false}, \"yaxis2\": {\"gridcolor\": \"rgb(255,255,255)\", \"range\": [0], \"showgrid\": true, \"showline\": false, \"showticklabels\": true, \"tickcolor\": \"rgb(127,127,127)\", \"ticks\": \"outside\", \"title\": \"p (accept)\", \"anchor\": \"x2\", \"zeroline\": false}, \"annotations\": [{\"x\": 0.01, \"y\": 1.12, \"showarrow\": false, \"text\": \"PARAMETERS: v: 0.01, a: 0.221, \\u03b8: 0.775\", \"xref\": \"paper\", \"yref\": \"paper\"}, {\"x\": 0.01, \"y\": 1.08, \"showarrow\": false, \"text\": \"MLE: 775.5\", \"xref\": \"paper\", \"yref\": \"paper\"}, {\"x\": 0.01, \"y\": 1.2, \"showarrow\": false, \"text\": \"SUBJECT: 5\", \"font\": {\"family\": \"Arial, sans-serif\", \"size\": 22}, \"xref\": \"paper\", \"yref\": \"paper\"}]}, {\"showLink\": true, \"linkText\": \"Export to plot.ly\"})});</script>"
      ],
      "text/vnd.plotly.v1+html": [
       "<div id=\"7d6d072e-b2e4-4ce4-9fa2-6383351e48a0\" style=\"height: 525px; width: 100%;\" class=\"plotly-graph-div\"></div><script type=\"text/javascript\">require([\"plotly\"], function(Plotly) { window.PLOTLYENV=window.PLOTLYENV || {};window.PLOTLYENV.BASE_URL=\"https://plot.ly\";Plotly.newPlot(\"7d6d072e-b2e4-4ce4-9fa2-6383351e48a0\", [{\"type\": \"scatter\", \"x\": [-1.4966666666666668, -0.783846153846154, -0.30333333333333334, 0.03388888888888884, 0.2921052631578947, 0.8042105263157895, 1.7595652173913043], \"y\": [3.423899667376167, 3.401024153188212, 4.407860365049903, 3.541552219000348, 5.122741953856109, 3.9032685718492233, 3.2135488630439952], \"error_y\": {\"type\": \"data\", \"array\": [0.43652290284311895, 0.4588543594408193, 0.6510247468906654, 0.4874124659011055, 0.5617907614621263, 0.5107022575949373, 0.36889572077866983], \"color\": \"rgb(0,170,80)\", \"visible\": true}, \"line\": {\"color\": \"rgb(0,100,80)\"}, \"mode\": \"lines+markers\", \"name\": \"Test Data\"}, {\"type\": \"scatter\", \"x\": [-1.4966666666666668, -0.783846153846154, -0.30333333333333334, 0.03388888888888884, 0.2921052631578947, 0.8042105263157895, 1.7595652173913043], \"y\": [4.615903993098387, 4.684301440773031, 4.684656855383684, 4.69044580789831, 4.6490115017105245, 4.687305996472669, 4.625856449675732], \"error_y\": {\"type\": \"data\", \"array\": [0.018341972327179965, 0.021701498469249306, 0.020421464131375553, 0.018664610505949943, 0.017967227433871514, 0.018035818267479894, 0.01623244132226165], \"color\": \"rgb(0,100,246)\", \"visible\": true}, \"line\": {\"color\": \"rgb(0,176,246)\"}, \"mode\": \"lines+markers\", \"name\": \"Sim Data\"}, {\"type\": \"scatter\", \"x\": [-1.4966666666666668, -0.783846153846154, -0.30333333333333334, 0.03388888888888884, 0.2921052631578947, 0.8042105263157895, 1.7595652173913043], \"y\": [0.05555555555555555, 0.3076923076923077, 0.06666666666666667, 0.7222222222222222, 0.47368421052631576, 0.8947368421052632, 0.8260869565217391], \"error_y\": {\"type\": \"data\", \"array\": [0.05555555555555556, 0.13323467750529824, 0.06666666666666665, 0.1086324845659782, 0.1176877882894626, 0.0723351864143449, 0.08081046758996394], \"color\": \"rgb(0,170,80)\", \"visible\": true}, \"line\": {\"color\": \"rgb(0,100,80)\"}, \"mode\": \"lines+markers\", \"name\": \"Test Data\", \"xaxis\": \"x2\", \"yaxis\": \"y2\"}, {\"type\": \"scatter\", \"x\": [-1.4966666666666668, -0.783846153846154, -0.30333333333333334, 0.03388888888888884, 0.2921052631578947, 0.8042105263157895, 1.7595652173913043], \"y\": [0.35457234409662314, 0.4265378310758347, 0.4610301847124193, 0.5003737386321166, 0.5314380087295033, 0.5801881246325691, 0.6613499879894307], \"error_y\": {\"type\": \"data\", \"array\": [0.0037554077349487135, 0.00459398366490959, 0.004319601687272362, 0.003946315289988327, 0.0038325387393536646, 0.0037841852347623877, 0.0032802991208537528], \"color\": \"rgb(0,100,246)\", \"visible\": true}, \"line\": {\"color\": \"rgb(0,176,246)\"}, \"mode\": \"lines+markers\", \"name\": \"Sim Data\", \"xaxis\": \"x2\", \"yaxis\": \"y2\"}], {\"paper_bgcolor\": \"rgb(255,255,255)\", \"plot_bgcolor\": \"rgb(229,229,229)\", \"xaxis\": {\"gridcolor\": \"rgb(255,255,255)\", \"range\": [-2, 2], \"domain\": [0, 0.45], \"showgrid\": true, \"showline\": false, \"showticklabels\": true, \"tickcolor\": \"rgb(127,127,127)\", \"ticks\": \"outside\", \"title\": \"Net Value ($)\", \"zeroline\": false}, \"xaxis2\": {\"gridcolor\": \"rgb(255,255,255)\", \"range\": [-2, 2], \"domain\": [0.55, 1], \"showgrid\": true, \"showline\": false, \"showticklabels\": true, \"tickcolor\": \"rgb(127,127,127)\", \"ticks\": \"outside\", \"title\": \"Net Value ($)\", \"zeroline\": false}, \"yaxis1\": {\"gridcolor\": \"rgb(255,255,255)\", \"range\": [0], \"showgrid\": true, \"showline\": false, \"showticklabels\": true, \"tickcolor\": \"rgb(127,127,127)\", \"ticks\": \"outside\", \"title\": \"RT (s)\", \"anchor\": \"x1\", \"zeroline\": false}, \"yaxis2\": {\"gridcolor\": \"rgb(255,255,255)\", \"range\": [0], \"showgrid\": true, \"showline\": false, \"showticklabels\": true, \"tickcolor\": \"rgb(127,127,127)\", \"ticks\": \"outside\", \"title\": \"p (accept)\", \"anchor\": \"x2\", \"zeroline\": false}, \"annotations\": [{\"x\": 0.01, \"y\": 1.12, \"showarrow\": false, \"text\": \"PARAMETERS: v: 0.01, a: 0.221, \\u03b8: 0.775\", \"xref\": \"paper\", \"yref\": \"paper\"}, {\"x\": 0.01, \"y\": 1.08, \"showarrow\": false, \"text\": \"MLE: 775.5\", \"xref\": \"paper\", \"yref\": \"paper\"}, {\"x\": 0.01, \"y\": 1.2, \"showarrow\": false, \"text\": \"SUBJECT: 5\", \"font\": {\"family\": \"Arial, sans-serif\", \"size\": 22}, \"xref\": \"paper\", \"yref\": \"paper\"}]}, {\"showLink\": true, \"linkText\": \"Export to plot.ly\"})});</script>"
      ]
     },
     "metadata": {},
     "output_type": "display_data"
    },
    {
     "data": {
      "application/vnd.plotly.v1+json": {
       "data": [
        {
         "error_y": {
          "array": [
           0.45266461126802543,
           0.5820686014296277,
           0.2925565576390161,
           0.38239940827710045,
           0.37396278789496307,
           0.3540266022245862,
           0.29760271919607933
          ],
          "color": "rgb(0,170,80)",
          "type": "data",
          "visible": true
         },
         "line": {
          "color": "rgb(0,100,80)"
         },
         "mode": "lines+markers",
         "name": "Test Data",
         "type": "scatter",
         "x": [
          -1.5533333333333337,
          -0.8073333333333333,
          -0.2930434782608696,
          0.018999999999999972,
          0.2958333333333334,
          0.7423809523809526,
          1.5522222222222217
         ],
         "y": [
          3.4658348341654346,
          4.5258351827066985,
          4.0977258159384835,
          4.511248517947024,
          3.7386210568985607,
          3.5870816074018967,
          3.2126224060278523
         ]
        },
        {
         "error_y": {
          "array": [
           0.0200932220530835,
           0.020359038987522837,
           0.01660035709970241,
           0.01763776053673017,
           0.016111296836452436,
           0.017160441736766452,
           0.014996847905892098
          ],
          "color": "rgb(0,100,246)",
          "type": "data",
          "visible": true
         },
         "line": {
          "color": "rgb(0,176,246)"
         },
         "mode": "lines+markers",
         "name": "Sim Data",
         "type": "scatter",
         "x": [
          -1.5533333333333337,
          -0.8073333333333333,
          -0.2930434782608696,
          0.018999999999999972,
          0.2958333333333334,
          0.7423809523809526,
          1.5522222222222217
         ],
         "y": [
          4.620071244192054,
          4.711865756879011,
          4.700160472149053,
          4.691084000223816,
          4.682822430774929,
          4.662187686408172,
          4.620685536394549
         ]
        },
        {
         "error_y": {
          "array": [
           0,
           0.06666666666666665,
           0.0981001869248289,
           0.11413288653790231,
           0.0902893898143269,
           0.06563832739090582,
           0.037037037037037035
          ],
          "color": "rgb(0,170,80)",
          "type": "data",
          "visible": true
         },
         "line": {
          "color": "rgb(0,100,80)"
         },
         "mode": "lines+markers",
         "name": "Test Data",
         "type": "scatter",
         "x": [
          -1.5533333333333337,
          -0.8073333333333333,
          -0.2930434782608696,
          0.018999999999999972,
          0.2958333333333334,
          0.7423809523809526,
          1.5522222222222217
         ],
         "xaxis": "x2",
         "y": [
          0,
          0.06666666666666667,
          0.30434782608695654,
          0.55,
          0.75,
          0.9047619047619048,
          0.9629629629629629
         ],
         "yaxis": "y2"
        },
        {
         "error_y": {
          "array": [
           0.0040702141990279425,
           0.004233846950172476,
           0.0034855697361065373,
           0.0037405183268434993,
           0.003400911529812688,
           0.0036058091291522954,
           0.0030186268961722353
          ],
          "color": "rgb(0,100,246)",
          "type": "data",
          "visible": true
         },
         "line": {
          "color": "rgb(0,176,246)"
         },
         "mode": "lines+markers",
         "name": "Sim Data",
         "type": "scatter",
         "x": [
          -1.5533333333333337,
          -0.8073333333333333,
          -0.2930434782608696,
          0.018999999999999972,
          0.2958333333333334,
          0.7423809523809526,
          1.5522222222222217
         ],
         "xaxis": "x2",
         "y": [
          0.34065934065934067,
          0.4087369279833865,
          0.46951516925178033,
          0.5005316469864011,
          0.5325682958557889,
          0.5767469109501491,
          0.6659976242166059
         ],
         "yaxis": "y2"
        }
       ],
       "layout": {
        "annotations": [
         {
          "showarrow": false,
          "text": "PARAMETERS: v: 0.01, a: 0.221, θ: 1.0",
          "x": 0.01,
          "xref": "paper",
          "y": 1.12,
          "yref": "paper"
         },
         {
          "showarrow": false,
          "text": "MLE: 710.69",
          "x": 0.01,
          "xref": "paper",
          "y": 1.08,
          "yref": "paper"
         },
         {
          "font": {
           "family": "Arial, sans-serif",
           "size": 22
          },
          "showarrow": false,
          "text": "SUBJECT: 6",
          "x": 0.01,
          "xref": "paper",
          "y": 1.2,
          "yref": "paper"
         }
        ],
        "paper_bgcolor": "rgb(255,255,255)",
        "plot_bgcolor": "rgb(229,229,229)",
        "xaxis": {
         "domain": [
          0,
          0.45
         ],
         "gridcolor": "rgb(255,255,255)",
         "range": [
          -2,
          2
         ],
         "showgrid": true,
         "showline": false,
         "showticklabels": true,
         "tickcolor": "rgb(127,127,127)",
         "ticks": "outside",
         "title": "Net Value ($)",
         "zeroline": false
        },
        "xaxis2": {
         "domain": [
          0.55,
          1
         ],
         "gridcolor": "rgb(255,255,255)",
         "range": [
          -2,
          2
         ],
         "showgrid": true,
         "showline": false,
         "showticklabels": true,
         "tickcolor": "rgb(127,127,127)",
         "ticks": "outside",
         "title": "Net Value ($)",
         "zeroline": false
        },
        "yaxis1": {
         "anchor": "x1",
         "gridcolor": "rgb(255,255,255)",
         "range": [
          0
         ],
         "showgrid": true,
         "showline": false,
         "showticklabels": true,
         "tickcolor": "rgb(127,127,127)",
         "ticks": "outside",
         "title": "RT (s)",
         "zeroline": false
        },
        "yaxis2": {
         "anchor": "x2",
         "gridcolor": "rgb(255,255,255)",
         "range": [
          0
         ],
         "showgrid": true,
         "showline": false,
         "showticklabels": true,
         "tickcolor": "rgb(127,127,127)",
         "ticks": "outside",
         "title": "p (accept)",
         "zeroline": false
        }
       }
      },
      "text/html": [
       "<div id=\"cd43524c-a1d2-45c1-aff3-028223bcaadc\" style=\"height: 525px; width: 100%;\" class=\"plotly-graph-div\"></div><script type=\"text/javascript\">require([\"plotly\"], function(Plotly) { window.PLOTLYENV=window.PLOTLYENV || {};window.PLOTLYENV.BASE_URL=\"https://plot.ly\";Plotly.newPlot(\"cd43524c-a1d2-45c1-aff3-028223bcaadc\", [{\"type\": \"scatter\", \"x\": [-1.5533333333333337, -0.8073333333333333, -0.2930434782608696, 0.018999999999999972, 0.2958333333333334, 0.7423809523809526, 1.5522222222222217], \"y\": [3.4658348341654346, 4.5258351827066985, 4.0977258159384835, 4.511248517947024, 3.7386210568985607, 3.5870816074018967, 3.2126224060278523], \"error_y\": {\"type\": \"data\", \"array\": [0.45266461126802543, 0.5820686014296277, 0.2925565576390161, 0.38239940827710045, 0.37396278789496307, 0.3540266022245862, 0.29760271919607933], \"color\": \"rgb(0,170,80)\", \"visible\": true}, \"line\": {\"color\": \"rgb(0,100,80)\"}, \"mode\": \"lines+markers\", \"name\": \"Test Data\"}, {\"type\": \"scatter\", \"x\": [-1.5533333333333337, -0.8073333333333333, -0.2930434782608696, 0.018999999999999972, 0.2958333333333334, 0.7423809523809526, 1.5522222222222217], \"y\": [4.620071244192054, 4.711865756879011, 4.700160472149053, 4.691084000223816, 4.682822430774929, 4.662187686408172, 4.620685536394549], \"error_y\": {\"type\": \"data\", \"array\": [0.0200932220530835, 0.020359038987522837, 0.01660035709970241, 0.01763776053673017, 0.016111296836452436, 0.017160441736766452, 0.014996847905892098], \"color\": \"rgb(0,100,246)\", \"visible\": true}, \"line\": {\"color\": \"rgb(0,176,246)\"}, \"mode\": \"lines+markers\", \"name\": \"Sim Data\"}, {\"type\": \"scatter\", \"x\": [-1.5533333333333337, -0.8073333333333333, -0.2930434782608696, 0.018999999999999972, 0.2958333333333334, 0.7423809523809526, 1.5522222222222217], \"y\": [0.0, 0.06666666666666667, 0.30434782608695654, 0.55, 0.75, 0.9047619047619048, 0.9629629629629629], \"error_y\": {\"type\": \"data\", \"array\": [0.0, 0.06666666666666665, 0.0981001869248289, 0.11413288653790231, 0.0902893898143269, 0.06563832739090582, 0.037037037037037035], \"color\": \"rgb(0,170,80)\", \"visible\": true}, \"line\": {\"color\": \"rgb(0,100,80)\"}, \"mode\": \"lines+markers\", \"name\": \"Test Data\", \"xaxis\": \"x2\", \"yaxis\": \"y2\"}, {\"type\": \"scatter\", \"x\": [-1.5533333333333337, -0.8073333333333333, -0.2930434782608696, 0.018999999999999972, 0.2958333333333334, 0.7423809523809526, 1.5522222222222217], \"y\": [0.34065934065934067, 0.4087369279833865, 0.46951516925178033, 0.5005316469864011, 0.5325682958557889, 0.5767469109501491, 0.6659976242166059], \"error_y\": {\"type\": \"data\", \"array\": [0.0040702141990279425, 0.004233846950172476, 0.0034855697361065373, 0.0037405183268434993, 0.003400911529812688, 0.0036058091291522954, 0.0030186268961722353], \"color\": \"rgb(0,100,246)\", \"visible\": true}, \"line\": {\"color\": \"rgb(0,176,246)\"}, \"mode\": \"lines+markers\", \"name\": \"Sim Data\", \"xaxis\": \"x2\", \"yaxis\": \"y2\"}], {\"paper_bgcolor\": \"rgb(255,255,255)\", \"plot_bgcolor\": \"rgb(229,229,229)\", \"xaxis\": {\"gridcolor\": \"rgb(255,255,255)\", \"range\": [-2, 2], \"domain\": [0, 0.45], \"showgrid\": true, \"showline\": false, \"showticklabels\": true, \"tickcolor\": \"rgb(127,127,127)\", \"ticks\": \"outside\", \"title\": \"Net Value ($)\", \"zeroline\": false}, \"xaxis2\": {\"gridcolor\": \"rgb(255,255,255)\", \"range\": [-2, 2], \"domain\": [0.55, 1], \"showgrid\": true, \"showline\": false, \"showticklabels\": true, \"tickcolor\": \"rgb(127,127,127)\", \"ticks\": \"outside\", \"title\": \"Net Value ($)\", \"zeroline\": false}, \"yaxis1\": {\"gridcolor\": \"rgb(255,255,255)\", \"range\": [0], \"showgrid\": true, \"showline\": false, \"showticklabels\": true, \"tickcolor\": \"rgb(127,127,127)\", \"ticks\": \"outside\", \"title\": \"RT (s)\", \"anchor\": \"x1\", \"zeroline\": false}, \"yaxis2\": {\"gridcolor\": \"rgb(255,255,255)\", \"range\": [0], \"showgrid\": true, \"showline\": false, \"showticklabels\": true, \"tickcolor\": \"rgb(127,127,127)\", \"ticks\": \"outside\", \"title\": \"p (accept)\", \"anchor\": \"x2\", \"zeroline\": false}, \"annotations\": [{\"x\": 0.01, \"y\": 1.12, \"showarrow\": false, \"text\": \"PARAMETERS: v: 0.01, a: 0.221, \\u03b8: 1.0\", \"xref\": \"paper\", \"yref\": \"paper\"}, {\"x\": 0.01, \"y\": 1.08, \"showarrow\": false, \"text\": \"MLE: 710.69\", \"xref\": \"paper\", \"yref\": \"paper\"}, {\"x\": 0.01, \"y\": 1.2, \"showarrow\": false, \"text\": \"SUBJECT: 6\", \"font\": {\"family\": \"Arial, sans-serif\", \"size\": 22}, \"xref\": \"paper\", \"yref\": \"paper\"}]}, {\"showLink\": true, \"linkText\": \"Export to plot.ly\"})});</script>"
      ],
      "text/vnd.plotly.v1+html": [
       "<div id=\"cd43524c-a1d2-45c1-aff3-028223bcaadc\" style=\"height: 525px; width: 100%;\" class=\"plotly-graph-div\"></div><script type=\"text/javascript\">require([\"plotly\"], function(Plotly) { window.PLOTLYENV=window.PLOTLYENV || {};window.PLOTLYENV.BASE_URL=\"https://plot.ly\";Plotly.newPlot(\"cd43524c-a1d2-45c1-aff3-028223bcaadc\", [{\"type\": \"scatter\", \"x\": [-1.5533333333333337, -0.8073333333333333, -0.2930434782608696, 0.018999999999999972, 0.2958333333333334, 0.7423809523809526, 1.5522222222222217], \"y\": [3.4658348341654346, 4.5258351827066985, 4.0977258159384835, 4.511248517947024, 3.7386210568985607, 3.5870816074018967, 3.2126224060278523], \"error_y\": {\"type\": \"data\", \"array\": [0.45266461126802543, 0.5820686014296277, 0.2925565576390161, 0.38239940827710045, 0.37396278789496307, 0.3540266022245862, 0.29760271919607933], \"color\": \"rgb(0,170,80)\", \"visible\": true}, \"line\": {\"color\": \"rgb(0,100,80)\"}, \"mode\": \"lines+markers\", \"name\": \"Test Data\"}, {\"type\": \"scatter\", \"x\": [-1.5533333333333337, -0.8073333333333333, -0.2930434782608696, 0.018999999999999972, 0.2958333333333334, 0.7423809523809526, 1.5522222222222217], \"y\": [4.620071244192054, 4.711865756879011, 4.700160472149053, 4.691084000223816, 4.682822430774929, 4.662187686408172, 4.620685536394549], \"error_y\": {\"type\": \"data\", \"array\": [0.0200932220530835, 0.020359038987522837, 0.01660035709970241, 0.01763776053673017, 0.016111296836452436, 0.017160441736766452, 0.014996847905892098], \"color\": \"rgb(0,100,246)\", \"visible\": true}, \"line\": {\"color\": \"rgb(0,176,246)\"}, \"mode\": \"lines+markers\", \"name\": \"Sim Data\"}, {\"type\": \"scatter\", \"x\": [-1.5533333333333337, -0.8073333333333333, -0.2930434782608696, 0.018999999999999972, 0.2958333333333334, 0.7423809523809526, 1.5522222222222217], \"y\": [0.0, 0.06666666666666667, 0.30434782608695654, 0.55, 0.75, 0.9047619047619048, 0.9629629629629629], \"error_y\": {\"type\": \"data\", \"array\": [0.0, 0.06666666666666665, 0.0981001869248289, 0.11413288653790231, 0.0902893898143269, 0.06563832739090582, 0.037037037037037035], \"color\": \"rgb(0,170,80)\", \"visible\": true}, \"line\": {\"color\": \"rgb(0,100,80)\"}, \"mode\": \"lines+markers\", \"name\": \"Test Data\", \"xaxis\": \"x2\", \"yaxis\": \"y2\"}, {\"type\": \"scatter\", \"x\": [-1.5533333333333337, -0.8073333333333333, -0.2930434782608696, 0.018999999999999972, 0.2958333333333334, 0.7423809523809526, 1.5522222222222217], \"y\": [0.34065934065934067, 0.4087369279833865, 0.46951516925178033, 0.5005316469864011, 0.5325682958557889, 0.5767469109501491, 0.6659976242166059], \"error_y\": {\"type\": \"data\", \"array\": [0.0040702141990279425, 0.004233846950172476, 0.0034855697361065373, 0.0037405183268434993, 0.003400911529812688, 0.0036058091291522954, 0.0030186268961722353], \"color\": \"rgb(0,100,246)\", \"visible\": true}, \"line\": {\"color\": \"rgb(0,176,246)\"}, \"mode\": \"lines+markers\", \"name\": \"Sim Data\", \"xaxis\": \"x2\", \"yaxis\": \"y2\"}], {\"paper_bgcolor\": \"rgb(255,255,255)\", \"plot_bgcolor\": \"rgb(229,229,229)\", \"xaxis\": {\"gridcolor\": \"rgb(255,255,255)\", \"range\": [-2, 2], \"domain\": [0, 0.45], \"showgrid\": true, \"showline\": false, \"showticklabels\": true, \"tickcolor\": \"rgb(127,127,127)\", \"ticks\": \"outside\", \"title\": \"Net Value ($)\", \"zeroline\": false}, \"xaxis2\": {\"gridcolor\": \"rgb(255,255,255)\", \"range\": [-2, 2], \"domain\": [0.55, 1], \"showgrid\": true, \"showline\": false, \"showticklabels\": true, \"tickcolor\": \"rgb(127,127,127)\", \"ticks\": \"outside\", \"title\": \"Net Value ($)\", \"zeroline\": false}, \"yaxis1\": {\"gridcolor\": \"rgb(255,255,255)\", \"range\": [0], \"showgrid\": true, \"showline\": false, \"showticklabels\": true, \"tickcolor\": \"rgb(127,127,127)\", \"ticks\": \"outside\", \"title\": \"RT (s)\", \"anchor\": \"x1\", \"zeroline\": false}, \"yaxis2\": {\"gridcolor\": \"rgb(255,255,255)\", \"range\": [0], \"showgrid\": true, \"showline\": false, \"showticklabels\": true, \"tickcolor\": \"rgb(127,127,127)\", \"ticks\": \"outside\", \"title\": \"p (accept)\", \"anchor\": \"x2\", \"zeroline\": false}, \"annotations\": [{\"x\": 0.01, \"y\": 1.12, \"showarrow\": false, \"text\": \"PARAMETERS: v: 0.01, a: 0.221, \\u03b8: 1.0\", \"xref\": \"paper\", \"yref\": \"paper\"}, {\"x\": 0.01, \"y\": 1.08, \"showarrow\": false, \"text\": \"MLE: 710.69\", \"xref\": \"paper\", \"yref\": \"paper\"}, {\"x\": 0.01, \"y\": 1.2, \"showarrow\": false, \"text\": \"SUBJECT: 6\", \"font\": {\"family\": \"Arial, sans-serif\", \"size\": 22}, \"xref\": \"paper\", \"yref\": \"paper\"}]}, {\"showLink\": true, \"linkText\": \"Export to plot.ly\"})});</script>"
      ]
     },
     "metadata": {},
     "output_type": "display_data"
    },
    {
     "data": {
      "application/vnd.plotly.v1+json": {
       "data": [
        {
         "error_y": {
          "array": [
           0.21285109200996552,
           0.37714213911916256,
           0.2695708175541002,
           0.2886556556927408,
           0.5229150251484915,
           0.28322585932055555,
           0.37203030071021026
          ],
          "color": "rgb(0,170,80)",
          "type": "data",
          "visible": true
         },
         "line": {
          "color": "rgb(0,100,80)"
         },
         "mode": "lines+markers",
         "name": "Test Data",
         "type": "scatter",
         "x": [
          -1.5631578947368423,
          -0.8114285714285714,
          -0.3247826086956522,
          0.0283333333333333,
          0.30428571428571427,
          0.754,
          1.8863636363636358
         ],
         "y": [
          2.3779431322494173,
          2.821205532013014,
          2.9857144204576356,
          3.3635180042749804,
          3.790879182359278,
          2.77466733810943,
          2.865143027417533
         ]
        },
        {
         "error_y": {
          "array": [
           0.010960469677922892,
           0.012352935572070444,
           0.012745550653499256,
           0.011174036776645323,
           0.016305266435777455,
           0.012899281049790186,
           0.009096272152944255
          ],
          "color": "rgb(0,100,246)",
          "type": "data",
          "visible": true
         },
         "line": {
          "color": "rgb(0,176,246)"
         },
         "mode": "lines+markers",
         "name": "Sim Data",
         "type": "scatter",
         "x": [
          -1.5631578947368423,
          -0.8114285714285714,
          -0.3247826086956522,
          0.0283333333333333,
          0.30428571428571427,
          0.754,
          1.8863636363636358
         ],
         "y": [
          2.7599519489424504,
          3.189707535856476,
          3.370543110288269,
          3.4045614611191883,
          3.382102250524656,
          3.2323803072274044,
          2.5543738160291545
         ]
        },
        {
         "error_y": {
          "array": [
           0,
           0,
           0.060073850409370216,
           0.08211756827352527,
           0.11380392954509881,
           0.04999999999999999,
           0.04545454545454545
          ],
          "color": "rgb(0,170,80)",
          "type": "data",
          "visible": true
         },
         "line": {
          "color": "rgb(0,100,80)"
         },
         "mode": "lines+markers",
         "name": "Test Data",
         "type": "scatter",
         "x": [
          -1.5631578947368423,
          -0.8114285714285714,
          -0.3247826086956522,
          0.0283333333333333,
          0.30428571428571427,
          0.754,
          1.8863636363636358
         ],
         "xaxis": "x2",
         "y": [
          0,
          0,
          0.08695652173913043,
          0.26666666666666666,
          0.7857142857142857,
          0.95,
          0.9545454545454546
         ],
         "yaxis": "y2"
        },
        {
         "error_y": {
          "array": [
           0.0022731747422756864,
           0.0029692103480545916,
           0.00322263871306736,
           0.0029090099359344573,
           0.004142177216460851,
           0.0030575177637359643,
           0.001791250384268461
          ],
          "color": "rgb(0,100,246)",
          "type": "data",
          "visible": true
         },
         "line": {
          "color": "rgb(0,176,246)"
         },
         "mode": "lines+markers",
         "name": "Sim Data",
         "type": "scatter",
         "x": [
          -1.5631578947368423,
          -0.8114285714285714,
          -0.3247826086956522,
          0.0283333333333333,
          0.30428571428571427,
          0.754,
          1.8863636363636358
         ],
         "xaxis": "x2",
         "y": [
          0.11007964555092568,
          0.2426728066388449,
          0.3799700255664286,
          0.5062798334405363,
          0.6136478761125986,
          0.7537647947620246,
          0.9237249544626593
         ],
         "yaxis": "y2"
        }
       ],
       "layout": {
        "annotations": [
         {
          "showarrow": false,
          "text": "PARAMETERS: v: 0.051, a: 0.164, θ: 0.775",
          "x": 0.01,
          "xref": "paper",
          "y": 1.12,
          "yref": "paper"
         },
         {
          "showarrow": false,
          "text": "MLE: 634.4",
          "x": 0.01,
          "xref": "paper",
          "y": 1.08,
          "yref": "paper"
         },
         {
          "font": {
           "family": "Arial, sans-serif",
           "size": 22
          },
          "showarrow": false,
          "text": "SUBJECT: 7",
          "x": 0.01,
          "xref": "paper",
          "y": 1.2,
          "yref": "paper"
         }
        ],
        "paper_bgcolor": "rgb(255,255,255)",
        "plot_bgcolor": "rgb(229,229,229)",
        "xaxis": {
         "domain": [
          0,
          0.45
         ],
         "gridcolor": "rgb(255,255,255)",
         "range": [
          -2,
          2
         ],
         "showgrid": true,
         "showline": false,
         "showticklabels": true,
         "tickcolor": "rgb(127,127,127)",
         "ticks": "outside",
         "title": "Net Value ($)",
         "zeroline": false
        },
        "xaxis2": {
         "domain": [
          0.55,
          1
         ],
         "gridcolor": "rgb(255,255,255)",
         "range": [
          -2,
          2
         ],
         "showgrid": true,
         "showline": false,
         "showticklabels": true,
         "tickcolor": "rgb(127,127,127)",
         "ticks": "outside",
         "title": "Net Value ($)",
         "zeroline": false
        },
        "yaxis1": {
         "anchor": "x1",
         "gridcolor": "rgb(255,255,255)",
         "range": [
          0
         ],
         "showgrid": true,
         "showline": false,
         "showticklabels": true,
         "tickcolor": "rgb(127,127,127)",
         "ticks": "outside",
         "title": "RT (s)",
         "zeroline": false
        },
        "yaxis2": {
         "anchor": "x2",
         "gridcolor": "rgb(255,255,255)",
         "range": [
          0
         ],
         "showgrid": true,
         "showline": false,
         "showticklabels": true,
         "tickcolor": "rgb(127,127,127)",
         "ticks": "outside",
         "title": "p (accept)",
         "zeroline": false
        }
       }
      },
      "text/html": [
       "<div id=\"90c9cefa-5ba0-48cf-ab90-cc2b4199c6bd\" style=\"height: 525px; width: 100%;\" class=\"plotly-graph-div\"></div><script type=\"text/javascript\">require([\"plotly\"], function(Plotly) { window.PLOTLYENV=window.PLOTLYENV || {};window.PLOTLYENV.BASE_URL=\"https://plot.ly\";Plotly.newPlot(\"90c9cefa-5ba0-48cf-ab90-cc2b4199c6bd\", [{\"type\": \"scatter\", \"x\": [-1.5631578947368423, -0.8114285714285714, -0.3247826086956522, 0.0283333333333333, 0.30428571428571427, 0.754, 1.8863636363636358], \"y\": [2.3779431322494173, 2.821205532013014, 2.9857144204576356, 3.3635180042749804, 3.790879182359278, 2.77466733810943, 2.865143027417533], \"error_y\": {\"type\": \"data\", \"array\": [0.21285109200996552, 0.37714213911916256, 0.2695708175541002, 0.2886556556927408, 0.5229150251484915, 0.28322585932055555, 0.37203030071021026], \"color\": \"rgb(0,170,80)\", \"visible\": true}, \"line\": {\"color\": \"rgb(0,100,80)\"}, \"mode\": \"lines+markers\", \"name\": \"Test Data\"}, {\"type\": \"scatter\", \"x\": [-1.5631578947368423, -0.8114285714285714, -0.3247826086956522, 0.0283333333333333, 0.30428571428571427, 0.754, 1.8863636363636358], \"y\": [2.7599519489424504, 3.189707535856476, 3.370543110288269, 3.4045614611191883, 3.382102250524656, 3.2323803072274044, 2.5543738160291545], \"error_y\": {\"type\": \"data\", \"array\": [0.010960469677922892, 0.012352935572070444, 0.012745550653499256, 0.011174036776645323, 0.016305266435777455, 0.012899281049790186, 0.009096272152944255], \"color\": \"rgb(0,100,246)\", \"visible\": true}, \"line\": {\"color\": \"rgb(0,176,246)\"}, \"mode\": \"lines+markers\", \"name\": \"Sim Data\"}, {\"type\": \"scatter\", \"x\": [-1.5631578947368423, -0.8114285714285714, -0.3247826086956522, 0.0283333333333333, 0.30428571428571427, 0.754, 1.8863636363636358], \"y\": [0.0, 0.0, 0.08695652173913043, 0.26666666666666666, 0.7857142857142857, 0.95, 0.9545454545454546], \"error_y\": {\"type\": \"data\", \"array\": [0.0, 0.0, 0.060073850409370216, 0.08211756827352527, 0.11380392954509881, 0.04999999999999999, 0.04545454545454545], \"color\": \"rgb(0,170,80)\", \"visible\": true}, \"line\": {\"color\": \"rgb(0,100,80)\"}, \"mode\": \"lines+markers\", \"name\": \"Test Data\", \"xaxis\": \"x2\", \"yaxis\": \"y2\"}, {\"type\": \"scatter\", \"x\": [-1.5631578947368423, -0.8114285714285714, -0.3247826086956522, 0.0283333333333333, 0.30428571428571427, 0.754, 1.8863636363636358], \"y\": [0.11007964555092568, 0.2426728066388449, 0.3799700255664286, 0.5062798334405363, 0.6136478761125986, 0.7537647947620246, 0.9237249544626593], \"error_y\": {\"type\": \"data\", \"array\": [0.0022731747422756864, 0.0029692103480545916, 0.00322263871306736, 0.0029090099359344573, 0.004142177216460851, 0.0030575177637359643, 0.001791250384268461], \"color\": \"rgb(0,100,246)\", \"visible\": true}, \"line\": {\"color\": \"rgb(0,176,246)\"}, \"mode\": \"lines+markers\", \"name\": \"Sim Data\", \"xaxis\": \"x2\", \"yaxis\": \"y2\"}], {\"paper_bgcolor\": \"rgb(255,255,255)\", \"plot_bgcolor\": \"rgb(229,229,229)\", \"xaxis\": {\"gridcolor\": \"rgb(255,255,255)\", \"range\": [-2, 2], \"domain\": [0, 0.45], \"showgrid\": true, \"showline\": false, \"showticklabels\": true, \"tickcolor\": \"rgb(127,127,127)\", \"ticks\": \"outside\", \"title\": \"Net Value ($)\", \"zeroline\": false}, \"xaxis2\": {\"gridcolor\": \"rgb(255,255,255)\", \"range\": [-2, 2], \"domain\": [0.55, 1], \"showgrid\": true, \"showline\": false, \"showticklabels\": true, \"tickcolor\": \"rgb(127,127,127)\", \"ticks\": \"outside\", \"title\": \"Net Value ($)\", \"zeroline\": false}, \"yaxis1\": {\"gridcolor\": \"rgb(255,255,255)\", \"range\": [0], \"showgrid\": true, \"showline\": false, \"showticklabels\": true, \"tickcolor\": \"rgb(127,127,127)\", \"ticks\": \"outside\", \"title\": \"RT (s)\", \"anchor\": \"x1\", \"zeroline\": false}, \"yaxis2\": {\"gridcolor\": \"rgb(255,255,255)\", \"range\": [0], \"showgrid\": true, \"showline\": false, \"showticklabels\": true, \"tickcolor\": \"rgb(127,127,127)\", \"ticks\": \"outside\", \"title\": \"p (accept)\", \"anchor\": \"x2\", \"zeroline\": false}, \"annotations\": [{\"x\": 0.01, \"y\": 1.12, \"showarrow\": false, \"text\": \"PARAMETERS: v: 0.051, a: 0.164, \\u03b8: 0.775\", \"xref\": \"paper\", \"yref\": \"paper\"}, {\"x\": 0.01, \"y\": 1.08, \"showarrow\": false, \"text\": \"MLE: 634.4\", \"xref\": \"paper\", \"yref\": \"paper\"}, {\"x\": 0.01, \"y\": 1.2, \"showarrow\": false, \"text\": \"SUBJECT: 7\", \"font\": {\"family\": \"Arial, sans-serif\", \"size\": 22}, \"xref\": \"paper\", \"yref\": \"paper\"}]}, {\"showLink\": true, \"linkText\": \"Export to plot.ly\"})});</script>"
      ],
      "text/vnd.plotly.v1+html": [
       "<div id=\"90c9cefa-5ba0-48cf-ab90-cc2b4199c6bd\" style=\"height: 525px; width: 100%;\" class=\"plotly-graph-div\"></div><script type=\"text/javascript\">require([\"plotly\"], function(Plotly) { window.PLOTLYENV=window.PLOTLYENV || {};window.PLOTLYENV.BASE_URL=\"https://plot.ly\";Plotly.newPlot(\"90c9cefa-5ba0-48cf-ab90-cc2b4199c6bd\", [{\"type\": \"scatter\", \"x\": [-1.5631578947368423, -0.8114285714285714, -0.3247826086956522, 0.0283333333333333, 0.30428571428571427, 0.754, 1.8863636363636358], \"y\": [2.3779431322494173, 2.821205532013014, 2.9857144204576356, 3.3635180042749804, 3.790879182359278, 2.77466733810943, 2.865143027417533], \"error_y\": {\"type\": \"data\", \"array\": [0.21285109200996552, 0.37714213911916256, 0.2695708175541002, 0.2886556556927408, 0.5229150251484915, 0.28322585932055555, 0.37203030071021026], \"color\": \"rgb(0,170,80)\", \"visible\": true}, \"line\": {\"color\": \"rgb(0,100,80)\"}, \"mode\": \"lines+markers\", \"name\": \"Test Data\"}, {\"type\": \"scatter\", \"x\": [-1.5631578947368423, -0.8114285714285714, -0.3247826086956522, 0.0283333333333333, 0.30428571428571427, 0.754, 1.8863636363636358], \"y\": [2.7599519489424504, 3.189707535856476, 3.370543110288269, 3.4045614611191883, 3.382102250524656, 3.2323803072274044, 2.5543738160291545], \"error_y\": {\"type\": \"data\", \"array\": [0.010960469677922892, 0.012352935572070444, 0.012745550653499256, 0.011174036776645323, 0.016305266435777455, 0.012899281049790186, 0.009096272152944255], \"color\": \"rgb(0,100,246)\", \"visible\": true}, \"line\": {\"color\": \"rgb(0,176,246)\"}, \"mode\": \"lines+markers\", \"name\": \"Sim Data\"}, {\"type\": \"scatter\", \"x\": [-1.5631578947368423, -0.8114285714285714, -0.3247826086956522, 0.0283333333333333, 0.30428571428571427, 0.754, 1.8863636363636358], \"y\": [0.0, 0.0, 0.08695652173913043, 0.26666666666666666, 0.7857142857142857, 0.95, 0.9545454545454546], \"error_y\": {\"type\": \"data\", \"array\": [0.0, 0.0, 0.060073850409370216, 0.08211756827352527, 0.11380392954509881, 0.04999999999999999, 0.04545454545454545], \"color\": \"rgb(0,170,80)\", \"visible\": true}, \"line\": {\"color\": \"rgb(0,100,80)\"}, \"mode\": \"lines+markers\", \"name\": \"Test Data\", \"xaxis\": \"x2\", \"yaxis\": \"y2\"}, {\"type\": \"scatter\", \"x\": [-1.5631578947368423, -0.8114285714285714, -0.3247826086956522, 0.0283333333333333, 0.30428571428571427, 0.754, 1.8863636363636358], \"y\": [0.11007964555092568, 0.2426728066388449, 0.3799700255664286, 0.5062798334405363, 0.6136478761125986, 0.7537647947620246, 0.9237249544626593], \"error_y\": {\"type\": \"data\", \"array\": [0.0022731747422756864, 0.0029692103480545916, 0.00322263871306736, 0.0029090099359344573, 0.004142177216460851, 0.0030575177637359643, 0.001791250384268461], \"color\": \"rgb(0,100,246)\", \"visible\": true}, \"line\": {\"color\": \"rgb(0,176,246)\"}, \"mode\": \"lines+markers\", \"name\": \"Sim Data\", \"xaxis\": \"x2\", \"yaxis\": \"y2\"}], {\"paper_bgcolor\": \"rgb(255,255,255)\", \"plot_bgcolor\": \"rgb(229,229,229)\", \"xaxis\": {\"gridcolor\": \"rgb(255,255,255)\", \"range\": [-2, 2], \"domain\": [0, 0.45], \"showgrid\": true, \"showline\": false, \"showticklabels\": true, \"tickcolor\": \"rgb(127,127,127)\", \"ticks\": \"outside\", \"title\": \"Net Value ($)\", \"zeroline\": false}, \"xaxis2\": {\"gridcolor\": \"rgb(255,255,255)\", \"range\": [-2, 2], \"domain\": [0.55, 1], \"showgrid\": true, \"showline\": false, \"showticklabels\": true, \"tickcolor\": \"rgb(127,127,127)\", \"ticks\": \"outside\", \"title\": \"Net Value ($)\", \"zeroline\": false}, \"yaxis1\": {\"gridcolor\": \"rgb(255,255,255)\", \"range\": [0], \"showgrid\": true, \"showline\": false, \"showticklabels\": true, \"tickcolor\": \"rgb(127,127,127)\", \"ticks\": \"outside\", \"title\": \"RT (s)\", \"anchor\": \"x1\", \"zeroline\": false}, \"yaxis2\": {\"gridcolor\": \"rgb(255,255,255)\", \"range\": [0], \"showgrid\": true, \"showline\": false, \"showticklabels\": true, \"tickcolor\": \"rgb(127,127,127)\", \"ticks\": \"outside\", \"title\": \"p (accept)\", \"anchor\": \"x2\", \"zeroline\": false}, \"annotations\": [{\"x\": 0.01, \"y\": 1.12, \"showarrow\": false, \"text\": \"PARAMETERS: v: 0.051, a: 0.164, \\u03b8: 0.775\", \"xref\": \"paper\", \"yref\": \"paper\"}, {\"x\": 0.01, \"y\": 1.08, \"showarrow\": false, \"text\": \"MLE: 634.4\", \"xref\": \"paper\", \"yref\": \"paper\"}, {\"x\": 0.01, \"y\": 1.2, \"showarrow\": false, \"text\": \"SUBJECT: 7\", \"font\": {\"family\": \"Arial, sans-serif\", \"size\": 22}, \"xref\": \"paper\", \"yref\": \"paper\"}]}, {\"showLink\": true, \"linkText\": \"Export to plot.ly\"})});</script>"
      ]
     },
     "metadata": {},
     "output_type": "display_data"
    },
    {
     "data": {
      "application/vnd.plotly.v1+json": {
       "data": [
        {
         "error_y": {
          "array": [
           0.27050941425998043,
           0.28770960590492894,
           0.18240159910635725,
           0.23948529280393824,
           0.270817086073925,
           0.32586465298263884,
           0.10178122567525187
          ],
          "color": "rgb(0,170,80)",
          "type": "data",
          "visible": true
         },
         "line": {
          "color": "rgb(0,100,80)"
         },
         "mode": "lines+markers",
         "name": "Test Data",
         "type": "scatter",
         "x": [
          -1.7345,
          -0.8091666666666667,
          -0.286,
          0.025161290322580618,
          0.3271428571428571,
          0.7461111111111111,
          1.5722222222222217
         ],
         "y": [
          2.5601258025313673,
          3.0063551905454915,
          2.7211679010491934,
          3.1543780296791915,
          2.6131890266302187,
          2.5056769166332944,
          2.170454257731629
         ]
        },
        {
         "error_y": {
          "array": [
           0.010031146122424802,
           0.01158746950615165,
           0.015746506322346726,
           0.010937269631430612,
           0.015996299551639417,
           0.013305991454826674,
           0.009076185849543773
          ],
          "color": "rgb(0,100,246)",
          "type": "data",
          "visible": true
         },
         "line": {
          "color": "rgb(0,176,246)"
         },
         "mode": "lines+markers",
         "name": "Sim Data",
         "type": "scatter",
         "x": [
          -1.7345,
          -0.8091666666666667,
          -0.286,
          0.025161290322580618,
          0.3271428571428571,
          0.7461111111111111,
          1.5722222222222217
         ],
         "y": [
          2.6408469674185415,
          3.199210396039608,
          3.39187224699364,
          3.3990070023886525,
          3.3511019241898086,
          3.211721288515396,
          2.7468238176553523
         ]
        },
        {
         "error_y": {
          "array": [
           0,
           0.05763033956734372,
           0.06666666666666665,
           0.09123958466923195,
           0.11380392954509881,
           0.0762215933966706,
           0.037037037037037035
          ],
          "color": "rgb(0,170,80)",
          "type": "data",
          "visible": true
         },
         "line": {
          "color": "rgb(0,100,80)"
         },
         "mode": "lines+markers",
         "name": "Test Data",
         "type": "scatter",
         "x": [
          -1.7345,
          -0.8091666666666667,
          -0.286,
          0.025161290322580618,
          0.3271428571428571,
          0.7461111111111111,
          1.5722222222222217
         ],
         "xaxis": "x2",
         "y": [
          0,
          0.08333333333333333,
          0.06666666666666667,
          0.5161290322580645,
          0.7857142857142857,
          0.8888888888888888,
          0.9629629629629629
         ],
         "yaxis": "y2"
        },
        {
         "error_y": {
          "array": [
           0.0020330423708288664,
           0.002739112299573287,
           0.004039746976196802,
           0.002860149320537464,
           0.0040986072166748775,
           0.0032448532720524945,
           0.0018853080433584436
          ],
          "color": "rgb(0,100,246)",
          "type": "data",
          "visible": true
         },
         "line": {
          "color": "rgb(0,176,246)"
         },
         "mode": "lines+markers",
         "name": "Sim Data",
         "type": "scatter",
         "x": [
          -1.7345,
          -0.8091666666666667,
          -0.286,
          0.025161290322580618,
          0.3271428571428571,
          0.7461111111111111,
          1.5722222222222217
         ],
         "xaxis": "x2",
         "y": [
          0.09067669172932331,
          0.23321866084913576,
          0.4080529658154303,
          0.5023068616864631,
          0.6333912037037037,
          0.7491316526610644,
          0.8927537307892197
         ],
         "yaxis": "y2"
        }
       ],
       "layout": {
        "annotations": [
         {
          "showarrow": false,
          "text": "PARAMETERS: v: 0.051, a: 0.164, θ: 0.775",
          "x": 0.01,
          "xref": "paper",
          "y": 1.12,
          "yref": "paper"
         },
         {
          "showarrow": false,
          "text": "MLE: 686.84",
          "x": 0.01,
          "xref": "paper",
          "y": 1.08,
          "yref": "paper"
         },
         {
          "font": {
           "family": "Arial, sans-serif",
           "size": 22
          },
          "showarrow": false,
          "text": "SUBJECT: 8",
          "x": 0.01,
          "xref": "paper",
          "y": 1.2,
          "yref": "paper"
         }
        ],
        "paper_bgcolor": "rgb(255,255,255)",
        "plot_bgcolor": "rgb(229,229,229)",
        "xaxis": {
         "domain": [
          0,
          0.45
         ],
         "gridcolor": "rgb(255,255,255)",
         "range": [
          -2,
          2
         ],
         "showgrid": true,
         "showline": false,
         "showticklabels": true,
         "tickcolor": "rgb(127,127,127)",
         "ticks": "outside",
         "title": "Net Value ($)",
         "zeroline": false
        },
        "xaxis2": {
         "domain": [
          0.55,
          1
         ],
         "gridcolor": "rgb(255,255,255)",
         "range": [
          -2,
          2
         ],
         "showgrid": true,
         "showline": false,
         "showticklabels": true,
         "tickcolor": "rgb(127,127,127)",
         "ticks": "outside",
         "title": "Net Value ($)",
         "zeroline": false
        },
        "yaxis1": {
         "anchor": "x1",
         "gridcolor": "rgb(255,255,255)",
         "range": [
          0
         ],
         "showgrid": true,
         "showline": false,
         "showticklabels": true,
         "tickcolor": "rgb(127,127,127)",
         "ticks": "outside",
         "title": "RT (s)",
         "zeroline": false
        },
        "yaxis2": {
         "anchor": "x2",
         "gridcolor": "rgb(255,255,255)",
         "range": [
          0
         ],
         "showgrid": true,
         "showline": false,
         "showticklabels": true,
         "tickcolor": "rgb(127,127,127)",
         "ticks": "outside",
         "title": "p (accept)",
         "zeroline": false
        }
       }
      },
      "text/html": [
       "<div id=\"1ffd67b3-4a31-4382-9bb7-b7d0fb74ea71\" style=\"height: 525px; width: 100%;\" class=\"plotly-graph-div\"></div><script type=\"text/javascript\">require([\"plotly\"], function(Plotly) { window.PLOTLYENV=window.PLOTLYENV || {};window.PLOTLYENV.BASE_URL=\"https://plot.ly\";Plotly.newPlot(\"1ffd67b3-4a31-4382-9bb7-b7d0fb74ea71\", [{\"type\": \"scatter\", \"x\": [-1.7345, -0.8091666666666667, -0.286, 0.025161290322580618, 0.3271428571428571, 0.7461111111111111, 1.5722222222222217], \"y\": [2.5601258025313673, 3.0063551905454915, 2.7211679010491934, 3.1543780296791915, 2.6131890266302187, 2.5056769166332944, 2.170454257731629], \"error_y\": {\"type\": \"data\", \"array\": [0.27050941425998043, 0.28770960590492894, 0.18240159910635725, 0.23948529280393824, 0.270817086073925, 0.32586465298263884, 0.10178122567525187], \"color\": \"rgb(0,170,80)\", \"visible\": true}, \"line\": {\"color\": \"rgb(0,100,80)\"}, \"mode\": \"lines+markers\", \"name\": \"Test Data\"}, {\"type\": \"scatter\", \"x\": [-1.7345, -0.8091666666666667, -0.286, 0.025161290322580618, 0.3271428571428571, 0.7461111111111111, 1.5722222222222217], \"y\": [2.6408469674185415, 3.199210396039608, 3.39187224699364, 3.3990070023886525, 3.3511019241898086, 3.211721288515396, 2.7468238176553523], \"error_y\": {\"type\": \"data\", \"array\": [0.010031146122424802, 0.01158746950615165, 0.015746506322346726, 0.010937269631430612, 0.015996299551639417, 0.013305991454826674, 0.009076185849543773], \"color\": \"rgb(0,100,246)\", \"visible\": true}, \"line\": {\"color\": \"rgb(0,176,246)\"}, \"mode\": \"lines+markers\", \"name\": \"Sim Data\"}, {\"type\": \"scatter\", \"x\": [-1.7345, -0.8091666666666667, -0.286, 0.025161290322580618, 0.3271428571428571, 0.7461111111111111, 1.5722222222222217], \"y\": [0.0, 0.08333333333333333, 0.06666666666666667, 0.5161290322580645, 0.7857142857142857, 0.8888888888888888, 0.9629629629629629], \"error_y\": {\"type\": \"data\", \"array\": [0.0, 0.05763033956734372, 0.06666666666666665, 0.09123958466923195, 0.11380392954509881, 0.0762215933966706, 0.037037037037037035], \"color\": \"rgb(0,170,80)\", \"visible\": true}, \"line\": {\"color\": \"rgb(0,100,80)\"}, \"mode\": \"lines+markers\", \"name\": \"Test Data\", \"xaxis\": \"x2\", \"yaxis\": \"y2\"}, {\"type\": \"scatter\", \"x\": [-1.7345, -0.8091666666666667, -0.286, 0.025161290322580618, 0.3271428571428571, 0.7461111111111111, 1.5722222222222217], \"y\": [0.09067669172932331, 0.23321866084913576, 0.4080529658154303, 0.5023068616864631, 0.6333912037037037, 0.7491316526610644, 0.8927537307892197], \"error_y\": {\"type\": \"data\", \"array\": [0.0020330423708288664, 0.002739112299573287, 0.004039746976196802, 0.002860149320537464, 0.0040986072166748775, 0.0032448532720524945, 0.0018853080433584436], \"color\": \"rgb(0,100,246)\", \"visible\": true}, \"line\": {\"color\": \"rgb(0,176,246)\"}, \"mode\": \"lines+markers\", \"name\": \"Sim Data\", \"xaxis\": \"x2\", \"yaxis\": \"y2\"}], {\"paper_bgcolor\": \"rgb(255,255,255)\", \"plot_bgcolor\": \"rgb(229,229,229)\", \"xaxis\": {\"gridcolor\": \"rgb(255,255,255)\", \"range\": [-2, 2], \"domain\": [0, 0.45], \"showgrid\": true, \"showline\": false, \"showticklabels\": true, \"tickcolor\": \"rgb(127,127,127)\", \"ticks\": \"outside\", \"title\": \"Net Value ($)\", \"zeroline\": false}, \"xaxis2\": {\"gridcolor\": \"rgb(255,255,255)\", \"range\": [-2, 2], \"domain\": [0.55, 1], \"showgrid\": true, \"showline\": false, \"showticklabels\": true, \"tickcolor\": \"rgb(127,127,127)\", \"ticks\": \"outside\", \"title\": \"Net Value ($)\", \"zeroline\": false}, \"yaxis1\": {\"gridcolor\": \"rgb(255,255,255)\", \"range\": [0], \"showgrid\": true, \"showline\": false, \"showticklabels\": true, \"tickcolor\": \"rgb(127,127,127)\", \"ticks\": \"outside\", \"title\": \"RT (s)\", \"anchor\": \"x1\", \"zeroline\": false}, \"yaxis2\": {\"gridcolor\": \"rgb(255,255,255)\", \"range\": [0], \"showgrid\": true, \"showline\": false, \"showticklabels\": true, \"tickcolor\": \"rgb(127,127,127)\", \"ticks\": \"outside\", \"title\": \"p (accept)\", \"anchor\": \"x2\", \"zeroline\": false}, \"annotations\": [{\"x\": 0.01, \"y\": 1.12, \"showarrow\": false, \"text\": \"PARAMETERS: v: 0.051, a: 0.164, \\u03b8: 0.775\", \"xref\": \"paper\", \"yref\": \"paper\"}, {\"x\": 0.01, \"y\": 1.08, \"showarrow\": false, \"text\": \"MLE: 686.84\", \"xref\": \"paper\", \"yref\": \"paper\"}, {\"x\": 0.01, \"y\": 1.2, \"showarrow\": false, \"text\": \"SUBJECT: 8\", \"font\": {\"family\": \"Arial, sans-serif\", \"size\": 22}, \"xref\": \"paper\", \"yref\": \"paper\"}]}, {\"showLink\": true, \"linkText\": \"Export to plot.ly\"})});</script>"
      ],
      "text/vnd.plotly.v1+html": [
       "<div id=\"1ffd67b3-4a31-4382-9bb7-b7d0fb74ea71\" style=\"height: 525px; width: 100%;\" class=\"plotly-graph-div\"></div><script type=\"text/javascript\">require([\"plotly\"], function(Plotly) { window.PLOTLYENV=window.PLOTLYENV || {};window.PLOTLYENV.BASE_URL=\"https://plot.ly\";Plotly.newPlot(\"1ffd67b3-4a31-4382-9bb7-b7d0fb74ea71\", [{\"type\": \"scatter\", \"x\": [-1.7345, -0.8091666666666667, -0.286, 0.025161290322580618, 0.3271428571428571, 0.7461111111111111, 1.5722222222222217], \"y\": [2.5601258025313673, 3.0063551905454915, 2.7211679010491934, 3.1543780296791915, 2.6131890266302187, 2.5056769166332944, 2.170454257731629], \"error_y\": {\"type\": \"data\", \"array\": [0.27050941425998043, 0.28770960590492894, 0.18240159910635725, 0.23948529280393824, 0.270817086073925, 0.32586465298263884, 0.10178122567525187], \"color\": \"rgb(0,170,80)\", \"visible\": true}, \"line\": {\"color\": \"rgb(0,100,80)\"}, \"mode\": \"lines+markers\", \"name\": \"Test Data\"}, {\"type\": \"scatter\", \"x\": [-1.7345, -0.8091666666666667, -0.286, 0.025161290322580618, 0.3271428571428571, 0.7461111111111111, 1.5722222222222217], \"y\": [2.6408469674185415, 3.199210396039608, 3.39187224699364, 3.3990070023886525, 3.3511019241898086, 3.211721288515396, 2.7468238176553523], \"error_y\": {\"type\": \"data\", \"array\": [0.010031146122424802, 0.01158746950615165, 0.015746506322346726, 0.010937269631430612, 0.015996299551639417, 0.013305991454826674, 0.009076185849543773], \"color\": \"rgb(0,100,246)\", \"visible\": true}, \"line\": {\"color\": \"rgb(0,176,246)\"}, \"mode\": \"lines+markers\", \"name\": \"Sim Data\"}, {\"type\": \"scatter\", \"x\": [-1.7345, -0.8091666666666667, -0.286, 0.025161290322580618, 0.3271428571428571, 0.7461111111111111, 1.5722222222222217], \"y\": [0.0, 0.08333333333333333, 0.06666666666666667, 0.5161290322580645, 0.7857142857142857, 0.8888888888888888, 0.9629629629629629], \"error_y\": {\"type\": \"data\", \"array\": [0.0, 0.05763033956734372, 0.06666666666666665, 0.09123958466923195, 0.11380392954509881, 0.0762215933966706, 0.037037037037037035], \"color\": \"rgb(0,170,80)\", \"visible\": true}, \"line\": {\"color\": \"rgb(0,100,80)\"}, \"mode\": \"lines+markers\", \"name\": \"Test Data\", \"xaxis\": \"x2\", \"yaxis\": \"y2\"}, {\"type\": \"scatter\", \"x\": [-1.7345, -0.8091666666666667, -0.286, 0.025161290322580618, 0.3271428571428571, 0.7461111111111111, 1.5722222222222217], \"y\": [0.09067669172932331, 0.23321866084913576, 0.4080529658154303, 0.5023068616864631, 0.6333912037037037, 0.7491316526610644, 0.8927537307892197], \"error_y\": {\"type\": \"data\", \"array\": [0.0020330423708288664, 0.002739112299573287, 0.004039746976196802, 0.002860149320537464, 0.0040986072166748775, 0.0032448532720524945, 0.0018853080433584436], \"color\": \"rgb(0,100,246)\", \"visible\": true}, \"line\": {\"color\": \"rgb(0,176,246)\"}, \"mode\": \"lines+markers\", \"name\": \"Sim Data\", \"xaxis\": \"x2\", \"yaxis\": \"y2\"}], {\"paper_bgcolor\": \"rgb(255,255,255)\", \"plot_bgcolor\": \"rgb(229,229,229)\", \"xaxis\": {\"gridcolor\": \"rgb(255,255,255)\", \"range\": [-2, 2], \"domain\": [0, 0.45], \"showgrid\": true, \"showline\": false, \"showticklabels\": true, \"tickcolor\": \"rgb(127,127,127)\", \"ticks\": \"outside\", \"title\": \"Net Value ($)\", \"zeroline\": false}, \"xaxis2\": {\"gridcolor\": \"rgb(255,255,255)\", \"range\": [-2, 2], \"domain\": [0.55, 1], \"showgrid\": true, \"showline\": false, \"showticklabels\": true, \"tickcolor\": \"rgb(127,127,127)\", \"ticks\": \"outside\", \"title\": \"Net Value ($)\", \"zeroline\": false}, \"yaxis1\": {\"gridcolor\": \"rgb(255,255,255)\", \"range\": [0], \"showgrid\": true, \"showline\": false, \"showticklabels\": true, \"tickcolor\": \"rgb(127,127,127)\", \"ticks\": \"outside\", \"title\": \"RT (s)\", \"anchor\": \"x1\", \"zeroline\": false}, \"yaxis2\": {\"gridcolor\": \"rgb(255,255,255)\", \"range\": [0], \"showgrid\": true, \"showline\": false, \"showticklabels\": true, \"tickcolor\": \"rgb(127,127,127)\", \"ticks\": \"outside\", \"title\": \"p (accept)\", \"anchor\": \"x2\", \"zeroline\": false}, \"annotations\": [{\"x\": 0.01, \"y\": 1.12, \"showarrow\": false, \"text\": \"PARAMETERS: v: 0.051, a: 0.164, \\u03b8: 0.775\", \"xref\": \"paper\", \"yref\": \"paper\"}, {\"x\": 0.01, \"y\": 1.08, \"showarrow\": false, \"text\": \"MLE: 686.84\", \"xref\": \"paper\", \"yref\": \"paper\"}, {\"x\": 0.01, \"y\": 1.2, \"showarrow\": false, \"text\": \"SUBJECT: 8\", \"font\": {\"family\": \"Arial, sans-serif\", \"size\": 22}, \"xref\": \"paper\", \"yref\": \"paper\"}]}, {\"showLink\": true, \"linkText\": \"Export to plot.ly\"})});</script>"
      ]
     },
     "metadata": {},
     "output_type": "display_data"
    },
    {
     "data": {
      "application/vnd.plotly.v1+json": {
       "data": [
        {
         "error_y": {
          "array": [
           0.20399141919352085,
           0.2601934750729377,
           0.5465874954199383,
           0.27742531679976895,
           0.479598191779937,
           0.2319815272773067,
           0.2543544269306552
          ],
          "color": "rgb(0,170,80)",
          "type": "data",
          "visible": true
         },
         "line": {
          "color": "rgb(0,100,80)"
         },
         "mode": "lines+markers",
         "name": "Test Data",
         "type": "scatter",
         "x": [
          -1.6516666666666668,
          -0.7999999999999999,
          -0.3061111111111112,
          0.021999999999999974,
          0.3085714285714286,
          0.755,
          1.6012499999999996
         ],
         "y": [
          2.2320420636266745,
          3.1515045656874707,
          3.8372014102181606,
          3.679312936441177,
          3.66939570704874,
          3.2465464065336915,
          2.6207960178538383
         ]
        },
        {
         "error_y": {
          "array": [
           0.011512937337912471,
           0.013243483462920586,
           0.014366334985099819,
           0.010919445849839978,
           0.016263674919580383,
           0.012314014963491042,
           0.009866720331504401
          ],
          "color": "rgb(0,100,246)",
          "type": "data",
          "visible": true
         },
         "line": {
          "color": "rgb(0,176,246)"
         },
         "mode": "lines+markers",
         "name": "Sim Data",
         "type": "scatter",
         "x": [
          -1.6516666666666668,
          -0.7999999999999999,
          -0.3061111111111112,
          0.021999999999999974,
          0.3085714285714286,
          0.755,
          1.6012499999999996
         ],
         "y": [
          2.8140665292249265,
          3.2337584359083222,
          3.4163218978102186,
          3.3373556711477326,
          3.3792829465770082,
          3.2175136188554783,
          2.8093634844370086
         ]
        },
        {
         "error_y": {
          "array": [
           0,
           0.0723351864143449,
           0.05555555555555556,
           0.0875376219064817,
           0.13725270326150324,
           0.10163945352271771,
           0.041666666666666664
          ],
          "color": "rgb(0,170,80)",
          "type": "data",
          "visible": true
         },
         "line": {
          "color": "rgb(0,100,80)"
         },
         "mode": "lines+markers",
         "name": "Test Data",
         "type": "scatter",
         "x": [
          -1.6516666666666668,
          -0.7999999999999999,
          -0.3061111111111112,
          0.021999999999999974,
          0.3085714285714286,
          0.755,
          1.6012499999999996
         ],
         "xaxis": "x2",
         "y": [
          0,
          0.10526315789473684,
          0.05555555555555555,
          0.3333333333333333,
          0.5714285714285714,
          0.6818181818181818,
          0.9583333333333334
         ],
         "yaxis": "y2"
        },
        {
         "error_y": {
          "array": [
           0.002491484261448775,
           0.0032487273240671584,
           0.0036928148892869063,
           0.002905930267244982,
           0.004156288176788707,
           0.0029865988589534032,
           0.002104543387632997
          ],
          "color": "rgb(0,100,246)",
          "type": "data",
          "visible": true
         },
         "line": {
          "color": "rgb(0,176,246)"
         },
         "mode": "lines+markers",
         "name": "Sim Data",
         "type": "scatter",
         "x": [
          -1.6516666666666668,
          -0.7999999999999999,
          -0.3061111111111112,
          0.021999999999999974,
          0.3085714285714286,
          0.755,
          1.6012499999999996
         ],
         "xaxis": "x2",
         "y": [
          0.12770936646793335,
          0.273981324278438,
          0.41549691184727683,
          0.5016212929811524,
          0.6051471119786019,
          0.7355557593543653,
          0.8794652182995613
         ],
         "yaxis": "y2"
        }
       ],
       "layout": {
        "annotations": [
         {
          "showarrow": false,
          "text": "PARAMETERS: v: 0.051, a: 0.164, θ: 0.55",
          "x": 0.01,
          "xref": "paper",
          "y": 1.12,
          "yref": "paper"
         },
         {
          "showarrow": false,
          "text": "MLE: 709.93",
          "x": 0.01,
          "xref": "paper",
          "y": 1.08,
          "yref": "paper"
         },
         {
          "font": {
           "family": "Arial, sans-serif",
           "size": 22
          },
          "showarrow": false,
          "text": "SUBJECT: 9",
          "x": 0.01,
          "xref": "paper",
          "y": 1.2,
          "yref": "paper"
         }
        ],
        "paper_bgcolor": "rgb(255,255,255)",
        "plot_bgcolor": "rgb(229,229,229)",
        "xaxis": {
         "domain": [
          0,
          0.45
         ],
         "gridcolor": "rgb(255,255,255)",
         "range": [
          -2,
          2
         ],
         "showgrid": true,
         "showline": false,
         "showticklabels": true,
         "tickcolor": "rgb(127,127,127)",
         "ticks": "outside",
         "title": "Net Value ($)",
         "zeroline": false
        },
        "xaxis2": {
         "domain": [
          0.55,
          1
         ],
         "gridcolor": "rgb(255,255,255)",
         "range": [
          -2,
          2
         ],
         "showgrid": true,
         "showline": false,
         "showticklabels": true,
         "tickcolor": "rgb(127,127,127)",
         "ticks": "outside",
         "title": "Net Value ($)",
         "zeroline": false
        },
        "yaxis1": {
         "anchor": "x1",
         "gridcolor": "rgb(255,255,255)",
         "range": [
          0
         ],
         "showgrid": true,
         "showline": false,
         "showticklabels": true,
         "tickcolor": "rgb(127,127,127)",
         "ticks": "outside",
         "title": "RT (s)",
         "zeroline": false
        },
        "yaxis2": {
         "anchor": "x2",
         "gridcolor": "rgb(255,255,255)",
         "range": [
          0
         ],
         "showgrid": true,
         "showline": false,
         "showticklabels": true,
         "tickcolor": "rgb(127,127,127)",
         "ticks": "outside",
         "title": "p (accept)",
         "zeroline": false
        }
       }
      },
      "text/html": [
       "<div id=\"ac34c9ed-5169-469c-bf8b-8f72155566d7\" style=\"height: 525px; width: 100%;\" class=\"plotly-graph-div\"></div><script type=\"text/javascript\">require([\"plotly\"], function(Plotly) { window.PLOTLYENV=window.PLOTLYENV || {};window.PLOTLYENV.BASE_URL=\"https://plot.ly\";Plotly.newPlot(\"ac34c9ed-5169-469c-bf8b-8f72155566d7\", [{\"type\": \"scatter\", \"x\": [-1.6516666666666668, -0.7999999999999999, -0.3061111111111112, 0.021999999999999974, 0.3085714285714286, 0.755, 1.6012499999999996], \"y\": [2.2320420636266745, 3.1515045656874707, 3.8372014102181606, 3.679312936441177, 3.66939570704874, 3.2465464065336915, 2.6207960178538383], \"error_y\": {\"type\": \"data\", \"array\": [0.20399141919352085, 0.2601934750729377, 0.5465874954199383, 0.27742531679976895, 0.479598191779937, 0.2319815272773067, 0.2543544269306552], \"color\": \"rgb(0,170,80)\", \"visible\": true}, \"line\": {\"color\": \"rgb(0,100,80)\"}, \"mode\": \"lines+markers\", \"name\": \"Test Data\"}, {\"type\": \"scatter\", \"x\": [-1.6516666666666668, -0.7999999999999999, -0.3061111111111112, 0.021999999999999974, 0.3085714285714286, 0.755, 1.6012499999999996], \"y\": [2.8140665292249265, 3.2337584359083222, 3.4163218978102186, 3.3373556711477326, 3.3792829465770082, 3.2175136188554783, 2.8093634844370086], \"error_y\": {\"type\": \"data\", \"array\": [0.011512937337912471, 0.013243483462920586, 0.014366334985099819, 0.010919445849839978, 0.016263674919580383, 0.012314014963491042, 0.009866720331504401], \"color\": \"rgb(0,100,246)\", \"visible\": true}, \"line\": {\"color\": \"rgb(0,176,246)\"}, \"mode\": \"lines+markers\", \"name\": \"Sim Data\"}, {\"type\": \"scatter\", \"x\": [-1.6516666666666668, -0.7999999999999999, -0.3061111111111112, 0.021999999999999974, 0.3085714285714286, 0.755, 1.6012499999999996], \"y\": [0.0, 0.10526315789473684, 0.05555555555555555, 0.3333333333333333, 0.5714285714285714, 0.6818181818181818, 0.9583333333333334], \"error_y\": {\"type\": \"data\", \"array\": [0.0, 0.0723351864143449, 0.05555555555555556, 0.0875376219064817, 0.13725270326150324, 0.10163945352271771, 0.041666666666666664], \"color\": \"rgb(0,170,80)\", \"visible\": true}, \"line\": {\"color\": \"rgb(0,100,80)\"}, \"mode\": \"lines+markers\", \"name\": \"Test Data\", \"xaxis\": \"x2\", \"yaxis\": \"y2\"}, {\"type\": \"scatter\", \"x\": [-1.6516666666666668, -0.7999999999999999, -0.3061111111111112, 0.021999999999999974, 0.3085714285714286, 0.755, 1.6012499999999996], \"y\": [0.12770936646793335, 0.273981324278438, 0.41549691184727683, 0.5016212929811524, 0.6051471119786019, 0.7355557593543653, 0.8794652182995613], \"error_y\": {\"type\": \"data\", \"array\": [0.002491484261448775, 0.0032487273240671584, 0.0036928148892869063, 0.002905930267244982, 0.004156288176788707, 0.0029865988589534032, 0.002104543387632997], \"color\": \"rgb(0,100,246)\", \"visible\": true}, \"line\": {\"color\": \"rgb(0,176,246)\"}, \"mode\": \"lines+markers\", \"name\": \"Sim Data\", \"xaxis\": \"x2\", \"yaxis\": \"y2\"}], {\"paper_bgcolor\": \"rgb(255,255,255)\", \"plot_bgcolor\": \"rgb(229,229,229)\", \"xaxis\": {\"gridcolor\": \"rgb(255,255,255)\", \"range\": [-2, 2], \"domain\": [0, 0.45], \"showgrid\": true, \"showline\": false, \"showticklabels\": true, \"tickcolor\": \"rgb(127,127,127)\", \"ticks\": \"outside\", \"title\": \"Net Value ($)\", \"zeroline\": false}, \"xaxis2\": {\"gridcolor\": \"rgb(255,255,255)\", \"range\": [-2, 2], \"domain\": [0.55, 1], \"showgrid\": true, \"showline\": false, \"showticklabels\": true, \"tickcolor\": \"rgb(127,127,127)\", \"ticks\": \"outside\", \"title\": \"Net Value ($)\", \"zeroline\": false}, \"yaxis1\": {\"gridcolor\": \"rgb(255,255,255)\", \"range\": [0], \"showgrid\": true, \"showline\": false, \"showticklabels\": true, \"tickcolor\": \"rgb(127,127,127)\", \"ticks\": \"outside\", \"title\": \"RT (s)\", \"anchor\": \"x1\", \"zeroline\": false}, \"yaxis2\": {\"gridcolor\": \"rgb(255,255,255)\", \"range\": [0], \"showgrid\": true, \"showline\": false, \"showticklabels\": true, \"tickcolor\": \"rgb(127,127,127)\", \"ticks\": \"outside\", \"title\": \"p (accept)\", \"anchor\": \"x2\", \"zeroline\": false}, \"annotations\": [{\"x\": 0.01, \"y\": 1.12, \"showarrow\": false, \"text\": \"PARAMETERS: v: 0.051, a: 0.164, \\u03b8: 0.55\", \"xref\": \"paper\", \"yref\": \"paper\"}, {\"x\": 0.01, \"y\": 1.08, \"showarrow\": false, \"text\": \"MLE: 709.93\", \"xref\": \"paper\", \"yref\": \"paper\"}, {\"x\": 0.01, \"y\": 1.2, \"showarrow\": false, \"text\": \"SUBJECT: 9\", \"font\": {\"family\": \"Arial, sans-serif\", \"size\": 22}, \"xref\": \"paper\", \"yref\": \"paper\"}]}, {\"showLink\": true, \"linkText\": \"Export to plot.ly\"})});</script>"
      ],
      "text/vnd.plotly.v1+html": [
       "<div id=\"ac34c9ed-5169-469c-bf8b-8f72155566d7\" style=\"height: 525px; width: 100%;\" class=\"plotly-graph-div\"></div><script type=\"text/javascript\">require([\"plotly\"], function(Plotly) { window.PLOTLYENV=window.PLOTLYENV || {};window.PLOTLYENV.BASE_URL=\"https://plot.ly\";Plotly.newPlot(\"ac34c9ed-5169-469c-bf8b-8f72155566d7\", [{\"type\": \"scatter\", \"x\": [-1.6516666666666668, -0.7999999999999999, -0.3061111111111112, 0.021999999999999974, 0.3085714285714286, 0.755, 1.6012499999999996], \"y\": [2.2320420636266745, 3.1515045656874707, 3.8372014102181606, 3.679312936441177, 3.66939570704874, 3.2465464065336915, 2.6207960178538383], \"error_y\": {\"type\": \"data\", \"array\": [0.20399141919352085, 0.2601934750729377, 0.5465874954199383, 0.27742531679976895, 0.479598191779937, 0.2319815272773067, 0.2543544269306552], \"color\": \"rgb(0,170,80)\", \"visible\": true}, \"line\": {\"color\": \"rgb(0,100,80)\"}, \"mode\": \"lines+markers\", \"name\": \"Test Data\"}, {\"type\": \"scatter\", \"x\": [-1.6516666666666668, -0.7999999999999999, -0.3061111111111112, 0.021999999999999974, 0.3085714285714286, 0.755, 1.6012499999999996], \"y\": [2.8140665292249265, 3.2337584359083222, 3.4163218978102186, 3.3373556711477326, 3.3792829465770082, 3.2175136188554783, 2.8093634844370086], \"error_y\": {\"type\": \"data\", \"array\": [0.011512937337912471, 0.013243483462920586, 0.014366334985099819, 0.010919445849839978, 0.016263674919580383, 0.012314014963491042, 0.009866720331504401], \"color\": \"rgb(0,100,246)\", \"visible\": true}, \"line\": {\"color\": \"rgb(0,176,246)\"}, \"mode\": \"lines+markers\", \"name\": \"Sim Data\"}, {\"type\": \"scatter\", \"x\": [-1.6516666666666668, -0.7999999999999999, -0.3061111111111112, 0.021999999999999974, 0.3085714285714286, 0.755, 1.6012499999999996], \"y\": [0.0, 0.10526315789473684, 0.05555555555555555, 0.3333333333333333, 0.5714285714285714, 0.6818181818181818, 0.9583333333333334], \"error_y\": {\"type\": \"data\", \"array\": [0.0, 0.0723351864143449, 0.05555555555555556, 0.0875376219064817, 0.13725270326150324, 0.10163945352271771, 0.041666666666666664], \"color\": \"rgb(0,170,80)\", \"visible\": true}, \"line\": {\"color\": \"rgb(0,100,80)\"}, \"mode\": \"lines+markers\", \"name\": \"Test Data\", \"xaxis\": \"x2\", \"yaxis\": \"y2\"}, {\"type\": \"scatter\", \"x\": [-1.6516666666666668, -0.7999999999999999, -0.3061111111111112, 0.021999999999999974, 0.3085714285714286, 0.755, 1.6012499999999996], \"y\": [0.12770936646793335, 0.273981324278438, 0.41549691184727683, 0.5016212929811524, 0.6051471119786019, 0.7355557593543653, 0.8794652182995613], \"error_y\": {\"type\": \"data\", \"array\": [0.002491484261448775, 0.0032487273240671584, 0.0036928148892869063, 0.002905930267244982, 0.004156288176788707, 0.0029865988589534032, 0.002104543387632997], \"color\": \"rgb(0,100,246)\", \"visible\": true}, \"line\": {\"color\": \"rgb(0,176,246)\"}, \"mode\": \"lines+markers\", \"name\": \"Sim Data\", \"xaxis\": \"x2\", \"yaxis\": \"y2\"}], {\"paper_bgcolor\": \"rgb(255,255,255)\", \"plot_bgcolor\": \"rgb(229,229,229)\", \"xaxis\": {\"gridcolor\": \"rgb(255,255,255)\", \"range\": [-2, 2], \"domain\": [0, 0.45], \"showgrid\": true, \"showline\": false, \"showticklabels\": true, \"tickcolor\": \"rgb(127,127,127)\", \"ticks\": \"outside\", \"title\": \"Net Value ($)\", \"zeroline\": false}, \"xaxis2\": {\"gridcolor\": \"rgb(255,255,255)\", \"range\": [-2, 2], \"domain\": [0.55, 1], \"showgrid\": true, \"showline\": false, \"showticklabels\": true, \"tickcolor\": \"rgb(127,127,127)\", \"ticks\": \"outside\", \"title\": \"Net Value ($)\", \"zeroline\": false}, \"yaxis1\": {\"gridcolor\": \"rgb(255,255,255)\", \"range\": [0], \"showgrid\": true, \"showline\": false, \"showticklabels\": true, \"tickcolor\": \"rgb(127,127,127)\", \"ticks\": \"outside\", \"title\": \"RT (s)\", \"anchor\": \"x1\", \"zeroline\": false}, \"yaxis2\": {\"gridcolor\": \"rgb(255,255,255)\", \"range\": [0], \"showgrid\": true, \"showline\": false, \"showticklabels\": true, \"tickcolor\": \"rgb(127,127,127)\", \"ticks\": \"outside\", \"title\": \"p (accept)\", \"anchor\": \"x2\", \"zeroline\": false}, \"annotations\": [{\"x\": 0.01, \"y\": 1.12, \"showarrow\": false, \"text\": \"PARAMETERS: v: 0.051, a: 0.164, \\u03b8: 0.55\", \"xref\": \"paper\", \"yref\": \"paper\"}, {\"x\": 0.01, \"y\": 1.08, \"showarrow\": false, \"text\": \"MLE: 709.93\", \"xref\": \"paper\", \"yref\": \"paper\"}, {\"x\": 0.01, \"y\": 1.2, \"showarrow\": false, \"text\": \"SUBJECT: 9\", \"font\": {\"family\": \"Arial, sans-serif\", \"size\": 22}, \"xref\": \"paper\", \"yref\": \"paper\"}]}, {\"showLink\": true, \"linkText\": \"Export to plot.ly\"})});</script>"
      ]
     },
     "metadata": {},
     "output_type": "display_data"
    },
    {
     "data": {
      "application/vnd.plotly.v1+json": {
       "data": [
        {
         "error_y": {
          "array": [
           0.07616604737317792,
           0.14438549468242168,
           0.14458000890355516,
           0.10787687796187027,
           0.07093739696586357,
           0.10126798438306985,
           0.16481247459750326
          ],
          "color": "rgb(0,170,80)",
          "type": "data",
          "visible": true
         },
         "line": {
          "color": "rgb(0,100,80)"
         },
         "mode": "lines+markers",
         "name": "Test Data",
         "type": "scatter",
         "x": [
          -1.7031249999999998,
          -0.7686956521739132,
          -0.3030434782608696,
          0.03931034482758616,
          0.30571428571428566,
          0.8077777777777778,
          1.543703703703704
         ],
         "y": [
          1.4046127560495743,
          1.5821645455308386,
          1.6670572126288032,
          1.6898470153256342,
          1.364798731411741,
          1.4487807321679107,
          1.5888184394258404
         ]
        },
        {
         "error_y": {
          "array": [
           0.0031159165008727563,
           0.004513207557001026,
           0.006040491113254108,
           0.005446325603230817,
           0.007551862664969624,
           0.004904262097697327,
           0.002701782879076289
          ],
          "color": "rgb(0,100,246)",
          "type": "data",
          "visible": true
         },
         "line": {
          "color": "rgb(0,176,246)"
         },
         "mode": "lines+markers",
         "name": "Sim Data",
         "type": "scatter",
         "x": [
          -1.7031249999999998,
          -0.7686956521739132,
          -0.3030434782608696,
          0.03931034482758616,
          0.30571428571428566,
          0.8077777777777778,
          1.543703703703704
         ],
         "y": [
          1.338963749999998,
          1.6856725217391337,
          1.9308508260869541,
          1.9420260344827613,
          1.9184556428571429,
          1.6536043333333283,
          1.398028555555567
         ]
        },
        {
         "error_y": {
          "array": [
           0,
           0.043478260869565216,
           0.07180198468215396,
           0.09443492370778726,
           0.12529400275814703,
           0.0762215933966706,
           0
          ],
          "color": "rgb(0,170,80)",
          "type": "data",
          "visible": true
         },
         "line": {
          "color": "rgb(0,100,80)"
         },
         "mode": "lines+markers",
         "name": "Test Data",
         "type": "scatter",
         "x": [
          -1.7031249999999998,
          -0.7686956521739132,
          -0.3030434782608696,
          0.03931034482758616,
          0.30571428571428566,
          0.8077777777777778,
          1.543703703703704
         ],
         "xaxis": "x2",
         "y": [
          0,
          0.043478260869565216,
          0.13043478260869565,
          0.4827586206896552,
          0.7142857142857143,
          0.8888888888888888,
          1
         ],
         "yaxis": "y2"
        },
        {
         "error_y": {
          "array": [
           0.0010293656145160593,
           0.0021610820884923614,
           0.003068438448915685,
           0.002934211830822366,
           0.003960657174365559,
           0.002272652485885499,
           0.0009811478267308963
          ],
          "color": "rgb(0,100,246)",
          "type": "data",
          "visible": true
         },
         "line": {
          "color": "rgb(0,176,246)"
         },
         "mode": "lines+markers",
         "name": "Sim Data",
         "type": "scatter",
         "x": [
          -1.7031249999999998,
          -0.7686956521739132,
          -0.3030434782608696,
          0.03931034482758616,
          0.30571428571428566,
          0.8077777777777778,
          1.543703703703704
         ],
         "xaxis": "x2",
         "y": [
          0.01725,
          0.1223913043478261,
          0.3170869565217391,
          0.5181724137931034,
          0.6743571428571429,
          0.8962777777777777,
          0.9732962962962963
         ],
         "yaxis": "y2"
        }
       ],
       "layout": {
        "annotations": [
         {
          "showarrow": false,
          "text": "PARAMETERS: v: 0.134, a: 0.107, θ: 0.775",
          "x": 0.01,
          "xref": "paper",
          "y": 1.12,
          "yref": "paper"
         },
         {
          "showarrow": false,
          "text": "MLE: 577.69",
          "x": 0.01,
          "xref": "paper",
          "y": 1.08,
          "yref": "paper"
         },
         {
          "font": {
           "family": "Arial, sans-serif",
           "size": 22
          },
          "showarrow": false,
          "text": "SUBJECT: 10",
          "x": 0.01,
          "xref": "paper",
          "y": 1.2,
          "yref": "paper"
         }
        ],
        "paper_bgcolor": "rgb(255,255,255)",
        "plot_bgcolor": "rgb(229,229,229)",
        "xaxis": {
         "domain": [
          0,
          0.45
         ],
         "gridcolor": "rgb(255,255,255)",
         "range": [
          -2,
          2
         ],
         "showgrid": true,
         "showline": false,
         "showticklabels": true,
         "tickcolor": "rgb(127,127,127)",
         "ticks": "outside",
         "title": "Net Value ($)",
         "zeroline": false
        },
        "xaxis2": {
         "domain": [
          0.55,
          1
         ],
         "gridcolor": "rgb(255,255,255)",
         "range": [
          -2,
          2
         ],
         "showgrid": true,
         "showline": false,
         "showticklabels": true,
         "tickcolor": "rgb(127,127,127)",
         "ticks": "outside",
         "title": "Net Value ($)",
         "zeroline": false
        },
        "yaxis1": {
         "anchor": "x1",
         "gridcolor": "rgb(255,255,255)",
         "range": [
          0
         ],
         "showgrid": true,
         "showline": false,
         "showticklabels": true,
         "tickcolor": "rgb(127,127,127)",
         "ticks": "outside",
         "title": "RT (s)",
         "zeroline": false
        },
        "yaxis2": {
         "anchor": "x2",
         "gridcolor": "rgb(255,255,255)",
         "range": [
          0
         ],
         "showgrid": true,
         "showline": false,
         "showticklabels": true,
         "tickcolor": "rgb(127,127,127)",
         "ticks": "outside",
         "title": "p (accept)",
         "zeroline": false
        }
       }
      },
      "text/html": [
       "<div id=\"d7089412-5569-4145-bf13-f45223b3f845\" style=\"height: 525px; width: 100%;\" class=\"plotly-graph-div\"></div><script type=\"text/javascript\">require([\"plotly\"], function(Plotly) { window.PLOTLYENV=window.PLOTLYENV || {};window.PLOTLYENV.BASE_URL=\"https://plot.ly\";Plotly.newPlot(\"d7089412-5569-4145-bf13-f45223b3f845\", [{\"type\": \"scatter\", \"x\": [-1.7031249999999998, -0.7686956521739132, -0.3030434782608696, 0.03931034482758616, 0.30571428571428566, 0.8077777777777778, 1.543703703703704], \"y\": [1.4046127560495743, 1.5821645455308386, 1.6670572126288032, 1.6898470153256342, 1.364798731411741, 1.4487807321679107, 1.5888184394258404], \"error_y\": {\"type\": \"data\", \"array\": [0.07616604737317792, 0.14438549468242168, 0.14458000890355516, 0.10787687796187027, 0.07093739696586357, 0.10126798438306985, 0.16481247459750326], \"color\": \"rgb(0,170,80)\", \"visible\": true}, \"line\": {\"color\": \"rgb(0,100,80)\"}, \"mode\": \"lines+markers\", \"name\": \"Test Data\"}, {\"type\": \"scatter\", \"x\": [-1.7031249999999998, -0.7686956521739132, -0.3030434782608696, 0.03931034482758616, 0.30571428571428566, 0.8077777777777778, 1.543703703703704], \"y\": [1.338963749999998, 1.6856725217391337, 1.9308508260869541, 1.9420260344827613, 1.9184556428571429, 1.6536043333333283, 1.398028555555567], \"error_y\": {\"type\": \"data\", \"array\": [0.0031159165008727563, 0.004513207557001026, 0.006040491113254108, 0.005446325603230817, 0.007551862664969624, 0.004904262097697327, 0.002701782879076289], \"color\": \"rgb(0,100,246)\", \"visible\": true}, \"line\": {\"color\": \"rgb(0,176,246)\"}, \"mode\": \"lines+markers\", \"name\": \"Sim Data\"}, {\"type\": \"scatter\", \"x\": [-1.7031249999999998, -0.7686956521739132, -0.3030434782608696, 0.03931034482758616, 0.30571428571428566, 0.8077777777777778, 1.543703703703704], \"y\": [0.0, 0.043478260869565216, 0.13043478260869565, 0.4827586206896552, 0.7142857142857143, 0.8888888888888888, 1.0], \"error_y\": {\"type\": \"data\", \"array\": [0.0, 0.043478260869565216, 0.07180198468215396, 0.09443492370778726, 0.12529400275814703, 0.0762215933966706, 0.0], \"color\": \"rgb(0,170,80)\", \"visible\": true}, \"line\": {\"color\": \"rgb(0,100,80)\"}, \"mode\": \"lines+markers\", \"name\": \"Test Data\", \"xaxis\": \"x2\", \"yaxis\": \"y2\"}, {\"type\": \"scatter\", \"x\": [-1.7031249999999998, -0.7686956521739132, -0.3030434782608696, 0.03931034482758616, 0.30571428571428566, 0.8077777777777778, 1.543703703703704], \"y\": [0.01725, 0.1223913043478261, 0.3170869565217391, 0.5181724137931034, 0.6743571428571429, 0.8962777777777777, 0.9732962962962963], \"error_y\": {\"type\": \"data\", \"array\": [0.0010293656145160593, 0.0021610820884923614, 0.003068438448915685, 0.002934211830822366, 0.003960657174365559, 0.002272652485885499, 0.0009811478267308963], \"color\": \"rgb(0,100,246)\", \"visible\": true}, \"line\": {\"color\": \"rgb(0,176,246)\"}, \"mode\": \"lines+markers\", \"name\": \"Sim Data\", \"xaxis\": \"x2\", \"yaxis\": \"y2\"}], {\"paper_bgcolor\": \"rgb(255,255,255)\", \"plot_bgcolor\": \"rgb(229,229,229)\", \"xaxis\": {\"gridcolor\": \"rgb(255,255,255)\", \"range\": [-2, 2], \"domain\": [0, 0.45], \"showgrid\": true, \"showline\": false, \"showticklabels\": true, \"tickcolor\": \"rgb(127,127,127)\", \"ticks\": \"outside\", \"title\": \"Net Value ($)\", \"zeroline\": false}, \"xaxis2\": {\"gridcolor\": \"rgb(255,255,255)\", \"range\": [-2, 2], \"domain\": [0.55, 1], \"showgrid\": true, \"showline\": false, \"showticklabels\": true, \"tickcolor\": \"rgb(127,127,127)\", \"ticks\": \"outside\", \"title\": \"Net Value ($)\", \"zeroline\": false}, \"yaxis1\": {\"gridcolor\": \"rgb(255,255,255)\", \"range\": [0], \"showgrid\": true, \"showline\": false, \"showticklabels\": true, \"tickcolor\": \"rgb(127,127,127)\", \"ticks\": \"outside\", \"title\": \"RT (s)\", \"anchor\": \"x1\", \"zeroline\": false}, \"yaxis2\": {\"gridcolor\": \"rgb(255,255,255)\", \"range\": [0], \"showgrid\": true, \"showline\": false, \"showticklabels\": true, \"tickcolor\": \"rgb(127,127,127)\", \"ticks\": \"outside\", \"title\": \"p (accept)\", \"anchor\": \"x2\", \"zeroline\": false}, \"annotations\": [{\"x\": 0.01, \"y\": 1.12, \"showarrow\": false, \"text\": \"PARAMETERS: v: 0.134, a: 0.107, \\u03b8: 0.775\", \"xref\": \"paper\", \"yref\": \"paper\"}, {\"x\": 0.01, \"y\": 1.08, \"showarrow\": false, \"text\": \"MLE: 577.69\", \"xref\": \"paper\", \"yref\": \"paper\"}, {\"x\": 0.01, \"y\": 1.2, \"showarrow\": false, \"text\": \"SUBJECT: 10\", \"font\": {\"family\": \"Arial, sans-serif\", \"size\": 22}, \"xref\": \"paper\", \"yref\": \"paper\"}]}, {\"showLink\": true, \"linkText\": \"Export to plot.ly\"})});</script>"
      ],
      "text/vnd.plotly.v1+html": [
       "<div id=\"d7089412-5569-4145-bf13-f45223b3f845\" style=\"height: 525px; width: 100%;\" class=\"plotly-graph-div\"></div><script type=\"text/javascript\">require([\"plotly\"], function(Plotly) { window.PLOTLYENV=window.PLOTLYENV || {};window.PLOTLYENV.BASE_URL=\"https://plot.ly\";Plotly.newPlot(\"d7089412-5569-4145-bf13-f45223b3f845\", [{\"type\": \"scatter\", \"x\": [-1.7031249999999998, -0.7686956521739132, -0.3030434782608696, 0.03931034482758616, 0.30571428571428566, 0.8077777777777778, 1.543703703703704], \"y\": [1.4046127560495743, 1.5821645455308386, 1.6670572126288032, 1.6898470153256342, 1.364798731411741, 1.4487807321679107, 1.5888184394258404], \"error_y\": {\"type\": \"data\", \"array\": [0.07616604737317792, 0.14438549468242168, 0.14458000890355516, 0.10787687796187027, 0.07093739696586357, 0.10126798438306985, 0.16481247459750326], \"color\": \"rgb(0,170,80)\", \"visible\": true}, \"line\": {\"color\": \"rgb(0,100,80)\"}, \"mode\": \"lines+markers\", \"name\": \"Test Data\"}, {\"type\": \"scatter\", \"x\": [-1.7031249999999998, -0.7686956521739132, -0.3030434782608696, 0.03931034482758616, 0.30571428571428566, 0.8077777777777778, 1.543703703703704], \"y\": [1.338963749999998, 1.6856725217391337, 1.9308508260869541, 1.9420260344827613, 1.9184556428571429, 1.6536043333333283, 1.398028555555567], \"error_y\": {\"type\": \"data\", \"array\": [0.0031159165008727563, 0.004513207557001026, 0.006040491113254108, 0.005446325603230817, 0.007551862664969624, 0.004904262097697327, 0.002701782879076289], \"color\": \"rgb(0,100,246)\", \"visible\": true}, \"line\": {\"color\": \"rgb(0,176,246)\"}, \"mode\": \"lines+markers\", \"name\": \"Sim Data\"}, {\"type\": \"scatter\", \"x\": [-1.7031249999999998, -0.7686956521739132, -0.3030434782608696, 0.03931034482758616, 0.30571428571428566, 0.8077777777777778, 1.543703703703704], \"y\": [0.0, 0.043478260869565216, 0.13043478260869565, 0.4827586206896552, 0.7142857142857143, 0.8888888888888888, 1.0], \"error_y\": {\"type\": \"data\", \"array\": [0.0, 0.043478260869565216, 0.07180198468215396, 0.09443492370778726, 0.12529400275814703, 0.0762215933966706, 0.0], \"color\": \"rgb(0,170,80)\", \"visible\": true}, \"line\": {\"color\": \"rgb(0,100,80)\"}, \"mode\": \"lines+markers\", \"name\": \"Test Data\", \"xaxis\": \"x2\", \"yaxis\": \"y2\"}, {\"type\": \"scatter\", \"x\": [-1.7031249999999998, -0.7686956521739132, -0.3030434782608696, 0.03931034482758616, 0.30571428571428566, 0.8077777777777778, 1.543703703703704], \"y\": [0.01725, 0.1223913043478261, 0.3170869565217391, 0.5181724137931034, 0.6743571428571429, 0.8962777777777777, 0.9732962962962963], \"error_y\": {\"type\": \"data\", \"array\": [0.0010293656145160593, 0.0021610820884923614, 0.003068438448915685, 0.002934211830822366, 0.003960657174365559, 0.002272652485885499, 0.0009811478267308963], \"color\": \"rgb(0,100,246)\", \"visible\": true}, \"line\": {\"color\": \"rgb(0,176,246)\"}, \"mode\": \"lines+markers\", \"name\": \"Sim Data\", \"xaxis\": \"x2\", \"yaxis\": \"y2\"}], {\"paper_bgcolor\": \"rgb(255,255,255)\", \"plot_bgcolor\": \"rgb(229,229,229)\", \"xaxis\": {\"gridcolor\": \"rgb(255,255,255)\", \"range\": [-2, 2], \"domain\": [0, 0.45], \"showgrid\": true, \"showline\": false, \"showticklabels\": true, \"tickcolor\": \"rgb(127,127,127)\", \"ticks\": \"outside\", \"title\": \"Net Value ($)\", \"zeroline\": false}, \"xaxis2\": {\"gridcolor\": \"rgb(255,255,255)\", \"range\": [-2, 2], \"domain\": [0.55, 1], \"showgrid\": true, \"showline\": false, \"showticklabels\": true, \"tickcolor\": \"rgb(127,127,127)\", \"ticks\": \"outside\", \"title\": \"Net Value ($)\", \"zeroline\": false}, \"yaxis1\": {\"gridcolor\": \"rgb(255,255,255)\", \"range\": [0], \"showgrid\": true, \"showline\": false, \"showticklabels\": true, \"tickcolor\": \"rgb(127,127,127)\", \"ticks\": \"outside\", \"title\": \"RT (s)\", \"anchor\": \"x1\", \"zeroline\": false}, \"yaxis2\": {\"gridcolor\": \"rgb(255,255,255)\", \"range\": [0], \"showgrid\": true, \"showline\": false, \"showticklabels\": true, \"tickcolor\": \"rgb(127,127,127)\", \"ticks\": \"outside\", \"title\": \"p (accept)\", \"anchor\": \"x2\", \"zeroline\": false}, \"annotations\": [{\"x\": 0.01, \"y\": 1.12, \"showarrow\": false, \"text\": \"PARAMETERS: v: 0.134, a: 0.107, \\u03b8: 0.775\", \"xref\": \"paper\", \"yref\": \"paper\"}, {\"x\": 0.01, \"y\": 1.08, \"showarrow\": false, \"text\": \"MLE: 577.69\", \"xref\": \"paper\", \"yref\": \"paper\"}, {\"x\": 0.01, \"y\": 1.2, \"showarrow\": false, \"text\": \"SUBJECT: 10\", \"font\": {\"family\": \"Arial, sans-serif\", \"size\": 22}, \"xref\": \"paper\", \"yref\": \"paper\"}]}, {\"showLink\": true, \"linkText\": \"Export to plot.ly\"})});</script>"
      ]
     },
     "metadata": {},
     "output_type": "display_data"
    },
    {
     "data": {
      "application/vnd.plotly.v1+json": {
       "data": [
        {
         "error_y": {
          "array": [
           0.16542461317500906,
           0.14250108799010788,
           0.26415835088107037,
           0.21216393868880468,
           0.19879899545356386,
           0.5476666366092845,
           0.3157779737433651
          ],
          "color": "rgb(0,170,80)",
          "type": "data",
          "visible": true
         },
         "line": {
          "color": "rgb(0,100,80)"
         },
         "mode": "lines+markers",
         "name": "Test Data",
         "type": "scatter",
         "x": [
          -1.597931034482759,
          -0.8205,
          -0.33473684210526317,
          0.024615384615384595,
          0.325,
          0.7692857142857144,
          1.6470588235294117
         ],
         "y": [
          1.7674789144306298,
          1.8286884014582026,
          2.3832794208245005,
          2.3723446789976705,
          1.9930844648079074,
          1.8234070319220872,
          1.733123961601556
         ]
        },
        {
         "error_y": {
          "array": [
           0.004982443919129475,
           0.00649127037430554,
           0.006926428210847191,
           0.005799605602391621,
           0.006051491107220033,
           0.007841146180264855,
           0.006414412223260793
          ],
          "color": "rgb(0,100,246)",
          "type": "data",
          "visible": true
         },
         "line": {
          "color": "rgb(0,176,246)"
         },
         "mode": "lines+markers",
         "name": "Sim Data",
         "type": "scatter",
         "x": [
          -1.597931034482759,
          -0.8205,
          -0.33473684210526317,
          0.024615384615384595,
          0.325,
          0.7692857142857144,
          1.6470588235294117
         ],
         "y": [
          1.845371862068965,
          1.942933946697336,
          1.9678544736842232,
          1.9403734902684693,
          1.9698985332110912,
          1.9550674285714214,
          1.8674065294117708
         ]
        },
        {
         "error_y": {
          "array": [
           0.034482758620689655,
           0.08191780219091253,
           0.085947008518708,
           0.10000000000000002,
           0.04166666666666667,
           0.07142857142857144,
           0
          ],
          "color": "rgb(0,170,80)",
          "type": "data",
          "visible": true
         },
         "line": {
          "color": "rgb(0,100,80)"
         },
         "mode": "lines+markers",
         "name": "Test Data",
         "type": "scatter",
         "x": [
          -1.597931034482759,
          -0.8205,
          -0.33473684210526317,
          0.024615384615384595,
          0.325,
          0.7692857142857144,
          1.6470588235294117
         ],
         "xaxis": "x2",
         "y": [
          0.034482758620689655,
          0.15,
          0.15789473684210525,
          0.5,
          0.9583333333333334,
          0.9285714285714286,
          1
         ],
         "yaxis": "y2"
        },
        {
         "error_y": {
          "array": [
           0.0024720352656932617,
           0.003435612724015591,
           0.003582824159517073,
           0.0031000111575120925,
           0.003213215547608726,
           0.004178839983080628,
           0.003326346837300769
          ],
          "color": "rgb(0,100,246)",
          "type": "data",
          "visible": true
         },
         "line": {
          "color": "rgb(0,176,246)"
         },
         "mode": "lines+markers",
         "name": "Sim Data",
         "type": "scatter",
         "x": [
          -1.597931034482759,
          -0.8205,
          -0.33473684210526317,
          0.024615384615384595,
          0.325,
          0.7692857142857144,
          1.6470588235294117
         ],
         "xaxis": "x2",
         "y": [
          0.23020689655172413,
          0.38186909345467274,
          0.42178947368421055,
          0.5129240710823909,
          0.5472956079673306,
          0.5744285714285714,
          0.7488235294117647
         ],
         "yaxis": "y2"
        }
       ],
       "layout": {
        "annotations": [
         {
          "showarrow": false,
          "text": "PARAMETERS: v: 0.051, a: 0.107, θ: 0.325",
          "x": 0.01,
          "xref": "paper",
          "y": 1.12,
          "yref": "paper"
         },
         {
          "showarrow": false,
          "text": "MLE: 659.23",
          "x": 0.01,
          "xref": "paper",
          "y": 1.08,
          "yref": "paper"
         },
         {
          "font": {
           "family": "Arial, sans-serif",
           "size": 22
          },
          "showarrow": false,
          "text": "SUBJECT: 11",
          "x": 0.01,
          "xref": "paper",
          "y": 1.2,
          "yref": "paper"
         }
        ],
        "paper_bgcolor": "rgb(255,255,255)",
        "plot_bgcolor": "rgb(229,229,229)",
        "xaxis": {
         "domain": [
          0,
          0.45
         ],
         "gridcolor": "rgb(255,255,255)",
         "range": [
          -2,
          2
         ],
         "showgrid": true,
         "showline": false,
         "showticklabels": true,
         "tickcolor": "rgb(127,127,127)",
         "ticks": "outside",
         "title": "Net Value ($)",
         "zeroline": false
        },
        "xaxis2": {
         "domain": [
          0.55,
          1
         ],
         "gridcolor": "rgb(255,255,255)",
         "range": [
          -2,
          2
         ],
         "showgrid": true,
         "showline": false,
         "showticklabels": true,
         "tickcolor": "rgb(127,127,127)",
         "ticks": "outside",
         "title": "Net Value ($)",
         "zeroline": false
        },
        "yaxis1": {
         "anchor": "x1",
         "gridcolor": "rgb(255,255,255)",
         "range": [
          0
         ],
         "showgrid": true,
         "showline": false,
         "showticklabels": true,
         "tickcolor": "rgb(127,127,127)",
         "ticks": "outside",
         "title": "RT (s)",
         "zeroline": false
        },
        "yaxis2": {
         "anchor": "x2",
         "gridcolor": "rgb(255,255,255)",
         "range": [
          0
         ],
         "showgrid": true,
         "showline": false,
         "showticklabels": true,
         "tickcolor": "rgb(127,127,127)",
         "ticks": "outside",
         "title": "p (accept)",
         "zeroline": false
        }
       }
      },
      "text/html": [
       "<div id=\"c504cfa5-56df-4217-8a34-0cdf1cb15731\" style=\"height: 525px; width: 100%;\" class=\"plotly-graph-div\"></div><script type=\"text/javascript\">require([\"plotly\"], function(Plotly) { window.PLOTLYENV=window.PLOTLYENV || {};window.PLOTLYENV.BASE_URL=\"https://plot.ly\";Plotly.newPlot(\"c504cfa5-56df-4217-8a34-0cdf1cb15731\", [{\"type\": \"scatter\", \"x\": [-1.597931034482759, -0.8205, -0.33473684210526317, 0.024615384615384595, 0.325, 0.7692857142857144, 1.6470588235294117], \"y\": [1.7674789144306298, 1.8286884014582026, 2.3832794208245005, 2.3723446789976705, 1.9930844648079074, 1.8234070319220872, 1.733123961601556], \"error_y\": {\"type\": \"data\", \"array\": [0.16542461317500906, 0.14250108799010788, 0.26415835088107037, 0.21216393868880468, 0.19879899545356386, 0.5476666366092845, 0.3157779737433651], \"color\": \"rgb(0,170,80)\", \"visible\": true}, \"line\": {\"color\": \"rgb(0,100,80)\"}, \"mode\": \"lines+markers\", \"name\": \"Test Data\"}, {\"type\": \"scatter\", \"x\": [-1.597931034482759, -0.8205, -0.33473684210526317, 0.024615384615384595, 0.325, 0.7692857142857144, 1.6470588235294117], \"y\": [1.845371862068965, 1.942933946697336, 1.9678544736842232, 1.9403734902684693, 1.9698985332110912, 1.9550674285714214, 1.8674065294117708], \"error_y\": {\"type\": \"data\", \"array\": [0.004982443919129475, 0.00649127037430554, 0.006926428210847191, 0.005799605602391621, 0.006051491107220033, 0.007841146180264855, 0.006414412223260793], \"color\": \"rgb(0,100,246)\", \"visible\": true}, \"line\": {\"color\": \"rgb(0,176,246)\"}, \"mode\": \"lines+markers\", \"name\": \"Sim Data\"}, {\"type\": \"scatter\", \"x\": [-1.597931034482759, -0.8205, -0.33473684210526317, 0.024615384615384595, 0.325, 0.7692857142857144, 1.6470588235294117], \"y\": [0.034482758620689655, 0.15, 0.15789473684210525, 0.5, 0.9583333333333334, 0.9285714285714286, 1.0], \"error_y\": {\"type\": \"data\", \"array\": [0.034482758620689655, 0.08191780219091253, 0.085947008518708, 0.10000000000000002, 0.04166666666666667, 0.07142857142857144, 0.0], \"color\": \"rgb(0,170,80)\", \"visible\": true}, \"line\": {\"color\": \"rgb(0,100,80)\"}, \"mode\": \"lines+markers\", \"name\": \"Test Data\", \"xaxis\": \"x2\", \"yaxis\": \"y2\"}, {\"type\": \"scatter\", \"x\": [-1.597931034482759, -0.8205, -0.33473684210526317, 0.024615384615384595, 0.325, 0.7692857142857144, 1.6470588235294117], \"y\": [0.23020689655172413, 0.38186909345467274, 0.42178947368421055, 0.5129240710823909, 0.5472956079673306, 0.5744285714285714, 0.7488235294117647], \"error_y\": {\"type\": \"data\", \"array\": [0.0024720352656932617, 0.003435612724015591, 0.003582824159517073, 0.0031000111575120925, 0.003213215547608726, 0.004178839983080628, 0.003326346837300769], \"color\": \"rgb(0,100,246)\", \"visible\": true}, \"line\": {\"color\": \"rgb(0,176,246)\"}, \"mode\": \"lines+markers\", \"name\": \"Sim Data\", \"xaxis\": \"x2\", \"yaxis\": \"y2\"}], {\"paper_bgcolor\": \"rgb(255,255,255)\", \"plot_bgcolor\": \"rgb(229,229,229)\", \"xaxis\": {\"gridcolor\": \"rgb(255,255,255)\", \"range\": [-2, 2], \"domain\": [0, 0.45], \"showgrid\": true, \"showline\": false, \"showticklabels\": true, \"tickcolor\": \"rgb(127,127,127)\", \"ticks\": \"outside\", \"title\": \"Net Value ($)\", \"zeroline\": false}, \"xaxis2\": {\"gridcolor\": \"rgb(255,255,255)\", \"range\": [-2, 2], \"domain\": [0.55, 1], \"showgrid\": true, \"showline\": false, \"showticklabels\": true, \"tickcolor\": \"rgb(127,127,127)\", \"ticks\": \"outside\", \"title\": \"Net Value ($)\", \"zeroline\": false}, \"yaxis1\": {\"gridcolor\": \"rgb(255,255,255)\", \"range\": [0], \"showgrid\": true, \"showline\": false, \"showticklabels\": true, \"tickcolor\": \"rgb(127,127,127)\", \"ticks\": \"outside\", \"title\": \"RT (s)\", \"anchor\": \"x1\", \"zeroline\": false}, \"yaxis2\": {\"gridcolor\": \"rgb(255,255,255)\", \"range\": [0], \"showgrid\": true, \"showline\": false, \"showticklabels\": true, \"tickcolor\": \"rgb(127,127,127)\", \"ticks\": \"outside\", \"title\": \"p (accept)\", \"anchor\": \"x2\", \"zeroline\": false}, \"annotations\": [{\"x\": 0.01, \"y\": 1.12, \"showarrow\": false, \"text\": \"PARAMETERS: v: 0.051, a: 0.107, \\u03b8: 0.325\", \"xref\": \"paper\", \"yref\": \"paper\"}, {\"x\": 0.01, \"y\": 1.08, \"showarrow\": false, \"text\": \"MLE: 659.23\", \"xref\": \"paper\", \"yref\": \"paper\"}, {\"x\": 0.01, \"y\": 1.2, \"showarrow\": false, \"text\": \"SUBJECT: 11\", \"font\": {\"family\": \"Arial, sans-serif\", \"size\": 22}, \"xref\": \"paper\", \"yref\": \"paper\"}]}, {\"showLink\": true, \"linkText\": \"Export to plot.ly\"})});</script>"
      ],
      "text/vnd.plotly.v1+html": [
       "<div id=\"c504cfa5-56df-4217-8a34-0cdf1cb15731\" style=\"height: 525px; width: 100%;\" class=\"plotly-graph-div\"></div><script type=\"text/javascript\">require([\"plotly\"], function(Plotly) { window.PLOTLYENV=window.PLOTLYENV || {};window.PLOTLYENV.BASE_URL=\"https://plot.ly\";Plotly.newPlot(\"c504cfa5-56df-4217-8a34-0cdf1cb15731\", [{\"type\": \"scatter\", \"x\": [-1.597931034482759, -0.8205, -0.33473684210526317, 0.024615384615384595, 0.325, 0.7692857142857144, 1.6470588235294117], \"y\": [1.7674789144306298, 1.8286884014582026, 2.3832794208245005, 2.3723446789976705, 1.9930844648079074, 1.8234070319220872, 1.733123961601556], \"error_y\": {\"type\": \"data\", \"array\": [0.16542461317500906, 0.14250108799010788, 0.26415835088107037, 0.21216393868880468, 0.19879899545356386, 0.5476666366092845, 0.3157779737433651], \"color\": \"rgb(0,170,80)\", \"visible\": true}, \"line\": {\"color\": \"rgb(0,100,80)\"}, \"mode\": \"lines+markers\", \"name\": \"Test Data\"}, {\"type\": \"scatter\", \"x\": [-1.597931034482759, -0.8205, -0.33473684210526317, 0.024615384615384595, 0.325, 0.7692857142857144, 1.6470588235294117], \"y\": [1.845371862068965, 1.942933946697336, 1.9678544736842232, 1.9403734902684693, 1.9698985332110912, 1.9550674285714214, 1.8674065294117708], \"error_y\": {\"type\": \"data\", \"array\": [0.004982443919129475, 0.00649127037430554, 0.006926428210847191, 0.005799605602391621, 0.006051491107220033, 0.007841146180264855, 0.006414412223260793], \"color\": \"rgb(0,100,246)\", \"visible\": true}, \"line\": {\"color\": \"rgb(0,176,246)\"}, \"mode\": \"lines+markers\", \"name\": \"Sim Data\"}, {\"type\": \"scatter\", \"x\": [-1.597931034482759, -0.8205, -0.33473684210526317, 0.024615384615384595, 0.325, 0.7692857142857144, 1.6470588235294117], \"y\": [0.034482758620689655, 0.15, 0.15789473684210525, 0.5, 0.9583333333333334, 0.9285714285714286, 1.0], \"error_y\": {\"type\": \"data\", \"array\": [0.034482758620689655, 0.08191780219091253, 0.085947008518708, 0.10000000000000002, 0.04166666666666667, 0.07142857142857144, 0.0], \"color\": \"rgb(0,170,80)\", \"visible\": true}, \"line\": {\"color\": \"rgb(0,100,80)\"}, \"mode\": \"lines+markers\", \"name\": \"Test Data\", \"xaxis\": \"x2\", \"yaxis\": \"y2\"}, {\"type\": \"scatter\", \"x\": [-1.597931034482759, -0.8205, -0.33473684210526317, 0.024615384615384595, 0.325, 0.7692857142857144, 1.6470588235294117], \"y\": [0.23020689655172413, 0.38186909345467274, 0.42178947368421055, 0.5129240710823909, 0.5472956079673306, 0.5744285714285714, 0.7488235294117647], \"error_y\": {\"type\": \"data\", \"array\": [0.0024720352656932617, 0.003435612724015591, 0.003582824159517073, 0.0031000111575120925, 0.003213215547608726, 0.004178839983080628, 0.003326346837300769], \"color\": \"rgb(0,100,246)\", \"visible\": true}, \"line\": {\"color\": \"rgb(0,176,246)\"}, \"mode\": \"lines+markers\", \"name\": \"Sim Data\", \"xaxis\": \"x2\", \"yaxis\": \"y2\"}], {\"paper_bgcolor\": \"rgb(255,255,255)\", \"plot_bgcolor\": \"rgb(229,229,229)\", \"xaxis\": {\"gridcolor\": \"rgb(255,255,255)\", \"range\": [-2, 2], \"domain\": [0, 0.45], \"showgrid\": true, \"showline\": false, \"showticklabels\": true, \"tickcolor\": \"rgb(127,127,127)\", \"ticks\": \"outside\", \"title\": \"Net Value ($)\", \"zeroline\": false}, \"xaxis2\": {\"gridcolor\": \"rgb(255,255,255)\", \"range\": [-2, 2], \"domain\": [0.55, 1], \"showgrid\": true, \"showline\": false, \"showticklabels\": true, \"tickcolor\": \"rgb(127,127,127)\", \"ticks\": \"outside\", \"title\": \"Net Value ($)\", \"zeroline\": false}, \"yaxis1\": {\"gridcolor\": \"rgb(255,255,255)\", \"range\": [0], \"showgrid\": true, \"showline\": false, \"showticklabels\": true, \"tickcolor\": \"rgb(127,127,127)\", \"ticks\": \"outside\", \"title\": \"RT (s)\", \"anchor\": \"x1\", \"zeroline\": false}, \"yaxis2\": {\"gridcolor\": \"rgb(255,255,255)\", \"range\": [0], \"showgrid\": true, \"showline\": false, \"showticklabels\": true, \"tickcolor\": \"rgb(127,127,127)\", \"ticks\": \"outside\", \"title\": \"p (accept)\", \"anchor\": \"x2\", \"zeroline\": false}, \"annotations\": [{\"x\": 0.01, \"y\": 1.12, \"showarrow\": false, \"text\": \"PARAMETERS: v: 0.051, a: 0.107, \\u03b8: 0.325\", \"xref\": \"paper\", \"yref\": \"paper\"}, {\"x\": 0.01, \"y\": 1.08, \"showarrow\": false, \"text\": \"MLE: 659.23\", \"xref\": \"paper\", \"yref\": \"paper\"}, {\"x\": 0.01, \"y\": 1.2, \"showarrow\": false, \"text\": \"SUBJECT: 11\", \"font\": {\"family\": \"Arial, sans-serif\", \"size\": 22}, \"xref\": \"paper\", \"yref\": \"paper\"}]}, {\"showLink\": true, \"linkText\": \"Export to plot.ly\"})});</script>"
      ]
     },
     "metadata": {},
     "output_type": "display_data"
    },
    {
     "data": {
      "application/vnd.plotly.v1+json": {
       "data": [
        {
         "error_y": {
          "array": [
           0.10609880159574052,
           0.1488715426815066,
           0.25316036154916904,
           0.22382898810538016,
           0.1427101860349365,
           0.11909295856362125,
           0.15002263903662438
          ],
          "color": "rgb(0,170,80)",
          "type": "data",
          "visible": true
         },
         "line": {
          "color": "rgb(0,100,80)"
         },
         "mode": "lines+markers",
         "name": "Test Data",
         "type": "scatter",
         "x": [
          -1.9057142857142857,
          -0.7792857142857142,
          -0.32714285714285724,
          0.03241379310344826,
          0.3111111111111111,
          0.8163157894736842,
          1.6485714285714284
         ],
         "y": [
          1.4269307483648717,
          1.3549157306697457,
          2.125731202156333,
          2.0357956772866848,
          1.6631095707739905,
          1.3957581082833805,
          1.5227779725454245
         ]
        },
        {
         "error_y": {
          "array": [
           0.0027990795939967545,
           0.006511132798742466,
           0.005492084495019782,
           0.005629888658376852,
           0.0069621813797044255,
           0.0055508398092444155,
           0.004283946632118127
          ],
          "color": "rgb(0,100,246)",
          "type": "data",
          "visible": true
         },
         "line": {
          "color": "rgb(0,176,246)"
         },
         "mode": "lines+markers",
         "name": "Sim Data",
         "type": "scatter",
         "x": [
          -1.9057142857142857,
          -0.7792857142857142,
          -0.32714285714285724,
          0.03241379310344826,
          0.3111111111111111,
          0.8163157894736842,
          1.6485714285714284
         ],
         "y": [
          1.4161572142857097,
          1.7827960000000007,
          1.938324333011893,
          1.9792452153522517,
          1.940006444444436,
          1.7767399999999969,
          1.4747995714285695
         ]
        },
        {
         "error_y": {
          "array": [
           0.04956347617776506,
           0.09705231721239392,
           0.08987898137227082,
           0.08742975048915688,
           0.05555555555555555,
           0.05263157894736841,
           0
          ],
          "color": "rgb(0,170,80)",
          "type": "data",
          "visible": true
         },
         "line": {
          "color": "rgb(0,100,80)"
         },
         "mode": "lines+markers",
         "name": "Test Data",
         "type": "scatter",
         "x": [
          -1.9057142857142857,
          -0.7792857142857142,
          -0.32714285714285724,
          0.03241379310344826,
          0.3111111111111111,
          0.8163157894736842,
          1.6485714285714284
         ],
         "xaxis": "x2",
         "y": [
          0.07142857142857142,
          0.14285714285714285,
          0.32142857142857145,
          0.6896551724137931,
          0.9444444444444444,
          0.9473684210526315,
          1
         ],
         "yaxis": "y2"
        },
        {
         "error_y": {
          "array": [
           0.001078118195116328,
           0.0032062493009323892,
           0.0028313652121162783,
           0.002935191154698578,
           0.0035514213397297976,
           0.0026866784804821056,
           0.001610113368510929
          ],
          "color": "rgb(0,100,246)",
          "type": "data",
          "visible": true
         },
         "line": {
          "color": "rgb(0,176,246)"
         },
         "mode": "lines+markers",
         "name": "Sim Data",
         "type": "scatter",
         "x": [
          -1.9057142857142857,
          -0.7792857142857142,
          -0.32714285714285724,
          0.03241379310344826,
          0.3111111111111111,
          0.8163157894736842,
          1.6485714285714284
         ],
         "xaxis": "x2",
         "y": [
          0.033678571428571426,
          0.1742857142857143,
          0.340155005535912,
          0.5131211421083486,
          0.6516111111111111,
          0.8359473684210527,
          0.9622857142857143
         ],
         "yaxis": "y2"
        }
       ],
       "layout": {
        "annotations": [
         {
          "showarrow": false,
          "text": "PARAMETERS: v: 0.093, a: 0.107, θ: 1.0",
          "x": 0.01,
          "xref": "paper",
          "y": 1.12,
          "yref": "paper"
         },
         {
          "showarrow": false,
          "text": "MLE: 598.94",
          "x": 0.01,
          "xref": "paper",
          "y": 1.08,
          "yref": "paper"
         },
         {
          "font": {
           "family": "Arial, sans-serif",
           "size": 22
          },
          "showarrow": false,
          "text": "SUBJECT: 12",
          "x": 0.01,
          "xref": "paper",
          "y": 1.2,
          "yref": "paper"
         }
        ],
        "paper_bgcolor": "rgb(255,255,255)",
        "plot_bgcolor": "rgb(229,229,229)",
        "xaxis": {
         "domain": [
          0,
          0.45
         ],
         "gridcolor": "rgb(255,255,255)",
         "range": [
          -2,
          2
         ],
         "showgrid": true,
         "showline": false,
         "showticklabels": true,
         "tickcolor": "rgb(127,127,127)",
         "ticks": "outside",
         "title": "Net Value ($)",
         "zeroline": false
        },
        "xaxis2": {
         "domain": [
          0.55,
          1
         ],
         "gridcolor": "rgb(255,255,255)",
         "range": [
          -2,
          2
         ],
         "showgrid": true,
         "showline": false,
         "showticklabels": true,
         "tickcolor": "rgb(127,127,127)",
         "ticks": "outside",
         "title": "Net Value ($)",
         "zeroline": false
        },
        "yaxis1": {
         "anchor": "x1",
         "gridcolor": "rgb(255,255,255)",
         "range": [
          0
         ],
         "showgrid": true,
         "showline": false,
         "showticklabels": true,
         "tickcolor": "rgb(127,127,127)",
         "ticks": "outside",
         "title": "RT (s)",
         "zeroline": false
        },
        "yaxis2": {
         "anchor": "x2",
         "gridcolor": "rgb(255,255,255)",
         "range": [
          0
         ],
         "showgrid": true,
         "showline": false,
         "showticklabels": true,
         "tickcolor": "rgb(127,127,127)",
         "ticks": "outside",
         "title": "p (accept)",
         "zeroline": false
        }
       }
      },
      "text/html": [
       "<div id=\"d5723c0a-7f23-4d5a-aa1f-405765e46119\" style=\"height: 525px; width: 100%;\" class=\"plotly-graph-div\"></div><script type=\"text/javascript\">require([\"plotly\"], function(Plotly) { window.PLOTLYENV=window.PLOTLYENV || {};window.PLOTLYENV.BASE_URL=\"https://plot.ly\";Plotly.newPlot(\"d5723c0a-7f23-4d5a-aa1f-405765e46119\", [{\"type\": \"scatter\", \"x\": [-1.9057142857142857, -0.7792857142857142, -0.32714285714285724, 0.03241379310344826, 0.3111111111111111, 0.8163157894736842, 1.6485714285714284], \"y\": [1.4269307483648717, 1.3549157306697457, 2.125731202156333, 2.0357956772866848, 1.6631095707739905, 1.3957581082833805, 1.5227779725454245], \"error_y\": {\"type\": \"data\", \"array\": [0.10609880159574052, 0.1488715426815066, 0.25316036154916904, 0.22382898810538016, 0.1427101860349365, 0.11909295856362125, 0.15002263903662438], \"color\": \"rgb(0,170,80)\", \"visible\": true}, \"line\": {\"color\": \"rgb(0,100,80)\"}, \"mode\": \"lines+markers\", \"name\": \"Test Data\"}, {\"type\": \"scatter\", \"x\": [-1.9057142857142857, -0.7792857142857142, -0.32714285714285724, 0.03241379310344826, 0.3111111111111111, 0.8163157894736842, 1.6485714285714284], \"y\": [1.4161572142857097, 1.7827960000000007, 1.938324333011893, 1.9792452153522517, 1.940006444444436, 1.7767399999999969, 1.4747995714285695], \"error_y\": {\"type\": \"data\", \"array\": [0.0027990795939967545, 0.006511132798742466, 0.005492084495019782, 0.005629888658376852, 0.0069621813797044255, 0.0055508398092444155, 0.004283946632118127], \"color\": \"rgb(0,100,246)\", \"visible\": true}, \"line\": {\"color\": \"rgb(0,176,246)\"}, \"mode\": \"lines+markers\", \"name\": \"Sim Data\"}, {\"type\": \"scatter\", \"x\": [-1.9057142857142857, -0.7792857142857142, -0.32714285714285724, 0.03241379310344826, 0.3111111111111111, 0.8163157894736842, 1.6485714285714284], \"y\": [0.07142857142857142, 0.14285714285714285, 0.32142857142857145, 0.6896551724137931, 0.9444444444444444, 0.9473684210526315, 1.0], \"error_y\": {\"type\": \"data\", \"array\": [0.04956347617776506, 0.09705231721239392, 0.08987898137227082, 0.08742975048915688, 0.05555555555555555, 0.05263157894736841, 0.0], \"color\": \"rgb(0,170,80)\", \"visible\": true}, \"line\": {\"color\": \"rgb(0,100,80)\"}, \"mode\": \"lines+markers\", \"name\": \"Test Data\", \"xaxis\": \"x2\", \"yaxis\": \"y2\"}, {\"type\": \"scatter\", \"x\": [-1.9057142857142857, -0.7792857142857142, -0.32714285714285724, 0.03241379310344826, 0.3111111111111111, 0.8163157894736842, 1.6485714285714284], \"y\": [0.033678571428571426, 0.1742857142857143, 0.340155005535912, 0.5131211421083486, 0.6516111111111111, 0.8359473684210527, 0.9622857142857143], \"error_y\": {\"type\": \"data\", \"array\": [0.001078118195116328, 0.0032062493009323892, 0.0028313652121162783, 0.002935191154698578, 0.0035514213397297976, 0.0026866784804821056, 0.001610113368510929], \"color\": \"rgb(0,100,246)\", \"visible\": true}, \"line\": {\"color\": \"rgb(0,176,246)\"}, \"mode\": \"lines+markers\", \"name\": \"Sim Data\", \"xaxis\": \"x2\", \"yaxis\": \"y2\"}], {\"paper_bgcolor\": \"rgb(255,255,255)\", \"plot_bgcolor\": \"rgb(229,229,229)\", \"xaxis\": {\"gridcolor\": \"rgb(255,255,255)\", \"range\": [-2, 2], \"domain\": [0, 0.45], \"showgrid\": true, \"showline\": false, \"showticklabels\": true, \"tickcolor\": \"rgb(127,127,127)\", \"ticks\": \"outside\", \"title\": \"Net Value ($)\", \"zeroline\": false}, \"xaxis2\": {\"gridcolor\": \"rgb(255,255,255)\", \"range\": [-2, 2], \"domain\": [0.55, 1], \"showgrid\": true, \"showline\": false, \"showticklabels\": true, \"tickcolor\": \"rgb(127,127,127)\", \"ticks\": \"outside\", \"title\": \"Net Value ($)\", \"zeroline\": false}, \"yaxis1\": {\"gridcolor\": \"rgb(255,255,255)\", \"range\": [0], \"showgrid\": true, \"showline\": false, \"showticklabels\": true, \"tickcolor\": \"rgb(127,127,127)\", \"ticks\": \"outside\", \"title\": \"RT (s)\", \"anchor\": \"x1\", \"zeroline\": false}, \"yaxis2\": {\"gridcolor\": \"rgb(255,255,255)\", \"range\": [0], \"showgrid\": true, \"showline\": false, \"showticklabels\": true, \"tickcolor\": \"rgb(127,127,127)\", \"ticks\": \"outside\", \"title\": \"p (accept)\", \"anchor\": \"x2\", \"zeroline\": false}, \"annotations\": [{\"x\": 0.01, \"y\": 1.12, \"showarrow\": false, \"text\": \"PARAMETERS: v: 0.093, a: 0.107, \\u03b8: 1.0\", \"xref\": \"paper\", \"yref\": \"paper\"}, {\"x\": 0.01, \"y\": 1.08, \"showarrow\": false, \"text\": \"MLE: 598.94\", \"xref\": \"paper\", \"yref\": \"paper\"}, {\"x\": 0.01, \"y\": 1.2, \"showarrow\": false, \"text\": \"SUBJECT: 12\", \"font\": {\"family\": \"Arial, sans-serif\", \"size\": 22}, \"xref\": \"paper\", \"yref\": \"paper\"}]}, {\"showLink\": true, \"linkText\": \"Export to plot.ly\"})});</script>"
      ],
      "text/vnd.plotly.v1+html": [
       "<div id=\"d5723c0a-7f23-4d5a-aa1f-405765e46119\" style=\"height: 525px; width: 100%;\" class=\"plotly-graph-div\"></div><script type=\"text/javascript\">require([\"plotly\"], function(Plotly) { window.PLOTLYENV=window.PLOTLYENV || {};window.PLOTLYENV.BASE_URL=\"https://plot.ly\";Plotly.newPlot(\"d5723c0a-7f23-4d5a-aa1f-405765e46119\", [{\"type\": \"scatter\", \"x\": [-1.9057142857142857, -0.7792857142857142, -0.32714285714285724, 0.03241379310344826, 0.3111111111111111, 0.8163157894736842, 1.6485714285714284], \"y\": [1.4269307483648717, 1.3549157306697457, 2.125731202156333, 2.0357956772866848, 1.6631095707739905, 1.3957581082833805, 1.5227779725454245], \"error_y\": {\"type\": \"data\", \"array\": [0.10609880159574052, 0.1488715426815066, 0.25316036154916904, 0.22382898810538016, 0.1427101860349365, 0.11909295856362125, 0.15002263903662438], \"color\": \"rgb(0,170,80)\", \"visible\": true}, \"line\": {\"color\": \"rgb(0,100,80)\"}, \"mode\": \"lines+markers\", \"name\": \"Test Data\"}, {\"type\": \"scatter\", \"x\": [-1.9057142857142857, -0.7792857142857142, -0.32714285714285724, 0.03241379310344826, 0.3111111111111111, 0.8163157894736842, 1.6485714285714284], \"y\": [1.4161572142857097, 1.7827960000000007, 1.938324333011893, 1.9792452153522517, 1.940006444444436, 1.7767399999999969, 1.4747995714285695], \"error_y\": {\"type\": \"data\", \"array\": [0.0027990795939967545, 0.006511132798742466, 0.005492084495019782, 0.005629888658376852, 0.0069621813797044255, 0.0055508398092444155, 0.004283946632118127], \"color\": \"rgb(0,100,246)\", \"visible\": true}, \"line\": {\"color\": \"rgb(0,176,246)\"}, \"mode\": \"lines+markers\", \"name\": \"Sim Data\"}, {\"type\": \"scatter\", \"x\": [-1.9057142857142857, -0.7792857142857142, -0.32714285714285724, 0.03241379310344826, 0.3111111111111111, 0.8163157894736842, 1.6485714285714284], \"y\": [0.07142857142857142, 0.14285714285714285, 0.32142857142857145, 0.6896551724137931, 0.9444444444444444, 0.9473684210526315, 1.0], \"error_y\": {\"type\": \"data\", \"array\": [0.04956347617776506, 0.09705231721239392, 0.08987898137227082, 0.08742975048915688, 0.05555555555555555, 0.05263157894736841, 0.0], \"color\": \"rgb(0,170,80)\", \"visible\": true}, \"line\": {\"color\": \"rgb(0,100,80)\"}, \"mode\": \"lines+markers\", \"name\": \"Test Data\", \"xaxis\": \"x2\", \"yaxis\": \"y2\"}, {\"type\": \"scatter\", \"x\": [-1.9057142857142857, -0.7792857142857142, -0.32714285714285724, 0.03241379310344826, 0.3111111111111111, 0.8163157894736842, 1.6485714285714284], \"y\": [0.033678571428571426, 0.1742857142857143, 0.340155005535912, 0.5131211421083486, 0.6516111111111111, 0.8359473684210527, 0.9622857142857143], \"error_y\": {\"type\": \"data\", \"array\": [0.001078118195116328, 0.0032062493009323892, 0.0028313652121162783, 0.002935191154698578, 0.0035514213397297976, 0.0026866784804821056, 0.001610113368510929], \"color\": \"rgb(0,100,246)\", \"visible\": true}, \"line\": {\"color\": \"rgb(0,176,246)\"}, \"mode\": \"lines+markers\", \"name\": \"Sim Data\", \"xaxis\": \"x2\", \"yaxis\": \"y2\"}], {\"paper_bgcolor\": \"rgb(255,255,255)\", \"plot_bgcolor\": \"rgb(229,229,229)\", \"xaxis\": {\"gridcolor\": \"rgb(255,255,255)\", \"range\": [-2, 2], \"domain\": [0, 0.45], \"showgrid\": true, \"showline\": false, \"showticklabels\": true, \"tickcolor\": \"rgb(127,127,127)\", \"ticks\": \"outside\", \"title\": \"Net Value ($)\", \"zeroline\": false}, \"xaxis2\": {\"gridcolor\": \"rgb(255,255,255)\", \"range\": [-2, 2], \"domain\": [0.55, 1], \"showgrid\": true, \"showline\": false, \"showticklabels\": true, \"tickcolor\": \"rgb(127,127,127)\", \"ticks\": \"outside\", \"title\": \"Net Value ($)\", \"zeroline\": false}, \"yaxis1\": {\"gridcolor\": \"rgb(255,255,255)\", \"range\": [0], \"showgrid\": true, \"showline\": false, \"showticklabels\": true, \"tickcolor\": \"rgb(127,127,127)\", \"ticks\": \"outside\", \"title\": \"RT (s)\", \"anchor\": \"x1\", \"zeroline\": false}, \"yaxis2\": {\"gridcolor\": \"rgb(255,255,255)\", \"range\": [0], \"showgrid\": true, \"showline\": false, \"showticklabels\": true, \"tickcolor\": \"rgb(127,127,127)\", \"ticks\": \"outside\", \"title\": \"p (accept)\", \"anchor\": \"x2\", \"zeroline\": false}, \"annotations\": [{\"x\": 0.01, \"y\": 1.12, \"showarrow\": false, \"text\": \"PARAMETERS: v: 0.093, a: 0.107, \\u03b8: 1.0\", \"xref\": \"paper\", \"yref\": \"paper\"}, {\"x\": 0.01, \"y\": 1.08, \"showarrow\": false, \"text\": \"MLE: 598.94\", \"xref\": \"paper\", \"yref\": \"paper\"}, {\"x\": 0.01, \"y\": 1.2, \"showarrow\": false, \"text\": \"SUBJECT: 12\", \"font\": {\"family\": \"Arial, sans-serif\", \"size\": 22}, \"xref\": \"paper\", \"yref\": \"paper\"}]}, {\"showLink\": true, \"linkText\": \"Export to plot.ly\"})});</script>"
      ]
     },
     "metadata": {},
     "output_type": "display_data"
    },
    {
     "data": {
      "application/vnd.plotly.v1+json": {
       "data": [
        {
         "error_y": {
          "array": [
           0.5229255577916007,
           0.3617012844609333,
           0.5102230924375099,
           0.32157018381381625,
           0.5974705875773418,
           0.4628035693556721,
           0.4056975441536435
          ],
          "color": "rgb(0,170,80)",
          "type": "data",
          "visible": true
         },
         "line": {
          "color": "rgb(0,100,80)"
         },
         "mode": "lines+markers",
         "name": "Test Data",
         "type": "scatter",
         "x": [
          -1.671764705882353,
          -0.8362499999999999,
          -0.34800000000000003,
          0.021818181818181775,
          0.26076923076923075,
          0.7109090909090908,
          1.6181249999999998
         ],
         "y": [
          4.923762330146822,
          4.66318481280905,
          6.524016877422886,
          4.5971211614074,
          5.280876333341719,
          4.638104213602756,
          4.002202647474404
         ]
        },
        {
         "error_y": {
          "array": [
           0.020927461418218007,
           0.022250522158535322,
           0.02305474136402778,
           0.019182765497627645,
           0.025003439193869926,
           0.026608139419477667,
           0.021994076374204013
          ],
          "color": "rgb(0,100,246)",
          "type": "data",
          "visible": true
         },
         "line": {
          "color": "rgb(0,176,246)"
         },
         "mode": "lines+markers",
         "name": "Sim Data",
         "type": "scatter",
         "x": [
          -1.671764705882353,
          -0.8362499999999999,
          -0.34800000000000003,
          0.021818181818181775,
          0.26076923076923075,
          0.7109090909090908,
          1.6181249999999998
         ],
         "y": [
          5.490646435970264,
          5.5839208657423285,
          5.62528041704443,
          5.638202551337891,
          5.610115594215041,
          5.596823362526201,
          5.524223217956094
         ]
        },
        {
         "error_y": {
          "array": [
           0.058823529411764705,
           0,
           0.12598815766974242,
           0.10865714630312667,
           0.10415433852097386,
           0,
           0
          ],
          "color": "rgb(0,170,80)",
          "type": "data",
          "visible": true
         },
         "line": {
          "color": "rgb(0,100,80)"
         },
         "mode": "lines+markers",
         "name": "Test Data",
         "type": "scatter",
         "x": [
          -1.671764705882353,
          -0.8362499999999999,
          -0.34800000000000003,
          0.021818181818181775,
          0.26076923076923075,
          0.7109090909090908,
          1.6181249999999998
         ],
         "xaxis": "x2",
         "y": [
          0.058823529411764705,
          0,
          0.3333333333333333,
          0.5454545454545454,
          0.8461538461538461,
          1,
          1
         ],
         "yaxis": "y2"
        },
        {
         "error_y": {
          "array": [
           0.003918097852821668,
           0.004479844206928967,
           0.004741276436347166,
           0.003944346818816239,
           0.0051077594447849345,
           0.00543853768243017,
           0.004111029502527613
          ],
          "color": "rgb(0,100,246)",
          "type": "data",
          "visible": true
         },
         "line": {
          "color": "rgb(0,176,246)"
         },
         "mode": "lines+markers",
         "name": "Sim Data",
         "type": "scatter",
         "x": [
          -1.671764705882353,
          -0.8362499999999999,
          -0.34800000000000003,
          0.021818181818181775,
          0.26076923076923075,
          0.7109090909090908,
          1.6181249999999998
         ],
         "xaxis": "x2",
         "y": [
          0.27652881147855446,
          0.38755495434562054,
          0.4544877606527652,
          0.5007467330429372,
          0.5329071473485643,
          0.6012088318736895,
          0.7108443640549207
         ],
         "yaxis": "y2"
        }
       ],
       "layout": {
        "annotations": [
         {
          "showarrow": false,
          "text": "PARAMETERS: v: 0.01, a: 0.279, θ: 1.0",
          "x": 0.01,
          "xref": "paper",
          "y": 1.12,
          "yref": "paper"
         },
         {
          "showarrow": false,
          "text": "MLE: 612.4",
          "x": 0.01,
          "xref": "paper",
          "y": 1.08,
          "yref": "paper"
         },
         {
          "font": {
           "family": "Arial, sans-serif",
           "size": 22
          },
          "showarrow": false,
          "text": "SUBJECT: 13",
          "x": 0.01,
          "xref": "paper",
          "y": 1.2,
          "yref": "paper"
         }
        ],
        "paper_bgcolor": "rgb(255,255,255)",
        "plot_bgcolor": "rgb(229,229,229)",
        "xaxis": {
         "domain": [
          0,
          0.45
         ],
         "gridcolor": "rgb(255,255,255)",
         "range": [
          -2,
          2
         ],
         "showgrid": true,
         "showline": false,
         "showticklabels": true,
         "tickcolor": "rgb(127,127,127)",
         "ticks": "outside",
         "title": "Net Value ($)",
         "zeroline": false
        },
        "xaxis2": {
         "domain": [
          0.55,
          1
         ],
         "gridcolor": "rgb(255,255,255)",
         "range": [
          -2,
          2
         ],
         "showgrid": true,
         "showline": false,
         "showticklabels": true,
         "tickcolor": "rgb(127,127,127)",
         "ticks": "outside",
         "title": "Net Value ($)",
         "zeroline": false
        },
        "yaxis1": {
         "anchor": "x1",
         "gridcolor": "rgb(255,255,255)",
         "range": [
          0
         ],
         "showgrid": true,
         "showline": false,
         "showticklabels": true,
         "tickcolor": "rgb(127,127,127)",
         "ticks": "outside",
         "title": "RT (s)",
         "zeroline": false
        },
        "yaxis2": {
         "anchor": "x2",
         "gridcolor": "rgb(255,255,255)",
         "range": [
          0
         ],
         "showgrid": true,
         "showline": false,
         "showticklabels": true,
         "tickcolor": "rgb(127,127,127)",
         "ticks": "outside",
         "title": "p (accept)",
         "zeroline": false
        }
       }
      },
      "text/html": [
       "<div id=\"a2520f45-9167-4c16-af90-ad4bcf0667de\" style=\"height: 525px; width: 100%;\" class=\"plotly-graph-div\"></div><script type=\"text/javascript\">require([\"plotly\"], function(Plotly) { window.PLOTLYENV=window.PLOTLYENV || {};window.PLOTLYENV.BASE_URL=\"https://plot.ly\";Plotly.newPlot(\"a2520f45-9167-4c16-af90-ad4bcf0667de\", [{\"type\": \"scatter\", \"x\": [-1.671764705882353, -0.8362499999999999, -0.34800000000000003, 0.021818181818181775, 0.26076923076923075, 0.7109090909090908, 1.6181249999999998], \"y\": [4.923762330146822, 4.66318481280905, 6.524016877422886, 4.5971211614074, 5.280876333341719, 4.638104213602756, 4.002202647474404], \"error_y\": {\"type\": \"data\", \"array\": [0.5229255577916007, 0.3617012844609333, 0.5102230924375099, 0.32157018381381625, 0.5974705875773418, 0.4628035693556721, 0.4056975441536435], \"color\": \"rgb(0,170,80)\", \"visible\": true}, \"line\": {\"color\": \"rgb(0,100,80)\"}, \"mode\": \"lines+markers\", \"name\": \"Test Data\"}, {\"type\": \"scatter\", \"x\": [-1.671764705882353, -0.8362499999999999, -0.34800000000000003, 0.021818181818181775, 0.26076923076923075, 0.7109090909090908, 1.6181249999999998], \"y\": [5.490646435970264, 5.5839208657423285, 5.62528041704443, 5.638202551337891, 5.610115594215041, 5.596823362526201, 5.524223217956094], \"error_y\": {\"type\": \"data\", \"array\": [0.020927461418218007, 0.022250522158535322, 0.02305474136402778, 0.019182765497627645, 0.025003439193869926, 0.026608139419477667, 0.021994076374204013], \"color\": \"rgb(0,100,246)\", \"visible\": true}, \"line\": {\"color\": \"rgb(0,176,246)\"}, \"mode\": \"lines+markers\", \"name\": \"Sim Data\"}, {\"type\": \"scatter\", \"x\": [-1.671764705882353, -0.8362499999999999, -0.34800000000000003, 0.021818181818181775, 0.26076923076923075, 0.7109090909090908, 1.6181249999999998], \"y\": [0.058823529411764705, 0.0, 0.3333333333333333, 0.5454545454545454, 0.8461538461538461, 1.0, 1.0], \"error_y\": {\"type\": \"data\", \"array\": [0.058823529411764705, 0.0, 0.12598815766974242, 0.10865714630312667, 0.10415433852097386, 0.0, 0.0], \"color\": \"rgb(0,170,80)\", \"visible\": true}, \"line\": {\"color\": \"rgb(0,100,80)\"}, \"mode\": \"lines+markers\", \"name\": \"Test Data\", \"xaxis\": \"x2\", \"yaxis\": \"y2\"}, {\"type\": \"scatter\", \"x\": [-1.671764705882353, -0.8362499999999999, -0.34800000000000003, 0.021818181818181775, 0.26076923076923075, 0.7109090909090908, 1.6181249999999998], \"y\": [0.27652881147855446, 0.38755495434562054, 0.4544877606527652, 0.5007467330429372, 0.5329071473485643, 0.6012088318736895, 0.7108443640549207], \"error_y\": {\"type\": \"data\", \"array\": [0.003918097852821668, 0.004479844206928967, 0.004741276436347166, 0.003944346818816239, 0.0051077594447849345, 0.00543853768243017, 0.004111029502527613], \"color\": \"rgb(0,100,246)\", \"visible\": true}, \"line\": {\"color\": \"rgb(0,176,246)\"}, \"mode\": \"lines+markers\", \"name\": \"Sim Data\", \"xaxis\": \"x2\", \"yaxis\": \"y2\"}], {\"paper_bgcolor\": \"rgb(255,255,255)\", \"plot_bgcolor\": \"rgb(229,229,229)\", \"xaxis\": {\"gridcolor\": \"rgb(255,255,255)\", \"range\": [-2, 2], \"domain\": [0, 0.45], \"showgrid\": true, \"showline\": false, \"showticklabels\": true, \"tickcolor\": \"rgb(127,127,127)\", \"ticks\": \"outside\", \"title\": \"Net Value ($)\", \"zeroline\": false}, \"xaxis2\": {\"gridcolor\": \"rgb(255,255,255)\", \"range\": [-2, 2], \"domain\": [0.55, 1], \"showgrid\": true, \"showline\": false, \"showticklabels\": true, \"tickcolor\": \"rgb(127,127,127)\", \"ticks\": \"outside\", \"title\": \"Net Value ($)\", \"zeroline\": false}, \"yaxis1\": {\"gridcolor\": \"rgb(255,255,255)\", \"range\": [0], \"showgrid\": true, \"showline\": false, \"showticklabels\": true, \"tickcolor\": \"rgb(127,127,127)\", \"ticks\": \"outside\", \"title\": \"RT (s)\", \"anchor\": \"x1\", \"zeroline\": false}, \"yaxis2\": {\"gridcolor\": \"rgb(255,255,255)\", \"range\": [0], \"showgrid\": true, \"showline\": false, \"showticklabels\": true, \"tickcolor\": \"rgb(127,127,127)\", \"ticks\": \"outside\", \"title\": \"p (accept)\", \"anchor\": \"x2\", \"zeroline\": false}, \"annotations\": [{\"x\": 0.01, \"y\": 1.12, \"showarrow\": false, \"text\": \"PARAMETERS: v: 0.01, a: 0.279, \\u03b8: 1.0\", \"xref\": \"paper\", \"yref\": \"paper\"}, {\"x\": 0.01, \"y\": 1.08, \"showarrow\": false, \"text\": \"MLE: 612.4\", \"xref\": \"paper\", \"yref\": \"paper\"}, {\"x\": 0.01, \"y\": 1.2, \"showarrow\": false, \"text\": \"SUBJECT: 13\", \"font\": {\"family\": \"Arial, sans-serif\", \"size\": 22}, \"xref\": \"paper\", \"yref\": \"paper\"}]}, {\"showLink\": true, \"linkText\": \"Export to plot.ly\"})});</script>"
      ],
      "text/vnd.plotly.v1+html": [
       "<div id=\"a2520f45-9167-4c16-af90-ad4bcf0667de\" style=\"height: 525px; width: 100%;\" class=\"plotly-graph-div\"></div><script type=\"text/javascript\">require([\"plotly\"], function(Plotly) { window.PLOTLYENV=window.PLOTLYENV || {};window.PLOTLYENV.BASE_URL=\"https://plot.ly\";Plotly.newPlot(\"a2520f45-9167-4c16-af90-ad4bcf0667de\", [{\"type\": \"scatter\", \"x\": [-1.671764705882353, -0.8362499999999999, -0.34800000000000003, 0.021818181818181775, 0.26076923076923075, 0.7109090909090908, 1.6181249999999998], \"y\": [4.923762330146822, 4.66318481280905, 6.524016877422886, 4.5971211614074, 5.280876333341719, 4.638104213602756, 4.002202647474404], \"error_y\": {\"type\": \"data\", \"array\": [0.5229255577916007, 0.3617012844609333, 0.5102230924375099, 0.32157018381381625, 0.5974705875773418, 0.4628035693556721, 0.4056975441536435], \"color\": \"rgb(0,170,80)\", \"visible\": true}, \"line\": {\"color\": \"rgb(0,100,80)\"}, \"mode\": \"lines+markers\", \"name\": \"Test Data\"}, {\"type\": \"scatter\", \"x\": [-1.671764705882353, -0.8362499999999999, -0.34800000000000003, 0.021818181818181775, 0.26076923076923075, 0.7109090909090908, 1.6181249999999998], \"y\": [5.490646435970264, 5.5839208657423285, 5.62528041704443, 5.638202551337891, 5.610115594215041, 5.596823362526201, 5.524223217956094], \"error_y\": {\"type\": \"data\", \"array\": [0.020927461418218007, 0.022250522158535322, 0.02305474136402778, 0.019182765497627645, 0.025003439193869926, 0.026608139419477667, 0.021994076374204013], \"color\": \"rgb(0,100,246)\", \"visible\": true}, \"line\": {\"color\": \"rgb(0,176,246)\"}, \"mode\": \"lines+markers\", \"name\": \"Sim Data\"}, {\"type\": \"scatter\", \"x\": [-1.671764705882353, -0.8362499999999999, -0.34800000000000003, 0.021818181818181775, 0.26076923076923075, 0.7109090909090908, 1.6181249999999998], \"y\": [0.058823529411764705, 0.0, 0.3333333333333333, 0.5454545454545454, 0.8461538461538461, 1.0, 1.0], \"error_y\": {\"type\": \"data\", \"array\": [0.058823529411764705, 0.0, 0.12598815766974242, 0.10865714630312667, 0.10415433852097386, 0.0, 0.0], \"color\": \"rgb(0,170,80)\", \"visible\": true}, \"line\": {\"color\": \"rgb(0,100,80)\"}, \"mode\": \"lines+markers\", \"name\": \"Test Data\", \"xaxis\": \"x2\", \"yaxis\": \"y2\"}, {\"type\": \"scatter\", \"x\": [-1.671764705882353, -0.8362499999999999, -0.34800000000000003, 0.021818181818181775, 0.26076923076923075, 0.7109090909090908, 1.6181249999999998], \"y\": [0.27652881147855446, 0.38755495434562054, 0.4544877606527652, 0.5007467330429372, 0.5329071473485643, 0.6012088318736895, 0.7108443640549207], \"error_y\": {\"type\": \"data\", \"array\": [0.003918097852821668, 0.004479844206928967, 0.004741276436347166, 0.003944346818816239, 0.0051077594447849345, 0.00543853768243017, 0.004111029502527613], \"color\": \"rgb(0,100,246)\", \"visible\": true}, \"line\": {\"color\": \"rgb(0,176,246)\"}, \"mode\": \"lines+markers\", \"name\": \"Sim Data\", \"xaxis\": \"x2\", \"yaxis\": \"y2\"}], {\"paper_bgcolor\": \"rgb(255,255,255)\", \"plot_bgcolor\": \"rgb(229,229,229)\", \"xaxis\": {\"gridcolor\": \"rgb(255,255,255)\", \"range\": [-2, 2], \"domain\": [0, 0.45], \"showgrid\": true, \"showline\": false, \"showticklabels\": true, \"tickcolor\": \"rgb(127,127,127)\", \"ticks\": \"outside\", \"title\": \"Net Value ($)\", \"zeroline\": false}, \"xaxis2\": {\"gridcolor\": \"rgb(255,255,255)\", \"range\": [-2, 2], \"domain\": [0.55, 1], \"showgrid\": true, \"showline\": false, \"showticklabels\": true, \"tickcolor\": \"rgb(127,127,127)\", \"ticks\": \"outside\", \"title\": \"Net Value ($)\", \"zeroline\": false}, \"yaxis1\": {\"gridcolor\": \"rgb(255,255,255)\", \"range\": [0], \"showgrid\": true, \"showline\": false, \"showticklabels\": true, \"tickcolor\": \"rgb(127,127,127)\", \"ticks\": \"outside\", \"title\": \"RT (s)\", \"anchor\": \"x1\", \"zeroline\": false}, \"yaxis2\": {\"gridcolor\": \"rgb(255,255,255)\", \"range\": [0], \"showgrid\": true, \"showline\": false, \"showticklabels\": true, \"tickcolor\": \"rgb(127,127,127)\", \"ticks\": \"outside\", \"title\": \"p (accept)\", \"anchor\": \"x2\", \"zeroline\": false}, \"annotations\": [{\"x\": 0.01, \"y\": 1.12, \"showarrow\": false, \"text\": \"PARAMETERS: v: 0.01, a: 0.279, \\u03b8: 1.0\", \"xref\": \"paper\", \"yref\": \"paper\"}, {\"x\": 0.01, \"y\": 1.08, \"showarrow\": false, \"text\": \"MLE: 612.4\", \"xref\": \"paper\", \"yref\": \"paper\"}, {\"x\": 0.01, \"y\": 1.2, \"showarrow\": false, \"text\": \"SUBJECT: 13\", \"font\": {\"family\": \"Arial, sans-serif\", \"size\": 22}, \"xref\": \"paper\", \"yref\": \"paper\"}]}, {\"showLink\": true, \"linkText\": \"Export to plot.ly\"})});</script>"
      ]
     },
     "metadata": {},
     "output_type": "display_data"
    },
    {
     "data": {
      "application/vnd.plotly.v1+json": {
       "data": [
        {
         "error_y": {
          "array": [
           0.35021592608518126,
           0.3766742051351146,
           0.5542082213227633,
           0.33901965010363483,
           0.5045817465963701,
           0.5152689778264671,
           0.28194392957871334
          ],
          "color": "rgb(0,170,80)",
          "type": "data",
          "visible": true
         },
         "line": {
          "color": "rgb(0,100,80)"
         },
         "mode": "lines+markers",
         "name": "Test Data",
         "type": "scatter",
         "x": [
          -1.5835294117647063,
          -0.8089473684210526,
          -0.2995,
          0.01899999999999998,
          0.31941176470588234,
          0.804375,
          1.5968
         ],
         "y": [
          3.4976711634799904,
          4.129546045803612,
          4.544472419338126,
          4.305603327703041,
          4.2611871013667795,
          4.102034559846287,
          3.235373271243879
         ]
        },
        {
         "error_y": {
          "array": [
           0.01444873277286616,
           0.016585222926869158,
           0.01736890212771104,
           0.014469964010517504,
           0.01888984431754597,
           0.018034392614214537,
           0.011677470585846512
          ],
          "color": "rgb(0,100,246)",
          "type": "data",
          "visible": true
         },
         "line": {
          "color": "rgb(0,176,246)"
         },
         "mode": "lines+markers",
         "name": "Sim Data",
         "type": "scatter",
         "x": [
          -1.5835294117647063,
          -0.8089473684210526,
          -0.2995,
          0.01899999999999998,
          0.31941176470588234,
          0.804375,
          1.5968
         ],
         "y": [
          3.5966961858571493,
          4.327205222631421,
          4.618494779293964,
          4.678377105380836,
          4.616995256968379,
          4.328831026031689,
          3.5643132158232476
         ]
        },
        {
         "error_y": {
          "array": [
           0.08054743492723031,
           0.0960916767552923,
           0.10513149660756937,
           0.0875376219064817,
           0.058823529411764705,
           0.10077822185373188,
           0
          ],
          "color": "rgb(0,170,80)",
          "type": "data",
          "visible": true
         },
         "line": {
          "color": "rgb(0,100,80)"
         },
         "mode": "lines+markers",
         "name": "Test Data",
         "type": "scatter",
         "x": [
          -1.5835294117647063,
          -0.8089473684210526,
          -0.2995,
          0.01899999999999998,
          0.31941176470588234,
          0.804375,
          1.5968
         ],
         "xaxis": "x2",
         "y": [
          0.11764705882352941,
          0.21052631578947367,
          0.3,
          0.6666666666666666,
          0.9411764705882353,
          0.8125,
          1
         ],
         "yaxis": "y2"
        },
        {
         "error_y": {
          "array": [
           0.00169504419005394,
           0.002798716262447566,
           0.0035480707494455616,
           0.003051726506518778,
           0.003841826546108202,
           0.0030268484058571204,
           0.00139105584548872
          ],
          "color": "rgb(0,100,246)",
          "type": "data",
          "visible": true
         },
         "line": {
          "color": "rgb(0,176,246)"
         },
         "mode": "lines+markers",
         "name": "Sim Data",
         "type": "scatter",
         "x": [
          -1.5835294117647063,
          -0.8089473684210526,
          -0.2995,
          0.01899999999999998,
          0.31941176470588234,
          0.804375,
          1.5968
         ],
         "xaxis": "x2",
         "y": [
          0.0505358960541285,
          0.1688985604285236,
          0.3511960665156621,
          0.5092040542554778,
          0.6511597686959911,
          0.8342054712856859,
          0.9498416050686378
         ],
         "yaxis": "y2"
        }
       ],
       "layout": {
        "annotations": [
         {
          "showarrow": false,
          "text": "PARAMETERS: v: 0.051, a: 0.221, θ: 0.775",
          "x": 0.01,
          "xref": "paper",
          "y": 1.12,
          "yref": "paper"
         },
         {
          "showarrow": false,
          "text": "MLE: 670.87",
          "x": 0.01,
          "xref": "paper",
          "y": 1.08,
          "yref": "paper"
         },
         {
          "font": {
           "family": "Arial, sans-serif",
           "size": 22
          },
          "showarrow": false,
          "text": "SUBJECT: 14",
          "x": 0.01,
          "xref": "paper",
          "y": 1.2,
          "yref": "paper"
         }
        ],
        "paper_bgcolor": "rgb(255,255,255)",
        "plot_bgcolor": "rgb(229,229,229)",
        "xaxis": {
         "domain": [
          0,
          0.45
         ],
         "gridcolor": "rgb(255,255,255)",
         "range": [
          -2,
          2
         ],
         "showgrid": true,
         "showline": false,
         "showticklabels": true,
         "tickcolor": "rgb(127,127,127)",
         "ticks": "outside",
         "title": "Net Value ($)",
         "zeroline": false
        },
        "xaxis2": {
         "domain": [
          0.55,
          1
         ],
         "gridcolor": "rgb(255,255,255)",
         "range": [
          -2,
          2
         ],
         "showgrid": true,
         "showline": false,
         "showticklabels": true,
         "tickcolor": "rgb(127,127,127)",
         "ticks": "outside",
         "title": "Net Value ($)",
         "zeroline": false
        },
        "yaxis1": {
         "anchor": "x1",
         "gridcolor": "rgb(255,255,255)",
         "range": [
          0
         ],
         "showgrid": true,
         "showline": false,
         "showticklabels": true,
         "tickcolor": "rgb(127,127,127)",
         "ticks": "outside",
         "title": "RT (s)",
         "zeroline": false
        },
        "yaxis2": {
         "anchor": "x2",
         "gridcolor": "rgb(255,255,255)",
         "range": [
          0
         ],
         "showgrid": true,
         "showline": false,
         "showticklabels": true,
         "tickcolor": "rgb(127,127,127)",
         "ticks": "outside",
         "title": "p (accept)",
         "zeroline": false
        }
       }
      },
      "text/html": [
       "<div id=\"e99888d8-973f-42dc-ab19-baad1c621806\" style=\"height: 525px; width: 100%;\" class=\"plotly-graph-div\"></div><script type=\"text/javascript\">require([\"plotly\"], function(Plotly) { window.PLOTLYENV=window.PLOTLYENV || {};window.PLOTLYENV.BASE_URL=\"https://plot.ly\";Plotly.newPlot(\"e99888d8-973f-42dc-ab19-baad1c621806\", [{\"type\": \"scatter\", \"x\": [-1.5835294117647063, -0.8089473684210526, -0.2995, 0.01899999999999998, 0.31941176470588234, 0.804375, 1.5968], \"y\": [3.4976711634799904, 4.129546045803612, 4.544472419338126, 4.305603327703041, 4.2611871013667795, 4.102034559846287, 3.235373271243879], \"error_y\": {\"type\": \"data\", \"array\": [0.35021592608518126, 0.3766742051351146, 0.5542082213227633, 0.33901965010363483, 0.5045817465963701, 0.5152689778264671, 0.28194392957871334], \"color\": \"rgb(0,170,80)\", \"visible\": true}, \"line\": {\"color\": \"rgb(0,100,80)\"}, \"mode\": \"lines+markers\", \"name\": \"Test Data\"}, {\"type\": \"scatter\", \"x\": [-1.5835294117647063, -0.8089473684210526, -0.2995, 0.01899999999999998, 0.31941176470588234, 0.804375, 1.5968], \"y\": [3.5966961858571493, 4.327205222631421, 4.618494779293964, 4.678377105380836, 4.616995256968379, 4.328831026031689, 3.5643132158232476], \"error_y\": {\"type\": \"data\", \"array\": [0.01444873277286616, 0.016585222926869158, 0.01736890212771104, 0.014469964010517504, 0.01888984431754597, 0.018034392614214537, 0.011677470585846512], \"color\": \"rgb(0,100,246)\", \"visible\": true}, \"line\": {\"color\": \"rgb(0,176,246)\"}, \"mode\": \"lines+markers\", \"name\": \"Sim Data\"}, {\"type\": \"scatter\", \"x\": [-1.5835294117647063, -0.8089473684210526, -0.2995, 0.01899999999999998, 0.31941176470588234, 0.804375, 1.5968], \"y\": [0.11764705882352941, 0.21052631578947367, 0.3, 0.6666666666666666, 0.9411764705882353, 0.8125, 1.0], \"error_y\": {\"type\": \"data\", \"array\": [0.08054743492723031, 0.0960916767552923, 0.10513149660756937, 0.0875376219064817, 0.058823529411764705, 0.10077822185373188, 0.0], \"color\": \"rgb(0,170,80)\", \"visible\": true}, \"line\": {\"color\": \"rgb(0,100,80)\"}, \"mode\": \"lines+markers\", \"name\": \"Test Data\", \"xaxis\": \"x2\", \"yaxis\": \"y2\"}, {\"type\": \"scatter\", \"x\": [-1.5835294117647063, -0.8089473684210526, -0.2995, 0.01899999999999998, 0.31941176470588234, 0.804375, 1.5968], \"y\": [0.0505358960541285, 0.1688985604285236, 0.3511960665156621, 0.5092040542554778, 0.6511597686959911, 0.8342054712856859, 0.9498416050686378], \"error_y\": {\"type\": \"data\", \"array\": [0.00169504419005394, 0.002798716262447566, 0.0035480707494455616, 0.003051726506518778, 0.003841826546108202, 0.0030268484058571204, 0.00139105584548872], \"color\": \"rgb(0,100,246)\", \"visible\": true}, \"line\": {\"color\": \"rgb(0,176,246)\"}, \"mode\": \"lines+markers\", \"name\": \"Sim Data\", \"xaxis\": \"x2\", \"yaxis\": \"y2\"}], {\"paper_bgcolor\": \"rgb(255,255,255)\", \"plot_bgcolor\": \"rgb(229,229,229)\", \"xaxis\": {\"gridcolor\": \"rgb(255,255,255)\", \"range\": [-2, 2], \"domain\": [0, 0.45], \"showgrid\": true, \"showline\": false, \"showticklabels\": true, \"tickcolor\": \"rgb(127,127,127)\", \"ticks\": \"outside\", \"title\": \"Net Value ($)\", \"zeroline\": false}, \"xaxis2\": {\"gridcolor\": \"rgb(255,255,255)\", \"range\": [-2, 2], \"domain\": [0.55, 1], \"showgrid\": true, \"showline\": false, \"showticklabels\": true, \"tickcolor\": \"rgb(127,127,127)\", \"ticks\": \"outside\", \"title\": \"Net Value ($)\", \"zeroline\": false}, \"yaxis1\": {\"gridcolor\": \"rgb(255,255,255)\", \"range\": [0], \"showgrid\": true, \"showline\": false, \"showticklabels\": true, \"tickcolor\": \"rgb(127,127,127)\", \"ticks\": \"outside\", \"title\": \"RT (s)\", \"anchor\": \"x1\", \"zeroline\": false}, \"yaxis2\": {\"gridcolor\": \"rgb(255,255,255)\", \"range\": [0], \"showgrid\": true, \"showline\": false, \"showticklabels\": true, \"tickcolor\": \"rgb(127,127,127)\", \"ticks\": \"outside\", \"title\": \"p (accept)\", \"anchor\": \"x2\", \"zeroline\": false}, \"annotations\": [{\"x\": 0.01, \"y\": 1.12, \"showarrow\": false, \"text\": \"PARAMETERS: v: 0.051, a: 0.221, \\u03b8: 0.775\", \"xref\": \"paper\", \"yref\": \"paper\"}, {\"x\": 0.01, \"y\": 1.08, \"showarrow\": false, \"text\": \"MLE: 670.87\", \"xref\": \"paper\", \"yref\": \"paper\"}, {\"x\": 0.01, \"y\": 1.2, \"showarrow\": false, \"text\": \"SUBJECT: 14\", \"font\": {\"family\": \"Arial, sans-serif\", \"size\": 22}, \"xref\": \"paper\", \"yref\": \"paper\"}]}, {\"showLink\": true, \"linkText\": \"Export to plot.ly\"})});</script>"
      ],
      "text/vnd.plotly.v1+html": [
       "<div id=\"e99888d8-973f-42dc-ab19-baad1c621806\" style=\"height: 525px; width: 100%;\" class=\"plotly-graph-div\"></div><script type=\"text/javascript\">require([\"plotly\"], function(Plotly) { window.PLOTLYENV=window.PLOTLYENV || {};window.PLOTLYENV.BASE_URL=\"https://plot.ly\";Plotly.newPlot(\"e99888d8-973f-42dc-ab19-baad1c621806\", [{\"type\": \"scatter\", \"x\": [-1.5835294117647063, -0.8089473684210526, -0.2995, 0.01899999999999998, 0.31941176470588234, 0.804375, 1.5968], \"y\": [3.4976711634799904, 4.129546045803612, 4.544472419338126, 4.305603327703041, 4.2611871013667795, 4.102034559846287, 3.235373271243879], \"error_y\": {\"type\": \"data\", \"array\": [0.35021592608518126, 0.3766742051351146, 0.5542082213227633, 0.33901965010363483, 0.5045817465963701, 0.5152689778264671, 0.28194392957871334], \"color\": \"rgb(0,170,80)\", \"visible\": true}, \"line\": {\"color\": \"rgb(0,100,80)\"}, \"mode\": \"lines+markers\", \"name\": \"Test Data\"}, {\"type\": \"scatter\", \"x\": [-1.5835294117647063, -0.8089473684210526, -0.2995, 0.01899999999999998, 0.31941176470588234, 0.804375, 1.5968], \"y\": [3.5966961858571493, 4.327205222631421, 4.618494779293964, 4.678377105380836, 4.616995256968379, 4.328831026031689, 3.5643132158232476], \"error_y\": {\"type\": \"data\", \"array\": [0.01444873277286616, 0.016585222926869158, 0.01736890212771104, 0.014469964010517504, 0.01888984431754597, 0.018034392614214537, 0.011677470585846512], \"color\": \"rgb(0,100,246)\", \"visible\": true}, \"line\": {\"color\": \"rgb(0,176,246)\"}, \"mode\": \"lines+markers\", \"name\": \"Sim Data\"}, {\"type\": \"scatter\", \"x\": [-1.5835294117647063, -0.8089473684210526, -0.2995, 0.01899999999999998, 0.31941176470588234, 0.804375, 1.5968], \"y\": [0.11764705882352941, 0.21052631578947367, 0.3, 0.6666666666666666, 0.9411764705882353, 0.8125, 1.0], \"error_y\": {\"type\": \"data\", \"array\": [0.08054743492723031, 0.0960916767552923, 0.10513149660756937, 0.0875376219064817, 0.058823529411764705, 0.10077822185373188, 0.0], \"color\": \"rgb(0,170,80)\", \"visible\": true}, \"line\": {\"color\": \"rgb(0,100,80)\"}, \"mode\": \"lines+markers\", \"name\": \"Test Data\", \"xaxis\": \"x2\", \"yaxis\": \"y2\"}, {\"type\": \"scatter\", \"x\": [-1.5835294117647063, -0.8089473684210526, -0.2995, 0.01899999999999998, 0.31941176470588234, 0.804375, 1.5968], \"y\": [0.0505358960541285, 0.1688985604285236, 0.3511960665156621, 0.5092040542554778, 0.6511597686959911, 0.8342054712856859, 0.9498416050686378], \"error_y\": {\"type\": \"data\", \"array\": [0.00169504419005394, 0.002798716262447566, 0.0035480707494455616, 0.003051726506518778, 0.003841826546108202, 0.0030268484058571204, 0.00139105584548872], \"color\": \"rgb(0,100,246)\", \"visible\": true}, \"line\": {\"color\": \"rgb(0,176,246)\"}, \"mode\": \"lines+markers\", \"name\": \"Sim Data\", \"xaxis\": \"x2\", \"yaxis\": \"y2\"}], {\"paper_bgcolor\": \"rgb(255,255,255)\", \"plot_bgcolor\": \"rgb(229,229,229)\", \"xaxis\": {\"gridcolor\": \"rgb(255,255,255)\", \"range\": [-2, 2], \"domain\": [0, 0.45], \"showgrid\": true, \"showline\": false, \"showticklabels\": true, \"tickcolor\": \"rgb(127,127,127)\", \"ticks\": \"outside\", \"title\": \"Net Value ($)\", \"zeroline\": false}, \"xaxis2\": {\"gridcolor\": \"rgb(255,255,255)\", \"range\": [-2, 2], \"domain\": [0.55, 1], \"showgrid\": true, \"showline\": false, \"showticklabels\": true, \"tickcolor\": \"rgb(127,127,127)\", \"ticks\": \"outside\", \"title\": \"Net Value ($)\", \"zeroline\": false}, \"yaxis1\": {\"gridcolor\": \"rgb(255,255,255)\", \"range\": [0], \"showgrid\": true, \"showline\": false, \"showticklabels\": true, \"tickcolor\": \"rgb(127,127,127)\", \"ticks\": \"outside\", \"title\": \"RT (s)\", \"anchor\": \"x1\", \"zeroline\": false}, \"yaxis2\": {\"gridcolor\": \"rgb(255,255,255)\", \"range\": [0], \"showgrid\": true, \"showline\": false, \"showticklabels\": true, \"tickcolor\": \"rgb(127,127,127)\", \"ticks\": \"outside\", \"title\": \"p (accept)\", \"anchor\": \"x2\", \"zeroline\": false}, \"annotations\": [{\"x\": 0.01, \"y\": 1.12, \"showarrow\": false, \"text\": \"PARAMETERS: v: 0.051, a: 0.221, \\u03b8: 0.775\", \"xref\": \"paper\", \"yref\": \"paper\"}, {\"x\": 0.01, \"y\": 1.08, \"showarrow\": false, \"text\": \"MLE: 670.87\", \"xref\": \"paper\", \"yref\": \"paper\"}, {\"x\": 0.01, \"y\": 1.2, \"showarrow\": false, \"text\": \"SUBJECT: 14\", \"font\": {\"family\": \"Arial, sans-serif\", \"size\": 22}, \"xref\": \"paper\", \"yref\": \"paper\"}]}, {\"showLink\": true, \"linkText\": \"Export to plot.ly\"})});</script>"
      ]
     },
     "metadata": {},
     "output_type": "display_data"
    },
    {
     "data": {
      "application/vnd.plotly.v1+json": {
       "data": [
        {
         "error_y": {
          "array": [
           0.3567010076126107,
           0.2103499017404514,
           0.23592121519616596,
           0.14616530230162392,
           0.1637560550610461,
           0.20646263968004017,
           0.15110877526032843
          ],
          "color": "rgb(0,170,80)",
          "type": "data",
          "visible": true
         },
         "line": {
          "color": "rgb(0,100,80)"
         },
         "mode": "lines+markers",
         "name": "Test Data",
         "type": "scatter",
         "x": [
          -1.9084615384615384,
          -0.7883333333333333,
          -0.28647058823529414,
          0.029210526315789458,
          0.3188888888888888,
          0.7157894736842105,
          1.679230769230769
         ],
         "y": [
          2.9552737949953354,
          2.3677408923168626,
          2.4658561379029003,
          2.5238267371215017,
          2.289951914292436,
          2.5536627034874226,
          2.1475658100937896
         ]
        },
        {
         "error_y": {
          "array": [
           0.012243475930010683,
           0.013487302648835409,
           0.014750482786261265,
           0.00986291588682282,
           0.014378417316893568,
           0.013173368957108723,
           0.00934102001080703
          ],
          "color": "rgb(0,100,246)",
          "type": "data",
          "visible": true
         },
         "line": {
          "color": "rgb(0,176,246)"
         },
         "mode": "lines+markers",
         "name": "Sim Data",
         "type": "scatter",
         "x": [
          -1.9084615384615384,
          -0.7883333333333333,
          -0.28647058823529414,
          0.029210526315789458,
          0.3188888888888888,
          0.7157894736842105,
          1.679230769230769
         ],
         "y": [
          2.6657496531524645,
          3.2100089015787443,
          3.392461474286387,
          3.358452535102442,
          3.3911873278237032,
          3.228458569987795,
          2.7663945491692803
         ]
        },
        {
         "error_y": {
          "array": [
           0,
           0.11823563735376173,
           0.11391127488845344,
           0.0793021898421983,
           0.0903876907577734,
           0.10956136839295434,
           0
          ],
          "color": "rgb(0,170,80)",
          "type": "data",
          "visible": true
         },
         "line": {
          "color": "rgb(0,100,80)"
         },
         "mode": "lines+markers",
         "name": "Test Data",
         "type": "scatter",
         "x": [
          -1.9084615384615384,
          -0.7883333333333333,
          -0.28647058823529414,
          0.029210526315789458,
          0.3188888888888888,
          0.7157894736842105,
          1.679230769230769
         ],
         "xaxis": "x2",
         "y": [
          0,
          0.3888888888888889,
          0.29411764705882354,
          0.631578947368421,
          0.8333333333333334,
          0.6842105263157895,
          1
         ],
         "yaxis": "y2"
        },
        {
         "error_y": {
          "array": [
           0.0024547402386237583,
           0.0032709735794445045,
           0.003781200049138299,
           0.002573854790815038,
           0.0036477229633208215,
           0.0032174927113756214,
           0.001936568070742919
          ],
          "color": "rgb(0,100,246)",
          "type": "data",
          "visible": true
         },
         "line": {
          "color": "rgb(0,176,246)"
         },
         "mode": "lines+markers",
         "name": "Sim Data",
         "type": "scatter",
         "x": [
          -1.9084615384615384,
          -0.7883333333333333,
          -0.28647058823529414,
          0.029210526315789458,
          0.3188888888888888,
          0.7157894736842105,
          1.679230769230769
         ],
         "xaxis": "x2",
         "y": [
          0.08547864960690613,
          0.257306012764528,
          0.39955902508789704,
          0.5368875389657102,
          0.6155057064147973,
          0.7344869685227454,
          0.8907906402991403
         ],
         "yaxis": "y2"
        }
       ],
       "layout": {
        "annotations": [
         {
          "showarrow": false,
          "text": "PARAMETERS: v: 0.051, a: 0.164, θ: 0.55",
          "x": 0.01,
          "xref": "paper",
          "y": 1.12,
          "yref": "paper"
         },
         {
          "showarrow": false,
          "text": "MLE: 625.87",
          "x": 0.01,
          "xref": "paper",
          "y": 1.08,
          "yref": "paper"
         },
         {
          "font": {
           "family": "Arial, sans-serif",
           "size": 22
          },
          "showarrow": false,
          "text": "SUBJECT: 15",
          "x": 0.01,
          "xref": "paper",
          "y": 1.2,
          "yref": "paper"
         }
        ],
        "paper_bgcolor": "rgb(255,255,255)",
        "plot_bgcolor": "rgb(229,229,229)",
        "xaxis": {
         "domain": [
          0,
          0.45
         ],
         "gridcolor": "rgb(255,255,255)",
         "range": [
          -2,
          2
         ],
         "showgrid": true,
         "showline": false,
         "showticklabels": true,
         "tickcolor": "rgb(127,127,127)",
         "ticks": "outside",
         "title": "Net Value ($)",
         "zeroline": false
        },
        "xaxis2": {
         "domain": [
          0.55,
          1
         ],
         "gridcolor": "rgb(255,255,255)",
         "range": [
          -2,
          2
         ],
         "showgrid": true,
         "showline": false,
         "showticklabels": true,
         "tickcolor": "rgb(127,127,127)",
         "ticks": "outside",
         "title": "Net Value ($)",
         "zeroline": false
        },
        "yaxis1": {
         "anchor": "x1",
         "gridcolor": "rgb(255,255,255)",
         "range": [
          0
         ],
         "showgrid": true,
         "showline": false,
         "showticklabels": true,
         "tickcolor": "rgb(127,127,127)",
         "ticks": "outside",
         "title": "RT (s)",
         "zeroline": false
        },
        "yaxis2": {
         "anchor": "x2",
         "gridcolor": "rgb(255,255,255)",
         "range": [
          0
         ],
         "showgrid": true,
         "showline": false,
         "showticklabels": true,
         "tickcolor": "rgb(127,127,127)",
         "ticks": "outside",
         "title": "p (accept)",
         "zeroline": false
        }
       }
      },
      "text/html": [
       "<div id=\"b18c3eb4-fb56-4cca-9879-2f70f8ddf012\" style=\"height: 525px; width: 100%;\" class=\"plotly-graph-div\"></div><script type=\"text/javascript\">require([\"plotly\"], function(Plotly) { window.PLOTLYENV=window.PLOTLYENV || {};window.PLOTLYENV.BASE_URL=\"https://plot.ly\";Plotly.newPlot(\"b18c3eb4-fb56-4cca-9879-2f70f8ddf012\", [{\"type\": \"scatter\", \"x\": [-1.9084615384615384, -0.7883333333333333, -0.28647058823529414, 0.029210526315789458, 0.3188888888888888, 0.7157894736842105, 1.679230769230769], \"y\": [2.9552737949953354, 2.3677408923168626, 2.4658561379029003, 2.5238267371215017, 2.289951914292436, 2.5536627034874226, 2.1475658100937896], \"error_y\": {\"type\": \"data\", \"array\": [0.3567010076126107, 0.2103499017404514, 0.23592121519616596, 0.14616530230162392, 0.1637560550610461, 0.20646263968004017, 0.15110877526032843], \"color\": \"rgb(0,170,80)\", \"visible\": true}, \"line\": {\"color\": \"rgb(0,100,80)\"}, \"mode\": \"lines+markers\", \"name\": \"Test Data\"}, {\"type\": \"scatter\", \"x\": [-1.9084615384615384, -0.7883333333333333, -0.28647058823529414, 0.029210526315789458, 0.3188888888888888, 0.7157894736842105, 1.679230769230769], \"y\": [2.6657496531524645, 3.2100089015787443, 3.392461474286387, 3.358452535102442, 3.3911873278237032, 3.228458569987795, 2.7663945491692803], \"error_y\": {\"type\": \"data\", \"array\": [0.012243475930010683, 0.013487302648835409, 0.014750482786261265, 0.00986291588682282, 0.014378417316893568, 0.013173368957108723, 0.00934102001080703], \"color\": \"rgb(0,100,246)\", \"visible\": true}, \"line\": {\"color\": \"rgb(0,176,246)\"}, \"mode\": \"lines+markers\", \"name\": \"Sim Data\"}, {\"type\": \"scatter\", \"x\": [-1.9084615384615384, -0.7883333333333333, -0.28647058823529414, 0.029210526315789458, 0.3188888888888888, 0.7157894736842105, 1.679230769230769], \"y\": [0.0, 0.3888888888888889, 0.29411764705882354, 0.631578947368421, 0.8333333333333334, 0.6842105263157895, 1.0], \"error_y\": {\"type\": \"data\", \"array\": [0.0, 0.11823563735376173, 0.11391127488845344, 0.0793021898421983, 0.0903876907577734, 0.10956136839295434, 0.0], \"color\": \"rgb(0,170,80)\", \"visible\": true}, \"line\": {\"color\": \"rgb(0,100,80)\"}, \"mode\": \"lines+markers\", \"name\": \"Test Data\", \"xaxis\": \"x2\", \"yaxis\": \"y2\"}, {\"type\": \"scatter\", \"x\": [-1.9084615384615384, -0.7883333333333333, -0.28647058823529414, 0.029210526315789458, 0.3188888888888888, 0.7157894736842105, 1.679230769230769], \"y\": [0.08547864960690613, 0.257306012764528, 0.39955902508789704, 0.5368875389657102, 0.6155057064147973, 0.7344869685227454, 0.8907906402991403], \"error_y\": {\"type\": \"data\", \"array\": [0.0024547402386237583, 0.0032709735794445045, 0.003781200049138299, 0.002573854790815038, 0.0036477229633208215, 0.0032174927113756214, 0.001936568070742919], \"color\": \"rgb(0,100,246)\", \"visible\": true}, \"line\": {\"color\": \"rgb(0,176,246)\"}, \"mode\": \"lines+markers\", \"name\": \"Sim Data\", \"xaxis\": \"x2\", \"yaxis\": \"y2\"}], {\"paper_bgcolor\": \"rgb(255,255,255)\", \"plot_bgcolor\": \"rgb(229,229,229)\", \"xaxis\": {\"gridcolor\": \"rgb(255,255,255)\", \"range\": [-2, 2], \"domain\": [0, 0.45], \"showgrid\": true, \"showline\": false, \"showticklabels\": true, \"tickcolor\": \"rgb(127,127,127)\", \"ticks\": \"outside\", \"title\": \"Net Value ($)\", \"zeroline\": false}, \"xaxis2\": {\"gridcolor\": \"rgb(255,255,255)\", \"range\": [-2, 2], \"domain\": [0.55, 1], \"showgrid\": true, \"showline\": false, \"showticklabels\": true, \"tickcolor\": \"rgb(127,127,127)\", \"ticks\": \"outside\", \"title\": \"Net Value ($)\", \"zeroline\": false}, \"yaxis1\": {\"gridcolor\": \"rgb(255,255,255)\", \"range\": [0], \"showgrid\": true, \"showline\": false, \"showticklabels\": true, \"tickcolor\": \"rgb(127,127,127)\", \"ticks\": \"outside\", \"title\": \"RT (s)\", \"anchor\": \"x1\", \"zeroline\": false}, \"yaxis2\": {\"gridcolor\": \"rgb(255,255,255)\", \"range\": [0], \"showgrid\": true, \"showline\": false, \"showticklabels\": true, \"tickcolor\": \"rgb(127,127,127)\", \"ticks\": \"outside\", \"title\": \"p (accept)\", \"anchor\": \"x2\", \"zeroline\": false}, \"annotations\": [{\"x\": 0.01, \"y\": 1.12, \"showarrow\": false, \"text\": \"PARAMETERS: v: 0.051, a: 0.164, \\u03b8: 0.55\", \"xref\": \"paper\", \"yref\": \"paper\"}, {\"x\": 0.01, \"y\": 1.08, \"showarrow\": false, \"text\": \"MLE: 625.87\", \"xref\": \"paper\", \"yref\": \"paper\"}, {\"x\": 0.01, \"y\": 1.2, \"showarrow\": false, \"text\": \"SUBJECT: 15\", \"font\": {\"family\": \"Arial, sans-serif\", \"size\": 22}, \"xref\": \"paper\", \"yref\": \"paper\"}]}, {\"showLink\": true, \"linkText\": \"Export to plot.ly\"})});</script>"
      ],
      "text/vnd.plotly.v1+html": [
       "<div id=\"b18c3eb4-fb56-4cca-9879-2f70f8ddf012\" style=\"height: 525px; width: 100%;\" class=\"plotly-graph-div\"></div><script type=\"text/javascript\">require([\"plotly\"], function(Plotly) { window.PLOTLYENV=window.PLOTLYENV || {};window.PLOTLYENV.BASE_URL=\"https://plot.ly\";Plotly.newPlot(\"b18c3eb4-fb56-4cca-9879-2f70f8ddf012\", [{\"type\": \"scatter\", \"x\": [-1.9084615384615384, -0.7883333333333333, -0.28647058823529414, 0.029210526315789458, 0.3188888888888888, 0.7157894736842105, 1.679230769230769], \"y\": [2.9552737949953354, 2.3677408923168626, 2.4658561379029003, 2.5238267371215017, 2.289951914292436, 2.5536627034874226, 2.1475658100937896], \"error_y\": {\"type\": \"data\", \"array\": [0.3567010076126107, 0.2103499017404514, 0.23592121519616596, 0.14616530230162392, 0.1637560550610461, 0.20646263968004017, 0.15110877526032843], \"color\": \"rgb(0,170,80)\", \"visible\": true}, \"line\": {\"color\": \"rgb(0,100,80)\"}, \"mode\": \"lines+markers\", \"name\": \"Test Data\"}, {\"type\": \"scatter\", \"x\": [-1.9084615384615384, -0.7883333333333333, -0.28647058823529414, 0.029210526315789458, 0.3188888888888888, 0.7157894736842105, 1.679230769230769], \"y\": [2.6657496531524645, 3.2100089015787443, 3.392461474286387, 3.358452535102442, 3.3911873278237032, 3.228458569987795, 2.7663945491692803], \"error_y\": {\"type\": \"data\", \"array\": [0.012243475930010683, 0.013487302648835409, 0.014750482786261265, 0.00986291588682282, 0.014378417316893568, 0.013173368957108723, 0.00934102001080703], \"color\": \"rgb(0,100,246)\", \"visible\": true}, \"line\": {\"color\": \"rgb(0,176,246)\"}, \"mode\": \"lines+markers\", \"name\": \"Sim Data\"}, {\"type\": \"scatter\", \"x\": [-1.9084615384615384, -0.7883333333333333, -0.28647058823529414, 0.029210526315789458, 0.3188888888888888, 0.7157894736842105, 1.679230769230769], \"y\": [0.0, 0.3888888888888889, 0.29411764705882354, 0.631578947368421, 0.8333333333333334, 0.6842105263157895, 1.0], \"error_y\": {\"type\": \"data\", \"array\": [0.0, 0.11823563735376173, 0.11391127488845344, 0.0793021898421983, 0.0903876907577734, 0.10956136839295434, 0.0], \"color\": \"rgb(0,170,80)\", \"visible\": true}, \"line\": {\"color\": \"rgb(0,100,80)\"}, \"mode\": \"lines+markers\", \"name\": \"Test Data\", \"xaxis\": \"x2\", \"yaxis\": \"y2\"}, {\"type\": \"scatter\", \"x\": [-1.9084615384615384, -0.7883333333333333, -0.28647058823529414, 0.029210526315789458, 0.3188888888888888, 0.7157894736842105, 1.679230769230769], \"y\": [0.08547864960690613, 0.257306012764528, 0.39955902508789704, 0.5368875389657102, 0.6155057064147973, 0.7344869685227454, 0.8907906402991403], \"error_y\": {\"type\": \"data\", \"array\": [0.0024547402386237583, 0.0032709735794445045, 0.003781200049138299, 0.002573854790815038, 0.0036477229633208215, 0.0032174927113756214, 0.001936568070742919], \"color\": \"rgb(0,100,246)\", \"visible\": true}, \"line\": {\"color\": \"rgb(0,176,246)\"}, \"mode\": \"lines+markers\", \"name\": \"Sim Data\", \"xaxis\": \"x2\", \"yaxis\": \"y2\"}], {\"paper_bgcolor\": \"rgb(255,255,255)\", \"plot_bgcolor\": \"rgb(229,229,229)\", \"xaxis\": {\"gridcolor\": \"rgb(255,255,255)\", \"range\": [-2, 2], \"domain\": [0, 0.45], \"showgrid\": true, \"showline\": false, \"showticklabels\": true, \"tickcolor\": \"rgb(127,127,127)\", \"ticks\": \"outside\", \"title\": \"Net Value ($)\", \"zeroline\": false}, \"xaxis2\": {\"gridcolor\": \"rgb(255,255,255)\", \"range\": [-2, 2], \"domain\": [0.55, 1], \"showgrid\": true, \"showline\": false, \"showticklabels\": true, \"tickcolor\": \"rgb(127,127,127)\", \"ticks\": \"outside\", \"title\": \"Net Value ($)\", \"zeroline\": false}, \"yaxis1\": {\"gridcolor\": \"rgb(255,255,255)\", \"range\": [0], \"showgrid\": true, \"showline\": false, \"showticklabels\": true, \"tickcolor\": \"rgb(127,127,127)\", \"ticks\": \"outside\", \"title\": \"RT (s)\", \"anchor\": \"x1\", \"zeroline\": false}, \"yaxis2\": {\"gridcolor\": \"rgb(255,255,255)\", \"range\": [0], \"showgrid\": true, \"showline\": false, \"showticklabels\": true, \"tickcolor\": \"rgb(127,127,127)\", \"ticks\": \"outside\", \"title\": \"p (accept)\", \"anchor\": \"x2\", \"zeroline\": false}, \"annotations\": [{\"x\": 0.01, \"y\": 1.12, \"showarrow\": false, \"text\": \"PARAMETERS: v: 0.051, a: 0.164, \\u03b8: 0.55\", \"xref\": \"paper\", \"yref\": \"paper\"}, {\"x\": 0.01, \"y\": 1.08, \"showarrow\": false, \"text\": \"MLE: 625.87\", \"xref\": \"paper\", \"yref\": \"paper\"}, {\"x\": 0.01, \"y\": 1.2, \"showarrow\": false, \"text\": \"SUBJECT: 15\", \"font\": {\"family\": \"Arial, sans-serif\", \"size\": 22}, \"xref\": \"paper\", \"yref\": \"paper\"}]}, {\"showLink\": true, \"linkText\": \"Export to plot.ly\"})});</script>"
      ]
     },
     "metadata": {},
     "output_type": "display_data"
    },
    {
     "data": {
      "application/vnd.plotly.v1+json": {
       "data": [
        {
         "error_y": {
          "array": [
           0.5155993844089763,
           0.4371406107692443,
           0.42851767156685155,
           0.3827105295676191,
           0.573180326126223,
           0.4453286957032869,
           0.2816722892419483
          ],
          "color": "rgb(0,170,80)",
          "type": "data",
          "visible": true
         },
         "line": {
          "color": "rgb(0,100,80)"
         },
         "mode": "lines+markers",
         "name": "Test Data",
         "type": "scatter",
         "x": [
          -1.596538461538462,
          -0.79375,
          -0.26629629629629636,
          0.03636363636363631,
          0.3371428571428572,
          0.7925000000000001,
          1.5489473684210522
         ],
         "y": [
          3.9572576339246908,
          3.201245195330557,
          4.084760400667114,
          4.246452928061692,
          3.614466961847419,
          3.3151928501989447,
          2.693178288522177
         ]
        },
        {
         "error_y": {
          "array": [
           0.009520271121625975,
           0.01438505720060092,
           0.011576511650588237,
           0.012881310929384179,
           0.016227547914048478,
           0.012813797159364525,
           0.01120216505761133
          ],
          "color": "rgb(0,100,246)",
          "type": "data",
          "visible": true
         },
         "line": {
          "color": "rgb(0,176,246)"
         },
         "mode": "lines+markers",
         "name": "Sim Data",
         "type": "scatter",
         "x": [
          -1.596538461538462,
          -0.79375,
          -0.26629629629629636,
          0.03636363636363631,
          0.3371428571428572,
          0.7925000000000001,
          1.5489473684210522
         ],
         "y": [
          2.8255016388385354,
          3.1760740997666836,
          3.3695853859708387,
          3.3759551131388426,
          3.3710142505787273,
          3.2134139236672037,
          2.8054766956980783
         ]
        },
        {
         "error_y": {
          "array": [
           0.038461538461538464,
           0.0625,
           0.07618086585254095,
           0.10729033533674225,
           0.11380392954509881,
           0,
           0.05263157894736841
          ],
          "color": "rgb(0,170,80)",
          "type": "data",
          "visible": true
         },
         "line": {
          "color": "rgb(0,100,80)"
         },
         "mode": "lines+markers",
         "name": "Test Data",
         "type": "scatter",
         "x": [
          -1.596538461538462,
          -0.79375,
          -0.26629629629629636,
          0.03636363636363631,
          0.3371428571428572,
          0.7925000000000001,
          1.5489473684210522
         ],
         "xaxis": "x2",
         "y": [
          0.038461538461538464,
          0.0625,
          0.18518518518518517,
          0.5909090909090909,
          0.7857142857142857,
          1,
          0.9473684210526315
         ],
         "yaxis": "y2"
        },
        {
         "error_y": {
          "array": [
           0.00203934130917998,
           0.0034973215660446446,
           0.0030257222336317084,
           0.003394068132166577,
           0.00410583902582078,
           0.003165918561064606,
           0.0024023415042741156
          ],
          "color": "rgb(0,100,246)",
          "type": "data",
          "visible": true
         },
         "line": {
          "color": "rgb(0,176,246)"
         },
         "mode": "lines+markers",
         "name": "Sim Data",
         "type": "scatter",
         "x": [
          -1.596538461538462,
          -0.79375,
          -0.26629629629629636,
          0.03636363636363631,
          0.3371428571428572,
          0.7925000000000001,
          1.5489473684210522
         ],
         "xaxis": "x2",
         "y": [
          0.12297073227162303,
          0.2632275966450148,
          0.42372436546320247,
          0.4932485367989308,
          0.6302806712962963,
          0.7268780290791599,
          0.8750593824228029
         ],
         "yaxis": "y2"
        }
       ],
       "layout": {
        "annotations": [
         {
          "showarrow": false,
          "text": "PARAMETERS: v: 0.051, a: 0.164, θ: 0.55",
          "x": 0.01,
          "xref": "paper",
          "y": 1.12,
          "yref": "paper"
         },
         {
          "showarrow": false,
          "text": "MLE: 675.49",
          "x": 0.01,
          "xref": "paper",
          "y": 1.08,
          "yref": "paper"
         },
         {
          "font": {
           "family": "Arial, sans-serif",
           "size": 22
          },
          "showarrow": false,
          "text": "SUBJECT: 16",
          "x": 0.01,
          "xref": "paper",
          "y": 1.2,
          "yref": "paper"
         }
        ],
        "paper_bgcolor": "rgb(255,255,255)",
        "plot_bgcolor": "rgb(229,229,229)",
        "xaxis": {
         "domain": [
          0,
          0.45
         ],
         "gridcolor": "rgb(255,255,255)",
         "range": [
          -2,
          2
         ],
         "showgrid": true,
         "showline": false,
         "showticklabels": true,
         "tickcolor": "rgb(127,127,127)",
         "ticks": "outside",
         "title": "Net Value ($)",
         "zeroline": false
        },
        "xaxis2": {
         "domain": [
          0.55,
          1
         ],
         "gridcolor": "rgb(255,255,255)",
         "range": [
          -2,
          2
         ],
         "showgrid": true,
         "showline": false,
         "showticklabels": true,
         "tickcolor": "rgb(127,127,127)",
         "ticks": "outside",
         "title": "Net Value ($)",
         "zeroline": false
        },
        "yaxis1": {
         "anchor": "x1",
         "gridcolor": "rgb(255,255,255)",
         "range": [
          0
         ],
         "showgrid": true,
         "showline": false,
         "showticklabels": true,
         "tickcolor": "rgb(127,127,127)",
         "ticks": "outside",
         "title": "RT (s)",
         "zeroline": false
        },
        "yaxis2": {
         "anchor": "x2",
         "gridcolor": "rgb(255,255,255)",
         "range": [
          0
         ],
         "showgrid": true,
         "showline": false,
         "showticklabels": true,
         "tickcolor": "rgb(127,127,127)",
         "ticks": "outside",
         "title": "p (accept)",
         "zeroline": false
        }
       }
      },
      "text/html": [
       "<div id=\"913bf07f-b1ef-493b-bd97-3804cc725d6b\" style=\"height: 525px; width: 100%;\" class=\"plotly-graph-div\"></div><script type=\"text/javascript\">require([\"plotly\"], function(Plotly) { window.PLOTLYENV=window.PLOTLYENV || {};window.PLOTLYENV.BASE_URL=\"https://plot.ly\";Plotly.newPlot(\"913bf07f-b1ef-493b-bd97-3804cc725d6b\", [{\"type\": \"scatter\", \"x\": [-1.596538461538462, -0.79375, -0.26629629629629636, 0.03636363636363631, 0.3371428571428572, 0.7925000000000001, 1.5489473684210522], \"y\": [3.9572576339246908, 3.201245195330557, 4.084760400667114, 4.246452928061692, 3.614466961847419, 3.3151928501989447, 2.693178288522177], \"error_y\": {\"type\": \"data\", \"array\": [0.5155993844089763, 0.4371406107692443, 0.42851767156685155, 0.3827105295676191, 0.573180326126223, 0.4453286957032869, 0.2816722892419483], \"color\": \"rgb(0,170,80)\", \"visible\": true}, \"line\": {\"color\": \"rgb(0,100,80)\"}, \"mode\": \"lines+markers\", \"name\": \"Test Data\"}, {\"type\": \"scatter\", \"x\": [-1.596538461538462, -0.79375, -0.26629629629629636, 0.03636363636363631, 0.3371428571428572, 0.7925000000000001, 1.5489473684210522], \"y\": [2.8255016388385354, 3.1760740997666836, 3.3695853859708387, 3.3759551131388426, 3.3710142505787273, 3.2134139236672037, 2.8054766956980783], \"error_y\": {\"type\": \"data\", \"array\": [0.009520271121625975, 0.01438505720060092, 0.011576511650588237, 0.012881310929384179, 0.016227547914048478, 0.012813797159364525, 0.01120216505761133], \"color\": \"rgb(0,100,246)\", \"visible\": true}, \"line\": {\"color\": \"rgb(0,176,246)\"}, \"mode\": \"lines+markers\", \"name\": \"Sim Data\"}, {\"type\": \"scatter\", \"x\": [-1.596538461538462, -0.79375, -0.26629629629629636, 0.03636363636363631, 0.3371428571428572, 0.7925000000000001, 1.5489473684210522], \"y\": [0.038461538461538464, 0.0625, 0.18518518518518517, 0.5909090909090909, 0.7857142857142857, 1.0, 0.9473684210526315], \"error_y\": {\"type\": \"data\", \"array\": [0.038461538461538464, 0.0625, 0.07618086585254095, 0.10729033533674225, 0.11380392954509881, 0.0, 0.05263157894736841], \"color\": \"rgb(0,170,80)\", \"visible\": true}, \"line\": {\"color\": \"rgb(0,100,80)\"}, \"mode\": \"lines+markers\", \"name\": \"Test Data\", \"xaxis\": \"x2\", \"yaxis\": \"y2\"}, {\"type\": \"scatter\", \"x\": [-1.596538461538462, -0.79375, -0.26629629629629636, 0.03636363636363631, 0.3371428571428572, 0.7925000000000001, 1.5489473684210522], \"y\": [0.12297073227162303, 0.2632275966450148, 0.42372436546320247, 0.4932485367989308, 0.6302806712962963, 0.7268780290791599, 0.8750593824228029], \"error_y\": {\"type\": \"data\", \"array\": [0.00203934130917998, 0.0034973215660446446, 0.0030257222336317084, 0.003394068132166577, 0.00410583902582078, 0.003165918561064606, 0.0024023415042741156], \"color\": \"rgb(0,100,246)\", \"visible\": true}, \"line\": {\"color\": \"rgb(0,176,246)\"}, \"mode\": \"lines+markers\", \"name\": \"Sim Data\", \"xaxis\": \"x2\", \"yaxis\": \"y2\"}], {\"paper_bgcolor\": \"rgb(255,255,255)\", \"plot_bgcolor\": \"rgb(229,229,229)\", \"xaxis\": {\"gridcolor\": \"rgb(255,255,255)\", \"range\": [-2, 2], \"domain\": [0, 0.45], \"showgrid\": true, \"showline\": false, \"showticklabels\": true, \"tickcolor\": \"rgb(127,127,127)\", \"ticks\": \"outside\", \"title\": \"Net Value ($)\", \"zeroline\": false}, \"xaxis2\": {\"gridcolor\": \"rgb(255,255,255)\", \"range\": [-2, 2], \"domain\": [0.55, 1], \"showgrid\": true, \"showline\": false, \"showticklabels\": true, \"tickcolor\": \"rgb(127,127,127)\", \"ticks\": \"outside\", \"title\": \"Net Value ($)\", \"zeroline\": false}, \"yaxis1\": {\"gridcolor\": \"rgb(255,255,255)\", \"range\": [0], \"showgrid\": true, \"showline\": false, \"showticklabels\": true, \"tickcolor\": \"rgb(127,127,127)\", \"ticks\": \"outside\", \"title\": \"RT (s)\", \"anchor\": \"x1\", \"zeroline\": false}, \"yaxis2\": {\"gridcolor\": \"rgb(255,255,255)\", \"range\": [0], \"showgrid\": true, \"showline\": false, \"showticklabels\": true, \"tickcolor\": \"rgb(127,127,127)\", \"ticks\": \"outside\", \"title\": \"p (accept)\", \"anchor\": \"x2\", \"zeroline\": false}, \"annotations\": [{\"x\": 0.01, \"y\": 1.12, \"showarrow\": false, \"text\": \"PARAMETERS: v: 0.051, a: 0.164, \\u03b8: 0.55\", \"xref\": \"paper\", \"yref\": \"paper\"}, {\"x\": 0.01, \"y\": 1.08, \"showarrow\": false, \"text\": \"MLE: 675.49\", \"xref\": \"paper\", \"yref\": \"paper\"}, {\"x\": 0.01, \"y\": 1.2, \"showarrow\": false, \"text\": \"SUBJECT: 16\", \"font\": {\"family\": \"Arial, sans-serif\", \"size\": 22}, \"xref\": \"paper\", \"yref\": \"paper\"}]}, {\"showLink\": true, \"linkText\": \"Export to plot.ly\"})});</script>"
      ],
      "text/vnd.plotly.v1+html": [
       "<div id=\"913bf07f-b1ef-493b-bd97-3804cc725d6b\" style=\"height: 525px; width: 100%;\" class=\"plotly-graph-div\"></div><script type=\"text/javascript\">require([\"plotly\"], function(Plotly) { window.PLOTLYENV=window.PLOTLYENV || {};window.PLOTLYENV.BASE_URL=\"https://plot.ly\";Plotly.newPlot(\"913bf07f-b1ef-493b-bd97-3804cc725d6b\", [{\"type\": \"scatter\", \"x\": [-1.596538461538462, -0.79375, -0.26629629629629636, 0.03636363636363631, 0.3371428571428572, 0.7925000000000001, 1.5489473684210522], \"y\": [3.9572576339246908, 3.201245195330557, 4.084760400667114, 4.246452928061692, 3.614466961847419, 3.3151928501989447, 2.693178288522177], \"error_y\": {\"type\": \"data\", \"array\": [0.5155993844089763, 0.4371406107692443, 0.42851767156685155, 0.3827105295676191, 0.573180326126223, 0.4453286957032869, 0.2816722892419483], \"color\": \"rgb(0,170,80)\", \"visible\": true}, \"line\": {\"color\": \"rgb(0,100,80)\"}, \"mode\": \"lines+markers\", \"name\": \"Test Data\"}, {\"type\": \"scatter\", \"x\": [-1.596538461538462, -0.79375, -0.26629629629629636, 0.03636363636363631, 0.3371428571428572, 0.7925000000000001, 1.5489473684210522], \"y\": [2.8255016388385354, 3.1760740997666836, 3.3695853859708387, 3.3759551131388426, 3.3710142505787273, 3.2134139236672037, 2.8054766956980783], \"error_y\": {\"type\": \"data\", \"array\": [0.009520271121625975, 0.01438505720060092, 0.011576511650588237, 0.012881310929384179, 0.016227547914048478, 0.012813797159364525, 0.01120216505761133], \"color\": \"rgb(0,100,246)\", \"visible\": true}, \"line\": {\"color\": \"rgb(0,176,246)\"}, \"mode\": \"lines+markers\", \"name\": \"Sim Data\"}, {\"type\": \"scatter\", \"x\": [-1.596538461538462, -0.79375, -0.26629629629629636, 0.03636363636363631, 0.3371428571428572, 0.7925000000000001, 1.5489473684210522], \"y\": [0.038461538461538464, 0.0625, 0.18518518518518517, 0.5909090909090909, 0.7857142857142857, 1.0, 0.9473684210526315], \"error_y\": {\"type\": \"data\", \"array\": [0.038461538461538464, 0.0625, 0.07618086585254095, 0.10729033533674225, 0.11380392954509881, 0.0, 0.05263157894736841], \"color\": \"rgb(0,170,80)\", \"visible\": true}, \"line\": {\"color\": \"rgb(0,100,80)\"}, \"mode\": \"lines+markers\", \"name\": \"Test Data\", \"xaxis\": \"x2\", \"yaxis\": \"y2\"}, {\"type\": \"scatter\", \"x\": [-1.596538461538462, -0.79375, -0.26629629629629636, 0.03636363636363631, 0.3371428571428572, 0.7925000000000001, 1.5489473684210522], \"y\": [0.12297073227162303, 0.2632275966450148, 0.42372436546320247, 0.4932485367989308, 0.6302806712962963, 0.7268780290791599, 0.8750593824228029], \"error_y\": {\"type\": \"data\", \"array\": [0.00203934130917998, 0.0034973215660446446, 0.0030257222336317084, 0.003394068132166577, 0.00410583902582078, 0.003165918561064606, 0.0024023415042741156], \"color\": \"rgb(0,100,246)\", \"visible\": true}, \"line\": {\"color\": \"rgb(0,176,246)\"}, \"mode\": \"lines+markers\", \"name\": \"Sim Data\", \"xaxis\": \"x2\", \"yaxis\": \"y2\"}], {\"paper_bgcolor\": \"rgb(255,255,255)\", \"plot_bgcolor\": \"rgb(229,229,229)\", \"xaxis\": {\"gridcolor\": \"rgb(255,255,255)\", \"range\": [-2, 2], \"domain\": [0, 0.45], \"showgrid\": true, \"showline\": false, \"showticklabels\": true, \"tickcolor\": \"rgb(127,127,127)\", \"ticks\": \"outside\", \"title\": \"Net Value ($)\", \"zeroline\": false}, \"xaxis2\": {\"gridcolor\": \"rgb(255,255,255)\", \"range\": [-2, 2], \"domain\": [0.55, 1], \"showgrid\": true, \"showline\": false, \"showticklabels\": true, \"tickcolor\": \"rgb(127,127,127)\", \"ticks\": \"outside\", \"title\": \"Net Value ($)\", \"zeroline\": false}, \"yaxis1\": {\"gridcolor\": \"rgb(255,255,255)\", \"range\": [0], \"showgrid\": true, \"showline\": false, \"showticklabels\": true, \"tickcolor\": \"rgb(127,127,127)\", \"ticks\": \"outside\", \"title\": \"RT (s)\", \"anchor\": \"x1\", \"zeroline\": false}, \"yaxis2\": {\"gridcolor\": \"rgb(255,255,255)\", \"range\": [0], \"showgrid\": true, \"showline\": false, \"showticklabels\": true, \"tickcolor\": \"rgb(127,127,127)\", \"ticks\": \"outside\", \"title\": \"p (accept)\", \"anchor\": \"x2\", \"zeroline\": false}, \"annotations\": [{\"x\": 0.01, \"y\": 1.12, \"showarrow\": false, \"text\": \"PARAMETERS: v: 0.051, a: 0.164, \\u03b8: 0.55\", \"xref\": \"paper\", \"yref\": \"paper\"}, {\"x\": 0.01, \"y\": 1.08, \"showarrow\": false, \"text\": \"MLE: 675.49\", \"xref\": \"paper\", \"yref\": \"paper\"}, {\"x\": 0.01, \"y\": 1.2, \"showarrow\": false, \"text\": \"SUBJECT: 16\", \"font\": {\"family\": \"Arial, sans-serif\", \"size\": 22}, \"xref\": \"paper\", \"yref\": \"paper\"}]}, {\"showLink\": true, \"linkText\": \"Export to plot.ly\"})});</script>"
      ]
     },
     "metadata": {},
     "output_type": "display_data"
    },
    {
     "data": {
      "application/vnd.plotly.v1+json": {
       "data": [
        {
         "error_y": {
          "array": [
           0.3186301028894171,
           0.33573353920319327,
           0.5125059552199829,
           0.2558821801821235,
           0.31212419771003,
           0.3220052859472622,
           0.060707629484974435
          ],
          "color": "rgb(0,170,80)",
          "type": "data",
          "visible": true
         },
         "line": {
          "color": "rgb(0,100,80)"
         },
         "mode": "lines+markers",
         "name": "Test Data",
         "type": "scatter",
         "x": [
          -1.8164285714285715,
          -0.763181818181818,
          -0.3170588235294118,
          0.023181818181818147,
          0.324,
          0.8175000000000001,
          1.630434782608696
         ],
         "y": [
          2.088870704373611,
          2.7569758453887934,
          3.795318903062519,
          2.4751631152890194,
          2.5676745259319445,
          2.361632085216116,
          1.311077429497938
         ]
        },
        {
         "error_y": {
          "array": [
           0.004916038171483772,
           0.006135244432242189,
           0.00730793923688316,
           0.006181051679470989,
           0.0068625662323116565,
           0.00715489286017614,
           0.0055081038276068835
          ],
          "color": "rgb(0,100,246)",
          "type": "data",
          "visible": true
         },
         "line": {
          "color": "rgb(0,176,246)"
         },
         "mode": "lines+markers",
         "name": "Sim Data",
         "type": "scatter",
         "x": [
          -1.8164285714285715,
          -0.763181818181818,
          -0.3170588235294118,
          0.023181818181818147,
          0.324,
          0.8175000000000001,
          1.630434782608696
         ],
         "y": [
          1.8170912499999925,
          1.918158528823408,
          1.9741275957409194,
          1.9309200909090714,
          1.9869199500000005,
          1.9239935000000101,
          1.847395652173917
         ]
        },
        {
         "error_y": {
          "array": [
           0,
           0.04545454545454545,
           0.11947115300935236,
           0.1049727762162956,
           0.08191780219091252,
           0,
           0
          ],
          "color": "rgb(0,170,80)",
          "type": "data",
          "visible": true
         },
         "line": {
          "color": "rgb(0,100,80)"
         },
         "mode": "lines+markers",
         "name": "Test Data",
         "type": "scatter",
         "x": [
          -1.8164285714285715,
          -0.763181818181818,
          -0.3170588235294118,
          0.023181818181818147,
          0.324,
          0.8175000000000001,
          1.630434782608696
         ],
         "xaxis": "x2",
         "y": [
          0,
          0.045454545454545456,
          0.35294117647058826,
          0.6363636363636364,
          0.85,
          1,
          1
         ],
         "yaxis": "y2"
        },
        {
         "error_y": {
          "array": [
           0.0024676639542217057,
           0.003225797813585017,
           0.00379653926163855,
           0.003371075580297224,
           0.0035086435276286345,
           0.0037902041967406977,
           0.0028219018524011166
          ],
          "color": "rgb(0,100,246)",
          "type": "data",
          "visible": true
         },
         "line": {
          "color": "rgb(0,176,246)"
         },
         "mode": "lines+markers",
         "name": "Sim Data",
         "type": "scatter",
         "x": [
          -1.8164285714285715,
          -0.763181818181818,
          -0.3170588235294118,
          0.023181818181818147,
          0.324,
          0.8175000000000001,
          1.630434782608696
         ],
         "xaxis": "x2",
         "y": [
          0.21803571428571428,
          0.35465539188943446,
          0.4293193717277487,
          0.49977272727272726,
          0.56165,
          0.642,
          0.7585652173913043
         ],
         "yaxis": "y2"
        }
       ],
       "layout": {
        "annotations": [
         {
          "showarrow": false,
          "text": "PARAMETERS: v: 0.051, a: 0.107, θ: 0.325",
          "x": 0.01,
          "xref": "paper",
          "y": 1.12,
          "yref": "paper"
         },
         {
          "showarrow": false,
          "text": "MLE: 620.75",
          "x": 0.01,
          "xref": "paper",
          "y": 1.08,
          "yref": "paper"
         },
         {
          "font": {
           "family": "Arial, sans-serif",
           "size": 22
          },
          "showarrow": false,
          "text": "SUBJECT: 17",
          "x": 0.01,
          "xref": "paper",
          "y": 1.2,
          "yref": "paper"
         }
        ],
        "paper_bgcolor": "rgb(255,255,255)",
        "plot_bgcolor": "rgb(229,229,229)",
        "xaxis": {
         "domain": [
          0,
          0.45
         ],
         "gridcolor": "rgb(255,255,255)",
         "range": [
          -2,
          2
         ],
         "showgrid": true,
         "showline": false,
         "showticklabels": true,
         "tickcolor": "rgb(127,127,127)",
         "ticks": "outside",
         "title": "Net Value ($)",
         "zeroline": false
        },
        "xaxis2": {
         "domain": [
          0.55,
          1
         ],
         "gridcolor": "rgb(255,255,255)",
         "range": [
          -2,
          2
         ],
         "showgrid": true,
         "showline": false,
         "showticklabels": true,
         "tickcolor": "rgb(127,127,127)",
         "ticks": "outside",
         "title": "Net Value ($)",
         "zeroline": false
        },
        "yaxis1": {
         "anchor": "x1",
         "gridcolor": "rgb(255,255,255)",
         "range": [
          0
         ],
         "showgrid": true,
         "showline": false,
         "showticklabels": true,
         "tickcolor": "rgb(127,127,127)",
         "ticks": "outside",
         "title": "RT (s)",
         "zeroline": false
        },
        "yaxis2": {
         "anchor": "x2",
         "gridcolor": "rgb(255,255,255)",
         "range": [
          0
         ],
         "showgrid": true,
         "showline": false,
         "showticklabels": true,
         "tickcolor": "rgb(127,127,127)",
         "ticks": "outside",
         "title": "p (accept)",
         "zeroline": false
        }
       }
      },
      "text/html": [
       "<div id=\"34e1dcae-4863-4324-9904-792c25935616\" style=\"height: 525px; width: 100%;\" class=\"plotly-graph-div\"></div><script type=\"text/javascript\">require([\"plotly\"], function(Plotly) { window.PLOTLYENV=window.PLOTLYENV || {};window.PLOTLYENV.BASE_URL=\"https://plot.ly\";Plotly.newPlot(\"34e1dcae-4863-4324-9904-792c25935616\", [{\"type\": \"scatter\", \"x\": [-1.8164285714285715, -0.763181818181818, -0.3170588235294118, 0.023181818181818147, 0.324, 0.8175000000000001, 1.630434782608696], \"y\": [2.088870704373611, 2.7569758453887934, 3.795318903062519, 2.4751631152890194, 2.5676745259319445, 2.361632085216116, 1.311077429497938], \"error_y\": {\"type\": \"data\", \"array\": [0.3186301028894171, 0.33573353920319327, 0.5125059552199829, 0.2558821801821235, 0.31212419771003, 0.3220052859472622, 0.060707629484974435], \"color\": \"rgb(0,170,80)\", \"visible\": true}, \"line\": {\"color\": \"rgb(0,100,80)\"}, \"mode\": \"lines+markers\", \"name\": \"Test Data\"}, {\"type\": \"scatter\", \"x\": [-1.8164285714285715, -0.763181818181818, -0.3170588235294118, 0.023181818181818147, 0.324, 0.8175000000000001, 1.630434782608696], \"y\": [1.8170912499999925, 1.918158528823408, 1.9741275957409194, 1.9309200909090714, 1.9869199500000005, 1.9239935000000101, 1.847395652173917], \"error_y\": {\"type\": \"data\", \"array\": [0.004916038171483772, 0.006135244432242189, 0.00730793923688316, 0.006181051679470989, 0.0068625662323116565, 0.00715489286017614, 0.0055081038276068835], \"color\": \"rgb(0,100,246)\", \"visible\": true}, \"line\": {\"color\": \"rgb(0,176,246)\"}, \"mode\": \"lines+markers\", \"name\": \"Sim Data\"}, {\"type\": \"scatter\", \"x\": [-1.8164285714285715, -0.763181818181818, -0.3170588235294118, 0.023181818181818147, 0.324, 0.8175000000000001, 1.630434782608696], \"y\": [0.0, 0.045454545454545456, 0.35294117647058826, 0.6363636363636364, 0.85, 1.0, 1.0], \"error_y\": {\"type\": \"data\", \"array\": [0.0, 0.04545454545454545, 0.11947115300935236, 0.1049727762162956, 0.08191780219091252, 0.0, 0.0], \"color\": \"rgb(0,170,80)\", \"visible\": true}, \"line\": {\"color\": \"rgb(0,100,80)\"}, \"mode\": \"lines+markers\", \"name\": \"Test Data\", \"xaxis\": \"x2\", \"yaxis\": \"y2\"}, {\"type\": \"scatter\", \"x\": [-1.8164285714285715, -0.763181818181818, -0.3170588235294118, 0.023181818181818147, 0.324, 0.8175000000000001, 1.630434782608696], \"y\": [0.21803571428571428, 0.35465539188943446, 0.4293193717277487, 0.49977272727272726, 0.56165, 0.642, 0.7585652173913043], \"error_y\": {\"type\": \"data\", \"array\": [0.0024676639542217057, 0.003225797813585017, 0.00379653926163855, 0.003371075580297224, 0.0035086435276286345, 0.0037902041967406977, 0.0028219018524011166], \"color\": \"rgb(0,100,246)\", \"visible\": true}, \"line\": {\"color\": \"rgb(0,176,246)\"}, \"mode\": \"lines+markers\", \"name\": \"Sim Data\", \"xaxis\": \"x2\", \"yaxis\": \"y2\"}], {\"paper_bgcolor\": \"rgb(255,255,255)\", \"plot_bgcolor\": \"rgb(229,229,229)\", \"xaxis\": {\"gridcolor\": \"rgb(255,255,255)\", \"range\": [-2, 2], \"domain\": [0, 0.45], \"showgrid\": true, \"showline\": false, \"showticklabels\": true, \"tickcolor\": \"rgb(127,127,127)\", \"ticks\": \"outside\", \"title\": \"Net Value ($)\", \"zeroline\": false}, \"xaxis2\": {\"gridcolor\": \"rgb(255,255,255)\", \"range\": [-2, 2], \"domain\": [0.55, 1], \"showgrid\": true, \"showline\": false, \"showticklabels\": true, \"tickcolor\": \"rgb(127,127,127)\", \"ticks\": \"outside\", \"title\": \"Net Value ($)\", \"zeroline\": false}, \"yaxis1\": {\"gridcolor\": \"rgb(255,255,255)\", \"range\": [0], \"showgrid\": true, \"showline\": false, \"showticklabels\": true, \"tickcolor\": \"rgb(127,127,127)\", \"ticks\": \"outside\", \"title\": \"RT (s)\", \"anchor\": \"x1\", \"zeroline\": false}, \"yaxis2\": {\"gridcolor\": \"rgb(255,255,255)\", \"range\": [0], \"showgrid\": true, \"showline\": false, \"showticklabels\": true, \"tickcolor\": \"rgb(127,127,127)\", \"ticks\": \"outside\", \"title\": \"p (accept)\", \"anchor\": \"x2\", \"zeroline\": false}, \"annotations\": [{\"x\": 0.01, \"y\": 1.12, \"showarrow\": false, \"text\": \"PARAMETERS: v: 0.051, a: 0.107, \\u03b8: 0.325\", \"xref\": \"paper\", \"yref\": \"paper\"}, {\"x\": 0.01, \"y\": 1.08, \"showarrow\": false, \"text\": \"MLE: 620.75\", \"xref\": \"paper\", \"yref\": \"paper\"}, {\"x\": 0.01, \"y\": 1.2, \"showarrow\": false, \"text\": \"SUBJECT: 17\", \"font\": {\"family\": \"Arial, sans-serif\", \"size\": 22}, \"xref\": \"paper\", \"yref\": \"paper\"}]}, {\"showLink\": true, \"linkText\": \"Export to plot.ly\"})});</script>"
      ],
      "text/vnd.plotly.v1+html": [
       "<div id=\"34e1dcae-4863-4324-9904-792c25935616\" style=\"height: 525px; width: 100%;\" class=\"plotly-graph-div\"></div><script type=\"text/javascript\">require([\"plotly\"], function(Plotly) { window.PLOTLYENV=window.PLOTLYENV || {};window.PLOTLYENV.BASE_URL=\"https://plot.ly\";Plotly.newPlot(\"34e1dcae-4863-4324-9904-792c25935616\", [{\"type\": \"scatter\", \"x\": [-1.8164285714285715, -0.763181818181818, -0.3170588235294118, 0.023181818181818147, 0.324, 0.8175000000000001, 1.630434782608696], \"y\": [2.088870704373611, 2.7569758453887934, 3.795318903062519, 2.4751631152890194, 2.5676745259319445, 2.361632085216116, 1.311077429497938], \"error_y\": {\"type\": \"data\", \"array\": [0.3186301028894171, 0.33573353920319327, 0.5125059552199829, 0.2558821801821235, 0.31212419771003, 0.3220052859472622, 0.060707629484974435], \"color\": \"rgb(0,170,80)\", \"visible\": true}, \"line\": {\"color\": \"rgb(0,100,80)\"}, \"mode\": \"lines+markers\", \"name\": \"Test Data\"}, {\"type\": \"scatter\", \"x\": [-1.8164285714285715, -0.763181818181818, -0.3170588235294118, 0.023181818181818147, 0.324, 0.8175000000000001, 1.630434782608696], \"y\": [1.8170912499999925, 1.918158528823408, 1.9741275957409194, 1.9309200909090714, 1.9869199500000005, 1.9239935000000101, 1.847395652173917], \"error_y\": {\"type\": \"data\", \"array\": [0.004916038171483772, 0.006135244432242189, 0.00730793923688316, 0.006181051679470989, 0.0068625662323116565, 0.00715489286017614, 0.0055081038276068835], \"color\": \"rgb(0,100,246)\", \"visible\": true}, \"line\": {\"color\": \"rgb(0,176,246)\"}, \"mode\": \"lines+markers\", \"name\": \"Sim Data\"}, {\"type\": \"scatter\", \"x\": [-1.8164285714285715, -0.763181818181818, -0.3170588235294118, 0.023181818181818147, 0.324, 0.8175000000000001, 1.630434782608696], \"y\": [0.0, 0.045454545454545456, 0.35294117647058826, 0.6363636363636364, 0.85, 1.0, 1.0], \"error_y\": {\"type\": \"data\", \"array\": [0.0, 0.04545454545454545, 0.11947115300935236, 0.1049727762162956, 0.08191780219091252, 0.0, 0.0], \"color\": \"rgb(0,170,80)\", \"visible\": true}, \"line\": {\"color\": \"rgb(0,100,80)\"}, \"mode\": \"lines+markers\", \"name\": \"Test Data\", \"xaxis\": \"x2\", \"yaxis\": \"y2\"}, {\"type\": \"scatter\", \"x\": [-1.8164285714285715, -0.763181818181818, -0.3170588235294118, 0.023181818181818147, 0.324, 0.8175000000000001, 1.630434782608696], \"y\": [0.21803571428571428, 0.35465539188943446, 0.4293193717277487, 0.49977272727272726, 0.56165, 0.642, 0.7585652173913043], \"error_y\": {\"type\": \"data\", \"array\": [0.0024676639542217057, 0.003225797813585017, 0.00379653926163855, 0.003371075580297224, 0.0035086435276286345, 0.0037902041967406977, 0.0028219018524011166], \"color\": \"rgb(0,100,246)\", \"visible\": true}, \"line\": {\"color\": \"rgb(0,176,246)\"}, \"mode\": \"lines+markers\", \"name\": \"Sim Data\", \"xaxis\": \"x2\", \"yaxis\": \"y2\"}], {\"paper_bgcolor\": \"rgb(255,255,255)\", \"plot_bgcolor\": \"rgb(229,229,229)\", \"xaxis\": {\"gridcolor\": \"rgb(255,255,255)\", \"range\": [-2, 2], \"domain\": [0, 0.45], \"showgrid\": true, \"showline\": false, \"showticklabels\": true, \"tickcolor\": \"rgb(127,127,127)\", \"ticks\": \"outside\", \"title\": \"Net Value ($)\", \"zeroline\": false}, \"xaxis2\": {\"gridcolor\": \"rgb(255,255,255)\", \"range\": [-2, 2], \"domain\": [0.55, 1], \"showgrid\": true, \"showline\": false, \"showticklabels\": true, \"tickcolor\": \"rgb(127,127,127)\", \"ticks\": \"outside\", \"title\": \"Net Value ($)\", \"zeroline\": false}, \"yaxis1\": {\"gridcolor\": \"rgb(255,255,255)\", \"range\": [0], \"showgrid\": true, \"showline\": false, \"showticklabels\": true, \"tickcolor\": \"rgb(127,127,127)\", \"ticks\": \"outside\", \"title\": \"RT (s)\", \"anchor\": \"x1\", \"zeroline\": false}, \"yaxis2\": {\"gridcolor\": \"rgb(255,255,255)\", \"range\": [0], \"showgrid\": true, \"showline\": false, \"showticklabels\": true, \"tickcolor\": \"rgb(127,127,127)\", \"ticks\": \"outside\", \"title\": \"p (accept)\", \"anchor\": \"x2\", \"zeroline\": false}, \"annotations\": [{\"x\": 0.01, \"y\": 1.12, \"showarrow\": false, \"text\": \"PARAMETERS: v: 0.051, a: 0.107, \\u03b8: 0.325\", \"xref\": \"paper\", \"yref\": \"paper\"}, {\"x\": 0.01, \"y\": 1.08, \"showarrow\": false, \"text\": \"MLE: 620.75\", \"xref\": \"paper\", \"yref\": \"paper\"}, {\"x\": 0.01, \"y\": 1.2, \"showarrow\": false, \"text\": \"SUBJECT: 17\", \"font\": {\"family\": \"Arial, sans-serif\", \"size\": 22}, \"xref\": \"paper\", \"yref\": \"paper\"}]}, {\"showLink\": true, \"linkText\": \"Export to plot.ly\"})});</script>"
      ]
     },
     "metadata": {},
     "output_type": "display_data"
    },
    {
     "data": {
      "application/vnd.plotly.v1+json": {
       "data": [
        {
         "error_y": {
          "array": [
           0.3680509445291431,
           0.5755129816209081,
           0.38509362436182015,
           0.4491275041257742,
           0.852034916485681,
           0.5095410975414276,
           0.7068623972539727
          ],
          "color": "rgb(0,170,80)",
          "type": "data",
          "visible": true
         },
         "line": {
          "color": "rgb(0,100,80)"
         },
         "mode": "lines+markers",
         "name": "Test Data",
         "type": "scatter",
         "x": [
          -1.772083333333333,
          -0.8838461538461537,
          -0.33421052631578957,
          0.024333333333333297,
          0.3725,
          0.8125000000000002,
          1.83
         ],
         "y": [
          4.605736603489882,
          3.8519637532299393,
          5.324609208156624,
          5.217001316884611,
          5.507023673424556,
          4.792930399005855,
          4.728539617575007
         ]
        },
        {
         "error_y": {
          "array": [
           0.01458037556888633,
           0.022930602761064067,
           0.020053750362417116,
           0.016293264153164736,
           0.031030989923564796,
           0.02051799806293193,
           0.02199996099660767
          ],
          "color": "rgb(0,100,246)",
          "type": "data",
          "visible": true
         },
         "line": {
          "color": "rgb(0,176,246)"
         },
         "mode": "lines+markers",
         "name": "Sim Data",
         "type": "scatter",
         "x": [
          -1.772083333333333,
          -0.8838461538461537,
          -0.33421052631578957,
          0.024333333333333297,
          0.3725,
          0.8125000000000002,
          1.83
         ],
         "y": [
          4.586547729005073,
          5.329942605470556,
          5.517697555232372,
          5.533311047282374,
          5.557141676310129,
          5.267444979367237,
          4.493801668806161
         ]
        },
        {
         "error_y": {
          "array": [
           0,
           0,
           0.09609167675529229,
           0.08509629433967632,
           0.1889822365046136,
           0.11180339887498951,
           0.09999999999999999
          ],
          "color": "rgb(0,170,80)",
          "type": "data",
          "visible": true
         },
         "line": {
          "color": "rgb(0,100,80)"
         },
         "mode": "lines+markers",
         "name": "Test Data",
         "type": "scatter",
         "x": [
          -1.772083333333333,
          -0.8838461538461537,
          -0.33421052631578957,
          0.024333333333333297,
          0.3725,
          0.8125000000000002,
          1.83
         ],
         "xaxis": "x2",
         "y": [
          0,
          0,
          0.21052631578947367,
          0.3,
          0.5,
          0.75,
          0.9
         ],
         "yaxis": "y2"
        },
        {
         "error_y": {
          "array": [
           0.001469801578235233,
           0.003624682001790565,
           0.003941934563678602,
           0.003320506617403556,
           0.0061243061936848975,
           0.0032846092619633342,
           0.0020244955172399786
          ],
          "color": "rgb(0,100,246)",
          "type": "data",
          "visible": true
         },
         "line": {
          "color": "rgb(0,176,246)"
         },
         "mode": "lines+markers",
         "name": "Sim Data",
         "type": "scatter",
         "x": [
          -1.772083333333333,
          -0.8838461538461537,
          -0.33421052631578957,
          0.024333333333333297,
          0.3725,
          0.8125000000000002,
          1.83
         ],
         "xaxis": "x2",
         "y": [
          0.050755503743890956,
          0.17088548910523876,
          0.33984347946533694,
          0.5223155103844455,
          0.6521739130434783,
          0.8298945437872536,
          0.9600984167736414
         ],
         "yaxis": "y2"
        }
       ],
       "layout": {
        "annotations": [
         {
          "showarrow": false,
          "text": "PARAMETERS: v: 0.051, a: 0.279, θ: 0.325",
          "x": 0.01,
          "xref": "paper",
          "y": 1.12,
          "yref": "paper"
         },
         {
          "showarrow": false,
          "text": "MLE: 545.84",
          "x": 0.01,
          "xref": "paper",
          "y": 1.08,
          "yref": "paper"
         },
         {
          "font": {
           "family": "Arial, sans-serif",
           "size": 22
          },
          "showarrow": false,
          "text": "SUBJECT: 18",
          "x": 0.01,
          "xref": "paper",
          "y": 1.2,
          "yref": "paper"
         }
        ],
        "paper_bgcolor": "rgb(255,255,255)",
        "plot_bgcolor": "rgb(229,229,229)",
        "xaxis": {
         "domain": [
          0,
          0.45
         ],
         "gridcolor": "rgb(255,255,255)",
         "range": [
          -2,
          2
         ],
         "showgrid": true,
         "showline": false,
         "showticklabels": true,
         "tickcolor": "rgb(127,127,127)",
         "ticks": "outside",
         "title": "Net Value ($)",
         "zeroline": false
        },
        "xaxis2": {
         "domain": [
          0.55,
          1
         ],
         "gridcolor": "rgb(255,255,255)",
         "range": [
          -2,
          2
         ],
         "showgrid": true,
         "showline": false,
         "showticklabels": true,
         "tickcolor": "rgb(127,127,127)",
         "ticks": "outside",
         "title": "Net Value ($)",
         "zeroline": false
        },
        "yaxis1": {
         "anchor": "x1",
         "gridcolor": "rgb(255,255,255)",
         "range": [
          0
         ],
         "showgrid": true,
         "showline": false,
         "showticklabels": true,
         "tickcolor": "rgb(127,127,127)",
         "ticks": "outside",
         "title": "RT (s)",
         "zeroline": false
        },
        "yaxis2": {
         "anchor": "x2",
         "gridcolor": "rgb(255,255,255)",
         "range": [
          0
         ],
         "showgrid": true,
         "showline": false,
         "showticklabels": true,
         "tickcolor": "rgb(127,127,127)",
         "ticks": "outside",
         "title": "p (accept)",
         "zeroline": false
        }
       }
      },
      "text/html": [
       "<div id=\"a1b34c2a-cf10-4595-a8eb-7a868876ee9e\" style=\"height: 525px; width: 100%;\" class=\"plotly-graph-div\"></div><script type=\"text/javascript\">require([\"plotly\"], function(Plotly) { window.PLOTLYENV=window.PLOTLYENV || {};window.PLOTLYENV.BASE_URL=\"https://plot.ly\";Plotly.newPlot(\"a1b34c2a-cf10-4595-a8eb-7a868876ee9e\", [{\"type\": \"scatter\", \"x\": [-1.772083333333333, -0.8838461538461537, -0.33421052631578957, 0.024333333333333297, 0.3725, 0.8125000000000002, 1.83], \"y\": [4.605736603489882, 3.8519637532299393, 5.324609208156624, 5.217001316884611, 5.507023673424556, 4.792930399005855, 4.728539617575007], \"error_y\": {\"type\": \"data\", \"array\": [0.3680509445291431, 0.5755129816209081, 0.38509362436182015, 0.4491275041257742, 0.852034916485681, 0.5095410975414276, 0.7068623972539727], \"color\": \"rgb(0,170,80)\", \"visible\": true}, \"line\": {\"color\": \"rgb(0,100,80)\"}, \"mode\": \"lines+markers\", \"name\": \"Test Data\"}, {\"type\": \"scatter\", \"x\": [-1.772083333333333, -0.8838461538461537, -0.33421052631578957, 0.024333333333333297, 0.3725, 0.8125000000000002, 1.83], \"y\": [4.586547729005073, 5.329942605470556, 5.517697555232372, 5.533311047282374, 5.557141676310129, 5.267444979367237, 4.493801668806161], \"error_y\": {\"type\": \"data\", \"array\": [0.01458037556888633, 0.022930602761064067, 0.020053750362417116, 0.016293264153164736, 0.031030989923564796, 0.02051799806293193, 0.02199996099660767], \"color\": \"rgb(0,100,246)\", \"visible\": true}, \"line\": {\"color\": \"rgb(0,176,246)\"}, \"mode\": \"lines+markers\", \"name\": \"Sim Data\"}, {\"type\": \"scatter\", \"x\": [-1.772083333333333, -0.8838461538461537, -0.33421052631578957, 0.024333333333333297, 0.3725, 0.8125000000000002, 1.83], \"y\": [0.0, 0.0, 0.21052631578947367, 0.3, 0.5, 0.75, 0.9], \"error_y\": {\"type\": \"data\", \"array\": [0.0, 0.0, 0.09609167675529229, 0.08509629433967632, 0.1889822365046136, 0.11180339887498951, 0.09999999999999999], \"color\": \"rgb(0,170,80)\", \"visible\": true}, \"line\": {\"color\": \"rgb(0,100,80)\"}, \"mode\": \"lines+markers\", \"name\": \"Test Data\", \"xaxis\": \"x2\", \"yaxis\": \"y2\"}, {\"type\": \"scatter\", \"x\": [-1.772083333333333, -0.8838461538461537, -0.33421052631578957, 0.024333333333333297, 0.3725, 0.8125000000000002, 1.83], \"y\": [0.050755503743890956, 0.17088548910523876, 0.33984347946533694, 0.5223155103844455, 0.6521739130434783, 0.8298945437872536, 0.9600984167736414], \"error_y\": {\"type\": \"data\", \"array\": [0.001469801578235233, 0.003624682001790565, 0.003941934563678602, 0.003320506617403556, 0.0061243061936848975, 0.0032846092619633342, 0.0020244955172399786], \"color\": \"rgb(0,100,246)\", \"visible\": true}, \"line\": {\"color\": \"rgb(0,176,246)\"}, \"mode\": \"lines+markers\", \"name\": \"Sim Data\", \"xaxis\": \"x2\", \"yaxis\": \"y2\"}], {\"paper_bgcolor\": \"rgb(255,255,255)\", \"plot_bgcolor\": \"rgb(229,229,229)\", \"xaxis\": {\"gridcolor\": \"rgb(255,255,255)\", \"range\": [-2, 2], \"domain\": [0, 0.45], \"showgrid\": true, \"showline\": false, \"showticklabels\": true, \"tickcolor\": \"rgb(127,127,127)\", \"ticks\": \"outside\", \"title\": \"Net Value ($)\", \"zeroline\": false}, \"xaxis2\": {\"gridcolor\": \"rgb(255,255,255)\", \"range\": [-2, 2], \"domain\": [0.55, 1], \"showgrid\": true, \"showline\": false, \"showticklabels\": true, \"tickcolor\": \"rgb(127,127,127)\", \"ticks\": \"outside\", \"title\": \"Net Value ($)\", \"zeroline\": false}, \"yaxis1\": {\"gridcolor\": \"rgb(255,255,255)\", \"range\": [0], \"showgrid\": true, \"showline\": false, \"showticklabels\": true, \"tickcolor\": \"rgb(127,127,127)\", \"ticks\": \"outside\", \"title\": \"RT (s)\", \"anchor\": \"x1\", \"zeroline\": false}, \"yaxis2\": {\"gridcolor\": \"rgb(255,255,255)\", \"range\": [0], \"showgrid\": true, \"showline\": false, \"showticklabels\": true, \"tickcolor\": \"rgb(127,127,127)\", \"ticks\": \"outside\", \"title\": \"p (accept)\", \"anchor\": \"x2\", \"zeroline\": false}, \"annotations\": [{\"x\": 0.01, \"y\": 1.12, \"showarrow\": false, \"text\": \"PARAMETERS: v: 0.051, a: 0.279, \\u03b8: 0.325\", \"xref\": \"paper\", \"yref\": \"paper\"}, {\"x\": 0.01, \"y\": 1.08, \"showarrow\": false, \"text\": \"MLE: 545.84\", \"xref\": \"paper\", \"yref\": \"paper\"}, {\"x\": 0.01, \"y\": 1.2, \"showarrow\": false, \"text\": \"SUBJECT: 18\", \"font\": {\"family\": \"Arial, sans-serif\", \"size\": 22}, \"xref\": \"paper\", \"yref\": \"paper\"}]}, {\"showLink\": true, \"linkText\": \"Export to plot.ly\"})});</script>"
      ],
      "text/vnd.plotly.v1+html": [
       "<div id=\"a1b34c2a-cf10-4595-a8eb-7a868876ee9e\" style=\"height: 525px; width: 100%;\" class=\"plotly-graph-div\"></div><script type=\"text/javascript\">require([\"plotly\"], function(Plotly) { window.PLOTLYENV=window.PLOTLYENV || {};window.PLOTLYENV.BASE_URL=\"https://plot.ly\";Plotly.newPlot(\"a1b34c2a-cf10-4595-a8eb-7a868876ee9e\", [{\"type\": \"scatter\", \"x\": [-1.772083333333333, -0.8838461538461537, -0.33421052631578957, 0.024333333333333297, 0.3725, 0.8125000000000002, 1.83], \"y\": [4.605736603489882, 3.8519637532299393, 5.324609208156624, 5.217001316884611, 5.507023673424556, 4.792930399005855, 4.728539617575007], \"error_y\": {\"type\": \"data\", \"array\": [0.3680509445291431, 0.5755129816209081, 0.38509362436182015, 0.4491275041257742, 0.852034916485681, 0.5095410975414276, 0.7068623972539727], \"color\": \"rgb(0,170,80)\", \"visible\": true}, \"line\": {\"color\": \"rgb(0,100,80)\"}, \"mode\": \"lines+markers\", \"name\": \"Test Data\"}, {\"type\": \"scatter\", \"x\": [-1.772083333333333, -0.8838461538461537, -0.33421052631578957, 0.024333333333333297, 0.3725, 0.8125000000000002, 1.83], \"y\": [4.586547729005073, 5.329942605470556, 5.517697555232372, 5.533311047282374, 5.557141676310129, 5.267444979367237, 4.493801668806161], \"error_y\": {\"type\": \"data\", \"array\": [0.01458037556888633, 0.022930602761064067, 0.020053750362417116, 0.016293264153164736, 0.031030989923564796, 0.02051799806293193, 0.02199996099660767], \"color\": \"rgb(0,100,246)\", \"visible\": true}, \"line\": {\"color\": \"rgb(0,176,246)\"}, \"mode\": \"lines+markers\", \"name\": \"Sim Data\"}, {\"type\": \"scatter\", \"x\": [-1.772083333333333, -0.8838461538461537, -0.33421052631578957, 0.024333333333333297, 0.3725, 0.8125000000000002, 1.83], \"y\": [0.0, 0.0, 0.21052631578947367, 0.3, 0.5, 0.75, 0.9], \"error_y\": {\"type\": \"data\", \"array\": [0.0, 0.0, 0.09609167675529229, 0.08509629433967632, 0.1889822365046136, 0.11180339887498951, 0.09999999999999999], \"color\": \"rgb(0,170,80)\", \"visible\": true}, \"line\": {\"color\": \"rgb(0,100,80)\"}, \"mode\": \"lines+markers\", \"name\": \"Test Data\", \"xaxis\": \"x2\", \"yaxis\": \"y2\"}, {\"type\": \"scatter\", \"x\": [-1.772083333333333, -0.8838461538461537, -0.33421052631578957, 0.024333333333333297, 0.3725, 0.8125000000000002, 1.83], \"y\": [0.050755503743890956, 0.17088548910523876, 0.33984347946533694, 0.5223155103844455, 0.6521739130434783, 0.8298945437872536, 0.9600984167736414], \"error_y\": {\"type\": \"data\", \"array\": [0.001469801578235233, 0.003624682001790565, 0.003941934563678602, 0.003320506617403556, 0.0061243061936848975, 0.0032846092619633342, 0.0020244955172399786], \"color\": \"rgb(0,100,246)\", \"visible\": true}, \"line\": {\"color\": \"rgb(0,176,246)\"}, \"mode\": \"lines+markers\", \"name\": \"Sim Data\", \"xaxis\": \"x2\", \"yaxis\": \"y2\"}], {\"paper_bgcolor\": \"rgb(255,255,255)\", \"plot_bgcolor\": \"rgb(229,229,229)\", \"xaxis\": {\"gridcolor\": \"rgb(255,255,255)\", \"range\": [-2, 2], \"domain\": [0, 0.45], \"showgrid\": true, \"showline\": false, \"showticklabels\": true, \"tickcolor\": \"rgb(127,127,127)\", \"ticks\": \"outside\", \"title\": \"Net Value ($)\", \"zeroline\": false}, \"xaxis2\": {\"gridcolor\": \"rgb(255,255,255)\", \"range\": [-2, 2], \"domain\": [0.55, 1], \"showgrid\": true, \"showline\": false, \"showticklabels\": true, \"tickcolor\": \"rgb(127,127,127)\", \"ticks\": \"outside\", \"title\": \"Net Value ($)\", \"zeroline\": false}, \"yaxis1\": {\"gridcolor\": \"rgb(255,255,255)\", \"range\": [0], \"showgrid\": true, \"showline\": false, \"showticklabels\": true, \"tickcolor\": \"rgb(127,127,127)\", \"ticks\": \"outside\", \"title\": \"RT (s)\", \"anchor\": \"x1\", \"zeroline\": false}, \"yaxis2\": {\"gridcolor\": \"rgb(255,255,255)\", \"range\": [0], \"showgrid\": true, \"showline\": false, \"showticklabels\": true, \"tickcolor\": \"rgb(127,127,127)\", \"ticks\": \"outside\", \"title\": \"p (accept)\", \"anchor\": \"x2\", \"zeroline\": false}, \"annotations\": [{\"x\": 0.01, \"y\": 1.12, \"showarrow\": false, \"text\": \"PARAMETERS: v: 0.051, a: 0.279, \\u03b8: 0.325\", \"xref\": \"paper\", \"yref\": \"paper\"}, {\"x\": 0.01, \"y\": 1.08, \"showarrow\": false, \"text\": \"MLE: 545.84\", \"xref\": \"paper\", \"yref\": \"paper\"}, {\"x\": 0.01, \"y\": 1.2, \"showarrow\": false, \"text\": \"SUBJECT: 18\", \"font\": {\"family\": \"Arial, sans-serif\", \"size\": 22}, \"xref\": \"paper\", \"yref\": \"paper\"}]}, {\"showLink\": true, \"linkText\": \"Export to plot.ly\"})});</script>"
      ]
     },
     "metadata": {},
     "output_type": "display_data"
    },
    {
     "data": {
      "application/vnd.plotly.v1+json": {
       "data": [
        {
         "error_y": {
          "array": [
           0.36347757827473565,
           0.41969449774605894,
           0.5537102022977282,
           0.2719872546244865,
           0.41390432485629164,
           0.1770077216029409,
           0.28954639202011695
          ],
          "color": "rgb(0,170,80)",
          "type": "data",
          "visible": true
         },
         "line": {
          "color": "rgb(0,100,80)"
         },
         "mode": "lines+markers",
         "name": "Test Data",
         "type": "scatter",
         "x": [
          -1.6129629629629632,
          -0.8327777777777777,
          -0.29800000000000004,
          0.027352941176470573,
          0.28411764705882353,
          0.751304347826087,
          1.423125
         ],
         "y": [
          2.6532024520263944,
          2.8353583172073638,
          3.1601166128801794,
          2.749145881909713,
          2.4638971037005413,
          1.8037446145494678,
          2.09285406316485
         ]
        },
        {
         "error_y": {
          "array": [
           0.0053261243551364235,
           0.006782742936575375,
           0.0077646679621799705,
           0.004959599238199843,
           0.0071082632021849225,
           0.0060083383794362205,
           0.006893707868476975
          ],
          "color": "rgb(0,100,246)",
          "type": "data",
          "visible": true
         },
         "line": {
          "color": "rgb(0,176,246)"
         },
         "mode": "lines+markers",
         "name": "Sim Data",
         "type": "scatter",
         "x": [
          -1.6129629629629632,
          -0.8327777777777777,
          -0.29800000000000004,
          0.027352941176470573,
          0.28411764705882353,
          0.751304347826087,
          1.423125
         ],
         "y": [
          1.8909005555555662,
          1.9167728333333358,
          1.9652649999999998,
          1.9172942352941207,
          1.94940247058823,
          1.905807565217378,
          1.8791780625000118
         ]
        },
        {
         "error_y": {
          "array": [
           0.0513611292801138,
           0.05555555555555555,
           0.09085135251589957,
           0.07679896586280786,
           0.10604562574894086,
           0,
           0.06249999999999999
          ],
          "color": "rgb(0,170,80)",
          "type": "data",
          "visible": true
         },
         "line": {
          "color": "rgb(0,100,80)"
         },
         "mode": "lines+markers",
         "name": "Test Data",
         "type": "scatter",
         "x": [
          -1.6129629629629632,
          -0.8327777777777777,
          -0.29800000000000004,
          0.027352941176470573,
          0.28411764705882353,
          0.751304347826087,
          1.423125
         ],
         "xaxis": "x2",
         "y": [
          0.07407407407407407,
          0.05555555555555555,
          0.13333333333333333,
          0.7352941176470589,
          0.7647058823529411,
          1,
          0.9375
         ],
         "yaxis": "y2"
        },
        {
         "error_y": {
          "array": [
           0.0027317971389502387,
           0.003602801373881337,
           0.00405198827050375,
           0.0027113797090003527,
           0.0038142832998550318,
           0.003172669057605089,
           0.003655225027657347
          ],
          "color": "rgb(0,100,246)",
          "type": "data",
          "visible": true
         },
         "line": {
          "color": "rgb(0,176,246)"
         },
         "mode": "lines+markers",
         "name": "Sim Data",
         "type": "scatter",
         "x": [
          -1.6129629629629632,
          -0.8327777777777777,
          -0.29800000000000004,
          0.027352941176470573,
          0.28411764705882353,
          0.751304347826087,
          1.423125
         ],
         "xaxis": "x2",
         "y": [
          0.27974074074074073,
          0.37205555555555553,
          0.4388666666666667,
          0.5073235294117647,
          0.5518235294117647,
          0.636,
          0.690375
         ],
         "yaxis": "y2"
        }
       ],
       "layout": {
        "annotations": [
         {
          "showarrow": false,
          "text": "PARAMETERS: v: 0.051, a: 0.107, θ: 0.1",
          "x": 0.01,
          "xref": "paper",
          "y": 1.12,
          "yref": "paper"
         },
         {
          "showarrow": false,
          "text": "MLE: 812.56",
          "x": 0.01,
          "xref": "paper",
          "y": 1.08,
          "yref": "paper"
         },
         {
          "font": {
           "family": "Arial, sans-serif",
           "size": 22
          },
          "showarrow": false,
          "text": "SUBJECT: 19",
          "x": 0.01,
          "xref": "paper",
          "y": 1.2,
          "yref": "paper"
         }
        ],
        "paper_bgcolor": "rgb(255,255,255)",
        "plot_bgcolor": "rgb(229,229,229)",
        "xaxis": {
         "domain": [
          0,
          0.45
         ],
         "gridcolor": "rgb(255,255,255)",
         "range": [
          -2,
          2
         ],
         "showgrid": true,
         "showline": false,
         "showticklabels": true,
         "tickcolor": "rgb(127,127,127)",
         "ticks": "outside",
         "title": "Net Value ($)",
         "zeroline": false
        },
        "xaxis2": {
         "domain": [
          0.55,
          1
         ],
         "gridcolor": "rgb(255,255,255)",
         "range": [
          -2,
          2
         ],
         "showgrid": true,
         "showline": false,
         "showticklabels": true,
         "tickcolor": "rgb(127,127,127)",
         "ticks": "outside",
         "title": "Net Value ($)",
         "zeroline": false
        },
        "yaxis1": {
         "anchor": "x1",
         "gridcolor": "rgb(255,255,255)",
         "range": [
          0
         ],
         "showgrid": true,
         "showline": false,
         "showticklabels": true,
         "tickcolor": "rgb(127,127,127)",
         "ticks": "outside",
         "title": "RT (s)",
         "zeroline": false
        },
        "yaxis2": {
         "anchor": "x2",
         "gridcolor": "rgb(255,255,255)",
         "range": [
          0
         ],
         "showgrid": true,
         "showline": false,
         "showticklabels": true,
         "tickcolor": "rgb(127,127,127)",
         "ticks": "outside",
         "title": "p (accept)",
         "zeroline": false
        }
       }
      },
      "text/html": [
       "<div id=\"24ffff5f-54a8-4183-a499-d3e685023c8c\" style=\"height: 525px; width: 100%;\" class=\"plotly-graph-div\"></div><script type=\"text/javascript\">require([\"plotly\"], function(Plotly) { window.PLOTLYENV=window.PLOTLYENV || {};window.PLOTLYENV.BASE_URL=\"https://plot.ly\";Plotly.newPlot(\"24ffff5f-54a8-4183-a499-d3e685023c8c\", [{\"type\": \"scatter\", \"x\": [-1.6129629629629632, -0.8327777777777777, -0.29800000000000004, 0.027352941176470573, 0.28411764705882353, 0.751304347826087, 1.423125], \"y\": [2.6532024520263944, 2.8353583172073638, 3.1601166128801794, 2.749145881909713, 2.4638971037005413, 1.8037446145494678, 2.09285406316485], \"error_y\": {\"type\": \"data\", \"array\": [0.36347757827473565, 0.41969449774605894, 0.5537102022977282, 0.2719872546244865, 0.41390432485629164, 0.1770077216029409, 0.28954639202011695], \"color\": \"rgb(0,170,80)\", \"visible\": true}, \"line\": {\"color\": \"rgb(0,100,80)\"}, \"mode\": \"lines+markers\", \"name\": \"Test Data\"}, {\"type\": \"scatter\", \"x\": [-1.6129629629629632, -0.8327777777777777, -0.29800000000000004, 0.027352941176470573, 0.28411764705882353, 0.751304347826087, 1.423125], \"y\": [1.8909005555555662, 1.9167728333333358, 1.9652649999999998, 1.9172942352941207, 1.94940247058823, 1.905807565217378, 1.8791780625000118], \"error_y\": {\"type\": \"data\", \"array\": [0.0053261243551364235, 0.006782742936575375, 0.0077646679621799705, 0.004959599238199843, 0.0071082632021849225, 0.0060083383794362205, 0.006893707868476975], \"color\": \"rgb(0,100,246)\", \"visible\": true}, \"line\": {\"color\": \"rgb(0,176,246)\"}, \"mode\": \"lines+markers\", \"name\": \"Sim Data\"}, {\"type\": \"scatter\", \"x\": [-1.6129629629629632, -0.8327777777777777, -0.29800000000000004, 0.027352941176470573, 0.28411764705882353, 0.751304347826087, 1.423125], \"y\": [0.07407407407407407, 0.05555555555555555, 0.13333333333333333, 0.7352941176470589, 0.7647058823529411, 1.0, 0.9375], \"error_y\": {\"type\": \"data\", \"array\": [0.0513611292801138, 0.05555555555555555, 0.09085135251589957, 0.07679896586280786, 0.10604562574894086, 0.0, 0.06249999999999999], \"color\": \"rgb(0,170,80)\", \"visible\": true}, \"line\": {\"color\": \"rgb(0,100,80)\"}, \"mode\": \"lines+markers\", \"name\": \"Test Data\", \"xaxis\": \"x2\", \"yaxis\": \"y2\"}, {\"type\": \"scatter\", \"x\": [-1.6129629629629632, -0.8327777777777777, -0.29800000000000004, 0.027352941176470573, 0.28411764705882353, 0.751304347826087, 1.423125], \"y\": [0.27974074074074073, 0.37205555555555553, 0.4388666666666667, 0.5073235294117647, 0.5518235294117647, 0.636, 0.690375], \"error_y\": {\"type\": \"data\", \"array\": [0.0027317971389502387, 0.003602801373881337, 0.00405198827050375, 0.0027113797090003527, 0.0038142832998550318, 0.003172669057605089, 0.003655225027657347], \"color\": \"rgb(0,100,246)\", \"visible\": true}, \"line\": {\"color\": \"rgb(0,176,246)\"}, \"mode\": \"lines+markers\", \"name\": \"Sim Data\", \"xaxis\": \"x2\", \"yaxis\": \"y2\"}], {\"paper_bgcolor\": \"rgb(255,255,255)\", \"plot_bgcolor\": \"rgb(229,229,229)\", \"xaxis\": {\"gridcolor\": \"rgb(255,255,255)\", \"range\": [-2, 2], \"domain\": [0, 0.45], \"showgrid\": true, \"showline\": false, \"showticklabels\": true, \"tickcolor\": \"rgb(127,127,127)\", \"ticks\": \"outside\", \"title\": \"Net Value ($)\", \"zeroline\": false}, \"xaxis2\": {\"gridcolor\": \"rgb(255,255,255)\", \"range\": [-2, 2], \"domain\": [0.55, 1], \"showgrid\": true, \"showline\": false, \"showticklabels\": true, \"tickcolor\": \"rgb(127,127,127)\", \"ticks\": \"outside\", \"title\": \"Net Value ($)\", \"zeroline\": false}, \"yaxis1\": {\"gridcolor\": \"rgb(255,255,255)\", \"range\": [0], \"showgrid\": true, \"showline\": false, \"showticklabels\": true, \"tickcolor\": \"rgb(127,127,127)\", \"ticks\": \"outside\", \"title\": \"RT (s)\", \"anchor\": \"x1\", \"zeroline\": false}, \"yaxis2\": {\"gridcolor\": \"rgb(255,255,255)\", \"range\": [0], \"showgrid\": true, \"showline\": false, \"showticklabels\": true, \"tickcolor\": \"rgb(127,127,127)\", \"ticks\": \"outside\", \"title\": \"p (accept)\", \"anchor\": \"x2\", \"zeroline\": false}, \"annotations\": [{\"x\": 0.01, \"y\": 1.12, \"showarrow\": false, \"text\": \"PARAMETERS: v: 0.051, a: 0.107, \\u03b8: 0.1\", \"xref\": \"paper\", \"yref\": \"paper\"}, {\"x\": 0.01, \"y\": 1.08, \"showarrow\": false, \"text\": \"MLE: 812.56\", \"xref\": \"paper\", \"yref\": \"paper\"}, {\"x\": 0.01, \"y\": 1.2, \"showarrow\": false, \"text\": \"SUBJECT: 19\", \"font\": {\"family\": \"Arial, sans-serif\", \"size\": 22}, \"xref\": \"paper\", \"yref\": \"paper\"}]}, {\"showLink\": true, \"linkText\": \"Export to plot.ly\"})});</script>"
      ],
      "text/vnd.plotly.v1+html": [
       "<div id=\"24ffff5f-54a8-4183-a499-d3e685023c8c\" style=\"height: 525px; width: 100%;\" class=\"plotly-graph-div\"></div><script type=\"text/javascript\">require([\"plotly\"], function(Plotly) { window.PLOTLYENV=window.PLOTLYENV || {};window.PLOTLYENV.BASE_URL=\"https://plot.ly\";Plotly.newPlot(\"24ffff5f-54a8-4183-a499-d3e685023c8c\", [{\"type\": \"scatter\", \"x\": [-1.6129629629629632, -0.8327777777777777, -0.29800000000000004, 0.027352941176470573, 0.28411764705882353, 0.751304347826087, 1.423125], \"y\": [2.6532024520263944, 2.8353583172073638, 3.1601166128801794, 2.749145881909713, 2.4638971037005413, 1.8037446145494678, 2.09285406316485], \"error_y\": {\"type\": \"data\", \"array\": [0.36347757827473565, 0.41969449774605894, 0.5537102022977282, 0.2719872546244865, 0.41390432485629164, 0.1770077216029409, 0.28954639202011695], \"color\": \"rgb(0,170,80)\", \"visible\": true}, \"line\": {\"color\": \"rgb(0,100,80)\"}, \"mode\": \"lines+markers\", \"name\": \"Test Data\"}, {\"type\": \"scatter\", \"x\": [-1.6129629629629632, -0.8327777777777777, -0.29800000000000004, 0.027352941176470573, 0.28411764705882353, 0.751304347826087, 1.423125], \"y\": [1.8909005555555662, 1.9167728333333358, 1.9652649999999998, 1.9172942352941207, 1.94940247058823, 1.905807565217378, 1.8791780625000118], \"error_y\": {\"type\": \"data\", \"array\": [0.0053261243551364235, 0.006782742936575375, 0.0077646679621799705, 0.004959599238199843, 0.0071082632021849225, 0.0060083383794362205, 0.006893707868476975], \"color\": \"rgb(0,100,246)\", \"visible\": true}, \"line\": {\"color\": \"rgb(0,176,246)\"}, \"mode\": \"lines+markers\", \"name\": \"Sim Data\"}, {\"type\": \"scatter\", \"x\": [-1.6129629629629632, -0.8327777777777777, -0.29800000000000004, 0.027352941176470573, 0.28411764705882353, 0.751304347826087, 1.423125], \"y\": [0.07407407407407407, 0.05555555555555555, 0.13333333333333333, 0.7352941176470589, 0.7647058823529411, 1.0, 0.9375], \"error_y\": {\"type\": \"data\", \"array\": [0.0513611292801138, 0.05555555555555555, 0.09085135251589957, 0.07679896586280786, 0.10604562574894086, 0.0, 0.06249999999999999], \"color\": \"rgb(0,170,80)\", \"visible\": true}, \"line\": {\"color\": \"rgb(0,100,80)\"}, \"mode\": \"lines+markers\", \"name\": \"Test Data\", \"xaxis\": \"x2\", \"yaxis\": \"y2\"}, {\"type\": \"scatter\", \"x\": [-1.6129629629629632, -0.8327777777777777, -0.29800000000000004, 0.027352941176470573, 0.28411764705882353, 0.751304347826087, 1.423125], \"y\": [0.27974074074074073, 0.37205555555555553, 0.4388666666666667, 0.5073235294117647, 0.5518235294117647, 0.636, 0.690375], \"error_y\": {\"type\": \"data\", \"array\": [0.0027317971389502387, 0.003602801373881337, 0.00405198827050375, 0.0027113797090003527, 0.0038142832998550318, 0.003172669057605089, 0.003655225027657347], \"color\": \"rgb(0,100,246)\", \"visible\": true}, \"line\": {\"color\": \"rgb(0,176,246)\"}, \"mode\": \"lines+markers\", \"name\": \"Sim Data\", \"xaxis\": \"x2\", \"yaxis\": \"y2\"}], {\"paper_bgcolor\": \"rgb(255,255,255)\", \"plot_bgcolor\": \"rgb(229,229,229)\", \"xaxis\": {\"gridcolor\": \"rgb(255,255,255)\", \"range\": [-2, 2], \"domain\": [0, 0.45], \"showgrid\": true, \"showline\": false, \"showticklabels\": true, \"tickcolor\": \"rgb(127,127,127)\", \"ticks\": \"outside\", \"title\": \"Net Value ($)\", \"zeroline\": false}, \"xaxis2\": {\"gridcolor\": \"rgb(255,255,255)\", \"range\": [-2, 2], \"domain\": [0.55, 1], \"showgrid\": true, \"showline\": false, \"showticklabels\": true, \"tickcolor\": \"rgb(127,127,127)\", \"ticks\": \"outside\", \"title\": \"Net Value ($)\", \"zeroline\": false}, \"yaxis1\": {\"gridcolor\": \"rgb(255,255,255)\", \"range\": [0], \"showgrid\": true, \"showline\": false, \"showticklabels\": true, \"tickcolor\": \"rgb(127,127,127)\", \"ticks\": \"outside\", \"title\": \"RT (s)\", \"anchor\": \"x1\", \"zeroline\": false}, \"yaxis2\": {\"gridcolor\": \"rgb(255,255,255)\", \"range\": [0], \"showgrid\": true, \"showline\": false, \"showticklabels\": true, \"tickcolor\": \"rgb(127,127,127)\", \"ticks\": \"outside\", \"title\": \"p (accept)\", \"anchor\": \"x2\", \"zeroline\": false}, \"annotations\": [{\"x\": 0.01, \"y\": 1.12, \"showarrow\": false, \"text\": \"PARAMETERS: v: 0.051, a: 0.107, \\u03b8: 0.1\", \"xref\": \"paper\", \"yref\": \"paper\"}, {\"x\": 0.01, \"y\": 1.08, \"showarrow\": false, \"text\": \"MLE: 812.56\", \"xref\": \"paper\", \"yref\": \"paper\"}, {\"x\": 0.01, \"y\": 1.2, \"showarrow\": false, \"text\": \"SUBJECT: 19\", \"font\": {\"family\": \"Arial, sans-serif\", \"size\": 22}, \"xref\": \"paper\", \"yref\": \"paper\"}]}, {\"showLink\": true, \"linkText\": \"Export to plot.ly\"})});</script>"
      ]
     },
     "metadata": {},
     "output_type": "display_data"
    },
    {
     "data": {
      "application/vnd.plotly.v1+json": {
       "data": [
        {
         "error_y": {
          "array": [
           0.23889616603511812,
           0.26260143411660414,
           0.27200450372357604,
           0.1516952073407089,
           0.3579844042768868,
           0.4669457882395253,
           0.13479441445887105
          ],
          "color": "rgb(0,170,80)",
          "type": "data",
          "visible": true
         },
         "line": {
          "color": "rgb(0,100,80)"
         },
         "mode": "lines+markers",
         "name": "Test Data",
         "type": "scatter",
         "x": [
          -1.6838888888888888,
          -0.7804347826086955,
          -0.29956521739130443,
          0.044074074074074036,
          0.30272727272727273,
          0.7600000000000001,
          1.7135000000000002
         ],
         "y": [
          2.228803497292878,
          2.7841644772131047,
          2.653716179795319,
          2.532181894794727,
          2.858446059481304,
          2.591218919741611,
          1.8051307235728018
         ]
        },
        {
         "error_y": {
          "array": [
           0.012561432829414174,
           0.012089848632228712,
           0.012640718342669714,
           0.011459783106936175,
           0.012979784623806627,
           0.014622258468384466,
           0.01160971222191214
          ],
          "color": "rgb(0,100,246)",
          "type": "data",
          "visible": true
         },
         "line": {
          "color": "rgb(0,176,246)"
         },
         "mode": "lines+markers",
         "name": "Sim Data",
         "type": "scatter",
         "x": [
          -1.6838888888888888,
          -0.7804347826086955,
          -0.29956521739130443,
          0.044074074074074036,
          0.30272727272727273,
          0.7600000000000001,
          1.7135000000000002
         ],
         "y": [
          3.0056451721054973,
          3.1858085377089664,
          3.3600772110641426,
          3.27826316184192,
          3.3756832941826715,
          3.2130713997308136,
          3.0138892126815096
         ]
        },
        {
         "error_y": {
          "array": [
           0.05555555555555555,
           0.04347826086956522,
           0.10568965974008647,
           0.09470524295495533,
           0.04545454545454545,
           0.06666666666666665,
           0
          ],
          "color": "rgb(0,170,80)",
          "type": "data",
          "visible": true
         },
         "line": {
          "color": "rgb(0,100,80)"
         },
         "mode": "lines+markers",
         "name": "Test Data",
         "type": "scatter",
         "x": [
          -1.6838888888888888,
          -0.7804347826086955,
          -0.29956521739130443,
          0.044074074074074036,
          0.30272727272727273,
          0.7600000000000001,
          1.7135000000000002
         ],
         "xaxis": "x2",
         "y": [
          0.05555555555555555,
          0.043478260869565216,
          0.5652173913043478,
          0.6296296296296297,
          0.9545454545454546,
          0.9333333333333333,
          1
         ],
         "yaxis": "y2"
        },
        {
         "error_y": {
          "array": [
           0.002942384797037433,
           0.0031394649311535365,
           0.0032649619531471127,
           0.0030567997662582524,
           0.003362967509103306,
           0.003972482258353848,
           0.002742546487343818
          ],
          "color": "rgb(0,100,246)",
          "type": "data",
          "visible": true
         },
         "line": {
          "color": "rgb(0,176,246)"
         },
         "mode": "lines+markers",
         "name": "Sim Data",
         "type": "scatter",
         "x": [
          -1.6838888888888888,
          -0.7804347826086955,
          -0.29956521739130443,
          0.044074074074074036,
          0.30272727272727273,
          0.7600000000000001,
          1.7135000000000002
         ],
         "xaxis": "x2",
         "y": [
          0.1916629414394278,
          0.3407625148071776,
          0.41063248766737137,
          0.5286860656967152,
          0.5668555110312745,
          0.6245625841184388,
          0.8167110485856404
         ],
         "yaxis": "y2"
        }
       ],
       "layout": {
        "annotations": [
         {
          "showarrow": false,
          "text": "PARAMETERS: v: 0.051, a: 0.164, θ: 0.1",
          "x": 0.01,
          "xref": "paper",
          "y": 1.12,
          "yref": "paper"
         },
         {
          "showarrow": false,
          "text": "MLE: 662.54",
          "x": 0.01,
          "xref": "paper",
          "y": 1.08,
          "yref": "paper"
         },
         {
          "font": {
           "family": "Arial, sans-serif",
           "size": 22
          },
          "showarrow": false,
          "text": "SUBJECT: 20",
          "x": 0.01,
          "xref": "paper",
          "y": 1.2,
          "yref": "paper"
         }
        ],
        "paper_bgcolor": "rgb(255,255,255)",
        "plot_bgcolor": "rgb(229,229,229)",
        "xaxis": {
         "domain": [
          0,
          0.45
         ],
         "gridcolor": "rgb(255,255,255)",
         "range": [
          -2,
          2
         ],
         "showgrid": true,
         "showline": false,
         "showticklabels": true,
         "tickcolor": "rgb(127,127,127)",
         "ticks": "outside",
         "title": "Net Value ($)",
         "zeroline": false
        },
        "xaxis2": {
         "domain": [
          0.55,
          1
         ],
         "gridcolor": "rgb(255,255,255)",
         "range": [
          -2,
          2
         ],
         "showgrid": true,
         "showline": false,
         "showticklabels": true,
         "tickcolor": "rgb(127,127,127)",
         "ticks": "outside",
         "title": "Net Value ($)",
         "zeroline": false
        },
        "yaxis1": {
         "anchor": "x1",
         "gridcolor": "rgb(255,255,255)",
         "range": [
          0
         ],
         "showgrid": true,
         "showline": false,
         "showticklabels": true,
         "tickcolor": "rgb(127,127,127)",
         "ticks": "outside",
         "title": "RT (s)",
         "zeroline": false
        },
        "yaxis2": {
         "anchor": "x2",
         "gridcolor": "rgb(255,255,255)",
         "range": [
          0
         ],
         "showgrid": true,
         "showline": false,
         "showticklabels": true,
         "tickcolor": "rgb(127,127,127)",
         "ticks": "outside",
         "title": "p (accept)",
         "zeroline": false
        }
       }
      },
      "text/html": [
       "<div id=\"cee37f59-3908-4712-8f03-155b9aaec631\" style=\"height: 525px; width: 100%;\" class=\"plotly-graph-div\"></div><script type=\"text/javascript\">require([\"plotly\"], function(Plotly) { window.PLOTLYENV=window.PLOTLYENV || {};window.PLOTLYENV.BASE_URL=\"https://plot.ly\";Plotly.newPlot(\"cee37f59-3908-4712-8f03-155b9aaec631\", [{\"type\": \"scatter\", \"x\": [-1.6838888888888888, -0.7804347826086955, -0.29956521739130443, 0.044074074074074036, 0.30272727272727273, 0.7600000000000001, 1.7135000000000002], \"y\": [2.228803497292878, 2.7841644772131047, 2.653716179795319, 2.532181894794727, 2.858446059481304, 2.591218919741611, 1.8051307235728018], \"error_y\": {\"type\": \"data\", \"array\": [0.23889616603511812, 0.26260143411660414, 0.27200450372357604, 0.1516952073407089, 0.3579844042768868, 0.4669457882395253, 0.13479441445887105], \"color\": \"rgb(0,170,80)\", \"visible\": true}, \"line\": {\"color\": \"rgb(0,100,80)\"}, \"mode\": \"lines+markers\", \"name\": \"Test Data\"}, {\"type\": \"scatter\", \"x\": [-1.6838888888888888, -0.7804347826086955, -0.29956521739130443, 0.044074074074074036, 0.30272727272727273, 0.7600000000000001, 1.7135000000000002], \"y\": [3.0056451721054973, 3.1858085377089664, 3.3600772110641426, 3.27826316184192, 3.3756832941826715, 3.2130713997308136, 3.0138892126815096], \"error_y\": {\"type\": \"data\", \"array\": [0.012561432829414174, 0.012089848632228712, 0.012640718342669714, 0.011459783106936175, 0.012979784623806627, 0.014622258468384466, 0.01160971222191214], \"color\": \"rgb(0,100,246)\", \"visible\": true}, \"line\": {\"color\": \"rgb(0,176,246)\"}, \"mode\": \"lines+markers\", \"name\": \"Sim Data\"}, {\"type\": \"scatter\", \"x\": [-1.6838888888888888, -0.7804347826086955, -0.29956521739130443, 0.044074074074074036, 0.30272727272727273, 0.7600000000000001, 1.7135000000000002], \"y\": [0.05555555555555555, 0.043478260869565216, 0.5652173913043478, 0.6296296296296297, 0.9545454545454546, 0.9333333333333333, 1.0], \"error_y\": {\"type\": \"data\", \"array\": [0.05555555555555555, 0.04347826086956522, 0.10568965974008647, 0.09470524295495533, 0.04545454545454545, 0.06666666666666665, 0.0], \"color\": \"rgb(0,170,80)\", \"visible\": true}, \"line\": {\"color\": \"rgb(0,100,80)\"}, \"mode\": \"lines+markers\", \"name\": \"Test Data\", \"xaxis\": \"x2\", \"yaxis\": \"y2\"}, {\"type\": \"scatter\", \"x\": [-1.6838888888888888, -0.7804347826086955, -0.29956521739130443, 0.044074074074074036, 0.30272727272727273, 0.7600000000000001, 1.7135000000000002], \"y\": [0.1916629414394278, 0.3407625148071776, 0.41063248766737137, 0.5286860656967152, 0.5668555110312745, 0.6245625841184388, 0.8167110485856404], \"error_y\": {\"type\": \"data\", \"array\": [0.002942384797037433, 0.0031394649311535365, 0.0032649619531471127, 0.0030567997662582524, 0.003362967509103306, 0.003972482258353848, 0.002742546487343818], \"color\": \"rgb(0,100,246)\", \"visible\": true}, \"line\": {\"color\": \"rgb(0,176,246)\"}, \"mode\": \"lines+markers\", \"name\": \"Sim Data\", \"xaxis\": \"x2\", \"yaxis\": \"y2\"}], {\"paper_bgcolor\": \"rgb(255,255,255)\", \"plot_bgcolor\": \"rgb(229,229,229)\", \"xaxis\": {\"gridcolor\": \"rgb(255,255,255)\", \"range\": [-2, 2], \"domain\": [0, 0.45], \"showgrid\": true, \"showline\": false, \"showticklabels\": true, \"tickcolor\": \"rgb(127,127,127)\", \"ticks\": \"outside\", \"title\": \"Net Value ($)\", \"zeroline\": false}, \"xaxis2\": {\"gridcolor\": \"rgb(255,255,255)\", \"range\": [-2, 2], \"domain\": [0.55, 1], \"showgrid\": true, \"showline\": false, \"showticklabels\": true, \"tickcolor\": \"rgb(127,127,127)\", \"ticks\": \"outside\", \"title\": \"Net Value ($)\", \"zeroline\": false}, \"yaxis1\": {\"gridcolor\": \"rgb(255,255,255)\", \"range\": [0], \"showgrid\": true, \"showline\": false, \"showticklabels\": true, \"tickcolor\": \"rgb(127,127,127)\", \"ticks\": \"outside\", \"title\": \"RT (s)\", \"anchor\": \"x1\", \"zeroline\": false}, \"yaxis2\": {\"gridcolor\": \"rgb(255,255,255)\", \"range\": [0], \"showgrid\": true, \"showline\": false, \"showticklabels\": true, \"tickcolor\": \"rgb(127,127,127)\", \"ticks\": \"outside\", \"title\": \"p (accept)\", \"anchor\": \"x2\", \"zeroline\": false}, \"annotations\": [{\"x\": 0.01, \"y\": 1.12, \"showarrow\": false, \"text\": \"PARAMETERS: v: 0.051, a: 0.164, \\u03b8: 0.1\", \"xref\": \"paper\", \"yref\": \"paper\"}, {\"x\": 0.01, \"y\": 1.08, \"showarrow\": false, \"text\": \"MLE: 662.54\", \"xref\": \"paper\", \"yref\": \"paper\"}, {\"x\": 0.01, \"y\": 1.2, \"showarrow\": false, \"text\": \"SUBJECT: 20\", \"font\": {\"family\": \"Arial, sans-serif\", \"size\": 22}, \"xref\": \"paper\", \"yref\": \"paper\"}]}, {\"showLink\": true, \"linkText\": \"Export to plot.ly\"})});</script>"
      ],
      "text/vnd.plotly.v1+html": [
       "<div id=\"cee37f59-3908-4712-8f03-155b9aaec631\" style=\"height: 525px; width: 100%;\" class=\"plotly-graph-div\"></div><script type=\"text/javascript\">require([\"plotly\"], function(Plotly) { window.PLOTLYENV=window.PLOTLYENV || {};window.PLOTLYENV.BASE_URL=\"https://plot.ly\";Plotly.newPlot(\"cee37f59-3908-4712-8f03-155b9aaec631\", [{\"type\": \"scatter\", \"x\": [-1.6838888888888888, -0.7804347826086955, -0.29956521739130443, 0.044074074074074036, 0.30272727272727273, 0.7600000000000001, 1.7135000000000002], \"y\": [2.228803497292878, 2.7841644772131047, 2.653716179795319, 2.532181894794727, 2.858446059481304, 2.591218919741611, 1.8051307235728018], \"error_y\": {\"type\": \"data\", \"array\": [0.23889616603511812, 0.26260143411660414, 0.27200450372357604, 0.1516952073407089, 0.3579844042768868, 0.4669457882395253, 0.13479441445887105], \"color\": \"rgb(0,170,80)\", \"visible\": true}, \"line\": {\"color\": \"rgb(0,100,80)\"}, \"mode\": \"lines+markers\", \"name\": \"Test Data\"}, {\"type\": \"scatter\", \"x\": [-1.6838888888888888, -0.7804347826086955, -0.29956521739130443, 0.044074074074074036, 0.30272727272727273, 0.7600000000000001, 1.7135000000000002], \"y\": [3.0056451721054973, 3.1858085377089664, 3.3600772110641426, 3.27826316184192, 3.3756832941826715, 3.2130713997308136, 3.0138892126815096], \"error_y\": {\"type\": \"data\", \"array\": [0.012561432829414174, 0.012089848632228712, 0.012640718342669714, 0.011459783106936175, 0.012979784623806627, 0.014622258468384466, 0.01160971222191214], \"color\": \"rgb(0,100,246)\", \"visible\": true}, \"line\": {\"color\": \"rgb(0,176,246)\"}, \"mode\": \"lines+markers\", \"name\": \"Sim Data\"}, {\"type\": \"scatter\", \"x\": [-1.6838888888888888, -0.7804347826086955, -0.29956521739130443, 0.044074074074074036, 0.30272727272727273, 0.7600000000000001, 1.7135000000000002], \"y\": [0.05555555555555555, 0.043478260869565216, 0.5652173913043478, 0.6296296296296297, 0.9545454545454546, 0.9333333333333333, 1.0], \"error_y\": {\"type\": \"data\", \"array\": [0.05555555555555555, 0.04347826086956522, 0.10568965974008647, 0.09470524295495533, 0.04545454545454545, 0.06666666666666665, 0.0], \"color\": \"rgb(0,170,80)\", \"visible\": true}, \"line\": {\"color\": \"rgb(0,100,80)\"}, \"mode\": \"lines+markers\", \"name\": \"Test Data\", \"xaxis\": \"x2\", \"yaxis\": \"y2\"}, {\"type\": \"scatter\", \"x\": [-1.6838888888888888, -0.7804347826086955, -0.29956521739130443, 0.044074074074074036, 0.30272727272727273, 0.7600000000000001, 1.7135000000000002], \"y\": [0.1916629414394278, 0.3407625148071776, 0.41063248766737137, 0.5286860656967152, 0.5668555110312745, 0.6245625841184388, 0.8167110485856404], \"error_y\": {\"type\": \"data\", \"array\": [0.002942384797037433, 0.0031394649311535365, 0.0032649619531471127, 0.0030567997662582524, 0.003362967509103306, 0.003972482258353848, 0.002742546487343818], \"color\": \"rgb(0,100,246)\", \"visible\": true}, \"line\": {\"color\": \"rgb(0,176,246)\"}, \"mode\": \"lines+markers\", \"name\": \"Sim Data\", \"xaxis\": \"x2\", \"yaxis\": \"y2\"}], {\"paper_bgcolor\": \"rgb(255,255,255)\", \"plot_bgcolor\": \"rgb(229,229,229)\", \"xaxis\": {\"gridcolor\": \"rgb(255,255,255)\", \"range\": [-2, 2], \"domain\": [0, 0.45], \"showgrid\": true, \"showline\": false, \"showticklabels\": true, \"tickcolor\": \"rgb(127,127,127)\", \"ticks\": \"outside\", \"title\": \"Net Value ($)\", \"zeroline\": false}, \"xaxis2\": {\"gridcolor\": \"rgb(255,255,255)\", \"range\": [-2, 2], \"domain\": [0.55, 1], \"showgrid\": true, \"showline\": false, \"showticklabels\": true, \"tickcolor\": \"rgb(127,127,127)\", \"ticks\": \"outside\", \"title\": \"Net Value ($)\", \"zeroline\": false}, \"yaxis1\": {\"gridcolor\": \"rgb(255,255,255)\", \"range\": [0], \"showgrid\": true, \"showline\": false, \"showticklabels\": true, \"tickcolor\": \"rgb(127,127,127)\", \"ticks\": \"outside\", \"title\": \"RT (s)\", \"anchor\": \"x1\", \"zeroline\": false}, \"yaxis2\": {\"gridcolor\": \"rgb(255,255,255)\", \"range\": [0], \"showgrid\": true, \"showline\": false, \"showticklabels\": true, \"tickcolor\": \"rgb(127,127,127)\", \"ticks\": \"outside\", \"title\": \"p (accept)\", \"anchor\": \"x2\", \"zeroline\": false}, \"annotations\": [{\"x\": 0.01, \"y\": 1.12, \"showarrow\": false, \"text\": \"PARAMETERS: v: 0.051, a: 0.164, \\u03b8: 0.1\", \"xref\": \"paper\", \"yref\": \"paper\"}, {\"x\": 0.01, \"y\": 1.08, \"showarrow\": false, \"text\": \"MLE: 662.54\", \"xref\": \"paper\", \"yref\": \"paper\"}, {\"x\": 0.01, \"y\": 1.2, \"showarrow\": false, \"text\": \"SUBJECT: 20\", \"font\": {\"family\": \"Arial, sans-serif\", \"size\": 22}, \"xref\": \"paper\", \"yref\": \"paper\"}]}, {\"showLink\": true, \"linkText\": \"Export to plot.ly\"})});</script>"
      ]
     },
     "metadata": {},
     "output_type": "display_data"
    },
    {
     "data": {
      "application/vnd.plotly.v1+json": {
       "data": [
        {
         "error_y": {
          "array": [
           0.3118077256767805,
           0.4157580477162434,
           0.48536925440411977,
           0.30685050502357003,
           0.4993361362191596,
           0.4065925022607889,
           0.40756992153804006
          ],
          "color": "rgb(0,170,80)",
          "type": "data",
          "visible": true
         },
         "line": {
          "color": "rgb(0,100,80)"
         },
         "mode": "lines+markers",
         "name": "Test Data",
         "type": "scatter",
         "x": [
          -1.6585000000000005,
          -0.7378947368421054,
          -0.32650000000000007,
          0.029642857142857113,
          0.2914285714285714,
          0.796875,
          1.8939285714285716
         ],
         "y": [
          3.1716958259727117,
          2.8424107588913397,
          3.361843893039624,
          2.794557229453597,
          2.400198578547652,
          2.568326822467496,
          2.657539971324566
         ]
        },
        {
         "error_y": {
          "array": [
           0.011869993169473415,
           0.013442341872282864,
           0.013332304302489583,
           0.011316632323537341,
           0.016261976753365825,
           0.014275571179529838,
           0.009666054955119354
          ],
          "color": "rgb(0,100,246)",
          "type": "data",
          "visible": true
         },
         "line": {
          "color": "rgb(0,176,246)"
         },
         "mode": "lines+markers",
         "name": "Sim Data",
         "type": "scatter",
         "x": [
          -1.6585000000000005,
          -0.7378947368421054,
          -0.32650000000000007,
          0.029642857142857113,
          0.2914285714285714,
          0.796875,
          1.8939285714285716
         ],
         "y": [
          3.0098540285312625,
          3.2789506487981437,
          3.3458054880518513,
          3.2980764895039,
          3.3776657744339125,
          3.155164332576331,
          2.9424719552431657
         ]
        },
        {
         "error_y": {
          "array": [
           0.06882472016116851,
           0.07233518641434492,
           0.10942433098048311,
           0.09597925890831607,
           0.11380392954509881,
           0.11967838846954225,
           0.06734350297014739
          ],
          "color": "rgb(0,170,80)",
          "type": "data",
          "visible": true
         },
         "line": {
          "color": "rgb(0,100,80)"
         },
         "mode": "lines+markers",
         "name": "Test Data",
         "type": "scatter",
         "x": [
          -1.6585000000000005,
          -0.7378947368421054,
          -0.32650000000000007,
          0.029642857142857113,
          0.2914285714285714,
          0.796875,
          1.8939285714285716
         ],
         "xaxis": "x2",
         "y": [
          0.1,
          0.10526315789473684,
          0.65,
          0.5357142857142857,
          0.7857142857142857,
          0.6875,
          0.8571428571428571
         ],
         "yaxis": "y2"
        },
        {
         "error_y": {
          "array": [
           0.002745717896097248,
           0.003473414581680307,
           0.0035423134572409123,
           0.003002883866002801,
           0.004227947612694065,
           0.003685456770051942,
           0.0021947965967668145
          ],
          "color": "rgb(0,100,246)",
          "type": "data",
          "visible": true
         },
         "line": {
          "color": "rgb(0,176,246)"
         },
         "mode": "lines+markers",
         "name": "Sim Data",
         "type": "scatter",
         "x": [
          -1.6585000000000005,
          -0.7378947368421054,
          -0.32650000000000007,
          0.029642857142857113,
          0.2914285714285714,
          0.796875,
          1.8939285714285716
         ],
         "xaxis": "x2",
         "y": [
          0.18389592123769338,
          0.3478515209529887,
          0.453473066018631,
          0.5209018318459371,
          0.5540765391014975,
          0.6862856421902599,
          0.8401233682398508
         ],
         "yaxis": "y2"
        }
       ],
       "layout": {
        "annotations": [
         {
          "showarrow": false,
          "text": "PARAMETERS: v: 0.051, a: 0.164, θ: 0.1",
          "x": 0.01,
          "xref": "paper",
          "y": 1.12,
          "yref": "paper"
         },
         {
          "showarrow": false,
          "text": "MLE: 1135.7",
          "x": 0.01,
          "xref": "paper",
          "y": 1.08,
          "yref": "paper"
         },
         {
          "font": {
           "family": "Arial, sans-serif",
           "size": 22
          },
          "showarrow": false,
          "text": "SUBJECT: 21",
          "x": 0.01,
          "xref": "paper",
          "y": 1.2,
          "yref": "paper"
         }
        ],
        "paper_bgcolor": "rgb(255,255,255)",
        "plot_bgcolor": "rgb(229,229,229)",
        "xaxis": {
         "domain": [
          0,
          0.45
         ],
         "gridcolor": "rgb(255,255,255)",
         "range": [
          -2,
          2
         ],
         "showgrid": true,
         "showline": false,
         "showticklabels": true,
         "tickcolor": "rgb(127,127,127)",
         "ticks": "outside",
         "title": "Net Value ($)",
         "zeroline": false
        },
        "xaxis2": {
         "domain": [
          0.55,
          1
         ],
         "gridcolor": "rgb(255,255,255)",
         "range": [
          -2,
          2
         ],
         "showgrid": true,
         "showline": false,
         "showticklabels": true,
         "tickcolor": "rgb(127,127,127)",
         "ticks": "outside",
         "title": "Net Value ($)",
         "zeroline": false
        },
        "yaxis1": {
         "anchor": "x1",
         "gridcolor": "rgb(255,255,255)",
         "range": [
          0
         ],
         "showgrid": true,
         "showline": false,
         "showticklabels": true,
         "tickcolor": "rgb(127,127,127)",
         "ticks": "outside",
         "title": "RT (s)",
         "zeroline": false
        },
        "yaxis2": {
         "anchor": "x2",
         "gridcolor": "rgb(255,255,255)",
         "range": [
          0
         ],
         "showgrid": true,
         "showline": false,
         "showticklabels": true,
         "tickcolor": "rgb(127,127,127)",
         "ticks": "outside",
         "title": "p (accept)",
         "zeroline": false
        }
       }
      },
      "text/html": [
       "<div id=\"3d2674be-7ddd-4f47-96a2-7253064f0660\" style=\"height: 525px; width: 100%;\" class=\"plotly-graph-div\"></div><script type=\"text/javascript\">require([\"plotly\"], function(Plotly) { window.PLOTLYENV=window.PLOTLYENV || {};window.PLOTLYENV.BASE_URL=\"https://plot.ly\";Plotly.newPlot(\"3d2674be-7ddd-4f47-96a2-7253064f0660\", [{\"type\": \"scatter\", \"x\": [-1.6585000000000005, -0.7378947368421054, -0.32650000000000007, 0.029642857142857113, 0.2914285714285714, 0.796875, 1.8939285714285716], \"y\": [3.1716958259727117, 2.8424107588913397, 3.361843893039624, 2.794557229453597, 2.400198578547652, 2.568326822467496, 2.657539971324566], \"error_y\": {\"type\": \"data\", \"array\": [0.3118077256767805, 0.4157580477162434, 0.48536925440411977, 0.30685050502357003, 0.4993361362191596, 0.4065925022607889, 0.40756992153804006], \"color\": \"rgb(0,170,80)\", \"visible\": true}, \"line\": {\"color\": \"rgb(0,100,80)\"}, \"mode\": \"lines+markers\", \"name\": \"Test Data\"}, {\"type\": \"scatter\", \"x\": [-1.6585000000000005, -0.7378947368421054, -0.32650000000000007, 0.029642857142857113, 0.2914285714285714, 0.796875, 1.8939285714285716], \"y\": [3.0098540285312625, 3.2789506487981437, 3.3458054880518513, 3.2980764895039, 3.3776657744339125, 3.155164332576331, 2.9424719552431657], \"error_y\": {\"type\": \"data\", \"array\": [0.011869993169473415, 0.013442341872282864, 0.013332304302489583, 0.011316632323537341, 0.016261976753365825, 0.014275571179529838, 0.009666054955119354], \"color\": \"rgb(0,100,246)\", \"visible\": true}, \"line\": {\"color\": \"rgb(0,176,246)\"}, \"mode\": \"lines+markers\", \"name\": \"Sim Data\"}, {\"type\": \"scatter\", \"x\": [-1.6585000000000005, -0.7378947368421054, -0.32650000000000007, 0.029642857142857113, 0.2914285714285714, 0.796875, 1.8939285714285716], \"y\": [0.1, 0.10526315789473684, 0.65, 0.5357142857142857, 0.7857142857142857, 0.6875, 0.8571428571428571], \"error_y\": {\"type\": \"data\", \"array\": [0.06882472016116851, 0.07233518641434492, 0.10942433098048311, 0.09597925890831607, 0.11380392954509881, 0.11967838846954225, 0.06734350297014739], \"color\": \"rgb(0,170,80)\", \"visible\": true}, \"line\": {\"color\": \"rgb(0,100,80)\"}, \"mode\": \"lines+markers\", \"name\": \"Test Data\", \"xaxis\": \"x2\", \"yaxis\": \"y2\"}, {\"type\": \"scatter\", \"x\": [-1.6585000000000005, -0.7378947368421054, -0.32650000000000007, 0.029642857142857113, 0.2914285714285714, 0.796875, 1.8939285714285716], \"y\": [0.18389592123769338, 0.3478515209529887, 0.453473066018631, 0.5209018318459371, 0.5540765391014975, 0.6862856421902599, 0.8401233682398508], \"error_y\": {\"type\": \"data\", \"array\": [0.002745717896097248, 0.003473414581680307, 0.0035423134572409123, 0.003002883866002801, 0.004227947612694065, 0.003685456770051942, 0.0021947965967668145], \"color\": \"rgb(0,100,246)\", \"visible\": true}, \"line\": {\"color\": \"rgb(0,176,246)\"}, \"mode\": \"lines+markers\", \"name\": \"Sim Data\", \"xaxis\": \"x2\", \"yaxis\": \"y2\"}], {\"paper_bgcolor\": \"rgb(255,255,255)\", \"plot_bgcolor\": \"rgb(229,229,229)\", \"xaxis\": {\"gridcolor\": \"rgb(255,255,255)\", \"range\": [-2, 2], \"domain\": [0, 0.45], \"showgrid\": true, \"showline\": false, \"showticklabels\": true, \"tickcolor\": \"rgb(127,127,127)\", \"ticks\": \"outside\", \"title\": \"Net Value ($)\", \"zeroline\": false}, \"xaxis2\": {\"gridcolor\": \"rgb(255,255,255)\", \"range\": [-2, 2], \"domain\": [0.55, 1], \"showgrid\": true, \"showline\": false, \"showticklabels\": true, \"tickcolor\": \"rgb(127,127,127)\", \"ticks\": \"outside\", \"title\": \"Net Value ($)\", \"zeroline\": false}, \"yaxis1\": {\"gridcolor\": \"rgb(255,255,255)\", \"range\": [0], \"showgrid\": true, \"showline\": false, \"showticklabels\": true, \"tickcolor\": \"rgb(127,127,127)\", \"ticks\": \"outside\", \"title\": \"RT (s)\", \"anchor\": \"x1\", \"zeroline\": false}, \"yaxis2\": {\"gridcolor\": \"rgb(255,255,255)\", \"range\": [0], \"showgrid\": true, \"showline\": false, \"showticklabels\": true, \"tickcolor\": \"rgb(127,127,127)\", \"ticks\": \"outside\", \"title\": \"p (accept)\", \"anchor\": \"x2\", \"zeroline\": false}, \"annotations\": [{\"x\": 0.01, \"y\": 1.12, \"showarrow\": false, \"text\": \"PARAMETERS: v: 0.051, a: 0.164, \\u03b8: 0.1\", \"xref\": \"paper\", \"yref\": \"paper\"}, {\"x\": 0.01, \"y\": 1.08, \"showarrow\": false, \"text\": \"MLE: 1135.7\", \"xref\": \"paper\", \"yref\": \"paper\"}, {\"x\": 0.01, \"y\": 1.2, \"showarrow\": false, \"text\": \"SUBJECT: 21\", \"font\": {\"family\": \"Arial, sans-serif\", \"size\": 22}, \"xref\": \"paper\", \"yref\": \"paper\"}]}, {\"showLink\": true, \"linkText\": \"Export to plot.ly\"})});</script>"
      ],
      "text/vnd.plotly.v1+html": [
       "<div id=\"3d2674be-7ddd-4f47-96a2-7253064f0660\" style=\"height: 525px; width: 100%;\" class=\"plotly-graph-div\"></div><script type=\"text/javascript\">require([\"plotly\"], function(Plotly) { window.PLOTLYENV=window.PLOTLYENV || {};window.PLOTLYENV.BASE_URL=\"https://plot.ly\";Plotly.newPlot(\"3d2674be-7ddd-4f47-96a2-7253064f0660\", [{\"type\": \"scatter\", \"x\": [-1.6585000000000005, -0.7378947368421054, -0.32650000000000007, 0.029642857142857113, 0.2914285714285714, 0.796875, 1.8939285714285716], \"y\": [3.1716958259727117, 2.8424107588913397, 3.361843893039624, 2.794557229453597, 2.400198578547652, 2.568326822467496, 2.657539971324566], \"error_y\": {\"type\": \"data\", \"array\": [0.3118077256767805, 0.4157580477162434, 0.48536925440411977, 0.30685050502357003, 0.4993361362191596, 0.4065925022607889, 0.40756992153804006], \"color\": \"rgb(0,170,80)\", \"visible\": true}, \"line\": {\"color\": \"rgb(0,100,80)\"}, \"mode\": \"lines+markers\", \"name\": \"Test Data\"}, {\"type\": \"scatter\", \"x\": [-1.6585000000000005, -0.7378947368421054, -0.32650000000000007, 0.029642857142857113, 0.2914285714285714, 0.796875, 1.8939285714285716], \"y\": [3.0098540285312625, 3.2789506487981437, 3.3458054880518513, 3.2980764895039, 3.3776657744339125, 3.155164332576331, 2.9424719552431657], \"error_y\": {\"type\": \"data\", \"array\": [0.011869993169473415, 0.013442341872282864, 0.013332304302489583, 0.011316632323537341, 0.016261976753365825, 0.014275571179529838, 0.009666054955119354], \"color\": \"rgb(0,100,246)\", \"visible\": true}, \"line\": {\"color\": \"rgb(0,176,246)\"}, \"mode\": \"lines+markers\", \"name\": \"Sim Data\"}, {\"type\": \"scatter\", \"x\": [-1.6585000000000005, -0.7378947368421054, -0.32650000000000007, 0.029642857142857113, 0.2914285714285714, 0.796875, 1.8939285714285716], \"y\": [0.1, 0.10526315789473684, 0.65, 0.5357142857142857, 0.7857142857142857, 0.6875, 0.8571428571428571], \"error_y\": {\"type\": \"data\", \"array\": [0.06882472016116851, 0.07233518641434492, 0.10942433098048311, 0.09597925890831607, 0.11380392954509881, 0.11967838846954225, 0.06734350297014739], \"color\": \"rgb(0,170,80)\", \"visible\": true}, \"line\": {\"color\": \"rgb(0,100,80)\"}, \"mode\": \"lines+markers\", \"name\": \"Test Data\", \"xaxis\": \"x2\", \"yaxis\": \"y2\"}, {\"type\": \"scatter\", \"x\": [-1.6585000000000005, -0.7378947368421054, -0.32650000000000007, 0.029642857142857113, 0.2914285714285714, 0.796875, 1.8939285714285716], \"y\": [0.18389592123769338, 0.3478515209529887, 0.453473066018631, 0.5209018318459371, 0.5540765391014975, 0.6862856421902599, 0.8401233682398508], \"error_y\": {\"type\": \"data\", \"array\": [0.002745717896097248, 0.003473414581680307, 0.0035423134572409123, 0.003002883866002801, 0.004227947612694065, 0.003685456770051942, 0.0021947965967668145], \"color\": \"rgb(0,100,246)\", \"visible\": true}, \"line\": {\"color\": \"rgb(0,176,246)\"}, \"mode\": \"lines+markers\", \"name\": \"Sim Data\", \"xaxis\": \"x2\", \"yaxis\": \"y2\"}], {\"paper_bgcolor\": \"rgb(255,255,255)\", \"plot_bgcolor\": \"rgb(229,229,229)\", \"xaxis\": {\"gridcolor\": \"rgb(255,255,255)\", \"range\": [-2, 2], \"domain\": [0, 0.45], \"showgrid\": true, \"showline\": false, \"showticklabels\": true, \"tickcolor\": \"rgb(127,127,127)\", \"ticks\": \"outside\", \"title\": \"Net Value ($)\", \"zeroline\": false}, \"xaxis2\": {\"gridcolor\": \"rgb(255,255,255)\", \"range\": [-2, 2], \"domain\": [0.55, 1], \"showgrid\": true, \"showline\": false, \"showticklabels\": true, \"tickcolor\": \"rgb(127,127,127)\", \"ticks\": \"outside\", \"title\": \"Net Value ($)\", \"zeroline\": false}, \"yaxis1\": {\"gridcolor\": \"rgb(255,255,255)\", \"range\": [0], \"showgrid\": true, \"showline\": false, \"showticklabels\": true, \"tickcolor\": \"rgb(127,127,127)\", \"ticks\": \"outside\", \"title\": \"RT (s)\", \"anchor\": \"x1\", \"zeroline\": false}, \"yaxis2\": {\"gridcolor\": \"rgb(255,255,255)\", \"range\": [0], \"showgrid\": true, \"showline\": false, \"showticklabels\": true, \"tickcolor\": \"rgb(127,127,127)\", \"ticks\": \"outside\", \"title\": \"p (accept)\", \"anchor\": \"x2\", \"zeroline\": false}, \"annotations\": [{\"x\": 0.01, \"y\": 1.12, \"showarrow\": false, \"text\": \"PARAMETERS: v: 0.051, a: 0.164, \\u03b8: 0.1\", \"xref\": \"paper\", \"yref\": \"paper\"}, {\"x\": 0.01, \"y\": 1.08, \"showarrow\": false, \"text\": \"MLE: 1135.7\", \"xref\": \"paper\", \"yref\": \"paper\"}, {\"x\": 0.01, \"y\": 1.2, \"showarrow\": false, \"text\": \"SUBJECT: 21\", \"font\": {\"family\": \"Arial, sans-serif\", \"size\": 22}, \"xref\": \"paper\", \"yref\": \"paper\"}]}, {\"showLink\": true, \"linkText\": \"Export to plot.ly\"})});</script>"
      ]
     },
     "metadata": {},
     "output_type": "display_data"
    },
    {
     "data": {
      "application/vnd.plotly.v1+json": {
       "data": [
        {
         "error_y": {
          "array": [
           0.19173348011571628,
           0.5611668883511371,
           0.3445719090842054,
           0.3016608943141484,
           0.1986324750225816,
           0.376504634637793,
           0.20831930727925804
          ],
          "color": "rgb(0,170,80)",
          "type": "data",
          "visible": true
         },
         "line": {
          "color": "rgb(0,100,80)"
         },
         "mode": "lines+markers",
         "name": "Test Data",
         "type": "scatter",
         "x": [
          -1.6217391304347828,
          -0.765,
          -0.32772727272727276,
          0.036399999999999946,
          0.30249999999999994,
          0.7152941176470591,
          1.5676
         ],
         "y": [
          2.216818046609304,
          3.108484979552616,
          3.016053792057474,
          3.3867811144399464,
          2.9161136444114777,
          2.415822366468252,
          2.1334348148759457
         ]
        },
        {
         "error_y": {
          "array": [
           0.01082284527251988,
           0.015587388319832767,
           0.012967687660157873,
           0.011685688893218174,
           0.012315063568151782,
           0.013830314931974352,
           0.010650314671358109
          ],
          "color": "rgb(0,100,246)",
          "type": "data",
          "visible": true
         },
         "line": {
          "color": "rgb(0,176,246)"
         },
         "mode": "lines+markers",
         "name": "Sim Data",
         "type": "scatter",
         "x": [
          -1.6217391304347828,
          -0.765,
          -0.32772727272727276,
          0.036399999999999946,
          0.30249999999999994,
          0.7152941176470591,
          1.5676
         ],
         "y": [
          2.987280906743683,
          3.1970510491023254,
          3.3645804671693793,
          3.2036847782176725,
          3.3396333066115234,
          3.1591458271458324,
          3.020523003977975
         ]
        },
        {
         "error_y": {
          "array": [
           0,
           0.09705231721239391,
           0.09144861547306322,
           0.09165151389911681,
           0.09477598811252413,
           0,
           0.04
          ],
          "color": "rgb(0,170,80)",
          "type": "data",
          "visible": true
         },
         "line": {
          "color": "rgb(0,100,80)"
         },
         "mode": "lines+markers",
         "name": "Test Data",
         "type": "scatter",
         "x": [
          -1.6217391304347828,
          -0.765,
          -0.32772727272727276,
          0.036399999999999946,
          0.30249999999999994,
          0.7152941176470591,
          1.5676
         ],
         "xaxis": "x2",
         "y": [
          0,
          0.14285714285714285,
          0.22727272727272727,
          0.72,
          0.7083333333333334,
          1,
          0.96
         ],
         "yaxis": "y2"
        },
        {
         "error_y": {
          "array": [
           0.0025577843762613715,
           0.003988493910250558,
           0.003359299682101418,
           0.003173549108256671,
           0.0032203260017019766,
           0.0035892243945110976,
           0.0025032612450796186
          ],
          "color": "rgb(0,100,246)",
          "type": "data",
          "visible": true
         },
         "line": {
          "color": "rgb(0,176,246)"
         },
         "mode": "lines+markers",
         "name": "Sim Data",
         "type": "scatter",
         "x": [
          -1.6217391304347828,
          -0.765,
          -0.32772727272727276,
          0.036399999999999946,
          0.30249999999999994,
          0.7152941176470591,
          1.5676
         ],
         "xaxis": "x2",
         "y": [
          0.1829679226292066,
          0.32857451871079385,
          0.4322696339893323,
          0.47349923244728126,
          0.5649550651871229,
          0.682031482031482,
          0.8066862217221843
         ],
         "yaxis": "y2"
        }
       ],
       "layout": {
        "annotations": [
         {
          "showarrow": false,
          "text": "PARAMETERS: v: 0.051, a: 0.164, θ: 0.1",
          "x": 0.01,
          "xref": "paper",
          "y": 1.12,
          "yref": "paper"
         },
         {
          "showarrow": false,
          "text": "MLE: 643.18",
          "x": 0.01,
          "xref": "paper",
          "y": 1.08,
          "yref": "paper"
         },
         {
          "font": {
           "family": "Arial, sans-serif",
           "size": 22
          },
          "showarrow": false,
          "text": "SUBJECT: 22",
          "x": 0.01,
          "xref": "paper",
          "y": 1.2,
          "yref": "paper"
         }
        ],
        "paper_bgcolor": "rgb(255,255,255)",
        "plot_bgcolor": "rgb(229,229,229)",
        "xaxis": {
         "domain": [
          0,
          0.45
         ],
         "gridcolor": "rgb(255,255,255)",
         "range": [
          -2,
          2
         ],
         "showgrid": true,
         "showline": false,
         "showticklabels": true,
         "tickcolor": "rgb(127,127,127)",
         "ticks": "outside",
         "title": "Net Value ($)",
         "zeroline": false
        },
        "xaxis2": {
         "domain": [
          0.55,
          1
         ],
         "gridcolor": "rgb(255,255,255)",
         "range": [
          -2,
          2
         ],
         "showgrid": true,
         "showline": false,
         "showticklabels": true,
         "tickcolor": "rgb(127,127,127)",
         "ticks": "outside",
         "title": "Net Value ($)",
         "zeroline": false
        },
        "yaxis1": {
         "anchor": "x1",
         "gridcolor": "rgb(255,255,255)",
         "range": [
          0
         ],
         "showgrid": true,
         "showline": false,
         "showticklabels": true,
         "tickcolor": "rgb(127,127,127)",
         "ticks": "outside",
         "title": "RT (s)",
         "zeroline": false
        },
        "yaxis2": {
         "anchor": "x2",
         "gridcolor": "rgb(255,255,255)",
         "range": [
          0
         ],
         "showgrid": true,
         "showline": false,
         "showticklabels": true,
         "tickcolor": "rgb(127,127,127)",
         "ticks": "outside",
         "title": "p (accept)",
         "zeroline": false
        }
       }
      },
      "text/html": [
       "<div id=\"8619a23b-7b1d-4551-8437-78e419489358\" style=\"height: 525px; width: 100%;\" class=\"plotly-graph-div\"></div><script type=\"text/javascript\">require([\"plotly\"], function(Plotly) { window.PLOTLYENV=window.PLOTLYENV || {};window.PLOTLYENV.BASE_URL=\"https://plot.ly\";Plotly.newPlot(\"8619a23b-7b1d-4551-8437-78e419489358\", [{\"type\": \"scatter\", \"x\": [-1.6217391304347828, -0.765, -0.32772727272727276, 0.036399999999999946, 0.30249999999999994, 0.7152941176470591, 1.5676], \"y\": [2.216818046609304, 3.108484979552616, 3.016053792057474, 3.3867811144399464, 2.9161136444114777, 2.415822366468252, 2.1334348148759457], \"error_y\": {\"type\": \"data\", \"array\": [0.19173348011571628, 0.5611668883511371, 0.3445719090842054, 0.3016608943141484, 0.1986324750225816, 0.376504634637793, 0.20831930727925804], \"color\": \"rgb(0,170,80)\", \"visible\": true}, \"line\": {\"color\": \"rgb(0,100,80)\"}, \"mode\": \"lines+markers\", \"name\": \"Test Data\"}, {\"type\": \"scatter\", \"x\": [-1.6217391304347828, -0.765, -0.32772727272727276, 0.036399999999999946, 0.30249999999999994, 0.7152941176470591, 1.5676], \"y\": [2.987280906743683, 3.1970510491023254, 3.3645804671693793, 3.2036847782176725, 3.3396333066115234, 3.1591458271458324, 3.020523003977975], \"error_y\": {\"type\": \"data\", \"array\": [0.01082284527251988, 0.015587388319832767, 0.012967687660157873, 0.011685688893218174, 0.012315063568151782, 0.013830314931974352, 0.010650314671358109], \"color\": \"rgb(0,100,246)\", \"visible\": true}, \"line\": {\"color\": \"rgb(0,176,246)\"}, \"mode\": \"lines+markers\", \"name\": \"Sim Data\"}, {\"type\": \"scatter\", \"x\": [-1.6217391304347828, -0.765, -0.32772727272727276, 0.036399999999999946, 0.30249999999999994, 0.7152941176470591, 1.5676], \"y\": [0.0, 0.14285714285714285, 0.22727272727272727, 0.72, 0.7083333333333334, 1.0, 0.96], \"error_y\": {\"type\": \"data\", \"array\": [0.0, 0.09705231721239391, 0.09144861547306322, 0.09165151389911681, 0.09477598811252413, 0.0, 0.04], \"color\": \"rgb(0,170,80)\", \"visible\": true}, \"line\": {\"color\": \"rgb(0,100,80)\"}, \"mode\": \"lines+markers\", \"name\": \"Test Data\", \"xaxis\": \"x2\", \"yaxis\": \"y2\"}, {\"type\": \"scatter\", \"x\": [-1.6217391304347828, -0.765, -0.32772727272727276, 0.036399999999999946, 0.30249999999999994, 0.7152941176470591, 1.5676], \"y\": [0.1829679226292066, 0.32857451871079385, 0.4322696339893323, 0.47349923244728126, 0.5649550651871229, 0.682031482031482, 0.8066862217221843], \"error_y\": {\"type\": \"data\", \"array\": [0.0025577843762613715, 0.003988493910250558, 0.003359299682101418, 0.003173549108256671, 0.0032203260017019766, 0.0035892243945110976, 0.0025032612450796186], \"color\": \"rgb(0,100,246)\", \"visible\": true}, \"line\": {\"color\": \"rgb(0,176,246)\"}, \"mode\": \"lines+markers\", \"name\": \"Sim Data\", \"xaxis\": \"x2\", \"yaxis\": \"y2\"}], {\"paper_bgcolor\": \"rgb(255,255,255)\", \"plot_bgcolor\": \"rgb(229,229,229)\", \"xaxis\": {\"gridcolor\": \"rgb(255,255,255)\", \"range\": [-2, 2], \"domain\": [0, 0.45], \"showgrid\": true, \"showline\": false, \"showticklabels\": true, \"tickcolor\": \"rgb(127,127,127)\", \"ticks\": \"outside\", \"title\": \"Net Value ($)\", \"zeroline\": false}, \"xaxis2\": {\"gridcolor\": \"rgb(255,255,255)\", \"range\": [-2, 2], \"domain\": [0.55, 1], \"showgrid\": true, \"showline\": false, \"showticklabels\": true, \"tickcolor\": \"rgb(127,127,127)\", \"ticks\": \"outside\", \"title\": \"Net Value ($)\", \"zeroline\": false}, \"yaxis1\": {\"gridcolor\": \"rgb(255,255,255)\", \"range\": [0], \"showgrid\": true, \"showline\": false, \"showticklabels\": true, \"tickcolor\": \"rgb(127,127,127)\", \"ticks\": \"outside\", \"title\": \"RT (s)\", \"anchor\": \"x1\", \"zeroline\": false}, \"yaxis2\": {\"gridcolor\": \"rgb(255,255,255)\", \"range\": [0], \"showgrid\": true, \"showline\": false, \"showticklabels\": true, \"tickcolor\": \"rgb(127,127,127)\", \"ticks\": \"outside\", \"title\": \"p (accept)\", \"anchor\": \"x2\", \"zeroline\": false}, \"annotations\": [{\"x\": 0.01, \"y\": 1.12, \"showarrow\": false, \"text\": \"PARAMETERS: v: 0.051, a: 0.164, \\u03b8: 0.1\", \"xref\": \"paper\", \"yref\": \"paper\"}, {\"x\": 0.01, \"y\": 1.08, \"showarrow\": false, \"text\": \"MLE: 643.18\", \"xref\": \"paper\", \"yref\": \"paper\"}, {\"x\": 0.01, \"y\": 1.2, \"showarrow\": false, \"text\": \"SUBJECT: 22\", \"font\": {\"family\": \"Arial, sans-serif\", \"size\": 22}, \"xref\": \"paper\", \"yref\": \"paper\"}]}, {\"showLink\": true, \"linkText\": \"Export to plot.ly\"})});</script>"
      ],
      "text/vnd.plotly.v1+html": [
       "<div id=\"8619a23b-7b1d-4551-8437-78e419489358\" style=\"height: 525px; width: 100%;\" class=\"plotly-graph-div\"></div><script type=\"text/javascript\">require([\"plotly\"], function(Plotly) { window.PLOTLYENV=window.PLOTLYENV || {};window.PLOTLYENV.BASE_URL=\"https://plot.ly\";Plotly.newPlot(\"8619a23b-7b1d-4551-8437-78e419489358\", [{\"type\": \"scatter\", \"x\": [-1.6217391304347828, -0.765, -0.32772727272727276, 0.036399999999999946, 0.30249999999999994, 0.7152941176470591, 1.5676], \"y\": [2.216818046609304, 3.108484979552616, 3.016053792057474, 3.3867811144399464, 2.9161136444114777, 2.415822366468252, 2.1334348148759457], \"error_y\": {\"type\": \"data\", \"array\": [0.19173348011571628, 0.5611668883511371, 0.3445719090842054, 0.3016608943141484, 0.1986324750225816, 0.376504634637793, 0.20831930727925804], \"color\": \"rgb(0,170,80)\", \"visible\": true}, \"line\": {\"color\": \"rgb(0,100,80)\"}, \"mode\": \"lines+markers\", \"name\": \"Test Data\"}, {\"type\": \"scatter\", \"x\": [-1.6217391304347828, -0.765, -0.32772727272727276, 0.036399999999999946, 0.30249999999999994, 0.7152941176470591, 1.5676], \"y\": [2.987280906743683, 3.1970510491023254, 3.3645804671693793, 3.2036847782176725, 3.3396333066115234, 3.1591458271458324, 3.020523003977975], \"error_y\": {\"type\": \"data\", \"array\": [0.01082284527251988, 0.015587388319832767, 0.012967687660157873, 0.011685688893218174, 0.012315063568151782, 0.013830314931974352, 0.010650314671358109], \"color\": \"rgb(0,100,246)\", \"visible\": true}, \"line\": {\"color\": \"rgb(0,176,246)\"}, \"mode\": \"lines+markers\", \"name\": \"Sim Data\"}, {\"type\": \"scatter\", \"x\": [-1.6217391304347828, -0.765, -0.32772727272727276, 0.036399999999999946, 0.30249999999999994, 0.7152941176470591, 1.5676], \"y\": [0.0, 0.14285714285714285, 0.22727272727272727, 0.72, 0.7083333333333334, 1.0, 0.96], \"error_y\": {\"type\": \"data\", \"array\": [0.0, 0.09705231721239391, 0.09144861547306322, 0.09165151389911681, 0.09477598811252413, 0.0, 0.04], \"color\": \"rgb(0,170,80)\", \"visible\": true}, \"line\": {\"color\": \"rgb(0,100,80)\"}, \"mode\": \"lines+markers\", \"name\": \"Test Data\", \"xaxis\": \"x2\", \"yaxis\": \"y2\"}, {\"type\": \"scatter\", \"x\": [-1.6217391304347828, -0.765, -0.32772727272727276, 0.036399999999999946, 0.30249999999999994, 0.7152941176470591, 1.5676], \"y\": [0.1829679226292066, 0.32857451871079385, 0.4322696339893323, 0.47349923244728126, 0.5649550651871229, 0.682031482031482, 0.8066862217221843], \"error_y\": {\"type\": \"data\", \"array\": [0.0025577843762613715, 0.003988493910250558, 0.003359299682101418, 0.003173549108256671, 0.0032203260017019766, 0.0035892243945110976, 0.0025032612450796186], \"color\": \"rgb(0,100,246)\", \"visible\": true}, \"line\": {\"color\": \"rgb(0,176,246)\"}, \"mode\": \"lines+markers\", \"name\": \"Sim Data\", \"xaxis\": \"x2\", \"yaxis\": \"y2\"}], {\"paper_bgcolor\": \"rgb(255,255,255)\", \"plot_bgcolor\": \"rgb(229,229,229)\", \"xaxis\": {\"gridcolor\": \"rgb(255,255,255)\", \"range\": [-2, 2], \"domain\": [0, 0.45], \"showgrid\": true, \"showline\": false, \"showticklabels\": true, \"tickcolor\": \"rgb(127,127,127)\", \"ticks\": \"outside\", \"title\": \"Net Value ($)\", \"zeroline\": false}, \"xaxis2\": {\"gridcolor\": \"rgb(255,255,255)\", \"range\": [-2, 2], \"domain\": [0.55, 1], \"showgrid\": true, \"showline\": false, \"showticklabels\": true, \"tickcolor\": \"rgb(127,127,127)\", \"ticks\": \"outside\", \"title\": \"Net Value ($)\", \"zeroline\": false}, \"yaxis1\": {\"gridcolor\": \"rgb(255,255,255)\", \"range\": [0], \"showgrid\": true, \"showline\": false, \"showticklabels\": true, \"tickcolor\": \"rgb(127,127,127)\", \"ticks\": \"outside\", \"title\": \"RT (s)\", \"anchor\": \"x1\", \"zeroline\": false}, \"yaxis2\": {\"gridcolor\": \"rgb(255,255,255)\", \"range\": [0], \"showgrid\": true, \"showline\": false, \"showticklabels\": true, \"tickcolor\": \"rgb(127,127,127)\", \"ticks\": \"outside\", \"title\": \"p (accept)\", \"anchor\": \"x2\", \"zeroline\": false}, \"annotations\": [{\"x\": 0.01, \"y\": 1.12, \"showarrow\": false, \"text\": \"PARAMETERS: v: 0.051, a: 0.164, \\u03b8: 0.1\", \"xref\": \"paper\", \"yref\": \"paper\"}, {\"x\": 0.01, \"y\": 1.08, \"showarrow\": false, \"text\": \"MLE: 643.18\", \"xref\": \"paper\", \"yref\": \"paper\"}, {\"x\": 0.01, \"y\": 1.2, \"showarrow\": false, \"text\": \"SUBJECT: 22\", \"font\": {\"family\": \"Arial, sans-serif\", \"size\": 22}, \"xref\": \"paper\", \"yref\": \"paper\"}]}, {\"showLink\": true, \"linkText\": \"Export to plot.ly\"})});</script>"
      ]
     },
     "metadata": {},
     "output_type": "display_data"
    }
   ],
   "source": [
    "for i in range(23):\n",
    "    mplot.plotly_combined(i, subject_data, test_expdata, subj_params_df)"
   ]
  },
  {
   "cell_type": "code",
   "execution_count": null,
   "metadata": {
    "collapsed": true,
    "hidden": true
   },
   "outputs": [],
   "source": []
  }
 ],
 "metadata": {
  "anaconda-cloud": {},
  "kernelspec": {
   "display_name": "Python [conda env:Python3_MADE]",
   "language": "python",
   "name": "conda-env-Python3_MADE-py"
  },
  "language_info": {
   "codemirror_mode": {
    "name": "ipython",
    "version": 3
   },
   "file_extension": ".py",
   "mimetype": "text/x-python",
   "name": "python",
   "nbconvert_exporter": "python",
   "pygments_lexer": "ipython3",
   "version": "3.6.2"
  },
  "toc": {
   "nav_menu": {},
   "number_sections": true,
   "sideBar": true,
   "skip_h1_title": false,
   "title_cell": "Table of Contents",
   "title_sidebar": "Contents",
   "toc_cell": false,
   "toc_position": {},
   "toc_section_display": true,
   "toc_window_display": false
  }
 },
 "nbformat": 4,
 "nbformat_minor": 2
}
